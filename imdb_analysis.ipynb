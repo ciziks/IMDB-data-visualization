{
 "cells": [
  {
   "cell_type": "markdown",
   "metadata": {},
   "source": [
    "# IMDB Data Visualization\n",
    "\n",
    "## Projeto da disciplina **SSC0252 - Visualização Computacional**\n",
    "\n",
    "* Arthur Santorum Lorenzetto - arts.lorenzetto@usp.br - 12559465\n",
    "\n",
    "* Lucas Ivars Cadima Ciziks - luciziks@usp.br - 125599472\n",
    "\n",
    "* Gustavo Silva de Oliveira - guspfc03@usp.br - 12567231\n",
    "\n",
    "---"
   ]
  },
  {
   "cell_type": "markdown",
   "metadata": {},
   "source": [
    "# 1. Introdução"
   ]
  },
  {
   "cell_type": "markdown",
   "metadata": {},
   "source": [
    "O conjunto de dados ***IMDB Movies*** é uma valiosa fonte de informações para pesquisadores do mundo cinematográfico. Composta por uma seleção dos 1000 filmes mais bem avaliados na plataforma IMDB, essa base oferece uma visão abrangente das tendências culturais. Cada filme na base possui atributos interessantes, como o título do filme, os gêneros a que pertencem, o *rating* no IMDB e seu ano de lançamento, proporcionando assim um conjunto de dados robusto que pode ser utilizado para análises de tendências audiovisuais, pesquisas culturais e até mesmo em sistemas de recomendações. A riqueza de informações contidas nessa base de dados a torna uma ferramenta indispensável para explorar e compreender a evolução do cinema ao longo das décadas."
   ]
  },
  {
   "cell_type": "markdown",
   "metadata": {},
   "source": [
    "---"
   ]
  },
  {
   "cell_type": "markdown",
   "metadata": {},
   "source": [
    "# 2. Compreensão dos Dados"
   ]
  },
  {
   "cell_type": "markdown",
   "metadata": {},
   "source": [
    "O projeto está armazenado no respositório disponível em [Github](https://github.com/ciziks/IMDB-data-visualization)."
   ]
  },
  {
   "cell_type": "markdown",
   "metadata": {},
   "source": [
    "## 2.1. Coleta dos Dados"
   ]
  },
  {
   "cell_type": "markdown",
   "metadata": {},
   "source": [
    "O conjunto de dados utilizado para a análise do projeto foi extraído da plataforma Kaggle, disponível em [IMDB Movies Dataset](https://www.kaggle.com/datasets/harshitshankhdhar/imdb-dataset-of-top-1000-movies-and-tv-shows). Os dados se referem às 1000 produções audiovisuais com maior nota no site [IMDB](https://www.imdb.com)."
   ]
  },
  {
   "cell_type": "markdown",
   "metadata": {},
   "source": [
    "## 2.2. Dicionário de Dados"
   ]
  },
  {
   "cell_type": "markdown",
   "metadata": {},
   "source": [
    "* **Series_Title**: Nome do Filme;\n",
    "\n",
    "* **Released_Year** - Ano de lançamento do Filme;\n",
    "\n",
    "* **Certificate** - Certificado do Filme;\n",
    "\n",
    "* **Runtime** - Duração total do Filme;\n",
    "\n",
    "* **Genre** - Gêneros do Filme;\n",
    "\n",
    "* **IMDB_Rating** - Nota do Filme no site do IMDB (0 - 10);\n",
    "\n",
    "* **Overview** - Sinopse do Filme;\n",
    "\n",
    "* **Meta_score** - Nota do Filme no site do MetaCritic (0 - 100);\n",
    "\n",
    "* **Director** - Nome do Diretor;\n",
    "\n",
    "* **Star1, Star2, Star3, Star4** - Nome dos atores que estrelaram o Filme;\n",
    "\n",
    "* **No_of_votes** - Número de votos do Filme;\n",
    "\n",
    "* **Gross** - Arrecadação do Filme;\n",
    "\n",
    "* **Poster_Link** - Link do poster do Filme no IMDB."
   ]
  },
  {
   "cell_type": "markdown",
   "metadata": {},
   "source": [
    "## 2.3. Tipo das Variáveis"
   ]
  },
  {
   "cell_type": "markdown",
   "metadata": {},
   "source": [
    "* **Variáveis Qualitativas**\n",
    "    * Ordinais\n",
    "        * Released_Year;\n",
    "        * Certificate.\n",
    "\n",
    "    * Nominais:\n",
    "        * Series_Title;\n",
    "        * Genre;\n",
    "        * Overview;\n",
    "        * Director;\n",
    "        * Star1, Star2, Star3, Star4.\n",
    "\n",
    "\n",
    "\n",
    "* **Variáveis Quantitativas**:\n",
    "    * Discretas:\n",
    "        * Runtime;\n",
    "        * Meta_score;\n",
    "        * No_of_Votes.\n",
    "\n",
    "    * Contínuas:\n",
    "        * IMDB_Rating;\n",
    "        * Gross."
   ]
  },
  {
   "cell_type": "markdown",
   "metadata": {},
   "source": [
    "## 2.4. Questionamentos Iniciais\n",
    "\n",
    "* Como as características (duração, gênero, classificação indicativa, etc...) dos filmes no Top 1000 estão distribuídas?\n",
    "\n",
    "* Como os filmes do Top 1000 estãos distríbuidos no decorrer dos anos?\n",
    "\n",
    "* Quais diretores estão associados aos maiores *ratings*?\n",
    "\n",
    "* Que diretores mais arrecadaram com seus filmes?\n",
    "\n",
    "* Existe uma correlação da duração do filme com sua arrecadação?\n",
    "\n",
    "* Como o *rating* do filme está correlacionado com sua arrecadação (*gross*)?\n",
    "\n",
    "* Quais as palavras mais comuns nas sinopses dos filmes?\n",
    "\n",
    "* Existe uma correlação entre a nota no IMDB e o MetaScore?\n",
    "\n",
    "* Qual nota explica melhor a arrecadação do filme: IMDB ou MetaCritic?\n",
    "\n",
    "* Qual combinação de atores apresentam os melhores resultados de bilheteria?"
   ]
  },
  {
   "cell_type": "markdown",
   "metadata": {},
   "source": [
    "---"
   ]
  },
  {
   "cell_type": "markdown",
   "metadata": {},
   "source": [
    "# 3. Tratamento dos Dados"
   ]
  },
  {
   "cell_type": "code",
   "execution_count": 20,
   "metadata": {},
   "outputs": [],
   "source": [
    "# Importando Bibliotecas\n",
    "import pandas as pd\n",
    "import numpy as np\n",
    "import re\n",
    "import seaborn as sns\n",
    "import matplotlib.pyplot as plt\n",
    "import plotly.express as px\n",
    "import locale"
   ]
  },
  {
   "cell_type": "code",
   "execution_count": 21,
   "metadata": {
    "scrolled": true
   },
   "outputs": [
    {
     "data": {
      "text/html": [
       "<div>\n",
       "<style scoped>\n",
       "    .dataframe tbody tr th:only-of-type {\n",
       "        vertical-align: middle;\n",
       "    }\n",
       "\n",
       "    .dataframe tbody tr th {\n",
       "        vertical-align: top;\n",
       "    }\n",
       "\n",
       "    .dataframe thead th {\n",
       "        text-align: right;\n",
       "    }\n",
       "</style>\n",
       "<table border=\"1\" class=\"dataframe\">\n",
       "  <thead>\n",
       "    <tr style=\"text-align: right;\">\n",
       "      <th></th>\n",
       "      <th>Poster_Link</th>\n",
       "      <th>Series_Title</th>\n",
       "      <th>Released_Year</th>\n",
       "      <th>Certificate</th>\n",
       "      <th>Runtime</th>\n",
       "      <th>Genre</th>\n",
       "      <th>IMDB_Rating</th>\n",
       "      <th>Overview</th>\n",
       "      <th>Meta_score</th>\n",
       "      <th>Director</th>\n",
       "      <th>Star1</th>\n",
       "      <th>Star2</th>\n",
       "      <th>Star3</th>\n",
       "      <th>Star4</th>\n",
       "      <th>No_of_Votes</th>\n",
       "      <th>Gross</th>\n",
       "    </tr>\n",
       "  </thead>\n",
       "  <tbody>\n",
       "    <tr>\n",
       "      <th>0</th>\n",
       "      <td>https://m.media-amazon.com/images/M/MV5BMDFkYT...</td>\n",
       "      <td>The Shawshank Redemption</td>\n",
       "      <td>1994</td>\n",
       "      <td>A</td>\n",
       "      <td>142 min</td>\n",
       "      <td>Drama</td>\n",
       "      <td>9.3</td>\n",
       "      <td>Two imprisoned men bond over a number of years...</td>\n",
       "      <td>80.0</td>\n",
       "      <td>Frank Darabont</td>\n",
       "      <td>Tim Robbins</td>\n",
       "      <td>Morgan Freeman</td>\n",
       "      <td>Bob Gunton</td>\n",
       "      <td>William Sadler</td>\n",
       "      <td>2343110</td>\n",
       "      <td>28,341,469</td>\n",
       "    </tr>\n",
       "    <tr>\n",
       "      <th>1</th>\n",
       "      <td>https://m.media-amazon.com/images/M/MV5BM2MyNj...</td>\n",
       "      <td>The Godfather</td>\n",
       "      <td>1972</td>\n",
       "      <td>A</td>\n",
       "      <td>175 min</td>\n",
       "      <td>Crime, Drama</td>\n",
       "      <td>9.2</td>\n",
       "      <td>An organized crime dynasty's aging patriarch t...</td>\n",
       "      <td>100.0</td>\n",
       "      <td>Francis Ford Coppola</td>\n",
       "      <td>Marlon Brando</td>\n",
       "      <td>Al Pacino</td>\n",
       "      <td>James Caan</td>\n",
       "      <td>Diane Keaton</td>\n",
       "      <td>1620367</td>\n",
       "      <td>134,966,411</td>\n",
       "    </tr>\n",
       "    <tr>\n",
       "      <th>2</th>\n",
       "      <td>https://m.media-amazon.com/images/M/MV5BMTMxNT...</td>\n",
       "      <td>The Dark Knight</td>\n",
       "      <td>2008</td>\n",
       "      <td>UA</td>\n",
       "      <td>152 min</td>\n",
       "      <td>Action, Crime, Drama</td>\n",
       "      <td>9.0</td>\n",
       "      <td>When the menace known as the Joker wreaks havo...</td>\n",
       "      <td>84.0</td>\n",
       "      <td>Christopher Nolan</td>\n",
       "      <td>Christian Bale</td>\n",
       "      <td>Heath Ledger</td>\n",
       "      <td>Aaron Eckhart</td>\n",
       "      <td>Michael Caine</td>\n",
       "      <td>2303232</td>\n",
       "      <td>534,858,444</td>\n",
       "    </tr>\n",
       "    <tr>\n",
       "      <th>3</th>\n",
       "      <td>https://m.media-amazon.com/images/M/MV5BMWMwMG...</td>\n",
       "      <td>The Godfather: Part II</td>\n",
       "      <td>1974</td>\n",
       "      <td>A</td>\n",
       "      <td>202 min</td>\n",
       "      <td>Crime, Drama</td>\n",
       "      <td>9.0</td>\n",
       "      <td>The early life and career of Vito Corleone in ...</td>\n",
       "      <td>90.0</td>\n",
       "      <td>Francis Ford Coppola</td>\n",
       "      <td>Al Pacino</td>\n",
       "      <td>Robert De Niro</td>\n",
       "      <td>Robert Duvall</td>\n",
       "      <td>Diane Keaton</td>\n",
       "      <td>1129952</td>\n",
       "      <td>57,300,000</td>\n",
       "    </tr>\n",
       "    <tr>\n",
       "      <th>4</th>\n",
       "      <td>https://m.media-amazon.com/images/M/MV5BMWU4N2...</td>\n",
       "      <td>12 Angry Men</td>\n",
       "      <td>1957</td>\n",
       "      <td>U</td>\n",
       "      <td>96 min</td>\n",
       "      <td>Crime, Drama</td>\n",
       "      <td>9.0</td>\n",
       "      <td>A jury holdout attempts to prevent a miscarria...</td>\n",
       "      <td>96.0</td>\n",
       "      <td>Sidney Lumet</td>\n",
       "      <td>Henry Fonda</td>\n",
       "      <td>Lee J. Cobb</td>\n",
       "      <td>Martin Balsam</td>\n",
       "      <td>John Fiedler</td>\n",
       "      <td>689845</td>\n",
       "      <td>4,360,000</td>\n",
       "    </tr>\n",
       "  </tbody>\n",
       "</table>\n",
       "</div>"
      ],
      "text/plain": [
       "                                         Poster_Link  \\\n",
       "0  https://m.media-amazon.com/images/M/MV5BMDFkYT...   \n",
       "1  https://m.media-amazon.com/images/M/MV5BM2MyNj...   \n",
       "2  https://m.media-amazon.com/images/M/MV5BMTMxNT...   \n",
       "3  https://m.media-amazon.com/images/M/MV5BMWMwMG...   \n",
       "4  https://m.media-amazon.com/images/M/MV5BMWU4N2...   \n",
       "\n",
       "               Series_Title  Released_Year Certificate  Runtime  \\\n",
       "0  The Shawshank Redemption           1994           A  142 min   \n",
       "1             The Godfather           1972           A  175 min   \n",
       "2           The Dark Knight           2008          UA  152 min   \n",
       "3    The Godfather: Part II           1974           A  202 min   \n",
       "4              12 Angry Men           1957           U   96 min   \n",
       "\n",
       "                  Genre  IMDB_Rating  \\\n",
       "0                 Drama          9.3   \n",
       "1          Crime, Drama          9.2   \n",
       "2  Action, Crime, Drama          9.0   \n",
       "3          Crime, Drama          9.0   \n",
       "4          Crime, Drama          9.0   \n",
       "\n",
       "                                            Overview  Meta_score  \\\n",
       "0  Two imprisoned men bond over a number of years...        80.0   \n",
       "1  An organized crime dynasty's aging patriarch t...       100.0   \n",
       "2  When the menace known as the Joker wreaks havo...        84.0   \n",
       "3  The early life and career of Vito Corleone in ...        90.0   \n",
       "4  A jury holdout attempts to prevent a miscarria...        96.0   \n",
       "\n",
       "               Director           Star1           Star2          Star3  \\\n",
       "0        Frank Darabont     Tim Robbins  Morgan Freeman     Bob Gunton   \n",
       "1  Francis Ford Coppola   Marlon Brando       Al Pacino     James Caan   \n",
       "2     Christopher Nolan  Christian Bale    Heath Ledger  Aaron Eckhart   \n",
       "3  Francis Ford Coppola       Al Pacino  Robert De Niro  Robert Duvall   \n",
       "4          Sidney Lumet     Henry Fonda     Lee J. Cobb  Martin Balsam   \n",
       "\n",
       "            Star4  No_of_Votes        Gross  \n",
       "0  William Sadler      2343110   28,341,469  \n",
       "1    Diane Keaton      1620367  134,966,411  \n",
       "2   Michael Caine      2303232  534,858,444  \n",
       "3    Diane Keaton      1129952   57,300,000  \n",
       "4    John Fiedler       689845    4,360,000  "
      ]
     },
     "execution_count": 21,
     "metadata": {},
     "output_type": "execute_result"
    }
   ],
   "source": [
    "# Coletando Base de Dados\n",
    "df = pd.read_csv(\"./imdb_top_1000.csv\")\n",
    "df.head()"
   ]
  },
  {
   "cell_type": "code",
   "execution_count": 22,
   "metadata": {
    "scrolled": true
   },
   "outputs": [
    {
     "data": {
      "text/plain": [
       "Index(['Poster_Link', 'Series_Title', 'Released_Year', 'Certificate',\n",
       "       'Runtime', 'Genre', 'IMDB_Rating', 'Overview', 'Meta_score', 'Director',\n",
       "       'Star1', 'Star2', 'Star3', 'Star4', 'No_of_Votes', 'Gross'],\n",
       "      dtype='object')"
      ]
     },
     "execution_count": 22,
     "metadata": {},
     "output_type": "execute_result"
    }
   ],
   "source": [
    "# Visualizando colunas\n",
    "df.columns"
   ]
  },
  {
   "cell_type": "code",
   "execution_count": 23,
   "metadata": {},
   "outputs": [
    {
     "data": {
      "text/plain": [
       "Poster_Link       object\n",
       "Series_Title      object\n",
       "Released_Year      int64\n",
       "Certificate       object\n",
       "Runtime           object\n",
       "Genre             object\n",
       "IMDB_Rating      float64\n",
       "Overview          object\n",
       "Meta_score       float64\n",
       "Director          object\n",
       "Star1             object\n",
       "Star2             object\n",
       "Star3             object\n",
       "Star4             object\n",
       "No_of_Votes        int64\n",
       "Gross             object\n",
       "dtype: object"
      ]
     },
     "execution_count": 23,
     "metadata": {},
     "output_type": "execute_result"
    }
   ],
   "source": [
    "# Verificando Tipos das Colunas\n",
    "df.dtypes"
   ]
  },
  {
   "cell_type": "code",
   "execution_count": 24,
   "metadata": {},
   "outputs": [],
   "source": [
    "# Removendo coluna do Poster (Desinteressante à Análise)\n",
    "df.drop(columns=['Poster_Link'], inplace = True)"
   ]
  },
  {
   "cell_type": "code",
   "execution_count": 25,
   "metadata": {},
   "outputs": [],
   "source": [
    "# Transformando Gross em um valor numérico\n",
    "def gross_to_numeric(gross):\n",
    "    if isinstance(gross, str):\n",
    "        return float(\"\".join(re.findall(r\"\\d\", gross)))\n",
    "    return gross\n",
    "\n",
    "df[\"Gross\"] = df[\"Gross\"].apply(gross_to_numeric)"
   ]
  },
  {
   "cell_type": "code",
   "execution_count": 26,
   "metadata": {},
   "outputs": [
    {
     "data": {
      "text/plain": [
       "286"
      ]
     },
     "execution_count": 26,
     "metadata": {},
     "output_type": "execute_result"
    }
   ],
   "source": [
    "# 286 Filmes com valores nulos\n",
    "len(df[df.isna().any(axis=1)])"
   ]
  },
  {
   "cell_type": "code",
   "execution_count": 27,
   "metadata": {},
   "outputs": [
    {
     "data": {
      "text/html": [
       "<div>\n",
       "<style scoped>\n",
       "    .dataframe tbody tr th:only-of-type {\n",
       "        vertical-align: middle;\n",
       "    }\n",
       "\n",
       "    .dataframe tbody tr th {\n",
       "        vertical-align: top;\n",
       "    }\n",
       "\n",
       "    .dataframe thead th {\n",
       "        text-align: right;\n",
       "    }\n",
       "</style>\n",
       "<table border=\"1\" class=\"dataframe\">\n",
       "  <thead>\n",
       "    <tr style=\"text-align: right;\">\n",
       "      <th></th>\n",
       "      <th>Certificate</th>\n",
       "      <th>Meta_score</th>\n",
       "      <th>Gross</th>\n",
       "    </tr>\n",
       "  </thead>\n",
       "  <tbody>\n",
       "    <tr>\n",
       "      <th>0</th>\n",
       "      <td>A</td>\n",
       "      <td>80.0</td>\n",
       "      <td>28341469.0</td>\n",
       "    </tr>\n",
       "    <tr>\n",
       "      <th>1</th>\n",
       "      <td>A</td>\n",
       "      <td>100.0</td>\n",
       "      <td>134966411.0</td>\n",
       "    </tr>\n",
       "    <tr>\n",
       "      <th>2</th>\n",
       "      <td>UA</td>\n",
       "      <td>84.0</td>\n",
       "      <td>534858444.0</td>\n",
       "    </tr>\n",
       "    <tr>\n",
       "      <th>3</th>\n",
       "      <td>A</td>\n",
       "      <td>90.0</td>\n",
       "      <td>57300000.0</td>\n",
       "    </tr>\n",
       "    <tr>\n",
       "      <th>4</th>\n",
       "      <td>U</td>\n",
       "      <td>96.0</td>\n",
       "      <td>4360000.0</td>\n",
       "    </tr>\n",
       "    <tr>\n",
       "      <th>...</th>\n",
       "      <td>...</td>\n",
       "      <td>...</td>\n",
       "      <td>...</td>\n",
       "    </tr>\n",
       "    <tr>\n",
       "      <th>995</th>\n",
       "      <td>A</td>\n",
       "      <td>76.0</td>\n",
       "      <td>NaN</td>\n",
       "    </tr>\n",
       "    <tr>\n",
       "      <th>996</th>\n",
       "      <td>G</td>\n",
       "      <td>84.0</td>\n",
       "      <td>NaN</td>\n",
       "    </tr>\n",
       "    <tr>\n",
       "      <th>997</th>\n",
       "      <td>Passed</td>\n",
       "      <td>85.0</td>\n",
       "      <td>30500000.0</td>\n",
       "    </tr>\n",
       "    <tr>\n",
       "      <th>998</th>\n",
       "      <td>NaN</td>\n",
       "      <td>78.0</td>\n",
       "      <td>NaN</td>\n",
       "    </tr>\n",
       "    <tr>\n",
       "      <th>999</th>\n",
       "      <td>NaN</td>\n",
       "      <td>93.0</td>\n",
       "      <td>NaN</td>\n",
       "    </tr>\n",
       "  </tbody>\n",
       "</table>\n",
       "<p>1000 rows × 3 columns</p>\n",
       "</div>"
      ],
      "text/plain": [
       "    Certificate  Meta_score        Gross\n",
       "0             A        80.0   28341469.0\n",
       "1             A       100.0  134966411.0\n",
       "2            UA        84.0  534858444.0\n",
       "3             A        90.0   57300000.0\n",
       "4             U        96.0    4360000.0\n",
       "..          ...         ...          ...\n",
       "995           A        76.0          NaN\n",
       "996           G        84.0          NaN\n",
       "997      Passed        85.0   30500000.0\n",
       "998         NaN        78.0          NaN\n",
       "999         NaN        93.0          NaN\n",
       "\n",
       "[1000 rows x 3 columns]"
      ]
     },
     "execution_count": 27,
     "metadata": {},
     "output_type": "execute_result"
    }
   ],
   "source": [
    "# As Colunas onde há valores NaN são: Certificate, Meta_score, Gross\n",
    "df[df.columns[df.isna().any()]]"
   ]
  },
  {
   "cell_type": "code",
   "execution_count": 28,
   "metadata": {
    "scrolled": true
   },
   "outputs": [
    {
     "data": {
      "text/html": [
       "<div>\n",
       "<style scoped>\n",
       "    .dataframe tbody tr th:only-of-type {\n",
       "        vertical-align: middle;\n",
       "    }\n",
       "\n",
       "    .dataframe tbody tr th {\n",
       "        vertical-align: top;\n",
       "    }\n",
       "\n",
       "    .dataframe thead th {\n",
       "        text-align: right;\n",
       "    }\n",
       "</style>\n",
       "<table border=\"1\" class=\"dataframe\">\n",
       "  <thead>\n",
       "    <tr style=\"text-align: right;\">\n",
       "      <th></th>\n",
       "      <th>IMDB_Rating</th>\n",
       "      <th>Meta_score</th>\n",
       "      <th>Gross</th>\n",
       "    </tr>\n",
       "  </thead>\n",
       "  <tbody>\n",
       "    <tr>\n",
       "      <th>count</th>\n",
       "      <td>1000.000000</td>\n",
       "      <td>843.000000</td>\n",
       "      <td>8.310000e+02</td>\n",
       "    </tr>\n",
       "    <tr>\n",
       "      <th>mean</th>\n",
       "      <td>7.949300</td>\n",
       "      <td>77.971530</td>\n",
       "      <td>6.803475e+07</td>\n",
       "    </tr>\n",
       "    <tr>\n",
       "      <th>std</th>\n",
       "      <td>0.275491</td>\n",
       "      <td>12.376099</td>\n",
       "      <td>1.097500e+08</td>\n",
       "    </tr>\n",
       "    <tr>\n",
       "      <th>min</th>\n",
       "      <td>7.600000</td>\n",
       "      <td>28.000000</td>\n",
       "      <td>1.305000e+03</td>\n",
       "    </tr>\n",
       "    <tr>\n",
       "      <th>25%</th>\n",
       "      <td>7.700000</td>\n",
       "      <td>70.000000</td>\n",
       "      <td>3.253559e+06</td>\n",
       "    </tr>\n",
       "    <tr>\n",
       "      <th>50%</th>\n",
       "      <td>7.900000</td>\n",
       "      <td>79.000000</td>\n",
       "      <td>2.353089e+07</td>\n",
       "    </tr>\n",
       "    <tr>\n",
       "      <th>75%</th>\n",
       "      <td>8.100000</td>\n",
       "      <td>87.000000</td>\n",
       "      <td>8.075089e+07</td>\n",
       "    </tr>\n",
       "    <tr>\n",
       "      <th>max</th>\n",
       "      <td>9.300000</td>\n",
       "      <td>100.000000</td>\n",
       "      <td>9.366622e+08</td>\n",
       "    </tr>\n",
       "  </tbody>\n",
       "</table>\n",
       "</div>"
      ],
      "text/plain": [
       "       IMDB_Rating  Meta_score         Gross\n",
       "count  1000.000000  843.000000  8.310000e+02\n",
       "mean      7.949300   77.971530  6.803475e+07\n",
       "std       0.275491   12.376099  1.097500e+08\n",
       "min       7.600000   28.000000  1.305000e+03\n",
       "25%       7.700000   70.000000  3.253559e+06\n",
       "50%       7.900000   79.000000  2.353089e+07\n",
       "75%       8.100000   87.000000  8.075089e+07\n",
       "max       9.300000  100.000000  9.366622e+08"
      ]
     },
     "execution_count": 28,
     "metadata": {},
     "output_type": "execute_result"
    }
   ],
   "source": [
    "# Inputação dos valores médios?\n",
    "df[['IMDB_Rating','Meta_score','Gross']].describe()"
   ]
  },
  {
   "cell_type": "code",
   "execution_count": 29,
   "metadata": {},
   "outputs": [],
   "source": [
    "# Dropando valores NaN\n",
    "df.dropna(inplace=True)"
   ]
  },
  {
   "cell_type": "markdown",
   "metadata": {},
   "source": [
    "---"
   ]
  },
  {
   "cell_type": "markdown",
   "metadata": {},
   "source": [
    "# 4. Análise Exploratória dos Dados"
   ]
  },
  {
   "cell_type": "markdown",
   "metadata": {},
   "source": [
    "## 4.1. Análise Univariada"
   ]
  },
  {
   "cell_type": "markdown",
   "metadata": {},
   "source": [
    "**Classificação Indicativa dos Filmes**: Para verificar a proporção de cada classificação indicativa no Top 1000 filmes do IMDB, utilizaremos um **Gráfico de Pizza**, pois se trata de uma variável categórica nominal.\n",
    "\n",
    "Como é possível observar, há 4 categorias superiores às outras: \n",
    "* **A** - *Adults*: Apenas adultos (+18)\n",
    "* **UA**: Livre, porém crianças de 12 anos devem estar acompanhadas\n",
    "* **U** - *Unrestricted*: Classificação Livre\n",
    "* **R** - *Restricted*: Adolescentes (+16) acompanhados"
   ]
  },
  {
   "cell_type": "code",
   "execution_count": 30,
   "metadata": {},
   "outputs": [
    {
     "data": {
      "application/vnd.plotly.v1+json": {
       "config": {
        "plotlyServerURL": "https://plot.ly"
       },
       "data": [
        {
         "domain": {
          "x": [
           0,
           1
          ],
          "y": [
           0,
           1
          ]
         },
         "hovertemplate": "label=%{label}<br>value=%{value}<extra></extra>",
         "labels": [
          "A",
          "UA",
          "U",
          "R",
          "G",
          "PG-13",
          "PG",
          "Passed",
          "Approved",
          "TV-PG",
          "U/A",
          "GP"
         ],
         "legendgroup": "",
         "name": "",
         "pull": 0.02,
         "showlegend": true,
         "type": "pie",
         "values": [
          183,
          174,
          142,
          131,
          38,
          19,
          9,
          9,
          6,
          1,
          1,
          1
         ]
        }
       ],
       "layout": {
        "legend": {
         "tracegroupgap": 0
        },
        "template": {
         "data": {
          "bar": [
           {
            "error_x": {
             "color": "#2a3f5f"
            },
            "error_y": {
             "color": "#2a3f5f"
            },
            "marker": {
             "line": {
              "color": "#E5ECF6",
              "width": 0.5
             },
             "pattern": {
              "fillmode": "overlay",
              "size": 10,
              "solidity": 0.2
             }
            },
            "type": "bar"
           }
          ],
          "barpolar": [
           {
            "marker": {
             "line": {
              "color": "#E5ECF6",
              "width": 0.5
             },
             "pattern": {
              "fillmode": "overlay",
              "size": 10,
              "solidity": 0.2
             }
            },
            "type": "barpolar"
           }
          ],
          "carpet": [
           {
            "aaxis": {
             "endlinecolor": "#2a3f5f",
             "gridcolor": "white",
             "linecolor": "white",
             "minorgridcolor": "white",
             "startlinecolor": "#2a3f5f"
            },
            "baxis": {
             "endlinecolor": "#2a3f5f",
             "gridcolor": "white",
             "linecolor": "white",
             "minorgridcolor": "white",
             "startlinecolor": "#2a3f5f"
            },
            "type": "carpet"
           }
          ],
          "choropleth": [
           {
            "colorbar": {
             "outlinewidth": 0,
             "ticks": ""
            },
            "type": "choropleth"
           }
          ],
          "contour": [
           {
            "colorbar": {
             "outlinewidth": 0,
             "ticks": ""
            },
            "colorscale": [
             [
              0,
              "#0d0887"
             ],
             [
              0.1111111111111111,
              "#46039f"
             ],
             [
              0.2222222222222222,
              "#7201a8"
             ],
             [
              0.3333333333333333,
              "#9c179e"
             ],
             [
              0.4444444444444444,
              "#bd3786"
             ],
             [
              0.5555555555555556,
              "#d8576b"
             ],
             [
              0.6666666666666666,
              "#ed7953"
             ],
             [
              0.7777777777777778,
              "#fb9f3a"
             ],
             [
              0.8888888888888888,
              "#fdca26"
             ],
             [
              1,
              "#f0f921"
             ]
            ],
            "type": "contour"
           }
          ],
          "contourcarpet": [
           {
            "colorbar": {
             "outlinewidth": 0,
             "ticks": ""
            },
            "type": "contourcarpet"
           }
          ],
          "heatmap": [
           {
            "colorbar": {
             "outlinewidth": 0,
             "ticks": ""
            },
            "colorscale": [
             [
              0,
              "#0d0887"
             ],
             [
              0.1111111111111111,
              "#46039f"
             ],
             [
              0.2222222222222222,
              "#7201a8"
             ],
             [
              0.3333333333333333,
              "#9c179e"
             ],
             [
              0.4444444444444444,
              "#bd3786"
             ],
             [
              0.5555555555555556,
              "#d8576b"
             ],
             [
              0.6666666666666666,
              "#ed7953"
             ],
             [
              0.7777777777777778,
              "#fb9f3a"
             ],
             [
              0.8888888888888888,
              "#fdca26"
             ],
             [
              1,
              "#f0f921"
             ]
            ],
            "type": "heatmap"
           }
          ],
          "heatmapgl": [
           {
            "colorbar": {
             "outlinewidth": 0,
             "ticks": ""
            },
            "colorscale": [
             [
              0,
              "#0d0887"
             ],
             [
              0.1111111111111111,
              "#46039f"
             ],
             [
              0.2222222222222222,
              "#7201a8"
             ],
             [
              0.3333333333333333,
              "#9c179e"
             ],
             [
              0.4444444444444444,
              "#bd3786"
             ],
             [
              0.5555555555555556,
              "#d8576b"
             ],
             [
              0.6666666666666666,
              "#ed7953"
             ],
             [
              0.7777777777777778,
              "#fb9f3a"
             ],
             [
              0.8888888888888888,
              "#fdca26"
             ],
             [
              1,
              "#f0f921"
             ]
            ],
            "type": "heatmapgl"
           }
          ],
          "histogram": [
           {
            "marker": {
             "pattern": {
              "fillmode": "overlay",
              "size": 10,
              "solidity": 0.2
             }
            },
            "type": "histogram"
           }
          ],
          "histogram2d": [
           {
            "colorbar": {
             "outlinewidth": 0,
             "ticks": ""
            },
            "colorscale": [
             [
              0,
              "#0d0887"
             ],
             [
              0.1111111111111111,
              "#46039f"
             ],
             [
              0.2222222222222222,
              "#7201a8"
             ],
             [
              0.3333333333333333,
              "#9c179e"
             ],
             [
              0.4444444444444444,
              "#bd3786"
             ],
             [
              0.5555555555555556,
              "#d8576b"
             ],
             [
              0.6666666666666666,
              "#ed7953"
             ],
             [
              0.7777777777777778,
              "#fb9f3a"
             ],
             [
              0.8888888888888888,
              "#fdca26"
             ],
             [
              1,
              "#f0f921"
             ]
            ],
            "type": "histogram2d"
           }
          ],
          "histogram2dcontour": [
           {
            "colorbar": {
             "outlinewidth": 0,
             "ticks": ""
            },
            "colorscale": [
             [
              0,
              "#0d0887"
             ],
             [
              0.1111111111111111,
              "#46039f"
             ],
             [
              0.2222222222222222,
              "#7201a8"
             ],
             [
              0.3333333333333333,
              "#9c179e"
             ],
             [
              0.4444444444444444,
              "#bd3786"
             ],
             [
              0.5555555555555556,
              "#d8576b"
             ],
             [
              0.6666666666666666,
              "#ed7953"
             ],
             [
              0.7777777777777778,
              "#fb9f3a"
             ],
             [
              0.8888888888888888,
              "#fdca26"
             ],
             [
              1,
              "#f0f921"
             ]
            ],
            "type": "histogram2dcontour"
           }
          ],
          "mesh3d": [
           {
            "colorbar": {
             "outlinewidth": 0,
             "ticks": ""
            },
            "type": "mesh3d"
           }
          ],
          "parcoords": [
           {
            "line": {
             "colorbar": {
              "outlinewidth": 0,
              "ticks": ""
             }
            },
            "type": "parcoords"
           }
          ],
          "pie": [
           {
            "automargin": true,
            "type": "pie"
           }
          ],
          "scatter": [
           {
            "fillpattern": {
             "fillmode": "overlay",
             "size": 10,
             "solidity": 0.2
            },
            "type": "scatter"
           }
          ],
          "scatter3d": [
           {
            "line": {
             "colorbar": {
              "outlinewidth": 0,
              "ticks": ""
             }
            },
            "marker": {
             "colorbar": {
              "outlinewidth": 0,
              "ticks": ""
             }
            },
            "type": "scatter3d"
           }
          ],
          "scattercarpet": [
           {
            "marker": {
             "colorbar": {
              "outlinewidth": 0,
              "ticks": ""
             }
            },
            "type": "scattercarpet"
           }
          ],
          "scattergeo": [
           {
            "marker": {
             "colorbar": {
              "outlinewidth": 0,
              "ticks": ""
             }
            },
            "type": "scattergeo"
           }
          ],
          "scattergl": [
           {
            "marker": {
             "colorbar": {
              "outlinewidth": 0,
              "ticks": ""
             }
            },
            "type": "scattergl"
           }
          ],
          "scattermapbox": [
           {
            "marker": {
             "colorbar": {
              "outlinewidth": 0,
              "ticks": ""
             }
            },
            "type": "scattermapbox"
           }
          ],
          "scatterpolar": [
           {
            "marker": {
             "colorbar": {
              "outlinewidth": 0,
              "ticks": ""
             }
            },
            "type": "scatterpolar"
           }
          ],
          "scatterpolargl": [
           {
            "marker": {
             "colorbar": {
              "outlinewidth": 0,
              "ticks": ""
             }
            },
            "type": "scatterpolargl"
           }
          ],
          "scatterternary": [
           {
            "marker": {
             "colorbar": {
              "outlinewidth": 0,
              "ticks": ""
             }
            },
            "type": "scatterternary"
           }
          ],
          "surface": [
           {
            "colorbar": {
             "outlinewidth": 0,
             "ticks": ""
            },
            "colorscale": [
             [
              0,
              "#0d0887"
             ],
             [
              0.1111111111111111,
              "#46039f"
             ],
             [
              0.2222222222222222,
              "#7201a8"
             ],
             [
              0.3333333333333333,
              "#9c179e"
             ],
             [
              0.4444444444444444,
              "#bd3786"
             ],
             [
              0.5555555555555556,
              "#d8576b"
             ],
             [
              0.6666666666666666,
              "#ed7953"
             ],
             [
              0.7777777777777778,
              "#fb9f3a"
             ],
             [
              0.8888888888888888,
              "#fdca26"
             ],
             [
              1,
              "#f0f921"
             ]
            ],
            "type": "surface"
           }
          ],
          "table": [
           {
            "cells": {
             "fill": {
              "color": "#EBF0F8"
             },
             "line": {
              "color": "white"
             }
            },
            "header": {
             "fill": {
              "color": "#C8D4E3"
             },
             "line": {
              "color": "white"
             }
            },
            "type": "table"
           }
          ]
         },
         "layout": {
          "annotationdefaults": {
           "arrowcolor": "#2a3f5f",
           "arrowhead": 0,
           "arrowwidth": 1
          },
          "autotypenumbers": "strict",
          "coloraxis": {
           "colorbar": {
            "outlinewidth": 0,
            "ticks": ""
           }
          },
          "colorscale": {
           "diverging": [
            [
             0,
             "#8e0152"
            ],
            [
             0.1,
             "#c51b7d"
            ],
            [
             0.2,
             "#de77ae"
            ],
            [
             0.3,
             "#f1b6da"
            ],
            [
             0.4,
             "#fde0ef"
            ],
            [
             0.5,
             "#f7f7f7"
            ],
            [
             0.6,
             "#e6f5d0"
            ],
            [
             0.7,
             "#b8e186"
            ],
            [
             0.8,
             "#7fbc41"
            ],
            [
             0.9,
             "#4d9221"
            ],
            [
             1,
             "#276419"
            ]
           ],
           "sequential": [
            [
             0,
             "#0d0887"
            ],
            [
             0.1111111111111111,
             "#46039f"
            ],
            [
             0.2222222222222222,
             "#7201a8"
            ],
            [
             0.3333333333333333,
             "#9c179e"
            ],
            [
             0.4444444444444444,
             "#bd3786"
            ],
            [
             0.5555555555555556,
             "#d8576b"
            ],
            [
             0.6666666666666666,
             "#ed7953"
            ],
            [
             0.7777777777777778,
             "#fb9f3a"
            ],
            [
             0.8888888888888888,
             "#fdca26"
            ],
            [
             1,
             "#f0f921"
            ]
           ],
           "sequentialminus": [
            [
             0,
             "#0d0887"
            ],
            [
             0.1111111111111111,
             "#46039f"
            ],
            [
             0.2222222222222222,
             "#7201a8"
            ],
            [
             0.3333333333333333,
             "#9c179e"
            ],
            [
             0.4444444444444444,
             "#bd3786"
            ],
            [
             0.5555555555555556,
             "#d8576b"
            ],
            [
             0.6666666666666666,
             "#ed7953"
            ],
            [
             0.7777777777777778,
             "#fb9f3a"
            ],
            [
             0.8888888888888888,
             "#fdca26"
            ],
            [
             1,
             "#f0f921"
            ]
           ]
          },
          "colorway": [
           "#636efa",
           "#EF553B",
           "#00cc96",
           "#ab63fa",
           "#FFA15A",
           "#19d3f3",
           "#FF6692",
           "#B6E880",
           "#FF97FF",
           "#FECB52"
          ],
          "font": {
           "color": "#2a3f5f"
          },
          "geo": {
           "bgcolor": "white",
           "lakecolor": "white",
           "landcolor": "#E5ECF6",
           "showlakes": true,
           "showland": true,
           "subunitcolor": "white"
          },
          "hoverlabel": {
           "align": "left"
          },
          "hovermode": "closest",
          "mapbox": {
           "style": "light"
          },
          "paper_bgcolor": "white",
          "plot_bgcolor": "#E5ECF6",
          "polar": {
           "angularaxis": {
            "gridcolor": "white",
            "linecolor": "white",
            "ticks": ""
           },
           "bgcolor": "#E5ECF6",
           "radialaxis": {
            "gridcolor": "white",
            "linecolor": "white",
            "ticks": ""
           }
          },
          "scene": {
           "xaxis": {
            "backgroundcolor": "#E5ECF6",
            "gridcolor": "white",
            "gridwidth": 2,
            "linecolor": "white",
            "showbackground": true,
            "ticks": "",
            "zerolinecolor": "white"
           },
           "yaxis": {
            "backgroundcolor": "#E5ECF6",
            "gridcolor": "white",
            "gridwidth": 2,
            "linecolor": "white",
            "showbackground": true,
            "ticks": "",
            "zerolinecolor": "white"
           },
           "zaxis": {
            "backgroundcolor": "#E5ECF6",
            "gridcolor": "white",
            "gridwidth": 2,
            "linecolor": "white",
            "showbackground": true,
            "ticks": "",
            "zerolinecolor": "white"
           }
          },
          "shapedefaults": {
           "line": {
            "color": "#2a3f5f"
           }
          },
          "ternary": {
           "aaxis": {
            "gridcolor": "white",
            "linecolor": "white",
            "ticks": ""
           },
           "baxis": {
            "gridcolor": "white",
            "linecolor": "white",
            "ticks": ""
           },
           "bgcolor": "#E5ECF6",
           "caxis": {
            "gridcolor": "white",
            "linecolor": "white",
            "ticks": ""
           }
          },
          "title": {
           "x": 0.05
          },
          "xaxis": {
           "automargin": true,
           "gridcolor": "white",
           "linecolor": "white",
           "ticks": "",
           "title": {
            "standoff": 15
           },
           "zerolinecolor": "white",
           "zerolinewidth": 2
          },
          "yaxis": {
           "automargin": true,
           "gridcolor": "white",
           "linecolor": "white",
           "ticks": "",
           "title": {
            "standoff": 15
           },
           "zerolinecolor": "white",
           "zerolinewidth": 2
          }
         }
        },
        "title": {
         "text": "Classificação Indicativa dos Filmes no Top 1000 do IMDB"
        }
       }
      },
      "text/html": [
       "<div>                            <div id=\"a3296831-50f0-45d7-9005-eedeeb60a429\" class=\"plotly-graph-div\" style=\"height:525px; width:100%;\"></div>            <script type=\"text/javascript\">                require([\"plotly\"], function(Plotly) {                    window.PLOTLYENV=window.PLOTLYENV || {};                                    if (document.getElementById(\"a3296831-50f0-45d7-9005-eedeeb60a429\")) {                    Plotly.newPlot(                        \"a3296831-50f0-45d7-9005-eedeeb60a429\",                        [{\"domain\":{\"x\":[0.0,1.0],\"y\":[0.0,1.0]},\"hovertemplate\":\"label=%{label}<br>value=%{value}<extra></extra>\",\"labels\":[\"A\",\"UA\",\"U\",\"R\",\"G\",\"PG-13\",\"PG\",\"Passed\",\"Approved\",\"TV-PG\",\"U/A\",\"GP\"],\"legendgroup\":\"\",\"name\":\"\",\"showlegend\":true,\"values\":[183,174,142,131,38,19,9,9,6,1,1,1],\"type\":\"pie\",\"pull\":0.02}],                        {\"template\":{\"data\":{\"histogram2dcontour\":[{\"type\":\"histogram2dcontour\",\"colorbar\":{\"outlinewidth\":0,\"ticks\":\"\"},\"colorscale\":[[0.0,\"#0d0887\"],[0.1111111111111111,\"#46039f\"],[0.2222222222222222,\"#7201a8\"],[0.3333333333333333,\"#9c179e\"],[0.4444444444444444,\"#bd3786\"],[0.5555555555555556,\"#d8576b\"],[0.6666666666666666,\"#ed7953\"],[0.7777777777777778,\"#fb9f3a\"],[0.8888888888888888,\"#fdca26\"],[1.0,\"#f0f921\"]]}],\"choropleth\":[{\"type\":\"choropleth\",\"colorbar\":{\"outlinewidth\":0,\"ticks\":\"\"}}],\"histogram2d\":[{\"type\":\"histogram2d\",\"colorbar\":{\"outlinewidth\":0,\"ticks\":\"\"},\"colorscale\":[[0.0,\"#0d0887\"],[0.1111111111111111,\"#46039f\"],[0.2222222222222222,\"#7201a8\"],[0.3333333333333333,\"#9c179e\"],[0.4444444444444444,\"#bd3786\"],[0.5555555555555556,\"#d8576b\"],[0.6666666666666666,\"#ed7953\"],[0.7777777777777778,\"#fb9f3a\"],[0.8888888888888888,\"#fdca26\"],[1.0,\"#f0f921\"]]}],\"heatmap\":[{\"type\":\"heatmap\",\"colorbar\":{\"outlinewidth\":0,\"ticks\":\"\"},\"colorscale\":[[0.0,\"#0d0887\"],[0.1111111111111111,\"#46039f\"],[0.2222222222222222,\"#7201a8\"],[0.3333333333333333,\"#9c179e\"],[0.4444444444444444,\"#bd3786\"],[0.5555555555555556,\"#d8576b\"],[0.6666666666666666,\"#ed7953\"],[0.7777777777777778,\"#fb9f3a\"],[0.8888888888888888,\"#fdca26\"],[1.0,\"#f0f921\"]]}],\"heatmapgl\":[{\"type\":\"heatmapgl\",\"colorbar\":{\"outlinewidth\":0,\"ticks\":\"\"},\"colorscale\":[[0.0,\"#0d0887\"],[0.1111111111111111,\"#46039f\"],[0.2222222222222222,\"#7201a8\"],[0.3333333333333333,\"#9c179e\"],[0.4444444444444444,\"#bd3786\"],[0.5555555555555556,\"#d8576b\"],[0.6666666666666666,\"#ed7953\"],[0.7777777777777778,\"#fb9f3a\"],[0.8888888888888888,\"#fdca26\"],[1.0,\"#f0f921\"]]}],\"contourcarpet\":[{\"type\":\"contourcarpet\",\"colorbar\":{\"outlinewidth\":0,\"ticks\":\"\"}}],\"contour\":[{\"type\":\"contour\",\"colorbar\":{\"outlinewidth\":0,\"ticks\":\"\"},\"colorscale\":[[0.0,\"#0d0887\"],[0.1111111111111111,\"#46039f\"],[0.2222222222222222,\"#7201a8\"],[0.3333333333333333,\"#9c179e\"],[0.4444444444444444,\"#bd3786\"],[0.5555555555555556,\"#d8576b\"],[0.6666666666666666,\"#ed7953\"],[0.7777777777777778,\"#fb9f3a\"],[0.8888888888888888,\"#fdca26\"],[1.0,\"#f0f921\"]]}],\"surface\":[{\"type\":\"surface\",\"colorbar\":{\"outlinewidth\":0,\"ticks\":\"\"},\"colorscale\":[[0.0,\"#0d0887\"],[0.1111111111111111,\"#46039f\"],[0.2222222222222222,\"#7201a8\"],[0.3333333333333333,\"#9c179e\"],[0.4444444444444444,\"#bd3786\"],[0.5555555555555556,\"#d8576b\"],[0.6666666666666666,\"#ed7953\"],[0.7777777777777778,\"#fb9f3a\"],[0.8888888888888888,\"#fdca26\"],[1.0,\"#f0f921\"]]}],\"mesh3d\":[{\"type\":\"mesh3d\",\"colorbar\":{\"outlinewidth\":0,\"ticks\":\"\"}}],\"scatter\":[{\"fillpattern\":{\"fillmode\":\"overlay\",\"size\":10,\"solidity\":0.2},\"type\":\"scatter\"}],\"parcoords\":[{\"type\":\"parcoords\",\"line\":{\"colorbar\":{\"outlinewidth\":0,\"ticks\":\"\"}}}],\"scatterpolargl\":[{\"type\":\"scatterpolargl\",\"marker\":{\"colorbar\":{\"outlinewidth\":0,\"ticks\":\"\"}}}],\"bar\":[{\"error_x\":{\"color\":\"#2a3f5f\"},\"error_y\":{\"color\":\"#2a3f5f\"},\"marker\":{\"line\":{\"color\":\"#E5ECF6\",\"width\":0.5},\"pattern\":{\"fillmode\":\"overlay\",\"size\":10,\"solidity\":0.2}},\"type\":\"bar\"}],\"scattergeo\":[{\"type\":\"scattergeo\",\"marker\":{\"colorbar\":{\"outlinewidth\":0,\"ticks\":\"\"}}}],\"scatterpolar\":[{\"type\":\"scatterpolar\",\"marker\":{\"colorbar\":{\"outlinewidth\":0,\"ticks\":\"\"}}}],\"histogram\":[{\"marker\":{\"pattern\":{\"fillmode\":\"overlay\",\"size\":10,\"solidity\":0.2}},\"type\":\"histogram\"}],\"scattergl\":[{\"type\":\"scattergl\",\"marker\":{\"colorbar\":{\"outlinewidth\":0,\"ticks\":\"\"}}}],\"scatter3d\":[{\"type\":\"scatter3d\",\"line\":{\"colorbar\":{\"outlinewidth\":0,\"ticks\":\"\"}},\"marker\":{\"colorbar\":{\"outlinewidth\":0,\"ticks\":\"\"}}}],\"scattermapbox\":[{\"type\":\"scattermapbox\",\"marker\":{\"colorbar\":{\"outlinewidth\":0,\"ticks\":\"\"}}}],\"scatterternary\":[{\"type\":\"scatterternary\",\"marker\":{\"colorbar\":{\"outlinewidth\":0,\"ticks\":\"\"}}}],\"scattercarpet\":[{\"type\":\"scattercarpet\",\"marker\":{\"colorbar\":{\"outlinewidth\":0,\"ticks\":\"\"}}}],\"carpet\":[{\"aaxis\":{\"endlinecolor\":\"#2a3f5f\",\"gridcolor\":\"white\",\"linecolor\":\"white\",\"minorgridcolor\":\"white\",\"startlinecolor\":\"#2a3f5f\"},\"baxis\":{\"endlinecolor\":\"#2a3f5f\",\"gridcolor\":\"white\",\"linecolor\":\"white\",\"minorgridcolor\":\"white\",\"startlinecolor\":\"#2a3f5f\"},\"type\":\"carpet\"}],\"table\":[{\"cells\":{\"fill\":{\"color\":\"#EBF0F8\"},\"line\":{\"color\":\"white\"}},\"header\":{\"fill\":{\"color\":\"#C8D4E3\"},\"line\":{\"color\":\"white\"}},\"type\":\"table\"}],\"barpolar\":[{\"marker\":{\"line\":{\"color\":\"#E5ECF6\",\"width\":0.5},\"pattern\":{\"fillmode\":\"overlay\",\"size\":10,\"solidity\":0.2}},\"type\":\"barpolar\"}],\"pie\":[{\"automargin\":true,\"type\":\"pie\"}]},\"layout\":{\"autotypenumbers\":\"strict\",\"colorway\":[\"#636efa\",\"#EF553B\",\"#00cc96\",\"#ab63fa\",\"#FFA15A\",\"#19d3f3\",\"#FF6692\",\"#B6E880\",\"#FF97FF\",\"#FECB52\"],\"font\":{\"color\":\"#2a3f5f\"},\"hovermode\":\"closest\",\"hoverlabel\":{\"align\":\"left\"},\"paper_bgcolor\":\"white\",\"plot_bgcolor\":\"#E5ECF6\",\"polar\":{\"bgcolor\":\"#E5ECF6\",\"angularaxis\":{\"gridcolor\":\"white\",\"linecolor\":\"white\",\"ticks\":\"\"},\"radialaxis\":{\"gridcolor\":\"white\",\"linecolor\":\"white\",\"ticks\":\"\"}},\"ternary\":{\"bgcolor\":\"#E5ECF6\",\"aaxis\":{\"gridcolor\":\"white\",\"linecolor\":\"white\",\"ticks\":\"\"},\"baxis\":{\"gridcolor\":\"white\",\"linecolor\":\"white\",\"ticks\":\"\"},\"caxis\":{\"gridcolor\":\"white\",\"linecolor\":\"white\",\"ticks\":\"\"}},\"coloraxis\":{\"colorbar\":{\"outlinewidth\":0,\"ticks\":\"\"}},\"colorscale\":{\"sequential\":[[0.0,\"#0d0887\"],[0.1111111111111111,\"#46039f\"],[0.2222222222222222,\"#7201a8\"],[0.3333333333333333,\"#9c179e\"],[0.4444444444444444,\"#bd3786\"],[0.5555555555555556,\"#d8576b\"],[0.6666666666666666,\"#ed7953\"],[0.7777777777777778,\"#fb9f3a\"],[0.8888888888888888,\"#fdca26\"],[1.0,\"#f0f921\"]],\"sequentialminus\":[[0.0,\"#0d0887\"],[0.1111111111111111,\"#46039f\"],[0.2222222222222222,\"#7201a8\"],[0.3333333333333333,\"#9c179e\"],[0.4444444444444444,\"#bd3786\"],[0.5555555555555556,\"#d8576b\"],[0.6666666666666666,\"#ed7953\"],[0.7777777777777778,\"#fb9f3a\"],[0.8888888888888888,\"#fdca26\"],[1.0,\"#f0f921\"]],\"diverging\":[[0,\"#8e0152\"],[0.1,\"#c51b7d\"],[0.2,\"#de77ae\"],[0.3,\"#f1b6da\"],[0.4,\"#fde0ef\"],[0.5,\"#f7f7f7\"],[0.6,\"#e6f5d0\"],[0.7,\"#b8e186\"],[0.8,\"#7fbc41\"],[0.9,\"#4d9221\"],[1,\"#276419\"]]},\"xaxis\":{\"gridcolor\":\"white\",\"linecolor\":\"white\",\"ticks\":\"\",\"title\":{\"standoff\":15},\"zerolinecolor\":\"white\",\"automargin\":true,\"zerolinewidth\":2},\"yaxis\":{\"gridcolor\":\"white\",\"linecolor\":\"white\",\"ticks\":\"\",\"title\":{\"standoff\":15},\"zerolinecolor\":\"white\",\"automargin\":true,\"zerolinewidth\":2},\"scene\":{\"xaxis\":{\"backgroundcolor\":\"#E5ECF6\",\"gridcolor\":\"white\",\"linecolor\":\"white\",\"showbackground\":true,\"ticks\":\"\",\"zerolinecolor\":\"white\",\"gridwidth\":2},\"yaxis\":{\"backgroundcolor\":\"#E5ECF6\",\"gridcolor\":\"white\",\"linecolor\":\"white\",\"showbackground\":true,\"ticks\":\"\",\"zerolinecolor\":\"white\",\"gridwidth\":2},\"zaxis\":{\"backgroundcolor\":\"#E5ECF6\",\"gridcolor\":\"white\",\"linecolor\":\"white\",\"showbackground\":true,\"ticks\":\"\",\"zerolinecolor\":\"white\",\"gridwidth\":2}},\"shapedefaults\":{\"line\":{\"color\":\"#2a3f5f\"}},\"annotationdefaults\":{\"arrowcolor\":\"#2a3f5f\",\"arrowhead\":0,\"arrowwidth\":1},\"geo\":{\"bgcolor\":\"white\",\"landcolor\":\"#E5ECF6\",\"subunitcolor\":\"white\",\"showland\":true,\"showlakes\":true,\"lakecolor\":\"white\"},\"title\":{\"x\":0.05},\"mapbox\":{\"style\":\"light\"}}},\"legend\":{\"tracegroupgap\":0},\"title\":{\"text\":\"Classifica\\u00e7\\u00e3o Indicativa dos Filmes no Top 1000 do IMDB\"}},                        {\"responsive\": true}                    ).then(function(){\n",
       "                            \n",
       "var gd = document.getElementById('a3296831-50f0-45d7-9005-eedeeb60a429');\n",
       "var x = new MutationObserver(function (mutations, observer) {{\n",
       "        var display = window.getComputedStyle(gd).display;\n",
       "        if (!display || display === 'none') {{\n",
       "            console.log([gd, 'removed!']);\n",
       "            Plotly.purge(gd);\n",
       "            observer.disconnect();\n",
       "        }}\n",
       "}});\n",
       "\n",
       "// Listen for the removal of the full notebook cells\n",
       "var notebookContainer = gd.closest('#notebook-container');\n",
       "if (notebookContainer) {{\n",
       "    x.observe(notebookContainer, {childList: true});\n",
       "}}\n",
       "\n",
       "// Listen for the clearing of the current output cell\n",
       "var outputEl = gd.closest('.output');\n",
       "if (outputEl) {{\n",
       "    x.observe(outputEl, {childList: true});\n",
       "}}\n",
       "\n",
       "                        })                };                });            </script>        </div>"
      ]
     },
     "metadata": {},
     "output_type": "display_data"
    }
   ],
   "source": [
    "fig = px.pie(values=df[\"Certificate\"].value_counts(), \n",
    "             names=df[\"Certificate\"].unique(), \n",
    "             title='Classificação Indicativa dos Filmes no Top 1000 do IMDB').update_traces(pull=0.02)\n",
    "fig.show()"
   ]
  },
  {
   "cell_type": "markdown",
   "metadata": {},
   "source": [
    "**Gênero dos Filmes**: Para analisar quais gêneros são predominantes no Top 1000 filmes do IMDB, utilizaremos um **Gráfico de Pizza**, pois se trata de uma variável categórica nominal.\n",
    "\n",
    "Com base no gráfico, é visível que o gênero Drama se destaca, caracterizando quase 30% dos filmes. Junto do Drama, os gêneros Crime, Ação e Aventura correspondem à metade dos filmes, enquanto os outros 50% estão distribuídos entre 17 categorias menos relevantes."
   ]
  },
  {
   "cell_type": "code",
   "execution_count": 31,
   "metadata": {},
   "outputs": [
    {
     "data": {
      "application/vnd.plotly.v1+json": {
       "config": {
        "plotlyServerURL": "https://plot.ly"
       },
       "data": [
        {
         "domain": {
          "x": [
           0,
           1
          ],
          "y": [
           0,
           1
          ]
         },
         "hovertemplate": "label=%{label}<br>value=%{value}<extra></extra>",
         "labels": [
          "Drama",
          "Crime",
          "Action",
          "Adventure",
          "Biography",
          "History",
          "Sci-Fi",
          "Romance",
          "Western",
          "Fantasy",
          "Comedy",
          "Thriller",
          "Animation",
          "Family",
          "War",
          "Mystery",
          "Music",
          "Horror",
          "Sport",
          "Musical",
          "Film-Noir"
         ],
         "legendgroup": "",
         "name": "",
         "pull": 0.02,
         "showlegend": true,
         "type": "pie",
         "values": [
          500,
          163,
          161,
          142,
          140,
          99,
          88,
          88,
          70,
          63,
          56,
          55,
          43,
          38,
          29,
          27,
          18,
          17,
          16,
          11,
          6
         ]
        }
       ],
       "layout": {
        "legend": {
         "tracegroupgap": 0
        },
        "template": {
         "data": {
          "bar": [
           {
            "error_x": {
             "color": "#2a3f5f"
            },
            "error_y": {
             "color": "#2a3f5f"
            },
            "marker": {
             "line": {
              "color": "#E5ECF6",
              "width": 0.5
             },
             "pattern": {
              "fillmode": "overlay",
              "size": 10,
              "solidity": 0.2
             }
            },
            "type": "bar"
           }
          ],
          "barpolar": [
           {
            "marker": {
             "line": {
              "color": "#E5ECF6",
              "width": 0.5
             },
             "pattern": {
              "fillmode": "overlay",
              "size": 10,
              "solidity": 0.2
             }
            },
            "type": "barpolar"
           }
          ],
          "carpet": [
           {
            "aaxis": {
             "endlinecolor": "#2a3f5f",
             "gridcolor": "white",
             "linecolor": "white",
             "minorgridcolor": "white",
             "startlinecolor": "#2a3f5f"
            },
            "baxis": {
             "endlinecolor": "#2a3f5f",
             "gridcolor": "white",
             "linecolor": "white",
             "minorgridcolor": "white",
             "startlinecolor": "#2a3f5f"
            },
            "type": "carpet"
           }
          ],
          "choropleth": [
           {
            "colorbar": {
             "outlinewidth": 0,
             "ticks": ""
            },
            "type": "choropleth"
           }
          ],
          "contour": [
           {
            "colorbar": {
             "outlinewidth": 0,
             "ticks": ""
            },
            "colorscale": [
             [
              0,
              "#0d0887"
             ],
             [
              0.1111111111111111,
              "#46039f"
             ],
             [
              0.2222222222222222,
              "#7201a8"
             ],
             [
              0.3333333333333333,
              "#9c179e"
             ],
             [
              0.4444444444444444,
              "#bd3786"
             ],
             [
              0.5555555555555556,
              "#d8576b"
             ],
             [
              0.6666666666666666,
              "#ed7953"
             ],
             [
              0.7777777777777778,
              "#fb9f3a"
             ],
             [
              0.8888888888888888,
              "#fdca26"
             ],
             [
              1,
              "#f0f921"
             ]
            ],
            "type": "contour"
           }
          ],
          "contourcarpet": [
           {
            "colorbar": {
             "outlinewidth": 0,
             "ticks": ""
            },
            "type": "contourcarpet"
           }
          ],
          "heatmap": [
           {
            "colorbar": {
             "outlinewidth": 0,
             "ticks": ""
            },
            "colorscale": [
             [
              0,
              "#0d0887"
             ],
             [
              0.1111111111111111,
              "#46039f"
             ],
             [
              0.2222222222222222,
              "#7201a8"
             ],
             [
              0.3333333333333333,
              "#9c179e"
             ],
             [
              0.4444444444444444,
              "#bd3786"
             ],
             [
              0.5555555555555556,
              "#d8576b"
             ],
             [
              0.6666666666666666,
              "#ed7953"
             ],
             [
              0.7777777777777778,
              "#fb9f3a"
             ],
             [
              0.8888888888888888,
              "#fdca26"
             ],
             [
              1,
              "#f0f921"
             ]
            ],
            "type": "heatmap"
           }
          ],
          "heatmapgl": [
           {
            "colorbar": {
             "outlinewidth": 0,
             "ticks": ""
            },
            "colorscale": [
             [
              0,
              "#0d0887"
             ],
             [
              0.1111111111111111,
              "#46039f"
             ],
             [
              0.2222222222222222,
              "#7201a8"
             ],
             [
              0.3333333333333333,
              "#9c179e"
             ],
             [
              0.4444444444444444,
              "#bd3786"
             ],
             [
              0.5555555555555556,
              "#d8576b"
             ],
             [
              0.6666666666666666,
              "#ed7953"
             ],
             [
              0.7777777777777778,
              "#fb9f3a"
             ],
             [
              0.8888888888888888,
              "#fdca26"
             ],
             [
              1,
              "#f0f921"
             ]
            ],
            "type": "heatmapgl"
           }
          ],
          "histogram": [
           {
            "marker": {
             "pattern": {
              "fillmode": "overlay",
              "size": 10,
              "solidity": 0.2
             }
            },
            "type": "histogram"
           }
          ],
          "histogram2d": [
           {
            "colorbar": {
             "outlinewidth": 0,
             "ticks": ""
            },
            "colorscale": [
             [
              0,
              "#0d0887"
             ],
             [
              0.1111111111111111,
              "#46039f"
             ],
             [
              0.2222222222222222,
              "#7201a8"
             ],
             [
              0.3333333333333333,
              "#9c179e"
             ],
             [
              0.4444444444444444,
              "#bd3786"
             ],
             [
              0.5555555555555556,
              "#d8576b"
             ],
             [
              0.6666666666666666,
              "#ed7953"
             ],
             [
              0.7777777777777778,
              "#fb9f3a"
             ],
             [
              0.8888888888888888,
              "#fdca26"
             ],
             [
              1,
              "#f0f921"
             ]
            ],
            "type": "histogram2d"
           }
          ],
          "histogram2dcontour": [
           {
            "colorbar": {
             "outlinewidth": 0,
             "ticks": ""
            },
            "colorscale": [
             [
              0,
              "#0d0887"
             ],
             [
              0.1111111111111111,
              "#46039f"
             ],
             [
              0.2222222222222222,
              "#7201a8"
             ],
             [
              0.3333333333333333,
              "#9c179e"
             ],
             [
              0.4444444444444444,
              "#bd3786"
             ],
             [
              0.5555555555555556,
              "#d8576b"
             ],
             [
              0.6666666666666666,
              "#ed7953"
             ],
             [
              0.7777777777777778,
              "#fb9f3a"
             ],
             [
              0.8888888888888888,
              "#fdca26"
             ],
             [
              1,
              "#f0f921"
             ]
            ],
            "type": "histogram2dcontour"
           }
          ],
          "mesh3d": [
           {
            "colorbar": {
             "outlinewidth": 0,
             "ticks": ""
            },
            "type": "mesh3d"
           }
          ],
          "parcoords": [
           {
            "line": {
             "colorbar": {
              "outlinewidth": 0,
              "ticks": ""
             }
            },
            "type": "parcoords"
           }
          ],
          "pie": [
           {
            "automargin": true,
            "type": "pie"
           }
          ],
          "scatter": [
           {
            "fillpattern": {
             "fillmode": "overlay",
             "size": 10,
             "solidity": 0.2
            },
            "type": "scatter"
           }
          ],
          "scatter3d": [
           {
            "line": {
             "colorbar": {
              "outlinewidth": 0,
              "ticks": ""
             }
            },
            "marker": {
             "colorbar": {
              "outlinewidth": 0,
              "ticks": ""
             }
            },
            "type": "scatter3d"
           }
          ],
          "scattercarpet": [
           {
            "marker": {
             "colorbar": {
              "outlinewidth": 0,
              "ticks": ""
             }
            },
            "type": "scattercarpet"
           }
          ],
          "scattergeo": [
           {
            "marker": {
             "colorbar": {
              "outlinewidth": 0,
              "ticks": ""
             }
            },
            "type": "scattergeo"
           }
          ],
          "scattergl": [
           {
            "marker": {
             "colorbar": {
              "outlinewidth": 0,
              "ticks": ""
             }
            },
            "type": "scattergl"
           }
          ],
          "scattermapbox": [
           {
            "marker": {
             "colorbar": {
              "outlinewidth": 0,
              "ticks": ""
             }
            },
            "type": "scattermapbox"
           }
          ],
          "scatterpolar": [
           {
            "marker": {
             "colorbar": {
              "outlinewidth": 0,
              "ticks": ""
             }
            },
            "type": "scatterpolar"
           }
          ],
          "scatterpolargl": [
           {
            "marker": {
             "colorbar": {
              "outlinewidth": 0,
              "ticks": ""
             }
            },
            "type": "scatterpolargl"
           }
          ],
          "scatterternary": [
           {
            "marker": {
             "colorbar": {
              "outlinewidth": 0,
              "ticks": ""
             }
            },
            "type": "scatterternary"
           }
          ],
          "surface": [
           {
            "colorbar": {
             "outlinewidth": 0,
             "ticks": ""
            },
            "colorscale": [
             [
              0,
              "#0d0887"
             ],
             [
              0.1111111111111111,
              "#46039f"
             ],
             [
              0.2222222222222222,
              "#7201a8"
             ],
             [
              0.3333333333333333,
              "#9c179e"
             ],
             [
              0.4444444444444444,
              "#bd3786"
             ],
             [
              0.5555555555555556,
              "#d8576b"
             ],
             [
              0.6666666666666666,
              "#ed7953"
             ],
             [
              0.7777777777777778,
              "#fb9f3a"
             ],
             [
              0.8888888888888888,
              "#fdca26"
             ],
             [
              1,
              "#f0f921"
             ]
            ],
            "type": "surface"
           }
          ],
          "table": [
           {
            "cells": {
             "fill": {
              "color": "#EBF0F8"
             },
             "line": {
              "color": "white"
             }
            },
            "header": {
             "fill": {
              "color": "#C8D4E3"
             },
             "line": {
              "color": "white"
             }
            },
            "type": "table"
           }
          ]
         },
         "layout": {
          "annotationdefaults": {
           "arrowcolor": "#2a3f5f",
           "arrowhead": 0,
           "arrowwidth": 1
          },
          "autotypenumbers": "strict",
          "coloraxis": {
           "colorbar": {
            "outlinewidth": 0,
            "ticks": ""
           }
          },
          "colorscale": {
           "diverging": [
            [
             0,
             "#8e0152"
            ],
            [
             0.1,
             "#c51b7d"
            ],
            [
             0.2,
             "#de77ae"
            ],
            [
             0.3,
             "#f1b6da"
            ],
            [
             0.4,
             "#fde0ef"
            ],
            [
             0.5,
             "#f7f7f7"
            ],
            [
             0.6,
             "#e6f5d0"
            ],
            [
             0.7,
             "#b8e186"
            ],
            [
             0.8,
             "#7fbc41"
            ],
            [
             0.9,
             "#4d9221"
            ],
            [
             1,
             "#276419"
            ]
           ],
           "sequential": [
            [
             0,
             "#0d0887"
            ],
            [
             0.1111111111111111,
             "#46039f"
            ],
            [
             0.2222222222222222,
             "#7201a8"
            ],
            [
             0.3333333333333333,
             "#9c179e"
            ],
            [
             0.4444444444444444,
             "#bd3786"
            ],
            [
             0.5555555555555556,
             "#d8576b"
            ],
            [
             0.6666666666666666,
             "#ed7953"
            ],
            [
             0.7777777777777778,
             "#fb9f3a"
            ],
            [
             0.8888888888888888,
             "#fdca26"
            ],
            [
             1,
             "#f0f921"
            ]
           ],
           "sequentialminus": [
            [
             0,
             "#0d0887"
            ],
            [
             0.1111111111111111,
             "#46039f"
            ],
            [
             0.2222222222222222,
             "#7201a8"
            ],
            [
             0.3333333333333333,
             "#9c179e"
            ],
            [
             0.4444444444444444,
             "#bd3786"
            ],
            [
             0.5555555555555556,
             "#d8576b"
            ],
            [
             0.6666666666666666,
             "#ed7953"
            ],
            [
             0.7777777777777778,
             "#fb9f3a"
            ],
            [
             0.8888888888888888,
             "#fdca26"
            ],
            [
             1,
             "#f0f921"
            ]
           ]
          },
          "colorway": [
           "#636efa",
           "#EF553B",
           "#00cc96",
           "#ab63fa",
           "#FFA15A",
           "#19d3f3",
           "#FF6692",
           "#B6E880",
           "#FF97FF",
           "#FECB52"
          ],
          "font": {
           "color": "#2a3f5f"
          },
          "geo": {
           "bgcolor": "white",
           "lakecolor": "white",
           "landcolor": "#E5ECF6",
           "showlakes": true,
           "showland": true,
           "subunitcolor": "white"
          },
          "hoverlabel": {
           "align": "left"
          },
          "hovermode": "closest",
          "mapbox": {
           "style": "light"
          },
          "paper_bgcolor": "white",
          "plot_bgcolor": "#E5ECF6",
          "polar": {
           "angularaxis": {
            "gridcolor": "white",
            "linecolor": "white",
            "ticks": ""
           },
           "bgcolor": "#E5ECF6",
           "radialaxis": {
            "gridcolor": "white",
            "linecolor": "white",
            "ticks": ""
           }
          },
          "scene": {
           "xaxis": {
            "backgroundcolor": "#E5ECF6",
            "gridcolor": "white",
            "gridwidth": 2,
            "linecolor": "white",
            "showbackground": true,
            "ticks": "",
            "zerolinecolor": "white"
           },
           "yaxis": {
            "backgroundcolor": "#E5ECF6",
            "gridcolor": "white",
            "gridwidth": 2,
            "linecolor": "white",
            "showbackground": true,
            "ticks": "",
            "zerolinecolor": "white"
           },
           "zaxis": {
            "backgroundcolor": "#E5ECF6",
            "gridcolor": "white",
            "gridwidth": 2,
            "linecolor": "white",
            "showbackground": true,
            "ticks": "",
            "zerolinecolor": "white"
           }
          },
          "shapedefaults": {
           "line": {
            "color": "#2a3f5f"
           }
          },
          "ternary": {
           "aaxis": {
            "gridcolor": "white",
            "linecolor": "white",
            "ticks": ""
           },
           "baxis": {
            "gridcolor": "white",
            "linecolor": "white",
            "ticks": ""
           },
           "bgcolor": "#E5ECF6",
           "caxis": {
            "gridcolor": "white",
            "linecolor": "white",
            "ticks": ""
           }
          },
          "title": {
           "x": 0.05
          },
          "xaxis": {
           "automargin": true,
           "gridcolor": "white",
           "linecolor": "white",
           "ticks": "",
           "title": {
            "standoff": 15
           },
           "zerolinecolor": "white",
           "zerolinewidth": 2
          },
          "yaxis": {
           "automargin": true,
           "gridcolor": "white",
           "linecolor": "white",
           "ticks": "",
           "title": {
            "standoff": 15
           },
           "zerolinecolor": "white",
           "zerolinewidth": 2
          }
         }
        },
        "title": {
         "text": "Gênero dos Filmes no Top 1000 do IMDB"
        }
       }
      },
      "text/html": [
       "<div>                            <div id=\"dcc63a3e-4fd4-4002-b77e-010f0a00983a\" class=\"plotly-graph-div\" style=\"height:525px; width:100%;\"></div>            <script type=\"text/javascript\">                require([\"plotly\"], function(Plotly) {                    window.PLOTLYENV=window.PLOTLYENV || {};                                    if (document.getElementById(\"dcc63a3e-4fd4-4002-b77e-010f0a00983a\")) {                    Plotly.newPlot(                        \"dcc63a3e-4fd4-4002-b77e-010f0a00983a\",                        [{\"domain\":{\"x\":[0.0,1.0],\"y\":[0.0,1.0]},\"hovertemplate\":\"label=%{label}<br>value=%{value}<extra></extra>\",\"labels\":[\"Drama\",\"Crime\",\"Action\",\"Adventure\",\"Biography\",\"History\",\"Sci-Fi\",\"Romance\",\"Western\",\"Fantasy\",\"Comedy\",\"Thriller\",\"Animation\",\"Family\",\"War\",\"Mystery\",\"Music\",\"Horror\",\"Sport\",\"Musical\",\"Film-Noir\"],\"legendgroup\":\"\",\"name\":\"\",\"showlegend\":true,\"values\":[500,163,161,142,140,99,88,88,70,63,56,55,43,38,29,27,18,17,16,11,6],\"type\":\"pie\",\"pull\":0.02}],                        {\"template\":{\"data\":{\"histogram2dcontour\":[{\"type\":\"histogram2dcontour\",\"colorbar\":{\"outlinewidth\":0,\"ticks\":\"\"},\"colorscale\":[[0.0,\"#0d0887\"],[0.1111111111111111,\"#46039f\"],[0.2222222222222222,\"#7201a8\"],[0.3333333333333333,\"#9c179e\"],[0.4444444444444444,\"#bd3786\"],[0.5555555555555556,\"#d8576b\"],[0.6666666666666666,\"#ed7953\"],[0.7777777777777778,\"#fb9f3a\"],[0.8888888888888888,\"#fdca26\"],[1.0,\"#f0f921\"]]}],\"choropleth\":[{\"type\":\"choropleth\",\"colorbar\":{\"outlinewidth\":0,\"ticks\":\"\"}}],\"histogram2d\":[{\"type\":\"histogram2d\",\"colorbar\":{\"outlinewidth\":0,\"ticks\":\"\"},\"colorscale\":[[0.0,\"#0d0887\"],[0.1111111111111111,\"#46039f\"],[0.2222222222222222,\"#7201a8\"],[0.3333333333333333,\"#9c179e\"],[0.4444444444444444,\"#bd3786\"],[0.5555555555555556,\"#d8576b\"],[0.6666666666666666,\"#ed7953\"],[0.7777777777777778,\"#fb9f3a\"],[0.8888888888888888,\"#fdca26\"],[1.0,\"#f0f921\"]]}],\"heatmap\":[{\"type\":\"heatmap\",\"colorbar\":{\"outlinewidth\":0,\"ticks\":\"\"},\"colorscale\":[[0.0,\"#0d0887\"],[0.1111111111111111,\"#46039f\"],[0.2222222222222222,\"#7201a8\"],[0.3333333333333333,\"#9c179e\"],[0.4444444444444444,\"#bd3786\"],[0.5555555555555556,\"#d8576b\"],[0.6666666666666666,\"#ed7953\"],[0.7777777777777778,\"#fb9f3a\"],[0.8888888888888888,\"#fdca26\"],[1.0,\"#f0f921\"]]}],\"heatmapgl\":[{\"type\":\"heatmapgl\",\"colorbar\":{\"outlinewidth\":0,\"ticks\":\"\"},\"colorscale\":[[0.0,\"#0d0887\"],[0.1111111111111111,\"#46039f\"],[0.2222222222222222,\"#7201a8\"],[0.3333333333333333,\"#9c179e\"],[0.4444444444444444,\"#bd3786\"],[0.5555555555555556,\"#d8576b\"],[0.6666666666666666,\"#ed7953\"],[0.7777777777777778,\"#fb9f3a\"],[0.8888888888888888,\"#fdca26\"],[1.0,\"#f0f921\"]]}],\"contourcarpet\":[{\"type\":\"contourcarpet\",\"colorbar\":{\"outlinewidth\":0,\"ticks\":\"\"}}],\"contour\":[{\"type\":\"contour\",\"colorbar\":{\"outlinewidth\":0,\"ticks\":\"\"},\"colorscale\":[[0.0,\"#0d0887\"],[0.1111111111111111,\"#46039f\"],[0.2222222222222222,\"#7201a8\"],[0.3333333333333333,\"#9c179e\"],[0.4444444444444444,\"#bd3786\"],[0.5555555555555556,\"#d8576b\"],[0.6666666666666666,\"#ed7953\"],[0.7777777777777778,\"#fb9f3a\"],[0.8888888888888888,\"#fdca26\"],[1.0,\"#f0f921\"]]}],\"surface\":[{\"type\":\"surface\",\"colorbar\":{\"outlinewidth\":0,\"ticks\":\"\"},\"colorscale\":[[0.0,\"#0d0887\"],[0.1111111111111111,\"#46039f\"],[0.2222222222222222,\"#7201a8\"],[0.3333333333333333,\"#9c179e\"],[0.4444444444444444,\"#bd3786\"],[0.5555555555555556,\"#d8576b\"],[0.6666666666666666,\"#ed7953\"],[0.7777777777777778,\"#fb9f3a\"],[0.8888888888888888,\"#fdca26\"],[1.0,\"#f0f921\"]]}],\"mesh3d\":[{\"type\":\"mesh3d\",\"colorbar\":{\"outlinewidth\":0,\"ticks\":\"\"}}],\"scatter\":[{\"fillpattern\":{\"fillmode\":\"overlay\",\"size\":10,\"solidity\":0.2},\"type\":\"scatter\"}],\"parcoords\":[{\"type\":\"parcoords\",\"line\":{\"colorbar\":{\"outlinewidth\":0,\"ticks\":\"\"}}}],\"scatterpolargl\":[{\"type\":\"scatterpolargl\",\"marker\":{\"colorbar\":{\"outlinewidth\":0,\"ticks\":\"\"}}}],\"bar\":[{\"error_x\":{\"color\":\"#2a3f5f\"},\"error_y\":{\"color\":\"#2a3f5f\"},\"marker\":{\"line\":{\"color\":\"#E5ECF6\",\"width\":0.5},\"pattern\":{\"fillmode\":\"overlay\",\"size\":10,\"solidity\":0.2}},\"type\":\"bar\"}],\"scattergeo\":[{\"type\":\"scattergeo\",\"marker\":{\"colorbar\":{\"outlinewidth\":0,\"ticks\":\"\"}}}],\"scatterpolar\":[{\"type\":\"scatterpolar\",\"marker\":{\"colorbar\":{\"outlinewidth\":0,\"ticks\":\"\"}}}],\"histogram\":[{\"marker\":{\"pattern\":{\"fillmode\":\"overlay\",\"size\":10,\"solidity\":0.2}},\"type\":\"histogram\"}],\"scattergl\":[{\"type\":\"scattergl\",\"marker\":{\"colorbar\":{\"outlinewidth\":0,\"ticks\":\"\"}}}],\"scatter3d\":[{\"type\":\"scatter3d\",\"line\":{\"colorbar\":{\"outlinewidth\":0,\"ticks\":\"\"}},\"marker\":{\"colorbar\":{\"outlinewidth\":0,\"ticks\":\"\"}}}],\"scattermapbox\":[{\"type\":\"scattermapbox\",\"marker\":{\"colorbar\":{\"outlinewidth\":0,\"ticks\":\"\"}}}],\"scatterternary\":[{\"type\":\"scatterternary\",\"marker\":{\"colorbar\":{\"outlinewidth\":0,\"ticks\":\"\"}}}],\"scattercarpet\":[{\"type\":\"scattercarpet\",\"marker\":{\"colorbar\":{\"outlinewidth\":0,\"ticks\":\"\"}}}],\"carpet\":[{\"aaxis\":{\"endlinecolor\":\"#2a3f5f\",\"gridcolor\":\"white\",\"linecolor\":\"white\",\"minorgridcolor\":\"white\",\"startlinecolor\":\"#2a3f5f\"},\"baxis\":{\"endlinecolor\":\"#2a3f5f\",\"gridcolor\":\"white\",\"linecolor\":\"white\",\"minorgridcolor\":\"white\",\"startlinecolor\":\"#2a3f5f\"},\"type\":\"carpet\"}],\"table\":[{\"cells\":{\"fill\":{\"color\":\"#EBF0F8\"},\"line\":{\"color\":\"white\"}},\"header\":{\"fill\":{\"color\":\"#C8D4E3\"},\"line\":{\"color\":\"white\"}},\"type\":\"table\"}],\"barpolar\":[{\"marker\":{\"line\":{\"color\":\"#E5ECF6\",\"width\":0.5},\"pattern\":{\"fillmode\":\"overlay\",\"size\":10,\"solidity\":0.2}},\"type\":\"barpolar\"}],\"pie\":[{\"automargin\":true,\"type\":\"pie\"}]},\"layout\":{\"autotypenumbers\":\"strict\",\"colorway\":[\"#636efa\",\"#EF553B\",\"#00cc96\",\"#ab63fa\",\"#FFA15A\",\"#19d3f3\",\"#FF6692\",\"#B6E880\",\"#FF97FF\",\"#FECB52\"],\"font\":{\"color\":\"#2a3f5f\"},\"hovermode\":\"closest\",\"hoverlabel\":{\"align\":\"left\"},\"paper_bgcolor\":\"white\",\"plot_bgcolor\":\"#E5ECF6\",\"polar\":{\"bgcolor\":\"#E5ECF6\",\"angularaxis\":{\"gridcolor\":\"white\",\"linecolor\":\"white\",\"ticks\":\"\"},\"radialaxis\":{\"gridcolor\":\"white\",\"linecolor\":\"white\",\"ticks\":\"\"}},\"ternary\":{\"bgcolor\":\"#E5ECF6\",\"aaxis\":{\"gridcolor\":\"white\",\"linecolor\":\"white\",\"ticks\":\"\"},\"baxis\":{\"gridcolor\":\"white\",\"linecolor\":\"white\",\"ticks\":\"\"},\"caxis\":{\"gridcolor\":\"white\",\"linecolor\":\"white\",\"ticks\":\"\"}},\"coloraxis\":{\"colorbar\":{\"outlinewidth\":0,\"ticks\":\"\"}},\"colorscale\":{\"sequential\":[[0.0,\"#0d0887\"],[0.1111111111111111,\"#46039f\"],[0.2222222222222222,\"#7201a8\"],[0.3333333333333333,\"#9c179e\"],[0.4444444444444444,\"#bd3786\"],[0.5555555555555556,\"#d8576b\"],[0.6666666666666666,\"#ed7953\"],[0.7777777777777778,\"#fb9f3a\"],[0.8888888888888888,\"#fdca26\"],[1.0,\"#f0f921\"]],\"sequentialminus\":[[0.0,\"#0d0887\"],[0.1111111111111111,\"#46039f\"],[0.2222222222222222,\"#7201a8\"],[0.3333333333333333,\"#9c179e\"],[0.4444444444444444,\"#bd3786\"],[0.5555555555555556,\"#d8576b\"],[0.6666666666666666,\"#ed7953\"],[0.7777777777777778,\"#fb9f3a\"],[0.8888888888888888,\"#fdca26\"],[1.0,\"#f0f921\"]],\"diverging\":[[0,\"#8e0152\"],[0.1,\"#c51b7d\"],[0.2,\"#de77ae\"],[0.3,\"#f1b6da\"],[0.4,\"#fde0ef\"],[0.5,\"#f7f7f7\"],[0.6,\"#e6f5d0\"],[0.7,\"#b8e186\"],[0.8,\"#7fbc41\"],[0.9,\"#4d9221\"],[1,\"#276419\"]]},\"xaxis\":{\"gridcolor\":\"white\",\"linecolor\":\"white\",\"ticks\":\"\",\"title\":{\"standoff\":15},\"zerolinecolor\":\"white\",\"automargin\":true,\"zerolinewidth\":2},\"yaxis\":{\"gridcolor\":\"white\",\"linecolor\":\"white\",\"ticks\":\"\",\"title\":{\"standoff\":15},\"zerolinecolor\":\"white\",\"automargin\":true,\"zerolinewidth\":2},\"scene\":{\"xaxis\":{\"backgroundcolor\":\"#E5ECF6\",\"gridcolor\":\"white\",\"linecolor\":\"white\",\"showbackground\":true,\"ticks\":\"\",\"zerolinecolor\":\"white\",\"gridwidth\":2},\"yaxis\":{\"backgroundcolor\":\"#E5ECF6\",\"gridcolor\":\"white\",\"linecolor\":\"white\",\"showbackground\":true,\"ticks\":\"\",\"zerolinecolor\":\"white\",\"gridwidth\":2},\"zaxis\":{\"backgroundcolor\":\"#E5ECF6\",\"gridcolor\":\"white\",\"linecolor\":\"white\",\"showbackground\":true,\"ticks\":\"\",\"zerolinecolor\":\"white\",\"gridwidth\":2}},\"shapedefaults\":{\"line\":{\"color\":\"#2a3f5f\"}},\"annotationdefaults\":{\"arrowcolor\":\"#2a3f5f\",\"arrowhead\":0,\"arrowwidth\":1},\"geo\":{\"bgcolor\":\"white\",\"landcolor\":\"#E5ECF6\",\"subunitcolor\":\"white\",\"showland\":true,\"showlakes\":true,\"lakecolor\":\"white\"},\"title\":{\"x\":0.05},\"mapbox\":{\"style\":\"light\"}}},\"legend\":{\"tracegroupgap\":0},\"title\":{\"text\":\"G\\u00eanero dos Filmes no Top 1000 do IMDB\"}},                        {\"responsive\": true}                    ).then(function(){\n",
       "                            \n",
       "var gd = document.getElementById('dcc63a3e-4fd4-4002-b77e-010f0a00983a');\n",
       "var x = new MutationObserver(function (mutations, observer) {{\n",
       "        var display = window.getComputedStyle(gd).display;\n",
       "        if (!display || display === 'none') {{\n",
       "            console.log([gd, 'removed!']);\n",
       "            Plotly.purge(gd);\n",
       "            observer.disconnect();\n",
       "        }}\n",
       "}});\n",
       "\n",
       "// Listen for the removal of the full notebook cells\n",
       "var notebookContainer = gd.closest('#notebook-container');\n",
       "if (notebookContainer) {{\n",
       "    x.observe(notebookContainer, {childList: true});\n",
       "}}\n",
       "\n",
       "// Listen for the clearing of the current output cell\n",
       "var outputEl = gd.closest('.output');\n",
       "if (outputEl) {{\n",
       "    x.observe(outputEl, {childList: true});\n",
       "}}\n",
       "\n",
       "                        })                };                });            </script>        </div>"
      ]
     },
     "metadata": {},
     "output_type": "display_data"
    }
   ],
   "source": [
    "# Distribuição dos Gênero dos Filmes no Top 1000\n",
    "df_aux = df.copy()\n",
    "df_aux['Genre'] = df_aux['Genre'].str.split(', ')\n",
    "df_aux = df_aux.explode('Genre')\n",
    "\n",
    "fig = px.pie(values=df_aux[\"Genre\"].value_counts(), \n",
    "             names=df_aux[\"Genre\"].unique(), \n",
    "             title='Gênero dos Filmes no Top 1000 do IMDB').update_traces(pull=0.02)\n",
    "fig.show()"
   ]
  },
  {
   "cell_type": "markdown",
   "metadata": {},
   "source": [
    "**Distribuição ao longo dos Anos**: Para analisar a quantidade de filmes no Top 1000 do IMDB em cada ano, utilizaremos um **Gráfico de Barras** por se tratar de uma variável categórica ordinal.\n",
    "\n",
    "É possível notar que os filmes do Top 1000 estão concentrados na década de 40 com um comportamento decrescente, ou seja, os filmes mais aclamados tendem a ser mais antigos."
   ]
  },
  {
   "cell_type": "code",
   "execution_count": 32,
   "metadata": {},
   "outputs": [
    {
     "data": {
      "application/vnd.plotly.v1+json": {
       "config": {
        "plotlyServerURL": "https://plot.ly"
       },
       "data": [
        {
         "alignmentgroup": "True",
         "hovertemplate": "variable=wide_variable_0<br>Ano de Lançamento=%{x}<br>value=%{y}<extra></extra>",
         "legendgroup": "wide_variable_0",
         "marker": {
          "color": "#636efa",
          "pattern": {
           "shape": ""
          }
         },
         "name": "wide_variable_0",
         "offsetgroup": "wide_variable_0",
         "orientation": "v",
         "showlegend": true,
         "textposition": "auto",
         "type": "bar",
         "x": [
          1930,
          1931,
          1933,
          1934,
          1936,
          1938,
          1939,
          1940,
          1941,
          1942,
          1944,
          1946,
          1948,
          1949,
          1950,
          1951,
          1952,
          1953,
          1954,
          1957,
          1958,
          1959,
          1960,
          1961,
          1962,
          1963,
          1964,
          1965,
          1966,
          1967,
          1968,
          1969,
          1970,
          1971,
          1972,
          1973,
          1974,
          1975,
          1976,
          1977,
          1978,
          1979,
          1980,
          1981,
          1982,
          1983,
          1984,
          1985,
          1986,
          1987,
          1988,
          1989,
          1990,
          1991,
          1992,
          1993,
          1994,
          1995,
          1996,
          1997,
          1998,
          1999,
          2000,
          2001,
          2002,
          2003,
          2004,
          2005,
          2006,
          2007,
          2008,
          2009,
          2010,
          2011,
          2012,
          2013,
          2014,
          2015,
          2016,
          2017,
          2018,
          2019
         ],
         "xaxis": "x",
         "y": [
          28,
          27,
          24,
          23,
          22,
          21,
          21,
          20,
          19,
          19,
          18,
          18,
          18,
          18,
          17,
          17,
          16,
          16,
          15,
          15,
          14,
          14,
          14,
          13,
          12,
          12,
          12,
          11,
          10,
          10,
          10,
          10,
          9,
          8,
          8,
          8,
          8,
          8,
          7,
          7,
          6,
          6,
          5,
          5,
          5,
          4,
          4,
          4,
          4,
          4,
          4,
          4,
          4,
          4,
          4,
          3,
          3,
          3,
          3,
          3,
          3,
          3,
          3,
          3,
          2,
          2,
          2,
          2,
          2,
          1,
          1,
          1,
          1,
          1,
          1,
          1,
          1,
          1,
          1,
          1,
          1,
          1
         ],
         "yaxis": "y"
        }
       ],
       "layout": {
        "barmode": "relative",
        "legend": {
         "title": {
          "text": "variable"
         },
         "tracegroupgap": 0
        },
        "showlegend": false,
        "template": {
         "data": {
          "bar": [
           {
            "error_x": {
             "color": "#2a3f5f"
            },
            "error_y": {
             "color": "#2a3f5f"
            },
            "marker": {
             "line": {
              "color": "#E5ECF6",
              "width": 0.5
             },
             "pattern": {
              "fillmode": "overlay",
              "size": 10,
              "solidity": 0.2
             }
            },
            "type": "bar"
           }
          ],
          "barpolar": [
           {
            "marker": {
             "line": {
              "color": "#E5ECF6",
              "width": 0.5
             },
             "pattern": {
              "fillmode": "overlay",
              "size": 10,
              "solidity": 0.2
             }
            },
            "type": "barpolar"
           }
          ],
          "carpet": [
           {
            "aaxis": {
             "endlinecolor": "#2a3f5f",
             "gridcolor": "white",
             "linecolor": "white",
             "minorgridcolor": "white",
             "startlinecolor": "#2a3f5f"
            },
            "baxis": {
             "endlinecolor": "#2a3f5f",
             "gridcolor": "white",
             "linecolor": "white",
             "minorgridcolor": "white",
             "startlinecolor": "#2a3f5f"
            },
            "type": "carpet"
           }
          ],
          "choropleth": [
           {
            "colorbar": {
             "outlinewidth": 0,
             "ticks": ""
            },
            "type": "choropleth"
           }
          ],
          "contour": [
           {
            "colorbar": {
             "outlinewidth": 0,
             "ticks": ""
            },
            "colorscale": [
             [
              0,
              "#0d0887"
             ],
             [
              0.1111111111111111,
              "#46039f"
             ],
             [
              0.2222222222222222,
              "#7201a8"
             ],
             [
              0.3333333333333333,
              "#9c179e"
             ],
             [
              0.4444444444444444,
              "#bd3786"
             ],
             [
              0.5555555555555556,
              "#d8576b"
             ],
             [
              0.6666666666666666,
              "#ed7953"
             ],
             [
              0.7777777777777778,
              "#fb9f3a"
             ],
             [
              0.8888888888888888,
              "#fdca26"
             ],
             [
              1,
              "#f0f921"
             ]
            ],
            "type": "contour"
           }
          ],
          "contourcarpet": [
           {
            "colorbar": {
             "outlinewidth": 0,
             "ticks": ""
            },
            "type": "contourcarpet"
           }
          ],
          "heatmap": [
           {
            "colorbar": {
             "outlinewidth": 0,
             "ticks": ""
            },
            "colorscale": [
             [
              0,
              "#0d0887"
             ],
             [
              0.1111111111111111,
              "#46039f"
             ],
             [
              0.2222222222222222,
              "#7201a8"
             ],
             [
              0.3333333333333333,
              "#9c179e"
             ],
             [
              0.4444444444444444,
              "#bd3786"
             ],
             [
              0.5555555555555556,
              "#d8576b"
             ],
             [
              0.6666666666666666,
              "#ed7953"
             ],
             [
              0.7777777777777778,
              "#fb9f3a"
             ],
             [
              0.8888888888888888,
              "#fdca26"
             ],
             [
              1,
              "#f0f921"
             ]
            ],
            "type": "heatmap"
           }
          ],
          "heatmapgl": [
           {
            "colorbar": {
             "outlinewidth": 0,
             "ticks": ""
            },
            "colorscale": [
             [
              0,
              "#0d0887"
             ],
             [
              0.1111111111111111,
              "#46039f"
             ],
             [
              0.2222222222222222,
              "#7201a8"
             ],
             [
              0.3333333333333333,
              "#9c179e"
             ],
             [
              0.4444444444444444,
              "#bd3786"
             ],
             [
              0.5555555555555556,
              "#d8576b"
             ],
             [
              0.6666666666666666,
              "#ed7953"
             ],
             [
              0.7777777777777778,
              "#fb9f3a"
             ],
             [
              0.8888888888888888,
              "#fdca26"
             ],
             [
              1,
              "#f0f921"
             ]
            ],
            "type": "heatmapgl"
           }
          ],
          "histogram": [
           {
            "marker": {
             "pattern": {
              "fillmode": "overlay",
              "size": 10,
              "solidity": 0.2
             }
            },
            "type": "histogram"
           }
          ],
          "histogram2d": [
           {
            "colorbar": {
             "outlinewidth": 0,
             "ticks": ""
            },
            "colorscale": [
             [
              0,
              "#0d0887"
             ],
             [
              0.1111111111111111,
              "#46039f"
             ],
             [
              0.2222222222222222,
              "#7201a8"
             ],
             [
              0.3333333333333333,
              "#9c179e"
             ],
             [
              0.4444444444444444,
              "#bd3786"
             ],
             [
              0.5555555555555556,
              "#d8576b"
             ],
             [
              0.6666666666666666,
              "#ed7953"
             ],
             [
              0.7777777777777778,
              "#fb9f3a"
             ],
             [
              0.8888888888888888,
              "#fdca26"
             ],
             [
              1,
              "#f0f921"
             ]
            ],
            "type": "histogram2d"
           }
          ],
          "histogram2dcontour": [
           {
            "colorbar": {
             "outlinewidth": 0,
             "ticks": ""
            },
            "colorscale": [
             [
              0,
              "#0d0887"
             ],
             [
              0.1111111111111111,
              "#46039f"
             ],
             [
              0.2222222222222222,
              "#7201a8"
             ],
             [
              0.3333333333333333,
              "#9c179e"
             ],
             [
              0.4444444444444444,
              "#bd3786"
             ],
             [
              0.5555555555555556,
              "#d8576b"
             ],
             [
              0.6666666666666666,
              "#ed7953"
             ],
             [
              0.7777777777777778,
              "#fb9f3a"
             ],
             [
              0.8888888888888888,
              "#fdca26"
             ],
             [
              1,
              "#f0f921"
             ]
            ],
            "type": "histogram2dcontour"
           }
          ],
          "mesh3d": [
           {
            "colorbar": {
             "outlinewidth": 0,
             "ticks": ""
            },
            "type": "mesh3d"
           }
          ],
          "parcoords": [
           {
            "line": {
             "colorbar": {
              "outlinewidth": 0,
              "ticks": ""
             }
            },
            "type": "parcoords"
           }
          ],
          "pie": [
           {
            "automargin": true,
            "type": "pie"
           }
          ],
          "scatter": [
           {
            "fillpattern": {
             "fillmode": "overlay",
             "size": 10,
             "solidity": 0.2
            },
            "type": "scatter"
           }
          ],
          "scatter3d": [
           {
            "line": {
             "colorbar": {
              "outlinewidth": 0,
              "ticks": ""
             }
            },
            "marker": {
             "colorbar": {
              "outlinewidth": 0,
              "ticks": ""
             }
            },
            "type": "scatter3d"
           }
          ],
          "scattercarpet": [
           {
            "marker": {
             "colorbar": {
              "outlinewidth": 0,
              "ticks": ""
             }
            },
            "type": "scattercarpet"
           }
          ],
          "scattergeo": [
           {
            "marker": {
             "colorbar": {
              "outlinewidth": 0,
              "ticks": ""
             }
            },
            "type": "scattergeo"
           }
          ],
          "scattergl": [
           {
            "marker": {
             "colorbar": {
              "outlinewidth": 0,
              "ticks": ""
             }
            },
            "type": "scattergl"
           }
          ],
          "scattermapbox": [
           {
            "marker": {
             "colorbar": {
              "outlinewidth": 0,
              "ticks": ""
             }
            },
            "type": "scattermapbox"
           }
          ],
          "scatterpolar": [
           {
            "marker": {
             "colorbar": {
              "outlinewidth": 0,
              "ticks": ""
             }
            },
            "type": "scatterpolar"
           }
          ],
          "scatterpolargl": [
           {
            "marker": {
             "colorbar": {
              "outlinewidth": 0,
              "ticks": ""
             }
            },
            "type": "scatterpolargl"
           }
          ],
          "scatterternary": [
           {
            "marker": {
             "colorbar": {
              "outlinewidth": 0,
              "ticks": ""
             }
            },
            "type": "scatterternary"
           }
          ],
          "surface": [
           {
            "colorbar": {
             "outlinewidth": 0,
             "ticks": ""
            },
            "colorscale": [
             [
              0,
              "#0d0887"
             ],
             [
              0.1111111111111111,
              "#46039f"
             ],
             [
              0.2222222222222222,
              "#7201a8"
             ],
             [
              0.3333333333333333,
              "#9c179e"
             ],
             [
              0.4444444444444444,
              "#bd3786"
             ],
             [
              0.5555555555555556,
              "#d8576b"
             ],
             [
              0.6666666666666666,
              "#ed7953"
             ],
             [
              0.7777777777777778,
              "#fb9f3a"
             ],
             [
              0.8888888888888888,
              "#fdca26"
             ],
             [
              1,
              "#f0f921"
             ]
            ],
            "type": "surface"
           }
          ],
          "table": [
           {
            "cells": {
             "fill": {
              "color": "#EBF0F8"
             },
             "line": {
              "color": "white"
             }
            },
            "header": {
             "fill": {
              "color": "#C8D4E3"
             },
             "line": {
              "color": "white"
             }
            },
            "type": "table"
           }
          ]
         },
         "layout": {
          "annotationdefaults": {
           "arrowcolor": "#2a3f5f",
           "arrowhead": 0,
           "arrowwidth": 1
          },
          "autotypenumbers": "strict",
          "coloraxis": {
           "colorbar": {
            "outlinewidth": 0,
            "ticks": ""
           }
          },
          "colorscale": {
           "diverging": [
            [
             0,
             "#8e0152"
            ],
            [
             0.1,
             "#c51b7d"
            ],
            [
             0.2,
             "#de77ae"
            ],
            [
             0.3,
             "#f1b6da"
            ],
            [
             0.4,
             "#fde0ef"
            ],
            [
             0.5,
             "#f7f7f7"
            ],
            [
             0.6,
             "#e6f5d0"
            ],
            [
             0.7,
             "#b8e186"
            ],
            [
             0.8,
             "#7fbc41"
            ],
            [
             0.9,
             "#4d9221"
            ],
            [
             1,
             "#276419"
            ]
           ],
           "sequential": [
            [
             0,
             "#0d0887"
            ],
            [
             0.1111111111111111,
             "#46039f"
            ],
            [
             0.2222222222222222,
             "#7201a8"
            ],
            [
             0.3333333333333333,
             "#9c179e"
            ],
            [
             0.4444444444444444,
             "#bd3786"
            ],
            [
             0.5555555555555556,
             "#d8576b"
            ],
            [
             0.6666666666666666,
             "#ed7953"
            ],
            [
             0.7777777777777778,
             "#fb9f3a"
            ],
            [
             0.8888888888888888,
             "#fdca26"
            ],
            [
             1,
             "#f0f921"
            ]
           ],
           "sequentialminus": [
            [
             0,
             "#0d0887"
            ],
            [
             0.1111111111111111,
             "#46039f"
            ],
            [
             0.2222222222222222,
             "#7201a8"
            ],
            [
             0.3333333333333333,
             "#9c179e"
            ],
            [
             0.4444444444444444,
             "#bd3786"
            ],
            [
             0.5555555555555556,
             "#d8576b"
            ],
            [
             0.6666666666666666,
             "#ed7953"
            ],
            [
             0.7777777777777778,
             "#fb9f3a"
            ],
            [
             0.8888888888888888,
             "#fdca26"
            ],
            [
             1,
             "#f0f921"
            ]
           ]
          },
          "colorway": [
           "#636efa",
           "#EF553B",
           "#00cc96",
           "#ab63fa",
           "#FFA15A",
           "#19d3f3",
           "#FF6692",
           "#B6E880",
           "#FF97FF",
           "#FECB52"
          ],
          "font": {
           "color": "#2a3f5f"
          },
          "geo": {
           "bgcolor": "white",
           "lakecolor": "white",
           "landcolor": "#E5ECF6",
           "showlakes": true,
           "showland": true,
           "subunitcolor": "white"
          },
          "hoverlabel": {
           "align": "left"
          },
          "hovermode": "closest",
          "mapbox": {
           "style": "light"
          },
          "paper_bgcolor": "white",
          "plot_bgcolor": "#E5ECF6",
          "polar": {
           "angularaxis": {
            "gridcolor": "white",
            "linecolor": "white",
            "ticks": ""
           },
           "bgcolor": "#E5ECF6",
           "radialaxis": {
            "gridcolor": "white",
            "linecolor": "white",
            "ticks": ""
           }
          },
          "scene": {
           "xaxis": {
            "backgroundcolor": "#E5ECF6",
            "gridcolor": "white",
            "gridwidth": 2,
            "linecolor": "white",
            "showbackground": true,
            "ticks": "",
            "zerolinecolor": "white"
           },
           "yaxis": {
            "backgroundcolor": "#E5ECF6",
            "gridcolor": "white",
            "gridwidth": 2,
            "linecolor": "white",
            "showbackground": true,
            "ticks": "",
            "zerolinecolor": "white"
           },
           "zaxis": {
            "backgroundcolor": "#E5ECF6",
            "gridcolor": "white",
            "gridwidth": 2,
            "linecolor": "white",
            "showbackground": true,
            "ticks": "",
            "zerolinecolor": "white"
           }
          },
          "shapedefaults": {
           "line": {
            "color": "#2a3f5f"
           }
          },
          "ternary": {
           "aaxis": {
            "gridcolor": "white",
            "linecolor": "white",
            "ticks": ""
           },
           "baxis": {
            "gridcolor": "white",
            "linecolor": "white",
            "ticks": ""
           },
           "bgcolor": "#E5ECF6",
           "caxis": {
            "gridcolor": "white",
            "linecolor": "white",
            "ticks": ""
           }
          },
          "title": {
           "x": 0.05
          },
          "xaxis": {
           "automargin": true,
           "gridcolor": "white",
           "linecolor": "white",
           "ticks": "",
           "title": {
            "standoff": 15
           },
           "zerolinecolor": "white",
           "zerolinewidth": 2
          },
          "yaxis": {
           "automargin": true,
           "gridcolor": "white",
           "linecolor": "white",
           "ticks": "",
           "title": {
            "standoff": 15
           },
           "zerolinecolor": "white",
           "zerolinewidth": 2
          }
         }
        },
        "title": {
         "text": "Top 1000 Filmes IMDB distribuídos ao longo dos Anos"
        },
        "xaxis": {
         "anchor": "y",
         "domain": [
          0,
          1
         ],
         "title": {
          "text": "Ano de Lançamento"
         },
         "type": "category"
        },
        "yaxis": {
         "anchor": "x",
         "domain": [
          0,
          1
         ],
         "title": {
          "text": "Quantidade de Filmes"
         }
        }
       }
      },
      "text/html": [
       "<div>                            <div id=\"a95df350-7fe0-4a16-aa48-d33cbd9fcb7b\" class=\"plotly-graph-div\" style=\"height:525px; width:100%;\"></div>            <script type=\"text/javascript\">                require([\"plotly\"], function(Plotly) {                    window.PLOTLYENV=window.PLOTLYENV || {};                                    if (document.getElementById(\"a95df350-7fe0-4a16-aa48-d33cbd9fcb7b\")) {                    Plotly.newPlot(                        \"a95df350-7fe0-4a16-aa48-d33cbd9fcb7b\",                        [{\"alignmentgroup\":\"True\",\"hovertemplate\":\"variable=wide_variable_0<br>Ano de Lan\\u00e7amento=%{x}<br>value=%{y}<extra></extra>\",\"legendgroup\":\"wide_variable_0\",\"marker\":{\"color\":\"#636efa\",\"pattern\":{\"shape\":\"\"}},\"name\":\"wide_variable_0\",\"offsetgroup\":\"wide_variable_0\",\"orientation\":\"v\",\"showlegend\":true,\"textposition\":\"auto\",\"x\":[1930,1931,1933,1934,1936,1938,1939,1940,1941,1942,1944,1946,1948,1949,1950,1951,1952,1953,1954,1957,1958,1959,1960,1961,1962,1963,1964,1965,1966,1967,1968,1969,1970,1971,1972,1973,1974,1975,1976,1977,1978,1979,1980,1981,1982,1983,1984,1985,1986,1987,1988,1989,1990,1991,1992,1993,1994,1995,1996,1997,1998,1999,2000,2001,2002,2003,2004,2005,2006,2007,2008,2009,2010,2011,2012,2013,2014,2015,2016,2017,2018,2019],\"xaxis\":\"x\",\"y\":[28,27,24,23,22,21,21,20,19,19,18,18,18,18,17,17,16,16,15,15,14,14,14,13,12,12,12,11,10,10,10,10,9,8,8,8,8,8,7,7,6,6,5,5,5,4,4,4,4,4,4,4,4,4,4,3,3,3,3,3,3,3,3,3,2,2,2,2,2,1,1,1,1,1,1,1,1,1,1,1,1,1],\"yaxis\":\"y\",\"type\":\"bar\"}],                        {\"template\":{\"data\":{\"histogram2dcontour\":[{\"type\":\"histogram2dcontour\",\"colorbar\":{\"outlinewidth\":0,\"ticks\":\"\"},\"colorscale\":[[0.0,\"#0d0887\"],[0.1111111111111111,\"#46039f\"],[0.2222222222222222,\"#7201a8\"],[0.3333333333333333,\"#9c179e\"],[0.4444444444444444,\"#bd3786\"],[0.5555555555555556,\"#d8576b\"],[0.6666666666666666,\"#ed7953\"],[0.7777777777777778,\"#fb9f3a\"],[0.8888888888888888,\"#fdca26\"],[1.0,\"#f0f921\"]]}],\"choropleth\":[{\"type\":\"choropleth\",\"colorbar\":{\"outlinewidth\":0,\"ticks\":\"\"}}],\"histogram2d\":[{\"type\":\"histogram2d\",\"colorbar\":{\"outlinewidth\":0,\"ticks\":\"\"},\"colorscale\":[[0.0,\"#0d0887\"],[0.1111111111111111,\"#46039f\"],[0.2222222222222222,\"#7201a8\"],[0.3333333333333333,\"#9c179e\"],[0.4444444444444444,\"#bd3786\"],[0.5555555555555556,\"#d8576b\"],[0.6666666666666666,\"#ed7953\"],[0.7777777777777778,\"#fb9f3a\"],[0.8888888888888888,\"#fdca26\"],[1.0,\"#f0f921\"]]}],\"heatmap\":[{\"type\":\"heatmap\",\"colorbar\":{\"outlinewidth\":0,\"ticks\":\"\"},\"colorscale\":[[0.0,\"#0d0887\"],[0.1111111111111111,\"#46039f\"],[0.2222222222222222,\"#7201a8\"],[0.3333333333333333,\"#9c179e\"],[0.4444444444444444,\"#bd3786\"],[0.5555555555555556,\"#d8576b\"],[0.6666666666666666,\"#ed7953\"],[0.7777777777777778,\"#fb9f3a\"],[0.8888888888888888,\"#fdca26\"],[1.0,\"#f0f921\"]]}],\"heatmapgl\":[{\"type\":\"heatmapgl\",\"colorbar\":{\"outlinewidth\":0,\"ticks\":\"\"},\"colorscale\":[[0.0,\"#0d0887\"],[0.1111111111111111,\"#46039f\"],[0.2222222222222222,\"#7201a8\"],[0.3333333333333333,\"#9c179e\"],[0.4444444444444444,\"#bd3786\"],[0.5555555555555556,\"#d8576b\"],[0.6666666666666666,\"#ed7953\"],[0.7777777777777778,\"#fb9f3a\"],[0.8888888888888888,\"#fdca26\"],[1.0,\"#f0f921\"]]}],\"contourcarpet\":[{\"type\":\"contourcarpet\",\"colorbar\":{\"outlinewidth\":0,\"ticks\":\"\"}}],\"contour\":[{\"type\":\"contour\",\"colorbar\":{\"outlinewidth\":0,\"ticks\":\"\"},\"colorscale\":[[0.0,\"#0d0887\"],[0.1111111111111111,\"#46039f\"],[0.2222222222222222,\"#7201a8\"],[0.3333333333333333,\"#9c179e\"],[0.4444444444444444,\"#bd3786\"],[0.5555555555555556,\"#d8576b\"],[0.6666666666666666,\"#ed7953\"],[0.7777777777777778,\"#fb9f3a\"],[0.8888888888888888,\"#fdca26\"],[1.0,\"#f0f921\"]]}],\"surface\":[{\"type\":\"surface\",\"colorbar\":{\"outlinewidth\":0,\"ticks\":\"\"},\"colorscale\":[[0.0,\"#0d0887\"],[0.1111111111111111,\"#46039f\"],[0.2222222222222222,\"#7201a8\"],[0.3333333333333333,\"#9c179e\"],[0.4444444444444444,\"#bd3786\"],[0.5555555555555556,\"#d8576b\"],[0.6666666666666666,\"#ed7953\"],[0.7777777777777778,\"#fb9f3a\"],[0.8888888888888888,\"#fdca26\"],[1.0,\"#f0f921\"]]}],\"mesh3d\":[{\"type\":\"mesh3d\",\"colorbar\":{\"outlinewidth\":0,\"ticks\":\"\"}}],\"scatter\":[{\"fillpattern\":{\"fillmode\":\"overlay\",\"size\":10,\"solidity\":0.2},\"type\":\"scatter\"}],\"parcoords\":[{\"type\":\"parcoords\",\"line\":{\"colorbar\":{\"outlinewidth\":0,\"ticks\":\"\"}}}],\"scatterpolargl\":[{\"type\":\"scatterpolargl\",\"marker\":{\"colorbar\":{\"outlinewidth\":0,\"ticks\":\"\"}}}],\"bar\":[{\"error_x\":{\"color\":\"#2a3f5f\"},\"error_y\":{\"color\":\"#2a3f5f\"},\"marker\":{\"line\":{\"color\":\"#E5ECF6\",\"width\":0.5},\"pattern\":{\"fillmode\":\"overlay\",\"size\":10,\"solidity\":0.2}},\"type\":\"bar\"}],\"scattergeo\":[{\"type\":\"scattergeo\",\"marker\":{\"colorbar\":{\"outlinewidth\":0,\"ticks\":\"\"}}}],\"scatterpolar\":[{\"type\":\"scatterpolar\",\"marker\":{\"colorbar\":{\"outlinewidth\":0,\"ticks\":\"\"}}}],\"histogram\":[{\"marker\":{\"pattern\":{\"fillmode\":\"overlay\",\"size\":10,\"solidity\":0.2}},\"type\":\"histogram\"}],\"scattergl\":[{\"type\":\"scattergl\",\"marker\":{\"colorbar\":{\"outlinewidth\":0,\"ticks\":\"\"}}}],\"scatter3d\":[{\"type\":\"scatter3d\",\"line\":{\"colorbar\":{\"outlinewidth\":0,\"ticks\":\"\"}},\"marker\":{\"colorbar\":{\"outlinewidth\":0,\"ticks\":\"\"}}}],\"scattermapbox\":[{\"type\":\"scattermapbox\",\"marker\":{\"colorbar\":{\"outlinewidth\":0,\"ticks\":\"\"}}}],\"scatterternary\":[{\"type\":\"scatterternary\",\"marker\":{\"colorbar\":{\"outlinewidth\":0,\"ticks\":\"\"}}}],\"scattercarpet\":[{\"type\":\"scattercarpet\",\"marker\":{\"colorbar\":{\"outlinewidth\":0,\"ticks\":\"\"}}}],\"carpet\":[{\"aaxis\":{\"endlinecolor\":\"#2a3f5f\",\"gridcolor\":\"white\",\"linecolor\":\"white\",\"minorgridcolor\":\"white\",\"startlinecolor\":\"#2a3f5f\"},\"baxis\":{\"endlinecolor\":\"#2a3f5f\",\"gridcolor\":\"white\",\"linecolor\":\"white\",\"minorgridcolor\":\"white\",\"startlinecolor\":\"#2a3f5f\"},\"type\":\"carpet\"}],\"table\":[{\"cells\":{\"fill\":{\"color\":\"#EBF0F8\"},\"line\":{\"color\":\"white\"}},\"header\":{\"fill\":{\"color\":\"#C8D4E3\"},\"line\":{\"color\":\"white\"}},\"type\":\"table\"}],\"barpolar\":[{\"marker\":{\"line\":{\"color\":\"#E5ECF6\",\"width\":0.5},\"pattern\":{\"fillmode\":\"overlay\",\"size\":10,\"solidity\":0.2}},\"type\":\"barpolar\"}],\"pie\":[{\"automargin\":true,\"type\":\"pie\"}]},\"layout\":{\"autotypenumbers\":\"strict\",\"colorway\":[\"#636efa\",\"#EF553B\",\"#00cc96\",\"#ab63fa\",\"#FFA15A\",\"#19d3f3\",\"#FF6692\",\"#B6E880\",\"#FF97FF\",\"#FECB52\"],\"font\":{\"color\":\"#2a3f5f\"},\"hovermode\":\"closest\",\"hoverlabel\":{\"align\":\"left\"},\"paper_bgcolor\":\"white\",\"plot_bgcolor\":\"#E5ECF6\",\"polar\":{\"bgcolor\":\"#E5ECF6\",\"angularaxis\":{\"gridcolor\":\"white\",\"linecolor\":\"white\",\"ticks\":\"\"},\"radialaxis\":{\"gridcolor\":\"white\",\"linecolor\":\"white\",\"ticks\":\"\"}},\"ternary\":{\"bgcolor\":\"#E5ECF6\",\"aaxis\":{\"gridcolor\":\"white\",\"linecolor\":\"white\",\"ticks\":\"\"},\"baxis\":{\"gridcolor\":\"white\",\"linecolor\":\"white\",\"ticks\":\"\"},\"caxis\":{\"gridcolor\":\"white\",\"linecolor\":\"white\",\"ticks\":\"\"}},\"coloraxis\":{\"colorbar\":{\"outlinewidth\":0,\"ticks\":\"\"}},\"colorscale\":{\"sequential\":[[0.0,\"#0d0887\"],[0.1111111111111111,\"#46039f\"],[0.2222222222222222,\"#7201a8\"],[0.3333333333333333,\"#9c179e\"],[0.4444444444444444,\"#bd3786\"],[0.5555555555555556,\"#d8576b\"],[0.6666666666666666,\"#ed7953\"],[0.7777777777777778,\"#fb9f3a\"],[0.8888888888888888,\"#fdca26\"],[1.0,\"#f0f921\"]],\"sequentialminus\":[[0.0,\"#0d0887\"],[0.1111111111111111,\"#46039f\"],[0.2222222222222222,\"#7201a8\"],[0.3333333333333333,\"#9c179e\"],[0.4444444444444444,\"#bd3786\"],[0.5555555555555556,\"#d8576b\"],[0.6666666666666666,\"#ed7953\"],[0.7777777777777778,\"#fb9f3a\"],[0.8888888888888888,\"#fdca26\"],[1.0,\"#f0f921\"]],\"diverging\":[[0,\"#8e0152\"],[0.1,\"#c51b7d\"],[0.2,\"#de77ae\"],[0.3,\"#f1b6da\"],[0.4,\"#fde0ef\"],[0.5,\"#f7f7f7\"],[0.6,\"#e6f5d0\"],[0.7,\"#b8e186\"],[0.8,\"#7fbc41\"],[0.9,\"#4d9221\"],[1,\"#276419\"]]},\"xaxis\":{\"gridcolor\":\"white\",\"linecolor\":\"white\",\"ticks\":\"\",\"title\":{\"standoff\":15},\"zerolinecolor\":\"white\",\"automargin\":true,\"zerolinewidth\":2},\"yaxis\":{\"gridcolor\":\"white\",\"linecolor\":\"white\",\"ticks\":\"\",\"title\":{\"standoff\":15},\"zerolinecolor\":\"white\",\"automargin\":true,\"zerolinewidth\":2},\"scene\":{\"xaxis\":{\"backgroundcolor\":\"#E5ECF6\",\"gridcolor\":\"white\",\"linecolor\":\"white\",\"showbackground\":true,\"ticks\":\"\",\"zerolinecolor\":\"white\",\"gridwidth\":2},\"yaxis\":{\"backgroundcolor\":\"#E5ECF6\",\"gridcolor\":\"white\",\"linecolor\":\"white\",\"showbackground\":true,\"ticks\":\"\",\"zerolinecolor\":\"white\",\"gridwidth\":2},\"zaxis\":{\"backgroundcolor\":\"#E5ECF6\",\"gridcolor\":\"white\",\"linecolor\":\"white\",\"showbackground\":true,\"ticks\":\"\",\"zerolinecolor\":\"white\",\"gridwidth\":2}},\"shapedefaults\":{\"line\":{\"color\":\"#2a3f5f\"}},\"annotationdefaults\":{\"arrowcolor\":\"#2a3f5f\",\"arrowhead\":0,\"arrowwidth\":1},\"geo\":{\"bgcolor\":\"white\",\"landcolor\":\"#E5ECF6\",\"subunitcolor\":\"white\",\"showland\":true,\"showlakes\":true,\"lakecolor\":\"white\"},\"title\":{\"x\":0.05},\"mapbox\":{\"style\":\"light\"}}},\"xaxis\":{\"anchor\":\"y\",\"domain\":[0.0,1.0],\"title\":{\"text\":\"Ano de Lan\\u00e7amento\"},\"type\":\"category\"},\"yaxis\":{\"anchor\":\"x\",\"domain\":[0.0,1.0],\"title\":{\"text\":\"Quantidade de Filmes\"}},\"legend\":{\"title\":{\"text\":\"variable\"},\"tracegroupgap\":0},\"title\":{\"text\":\"Top 1000 Filmes IMDB distribu\\u00eddos ao longo dos Anos\"},\"barmode\":\"relative\",\"showlegend\":false},                        {\"responsive\": true}                    ).then(function(){\n",
       "                            \n",
       "var gd = document.getElementById('a95df350-7fe0-4a16-aa48-d33cbd9fcb7b');\n",
       "var x = new MutationObserver(function (mutations, observer) {{\n",
       "        var display = window.getComputedStyle(gd).display;\n",
       "        if (!display || display === 'none') {{\n",
       "            console.log([gd, 'removed!']);\n",
       "            Plotly.purge(gd);\n",
       "            observer.disconnect();\n",
       "        }}\n",
       "}});\n",
       "\n",
       "// Listen for the removal of the full notebook cells\n",
       "var notebookContainer = gd.closest('#notebook-container');\n",
       "if (notebookContainer) {{\n",
       "    x.observe(notebookContainer, {childList: true});\n",
       "}}\n",
       "\n",
       "// Listen for the clearing of the current output cell\n",
       "var outputEl = gd.closest('.output');\n",
       "if (outputEl) {{\n",
       "    x.observe(outputEl, {childList: true});\n",
       "}}\n",
       "\n",
       "                        })                };                });            </script>        </div>"
      ]
     },
     "metadata": {},
     "output_type": "display_data"
    }
   ],
   "source": [
    "fig = px.bar(\n",
    "    x=sorted(df[\"Released_Year\"].unique()),\n",
    "    y=[df[\"Released_Year\"].value_counts()],\n",
    "    title=\"Top 1000 Filmes IMDB distribuídos ao longo dos Anos\",\n",
    "    labels={\"x\": \"Ano de Lançamento\"},\n",
    ").update_layout(showlegend=False, yaxis_title=\"Quantidade de Filmes\").update_xaxes(type='category')\n",
    "fig.show()"
   ]
  },
  {
   "cell_type": "markdown",
   "metadata": {},
   "source": [
    "**Distribuição do IMDB Rating**: Para analisar como o IMDB Rating está distribuído entre os filmes, aplicaremos um **Histograma** junto de um **Boxplot**, pois ambos os gráficos auxiliam no entendimento da distribuição em variáveis númericas.\n",
    "\n",
    "Com base nos gráficos, é possível notar que os filmes estão concentrados entre os ratings 7.7 e 8.1, com alguns outliers acima de 9.\n"
   ]
  },
  {
   "cell_type": "code",
   "execution_count": 33,
   "metadata": {},
   "outputs": [
    {
     "data": {
      "application/vnd.plotly.v1+json": {
       "config": {
        "plotlyServerURL": "https://plot.ly"
       },
       "data": [
        {
         "alignmentgroup": "True",
         "bingroup": "x",
         "hovertemplate": "Nota no IMDB=%{x}<br>count=%{y}<extra></extra>",
         "legendgroup": "",
         "marker": {
          "color": "Tomato",
          "pattern": {
           "shape": ""
          }
         },
         "name": "",
         "offsetgroup": "",
         "orientation": "v",
         "showlegend": false,
         "type": "histogram",
         "x": [
          9.3,
          9.2,
          9,
          9,
          9,
          8.9,
          8.9,
          8.9,
          8.8,
          8.8,
          8.8,
          8.8,
          8.8,
          8.7,
          8.7,
          8.7,
          8.7,
          8.7,
          8.6,
          8.6,
          8.6,
          8.6,
          8.6,
          8.6,
          8.6,
          8.6,
          8.6,
          8.6,
          8.6,
          8.5,
          8.5,
          8.5,
          8.5,
          8.5,
          8.5,
          8.5,
          8.5,
          8.5,
          8.5,
          8.5,
          8.5,
          8.5,
          8.5,
          8.5,
          8.5,
          8.5,
          8.5,
          8.5,
          8.4,
          8.4,
          8.4,
          8.4,
          8.4,
          8.4,
          8.4,
          8.4,
          8.4,
          8.4,
          8.4,
          8.4,
          8.4,
          8.4,
          8.4,
          8.4,
          8.4,
          8.4,
          8.4,
          8.4,
          8.3,
          8.3,
          8.3,
          8.3,
          8.3,
          8.3,
          8.3,
          8.3,
          8.3,
          8.3,
          8.3,
          8.3,
          8.3,
          8.3,
          8.3,
          8.3,
          8.3,
          8.3,
          8.3,
          8.3,
          8.3,
          8.3,
          8.3,
          8.3,
          8.3,
          8.3,
          8.3,
          8.3,
          8.3,
          8.3,
          8.3,
          8.3,
          8.3,
          8.2,
          8.2,
          8.2,
          8.2,
          8.2,
          8.2,
          8.2,
          8.2,
          8.2,
          8.2,
          8.2,
          8.2,
          8.2,
          8.2,
          8.2,
          8.2,
          8.2,
          8.2,
          8.2,
          8.2,
          8.2,
          8.2,
          8.2,
          8.2,
          8.2,
          8.2,
          8.2,
          8.2,
          8.2,
          8.2,
          8.2,
          8.2,
          8.1,
          8.1,
          8.1,
          8.1,
          8.1,
          8.1,
          8.1,
          8.1,
          8.1,
          8.1,
          8.1,
          8.1,
          8.1,
          8.1,
          8.1,
          8.1,
          8.1,
          8.1,
          8.1,
          8.1,
          8.1,
          8.1,
          8.1,
          8.1,
          8.1,
          8.1,
          8.1,
          8.1,
          8.1,
          8.1,
          8.1,
          8.1,
          8.1,
          8.1,
          8.1,
          8.1,
          8.1,
          8.1,
          8.1,
          8.1,
          8.1,
          8.1,
          8.1,
          8.1,
          8.1,
          8.1,
          8.1,
          8.1,
          8.1,
          8.1,
          8.1,
          8.1,
          8.1,
          8.1,
          8.1,
          8.1,
          8.1,
          8.1,
          8.1,
          8.1,
          8.1,
          8.1,
          8.1,
          8.1,
          8.1,
          8.1,
          8.1,
          8.1,
          8.1,
          8.1,
          8.1,
          8.1,
          8,
          8,
          8,
          8,
          8,
          8,
          8,
          8,
          8,
          8,
          8,
          8,
          8,
          8,
          8,
          8,
          8,
          8,
          8,
          8,
          8,
          8,
          8,
          8,
          8,
          8,
          8,
          8,
          8,
          8,
          8,
          8,
          8,
          8,
          8,
          8,
          8,
          8,
          8,
          8,
          8,
          8,
          8,
          8,
          8,
          8,
          8,
          8,
          8,
          8,
          8,
          8,
          8,
          8,
          8,
          8,
          8,
          8,
          8,
          8,
          8,
          8,
          8,
          8,
          8,
          8,
          8,
          8,
          8,
          8,
          8,
          8,
          8,
          8,
          8,
          8,
          8,
          8,
          8,
          8,
          8,
          8,
          8,
          8,
          8,
          8,
          8,
          8,
          8,
          8,
          8,
          8,
          8,
          8,
          8,
          8,
          8,
          7.9,
          7.9,
          7.9,
          7.9,
          7.9,
          7.9,
          7.9,
          7.9,
          7.9,
          7.9,
          7.9,
          7.9,
          7.9,
          7.9,
          7.9,
          7.9,
          7.9,
          7.9,
          7.9,
          7.9,
          7.9,
          7.9,
          7.9,
          7.9,
          7.9,
          7.9,
          7.9,
          7.9,
          7.9,
          7.9,
          7.9,
          7.9,
          7.9,
          7.9,
          7.9,
          7.9,
          7.9,
          7.9,
          7.9,
          7.9,
          7.9,
          7.9,
          7.9,
          7.9,
          7.9,
          7.9,
          7.9,
          7.9,
          7.9,
          7.9,
          7.9,
          7.9,
          7.9,
          7.9,
          7.9,
          7.9,
          7.9,
          7.9,
          7.9,
          7.9,
          7.9,
          7.9,
          7.9,
          7.9,
          7.9,
          7.9,
          7.9,
          7.9,
          7.9,
          7.9,
          7.9,
          7.9,
          7.9,
          7.9,
          7.9,
          7.9,
          7.9,
          7.8,
          7.8,
          7.8,
          7.8,
          7.8,
          7.8,
          7.8,
          7.8,
          7.8,
          7.8,
          7.8,
          7.8,
          7.8,
          7.8,
          7.8,
          7.8,
          7.8,
          7.8,
          7.8,
          7.8,
          7.8,
          7.8,
          7.8,
          7.8,
          7.8,
          7.8,
          7.8,
          7.8,
          7.8,
          7.8,
          7.8,
          7.8,
          7.8,
          7.8,
          7.8,
          7.8,
          7.8,
          7.8,
          7.8,
          7.8,
          7.8,
          7.8,
          7.8,
          7.8,
          7.8,
          7.8,
          7.8,
          7.8,
          7.8,
          7.8,
          7.8,
          7.8,
          7.8,
          7.8,
          7.8,
          7.8,
          7.8,
          7.8,
          7.8,
          7.8,
          7.8,
          7.8,
          7.8,
          7.8,
          7.8,
          7.8,
          7.8,
          7.8,
          7.8,
          7.8,
          7.8,
          7.8,
          7.8,
          7.8,
          7.8,
          7.8,
          7.8,
          7.8,
          7.8,
          7.8,
          7.8,
          7.8,
          7.8,
          7.8,
          7.8,
          7.8,
          7.8,
          7.8,
          7.8,
          7.8,
          7.8,
          7.8,
          7.8,
          7.8,
          7.8,
          7.8,
          7.8,
          7.8,
          7.8,
          7.8,
          7.8,
          7.8,
          7.8,
          7.8,
          7.8,
          7.8,
          7.8,
          7.7,
          7.7,
          7.7,
          7.7,
          7.7,
          7.7,
          7.7,
          7.7,
          7.7,
          7.7,
          7.7,
          7.7,
          7.7,
          7.7,
          7.7,
          7.7,
          7.7,
          7.7,
          7.7,
          7.7,
          7.7,
          7.7,
          7.7,
          7.7,
          7.7,
          7.7,
          7.7,
          7.7,
          7.7,
          7.7,
          7.7,
          7.7,
          7.7,
          7.7,
          7.7,
          7.7,
          7.7,
          7.7,
          7.7,
          7.7,
          7.7,
          7.7,
          7.7,
          7.7,
          7.7,
          7.7,
          7.7,
          7.7,
          7.7,
          7.7,
          7.7,
          7.7,
          7.7,
          7.7,
          7.7,
          7.7,
          7.7,
          7.7,
          7.7,
          7.7,
          7.7,
          7.7,
          7.7,
          7.7,
          7.7,
          7.7,
          7.7,
          7.7,
          7.7,
          7.7,
          7.7,
          7.7,
          7.7,
          7.7,
          7.7,
          7.7,
          7.7,
          7.7,
          7.7,
          7.7,
          7.7,
          7.7,
          7.7,
          7.7,
          7.7,
          7.7,
          7.7,
          7.7,
          7.7,
          7.7,
          7.7,
          7.7,
          7.7,
          7.7,
          7.7,
          7.7,
          7.7,
          7.7,
          7.7,
          7.7,
          7.7,
          7.7,
          7.7,
          7.7,
          7.7,
          7.7,
          7.7,
          7.7,
          7.7,
          7.7,
          7.7,
          7.7,
          7.7,
          7.7,
          7.7,
          7.7,
          7.7,
          7.7,
          7.7,
          7.7,
          7.7,
          7.6,
          7.6,
          7.6,
          7.6,
          7.6,
          7.6,
          7.6,
          7.6,
          7.6,
          7.6,
          7.6,
          7.6,
          7.6,
          7.6,
          7.6,
          7.6,
          7.6,
          7.6,
          7.6,
          7.6,
          7.6,
          7.6,
          7.6,
          7.6,
          7.6,
          7.6,
          7.6,
          7.6,
          7.6,
          7.6,
          7.6,
          7.6,
          7.6,
          7.6,
          7.6,
          7.6,
          7.6,
          7.6,
          7.6,
          7.6,
          7.6,
          7.6,
          7.6,
          7.6,
          7.6,
          7.6,
          7.6,
          7.6,
          7.6,
          7.6,
          7.6,
          7.6,
          7.6,
          7.6,
          7.6,
          7.6,
          7.6,
          7.6,
          7.6,
          7.6,
          7.6,
          7.6,
          7.6,
          7.6,
          7.6,
          7.6,
          7.6,
          7.6,
          7.6,
          7.6,
          7.6,
          7.6,
          7.6,
          7.6,
          7.6,
          7.6,
          7.6,
          7.6,
          7.6,
          7.6,
          7.6,
          7.6,
          7.6,
          7.6,
          7.6,
          7.6,
          7.6,
          7.6,
          7.6,
          7.6,
          7.6,
          7.6,
          7.6,
          7.6,
          7.6,
          7.6,
          7.6,
          7.6,
          7.6,
          7.6,
          7.6,
          7.6,
          7.6,
          7.6,
          7.6,
          7.6,
          7.6
         ],
         "xaxis": "x",
         "yaxis": "y"
        },
        {
         "alignmentgroup": "True",
         "hovertemplate": "Nota no IMDB=%{x}<extra></extra>",
         "legendgroup": "",
         "marker": {
          "color": "Tomato"
         },
         "name": "",
         "notched": true,
         "offsetgroup": "",
         "showlegend": false,
         "type": "box",
         "x": [
          9.3,
          9.2,
          9,
          9,
          9,
          8.9,
          8.9,
          8.9,
          8.8,
          8.8,
          8.8,
          8.8,
          8.8,
          8.7,
          8.7,
          8.7,
          8.7,
          8.7,
          8.6,
          8.6,
          8.6,
          8.6,
          8.6,
          8.6,
          8.6,
          8.6,
          8.6,
          8.6,
          8.6,
          8.5,
          8.5,
          8.5,
          8.5,
          8.5,
          8.5,
          8.5,
          8.5,
          8.5,
          8.5,
          8.5,
          8.5,
          8.5,
          8.5,
          8.5,
          8.5,
          8.5,
          8.5,
          8.5,
          8.4,
          8.4,
          8.4,
          8.4,
          8.4,
          8.4,
          8.4,
          8.4,
          8.4,
          8.4,
          8.4,
          8.4,
          8.4,
          8.4,
          8.4,
          8.4,
          8.4,
          8.4,
          8.4,
          8.4,
          8.3,
          8.3,
          8.3,
          8.3,
          8.3,
          8.3,
          8.3,
          8.3,
          8.3,
          8.3,
          8.3,
          8.3,
          8.3,
          8.3,
          8.3,
          8.3,
          8.3,
          8.3,
          8.3,
          8.3,
          8.3,
          8.3,
          8.3,
          8.3,
          8.3,
          8.3,
          8.3,
          8.3,
          8.3,
          8.3,
          8.3,
          8.3,
          8.3,
          8.2,
          8.2,
          8.2,
          8.2,
          8.2,
          8.2,
          8.2,
          8.2,
          8.2,
          8.2,
          8.2,
          8.2,
          8.2,
          8.2,
          8.2,
          8.2,
          8.2,
          8.2,
          8.2,
          8.2,
          8.2,
          8.2,
          8.2,
          8.2,
          8.2,
          8.2,
          8.2,
          8.2,
          8.2,
          8.2,
          8.2,
          8.2,
          8.1,
          8.1,
          8.1,
          8.1,
          8.1,
          8.1,
          8.1,
          8.1,
          8.1,
          8.1,
          8.1,
          8.1,
          8.1,
          8.1,
          8.1,
          8.1,
          8.1,
          8.1,
          8.1,
          8.1,
          8.1,
          8.1,
          8.1,
          8.1,
          8.1,
          8.1,
          8.1,
          8.1,
          8.1,
          8.1,
          8.1,
          8.1,
          8.1,
          8.1,
          8.1,
          8.1,
          8.1,
          8.1,
          8.1,
          8.1,
          8.1,
          8.1,
          8.1,
          8.1,
          8.1,
          8.1,
          8.1,
          8.1,
          8.1,
          8.1,
          8.1,
          8.1,
          8.1,
          8.1,
          8.1,
          8.1,
          8.1,
          8.1,
          8.1,
          8.1,
          8.1,
          8.1,
          8.1,
          8.1,
          8.1,
          8.1,
          8.1,
          8.1,
          8.1,
          8.1,
          8.1,
          8.1,
          8,
          8,
          8,
          8,
          8,
          8,
          8,
          8,
          8,
          8,
          8,
          8,
          8,
          8,
          8,
          8,
          8,
          8,
          8,
          8,
          8,
          8,
          8,
          8,
          8,
          8,
          8,
          8,
          8,
          8,
          8,
          8,
          8,
          8,
          8,
          8,
          8,
          8,
          8,
          8,
          8,
          8,
          8,
          8,
          8,
          8,
          8,
          8,
          8,
          8,
          8,
          8,
          8,
          8,
          8,
          8,
          8,
          8,
          8,
          8,
          8,
          8,
          8,
          8,
          8,
          8,
          8,
          8,
          8,
          8,
          8,
          8,
          8,
          8,
          8,
          8,
          8,
          8,
          8,
          8,
          8,
          8,
          8,
          8,
          8,
          8,
          8,
          8,
          8,
          8,
          8,
          8,
          8,
          8,
          8,
          8,
          8,
          7.9,
          7.9,
          7.9,
          7.9,
          7.9,
          7.9,
          7.9,
          7.9,
          7.9,
          7.9,
          7.9,
          7.9,
          7.9,
          7.9,
          7.9,
          7.9,
          7.9,
          7.9,
          7.9,
          7.9,
          7.9,
          7.9,
          7.9,
          7.9,
          7.9,
          7.9,
          7.9,
          7.9,
          7.9,
          7.9,
          7.9,
          7.9,
          7.9,
          7.9,
          7.9,
          7.9,
          7.9,
          7.9,
          7.9,
          7.9,
          7.9,
          7.9,
          7.9,
          7.9,
          7.9,
          7.9,
          7.9,
          7.9,
          7.9,
          7.9,
          7.9,
          7.9,
          7.9,
          7.9,
          7.9,
          7.9,
          7.9,
          7.9,
          7.9,
          7.9,
          7.9,
          7.9,
          7.9,
          7.9,
          7.9,
          7.9,
          7.9,
          7.9,
          7.9,
          7.9,
          7.9,
          7.9,
          7.9,
          7.9,
          7.9,
          7.9,
          7.9,
          7.8,
          7.8,
          7.8,
          7.8,
          7.8,
          7.8,
          7.8,
          7.8,
          7.8,
          7.8,
          7.8,
          7.8,
          7.8,
          7.8,
          7.8,
          7.8,
          7.8,
          7.8,
          7.8,
          7.8,
          7.8,
          7.8,
          7.8,
          7.8,
          7.8,
          7.8,
          7.8,
          7.8,
          7.8,
          7.8,
          7.8,
          7.8,
          7.8,
          7.8,
          7.8,
          7.8,
          7.8,
          7.8,
          7.8,
          7.8,
          7.8,
          7.8,
          7.8,
          7.8,
          7.8,
          7.8,
          7.8,
          7.8,
          7.8,
          7.8,
          7.8,
          7.8,
          7.8,
          7.8,
          7.8,
          7.8,
          7.8,
          7.8,
          7.8,
          7.8,
          7.8,
          7.8,
          7.8,
          7.8,
          7.8,
          7.8,
          7.8,
          7.8,
          7.8,
          7.8,
          7.8,
          7.8,
          7.8,
          7.8,
          7.8,
          7.8,
          7.8,
          7.8,
          7.8,
          7.8,
          7.8,
          7.8,
          7.8,
          7.8,
          7.8,
          7.8,
          7.8,
          7.8,
          7.8,
          7.8,
          7.8,
          7.8,
          7.8,
          7.8,
          7.8,
          7.8,
          7.8,
          7.8,
          7.8,
          7.8,
          7.8,
          7.8,
          7.8,
          7.8,
          7.8,
          7.8,
          7.8,
          7.7,
          7.7,
          7.7,
          7.7,
          7.7,
          7.7,
          7.7,
          7.7,
          7.7,
          7.7,
          7.7,
          7.7,
          7.7,
          7.7,
          7.7,
          7.7,
          7.7,
          7.7,
          7.7,
          7.7,
          7.7,
          7.7,
          7.7,
          7.7,
          7.7,
          7.7,
          7.7,
          7.7,
          7.7,
          7.7,
          7.7,
          7.7,
          7.7,
          7.7,
          7.7,
          7.7,
          7.7,
          7.7,
          7.7,
          7.7,
          7.7,
          7.7,
          7.7,
          7.7,
          7.7,
          7.7,
          7.7,
          7.7,
          7.7,
          7.7,
          7.7,
          7.7,
          7.7,
          7.7,
          7.7,
          7.7,
          7.7,
          7.7,
          7.7,
          7.7,
          7.7,
          7.7,
          7.7,
          7.7,
          7.7,
          7.7,
          7.7,
          7.7,
          7.7,
          7.7,
          7.7,
          7.7,
          7.7,
          7.7,
          7.7,
          7.7,
          7.7,
          7.7,
          7.7,
          7.7,
          7.7,
          7.7,
          7.7,
          7.7,
          7.7,
          7.7,
          7.7,
          7.7,
          7.7,
          7.7,
          7.7,
          7.7,
          7.7,
          7.7,
          7.7,
          7.7,
          7.7,
          7.7,
          7.7,
          7.7,
          7.7,
          7.7,
          7.7,
          7.7,
          7.7,
          7.7,
          7.7,
          7.7,
          7.7,
          7.7,
          7.7,
          7.7,
          7.7,
          7.7,
          7.7,
          7.7,
          7.7,
          7.7,
          7.7,
          7.7,
          7.7,
          7.6,
          7.6,
          7.6,
          7.6,
          7.6,
          7.6,
          7.6,
          7.6,
          7.6,
          7.6,
          7.6,
          7.6,
          7.6,
          7.6,
          7.6,
          7.6,
          7.6,
          7.6,
          7.6,
          7.6,
          7.6,
          7.6,
          7.6,
          7.6,
          7.6,
          7.6,
          7.6,
          7.6,
          7.6,
          7.6,
          7.6,
          7.6,
          7.6,
          7.6,
          7.6,
          7.6,
          7.6,
          7.6,
          7.6,
          7.6,
          7.6,
          7.6,
          7.6,
          7.6,
          7.6,
          7.6,
          7.6,
          7.6,
          7.6,
          7.6,
          7.6,
          7.6,
          7.6,
          7.6,
          7.6,
          7.6,
          7.6,
          7.6,
          7.6,
          7.6,
          7.6,
          7.6,
          7.6,
          7.6,
          7.6,
          7.6,
          7.6,
          7.6,
          7.6,
          7.6,
          7.6,
          7.6,
          7.6,
          7.6,
          7.6,
          7.6,
          7.6,
          7.6,
          7.6,
          7.6,
          7.6,
          7.6,
          7.6,
          7.6,
          7.6,
          7.6,
          7.6,
          7.6,
          7.6,
          7.6,
          7.6,
          7.6,
          7.6,
          7.6,
          7.6,
          7.6,
          7.6,
          7.6,
          7.6,
          7.6,
          7.6,
          7.6,
          7.6,
          7.6,
          7.6,
          7.6,
          7.6
         ],
         "xaxis": "x2",
         "yaxis": "y2"
        }
       ],
       "layout": {
        "barmode": "relative",
        "legend": {
         "tracegroupgap": 0
        },
        "template": {
         "data": {
          "bar": [
           {
            "error_x": {
             "color": "#2a3f5f"
            },
            "error_y": {
             "color": "#2a3f5f"
            },
            "marker": {
             "line": {
              "color": "#E5ECF6",
              "width": 0.5
             },
             "pattern": {
              "fillmode": "overlay",
              "size": 10,
              "solidity": 0.2
             }
            },
            "type": "bar"
           }
          ],
          "barpolar": [
           {
            "marker": {
             "line": {
              "color": "#E5ECF6",
              "width": 0.5
             },
             "pattern": {
              "fillmode": "overlay",
              "size": 10,
              "solidity": 0.2
             }
            },
            "type": "barpolar"
           }
          ],
          "carpet": [
           {
            "aaxis": {
             "endlinecolor": "#2a3f5f",
             "gridcolor": "white",
             "linecolor": "white",
             "minorgridcolor": "white",
             "startlinecolor": "#2a3f5f"
            },
            "baxis": {
             "endlinecolor": "#2a3f5f",
             "gridcolor": "white",
             "linecolor": "white",
             "minorgridcolor": "white",
             "startlinecolor": "#2a3f5f"
            },
            "type": "carpet"
           }
          ],
          "choropleth": [
           {
            "colorbar": {
             "outlinewidth": 0,
             "ticks": ""
            },
            "type": "choropleth"
           }
          ],
          "contour": [
           {
            "colorbar": {
             "outlinewidth": 0,
             "ticks": ""
            },
            "colorscale": [
             [
              0,
              "#0d0887"
             ],
             [
              0.1111111111111111,
              "#46039f"
             ],
             [
              0.2222222222222222,
              "#7201a8"
             ],
             [
              0.3333333333333333,
              "#9c179e"
             ],
             [
              0.4444444444444444,
              "#bd3786"
             ],
             [
              0.5555555555555556,
              "#d8576b"
             ],
             [
              0.6666666666666666,
              "#ed7953"
             ],
             [
              0.7777777777777778,
              "#fb9f3a"
             ],
             [
              0.8888888888888888,
              "#fdca26"
             ],
             [
              1,
              "#f0f921"
             ]
            ],
            "type": "contour"
           }
          ],
          "contourcarpet": [
           {
            "colorbar": {
             "outlinewidth": 0,
             "ticks": ""
            },
            "type": "contourcarpet"
           }
          ],
          "heatmap": [
           {
            "colorbar": {
             "outlinewidth": 0,
             "ticks": ""
            },
            "colorscale": [
             [
              0,
              "#0d0887"
             ],
             [
              0.1111111111111111,
              "#46039f"
             ],
             [
              0.2222222222222222,
              "#7201a8"
             ],
             [
              0.3333333333333333,
              "#9c179e"
             ],
             [
              0.4444444444444444,
              "#bd3786"
             ],
             [
              0.5555555555555556,
              "#d8576b"
             ],
             [
              0.6666666666666666,
              "#ed7953"
             ],
             [
              0.7777777777777778,
              "#fb9f3a"
             ],
             [
              0.8888888888888888,
              "#fdca26"
             ],
             [
              1,
              "#f0f921"
             ]
            ],
            "type": "heatmap"
           }
          ],
          "heatmapgl": [
           {
            "colorbar": {
             "outlinewidth": 0,
             "ticks": ""
            },
            "colorscale": [
             [
              0,
              "#0d0887"
             ],
             [
              0.1111111111111111,
              "#46039f"
             ],
             [
              0.2222222222222222,
              "#7201a8"
             ],
             [
              0.3333333333333333,
              "#9c179e"
             ],
             [
              0.4444444444444444,
              "#bd3786"
             ],
             [
              0.5555555555555556,
              "#d8576b"
             ],
             [
              0.6666666666666666,
              "#ed7953"
             ],
             [
              0.7777777777777778,
              "#fb9f3a"
             ],
             [
              0.8888888888888888,
              "#fdca26"
             ],
             [
              1,
              "#f0f921"
             ]
            ],
            "type": "heatmapgl"
           }
          ],
          "histogram": [
           {
            "marker": {
             "pattern": {
              "fillmode": "overlay",
              "size": 10,
              "solidity": 0.2
             }
            },
            "type": "histogram"
           }
          ],
          "histogram2d": [
           {
            "colorbar": {
             "outlinewidth": 0,
             "ticks": ""
            },
            "colorscale": [
             [
              0,
              "#0d0887"
             ],
             [
              0.1111111111111111,
              "#46039f"
             ],
             [
              0.2222222222222222,
              "#7201a8"
             ],
             [
              0.3333333333333333,
              "#9c179e"
             ],
             [
              0.4444444444444444,
              "#bd3786"
             ],
             [
              0.5555555555555556,
              "#d8576b"
             ],
             [
              0.6666666666666666,
              "#ed7953"
             ],
             [
              0.7777777777777778,
              "#fb9f3a"
             ],
             [
              0.8888888888888888,
              "#fdca26"
             ],
             [
              1,
              "#f0f921"
             ]
            ],
            "type": "histogram2d"
           }
          ],
          "histogram2dcontour": [
           {
            "colorbar": {
             "outlinewidth": 0,
             "ticks": ""
            },
            "colorscale": [
             [
              0,
              "#0d0887"
             ],
             [
              0.1111111111111111,
              "#46039f"
             ],
             [
              0.2222222222222222,
              "#7201a8"
             ],
             [
              0.3333333333333333,
              "#9c179e"
             ],
             [
              0.4444444444444444,
              "#bd3786"
             ],
             [
              0.5555555555555556,
              "#d8576b"
             ],
             [
              0.6666666666666666,
              "#ed7953"
             ],
             [
              0.7777777777777778,
              "#fb9f3a"
             ],
             [
              0.8888888888888888,
              "#fdca26"
             ],
             [
              1,
              "#f0f921"
             ]
            ],
            "type": "histogram2dcontour"
           }
          ],
          "mesh3d": [
           {
            "colorbar": {
             "outlinewidth": 0,
             "ticks": ""
            },
            "type": "mesh3d"
           }
          ],
          "parcoords": [
           {
            "line": {
             "colorbar": {
              "outlinewidth": 0,
              "ticks": ""
             }
            },
            "type": "parcoords"
           }
          ],
          "pie": [
           {
            "automargin": true,
            "type": "pie"
           }
          ],
          "scatter": [
           {
            "fillpattern": {
             "fillmode": "overlay",
             "size": 10,
             "solidity": 0.2
            },
            "type": "scatter"
           }
          ],
          "scatter3d": [
           {
            "line": {
             "colorbar": {
              "outlinewidth": 0,
              "ticks": ""
             }
            },
            "marker": {
             "colorbar": {
              "outlinewidth": 0,
              "ticks": ""
             }
            },
            "type": "scatter3d"
           }
          ],
          "scattercarpet": [
           {
            "marker": {
             "colorbar": {
              "outlinewidth": 0,
              "ticks": ""
             }
            },
            "type": "scattercarpet"
           }
          ],
          "scattergeo": [
           {
            "marker": {
             "colorbar": {
              "outlinewidth": 0,
              "ticks": ""
             }
            },
            "type": "scattergeo"
           }
          ],
          "scattergl": [
           {
            "marker": {
             "colorbar": {
              "outlinewidth": 0,
              "ticks": ""
             }
            },
            "type": "scattergl"
           }
          ],
          "scattermapbox": [
           {
            "marker": {
             "colorbar": {
              "outlinewidth": 0,
              "ticks": ""
             }
            },
            "type": "scattermapbox"
           }
          ],
          "scatterpolar": [
           {
            "marker": {
             "colorbar": {
              "outlinewidth": 0,
              "ticks": ""
             }
            },
            "type": "scatterpolar"
           }
          ],
          "scatterpolargl": [
           {
            "marker": {
             "colorbar": {
              "outlinewidth": 0,
              "ticks": ""
             }
            },
            "type": "scatterpolargl"
           }
          ],
          "scatterternary": [
           {
            "marker": {
             "colorbar": {
              "outlinewidth": 0,
              "ticks": ""
             }
            },
            "type": "scatterternary"
           }
          ],
          "surface": [
           {
            "colorbar": {
             "outlinewidth": 0,
             "ticks": ""
            },
            "colorscale": [
             [
              0,
              "#0d0887"
             ],
             [
              0.1111111111111111,
              "#46039f"
             ],
             [
              0.2222222222222222,
              "#7201a8"
             ],
             [
              0.3333333333333333,
              "#9c179e"
             ],
             [
              0.4444444444444444,
              "#bd3786"
             ],
             [
              0.5555555555555556,
              "#d8576b"
             ],
             [
              0.6666666666666666,
              "#ed7953"
             ],
             [
              0.7777777777777778,
              "#fb9f3a"
             ],
             [
              0.8888888888888888,
              "#fdca26"
             ],
             [
              1,
              "#f0f921"
             ]
            ],
            "type": "surface"
           }
          ],
          "table": [
           {
            "cells": {
             "fill": {
              "color": "#EBF0F8"
             },
             "line": {
              "color": "white"
             }
            },
            "header": {
             "fill": {
              "color": "#C8D4E3"
             },
             "line": {
              "color": "white"
             }
            },
            "type": "table"
           }
          ]
         },
         "layout": {
          "annotationdefaults": {
           "arrowcolor": "#2a3f5f",
           "arrowhead": 0,
           "arrowwidth": 1
          },
          "autotypenumbers": "strict",
          "coloraxis": {
           "colorbar": {
            "outlinewidth": 0,
            "ticks": ""
           }
          },
          "colorscale": {
           "diverging": [
            [
             0,
             "#8e0152"
            ],
            [
             0.1,
             "#c51b7d"
            ],
            [
             0.2,
             "#de77ae"
            ],
            [
             0.3,
             "#f1b6da"
            ],
            [
             0.4,
             "#fde0ef"
            ],
            [
             0.5,
             "#f7f7f7"
            ],
            [
             0.6,
             "#e6f5d0"
            ],
            [
             0.7,
             "#b8e186"
            ],
            [
             0.8,
             "#7fbc41"
            ],
            [
             0.9,
             "#4d9221"
            ],
            [
             1,
             "#276419"
            ]
           ],
           "sequential": [
            [
             0,
             "#0d0887"
            ],
            [
             0.1111111111111111,
             "#46039f"
            ],
            [
             0.2222222222222222,
             "#7201a8"
            ],
            [
             0.3333333333333333,
             "#9c179e"
            ],
            [
             0.4444444444444444,
             "#bd3786"
            ],
            [
             0.5555555555555556,
             "#d8576b"
            ],
            [
             0.6666666666666666,
             "#ed7953"
            ],
            [
             0.7777777777777778,
             "#fb9f3a"
            ],
            [
             0.8888888888888888,
             "#fdca26"
            ],
            [
             1,
             "#f0f921"
            ]
           ],
           "sequentialminus": [
            [
             0,
             "#0d0887"
            ],
            [
             0.1111111111111111,
             "#46039f"
            ],
            [
             0.2222222222222222,
             "#7201a8"
            ],
            [
             0.3333333333333333,
             "#9c179e"
            ],
            [
             0.4444444444444444,
             "#bd3786"
            ],
            [
             0.5555555555555556,
             "#d8576b"
            ],
            [
             0.6666666666666666,
             "#ed7953"
            ],
            [
             0.7777777777777778,
             "#fb9f3a"
            ],
            [
             0.8888888888888888,
             "#fdca26"
            ],
            [
             1,
             "#f0f921"
            ]
           ]
          },
          "colorway": [
           "#636efa",
           "#EF553B",
           "#00cc96",
           "#ab63fa",
           "#FFA15A",
           "#19d3f3",
           "#FF6692",
           "#B6E880",
           "#FF97FF",
           "#FECB52"
          ],
          "font": {
           "color": "#2a3f5f"
          },
          "geo": {
           "bgcolor": "white",
           "lakecolor": "white",
           "landcolor": "#E5ECF6",
           "showlakes": true,
           "showland": true,
           "subunitcolor": "white"
          },
          "hoverlabel": {
           "align": "left"
          },
          "hovermode": "closest",
          "mapbox": {
           "style": "light"
          },
          "paper_bgcolor": "white",
          "plot_bgcolor": "#E5ECF6",
          "polar": {
           "angularaxis": {
            "gridcolor": "white",
            "linecolor": "white",
            "ticks": ""
           },
           "bgcolor": "#E5ECF6",
           "radialaxis": {
            "gridcolor": "white",
            "linecolor": "white",
            "ticks": ""
           }
          },
          "scene": {
           "xaxis": {
            "backgroundcolor": "#E5ECF6",
            "gridcolor": "white",
            "gridwidth": 2,
            "linecolor": "white",
            "showbackground": true,
            "ticks": "",
            "zerolinecolor": "white"
           },
           "yaxis": {
            "backgroundcolor": "#E5ECF6",
            "gridcolor": "white",
            "gridwidth": 2,
            "linecolor": "white",
            "showbackground": true,
            "ticks": "",
            "zerolinecolor": "white"
           },
           "zaxis": {
            "backgroundcolor": "#E5ECF6",
            "gridcolor": "white",
            "gridwidth": 2,
            "linecolor": "white",
            "showbackground": true,
            "ticks": "",
            "zerolinecolor": "white"
           }
          },
          "shapedefaults": {
           "line": {
            "color": "#2a3f5f"
           }
          },
          "ternary": {
           "aaxis": {
            "gridcolor": "white",
            "linecolor": "white",
            "ticks": ""
           },
           "baxis": {
            "gridcolor": "white",
            "linecolor": "white",
            "ticks": ""
           },
           "bgcolor": "#E5ECF6",
           "caxis": {
            "gridcolor": "white",
            "linecolor": "white",
            "ticks": ""
           }
          },
          "title": {
           "x": 0.05
          },
          "xaxis": {
           "automargin": true,
           "gridcolor": "white",
           "linecolor": "white",
           "ticks": "",
           "title": {
            "standoff": 15
           },
           "zerolinecolor": "white",
           "zerolinewidth": 2
          },
          "yaxis": {
           "automargin": true,
           "gridcolor": "white",
           "linecolor": "white",
           "ticks": "",
           "title": {
            "standoff": 15
           },
           "zerolinecolor": "white",
           "zerolinewidth": 2
          }
         }
        },
        "title": {
         "text": "Distribuição do IMDB Rating nos Filmes"
        },
        "xaxis": {
         "anchor": "y",
         "domain": [
          0,
          1
         ],
         "title": {
          "text": "Nota no IMDB"
         }
        },
        "xaxis2": {
         "anchor": "y2",
         "domain": [
          0,
          1
         ],
         "matches": "x",
         "showgrid": true,
         "showticklabels": false
        },
        "yaxis": {
         "anchor": "x",
         "domain": [
          0,
          0.8316
         ],
         "title": {
          "text": "Quantidade de Filmes"
         }
        },
        "yaxis2": {
         "anchor": "x2",
         "domain": [
          0.8416,
          1
         ],
         "matches": "y2",
         "showgrid": false,
         "showline": false,
         "showticklabels": false,
         "ticks": ""
        }
       }
      },
      "text/html": [
       "<div>                            <div id=\"9b70c01b-dfd5-45f1-92b0-c6f019ed9025\" class=\"plotly-graph-div\" style=\"height:525px; width:100%;\"></div>            <script type=\"text/javascript\">                require([\"plotly\"], function(Plotly) {                    window.PLOTLYENV=window.PLOTLYENV || {};                                    if (document.getElementById(\"9b70c01b-dfd5-45f1-92b0-c6f019ed9025\")) {                    Plotly.newPlot(                        \"9b70c01b-dfd5-45f1-92b0-c6f019ed9025\",                        [{\"alignmentgroup\":\"True\",\"bingroup\":\"x\",\"hovertemplate\":\"Nota no IMDB=%{x}<br>count=%{y}<extra></extra>\",\"legendgroup\":\"\",\"marker\":{\"color\":\"Tomato\",\"pattern\":{\"shape\":\"\"}},\"name\":\"\",\"offsetgroup\":\"\",\"orientation\":\"v\",\"showlegend\":false,\"x\":[9.3,9.2,9.0,9.0,9.0,8.9,8.9,8.9,8.8,8.8,8.8,8.8,8.8,8.7,8.7,8.7,8.7,8.7,8.6,8.6,8.6,8.6,8.6,8.6,8.6,8.6,8.6,8.6,8.6,8.5,8.5,8.5,8.5,8.5,8.5,8.5,8.5,8.5,8.5,8.5,8.5,8.5,8.5,8.5,8.5,8.5,8.5,8.5,8.4,8.4,8.4,8.4,8.4,8.4,8.4,8.4,8.4,8.4,8.4,8.4,8.4,8.4,8.4,8.4,8.4,8.4,8.4,8.4,8.3,8.3,8.3,8.3,8.3,8.3,8.3,8.3,8.3,8.3,8.3,8.3,8.3,8.3,8.3,8.3,8.3,8.3,8.3,8.3,8.3,8.3,8.3,8.3,8.3,8.3,8.3,8.3,8.3,8.3,8.3,8.3,8.3,8.2,8.2,8.2,8.2,8.2,8.2,8.2,8.2,8.2,8.2,8.2,8.2,8.2,8.2,8.2,8.2,8.2,8.2,8.2,8.2,8.2,8.2,8.2,8.2,8.2,8.2,8.2,8.2,8.2,8.2,8.2,8.2,8.1,8.1,8.1,8.1,8.1,8.1,8.1,8.1,8.1,8.1,8.1,8.1,8.1,8.1,8.1,8.1,8.1,8.1,8.1,8.1,8.1,8.1,8.1,8.1,8.1,8.1,8.1,8.1,8.1,8.1,8.1,8.1,8.1,8.1,8.1,8.1,8.1,8.1,8.1,8.1,8.1,8.1,8.1,8.1,8.1,8.1,8.1,8.1,8.1,8.1,8.1,8.1,8.1,8.1,8.1,8.1,8.1,8.1,8.1,8.1,8.1,8.1,8.1,8.1,8.1,8.1,8.1,8.1,8.1,8.1,8.1,8.1,8.0,8.0,8.0,8.0,8.0,8.0,8.0,8.0,8.0,8.0,8.0,8.0,8.0,8.0,8.0,8.0,8.0,8.0,8.0,8.0,8.0,8.0,8.0,8.0,8.0,8.0,8.0,8.0,8.0,8.0,8.0,8.0,8.0,8.0,8.0,8.0,8.0,8.0,8.0,8.0,8.0,8.0,8.0,8.0,8.0,8.0,8.0,8.0,8.0,8.0,8.0,8.0,8.0,8.0,8.0,8.0,8.0,8.0,8.0,8.0,8.0,8.0,8.0,8.0,8.0,8.0,8.0,8.0,8.0,8.0,8.0,8.0,8.0,8.0,8.0,8.0,8.0,8.0,8.0,8.0,8.0,8.0,8.0,8.0,8.0,8.0,8.0,8.0,8.0,8.0,8.0,8.0,8.0,8.0,8.0,8.0,8.0,7.9,7.9,7.9,7.9,7.9,7.9,7.9,7.9,7.9,7.9,7.9,7.9,7.9,7.9,7.9,7.9,7.9,7.9,7.9,7.9,7.9,7.9,7.9,7.9,7.9,7.9,7.9,7.9,7.9,7.9,7.9,7.9,7.9,7.9,7.9,7.9,7.9,7.9,7.9,7.9,7.9,7.9,7.9,7.9,7.9,7.9,7.9,7.9,7.9,7.9,7.9,7.9,7.9,7.9,7.9,7.9,7.9,7.9,7.9,7.9,7.9,7.9,7.9,7.9,7.9,7.9,7.9,7.9,7.9,7.9,7.9,7.9,7.9,7.9,7.9,7.9,7.9,7.8,7.8,7.8,7.8,7.8,7.8,7.8,7.8,7.8,7.8,7.8,7.8,7.8,7.8,7.8,7.8,7.8,7.8,7.8,7.8,7.8,7.8,7.8,7.8,7.8,7.8,7.8,7.8,7.8,7.8,7.8,7.8,7.8,7.8,7.8,7.8,7.8,7.8,7.8,7.8,7.8,7.8,7.8,7.8,7.8,7.8,7.8,7.8,7.8,7.8,7.8,7.8,7.8,7.8,7.8,7.8,7.8,7.8,7.8,7.8,7.8,7.8,7.8,7.8,7.8,7.8,7.8,7.8,7.8,7.8,7.8,7.8,7.8,7.8,7.8,7.8,7.8,7.8,7.8,7.8,7.8,7.8,7.8,7.8,7.8,7.8,7.8,7.8,7.8,7.8,7.8,7.8,7.8,7.8,7.8,7.8,7.8,7.8,7.8,7.8,7.8,7.8,7.8,7.8,7.8,7.8,7.8,7.7,7.7,7.7,7.7,7.7,7.7,7.7,7.7,7.7,7.7,7.7,7.7,7.7,7.7,7.7,7.7,7.7,7.7,7.7,7.7,7.7,7.7,7.7,7.7,7.7,7.7,7.7,7.7,7.7,7.7,7.7,7.7,7.7,7.7,7.7,7.7,7.7,7.7,7.7,7.7,7.7,7.7,7.7,7.7,7.7,7.7,7.7,7.7,7.7,7.7,7.7,7.7,7.7,7.7,7.7,7.7,7.7,7.7,7.7,7.7,7.7,7.7,7.7,7.7,7.7,7.7,7.7,7.7,7.7,7.7,7.7,7.7,7.7,7.7,7.7,7.7,7.7,7.7,7.7,7.7,7.7,7.7,7.7,7.7,7.7,7.7,7.7,7.7,7.7,7.7,7.7,7.7,7.7,7.7,7.7,7.7,7.7,7.7,7.7,7.7,7.7,7.7,7.7,7.7,7.7,7.7,7.7,7.7,7.7,7.7,7.7,7.7,7.7,7.7,7.7,7.7,7.7,7.7,7.7,7.7,7.7,7.6,7.6,7.6,7.6,7.6,7.6,7.6,7.6,7.6,7.6,7.6,7.6,7.6,7.6,7.6,7.6,7.6,7.6,7.6,7.6,7.6,7.6,7.6,7.6,7.6,7.6,7.6,7.6,7.6,7.6,7.6,7.6,7.6,7.6,7.6,7.6,7.6,7.6,7.6,7.6,7.6,7.6,7.6,7.6,7.6,7.6,7.6,7.6,7.6,7.6,7.6,7.6,7.6,7.6,7.6,7.6,7.6,7.6,7.6,7.6,7.6,7.6,7.6,7.6,7.6,7.6,7.6,7.6,7.6,7.6,7.6,7.6,7.6,7.6,7.6,7.6,7.6,7.6,7.6,7.6,7.6,7.6,7.6,7.6,7.6,7.6,7.6,7.6,7.6,7.6,7.6,7.6,7.6,7.6,7.6,7.6,7.6,7.6,7.6,7.6,7.6,7.6,7.6,7.6,7.6,7.6,7.6],\"xaxis\":\"x\",\"yaxis\":\"y\",\"type\":\"histogram\"},{\"alignmentgroup\":\"True\",\"hovertemplate\":\"Nota no IMDB=%{x}<extra></extra>\",\"legendgroup\":\"\",\"marker\":{\"color\":\"Tomato\"},\"name\":\"\",\"notched\":true,\"offsetgroup\":\"\",\"showlegend\":false,\"x\":[9.3,9.2,9.0,9.0,9.0,8.9,8.9,8.9,8.8,8.8,8.8,8.8,8.8,8.7,8.7,8.7,8.7,8.7,8.6,8.6,8.6,8.6,8.6,8.6,8.6,8.6,8.6,8.6,8.6,8.5,8.5,8.5,8.5,8.5,8.5,8.5,8.5,8.5,8.5,8.5,8.5,8.5,8.5,8.5,8.5,8.5,8.5,8.5,8.4,8.4,8.4,8.4,8.4,8.4,8.4,8.4,8.4,8.4,8.4,8.4,8.4,8.4,8.4,8.4,8.4,8.4,8.4,8.4,8.3,8.3,8.3,8.3,8.3,8.3,8.3,8.3,8.3,8.3,8.3,8.3,8.3,8.3,8.3,8.3,8.3,8.3,8.3,8.3,8.3,8.3,8.3,8.3,8.3,8.3,8.3,8.3,8.3,8.3,8.3,8.3,8.3,8.2,8.2,8.2,8.2,8.2,8.2,8.2,8.2,8.2,8.2,8.2,8.2,8.2,8.2,8.2,8.2,8.2,8.2,8.2,8.2,8.2,8.2,8.2,8.2,8.2,8.2,8.2,8.2,8.2,8.2,8.2,8.2,8.1,8.1,8.1,8.1,8.1,8.1,8.1,8.1,8.1,8.1,8.1,8.1,8.1,8.1,8.1,8.1,8.1,8.1,8.1,8.1,8.1,8.1,8.1,8.1,8.1,8.1,8.1,8.1,8.1,8.1,8.1,8.1,8.1,8.1,8.1,8.1,8.1,8.1,8.1,8.1,8.1,8.1,8.1,8.1,8.1,8.1,8.1,8.1,8.1,8.1,8.1,8.1,8.1,8.1,8.1,8.1,8.1,8.1,8.1,8.1,8.1,8.1,8.1,8.1,8.1,8.1,8.1,8.1,8.1,8.1,8.1,8.1,8.0,8.0,8.0,8.0,8.0,8.0,8.0,8.0,8.0,8.0,8.0,8.0,8.0,8.0,8.0,8.0,8.0,8.0,8.0,8.0,8.0,8.0,8.0,8.0,8.0,8.0,8.0,8.0,8.0,8.0,8.0,8.0,8.0,8.0,8.0,8.0,8.0,8.0,8.0,8.0,8.0,8.0,8.0,8.0,8.0,8.0,8.0,8.0,8.0,8.0,8.0,8.0,8.0,8.0,8.0,8.0,8.0,8.0,8.0,8.0,8.0,8.0,8.0,8.0,8.0,8.0,8.0,8.0,8.0,8.0,8.0,8.0,8.0,8.0,8.0,8.0,8.0,8.0,8.0,8.0,8.0,8.0,8.0,8.0,8.0,8.0,8.0,8.0,8.0,8.0,8.0,8.0,8.0,8.0,8.0,8.0,8.0,7.9,7.9,7.9,7.9,7.9,7.9,7.9,7.9,7.9,7.9,7.9,7.9,7.9,7.9,7.9,7.9,7.9,7.9,7.9,7.9,7.9,7.9,7.9,7.9,7.9,7.9,7.9,7.9,7.9,7.9,7.9,7.9,7.9,7.9,7.9,7.9,7.9,7.9,7.9,7.9,7.9,7.9,7.9,7.9,7.9,7.9,7.9,7.9,7.9,7.9,7.9,7.9,7.9,7.9,7.9,7.9,7.9,7.9,7.9,7.9,7.9,7.9,7.9,7.9,7.9,7.9,7.9,7.9,7.9,7.9,7.9,7.9,7.9,7.9,7.9,7.9,7.9,7.8,7.8,7.8,7.8,7.8,7.8,7.8,7.8,7.8,7.8,7.8,7.8,7.8,7.8,7.8,7.8,7.8,7.8,7.8,7.8,7.8,7.8,7.8,7.8,7.8,7.8,7.8,7.8,7.8,7.8,7.8,7.8,7.8,7.8,7.8,7.8,7.8,7.8,7.8,7.8,7.8,7.8,7.8,7.8,7.8,7.8,7.8,7.8,7.8,7.8,7.8,7.8,7.8,7.8,7.8,7.8,7.8,7.8,7.8,7.8,7.8,7.8,7.8,7.8,7.8,7.8,7.8,7.8,7.8,7.8,7.8,7.8,7.8,7.8,7.8,7.8,7.8,7.8,7.8,7.8,7.8,7.8,7.8,7.8,7.8,7.8,7.8,7.8,7.8,7.8,7.8,7.8,7.8,7.8,7.8,7.8,7.8,7.8,7.8,7.8,7.8,7.8,7.8,7.8,7.8,7.8,7.8,7.7,7.7,7.7,7.7,7.7,7.7,7.7,7.7,7.7,7.7,7.7,7.7,7.7,7.7,7.7,7.7,7.7,7.7,7.7,7.7,7.7,7.7,7.7,7.7,7.7,7.7,7.7,7.7,7.7,7.7,7.7,7.7,7.7,7.7,7.7,7.7,7.7,7.7,7.7,7.7,7.7,7.7,7.7,7.7,7.7,7.7,7.7,7.7,7.7,7.7,7.7,7.7,7.7,7.7,7.7,7.7,7.7,7.7,7.7,7.7,7.7,7.7,7.7,7.7,7.7,7.7,7.7,7.7,7.7,7.7,7.7,7.7,7.7,7.7,7.7,7.7,7.7,7.7,7.7,7.7,7.7,7.7,7.7,7.7,7.7,7.7,7.7,7.7,7.7,7.7,7.7,7.7,7.7,7.7,7.7,7.7,7.7,7.7,7.7,7.7,7.7,7.7,7.7,7.7,7.7,7.7,7.7,7.7,7.7,7.7,7.7,7.7,7.7,7.7,7.7,7.7,7.7,7.7,7.7,7.7,7.7,7.6,7.6,7.6,7.6,7.6,7.6,7.6,7.6,7.6,7.6,7.6,7.6,7.6,7.6,7.6,7.6,7.6,7.6,7.6,7.6,7.6,7.6,7.6,7.6,7.6,7.6,7.6,7.6,7.6,7.6,7.6,7.6,7.6,7.6,7.6,7.6,7.6,7.6,7.6,7.6,7.6,7.6,7.6,7.6,7.6,7.6,7.6,7.6,7.6,7.6,7.6,7.6,7.6,7.6,7.6,7.6,7.6,7.6,7.6,7.6,7.6,7.6,7.6,7.6,7.6,7.6,7.6,7.6,7.6,7.6,7.6,7.6,7.6,7.6,7.6,7.6,7.6,7.6,7.6,7.6,7.6,7.6,7.6,7.6,7.6,7.6,7.6,7.6,7.6,7.6,7.6,7.6,7.6,7.6,7.6,7.6,7.6,7.6,7.6,7.6,7.6,7.6,7.6,7.6,7.6,7.6,7.6],\"xaxis\":\"x2\",\"yaxis\":\"y2\",\"type\":\"box\"}],                        {\"template\":{\"data\":{\"histogram2dcontour\":[{\"type\":\"histogram2dcontour\",\"colorbar\":{\"outlinewidth\":0,\"ticks\":\"\"},\"colorscale\":[[0.0,\"#0d0887\"],[0.1111111111111111,\"#46039f\"],[0.2222222222222222,\"#7201a8\"],[0.3333333333333333,\"#9c179e\"],[0.4444444444444444,\"#bd3786\"],[0.5555555555555556,\"#d8576b\"],[0.6666666666666666,\"#ed7953\"],[0.7777777777777778,\"#fb9f3a\"],[0.8888888888888888,\"#fdca26\"],[1.0,\"#f0f921\"]]}],\"choropleth\":[{\"type\":\"choropleth\",\"colorbar\":{\"outlinewidth\":0,\"ticks\":\"\"}}],\"histogram2d\":[{\"type\":\"histogram2d\",\"colorbar\":{\"outlinewidth\":0,\"ticks\":\"\"},\"colorscale\":[[0.0,\"#0d0887\"],[0.1111111111111111,\"#46039f\"],[0.2222222222222222,\"#7201a8\"],[0.3333333333333333,\"#9c179e\"],[0.4444444444444444,\"#bd3786\"],[0.5555555555555556,\"#d8576b\"],[0.6666666666666666,\"#ed7953\"],[0.7777777777777778,\"#fb9f3a\"],[0.8888888888888888,\"#fdca26\"],[1.0,\"#f0f921\"]]}],\"heatmap\":[{\"type\":\"heatmap\",\"colorbar\":{\"outlinewidth\":0,\"ticks\":\"\"},\"colorscale\":[[0.0,\"#0d0887\"],[0.1111111111111111,\"#46039f\"],[0.2222222222222222,\"#7201a8\"],[0.3333333333333333,\"#9c179e\"],[0.4444444444444444,\"#bd3786\"],[0.5555555555555556,\"#d8576b\"],[0.6666666666666666,\"#ed7953\"],[0.7777777777777778,\"#fb9f3a\"],[0.8888888888888888,\"#fdca26\"],[1.0,\"#f0f921\"]]}],\"heatmapgl\":[{\"type\":\"heatmapgl\",\"colorbar\":{\"outlinewidth\":0,\"ticks\":\"\"},\"colorscale\":[[0.0,\"#0d0887\"],[0.1111111111111111,\"#46039f\"],[0.2222222222222222,\"#7201a8\"],[0.3333333333333333,\"#9c179e\"],[0.4444444444444444,\"#bd3786\"],[0.5555555555555556,\"#d8576b\"],[0.6666666666666666,\"#ed7953\"],[0.7777777777777778,\"#fb9f3a\"],[0.8888888888888888,\"#fdca26\"],[1.0,\"#f0f921\"]]}],\"contourcarpet\":[{\"type\":\"contourcarpet\",\"colorbar\":{\"outlinewidth\":0,\"ticks\":\"\"}}],\"contour\":[{\"type\":\"contour\",\"colorbar\":{\"outlinewidth\":0,\"ticks\":\"\"},\"colorscale\":[[0.0,\"#0d0887\"],[0.1111111111111111,\"#46039f\"],[0.2222222222222222,\"#7201a8\"],[0.3333333333333333,\"#9c179e\"],[0.4444444444444444,\"#bd3786\"],[0.5555555555555556,\"#d8576b\"],[0.6666666666666666,\"#ed7953\"],[0.7777777777777778,\"#fb9f3a\"],[0.8888888888888888,\"#fdca26\"],[1.0,\"#f0f921\"]]}],\"surface\":[{\"type\":\"surface\",\"colorbar\":{\"outlinewidth\":0,\"ticks\":\"\"},\"colorscale\":[[0.0,\"#0d0887\"],[0.1111111111111111,\"#46039f\"],[0.2222222222222222,\"#7201a8\"],[0.3333333333333333,\"#9c179e\"],[0.4444444444444444,\"#bd3786\"],[0.5555555555555556,\"#d8576b\"],[0.6666666666666666,\"#ed7953\"],[0.7777777777777778,\"#fb9f3a\"],[0.8888888888888888,\"#fdca26\"],[1.0,\"#f0f921\"]]}],\"mesh3d\":[{\"type\":\"mesh3d\",\"colorbar\":{\"outlinewidth\":0,\"ticks\":\"\"}}],\"scatter\":[{\"fillpattern\":{\"fillmode\":\"overlay\",\"size\":10,\"solidity\":0.2},\"type\":\"scatter\"}],\"parcoords\":[{\"type\":\"parcoords\",\"line\":{\"colorbar\":{\"outlinewidth\":0,\"ticks\":\"\"}}}],\"scatterpolargl\":[{\"type\":\"scatterpolargl\",\"marker\":{\"colorbar\":{\"outlinewidth\":0,\"ticks\":\"\"}}}],\"bar\":[{\"error_x\":{\"color\":\"#2a3f5f\"},\"error_y\":{\"color\":\"#2a3f5f\"},\"marker\":{\"line\":{\"color\":\"#E5ECF6\",\"width\":0.5},\"pattern\":{\"fillmode\":\"overlay\",\"size\":10,\"solidity\":0.2}},\"type\":\"bar\"}],\"scattergeo\":[{\"type\":\"scattergeo\",\"marker\":{\"colorbar\":{\"outlinewidth\":0,\"ticks\":\"\"}}}],\"scatterpolar\":[{\"type\":\"scatterpolar\",\"marker\":{\"colorbar\":{\"outlinewidth\":0,\"ticks\":\"\"}}}],\"histogram\":[{\"marker\":{\"pattern\":{\"fillmode\":\"overlay\",\"size\":10,\"solidity\":0.2}},\"type\":\"histogram\"}],\"scattergl\":[{\"type\":\"scattergl\",\"marker\":{\"colorbar\":{\"outlinewidth\":0,\"ticks\":\"\"}}}],\"scatter3d\":[{\"type\":\"scatter3d\",\"line\":{\"colorbar\":{\"outlinewidth\":0,\"ticks\":\"\"}},\"marker\":{\"colorbar\":{\"outlinewidth\":0,\"ticks\":\"\"}}}],\"scattermapbox\":[{\"type\":\"scattermapbox\",\"marker\":{\"colorbar\":{\"outlinewidth\":0,\"ticks\":\"\"}}}],\"scatterternary\":[{\"type\":\"scatterternary\",\"marker\":{\"colorbar\":{\"outlinewidth\":0,\"ticks\":\"\"}}}],\"scattercarpet\":[{\"type\":\"scattercarpet\",\"marker\":{\"colorbar\":{\"outlinewidth\":0,\"ticks\":\"\"}}}],\"carpet\":[{\"aaxis\":{\"endlinecolor\":\"#2a3f5f\",\"gridcolor\":\"white\",\"linecolor\":\"white\",\"minorgridcolor\":\"white\",\"startlinecolor\":\"#2a3f5f\"},\"baxis\":{\"endlinecolor\":\"#2a3f5f\",\"gridcolor\":\"white\",\"linecolor\":\"white\",\"minorgridcolor\":\"white\",\"startlinecolor\":\"#2a3f5f\"},\"type\":\"carpet\"}],\"table\":[{\"cells\":{\"fill\":{\"color\":\"#EBF0F8\"},\"line\":{\"color\":\"white\"}},\"header\":{\"fill\":{\"color\":\"#C8D4E3\"},\"line\":{\"color\":\"white\"}},\"type\":\"table\"}],\"barpolar\":[{\"marker\":{\"line\":{\"color\":\"#E5ECF6\",\"width\":0.5},\"pattern\":{\"fillmode\":\"overlay\",\"size\":10,\"solidity\":0.2}},\"type\":\"barpolar\"}],\"pie\":[{\"automargin\":true,\"type\":\"pie\"}]},\"layout\":{\"autotypenumbers\":\"strict\",\"colorway\":[\"#636efa\",\"#EF553B\",\"#00cc96\",\"#ab63fa\",\"#FFA15A\",\"#19d3f3\",\"#FF6692\",\"#B6E880\",\"#FF97FF\",\"#FECB52\"],\"font\":{\"color\":\"#2a3f5f\"},\"hovermode\":\"closest\",\"hoverlabel\":{\"align\":\"left\"},\"paper_bgcolor\":\"white\",\"plot_bgcolor\":\"#E5ECF6\",\"polar\":{\"bgcolor\":\"#E5ECF6\",\"angularaxis\":{\"gridcolor\":\"white\",\"linecolor\":\"white\",\"ticks\":\"\"},\"radialaxis\":{\"gridcolor\":\"white\",\"linecolor\":\"white\",\"ticks\":\"\"}},\"ternary\":{\"bgcolor\":\"#E5ECF6\",\"aaxis\":{\"gridcolor\":\"white\",\"linecolor\":\"white\",\"ticks\":\"\"},\"baxis\":{\"gridcolor\":\"white\",\"linecolor\":\"white\",\"ticks\":\"\"},\"caxis\":{\"gridcolor\":\"white\",\"linecolor\":\"white\",\"ticks\":\"\"}},\"coloraxis\":{\"colorbar\":{\"outlinewidth\":0,\"ticks\":\"\"}},\"colorscale\":{\"sequential\":[[0.0,\"#0d0887\"],[0.1111111111111111,\"#46039f\"],[0.2222222222222222,\"#7201a8\"],[0.3333333333333333,\"#9c179e\"],[0.4444444444444444,\"#bd3786\"],[0.5555555555555556,\"#d8576b\"],[0.6666666666666666,\"#ed7953\"],[0.7777777777777778,\"#fb9f3a\"],[0.8888888888888888,\"#fdca26\"],[1.0,\"#f0f921\"]],\"sequentialminus\":[[0.0,\"#0d0887\"],[0.1111111111111111,\"#46039f\"],[0.2222222222222222,\"#7201a8\"],[0.3333333333333333,\"#9c179e\"],[0.4444444444444444,\"#bd3786\"],[0.5555555555555556,\"#d8576b\"],[0.6666666666666666,\"#ed7953\"],[0.7777777777777778,\"#fb9f3a\"],[0.8888888888888888,\"#fdca26\"],[1.0,\"#f0f921\"]],\"diverging\":[[0,\"#8e0152\"],[0.1,\"#c51b7d\"],[0.2,\"#de77ae\"],[0.3,\"#f1b6da\"],[0.4,\"#fde0ef\"],[0.5,\"#f7f7f7\"],[0.6,\"#e6f5d0\"],[0.7,\"#b8e186\"],[0.8,\"#7fbc41\"],[0.9,\"#4d9221\"],[1,\"#276419\"]]},\"xaxis\":{\"gridcolor\":\"white\",\"linecolor\":\"white\",\"ticks\":\"\",\"title\":{\"standoff\":15},\"zerolinecolor\":\"white\",\"automargin\":true,\"zerolinewidth\":2},\"yaxis\":{\"gridcolor\":\"white\",\"linecolor\":\"white\",\"ticks\":\"\",\"title\":{\"standoff\":15},\"zerolinecolor\":\"white\",\"automargin\":true,\"zerolinewidth\":2},\"scene\":{\"xaxis\":{\"backgroundcolor\":\"#E5ECF6\",\"gridcolor\":\"white\",\"linecolor\":\"white\",\"showbackground\":true,\"ticks\":\"\",\"zerolinecolor\":\"white\",\"gridwidth\":2},\"yaxis\":{\"backgroundcolor\":\"#E5ECF6\",\"gridcolor\":\"white\",\"linecolor\":\"white\",\"showbackground\":true,\"ticks\":\"\",\"zerolinecolor\":\"white\",\"gridwidth\":2},\"zaxis\":{\"backgroundcolor\":\"#E5ECF6\",\"gridcolor\":\"white\",\"linecolor\":\"white\",\"showbackground\":true,\"ticks\":\"\",\"zerolinecolor\":\"white\",\"gridwidth\":2}},\"shapedefaults\":{\"line\":{\"color\":\"#2a3f5f\"}},\"annotationdefaults\":{\"arrowcolor\":\"#2a3f5f\",\"arrowhead\":0,\"arrowwidth\":1},\"geo\":{\"bgcolor\":\"white\",\"landcolor\":\"#E5ECF6\",\"subunitcolor\":\"white\",\"showland\":true,\"showlakes\":true,\"lakecolor\":\"white\"},\"title\":{\"x\":0.05},\"mapbox\":{\"style\":\"light\"}}},\"xaxis\":{\"anchor\":\"y\",\"domain\":[0.0,1.0],\"title\":{\"text\":\"Nota no IMDB\"}},\"yaxis\":{\"anchor\":\"x\",\"domain\":[0.0,0.8316],\"title\":{\"text\":\"Quantidade de Filmes\"}},\"xaxis2\":{\"anchor\":\"y2\",\"domain\":[0.0,1.0],\"matches\":\"x\",\"showticklabels\":false,\"showgrid\":true},\"yaxis2\":{\"anchor\":\"x2\",\"domain\":[0.8416,1.0],\"matches\":\"y2\",\"showticklabels\":false,\"showline\":false,\"ticks\":\"\",\"showgrid\":false},\"legend\":{\"tracegroupgap\":0},\"title\":{\"text\":\"Distribui\\u00e7\\u00e3o do IMDB Rating nos Filmes\"},\"barmode\":\"relative\"},                        {\"responsive\": true}                    ).then(function(){\n",
       "                            \n",
       "var gd = document.getElementById('9b70c01b-dfd5-45f1-92b0-c6f019ed9025');\n",
       "var x = new MutationObserver(function (mutations, observer) {{\n",
       "        var display = window.getComputedStyle(gd).display;\n",
       "        if (!display || display === 'none') {{\n",
       "            console.log([gd, 'removed!']);\n",
       "            Plotly.purge(gd);\n",
       "            observer.disconnect();\n",
       "        }}\n",
       "}});\n",
       "\n",
       "// Listen for the removal of the full notebook cells\n",
       "var notebookContainer = gd.closest('#notebook-container');\n",
       "if (notebookContainer) {{\n",
       "    x.observe(notebookContainer, {childList: true});\n",
       "}}\n",
       "\n",
       "// Listen for the clearing of the current output cell\n",
       "var outputEl = gd.closest('.output');\n",
       "if (outputEl) {{\n",
       "    x.observe(outputEl, {childList: true});\n",
       "}}\n",
       "\n",
       "                        })                };                });            </script>        </div>"
      ]
     },
     "metadata": {},
     "output_type": "display_data"
    }
   ],
   "source": [
    "# Distribuição do IMDB Rating\n",
    "fig = px.histogram(\n",
    "    x=df.IMDB_Rating, \n",
    "    title=\"Distribuição do IMDB Rating nos Filmes\",\n",
    "    marginal=\"box\",\n",
    "    labels={\"x\": \"Nota no IMDB\"}\n",
    "    ).update_traces(marker_color=\"Tomato\").update_layout(yaxis_title=\"Quantidade de Filmes\")\n",
    "fig.show()"
   ]
  },
  {
   "cell_type": "markdown",
   "metadata": {},
   "source": [
    "**Distribuição do MetaScore**: Para analisar como o MetaScore está distribuído entre os filmes, aplicaremos um **Histograma** junto de um **Boxplot**, pois ambos os gráficos auxiliam no entendimento da distribuição em variáveis númericas.\n",
    "\n",
    "Analisando os gráficos, é visível que a maior parte dos filmes possui uma nota no MetaCritic entre 70 e 86, com alguns outliers mal avaliados com nota inferior a 40.\n"
   ]
  },
  {
   "cell_type": "code",
   "execution_count": 34,
   "metadata": {},
   "outputs": [
    {
     "data": {
      "application/vnd.plotly.v1+json": {
       "config": {
        "plotlyServerURL": "https://plot.ly"
       },
       "data": [
        {
         "alignmentgroup": "True",
         "bingroup": "x",
         "hovertemplate": "Nota no MetaCritic=%{x}<br>count=%{y}<extra></extra>",
         "legendgroup": "",
         "marker": {
          "color": "DarkSlateGray",
          "pattern": {
           "shape": ""
          }
         },
         "name": "",
         "offsetgroup": "",
         "orientation": "v",
         "showlegend": false,
         "type": "histogram",
         "x": [
          80,
          100,
          84,
          90,
          96,
          94,
          94,
          94,
          74,
          66,
          92,
          82,
          90,
          87,
          73,
          90,
          82,
          83,
          96,
          74,
          79,
          96,
          91,
          61,
          59,
          65,
          85,
          90,
          98,
          59,
          88,
          57,
          66,
          85,
          85,
          67,
          62,
          77,
          64,
          88,
          75,
          80,
          87,
          80,
          97,
          100,
          96,
          99,
          75,
          79,
          87,
          78,
          68,
          81,
          81,
          78,
          67,
          95,
          89,
          77,
          80,
          76,
          85,
          66,
          94,
          89,
          97,
          100,
          78,
          77,
          95,
          80,
          69,
          89,
          69,
          55,
          68,
          84,
          70,
          77,
          95,
          68,
          79,
          76,
          84,
          88,
          65,
          58,
          86,
          94,
          83,
          77,
          84,
          74,
          100,
          94,
          98,
          100,
          99,
          95,
          100,
          69,
          88,
          80,
          71,
          63,
          88,
          75,
          68,
          93,
          98,
          92,
          62,
          70,
          82,
          80,
          72,
          66,
          90,
          76,
          73,
          85,
          65,
          86,
          72,
          96,
          89,
          91,
          86,
          98,
          75,
          98,
          98,
          95,
          84,
          74,
          77,
          86,
          77,
          88,
          79,
          71,
          94,
          96,
          74,
          81,
          93,
          85,
          70,
          90,
          72,
          85,
          68,
          75,
          73,
          91,
          86,
          79,
          64,
          90,
          82,
          69,
          90,
          75,
          83,
          79,
          84,
          64,
          58,
          90,
          73,
          71,
          85,
          83,
          85,
          77,
          100,
          77,
          68,
          84,
          79,
          75,
          92,
          78,
          86,
          57,
          47,
          100,
          84,
          77,
          86,
          70,
          92,
          77,
          92,
          75,
          90,
          87,
          91,
          72,
          97,
          86,
          73,
          97,
          87,
          94,
          69,
          80,
          78,
          89,
          66,
          65,
          82,
          71,
          73,
          76,
          81,
          90,
          49,
          76,
          67,
          88,
          62,
          65,
          87,
          50,
          84,
          79,
          33,
          69,
          90,
          80,
          64,
          64,
          85,
          72,
          74,
          92,
          96,
          80,
          83,
          85,
          74,
          69,
          54,
          75,
          63,
          58,
          90,
          60,
          88,
          77,
          61,
          86,
          82,
          80,
          85,
          84,
          91,
          74,
          76,
          82,
          72,
          47,
          59,
          86,
          72,
          95,
          72,
          93,
          65,
          77,
          79,
          88,
          84,
          79,
          83,
          92,
          87,
          86,
          80,
          58,
          81,
          93,
          67,
          100,
          66,
          79,
          83,
          63,
          69,
          65,
          90,
          95,
          93,
          99,
          84,
          97,
          93,
          96,
          92,
          91,
          82,
          93,
          94,
          93,
          78,
          82,
          81,
          72,
          79,
          74,
          76,
          58,
          81,
          80,
          94,
          75,
          89,
          71,
          94,
          94,
          90,
          67,
          82,
          81,
          80,
          100,
          82,
          67,
          89,
          64,
          79,
          83,
          56,
          79,
          76,
          84,
          82,
          85,
          86,
          84,
          61,
          68,
          80,
          84,
          90,
          85,
          88,
          85,
          77,
          59,
          85,
          65,
          74,
          97,
          77,
          79,
          90,
          84,
          92,
          77,
          60,
          83,
          72,
          71,
          84,
          76,
          93,
          91,
          97,
          75,
          83,
          87,
          89,
          88,
          100,
          97,
          90,
          85,
          94,
          74,
          88,
          84,
          96,
          75,
          65,
          75,
          68,
          91,
          62,
          85,
          76,
          74,
          55,
          83,
          84,
          49,
          84,
          76,
          81,
          71,
          82,
          72,
          79,
          66,
          82,
          76,
          79,
          51,
          55,
          88,
          58,
          85,
          78,
          76,
          83,
          63,
          68,
          80,
          81,
          70,
          67,
          51,
          82,
          68,
          73,
          74,
          72,
          53,
          75,
          82,
          91,
          61,
          83,
          48,
          94,
          87,
          73,
          44,
          84,
          71,
          84,
          75,
          64,
          61,
          76,
          70,
          73,
          50,
          55,
          84,
          87,
          80,
          68,
          86,
          76,
          75,
          74,
          78,
          57,
          65,
          45,
          72,
          61,
          75,
          62,
          78,
          66,
          76,
          71,
          91,
          73,
          91,
          77,
          69,
          85,
          73,
          80,
          80,
          67,
          79,
          95,
          88,
          75,
          88,
          66,
          73,
          85,
          86,
          70,
          76,
          72,
          72,
          60,
          69,
          74,
          87,
          89,
          40,
          70,
          87,
          72,
          70,
          81,
          83,
          96,
          72,
          95,
          65,
          73,
          81,
          81,
          86,
          76,
          65,
          86,
          80,
          81,
          63,
          45,
          78,
          78,
          74,
          78,
          53,
          70,
          78,
          71,
          71,
          87,
          76,
          66,
          78,
          73,
          61,
          73,
          89,
          81,
          47,
          80,
          55,
          83,
          68,
          76,
          28,
          83,
          74,
          72,
          60,
          74,
          85,
          74,
          62,
          69,
          73,
          68,
          69,
          86,
          90,
          67,
          52,
          73,
          76,
          87,
          47,
          83,
          81,
          70,
          79,
          66,
          64,
          73,
          76,
          82,
          62,
          64,
          69,
          66,
          83,
          84,
          76,
          62,
          54,
          76,
          75,
          90,
          77,
          67,
          61,
          86,
          78,
          87,
          71,
          73,
          87,
          83,
          80,
          94,
          90,
          86,
          72,
          87,
          90,
          74,
          91,
          96,
          71,
          83,
          86,
          92,
          60,
          70,
          83,
          67,
          86,
          72,
          81,
          80,
          81,
          82,
          82,
          92,
          88,
          77,
          79,
          73,
          68,
          80,
          88,
          80,
          65,
          72,
          72,
          66,
          87,
          70,
          73,
          57,
          53,
          79,
          36,
          82,
          66,
          76,
          72,
          66,
          70,
          68,
          78,
          52,
          72,
          56,
          62,
          46,
          67,
          73,
          45,
          76,
          81,
          70,
          56,
          67,
          68,
          30,
          73,
          76,
          88,
          64,
          74,
          52,
          53,
          80,
          74,
          64,
          77,
          78,
          71,
          41,
          66,
          49,
          52,
          84,
          58,
          62,
          69,
          77,
          88,
          56,
          78,
          68,
          90,
          66,
          63,
          60,
          76,
          88,
          76,
          72,
          68,
          82,
          68,
          77,
          65,
          74,
          76,
          59,
          90,
          87,
          77,
          50,
          65,
          96,
          85
         ],
         "xaxis": "x",
         "yaxis": "y"
        },
        {
         "alignmentgroup": "True",
         "hovertemplate": "Nota no MetaCritic=%{x}<extra></extra>",
         "legendgroup": "",
         "marker": {
          "color": "DarkSlateGray"
         },
         "name": "",
         "notched": true,
         "offsetgroup": "",
         "showlegend": false,
         "type": "box",
         "x": [
          80,
          100,
          84,
          90,
          96,
          94,
          94,
          94,
          74,
          66,
          92,
          82,
          90,
          87,
          73,
          90,
          82,
          83,
          96,
          74,
          79,
          96,
          91,
          61,
          59,
          65,
          85,
          90,
          98,
          59,
          88,
          57,
          66,
          85,
          85,
          67,
          62,
          77,
          64,
          88,
          75,
          80,
          87,
          80,
          97,
          100,
          96,
          99,
          75,
          79,
          87,
          78,
          68,
          81,
          81,
          78,
          67,
          95,
          89,
          77,
          80,
          76,
          85,
          66,
          94,
          89,
          97,
          100,
          78,
          77,
          95,
          80,
          69,
          89,
          69,
          55,
          68,
          84,
          70,
          77,
          95,
          68,
          79,
          76,
          84,
          88,
          65,
          58,
          86,
          94,
          83,
          77,
          84,
          74,
          100,
          94,
          98,
          100,
          99,
          95,
          100,
          69,
          88,
          80,
          71,
          63,
          88,
          75,
          68,
          93,
          98,
          92,
          62,
          70,
          82,
          80,
          72,
          66,
          90,
          76,
          73,
          85,
          65,
          86,
          72,
          96,
          89,
          91,
          86,
          98,
          75,
          98,
          98,
          95,
          84,
          74,
          77,
          86,
          77,
          88,
          79,
          71,
          94,
          96,
          74,
          81,
          93,
          85,
          70,
          90,
          72,
          85,
          68,
          75,
          73,
          91,
          86,
          79,
          64,
          90,
          82,
          69,
          90,
          75,
          83,
          79,
          84,
          64,
          58,
          90,
          73,
          71,
          85,
          83,
          85,
          77,
          100,
          77,
          68,
          84,
          79,
          75,
          92,
          78,
          86,
          57,
          47,
          100,
          84,
          77,
          86,
          70,
          92,
          77,
          92,
          75,
          90,
          87,
          91,
          72,
          97,
          86,
          73,
          97,
          87,
          94,
          69,
          80,
          78,
          89,
          66,
          65,
          82,
          71,
          73,
          76,
          81,
          90,
          49,
          76,
          67,
          88,
          62,
          65,
          87,
          50,
          84,
          79,
          33,
          69,
          90,
          80,
          64,
          64,
          85,
          72,
          74,
          92,
          96,
          80,
          83,
          85,
          74,
          69,
          54,
          75,
          63,
          58,
          90,
          60,
          88,
          77,
          61,
          86,
          82,
          80,
          85,
          84,
          91,
          74,
          76,
          82,
          72,
          47,
          59,
          86,
          72,
          95,
          72,
          93,
          65,
          77,
          79,
          88,
          84,
          79,
          83,
          92,
          87,
          86,
          80,
          58,
          81,
          93,
          67,
          100,
          66,
          79,
          83,
          63,
          69,
          65,
          90,
          95,
          93,
          99,
          84,
          97,
          93,
          96,
          92,
          91,
          82,
          93,
          94,
          93,
          78,
          82,
          81,
          72,
          79,
          74,
          76,
          58,
          81,
          80,
          94,
          75,
          89,
          71,
          94,
          94,
          90,
          67,
          82,
          81,
          80,
          100,
          82,
          67,
          89,
          64,
          79,
          83,
          56,
          79,
          76,
          84,
          82,
          85,
          86,
          84,
          61,
          68,
          80,
          84,
          90,
          85,
          88,
          85,
          77,
          59,
          85,
          65,
          74,
          97,
          77,
          79,
          90,
          84,
          92,
          77,
          60,
          83,
          72,
          71,
          84,
          76,
          93,
          91,
          97,
          75,
          83,
          87,
          89,
          88,
          100,
          97,
          90,
          85,
          94,
          74,
          88,
          84,
          96,
          75,
          65,
          75,
          68,
          91,
          62,
          85,
          76,
          74,
          55,
          83,
          84,
          49,
          84,
          76,
          81,
          71,
          82,
          72,
          79,
          66,
          82,
          76,
          79,
          51,
          55,
          88,
          58,
          85,
          78,
          76,
          83,
          63,
          68,
          80,
          81,
          70,
          67,
          51,
          82,
          68,
          73,
          74,
          72,
          53,
          75,
          82,
          91,
          61,
          83,
          48,
          94,
          87,
          73,
          44,
          84,
          71,
          84,
          75,
          64,
          61,
          76,
          70,
          73,
          50,
          55,
          84,
          87,
          80,
          68,
          86,
          76,
          75,
          74,
          78,
          57,
          65,
          45,
          72,
          61,
          75,
          62,
          78,
          66,
          76,
          71,
          91,
          73,
          91,
          77,
          69,
          85,
          73,
          80,
          80,
          67,
          79,
          95,
          88,
          75,
          88,
          66,
          73,
          85,
          86,
          70,
          76,
          72,
          72,
          60,
          69,
          74,
          87,
          89,
          40,
          70,
          87,
          72,
          70,
          81,
          83,
          96,
          72,
          95,
          65,
          73,
          81,
          81,
          86,
          76,
          65,
          86,
          80,
          81,
          63,
          45,
          78,
          78,
          74,
          78,
          53,
          70,
          78,
          71,
          71,
          87,
          76,
          66,
          78,
          73,
          61,
          73,
          89,
          81,
          47,
          80,
          55,
          83,
          68,
          76,
          28,
          83,
          74,
          72,
          60,
          74,
          85,
          74,
          62,
          69,
          73,
          68,
          69,
          86,
          90,
          67,
          52,
          73,
          76,
          87,
          47,
          83,
          81,
          70,
          79,
          66,
          64,
          73,
          76,
          82,
          62,
          64,
          69,
          66,
          83,
          84,
          76,
          62,
          54,
          76,
          75,
          90,
          77,
          67,
          61,
          86,
          78,
          87,
          71,
          73,
          87,
          83,
          80,
          94,
          90,
          86,
          72,
          87,
          90,
          74,
          91,
          96,
          71,
          83,
          86,
          92,
          60,
          70,
          83,
          67,
          86,
          72,
          81,
          80,
          81,
          82,
          82,
          92,
          88,
          77,
          79,
          73,
          68,
          80,
          88,
          80,
          65,
          72,
          72,
          66,
          87,
          70,
          73,
          57,
          53,
          79,
          36,
          82,
          66,
          76,
          72,
          66,
          70,
          68,
          78,
          52,
          72,
          56,
          62,
          46,
          67,
          73,
          45,
          76,
          81,
          70,
          56,
          67,
          68,
          30,
          73,
          76,
          88,
          64,
          74,
          52,
          53,
          80,
          74,
          64,
          77,
          78,
          71,
          41,
          66,
          49,
          52,
          84,
          58,
          62,
          69,
          77,
          88,
          56,
          78,
          68,
          90,
          66,
          63,
          60,
          76,
          88,
          76,
          72,
          68,
          82,
          68,
          77,
          65,
          74,
          76,
          59,
          90,
          87,
          77,
          50,
          65,
          96,
          85
         ],
         "xaxis": "x2",
         "yaxis": "y2"
        }
       ],
       "layout": {
        "barmode": "relative",
        "legend": {
         "tracegroupgap": 0
        },
        "template": {
         "data": {
          "bar": [
           {
            "error_x": {
             "color": "#2a3f5f"
            },
            "error_y": {
             "color": "#2a3f5f"
            },
            "marker": {
             "line": {
              "color": "#E5ECF6",
              "width": 0.5
             },
             "pattern": {
              "fillmode": "overlay",
              "size": 10,
              "solidity": 0.2
             }
            },
            "type": "bar"
           }
          ],
          "barpolar": [
           {
            "marker": {
             "line": {
              "color": "#E5ECF6",
              "width": 0.5
             },
             "pattern": {
              "fillmode": "overlay",
              "size": 10,
              "solidity": 0.2
             }
            },
            "type": "barpolar"
           }
          ],
          "carpet": [
           {
            "aaxis": {
             "endlinecolor": "#2a3f5f",
             "gridcolor": "white",
             "linecolor": "white",
             "minorgridcolor": "white",
             "startlinecolor": "#2a3f5f"
            },
            "baxis": {
             "endlinecolor": "#2a3f5f",
             "gridcolor": "white",
             "linecolor": "white",
             "minorgridcolor": "white",
             "startlinecolor": "#2a3f5f"
            },
            "type": "carpet"
           }
          ],
          "choropleth": [
           {
            "colorbar": {
             "outlinewidth": 0,
             "ticks": ""
            },
            "type": "choropleth"
           }
          ],
          "contour": [
           {
            "colorbar": {
             "outlinewidth": 0,
             "ticks": ""
            },
            "colorscale": [
             [
              0,
              "#0d0887"
             ],
             [
              0.1111111111111111,
              "#46039f"
             ],
             [
              0.2222222222222222,
              "#7201a8"
             ],
             [
              0.3333333333333333,
              "#9c179e"
             ],
             [
              0.4444444444444444,
              "#bd3786"
             ],
             [
              0.5555555555555556,
              "#d8576b"
             ],
             [
              0.6666666666666666,
              "#ed7953"
             ],
             [
              0.7777777777777778,
              "#fb9f3a"
             ],
             [
              0.8888888888888888,
              "#fdca26"
             ],
             [
              1,
              "#f0f921"
             ]
            ],
            "type": "contour"
           }
          ],
          "contourcarpet": [
           {
            "colorbar": {
             "outlinewidth": 0,
             "ticks": ""
            },
            "type": "contourcarpet"
           }
          ],
          "heatmap": [
           {
            "colorbar": {
             "outlinewidth": 0,
             "ticks": ""
            },
            "colorscale": [
             [
              0,
              "#0d0887"
             ],
             [
              0.1111111111111111,
              "#46039f"
             ],
             [
              0.2222222222222222,
              "#7201a8"
             ],
             [
              0.3333333333333333,
              "#9c179e"
             ],
             [
              0.4444444444444444,
              "#bd3786"
             ],
             [
              0.5555555555555556,
              "#d8576b"
             ],
             [
              0.6666666666666666,
              "#ed7953"
             ],
             [
              0.7777777777777778,
              "#fb9f3a"
             ],
             [
              0.8888888888888888,
              "#fdca26"
             ],
             [
              1,
              "#f0f921"
             ]
            ],
            "type": "heatmap"
           }
          ],
          "heatmapgl": [
           {
            "colorbar": {
             "outlinewidth": 0,
             "ticks": ""
            },
            "colorscale": [
             [
              0,
              "#0d0887"
             ],
             [
              0.1111111111111111,
              "#46039f"
             ],
             [
              0.2222222222222222,
              "#7201a8"
             ],
             [
              0.3333333333333333,
              "#9c179e"
             ],
             [
              0.4444444444444444,
              "#bd3786"
             ],
             [
              0.5555555555555556,
              "#d8576b"
             ],
             [
              0.6666666666666666,
              "#ed7953"
             ],
             [
              0.7777777777777778,
              "#fb9f3a"
             ],
             [
              0.8888888888888888,
              "#fdca26"
             ],
             [
              1,
              "#f0f921"
             ]
            ],
            "type": "heatmapgl"
           }
          ],
          "histogram": [
           {
            "marker": {
             "pattern": {
              "fillmode": "overlay",
              "size": 10,
              "solidity": 0.2
             }
            },
            "type": "histogram"
           }
          ],
          "histogram2d": [
           {
            "colorbar": {
             "outlinewidth": 0,
             "ticks": ""
            },
            "colorscale": [
             [
              0,
              "#0d0887"
             ],
             [
              0.1111111111111111,
              "#46039f"
             ],
             [
              0.2222222222222222,
              "#7201a8"
             ],
             [
              0.3333333333333333,
              "#9c179e"
             ],
             [
              0.4444444444444444,
              "#bd3786"
             ],
             [
              0.5555555555555556,
              "#d8576b"
             ],
             [
              0.6666666666666666,
              "#ed7953"
             ],
             [
              0.7777777777777778,
              "#fb9f3a"
             ],
             [
              0.8888888888888888,
              "#fdca26"
             ],
             [
              1,
              "#f0f921"
             ]
            ],
            "type": "histogram2d"
           }
          ],
          "histogram2dcontour": [
           {
            "colorbar": {
             "outlinewidth": 0,
             "ticks": ""
            },
            "colorscale": [
             [
              0,
              "#0d0887"
             ],
             [
              0.1111111111111111,
              "#46039f"
             ],
             [
              0.2222222222222222,
              "#7201a8"
             ],
             [
              0.3333333333333333,
              "#9c179e"
             ],
             [
              0.4444444444444444,
              "#bd3786"
             ],
             [
              0.5555555555555556,
              "#d8576b"
             ],
             [
              0.6666666666666666,
              "#ed7953"
             ],
             [
              0.7777777777777778,
              "#fb9f3a"
             ],
             [
              0.8888888888888888,
              "#fdca26"
             ],
             [
              1,
              "#f0f921"
             ]
            ],
            "type": "histogram2dcontour"
           }
          ],
          "mesh3d": [
           {
            "colorbar": {
             "outlinewidth": 0,
             "ticks": ""
            },
            "type": "mesh3d"
           }
          ],
          "parcoords": [
           {
            "line": {
             "colorbar": {
              "outlinewidth": 0,
              "ticks": ""
             }
            },
            "type": "parcoords"
           }
          ],
          "pie": [
           {
            "automargin": true,
            "type": "pie"
           }
          ],
          "scatter": [
           {
            "fillpattern": {
             "fillmode": "overlay",
             "size": 10,
             "solidity": 0.2
            },
            "type": "scatter"
           }
          ],
          "scatter3d": [
           {
            "line": {
             "colorbar": {
              "outlinewidth": 0,
              "ticks": ""
             }
            },
            "marker": {
             "colorbar": {
              "outlinewidth": 0,
              "ticks": ""
             }
            },
            "type": "scatter3d"
           }
          ],
          "scattercarpet": [
           {
            "marker": {
             "colorbar": {
              "outlinewidth": 0,
              "ticks": ""
             }
            },
            "type": "scattercarpet"
           }
          ],
          "scattergeo": [
           {
            "marker": {
             "colorbar": {
              "outlinewidth": 0,
              "ticks": ""
             }
            },
            "type": "scattergeo"
           }
          ],
          "scattergl": [
           {
            "marker": {
             "colorbar": {
              "outlinewidth": 0,
              "ticks": ""
             }
            },
            "type": "scattergl"
           }
          ],
          "scattermapbox": [
           {
            "marker": {
             "colorbar": {
              "outlinewidth": 0,
              "ticks": ""
             }
            },
            "type": "scattermapbox"
           }
          ],
          "scatterpolar": [
           {
            "marker": {
             "colorbar": {
              "outlinewidth": 0,
              "ticks": ""
             }
            },
            "type": "scatterpolar"
           }
          ],
          "scatterpolargl": [
           {
            "marker": {
             "colorbar": {
              "outlinewidth": 0,
              "ticks": ""
             }
            },
            "type": "scatterpolargl"
           }
          ],
          "scatterternary": [
           {
            "marker": {
             "colorbar": {
              "outlinewidth": 0,
              "ticks": ""
             }
            },
            "type": "scatterternary"
           }
          ],
          "surface": [
           {
            "colorbar": {
             "outlinewidth": 0,
             "ticks": ""
            },
            "colorscale": [
             [
              0,
              "#0d0887"
             ],
             [
              0.1111111111111111,
              "#46039f"
             ],
             [
              0.2222222222222222,
              "#7201a8"
             ],
             [
              0.3333333333333333,
              "#9c179e"
             ],
             [
              0.4444444444444444,
              "#bd3786"
             ],
             [
              0.5555555555555556,
              "#d8576b"
             ],
             [
              0.6666666666666666,
              "#ed7953"
             ],
             [
              0.7777777777777778,
              "#fb9f3a"
             ],
             [
              0.8888888888888888,
              "#fdca26"
             ],
             [
              1,
              "#f0f921"
             ]
            ],
            "type": "surface"
           }
          ],
          "table": [
           {
            "cells": {
             "fill": {
              "color": "#EBF0F8"
             },
             "line": {
              "color": "white"
             }
            },
            "header": {
             "fill": {
              "color": "#C8D4E3"
             },
             "line": {
              "color": "white"
             }
            },
            "type": "table"
           }
          ]
         },
         "layout": {
          "annotationdefaults": {
           "arrowcolor": "#2a3f5f",
           "arrowhead": 0,
           "arrowwidth": 1
          },
          "autotypenumbers": "strict",
          "coloraxis": {
           "colorbar": {
            "outlinewidth": 0,
            "ticks": ""
           }
          },
          "colorscale": {
           "diverging": [
            [
             0,
             "#8e0152"
            ],
            [
             0.1,
             "#c51b7d"
            ],
            [
             0.2,
             "#de77ae"
            ],
            [
             0.3,
             "#f1b6da"
            ],
            [
             0.4,
             "#fde0ef"
            ],
            [
             0.5,
             "#f7f7f7"
            ],
            [
             0.6,
             "#e6f5d0"
            ],
            [
             0.7,
             "#b8e186"
            ],
            [
             0.8,
             "#7fbc41"
            ],
            [
             0.9,
             "#4d9221"
            ],
            [
             1,
             "#276419"
            ]
           ],
           "sequential": [
            [
             0,
             "#0d0887"
            ],
            [
             0.1111111111111111,
             "#46039f"
            ],
            [
             0.2222222222222222,
             "#7201a8"
            ],
            [
             0.3333333333333333,
             "#9c179e"
            ],
            [
             0.4444444444444444,
             "#bd3786"
            ],
            [
             0.5555555555555556,
             "#d8576b"
            ],
            [
             0.6666666666666666,
             "#ed7953"
            ],
            [
             0.7777777777777778,
             "#fb9f3a"
            ],
            [
             0.8888888888888888,
             "#fdca26"
            ],
            [
             1,
             "#f0f921"
            ]
           ],
           "sequentialminus": [
            [
             0,
             "#0d0887"
            ],
            [
             0.1111111111111111,
             "#46039f"
            ],
            [
             0.2222222222222222,
             "#7201a8"
            ],
            [
             0.3333333333333333,
             "#9c179e"
            ],
            [
             0.4444444444444444,
             "#bd3786"
            ],
            [
             0.5555555555555556,
             "#d8576b"
            ],
            [
             0.6666666666666666,
             "#ed7953"
            ],
            [
             0.7777777777777778,
             "#fb9f3a"
            ],
            [
             0.8888888888888888,
             "#fdca26"
            ],
            [
             1,
             "#f0f921"
            ]
           ]
          },
          "colorway": [
           "#636efa",
           "#EF553B",
           "#00cc96",
           "#ab63fa",
           "#FFA15A",
           "#19d3f3",
           "#FF6692",
           "#B6E880",
           "#FF97FF",
           "#FECB52"
          ],
          "font": {
           "color": "#2a3f5f"
          },
          "geo": {
           "bgcolor": "white",
           "lakecolor": "white",
           "landcolor": "#E5ECF6",
           "showlakes": true,
           "showland": true,
           "subunitcolor": "white"
          },
          "hoverlabel": {
           "align": "left"
          },
          "hovermode": "closest",
          "mapbox": {
           "style": "light"
          },
          "paper_bgcolor": "white",
          "plot_bgcolor": "#E5ECF6",
          "polar": {
           "angularaxis": {
            "gridcolor": "white",
            "linecolor": "white",
            "ticks": ""
           },
           "bgcolor": "#E5ECF6",
           "radialaxis": {
            "gridcolor": "white",
            "linecolor": "white",
            "ticks": ""
           }
          },
          "scene": {
           "xaxis": {
            "backgroundcolor": "#E5ECF6",
            "gridcolor": "white",
            "gridwidth": 2,
            "linecolor": "white",
            "showbackground": true,
            "ticks": "",
            "zerolinecolor": "white"
           },
           "yaxis": {
            "backgroundcolor": "#E5ECF6",
            "gridcolor": "white",
            "gridwidth": 2,
            "linecolor": "white",
            "showbackground": true,
            "ticks": "",
            "zerolinecolor": "white"
           },
           "zaxis": {
            "backgroundcolor": "#E5ECF6",
            "gridcolor": "white",
            "gridwidth": 2,
            "linecolor": "white",
            "showbackground": true,
            "ticks": "",
            "zerolinecolor": "white"
           }
          },
          "shapedefaults": {
           "line": {
            "color": "#2a3f5f"
           }
          },
          "ternary": {
           "aaxis": {
            "gridcolor": "white",
            "linecolor": "white",
            "ticks": ""
           },
           "baxis": {
            "gridcolor": "white",
            "linecolor": "white",
            "ticks": ""
           },
           "bgcolor": "#E5ECF6",
           "caxis": {
            "gridcolor": "white",
            "linecolor": "white",
            "ticks": ""
           }
          },
          "title": {
           "x": 0.05
          },
          "xaxis": {
           "automargin": true,
           "gridcolor": "white",
           "linecolor": "white",
           "ticks": "",
           "title": {
            "standoff": 15
           },
           "zerolinecolor": "white",
           "zerolinewidth": 2
          },
          "yaxis": {
           "automargin": true,
           "gridcolor": "white",
           "linecolor": "white",
           "ticks": "",
           "title": {
            "standoff": 15
           },
           "zerolinecolor": "white",
           "zerolinewidth": 2
          }
         }
        },
        "title": {
         "text": "Distribuição do MetaScore nos Filmes"
        },
        "xaxis": {
         "anchor": "y",
         "domain": [
          0,
          1
         ],
         "title": {
          "text": "Nota no MetaCritic"
         }
        },
        "xaxis2": {
         "anchor": "y2",
         "domain": [
          0,
          1
         ],
         "matches": "x",
         "showgrid": true,
         "showticklabels": false
        },
        "yaxis": {
         "anchor": "x",
         "domain": [
          0,
          0.8316
         ],
         "title": {
          "text": "Quantidade de Filmes"
         }
        },
        "yaxis2": {
         "anchor": "x2",
         "domain": [
          0.8416,
          1
         ],
         "matches": "y2",
         "showgrid": false,
         "showline": false,
         "showticklabels": false,
         "ticks": ""
        }
       }
      },
      "text/html": [
       "<div>                            <div id=\"8fa7a604-3d5b-4ac7-a440-afafb507377e\" class=\"plotly-graph-div\" style=\"height:525px; width:100%;\"></div>            <script type=\"text/javascript\">                require([\"plotly\"], function(Plotly) {                    window.PLOTLYENV=window.PLOTLYENV || {};                                    if (document.getElementById(\"8fa7a604-3d5b-4ac7-a440-afafb507377e\")) {                    Plotly.newPlot(                        \"8fa7a604-3d5b-4ac7-a440-afafb507377e\",                        [{\"alignmentgroup\":\"True\",\"bingroup\":\"x\",\"hovertemplate\":\"Nota no MetaCritic=%{x}<br>count=%{y}<extra></extra>\",\"legendgroup\":\"\",\"marker\":{\"color\":\"DarkSlateGray\",\"pattern\":{\"shape\":\"\"}},\"name\":\"\",\"offsetgroup\":\"\",\"orientation\":\"v\",\"showlegend\":false,\"x\":[80.0,100.0,84.0,90.0,96.0,94.0,94.0,94.0,74.0,66.0,92.0,82.0,90.0,87.0,73.0,90.0,82.0,83.0,96.0,74.0,79.0,96.0,91.0,61.0,59.0,65.0,85.0,90.0,98.0,59.0,88.0,57.0,66.0,85.0,85.0,67.0,62.0,77.0,64.0,88.0,75.0,80.0,87.0,80.0,97.0,100.0,96.0,99.0,75.0,79.0,87.0,78.0,68.0,81.0,81.0,78.0,67.0,95.0,89.0,77.0,80.0,76.0,85.0,66.0,94.0,89.0,97.0,100.0,78.0,77.0,95.0,80.0,69.0,89.0,69.0,55.0,68.0,84.0,70.0,77.0,95.0,68.0,79.0,76.0,84.0,88.0,65.0,58.0,86.0,94.0,83.0,77.0,84.0,74.0,100.0,94.0,98.0,100.0,99.0,95.0,100.0,69.0,88.0,80.0,71.0,63.0,88.0,75.0,68.0,93.0,98.0,92.0,62.0,70.0,82.0,80.0,72.0,66.0,90.0,76.0,73.0,85.0,65.0,86.0,72.0,96.0,89.0,91.0,86.0,98.0,75.0,98.0,98.0,95.0,84.0,74.0,77.0,86.0,77.0,88.0,79.0,71.0,94.0,96.0,74.0,81.0,93.0,85.0,70.0,90.0,72.0,85.0,68.0,75.0,73.0,91.0,86.0,79.0,64.0,90.0,82.0,69.0,90.0,75.0,83.0,79.0,84.0,64.0,58.0,90.0,73.0,71.0,85.0,83.0,85.0,77.0,100.0,77.0,68.0,84.0,79.0,75.0,92.0,78.0,86.0,57.0,47.0,100.0,84.0,77.0,86.0,70.0,92.0,77.0,92.0,75.0,90.0,87.0,91.0,72.0,97.0,86.0,73.0,97.0,87.0,94.0,69.0,80.0,78.0,89.0,66.0,65.0,82.0,71.0,73.0,76.0,81.0,90.0,49.0,76.0,67.0,88.0,62.0,65.0,87.0,50.0,84.0,79.0,33.0,69.0,90.0,80.0,64.0,64.0,85.0,72.0,74.0,92.0,96.0,80.0,83.0,85.0,74.0,69.0,54.0,75.0,63.0,58.0,90.0,60.0,88.0,77.0,61.0,86.0,82.0,80.0,85.0,84.0,91.0,74.0,76.0,82.0,72.0,47.0,59.0,86.0,72.0,95.0,72.0,93.0,65.0,77.0,79.0,88.0,84.0,79.0,83.0,92.0,87.0,86.0,80.0,58.0,81.0,93.0,67.0,100.0,66.0,79.0,83.0,63.0,69.0,65.0,90.0,95.0,93.0,99.0,84.0,97.0,93.0,96.0,92.0,91.0,82.0,93.0,94.0,93.0,78.0,82.0,81.0,72.0,79.0,74.0,76.0,58.0,81.0,80.0,94.0,75.0,89.0,71.0,94.0,94.0,90.0,67.0,82.0,81.0,80.0,100.0,82.0,67.0,89.0,64.0,79.0,83.0,56.0,79.0,76.0,84.0,82.0,85.0,86.0,84.0,61.0,68.0,80.0,84.0,90.0,85.0,88.0,85.0,77.0,59.0,85.0,65.0,74.0,97.0,77.0,79.0,90.0,84.0,92.0,77.0,60.0,83.0,72.0,71.0,84.0,76.0,93.0,91.0,97.0,75.0,83.0,87.0,89.0,88.0,100.0,97.0,90.0,85.0,94.0,74.0,88.0,84.0,96.0,75.0,65.0,75.0,68.0,91.0,62.0,85.0,76.0,74.0,55.0,83.0,84.0,49.0,84.0,76.0,81.0,71.0,82.0,72.0,79.0,66.0,82.0,76.0,79.0,51.0,55.0,88.0,58.0,85.0,78.0,76.0,83.0,63.0,68.0,80.0,81.0,70.0,67.0,51.0,82.0,68.0,73.0,74.0,72.0,53.0,75.0,82.0,91.0,61.0,83.0,48.0,94.0,87.0,73.0,44.0,84.0,71.0,84.0,75.0,64.0,61.0,76.0,70.0,73.0,50.0,55.0,84.0,87.0,80.0,68.0,86.0,76.0,75.0,74.0,78.0,57.0,65.0,45.0,72.0,61.0,75.0,62.0,78.0,66.0,76.0,71.0,91.0,73.0,91.0,77.0,69.0,85.0,73.0,80.0,80.0,67.0,79.0,95.0,88.0,75.0,88.0,66.0,73.0,85.0,86.0,70.0,76.0,72.0,72.0,60.0,69.0,74.0,87.0,89.0,40.0,70.0,87.0,72.0,70.0,81.0,83.0,96.0,72.0,95.0,65.0,73.0,81.0,81.0,86.0,76.0,65.0,86.0,80.0,81.0,63.0,45.0,78.0,78.0,74.0,78.0,53.0,70.0,78.0,71.0,71.0,87.0,76.0,66.0,78.0,73.0,61.0,73.0,89.0,81.0,47.0,80.0,55.0,83.0,68.0,76.0,28.0,83.0,74.0,72.0,60.0,74.0,85.0,74.0,62.0,69.0,73.0,68.0,69.0,86.0,90.0,67.0,52.0,73.0,76.0,87.0,47.0,83.0,81.0,70.0,79.0,66.0,64.0,73.0,76.0,82.0,62.0,64.0,69.0,66.0,83.0,84.0,76.0,62.0,54.0,76.0,75.0,90.0,77.0,67.0,61.0,86.0,78.0,87.0,71.0,73.0,87.0,83.0,80.0,94.0,90.0,86.0,72.0,87.0,90.0,74.0,91.0,96.0,71.0,83.0,86.0,92.0,60.0,70.0,83.0,67.0,86.0,72.0,81.0,80.0,81.0,82.0,82.0,92.0,88.0,77.0,79.0,73.0,68.0,80.0,88.0,80.0,65.0,72.0,72.0,66.0,87.0,70.0,73.0,57.0,53.0,79.0,36.0,82.0,66.0,76.0,72.0,66.0,70.0,68.0,78.0,52.0,72.0,56.0,62.0,46.0,67.0,73.0,45.0,76.0,81.0,70.0,56.0,67.0,68.0,30.0,73.0,76.0,88.0,64.0,74.0,52.0,53.0,80.0,74.0,64.0,77.0,78.0,71.0,41.0,66.0,49.0,52.0,84.0,58.0,62.0,69.0,77.0,88.0,56.0,78.0,68.0,90.0,66.0,63.0,60.0,76.0,88.0,76.0,72.0,68.0,82.0,68.0,77.0,65.0,74.0,76.0,59.0,90.0,87.0,77.0,50.0,65.0,96.0,85.0],\"xaxis\":\"x\",\"yaxis\":\"y\",\"type\":\"histogram\"},{\"alignmentgroup\":\"True\",\"hovertemplate\":\"Nota no MetaCritic=%{x}<extra></extra>\",\"legendgroup\":\"\",\"marker\":{\"color\":\"DarkSlateGray\"},\"name\":\"\",\"notched\":true,\"offsetgroup\":\"\",\"showlegend\":false,\"x\":[80.0,100.0,84.0,90.0,96.0,94.0,94.0,94.0,74.0,66.0,92.0,82.0,90.0,87.0,73.0,90.0,82.0,83.0,96.0,74.0,79.0,96.0,91.0,61.0,59.0,65.0,85.0,90.0,98.0,59.0,88.0,57.0,66.0,85.0,85.0,67.0,62.0,77.0,64.0,88.0,75.0,80.0,87.0,80.0,97.0,100.0,96.0,99.0,75.0,79.0,87.0,78.0,68.0,81.0,81.0,78.0,67.0,95.0,89.0,77.0,80.0,76.0,85.0,66.0,94.0,89.0,97.0,100.0,78.0,77.0,95.0,80.0,69.0,89.0,69.0,55.0,68.0,84.0,70.0,77.0,95.0,68.0,79.0,76.0,84.0,88.0,65.0,58.0,86.0,94.0,83.0,77.0,84.0,74.0,100.0,94.0,98.0,100.0,99.0,95.0,100.0,69.0,88.0,80.0,71.0,63.0,88.0,75.0,68.0,93.0,98.0,92.0,62.0,70.0,82.0,80.0,72.0,66.0,90.0,76.0,73.0,85.0,65.0,86.0,72.0,96.0,89.0,91.0,86.0,98.0,75.0,98.0,98.0,95.0,84.0,74.0,77.0,86.0,77.0,88.0,79.0,71.0,94.0,96.0,74.0,81.0,93.0,85.0,70.0,90.0,72.0,85.0,68.0,75.0,73.0,91.0,86.0,79.0,64.0,90.0,82.0,69.0,90.0,75.0,83.0,79.0,84.0,64.0,58.0,90.0,73.0,71.0,85.0,83.0,85.0,77.0,100.0,77.0,68.0,84.0,79.0,75.0,92.0,78.0,86.0,57.0,47.0,100.0,84.0,77.0,86.0,70.0,92.0,77.0,92.0,75.0,90.0,87.0,91.0,72.0,97.0,86.0,73.0,97.0,87.0,94.0,69.0,80.0,78.0,89.0,66.0,65.0,82.0,71.0,73.0,76.0,81.0,90.0,49.0,76.0,67.0,88.0,62.0,65.0,87.0,50.0,84.0,79.0,33.0,69.0,90.0,80.0,64.0,64.0,85.0,72.0,74.0,92.0,96.0,80.0,83.0,85.0,74.0,69.0,54.0,75.0,63.0,58.0,90.0,60.0,88.0,77.0,61.0,86.0,82.0,80.0,85.0,84.0,91.0,74.0,76.0,82.0,72.0,47.0,59.0,86.0,72.0,95.0,72.0,93.0,65.0,77.0,79.0,88.0,84.0,79.0,83.0,92.0,87.0,86.0,80.0,58.0,81.0,93.0,67.0,100.0,66.0,79.0,83.0,63.0,69.0,65.0,90.0,95.0,93.0,99.0,84.0,97.0,93.0,96.0,92.0,91.0,82.0,93.0,94.0,93.0,78.0,82.0,81.0,72.0,79.0,74.0,76.0,58.0,81.0,80.0,94.0,75.0,89.0,71.0,94.0,94.0,90.0,67.0,82.0,81.0,80.0,100.0,82.0,67.0,89.0,64.0,79.0,83.0,56.0,79.0,76.0,84.0,82.0,85.0,86.0,84.0,61.0,68.0,80.0,84.0,90.0,85.0,88.0,85.0,77.0,59.0,85.0,65.0,74.0,97.0,77.0,79.0,90.0,84.0,92.0,77.0,60.0,83.0,72.0,71.0,84.0,76.0,93.0,91.0,97.0,75.0,83.0,87.0,89.0,88.0,100.0,97.0,90.0,85.0,94.0,74.0,88.0,84.0,96.0,75.0,65.0,75.0,68.0,91.0,62.0,85.0,76.0,74.0,55.0,83.0,84.0,49.0,84.0,76.0,81.0,71.0,82.0,72.0,79.0,66.0,82.0,76.0,79.0,51.0,55.0,88.0,58.0,85.0,78.0,76.0,83.0,63.0,68.0,80.0,81.0,70.0,67.0,51.0,82.0,68.0,73.0,74.0,72.0,53.0,75.0,82.0,91.0,61.0,83.0,48.0,94.0,87.0,73.0,44.0,84.0,71.0,84.0,75.0,64.0,61.0,76.0,70.0,73.0,50.0,55.0,84.0,87.0,80.0,68.0,86.0,76.0,75.0,74.0,78.0,57.0,65.0,45.0,72.0,61.0,75.0,62.0,78.0,66.0,76.0,71.0,91.0,73.0,91.0,77.0,69.0,85.0,73.0,80.0,80.0,67.0,79.0,95.0,88.0,75.0,88.0,66.0,73.0,85.0,86.0,70.0,76.0,72.0,72.0,60.0,69.0,74.0,87.0,89.0,40.0,70.0,87.0,72.0,70.0,81.0,83.0,96.0,72.0,95.0,65.0,73.0,81.0,81.0,86.0,76.0,65.0,86.0,80.0,81.0,63.0,45.0,78.0,78.0,74.0,78.0,53.0,70.0,78.0,71.0,71.0,87.0,76.0,66.0,78.0,73.0,61.0,73.0,89.0,81.0,47.0,80.0,55.0,83.0,68.0,76.0,28.0,83.0,74.0,72.0,60.0,74.0,85.0,74.0,62.0,69.0,73.0,68.0,69.0,86.0,90.0,67.0,52.0,73.0,76.0,87.0,47.0,83.0,81.0,70.0,79.0,66.0,64.0,73.0,76.0,82.0,62.0,64.0,69.0,66.0,83.0,84.0,76.0,62.0,54.0,76.0,75.0,90.0,77.0,67.0,61.0,86.0,78.0,87.0,71.0,73.0,87.0,83.0,80.0,94.0,90.0,86.0,72.0,87.0,90.0,74.0,91.0,96.0,71.0,83.0,86.0,92.0,60.0,70.0,83.0,67.0,86.0,72.0,81.0,80.0,81.0,82.0,82.0,92.0,88.0,77.0,79.0,73.0,68.0,80.0,88.0,80.0,65.0,72.0,72.0,66.0,87.0,70.0,73.0,57.0,53.0,79.0,36.0,82.0,66.0,76.0,72.0,66.0,70.0,68.0,78.0,52.0,72.0,56.0,62.0,46.0,67.0,73.0,45.0,76.0,81.0,70.0,56.0,67.0,68.0,30.0,73.0,76.0,88.0,64.0,74.0,52.0,53.0,80.0,74.0,64.0,77.0,78.0,71.0,41.0,66.0,49.0,52.0,84.0,58.0,62.0,69.0,77.0,88.0,56.0,78.0,68.0,90.0,66.0,63.0,60.0,76.0,88.0,76.0,72.0,68.0,82.0,68.0,77.0,65.0,74.0,76.0,59.0,90.0,87.0,77.0,50.0,65.0,96.0,85.0],\"xaxis\":\"x2\",\"yaxis\":\"y2\",\"type\":\"box\"}],                        {\"template\":{\"data\":{\"histogram2dcontour\":[{\"type\":\"histogram2dcontour\",\"colorbar\":{\"outlinewidth\":0,\"ticks\":\"\"},\"colorscale\":[[0.0,\"#0d0887\"],[0.1111111111111111,\"#46039f\"],[0.2222222222222222,\"#7201a8\"],[0.3333333333333333,\"#9c179e\"],[0.4444444444444444,\"#bd3786\"],[0.5555555555555556,\"#d8576b\"],[0.6666666666666666,\"#ed7953\"],[0.7777777777777778,\"#fb9f3a\"],[0.8888888888888888,\"#fdca26\"],[1.0,\"#f0f921\"]]}],\"choropleth\":[{\"type\":\"choropleth\",\"colorbar\":{\"outlinewidth\":0,\"ticks\":\"\"}}],\"histogram2d\":[{\"type\":\"histogram2d\",\"colorbar\":{\"outlinewidth\":0,\"ticks\":\"\"},\"colorscale\":[[0.0,\"#0d0887\"],[0.1111111111111111,\"#46039f\"],[0.2222222222222222,\"#7201a8\"],[0.3333333333333333,\"#9c179e\"],[0.4444444444444444,\"#bd3786\"],[0.5555555555555556,\"#d8576b\"],[0.6666666666666666,\"#ed7953\"],[0.7777777777777778,\"#fb9f3a\"],[0.8888888888888888,\"#fdca26\"],[1.0,\"#f0f921\"]]}],\"heatmap\":[{\"type\":\"heatmap\",\"colorbar\":{\"outlinewidth\":0,\"ticks\":\"\"},\"colorscale\":[[0.0,\"#0d0887\"],[0.1111111111111111,\"#46039f\"],[0.2222222222222222,\"#7201a8\"],[0.3333333333333333,\"#9c179e\"],[0.4444444444444444,\"#bd3786\"],[0.5555555555555556,\"#d8576b\"],[0.6666666666666666,\"#ed7953\"],[0.7777777777777778,\"#fb9f3a\"],[0.8888888888888888,\"#fdca26\"],[1.0,\"#f0f921\"]]}],\"heatmapgl\":[{\"type\":\"heatmapgl\",\"colorbar\":{\"outlinewidth\":0,\"ticks\":\"\"},\"colorscale\":[[0.0,\"#0d0887\"],[0.1111111111111111,\"#46039f\"],[0.2222222222222222,\"#7201a8\"],[0.3333333333333333,\"#9c179e\"],[0.4444444444444444,\"#bd3786\"],[0.5555555555555556,\"#d8576b\"],[0.6666666666666666,\"#ed7953\"],[0.7777777777777778,\"#fb9f3a\"],[0.8888888888888888,\"#fdca26\"],[1.0,\"#f0f921\"]]}],\"contourcarpet\":[{\"type\":\"contourcarpet\",\"colorbar\":{\"outlinewidth\":0,\"ticks\":\"\"}}],\"contour\":[{\"type\":\"contour\",\"colorbar\":{\"outlinewidth\":0,\"ticks\":\"\"},\"colorscale\":[[0.0,\"#0d0887\"],[0.1111111111111111,\"#46039f\"],[0.2222222222222222,\"#7201a8\"],[0.3333333333333333,\"#9c179e\"],[0.4444444444444444,\"#bd3786\"],[0.5555555555555556,\"#d8576b\"],[0.6666666666666666,\"#ed7953\"],[0.7777777777777778,\"#fb9f3a\"],[0.8888888888888888,\"#fdca26\"],[1.0,\"#f0f921\"]]}],\"surface\":[{\"type\":\"surface\",\"colorbar\":{\"outlinewidth\":0,\"ticks\":\"\"},\"colorscale\":[[0.0,\"#0d0887\"],[0.1111111111111111,\"#46039f\"],[0.2222222222222222,\"#7201a8\"],[0.3333333333333333,\"#9c179e\"],[0.4444444444444444,\"#bd3786\"],[0.5555555555555556,\"#d8576b\"],[0.6666666666666666,\"#ed7953\"],[0.7777777777777778,\"#fb9f3a\"],[0.8888888888888888,\"#fdca26\"],[1.0,\"#f0f921\"]]}],\"mesh3d\":[{\"type\":\"mesh3d\",\"colorbar\":{\"outlinewidth\":0,\"ticks\":\"\"}}],\"scatter\":[{\"fillpattern\":{\"fillmode\":\"overlay\",\"size\":10,\"solidity\":0.2},\"type\":\"scatter\"}],\"parcoords\":[{\"type\":\"parcoords\",\"line\":{\"colorbar\":{\"outlinewidth\":0,\"ticks\":\"\"}}}],\"scatterpolargl\":[{\"type\":\"scatterpolargl\",\"marker\":{\"colorbar\":{\"outlinewidth\":0,\"ticks\":\"\"}}}],\"bar\":[{\"error_x\":{\"color\":\"#2a3f5f\"},\"error_y\":{\"color\":\"#2a3f5f\"},\"marker\":{\"line\":{\"color\":\"#E5ECF6\",\"width\":0.5},\"pattern\":{\"fillmode\":\"overlay\",\"size\":10,\"solidity\":0.2}},\"type\":\"bar\"}],\"scattergeo\":[{\"type\":\"scattergeo\",\"marker\":{\"colorbar\":{\"outlinewidth\":0,\"ticks\":\"\"}}}],\"scatterpolar\":[{\"type\":\"scatterpolar\",\"marker\":{\"colorbar\":{\"outlinewidth\":0,\"ticks\":\"\"}}}],\"histogram\":[{\"marker\":{\"pattern\":{\"fillmode\":\"overlay\",\"size\":10,\"solidity\":0.2}},\"type\":\"histogram\"}],\"scattergl\":[{\"type\":\"scattergl\",\"marker\":{\"colorbar\":{\"outlinewidth\":0,\"ticks\":\"\"}}}],\"scatter3d\":[{\"type\":\"scatter3d\",\"line\":{\"colorbar\":{\"outlinewidth\":0,\"ticks\":\"\"}},\"marker\":{\"colorbar\":{\"outlinewidth\":0,\"ticks\":\"\"}}}],\"scattermapbox\":[{\"type\":\"scattermapbox\",\"marker\":{\"colorbar\":{\"outlinewidth\":0,\"ticks\":\"\"}}}],\"scatterternary\":[{\"type\":\"scatterternary\",\"marker\":{\"colorbar\":{\"outlinewidth\":0,\"ticks\":\"\"}}}],\"scattercarpet\":[{\"type\":\"scattercarpet\",\"marker\":{\"colorbar\":{\"outlinewidth\":0,\"ticks\":\"\"}}}],\"carpet\":[{\"aaxis\":{\"endlinecolor\":\"#2a3f5f\",\"gridcolor\":\"white\",\"linecolor\":\"white\",\"minorgridcolor\":\"white\",\"startlinecolor\":\"#2a3f5f\"},\"baxis\":{\"endlinecolor\":\"#2a3f5f\",\"gridcolor\":\"white\",\"linecolor\":\"white\",\"minorgridcolor\":\"white\",\"startlinecolor\":\"#2a3f5f\"},\"type\":\"carpet\"}],\"table\":[{\"cells\":{\"fill\":{\"color\":\"#EBF0F8\"},\"line\":{\"color\":\"white\"}},\"header\":{\"fill\":{\"color\":\"#C8D4E3\"},\"line\":{\"color\":\"white\"}},\"type\":\"table\"}],\"barpolar\":[{\"marker\":{\"line\":{\"color\":\"#E5ECF6\",\"width\":0.5},\"pattern\":{\"fillmode\":\"overlay\",\"size\":10,\"solidity\":0.2}},\"type\":\"barpolar\"}],\"pie\":[{\"automargin\":true,\"type\":\"pie\"}]},\"layout\":{\"autotypenumbers\":\"strict\",\"colorway\":[\"#636efa\",\"#EF553B\",\"#00cc96\",\"#ab63fa\",\"#FFA15A\",\"#19d3f3\",\"#FF6692\",\"#B6E880\",\"#FF97FF\",\"#FECB52\"],\"font\":{\"color\":\"#2a3f5f\"},\"hovermode\":\"closest\",\"hoverlabel\":{\"align\":\"left\"},\"paper_bgcolor\":\"white\",\"plot_bgcolor\":\"#E5ECF6\",\"polar\":{\"bgcolor\":\"#E5ECF6\",\"angularaxis\":{\"gridcolor\":\"white\",\"linecolor\":\"white\",\"ticks\":\"\"},\"radialaxis\":{\"gridcolor\":\"white\",\"linecolor\":\"white\",\"ticks\":\"\"}},\"ternary\":{\"bgcolor\":\"#E5ECF6\",\"aaxis\":{\"gridcolor\":\"white\",\"linecolor\":\"white\",\"ticks\":\"\"},\"baxis\":{\"gridcolor\":\"white\",\"linecolor\":\"white\",\"ticks\":\"\"},\"caxis\":{\"gridcolor\":\"white\",\"linecolor\":\"white\",\"ticks\":\"\"}},\"coloraxis\":{\"colorbar\":{\"outlinewidth\":0,\"ticks\":\"\"}},\"colorscale\":{\"sequential\":[[0.0,\"#0d0887\"],[0.1111111111111111,\"#46039f\"],[0.2222222222222222,\"#7201a8\"],[0.3333333333333333,\"#9c179e\"],[0.4444444444444444,\"#bd3786\"],[0.5555555555555556,\"#d8576b\"],[0.6666666666666666,\"#ed7953\"],[0.7777777777777778,\"#fb9f3a\"],[0.8888888888888888,\"#fdca26\"],[1.0,\"#f0f921\"]],\"sequentialminus\":[[0.0,\"#0d0887\"],[0.1111111111111111,\"#46039f\"],[0.2222222222222222,\"#7201a8\"],[0.3333333333333333,\"#9c179e\"],[0.4444444444444444,\"#bd3786\"],[0.5555555555555556,\"#d8576b\"],[0.6666666666666666,\"#ed7953\"],[0.7777777777777778,\"#fb9f3a\"],[0.8888888888888888,\"#fdca26\"],[1.0,\"#f0f921\"]],\"diverging\":[[0,\"#8e0152\"],[0.1,\"#c51b7d\"],[0.2,\"#de77ae\"],[0.3,\"#f1b6da\"],[0.4,\"#fde0ef\"],[0.5,\"#f7f7f7\"],[0.6,\"#e6f5d0\"],[0.7,\"#b8e186\"],[0.8,\"#7fbc41\"],[0.9,\"#4d9221\"],[1,\"#276419\"]]},\"xaxis\":{\"gridcolor\":\"white\",\"linecolor\":\"white\",\"ticks\":\"\",\"title\":{\"standoff\":15},\"zerolinecolor\":\"white\",\"automargin\":true,\"zerolinewidth\":2},\"yaxis\":{\"gridcolor\":\"white\",\"linecolor\":\"white\",\"ticks\":\"\",\"title\":{\"standoff\":15},\"zerolinecolor\":\"white\",\"automargin\":true,\"zerolinewidth\":2},\"scene\":{\"xaxis\":{\"backgroundcolor\":\"#E5ECF6\",\"gridcolor\":\"white\",\"linecolor\":\"white\",\"showbackground\":true,\"ticks\":\"\",\"zerolinecolor\":\"white\",\"gridwidth\":2},\"yaxis\":{\"backgroundcolor\":\"#E5ECF6\",\"gridcolor\":\"white\",\"linecolor\":\"white\",\"showbackground\":true,\"ticks\":\"\",\"zerolinecolor\":\"white\",\"gridwidth\":2},\"zaxis\":{\"backgroundcolor\":\"#E5ECF6\",\"gridcolor\":\"white\",\"linecolor\":\"white\",\"showbackground\":true,\"ticks\":\"\",\"zerolinecolor\":\"white\",\"gridwidth\":2}},\"shapedefaults\":{\"line\":{\"color\":\"#2a3f5f\"}},\"annotationdefaults\":{\"arrowcolor\":\"#2a3f5f\",\"arrowhead\":0,\"arrowwidth\":1},\"geo\":{\"bgcolor\":\"white\",\"landcolor\":\"#E5ECF6\",\"subunitcolor\":\"white\",\"showland\":true,\"showlakes\":true,\"lakecolor\":\"white\"},\"title\":{\"x\":0.05},\"mapbox\":{\"style\":\"light\"}}},\"xaxis\":{\"anchor\":\"y\",\"domain\":[0.0,1.0],\"title\":{\"text\":\"Nota no MetaCritic\"}},\"yaxis\":{\"anchor\":\"x\",\"domain\":[0.0,0.8316],\"title\":{\"text\":\"Quantidade de Filmes\"}},\"xaxis2\":{\"anchor\":\"y2\",\"domain\":[0.0,1.0],\"matches\":\"x\",\"showticklabels\":false,\"showgrid\":true},\"yaxis2\":{\"anchor\":\"x2\",\"domain\":[0.8416,1.0],\"matches\":\"y2\",\"showticklabels\":false,\"showline\":false,\"ticks\":\"\",\"showgrid\":false},\"legend\":{\"tracegroupgap\":0},\"title\":{\"text\":\"Distribui\\u00e7\\u00e3o do MetaScore nos Filmes\"},\"barmode\":\"relative\"},                        {\"responsive\": true}                    ).then(function(){\n",
       "                            \n",
       "var gd = document.getElementById('8fa7a604-3d5b-4ac7-a440-afafb507377e');\n",
       "var x = new MutationObserver(function (mutations, observer) {{\n",
       "        var display = window.getComputedStyle(gd).display;\n",
       "        if (!display || display === 'none') {{\n",
       "            console.log([gd, 'removed!']);\n",
       "            Plotly.purge(gd);\n",
       "            observer.disconnect();\n",
       "        }}\n",
       "}});\n",
       "\n",
       "// Listen for the removal of the full notebook cells\n",
       "var notebookContainer = gd.closest('#notebook-container');\n",
       "if (notebookContainer) {{\n",
       "    x.observe(notebookContainer, {childList: true});\n",
       "}}\n",
       "\n",
       "// Listen for the clearing of the current output cell\n",
       "var outputEl = gd.closest('.output');\n",
       "if (outputEl) {{\n",
       "    x.observe(outputEl, {childList: true});\n",
       "}}\n",
       "\n",
       "                        })                };                });            </script>        </div>"
      ]
     },
     "metadata": {},
     "output_type": "display_data"
    }
   ],
   "source": [
    "# Distribuição do MetaCritic Score\n",
    "fig = px.histogram(\n",
    "    x=df.Meta_score, \n",
    "    title=\"Distribuição do MetaScore nos Filmes\",\n",
    "    marginal=\"box\",\n",
    "    labels={\"x\": \"Nota no MetaCritic\"}\n",
    "    ).update_traces(marker_color=\"DarkSlateGray\").update_layout(yaxis_title=\"Quantidade de Filmes\")\n",
    "fig.show()"
   ]
  },
  {
   "cell_type": "markdown",
   "metadata": {},
   "source": [
    "**Distribuição do Número de Votos no IMDB**: Para verificar a popularidade do filme, é possível analisar seu número de votos no IMDB, ou seja, a quantidade de pessoas que assistiram e avaliaram a obra. Para isso, também utilizaremos um **Histograma** junto de um **Boxplot**, pois ambos os gráficos auxiliam no entendimento da distribuição em variáveis númericas.\n",
    "\n",
    "Analisando os gráficos, é possível notar que a maior parte dos filmes possui de 55K até 375K de votos, enquanto há vários outliers com número de votos acima de 1 milhão.\n"
   ]
  },
  {
   "cell_type": "code",
   "execution_count": 35,
   "metadata": {},
   "outputs": [
    {
     "data": {
      "application/vnd.plotly.v1+json": {
       "config": {
        "plotlyServerURL": "https://plot.ly"
       },
       "data": [
        {
         "alignmentgroup": "True",
         "bingroup": "x",
         "hovertemplate": "Número de votos no IMDB=%{x}<br>count=%{y}<extra></extra>",
         "legendgroup": "",
         "marker": {
          "color": "DarkSlateGray",
          "pattern": {
           "shape": ""
          }
         },
         "name": "",
         "offsetgroup": "",
         "orientation": "v",
         "showlegend": false,
         "type": "histogram",
         "x": [
          2343110,
          1620367,
          2303232,
          1129952,
          689845,
          1642758,
          1826188,
          1213505,
          2067042,
          1854740,
          1661481,
          1809221,
          688390,
          1485555,
          1676426,
          1020727,
          1159315,
          918088,
          552778,
          1512360,
          699256,
          651376,
          1235804,
          1147794,
          623629,
          1445096,
          1270197,
          1231473,
          315744,
          939252,
          717585,
          760360,
          1190259,
          1189773,
          729603,
          1341460,
          1034705,
          991208,
          1035236,
          942045,
          995506,
          230763,
          1058081,
          302844,
          604211,
          522093,
          217881,
          167839,
          62635,
          194838,
          375110,
          809955,
          834477,
          384171,
          1357682,
          1516346,
          344445,
          999790,
          358685,
          515451,
          1125712,
          343171,
          884112,
          898237,
          606398,
          787806,
          450474,
          444074,
          425844,
          281623,
          220002,
          150023,
          1267869,
          911664,
          703810,
          782001,
          766870,
          1069738,
          861606,
          65341,
          887429,
          959181,
          918562,
          675146,
          652719,
          369007,
          740911,
          950470,
          231855,
          724636,
          241513,
          757904,
          603517,
          232772,
          268085,
          164363,
          299198,
          364368,
          218957,
          143525,
          403351,
          377884,
          432610,
          193217,
          435950,
          1129894,
          935507,
          1187498,
          74129,
          517359,
          618623,
          757032,
          1032749,
          1308302,
          331308,
          333915,
          848920,
          535216,
          531967,
          577113,
          466276,
          375935,
          692366,
          291180,
          793164,
          112505,
          321860,
          500875,
          224730,
          243943,
          158335,
          120539,
          114304,
          63134,
          113649,
          50700,
          647884,
          371538,
          177059,
          707630,
          859695,
          435928,
          616228,
          640533,
          432811,
          291289,
          420316,
          51679,
          601149,
          882316,
          720450,
          764493,
          48582,
          666773,
          572921,
          856916,
          635975,
          334320,
          37820,
          236311,
          139558,
          1000639,
          949565,
          832846,
          223741,
          815505,
          105036,
          911573,
          59020,
          939631,
          50862,
          732620,
          124383,
          634716,
          617444,
          272291,
          90729,
          63122,
          867615,
          156842,
          425457,
          363401,
          381222,
          91188,
          150924,
          371271,
          76081,
          57784,
          693827,
          367250,
          311361,
          518546,
          294230,
          42285,
          161984,
          50058,
          219466,
          203463,
          142107,
          31568,
          158731,
          123942,
          107017,
          290074,
          94016,
          505918,
          213970,
          760094,
          434143,
          38746,
          141923,
          31886,
          81770,
          114316,
          685201,
          1043455,
          461823,
          540772,
          450349,
          705589,
          462252,
          639603,
          428521,
          902669,
          45803,
          98575,
          798882,
          699673,
          98097,
          1260806,
          88656,
          441614,
          448930,
          499439,
          604694,
          50610,
          738512,
          103284,
          641645,
          582239,
          683900,
          77520,
          77554,
          176151,
          63460,
          117857,
          1015122,
          415218,
          657047,
          137963,
          740086,
          289742,
          102285,
          82002,
          78341,
          36419,
          172083,
          86838,
          37564,
          578443,
          129231,
          300208,
          577991,
          28825,
          263918,
          373845,
          142110,
          417178,
          240266,
          89429,
          473064,
          393899,
          64722,
          31163,
          799795,
          217664,
          65625,
          251823,
          543388,
          235652,
          143359,
          121627,
          362393,
          42456,
          39491,
          27067,
          201888,
          165167,
          253676,
          205425,
          69903,
          198219,
          75067,
          66621,
          56305,
          98431,
          45062,
          99182,
          57259,
          85559,
          371379,
          57318,
          454203,
          62754,
          246644,
          212651,
          53818,
          139114,
          111483,
          189400,
          85109,
          587775,
          466134,
          297918,
          594181,
          860823,
          141457,
          659763,
          230624,
          600004,
          93090,
          324720,
          93560,
          335152,
          205609,
          638202,
          289415,
          335533,
          577336,
          390334,
          154011,
          107290,
          580708,
          199696,
          57430,
          939644,
          512249,
          419420,
          552493,
          173999,
          104691,
          44618,
          42897,
          508771,
          49721,
          465113,
          252586,
          322031,
          527512,
          239473,
          31590,
          206918,
          89836,
          201000,
          447368,
          68076,
          54670,
          281842,
          67176,
          187567,
          128812,
          132947,
          183182,
          131436,
          28223,
          111512,
          103031,
          37183,
          38737,
          93741,
          77401,
          67804,
          68689,
          124339,
          97222,
          123341,
          92306,
          47175,
          78991,
          51240,
          555092,
          200876,
          61594,
          118035,
          246963,
          35539,
          556608,
          663649,
          517059,
          143250,
          50778,
          45002,
          50523,
          410983,
          303032,
          73690,
          203177,
          108399,
          318789,
          305611,
          362942,
          423010,
          421244,
          179264,
          52758,
          601408,
          68715,
          208994,
          340584,
          564791,
          190748,
          110656,
          757377,
          251370,
          571571,
          392449,
          1118998,
          216421,
          291018,
          439856,
          463466,
          589160,
          49050,
          45717,
          258924,
          51980,
          31658,
          283310,
          234207,
          520284,
          96703,
          42673,
          50622,
          129022,
          60684,
          198089,
          253228,
          89058,
          524235,
          227143,
          159886,
          82855,
          613941,
          1046089,
          280845,
          345096,
          62428,
          164937,
          215034,
          126871,
          78963,
          66065,
          267684,
          128171,
          55362,
          42376,
          126082,
          184740,
          125276,
          122779,
          481918,
          88214,
          371387,
          148359,
          321382,
          47834,
          244430,
          78321,
          357026,
          51585,
          355413,
          56235,
          88511,
          372490,
          133351,
          65659,
          98611,
          25229,
          37445,
          48334,
          178731,
          101124,
          86525,
          158029,
          52141,
          27007,
          478586,
          205444,
          492851,
          291257,
          47444,
          157498,
          32798,
          404182,
          590440,
          344312,
          123210,
          580291,
          138741,
          32628,
          736182,
          112298,
          380195,
          56720,
          388089,
          323982,
          769145,
          463188,
          624982,
          645512,
          717559,
          630614,
          661871,
          572581,
          472242,
          479120,
          125317,
          103330,
          71379,
          239203,
          81446,
          474141,
          32001,
          175355,
          466080,
          299524,
          28003,
          61609,
          405922,
          72643,
          323103,
          288797,
          419483,
          127250,
          434841,
          358432,
          138356,
          415074,
          548619,
          329592,
          197761,
          400049,
          25938,
          137981,
          40403,
          142863,
          178565,
          364254,
          246840,
          90842,
          126770,
          31957,
          516372,
          29210,
          286742,
          192112,
          241575,
          390247,
          169229,
          312542,
          275755,
          434125,
          37424,
          279318,
          51350,
          189716,
          32236,
          33600,
          211450,
          42275,
          224169,
          50298,
          85819,
          150409,
          95826,
          235388,
          66941,
          113240,
          125822,
          182009,
          40396,
          94326,
          115677,
          102031,
          181285,
          47102,
          59635,
          36096,
          112704,
          226541,
          47099,
          214882,
          233106,
          39889,
          125993,
          109941,
          96561,
          98740,
          110075,
          143292,
          31572,
          31222,
          174119,
          171739,
          87719,
          71481,
          88662,
          140840,
          551309,
          29765,
          95181,
          99643,
          66346,
          35785,
          569974,
          439406,
          58371,
          287659,
          250057,
          272784,
          371291,
          247666,
          49397,
          204175,
          94212,
          411599,
          190531,
          228132,
          80939,
          334312,
          311822,
          38491,
          500851,
          315426,
          524081,
          369529,
          138959,
          520041,
          583158,
          293266,
          41544,
          286770,
          227760,
          255036,
          339757,
          250590,
          82781,
          72863,
          354728,
          474827,
          732876,
          206294,
          500799,
          294140,
          379020,
          83158,
          65939,
          67360,
          70925,
          67370,
          224545,
          62659,
          198677,
          169708,
          451479,
          376853,
          266842,
          115827,
          658185,
          337651,
          240714,
          243729,
          508417,
          91557,
          490062,
          188317,
          172710,
          256906,
          259753,
          187927,
          186734,
          131101,
          102598,
          364420,
          90442,
          73172,
          269197,
          64390,
          171640,
          165465,
          107325,
          27071,
          80487,
          488817,
          359809,
          195663,
          237696,
          152871,
          124773,
          236894,
          87745,
          27650,
          166588,
          93878,
          32802,
          121731,
          73662,
          184966,
          26337,
          30144,
          45338,
          166409,
          40351,
          43374
         ],
         "xaxis": "x",
         "yaxis": "y"
        },
        {
         "alignmentgroup": "True",
         "hovertemplate": "Número de votos no IMDB=%{x}<extra></extra>",
         "legendgroup": "",
         "marker": {
          "color": "DarkSlateGray"
         },
         "name": "",
         "notched": true,
         "offsetgroup": "",
         "showlegend": false,
         "type": "box",
         "x": [
          2343110,
          1620367,
          2303232,
          1129952,
          689845,
          1642758,
          1826188,
          1213505,
          2067042,
          1854740,
          1661481,
          1809221,
          688390,
          1485555,
          1676426,
          1020727,
          1159315,
          918088,
          552778,
          1512360,
          699256,
          651376,
          1235804,
          1147794,
          623629,
          1445096,
          1270197,
          1231473,
          315744,
          939252,
          717585,
          760360,
          1190259,
          1189773,
          729603,
          1341460,
          1034705,
          991208,
          1035236,
          942045,
          995506,
          230763,
          1058081,
          302844,
          604211,
          522093,
          217881,
          167839,
          62635,
          194838,
          375110,
          809955,
          834477,
          384171,
          1357682,
          1516346,
          344445,
          999790,
          358685,
          515451,
          1125712,
          343171,
          884112,
          898237,
          606398,
          787806,
          450474,
          444074,
          425844,
          281623,
          220002,
          150023,
          1267869,
          911664,
          703810,
          782001,
          766870,
          1069738,
          861606,
          65341,
          887429,
          959181,
          918562,
          675146,
          652719,
          369007,
          740911,
          950470,
          231855,
          724636,
          241513,
          757904,
          603517,
          232772,
          268085,
          164363,
          299198,
          364368,
          218957,
          143525,
          403351,
          377884,
          432610,
          193217,
          435950,
          1129894,
          935507,
          1187498,
          74129,
          517359,
          618623,
          757032,
          1032749,
          1308302,
          331308,
          333915,
          848920,
          535216,
          531967,
          577113,
          466276,
          375935,
          692366,
          291180,
          793164,
          112505,
          321860,
          500875,
          224730,
          243943,
          158335,
          120539,
          114304,
          63134,
          113649,
          50700,
          647884,
          371538,
          177059,
          707630,
          859695,
          435928,
          616228,
          640533,
          432811,
          291289,
          420316,
          51679,
          601149,
          882316,
          720450,
          764493,
          48582,
          666773,
          572921,
          856916,
          635975,
          334320,
          37820,
          236311,
          139558,
          1000639,
          949565,
          832846,
          223741,
          815505,
          105036,
          911573,
          59020,
          939631,
          50862,
          732620,
          124383,
          634716,
          617444,
          272291,
          90729,
          63122,
          867615,
          156842,
          425457,
          363401,
          381222,
          91188,
          150924,
          371271,
          76081,
          57784,
          693827,
          367250,
          311361,
          518546,
          294230,
          42285,
          161984,
          50058,
          219466,
          203463,
          142107,
          31568,
          158731,
          123942,
          107017,
          290074,
          94016,
          505918,
          213970,
          760094,
          434143,
          38746,
          141923,
          31886,
          81770,
          114316,
          685201,
          1043455,
          461823,
          540772,
          450349,
          705589,
          462252,
          639603,
          428521,
          902669,
          45803,
          98575,
          798882,
          699673,
          98097,
          1260806,
          88656,
          441614,
          448930,
          499439,
          604694,
          50610,
          738512,
          103284,
          641645,
          582239,
          683900,
          77520,
          77554,
          176151,
          63460,
          117857,
          1015122,
          415218,
          657047,
          137963,
          740086,
          289742,
          102285,
          82002,
          78341,
          36419,
          172083,
          86838,
          37564,
          578443,
          129231,
          300208,
          577991,
          28825,
          263918,
          373845,
          142110,
          417178,
          240266,
          89429,
          473064,
          393899,
          64722,
          31163,
          799795,
          217664,
          65625,
          251823,
          543388,
          235652,
          143359,
          121627,
          362393,
          42456,
          39491,
          27067,
          201888,
          165167,
          253676,
          205425,
          69903,
          198219,
          75067,
          66621,
          56305,
          98431,
          45062,
          99182,
          57259,
          85559,
          371379,
          57318,
          454203,
          62754,
          246644,
          212651,
          53818,
          139114,
          111483,
          189400,
          85109,
          587775,
          466134,
          297918,
          594181,
          860823,
          141457,
          659763,
          230624,
          600004,
          93090,
          324720,
          93560,
          335152,
          205609,
          638202,
          289415,
          335533,
          577336,
          390334,
          154011,
          107290,
          580708,
          199696,
          57430,
          939644,
          512249,
          419420,
          552493,
          173999,
          104691,
          44618,
          42897,
          508771,
          49721,
          465113,
          252586,
          322031,
          527512,
          239473,
          31590,
          206918,
          89836,
          201000,
          447368,
          68076,
          54670,
          281842,
          67176,
          187567,
          128812,
          132947,
          183182,
          131436,
          28223,
          111512,
          103031,
          37183,
          38737,
          93741,
          77401,
          67804,
          68689,
          124339,
          97222,
          123341,
          92306,
          47175,
          78991,
          51240,
          555092,
          200876,
          61594,
          118035,
          246963,
          35539,
          556608,
          663649,
          517059,
          143250,
          50778,
          45002,
          50523,
          410983,
          303032,
          73690,
          203177,
          108399,
          318789,
          305611,
          362942,
          423010,
          421244,
          179264,
          52758,
          601408,
          68715,
          208994,
          340584,
          564791,
          190748,
          110656,
          757377,
          251370,
          571571,
          392449,
          1118998,
          216421,
          291018,
          439856,
          463466,
          589160,
          49050,
          45717,
          258924,
          51980,
          31658,
          283310,
          234207,
          520284,
          96703,
          42673,
          50622,
          129022,
          60684,
          198089,
          253228,
          89058,
          524235,
          227143,
          159886,
          82855,
          613941,
          1046089,
          280845,
          345096,
          62428,
          164937,
          215034,
          126871,
          78963,
          66065,
          267684,
          128171,
          55362,
          42376,
          126082,
          184740,
          125276,
          122779,
          481918,
          88214,
          371387,
          148359,
          321382,
          47834,
          244430,
          78321,
          357026,
          51585,
          355413,
          56235,
          88511,
          372490,
          133351,
          65659,
          98611,
          25229,
          37445,
          48334,
          178731,
          101124,
          86525,
          158029,
          52141,
          27007,
          478586,
          205444,
          492851,
          291257,
          47444,
          157498,
          32798,
          404182,
          590440,
          344312,
          123210,
          580291,
          138741,
          32628,
          736182,
          112298,
          380195,
          56720,
          388089,
          323982,
          769145,
          463188,
          624982,
          645512,
          717559,
          630614,
          661871,
          572581,
          472242,
          479120,
          125317,
          103330,
          71379,
          239203,
          81446,
          474141,
          32001,
          175355,
          466080,
          299524,
          28003,
          61609,
          405922,
          72643,
          323103,
          288797,
          419483,
          127250,
          434841,
          358432,
          138356,
          415074,
          548619,
          329592,
          197761,
          400049,
          25938,
          137981,
          40403,
          142863,
          178565,
          364254,
          246840,
          90842,
          126770,
          31957,
          516372,
          29210,
          286742,
          192112,
          241575,
          390247,
          169229,
          312542,
          275755,
          434125,
          37424,
          279318,
          51350,
          189716,
          32236,
          33600,
          211450,
          42275,
          224169,
          50298,
          85819,
          150409,
          95826,
          235388,
          66941,
          113240,
          125822,
          182009,
          40396,
          94326,
          115677,
          102031,
          181285,
          47102,
          59635,
          36096,
          112704,
          226541,
          47099,
          214882,
          233106,
          39889,
          125993,
          109941,
          96561,
          98740,
          110075,
          143292,
          31572,
          31222,
          174119,
          171739,
          87719,
          71481,
          88662,
          140840,
          551309,
          29765,
          95181,
          99643,
          66346,
          35785,
          569974,
          439406,
          58371,
          287659,
          250057,
          272784,
          371291,
          247666,
          49397,
          204175,
          94212,
          411599,
          190531,
          228132,
          80939,
          334312,
          311822,
          38491,
          500851,
          315426,
          524081,
          369529,
          138959,
          520041,
          583158,
          293266,
          41544,
          286770,
          227760,
          255036,
          339757,
          250590,
          82781,
          72863,
          354728,
          474827,
          732876,
          206294,
          500799,
          294140,
          379020,
          83158,
          65939,
          67360,
          70925,
          67370,
          224545,
          62659,
          198677,
          169708,
          451479,
          376853,
          266842,
          115827,
          658185,
          337651,
          240714,
          243729,
          508417,
          91557,
          490062,
          188317,
          172710,
          256906,
          259753,
          187927,
          186734,
          131101,
          102598,
          364420,
          90442,
          73172,
          269197,
          64390,
          171640,
          165465,
          107325,
          27071,
          80487,
          488817,
          359809,
          195663,
          237696,
          152871,
          124773,
          236894,
          87745,
          27650,
          166588,
          93878,
          32802,
          121731,
          73662,
          184966,
          26337,
          30144,
          45338,
          166409,
          40351,
          43374
         ],
         "xaxis": "x2",
         "yaxis": "y2"
        }
       ],
       "layout": {
        "barmode": "relative",
        "legend": {
         "tracegroupgap": 0
        },
        "template": {
         "data": {
          "bar": [
           {
            "error_x": {
             "color": "#2a3f5f"
            },
            "error_y": {
             "color": "#2a3f5f"
            },
            "marker": {
             "line": {
              "color": "#E5ECF6",
              "width": 0.5
             },
             "pattern": {
              "fillmode": "overlay",
              "size": 10,
              "solidity": 0.2
             }
            },
            "type": "bar"
           }
          ],
          "barpolar": [
           {
            "marker": {
             "line": {
              "color": "#E5ECF6",
              "width": 0.5
             },
             "pattern": {
              "fillmode": "overlay",
              "size": 10,
              "solidity": 0.2
             }
            },
            "type": "barpolar"
           }
          ],
          "carpet": [
           {
            "aaxis": {
             "endlinecolor": "#2a3f5f",
             "gridcolor": "white",
             "linecolor": "white",
             "minorgridcolor": "white",
             "startlinecolor": "#2a3f5f"
            },
            "baxis": {
             "endlinecolor": "#2a3f5f",
             "gridcolor": "white",
             "linecolor": "white",
             "minorgridcolor": "white",
             "startlinecolor": "#2a3f5f"
            },
            "type": "carpet"
           }
          ],
          "choropleth": [
           {
            "colorbar": {
             "outlinewidth": 0,
             "ticks": ""
            },
            "type": "choropleth"
           }
          ],
          "contour": [
           {
            "colorbar": {
             "outlinewidth": 0,
             "ticks": ""
            },
            "colorscale": [
             [
              0,
              "#0d0887"
             ],
             [
              0.1111111111111111,
              "#46039f"
             ],
             [
              0.2222222222222222,
              "#7201a8"
             ],
             [
              0.3333333333333333,
              "#9c179e"
             ],
             [
              0.4444444444444444,
              "#bd3786"
             ],
             [
              0.5555555555555556,
              "#d8576b"
             ],
             [
              0.6666666666666666,
              "#ed7953"
             ],
             [
              0.7777777777777778,
              "#fb9f3a"
             ],
             [
              0.8888888888888888,
              "#fdca26"
             ],
             [
              1,
              "#f0f921"
             ]
            ],
            "type": "contour"
           }
          ],
          "contourcarpet": [
           {
            "colorbar": {
             "outlinewidth": 0,
             "ticks": ""
            },
            "type": "contourcarpet"
           }
          ],
          "heatmap": [
           {
            "colorbar": {
             "outlinewidth": 0,
             "ticks": ""
            },
            "colorscale": [
             [
              0,
              "#0d0887"
             ],
             [
              0.1111111111111111,
              "#46039f"
             ],
             [
              0.2222222222222222,
              "#7201a8"
             ],
             [
              0.3333333333333333,
              "#9c179e"
             ],
             [
              0.4444444444444444,
              "#bd3786"
             ],
             [
              0.5555555555555556,
              "#d8576b"
             ],
             [
              0.6666666666666666,
              "#ed7953"
             ],
             [
              0.7777777777777778,
              "#fb9f3a"
             ],
             [
              0.8888888888888888,
              "#fdca26"
             ],
             [
              1,
              "#f0f921"
             ]
            ],
            "type": "heatmap"
           }
          ],
          "heatmapgl": [
           {
            "colorbar": {
             "outlinewidth": 0,
             "ticks": ""
            },
            "colorscale": [
             [
              0,
              "#0d0887"
             ],
             [
              0.1111111111111111,
              "#46039f"
             ],
             [
              0.2222222222222222,
              "#7201a8"
             ],
             [
              0.3333333333333333,
              "#9c179e"
             ],
             [
              0.4444444444444444,
              "#bd3786"
             ],
             [
              0.5555555555555556,
              "#d8576b"
             ],
             [
              0.6666666666666666,
              "#ed7953"
             ],
             [
              0.7777777777777778,
              "#fb9f3a"
             ],
             [
              0.8888888888888888,
              "#fdca26"
             ],
             [
              1,
              "#f0f921"
             ]
            ],
            "type": "heatmapgl"
           }
          ],
          "histogram": [
           {
            "marker": {
             "pattern": {
              "fillmode": "overlay",
              "size": 10,
              "solidity": 0.2
             }
            },
            "type": "histogram"
           }
          ],
          "histogram2d": [
           {
            "colorbar": {
             "outlinewidth": 0,
             "ticks": ""
            },
            "colorscale": [
             [
              0,
              "#0d0887"
             ],
             [
              0.1111111111111111,
              "#46039f"
             ],
             [
              0.2222222222222222,
              "#7201a8"
             ],
             [
              0.3333333333333333,
              "#9c179e"
             ],
             [
              0.4444444444444444,
              "#bd3786"
             ],
             [
              0.5555555555555556,
              "#d8576b"
             ],
             [
              0.6666666666666666,
              "#ed7953"
             ],
             [
              0.7777777777777778,
              "#fb9f3a"
             ],
             [
              0.8888888888888888,
              "#fdca26"
             ],
             [
              1,
              "#f0f921"
             ]
            ],
            "type": "histogram2d"
           }
          ],
          "histogram2dcontour": [
           {
            "colorbar": {
             "outlinewidth": 0,
             "ticks": ""
            },
            "colorscale": [
             [
              0,
              "#0d0887"
             ],
             [
              0.1111111111111111,
              "#46039f"
             ],
             [
              0.2222222222222222,
              "#7201a8"
             ],
             [
              0.3333333333333333,
              "#9c179e"
             ],
             [
              0.4444444444444444,
              "#bd3786"
             ],
             [
              0.5555555555555556,
              "#d8576b"
             ],
             [
              0.6666666666666666,
              "#ed7953"
             ],
             [
              0.7777777777777778,
              "#fb9f3a"
             ],
             [
              0.8888888888888888,
              "#fdca26"
             ],
             [
              1,
              "#f0f921"
             ]
            ],
            "type": "histogram2dcontour"
           }
          ],
          "mesh3d": [
           {
            "colorbar": {
             "outlinewidth": 0,
             "ticks": ""
            },
            "type": "mesh3d"
           }
          ],
          "parcoords": [
           {
            "line": {
             "colorbar": {
              "outlinewidth": 0,
              "ticks": ""
             }
            },
            "type": "parcoords"
           }
          ],
          "pie": [
           {
            "automargin": true,
            "type": "pie"
           }
          ],
          "scatter": [
           {
            "fillpattern": {
             "fillmode": "overlay",
             "size": 10,
             "solidity": 0.2
            },
            "type": "scatter"
           }
          ],
          "scatter3d": [
           {
            "line": {
             "colorbar": {
              "outlinewidth": 0,
              "ticks": ""
             }
            },
            "marker": {
             "colorbar": {
              "outlinewidth": 0,
              "ticks": ""
             }
            },
            "type": "scatter3d"
           }
          ],
          "scattercarpet": [
           {
            "marker": {
             "colorbar": {
              "outlinewidth": 0,
              "ticks": ""
             }
            },
            "type": "scattercarpet"
           }
          ],
          "scattergeo": [
           {
            "marker": {
             "colorbar": {
              "outlinewidth": 0,
              "ticks": ""
             }
            },
            "type": "scattergeo"
           }
          ],
          "scattergl": [
           {
            "marker": {
             "colorbar": {
              "outlinewidth": 0,
              "ticks": ""
             }
            },
            "type": "scattergl"
           }
          ],
          "scattermapbox": [
           {
            "marker": {
             "colorbar": {
              "outlinewidth": 0,
              "ticks": ""
             }
            },
            "type": "scattermapbox"
           }
          ],
          "scatterpolar": [
           {
            "marker": {
             "colorbar": {
              "outlinewidth": 0,
              "ticks": ""
             }
            },
            "type": "scatterpolar"
           }
          ],
          "scatterpolargl": [
           {
            "marker": {
             "colorbar": {
              "outlinewidth": 0,
              "ticks": ""
             }
            },
            "type": "scatterpolargl"
           }
          ],
          "scatterternary": [
           {
            "marker": {
             "colorbar": {
              "outlinewidth": 0,
              "ticks": ""
             }
            },
            "type": "scatterternary"
           }
          ],
          "surface": [
           {
            "colorbar": {
             "outlinewidth": 0,
             "ticks": ""
            },
            "colorscale": [
             [
              0,
              "#0d0887"
             ],
             [
              0.1111111111111111,
              "#46039f"
             ],
             [
              0.2222222222222222,
              "#7201a8"
             ],
             [
              0.3333333333333333,
              "#9c179e"
             ],
             [
              0.4444444444444444,
              "#bd3786"
             ],
             [
              0.5555555555555556,
              "#d8576b"
             ],
             [
              0.6666666666666666,
              "#ed7953"
             ],
             [
              0.7777777777777778,
              "#fb9f3a"
             ],
             [
              0.8888888888888888,
              "#fdca26"
             ],
             [
              1,
              "#f0f921"
             ]
            ],
            "type": "surface"
           }
          ],
          "table": [
           {
            "cells": {
             "fill": {
              "color": "#EBF0F8"
             },
             "line": {
              "color": "white"
             }
            },
            "header": {
             "fill": {
              "color": "#C8D4E3"
             },
             "line": {
              "color": "white"
             }
            },
            "type": "table"
           }
          ]
         },
         "layout": {
          "annotationdefaults": {
           "arrowcolor": "#2a3f5f",
           "arrowhead": 0,
           "arrowwidth": 1
          },
          "autotypenumbers": "strict",
          "coloraxis": {
           "colorbar": {
            "outlinewidth": 0,
            "ticks": ""
           }
          },
          "colorscale": {
           "diverging": [
            [
             0,
             "#8e0152"
            ],
            [
             0.1,
             "#c51b7d"
            ],
            [
             0.2,
             "#de77ae"
            ],
            [
             0.3,
             "#f1b6da"
            ],
            [
             0.4,
             "#fde0ef"
            ],
            [
             0.5,
             "#f7f7f7"
            ],
            [
             0.6,
             "#e6f5d0"
            ],
            [
             0.7,
             "#b8e186"
            ],
            [
             0.8,
             "#7fbc41"
            ],
            [
             0.9,
             "#4d9221"
            ],
            [
             1,
             "#276419"
            ]
           ],
           "sequential": [
            [
             0,
             "#0d0887"
            ],
            [
             0.1111111111111111,
             "#46039f"
            ],
            [
             0.2222222222222222,
             "#7201a8"
            ],
            [
             0.3333333333333333,
             "#9c179e"
            ],
            [
             0.4444444444444444,
             "#bd3786"
            ],
            [
             0.5555555555555556,
             "#d8576b"
            ],
            [
             0.6666666666666666,
             "#ed7953"
            ],
            [
             0.7777777777777778,
             "#fb9f3a"
            ],
            [
             0.8888888888888888,
             "#fdca26"
            ],
            [
             1,
             "#f0f921"
            ]
           ],
           "sequentialminus": [
            [
             0,
             "#0d0887"
            ],
            [
             0.1111111111111111,
             "#46039f"
            ],
            [
             0.2222222222222222,
             "#7201a8"
            ],
            [
             0.3333333333333333,
             "#9c179e"
            ],
            [
             0.4444444444444444,
             "#bd3786"
            ],
            [
             0.5555555555555556,
             "#d8576b"
            ],
            [
             0.6666666666666666,
             "#ed7953"
            ],
            [
             0.7777777777777778,
             "#fb9f3a"
            ],
            [
             0.8888888888888888,
             "#fdca26"
            ],
            [
             1,
             "#f0f921"
            ]
           ]
          },
          "colorway": [
           "#636efa",
           "#EF553B",
           "#00cc96",
           "#ab63fa",
           "#FFA15A",
           "#19d3f3",
           "#FF6692",
           "#B6E880",
           "#FF97FF",
           "#FECB52"
          ],
          "font": {
           "color": "#2a3f5f"
          },
          "geo": {
           "bgcolor": "white",
           "lakecolor": "white",
           "landcolor": "#E5ECF6",
           "showlakes": true,
           "showland": true,
           "subunitcolor": "white"
          },
          "hoverlabel": {
           "align": "left"
          },
          "hovermode": "closest",
          "mapbox": {
           "style": "light"
          },
          "paper_bgcolor": "white",
          "plot_bgcolor": "#E5ECF6",
          "polar": {
           "angularaxis": {
            "gridcolor": "white",
            "linecolor": "white",
            "ticks": ""
           },
           "bgcolor": "#E5ECF6",
           "radialaxis": {
            "gridcolor": "white",
            "linecolor": "white",
            "ticks": ""
           }
          },
          "scene": {
           "xaxis": {
            "backgroundcolor": "#E5ECF6",
            "gridcolor": "white",
            "gridwidth": 2,
            "linecolor": "white",
            "showbackground": true,
            "ticks": "",
            "zerolinecolor": "white"
           },
           "yaxis": {
            "backgroundcolor": "#E5ECF6",
            "gridcolor": "white",
            "gridwidth": 2,
            "linecolor": "white",
            "showbackground": true,
            "ticks": "",
            "zerolinecolor": "white"
           },
           "zaxis": {
            "backgroundcolor": "#E5ECF6",
            "gridcolor": "white",
            "gridwidth": 2,
            "linecolor": "white",
            "showbackground": true,
            "ticks": "",
            "zerolinecolor": "white"
           }
          },
          "shapedefaults": {
           "line": {
            "color": "#2a3f5f"
           }
          },
          "ternary": {
           "aaxis": {
            "gridcolor": "white",
            "linecolor": "white",
            "ticks": ""
           },
           "baxis": {
            "gridcolor": "white",
            "linecolor": "white",
            "ticks": ""
           },
           "bgcolor": "#E5ECF6",
           "caxis": {
            "gridcolor": "white",
            "linecolor": "white",
            "ticks": ""
           }
          },
          "title": {
           "x": 0.05
          },
          "xaxis": {
           "automargin": true,
           "gridcolor": "white",
           "linecolor": "white",
           "ticks": "",
           "title": {
            "standoff": 15
           },
           "zerolinecolor": "white",
           "zerolinewidth": 2
          },
          "yaxis": {
           "automargin": true,
           "gridcolor": "white",
           "linecolor": "white",
           "ticks": "",
           "title": {
            "standoff": 15
           },
           "zerolinecolor": "white",
           "zerolinewidth": 2
          }
         }
        },
        "title": {
         "text": "Distribuição do Número de Votos nos Filmes"
        },
        "xaxis": {
         "anchor": "y",
         "domain": [
          0,
          1
         ],
         "title": {
          "text": "Número de votos no IMDB"
         }
        },
        "xaxis2": {
         "anchor": "y2",
         "domain": [
          0,
          1
         ],
         "matches": "x",
         "showgrid": true,
         "showticklabels": false
        },
        "yaxis": {
         "anchor": "x",
         "domain": [
          0,
          0.8316
         ],
         "title": {
          "text": "Quantidade de Filmes"
         }
        },
        "yaxis2": {
         "anchor": "x2",
         "domain": [
          0.8416,
          1
         ],
         "matches": "y2",
         "showgrid": false,
         "showline": false,
         "showticklabels": false,
         "ticks": ""
        }
       }
      },
      "text/html": [
       "<div>                            <div id=\"5cc0a664-5c1a-40b2-ba35-52056ee769ec\" class=\"plotly-graph-div\" style=\"height:525px; width:100%;\"></div>            <script type=\"text/javascript\">                require([\"plotly\"], function(Plotly) {                    window.PLOTLYENV=window.PLOTLYENV || {};                                    if (document.getElementById(\"5cc0a664-5c1a-40b2-ba35-52056ee769ec\")) {                    Plotly.newPlot(                        \"5cc0a664-5c1a-40b2-ba35-52056ee769ec\",                        [{\"alignmentgroup\":\"True\",\"bingroup\":\"x\",\"hovertemplate\":\"N\\u00famero de votos no IMDB=%{x}<br>count=%{y}<extra></extra>\",\"legendgroup\":\"\",\"marker\":{\"color\":\"DarkSlateGray\",\"pattern\":{\"shape\":\"\"}},\"name\":\"\",\"offsetgroup\":\"\",\"orientation\":\"v\",\"showlegend\":false,\"x\":[2343110,1620367,2303232,1129952,689845,1642758,1826188,1213505,2067042,1854740,1661481,1809221,688390,1485555,1676426,1020727,1159315,918088,552778,1512360,699256,651376,1235804,1147794,623629,1445096,1270197,1231473,315744,939252,717585,760360,1190259,1189773,729603,1341460,1034705,991208,1035236,942045,995506,230763,1058081,302844,604211,522093,217881,167839,62635,194838,375110,809955,834477,384171,1357682,1516346,344445,999790,358685,515451,1125712,343171,884112,898237,606398,787806,450474,444074,425844,281623,220002,150023,1267869,911664,703810,782001,766870,1069738,861606,65341,887429,959181,918562,675146,652719,369007,740911,950470,231855,724636,241513,757904,603517,232772,268085,164363,299198,364368,218957,143525,403351,377884,432610,193217,435950,1129894,935507,1187498,74129,517359,618623,757032,1032749,1308302,331308,333915,848920,535216,531967,577113,466276,375935,692366,291180,793164,112505,321860,500875,224730,243943,158335,120539,114304,63134,113649,50700,647884,371538,177059,707630,859695,435928,616228,640533,432811,291289,420316,51679,601149,882316,720450,764493,48582,666773,572921,856916,635975,334320,37820,236311,139558,1000639,949565,832846,223741,815505,105036,911573,59020,939631,50862,732620,124383,634716,617444,272291,90729,63122,867615,156842,425457,363401,381222,91188,150924,371271,76081,57784,693827,367250,311361,518546,294230,42285,161984,50058,219466,203463,142107,31568,158731,123942,107017,290074,94016,505918,213970,760094,434143,38746,141923,31886,81770,114316,685201,1043455,461823,540772,450349,705589,462252,639603,428521,902669,45803,98575,798882,699673,98097,1260806,88656,441614,448930,499439,604694,50610,738512,103284,641645,582239,683900,77520,77554,176151,63460,117857,1015122,415218,657047,137963,740086,289742,102285,82002,78341,36419,172083,86838,37564,578443,129231,300208,577991,28825,263918,373845,142110,417178,240266,89429,473064,393899,64722,31163,799795,217664,65625,251823,543388,235652,143359,121627,362393,42456,39491,27067,201888,165167,253676,205425,69903,198219,75067,66621,56305,98431,45062,99182,57259,85559,371379,57318,454203,62754,246644,212651,53818,139114,111483,189400,85109,587775,466134,297918,594181,860823,141457,659763,230624,600004,93090,324720,93560,335152,205609,638202,289415,335533,577336,390334,154011,107290,580708,199696,57430,939644,512249,419420,552493,173999,104691,44618,42897,508771,49721,465113,252586,322031,527512,239473,31590,206918,89836,201000,447368,68076,54670,281842,67176,187567,128812,132947,183182,131436,28223,111512,103031,37183,38737,93741,77401,67804,68689,124339,97222,123341,92306,47175,78991,51240,555092,200876,61594,118035,246963,35539,556608,663649,517059,143250,50778,45002,50523,410983,303032,73690,203177,108399,318789,305611,362942,423010,421244,179264,52758,601408,68715,208994,340584,564791,190748,110656,757377,251370,571571,392449,1118998,216421,291018,439856,463466,589160,49050,45717,258924,51980,31658,283310,234207,520284,96703,42673,50622,129022,60684,198089,253228,89058,524235,227143,159886,82855,613941,1046089,280845,345096,62428,164937,215034,126871,78963,66065,267684,128171,55362,42376,126082,184740,125276,122779,481918,88214,371387,148359,321382,47834,244430,78321,357026,51585,355413,56235,88511,372490,133351,65659,98611,25229,37445,48334,178731,101124,86525,158029,52141,27007,478586,205444,492851,291257,47444,157498,32798,404182,590440,344312,123210,580291,138741,32628,736182,112298,380195,56720,388089,323982,769145,463188,624982,645512,717559,630614,661871,572581,472242,479120,125317,103330,71379,239203,81446,474141,32001,175355,466080,299524,28003,61609,405922,72643,323103,288797,419483,127250,434841,358432,138356,415074,548619,329592,197761,400049,25938,137981,40403,142863,178565,364254,246840,90842,126770,31957,516372,29210,286742,192112,241575,390247,169229,312542,275755,434125,37424,279318,51350,189716,32236,33600,211450,42275,224169,50298,85819,150409,95826,235388,66941,113240,125822,182009,40396,94326,115677,102031,181285,47102,59635,36096,112704,226541,47099,214882,233106,39889,125993,109941,96561,98740,110075,143292,31572,31222,174119,171739,87719,71481,88662,140840,551309,29765,95181,99643,66346,35785,569974,439406,58371,287659,250057,272784,371291,247666,49397,204175,94212,411599,190531,228132,80939,334312,311822,38491,500851,315426,524081,369529,138959,520041,583158,293266,41544,286770,227760,255036,339757,250590,82781,72863,354728,474827,732876,206294,500799,294140,379020,83158,65939,67360,70925,67370,224545,62659,198677,169708,451479,376853,266842,115827,658185,337651,240714,243729,508417,91557,490062,188317,172710,256906,259753,187927,186734,131101,102598,364420,90442,73172,269197,64390,171640,165465,107325,27071,80487,488817,359809,195663,237696,152871,124773,236894,87745,27650,166588,93878,32802,121731,73662,184966,26337,30144,45338,166409,40351,43374],\"xaxis\":\"x\",\"yaxis\":\"y\",\"type\":\"histogram\"},{\"alignmentgroup\":\"True\",\"hovertemplate\":\"N\\u00famero de votos no IMDB=%{x}<extra></extra>\",\"legendgroup\":\"\",\"marker\":{\"color\":\"DarkSlateGray\"},\"name\":\"\",\"notched\":true,\"offsetgroup\":\"\",\"showlegend\":false,\"x\":[2343110,1620367,2303232,1129952,689845,1642758,1826188,1213505,2067042,1854740,1661481,1809221,688390,1485555,1676426,1020727,1159315,918088,552778,1512360,699256,651376,1235804,1147794,623629,1445096,1270197,1231473,315744,939252,717585,760360,1190259,1189773,729603,1341460,1034705,991208,1035236,942045,995506,230763,1058081,302844,604211,522093,217881,167839,62635,194838,375110,809955,834477,384171,1357682,1516346,344445,999790,358685,515451,1125712,343171,884112,898237,606398,787806,450474,444074,425844,281623,220002,150023,1267869,911664,703810,782001,766870,1069738,861606,65341,887429,959181,918562,675146,652719,369007,740911,950470,231855,724636,241513,757904,603517,232772,268085,164363,299198,364368,218957,143525,403351,377884,432610,193217,435950,1129894,935507,1187498,74129,517359,618623,757032,1032749,1308302,331308,333915,848920,535216,531967,577113,466276,375935,692366,291180,793164,112505,321860,500875,224730,243943,158335,120539,114304,63134,113649,50700,647884,371538,177059,707630,859695,435928,616228,640533,432811,291289,420316,51679,601149,882316,720450,764493,48582,666773,572921,856916,635975,334320,37820,236311,139558,1000639,949565,832846,223741,815505,105036,911573,59020,939631,50862,732620,124383,634716,617444,272291,90729,63122,867615,156842,425457,363401,381222,91188,150924,371271,76081,57784,693827,367250,311361,518546,294230,42285,161984,50058,219466,203463,142107,31568,158731,123942,107017,290074,94016,505918,213970,760094,434143,38746,141923,31886,81770,114316,685201,1043455,461823,540772,450349,705589,462252,639603,428521,902669,45803,98575,798882,699673,98097,1260806,88656,441614,448930,499439,604694,50610,738512,103284,641645,582239,683900,77520,77554,176151,63460,117857,1015122,415218,657047,137963,740086,289742,102285,82002,78341,36419,172083,86838,37564,578443,129231,300208,577991,28825,263918,373845,142110,417178,240266,89429,473064,393899,64722,31163,799795,217664,65625,251823,543388,235652,143359,121627,362393,42456,39491,27067,201888,165167,253676,205425,69903,198219,75067,66621,56305,98431,45062,99182,57259,85559,371379,57318,454203,62754,246644,212651,53818,139114,111483,189400,85109,587775,466134,297918,594181,860823,141457,659763,230624,600004,93090,324720,93560,335152,205609,638202,289415,335533,577336,390334,154011,107290,580708,199696,57430,939644,512249,419420,552493,173999,104691,44618,42897,508771,49721,465113,252586,322031,527512,239473,31590,206918,89836,201000,447368,68076,54670,281842,67176,187567,128812,132947,183182,131436,28223,111512,103031,37183,38737,93741,77401,67804,68689,124339,97222,123341,92306,47175,78991,51240,555092,200876,61594,118035,246963,35539,556608,663649,517059,143250,50778,45002,50523,410983,303032,73690,203177,108399,318789,305611,362942,423010,421244,179264,52758,601408,68715,208994,340584,564791,190748,110656,757377,251370,571571,392449,1118998,216421,291018,439856,463466,589160,49050,45717,258924,51980,31658,283310,234207,520284,96703,42673,50622,129022,60684,198089,253228,89058,524235,227143,159886,82855,613941,1046089,280845,345096,62428,164937,215034,126871,78963,66065,267684,128171,55362,42376,126082,184740,125276,122779,481918,88214,371387,148359,321382,47834,244430,78321,357026,51585,355413,56235,88511,372490,133351,65659,98611,25229,37445,48334,178731,101124,86525,158029,52141,27007,478586,205444,492851,291257,47444,157498,32798,404182,590440,344312,123210,580291,138741,32628,736182,112298,380195,56720,388089,323982,769145,463188,624982,645512,717559,630614,661871,572581,472242,479120,125317,103330,71379,239203,81446,474141,32001,175355,466080,299524,28003,61609,405922,72643,323103,288797,419483,127250,434841,358432,138356,415074,548619,329592,197761,400049,25938,137981,40403,142863,178565,364254,246840,90842,126770,31957,516372,29210,286742,192112,241575,390247,169229,312542,275755,434125,37424,279318,51350,189716,32236,33600,211450,42275,224169,50298,85819,150409,95826,235388,66941,113240,125822,182009,40396,94326,115677,102031,181285,47102,59635,36096,112704,226541,47099,214882,233106,39889,125993,109941,96561,98740,110075,143292,31572,31222,174119,171739,87719,71481,88662,140840,551309,29765,95181,99643,66346,35785,569974,439406,58371,287659,250057,272784,371291,247666,49397,204175,94212,411599,190531,228132,80939,334312,311822,38491,500851,315426,524081,369529,138959,520041,583158,293266,41544,286770,227760,255036,339757,250590,82781,72863,354728,474827,732876,206294,500799,294140,379020,83158,65939,67360,70925,67370,224545,62659,198677,169708,451479,376853,266842,115827,658185,337651,240714,243729,508417,91557,490062,188317,172710,256906,259753,187927,186734,131101,102598,364420,90442,73172,269197,64390,171640,165465,107325,27071,80487,488817,359809,195663,237696,152871,124773,236894,87745,27650,166588,93878,32802,121731,73662,184966,26337,30144,45338,166409,40351,43374],\"xaxis\":\"x2\",\"yaxis\":\"y2\",\"type\":\"box\"}],                        {\"template\":{\"data\":{\"histogram2dcontour\":[{\"type\":\"histogram2dcontour\",\"colorbar\":{\"outlinewidth\":0,\"ticks\":\"\"},\"colorscale\":[[0.0,\"#0d0887\"],[0.1111111111111111,\"#46039f\"],[0.2222222222222222,\"#7201a8\"],[0.3333333333333333,\"#9c179e\"],[0.4444444444444444,\"#bd3786\"],[0.5555555555555556,\"#d8576b\"],[0.6666666666666666,\"#ed7953\"],[0.7777777777777778,\"#fb9f3a\"],[0.8888888888888888,\"#fdca26\"],[1.0,\"#f0f921\"]]}],\"choropleth\":[{\"type\":\"choropleth\",\"colorbar\":{\"outlinewidth\":0,\"ticks\":\"\"}}],\"histogram2d\":[{\"type\":\"histogram2d\",\"colorbar\":{\"outlinewidth\":0,\"ticks\":\"\"},\"colorscale\":[[0.0,\"#0d0887\"],[0.1111111111111111,\"#46039f\"],[0.2222222222222222,\"#7201a8\"],[0.3333333333333333,\"#9c179e\"],[0.4444444444444444,\"#bd3786\"],[0.5555555555555556,\"#d8576b\"],[0.6666666666666666,\"#ed7953\"],[0.7777777777777778,\"#fb9f3a\"],[0.8888888888888888,\"#fdca26\"],[1.0,\"#f0f921\"]]}],\"heatmap\":[{\"type\":\"heatmap\",\"colorbar\":{\"outlinewidth\":0,\"ticks\":\"\"},\"colorscale\":[[0.0,\"#0d0887\"],[0.1111111111111111,\"#46039f\"],[0.2222222222222222,\"#7201a8\"],[0.3333333333333333,\"#9c179e\"],[0.4444444444444444,\"#bd3786\"],[0.5555555555555556,\"#d8576b\"],[0.6666666666666666,\"#ed7953\"],[0.7777777777777778,\"#fb9f3a\"],[0.8888888888888888,\"#fdca26\"],[1.0,\"#f0f921\"]]}],\"heatmapgl\":[{\"type\":\"heatmapgl\",\"colorbar\":{\"outlinewidth\":0,\"ticks\":\"\"},\"colorscale\":[[0.0,\"#0d0887\"],[0.1111111111111111,\"#46039f\"],[0.2222222222222222,\"#7201a8\"],[0.3333333333333333,\"#9c179e\"],[0.4444444444444444,\"#bd3786\"],[0.5555555555555556,\"#d8576b\"],[0.6666666666666666,\"#ed7953\"],[0.7777777777777778,\"#fb9f3a\"],[0.8888888888888888,\"#fdca26\"],[1.0,\"#f0f921\"]]}],\"contourcarpet\":[{\"type\":\"contourcarpet\",\"colorbar\":{\"outlinewidth\":0,\"ticks\":\"\"}}],\"contour\":[{\"type\":\"contour\",\"colorbar\":{\"outlinewidth\":0,\"ticks\":\"\"},\"colorscale\":[[0.0,\"#0d0887\"],[0.1111111111111111,\"#46039f\"],[0.2222222222222222,\"#7201a8\"],[0.3333333333333333,\"#9c179e\"],[0.4444444444444444,\"#bd3786\"],[0.5555555555555556,\"#d8576b\"],[0.6666666666666666,\"#ed7953\"],[0.7777777777777778,\"#fb9f3a\"],[0.8888888888888888,\"#fdca26\"],[1.0,\"#f0f921\"]]}],\"surface\":[{\"type\":\"surface\",\"colorbar\":{\"outlinewidth\":0,\"ticks\":\"\"},\"colorscale\":[[0.0,\"#0d0887\"],[0.1111111111111111,\"#46039f\"],[0.2222222222222222,\"#7201a8\"],[0.3333333333333333,\"#9c179e\"],[0.4444444444444444,\"#bd3786\"],[0.5555555555555556,\"#d8576b\"],[0.6666666666666666,\"#ed7953\"],[0.7777777777777778,\"#fb9f3a\"],[0.8888888888888888,\"#fdca26\"],[1.0,\"#f0f921\"]]}],\"mesh3d\":[{\"type\":\"mesh3d\",\"colorbar\":{\"outlinewidth\":0,\"ticks\":\"\"}}],\"scatter\":[{\"fillpattern\":{\"fillmode\":\"overlay\",\"size\":10,\"solidity\":0.2},\"type\":\"scatter\"}],\"parcoords\":[{\"type\":\"parcoords\",\"line\":{\"colorbar\":{\"outlinewidth\":0,\"ticks\":\"\"}}}],\"scatterpolargl\":[{\"type\":\"scatterpolargl\",\"marker\":{\"colorbar\":{\"outlinewidth\":0,\"ticks\":\"\"}}}],\"bar\":[{\"error_x\":{\"color\":\"#2a3f5f\"},\"error_y\":{\"color\":\"#2a3f5f\"},\"marker\":{\"line\":{\"color\":\"#E5ECF6\",\"width\":0.5},\"pattern\":{\"fillmode\":\"overlay\",\"size\":10,\"solidity\":0.2}},\"type\":\"bar\"}],\"scattergeo\":[{\"type\":\"scattergeo\",\"marker\":{\"colorbar\":{\"outlinewidth\":0,\"ticks\":\"\"}}}],\"scatterpolar\":[{\"type\":\"scatterpolar\",\"marker\":{\"colorbar\":{\"outlinewidth\":0,\"ticks\":\"\"}}}],\"histogram\":[{\"marker\":{\"pattern\":{\"fillmode\":\"overlay\",\"size\":10,\"solidity\":0.2}},\"type\":\"histogram\"}],\"scattergl\":[{\"type\":\"scattergl\",\"marker\":{\"colorbar\":{\"outlinewidth\":0,\"ticks\":\"\"}}}],\"scatter3d\":[{\"type\":\"scatter3d\",\"line\":{\"colorbar\":{\"outlinewidth\":0,\"ticks\":\"\"}},\"marker\":{\"colorbar\":{\"outlinewidth\":0,\"ticks\":\"\"}}}],\"scattermapbox\":[{\"type\":\"scattermapbox\",\"marker\":{\"colorbar\":{\"outlinewidth\":0,\"ticks\":\"\"}}}],\"scatterternary\":[{\"type\":\"scatterternary\",\"marker\":{\"colorbar\":{\"outlinewidth\":0,\"ticks\":\"\"}}}],\"scattercarpet\":[{\"type\":\"scattercarpet\",\"marker\":{\"colorbar\":{\"outlinewidth\":0,\"ticks\":\"\"}}}],\"carpet\":[{\"aaxis\":{\"endlinecolor\":\"#2a3f5f\",\"gridcolor\":\"white\",\"linecolor\":\"white\",\"minorgridcolor\":\"white\",\"startlinecolor\":\"#2a3f5f\"},\"baxis\":{\"endlinecolor\":\"#2a3f5f\",\"gridcolor\":\"white\",\"linecolor\":\"white\",\"minorgridcolor\":\"white\",\"startlinecolor\":\"#2a3f5f\"},\"type\":\"carpet\"}],\"table\":[{\"cells\":{\"fill\":{\"color\":\"#EBF0F8\"},\"line\":{\"color\":\"white\"}},\"header\":{\"fill\":{\"color\":\"#C8D4E3\"},\"line\":{\"color\":\"white\"}},\"type\":\"table\"}],\"barpolar\":[{\"marker\":{\"line\":{\"color\":\"#E5ECF6\",\"width\":0.5},\"pattern\":{\"fillmode\":\"overlay\",\"size\":10,\"solidity\":0.2}},\"type\":\"barpolar\"}],\"pie\":[{\"automargin\":true,\"type\":\"pie\"}]},\"layout\":{\"autotypenumbers\":\"strict\",\"colorway\":[\"#636efa\",\"#EF553B\",\"#00cc96\",\"#ab63fa\",\"#FFA15A\",\"#19d3f3\",\"#FF6692\",\"#B6E880\",\"#FF97FF\",\"#FECB52\"],\"font\":{\"color\":\"#2a3f5f\"},\"hovermode\":\"closest\",\"hoverlabel\":{\"align\":\"left\"},\"paper_bgcolor\":\"white\",\"plot_bgcolor\":\"#E5ECF6\",\"polar\":{\"bgcolor\":\"#E5ECF6\",\"angularaxis\":{\"gridcolor\":\"white\",\"linecolor\":\"white\",\"ticks\":\"\"},\"radialaxis\":{\"gridcolor\":\"white\",\"linecolor\":\"white\",\"ticks\":\"\"}},\"ternary\":{\"bgcolor\":\"#E5ECF6\",\"aaxis\":{\"gridcolor\":\"white\",\"linecolor\":\"white\",\"ticks\":\"\"},\"baxis\":{\"gridcolor\":\"white\",\"linecolor\":\"white\",\"ticks\":\"\"},\"caxis\":{\"gridcolor\":\"white\",\"linecolor\":\"white\",\"ticks\":\"\"}},\"coloraxis\":{\"colorbar\":{\"outlinewidth\":0,\"ticks\":\"\"}},\"colorscale\":{\"sequential\":[[0.0,\"#0d0887\"],[0.1111111111111111,\"#46039f\"],[0.2222222222222222,\"#7201a8\"],[0.3333333333333333,\"#9c179e\"],[0.4444444444444444,\"#bd3786\"],[0.5555555555555556,\"#d8576b\"],[0.6666666666666666,\"#ed7953\"],[0.7777777777777778,\"#fb9f3a\"],[0.8888888888888888,\"#fdca26\"],[1.0,\"#f0f921\"]],\"sequentialminus\":[[0.0,\"#0d0887\"],[0.1111111111111111,\"#46039f\"],[0.2222222222222222,\"#7201a8\"],[0.3333333333333333,\"#9c179e\"],[0.4444444444444444,\"#bd3786\"],[0.5555555555555556,\"#d8576b\"],[0.6666666666666666,\"#ed7953\"],[0.7777777777777778,\"#fb9f3a\"],[0.8888888888888888,\"#fdca26\"],[1.0,\"#f0f921\"]],\"diverging\":[[0,\"#8e0152\"],[0.1,\"#c51b7d\"],[0.2,\"#de77ae\"],[0.3,\"#f1b6da\"],[0.4,\"#fde0ef\"],[0.5,\"#f7f7f7\"],[0.6,\"#e6f5d0\"],[0.7,\"#b8e186\"],[0.8,\"#7fbc41\"],[0.9,\"#4d9221\"],[1,\"#276419\"]]},\"xaxis\":{\"gridcolor\":\"white\",\"linecolor\":\"white\",\"ticks\":\"\",\"title\":{\"standoff\":15},\"zerolinecolor\":\"white\",\"automargin\":true,\"zerolinewidth\":2},\"yaxis\":{\"gridcolor\":\"white\",\"linecolor\":\"white\",\"ticks\":\"\",\"title\":{\"standoff\":15},\"zerolinecolor\":\"white\",\"automargin\":true,\"zerolinewidth\":2},\"scene\":{\"xaxis\":{\"backgroundcolor\":\"#E5ECF6\",\"gridcolor\":\"white\",\"linecolor\":\"white\",\"showbackground\":true,\"ticks\":\"\",\"zerolinecolor\":\"white\",\"gridwidth\":2},\"yaxis\":{\"backgroundcolor\":\"#E5ECF6\",\"gridcolor\":\"white\",\"linecolor\":\"white\",\"showbackground\":true,\"ticks\":\"\",\"zerolinecolor\":\"white\",\"gridwidth\":2},\"zaxis\":{\"backgroundcolor\":\"#E5ECF6\",\"gridcolor\":\"white\",\"linecolor\":\"white\",\"showbackground\":true,\"ticks\":\"\",\"zerolinecolor\":\"white\",\"gridwidth\":2}},\"shapedefaults\":{\"line\":{\"color\":\"#2a3f5f\"}},\"annotationdefaults\":{\"arrowcolor\":\"#2a3f5f\",\"arrowhead\":0,\"arrowwidth\":1},\"geo\":{\"bgcolor\":\"white\",\"landcolor\":\"#E5ECF6\",\"subunitcolor\":\"white\",\"showland\":true,\"showlakes\":true,\"lakecolor\":\"white\"},\"title\":{\"x\":0.05},\"mapbox\":{\"style\":\"light\"}}},\"xaxis\":{\"anchor\":\"y\",\"domain\":[0.0,1.0],\"title\":{\"text\":\"N\\u00famero de votos no IMDB\"}},\"yaxis\":{\"anchor\":\"x\",\"domain\":[0.0,0.8316],\"title\":{\"text\":\"Quantidade de Filmes\"}},\"xaxis2\":{\"anchor\":\"y2\",\"domain\":[0.0,1.0],\"matches\":\"x\",\"showticklabels\":false,\"showgrid\":true},\"yaxis2\":{\"anchor\":\"x2\",\"domain\":[0.8416,1.0],\"matches\":\"y2\",\"showticklabels\":false,\"showline\":false,\"ticks\":\"\",\"showgrid\":false},\"legend\":{\"tracegroupgap\":0},\"title\":{\"text\":\"Distribui\\u00e7\\u00e3o do N\\u00famero de Votos nos Filmes\"},\"barmode\":\"relative\"},                        {\"responsive\": true}                    ).then(function(){\n",
       "                            \n",
       "var gd = document.getElementById('5cc0a664-5c1a-40b2-ba35-52056ee769ec');\n",
       "var x = new MutationObserver(function (mutations, observer) {{\n",
       "        var display = window.getComputedStyle(gd).display;\n",
       "        if (!display || display === 'none') {{\n",
       "            console.log([gd, 'removed!']);\n",
       "            Plotly.purge(gd);\n",
       "            observer.disconnect();\n",
       "        }}\n",
       "}});\n",
       "\n",
       "// Listen for the removal of the full notebook cells\n",
       "var notebookContainer = gd.closest('#notebook-container');\n",
       "if (notebookContainer) {{\n",
       "    x.observe(notebookContainer, {childList: true});\n",
       "}}\n",
       "\n",
       "// Listen for the clearing of the current output cell\n",
       "var outputEl = gd.closest('.output');\n",
       "if (outputEl) {{\n",
       "    x.observe(outputEl, {childList: true});\n",
       "}}\n",
       "\n",
       "                        })                };                });            </script>        </div>"
      ]
     },
     "metadata": {},
     "output_type": "display_data"
    }
   ],
   "source": [
    "fig = px.histogram(\n",
    "    x=df.No_of_Votes, \n",
    "    title=\"Distribuição do Número de Votos nos Filmes\",\n",
    "    marginal=\"box\",\n",
    "    labels={\"x\": \"Número de votos no IMDB\"}\n",
    "    ).update_traces(marker_color=\"DarkSlateGray\").update_layout(yaxis_title=\"Quantidade de Filmes\")\n",
    "fig.show()"
   ]
  },
  {
   "cell_type": "markdown",
   "metadata": {},
   "source": [
    "**Distribuição da Arrecadação**: Para analisar quanto os filmes do Top 1000 arrecadaram, aplicaremos um **Histograma** junto de um **Boxplot**, pois ambos os gráficos auxiliam no entendimento da distribuição em variáveis númericas.\n",
    "\n",
    "Pelos gráficos, é possível notar que mais de 25% dos filmes arrecadaram menos de 20 milhões de dólares e 75% arrecadaram menos de 105 milhões. Enquanto isso, há alguns outliers que conseguiram arrecadar mais de meio bilhão de dólares. É interessante observar que a distribuição do histograma é muito similar ao gráfico do número de votos no IMDB. Isso traz uma evidência inicial de que o número de interações com o filme influencia mais em sua arrecadação do que as notas do IMDB.\n"
   ]
  },
  {
   "cell_type": "code",
   "execution_count": 36,
   "metadata": {},
   "outputs": [
    {
     "data": {
      "application/vnd.plotly.v1+json": {
       "config": {
        "plotlyServerURL": "https://plot.ly"
       },
       "data": [
        {
         "alignmentgroup": "True",
         "bingroup": "x",
         "hovertemplate": "Arrecadação do Filme em Dólares=%{x}<br>count=%{y}<extra></extra>",
         "legendgroup": "",
         "marker": {
          "color": "DarkOliveGreen",
          "pattern": {
           "shape": ""
          }
         },
         "name": "",
         "offsetgroup": "",
         "orientation": "v",
         "showlegend": false,
         "type": "histogram",
         "x": [
          28341469,
          134966411,
          534858444,
          57300000,
          4360000,
          377845905,
          107928762,
          96898818,
          292576195,
          37030102,
          315544750,
          330252182,
          6100000,
          342551365,
          171479930,
          46836394,
          290475067,
          112000000,
          53367844,
          188020017,
          7563397,
          10055859,
          216540909,
          136801374,
          57598247,
          100125643,
          130742922,
          322740140,
          269061,
          335451311,
          13092000,
          13182281,
          53089891,
          132384315,
          32572577,
          187705427,
          6719864,
          23341568,
          19501238,
          422783777,
          204843350,
          11990401,
          210609762,
          5321508,
          32000000,
          1024560,
          163245,
          19181,
          1661096,
          5017246,
          190241310,
          858373000,
          678815482,
          209726015,
          162805434,
          448139099,
          6532908,
          223808164,
          11286112,
          707481,
          25544867,
          2375308,
          248159971,
          44017374,
          83471511,
          78900000,
          275902,
          36764313,
          159227644,
          687185,
          7098492,
          6857096,
          120540719,
          34400301,
          33225499,
          30328156,
          3635482,
          130096601,
          138433435,
          933933,
          191796233,
          75600000,
          2832029,
          46357676,
          85160248,
          51973029,
          45598982,
          309125409,
          11487676,
          28262574,
          159600000,
          6207725,
          56954992,
          15000000,
          44824144,
          18600000,
          13275000,
          3200000,
          8819028,
          5720000,
          1585634,
          85080171,
          54513740,
          6391436,
          13657115,
          128012934,
          293004164,
          116900694,
          1113541,
          40222514,
          37634615,
          415004880,
          70511035,
          206852432,
          5509040,
          4711096,
          170742341,
          3897569,
          64616940,
          67436818,
          42438300,
          101157447,
          197171806,
          1105564,
          83008852,
          4135750,
          23383987,
          1229197,
          12100000,
          25000000,
          12562,
          10177,
          5014000,
          3759854,
          2006788,
          3492754,
          226277068,
          14677674,
          3107072,
          59100318,
          167767189,
          67209615,
          356461711,
          56671993,
          26947624,
          117624028,
          45055776,
          857524,
          61002302,
          154058340,
          148095302,
          381011219,
          1498210,
          217581231,
          18354356,
          74283625,
          100492203,
          23530892,
          1111061,
          5820649,
          14131,
          70099045,
          380843261,
          164615351,
          5383834,
          289916256,
          70147,
          293506292,
          259127,
          125618201,
          348660,
          17498804,
          2734044,
          16501785,
          24611975,
          5535405,
          4043686,
          600200,
          402453882,
          25010410,
          95860116,
          52287414,
          138530565,
          2181987,
          495770,
          13782838,
          22244207,
          4971340,
          32868943,
          20045115,
          48979328,
          117235247,
          29000000,
          30933743,
          16217773,
          4050000,
          74700000,
          44908000,
          9600000,
          3969893,
          449191,
          4360000,
          9600000,
          198676459,
          4360000,
          151101803,
          51739495,
          228433663,
          341268248,
          1506975,
          132422809,
          5566534,
          1010414,
          2625803,
          91125683,
          333176600,
          92054159,
          25568251,
          216428042,
          183637894,
          17738570,
          138797449,
          169708112,
          363070709,
          106662,
          4018695,
          141319928,
          106954678,
          8060,
          623279547,
          4445756,
          27298285,
          163566459,
          57366262,
          227471070,
          238507,
          74103820,
          5990075,
          206445654,
          167445960,
          66208183,
          2380788,
          2086345,
          61649911,
          1787378,
          169659,
          305413918,
          66257002,
          261441092,
          1530386,
          1480006,
          22455976,
          4184036,
          6203044,
          1647780,
          5595428,
          23159305,
          24475416,
          13417292,
          57141459,
          515905,
          75082668,
          70906973,
          4496583,
          63895607,
          217350219,
          70405498,
          218967620,
          184208848,
          27545445,
          178800000,
          30857814,
          3333969,
          4542825,
          38400000,
          52767889,
          30177511,
          39200000,
          260000000,
          50000000,
          86300000,
          53267000,
          232906145,
          29133000,
          80500000,
          541940,
          102308889,
          33395426,
          104945305,
          163214286,
          111722000,
          14500000,
          8284000,
          19516000,
          12535000,
          2237659,
          17570324,
          8000000,
          23650000,
          55000,
          2076020,
          3270000,
          165359751,
          3313513,
          2000000,
          18095701,
          258168,
          32015231,
          5202582,
          5875006,
          3237118,
          315058289,
          32381218,
          349555,
          100546139,
          936662225,
          8114627,
          233921534,
          44671682,
          100206256,
          6739492,
          7000000,
          2084637,
          5009677,
          2122065,
          115646235,
          26236603,
          25379975,
          257730019,
          7757130,
          13756082,
          2280348,
          124987023,
          21002919,
          3635164,
          318412101,
          13542874,
          90135191,
          249358727,
          53710019,
          9284265,
          1059830,
          1000045,
          121661683,
          1221261,
          35552383,
          32534850,
          7220243,
          245852179,
          26400640,
          2201126,
          12281500,
          1324974,
          36948322,
          56362352,
          14743391,
          18254702,
          76270454,
          40084041,
          9929135,
          188751,
          20605209,
          57229890,
          45700000,
          37823676,
          5100000,
          70600000,
          61001,
          198809,
          61700000,
          12064472,
          24379978,
          13474588,
          30000000,
          9450000,
          7630000,
          10464000,
          3981000,
          10000000,
          2402067,
          188373161,
          169607287,
          40442052,
          48023088,
          47695120,
          435266,
          532177324,
          408084349,
          54117416,
          108101214,
          6735118,
          1330596,
          4231500,
          222527828,
          15322921,
          5209580,
          434038008,
          85433,
          45512466,
          177002924,
          70259870,
          102515793,
          107100855,
          161197785,
          547292,
          258366855,
          2222647,
          10095170,
          93617009,
          145000989,
          9030581,
          9439923,
          303003568,
          50927067,
          35061555,
          130164645,
          760507625,
          3600,
          50866635,
          59891098,
          23637265,
          127509326,
          2921738,
          1305,
          38405088,
          5128124,
          128985,
          25514517,
          119519402,
          81001787,
          16756372,
          181655,
          7002255,
          54234062,
          2892011,
          115654751,
          128078872,
          8264530,
          233632142,
          25812,
          28965197,
          32481825,
          267665011,
          659325379,
          12339633,
          48323648,
          4040691,
          5887457,
          9170214,
          56505065,
          32416586,
          22954968,
          183875760,
          17266971,
          2015810,
          1999955,
          57504069,
          61276872,
          52096475,
          26830000,
          118500000,
          34603943,
          59735548,
          5923044,
          70136369,
          1436000,
          61503218,
          98467863,
          45875171,
          34700291,
          238632124,
          21500000,
          2500000,
          435110554,
          106260000,
          31800000,
          4420000,
          193817,
          16056255,
          42765000,
          4000000,
          44785053,
          72000000,
          102272727,
          39100000,
          2616000,
          324591735,
          33800859,
          176040665,
          220159104,
          3358518,
          3333000,
          765127,
          35893537,
          128261724,
          124872350,
          6743776,
          42340598,
          2199675,
          1122527,
          259766572,
          17654912,
          189422889,
          1339152,
          56816662,
          257760692,
          274092705,
          228778661,
          96962694,
          146408305,
          277322503,
          304360277,
          132092958,
          136025503,
          32391374,
          295983305,
          15090400,
          18593156,
          881302,
          35739802,
          1752214,
          25442958,
          412544,
          17605861,
          33080084,
          22494487,
          1054361,
          871577,
          200821936,
          4398392,
          83043761,
          53606916,
          54580300,
          17108591,
          176241941,
          1082715,
          75331600,
          44585453,
          290013036,
          77911774,
          75286229,
          111110575,
          4890878,
          4064200,
          15539266,
          40311852,
          22245861,
          108638745,
          104454762,
          141072,
          21995263,
          3029081,
          183417150,
          151086,
          45512588,
          52037603,
          10824921,
          76631907,
          17105219,
          22858926,
          148478011,
          63540020,
          4065116,
          41909762,
          35811509,
          56116183,
          10019307,
          21848932,
          3151130,
          6110979,
          77324422,
          27281507,
          48169908,
          75505856,
          10725228,
          141340178,
          82418501,
          6153939,
          5080409,
          156452370,
          1544889,
          43984230,
          22238696,
          7153487,
          8551228,
          10631333,
          10600000,
          54000000,
          78912963,
          47212904,
          54800000,
          83400000,
          47000000,
          1924733,
          119500000,
          29800000,
          25000000,
          7056013,
          15630710,
          35900000,
          44527234,
          28350000,
          51081062,
          11403529,
          4905000,
          536118,
          76408097,
          26020957,
          142502728,
          566356,
          5904366,
          24801212,
          13122642,
          845464,
          389813101,
          107825862,
          18340051,
          72313754,
          608581744,
          248757044,
          46889293,
          109767581,
          1092800,
          26862450,
          37707719,
          208545589,
          4105123,
          41003371,
          19202743,
          215288866,
          171243005,
          1008098,
          251513985,
          35014192,
          48071303,
          75605492,
          3185812,
          75590286,
          209028679,
          255959475,
          9422422,
          69951824,
          17114882,
          38634938,
          88513495,
          20300218,
          10301706,
          24633730,
          39868642,
          301959197,
          210614939,
          23089926,
          107509799,
          24149632,
          56000369,
          3081925,
          697181,
          548707,
          6167817,
          5739376,
          16290476,
          45289,
          51680613,
          13060843,
          57938693,
          45064915,
          52364010,
          13622333,
          317575550,
          96522687,
          52990775,
          51401758,
          132072926,
          50668906,
          15070285,
          7267585,
          36400491,
          120620254,
          10680275,
          14378331,
          49100000,
          3796699,
          43182776,
          100012499,
          1037847,
          71516617,
          173837933,
          1464625,
          40903593,
          7993039,
          52929168,
          453243,
          1794187,
          285761243,
          66666062,
          92823600,
          111543479,
          78756177,
          49530280,
          65207127,
          2150000,
          119285432,
          12465371,
          22490039,
          76657000,
          43000000,
          35000000,
          132088635,
          959000,
          696690,
          1378435,
          141843612,
          13780024,
          30500000
         ],
         "xaxis": "x",
         "yaxis": "y"
        },
        {
         "alignmentgroup": "True",
         "hovertemplate": "Arrecadação do Filme em Dólares=%{x}<extra></extra>",
         "legendgroup": "",
         "marker": {
          "color": "DarkOliveGreen"
         },
         "name": "",
         "notched": true,
         "offsetgroup": "",
         "showlegend": false,
         "type": "box",
         "x": [
          28341469,
          134966411,
          534858444,
          57300000,
          4360000,
          377845905,
          107928762,
          96898818,
          292576195,
          37030102,
          315544750,
          330252182,
          6100000,
          342551365,
          171479930,
          46836394,
          290475067,
          112000000,
          53367844,
          188020017,
          7563397,
          10055859,
          216540909,
          136801374,
          57598247,
          100125643,
          130742922,
          322740140,
          269061,
          335451311,
          13092000,
          13182281,
          53089891,
          132384315,
          32572577,
          187705427,
          6719864,
          23341568,
          19501238,
          422783777,
          204843350,
          11990401,
          210609762,
          5321508,
          32000000,
          1024560,
          163245,
          19181,
          1661096,
          5017246,
          190241310,
          858373000,
          678815482,
          209726015,
          162805434,
          448139099,
          6532908,
          223808164,
          11286112,
          707481,
          25544867,
          2375308,
          248159971,
          44017374,
          83471511,
          78900000,
          275902,
          36764313,
          159227644,
          687185,
          7098492,
          6857096,
          120540719,
          34400301,
          33225499,
          30328156,
          3635482,
          130096601,
          138433435,
          933933,
          191796233,
          75600000,
          2832029,
          46357676,
          85160248,
          51973029,
          45598982,
          309125409,
          11487676,
          28262574,
          159600000,
          6207725,
          56954992,
          15000000,
          44824144,
          18600000,
          13275000,
          3200000,
          8819028,
          5720000,
          1585634,
          85080171,
          54513740,
          6391436,
          13657115,
          128012934,
          293004164,
          116900694,
          1113541,
          40222514,
          37634615,
          415004880,
          70511035,
          206852432,
          5509040,
          4711096,
          170742341,
          3897569,
          64616940,
          67436818,
          42438300,
          101157447,
          197171806,
          1105564,
          83008852,
          4135750,
          23383987,
          1229197,
          12100000,
          25000000,
          12562,
          10177,
          5014000,
          3759854,
          2006788,
          3492754,
          226277068,
          14677674,
          3107072,
          59100318,
          167767189,
          67209615,
          356461711,
          56671993,
          26947624,
          117624028,
          45055776,
          857524,
          61002302,
          154058340,
          148095302,
          381011219,
          1498210,
          217581231,
          18354356,
          74283625,
          100492203,
          23530892,
          1111061,
          5820649,
          14131,
          70099045,
          380843261,
          164615351,
          5383834,
          289916256,
          70147,
          293506292,
          259127,
          125618201,
          348660,
          17498804,
          2734044,
          16501785,
          24611975,
          5535405,
          4043686,
          600200,
          402453882,
          25010410,
          95860116,
          52287414,
          138530565,
          2181987,
          495770,
          13782838,
          22244207,
          4971340,
          32868943,
          20045115,
          48979328,
          117235247,
          29000000,
          30933743,
          16217773,
          4050000,
          74700000,
          44908000,
          9600000,
          3969893,
          449191,
          4360000,
          9600000,
          198676459,
          4360000,
          151101803,
          51739495,
          228433663,
          341268248,
          1506975,
          132422809,
          5566534,
          1010414,
          2625803,
          91125683,
          333176600,
          92054159,
          25568251,
          216428042,
          183637894,
          17738570,
          138797449,
          169708112,
          363070709,
          106662,
          4018695,
          141319928,
          106954678,
          8060,
          623279547,
          4445756,
          27298285,
          163566459,
          57366262,
          227471070,
          238507,
          74103820,
          5990075,
          206445654,
          167445960,
          66208183,
          2380788,
          2086345,
          61649911,
          1787378,
          169659,
          305413918,
          66257002,
          261441092,
          1530386,
          1480006,
          22455976,
          4184036,
          6203044,
          1647780,
          5595428,
          23159305,
          24475416,
          13417292,
          57141459,
          515905,
          75082668,
          70906973,
          4496583,
          63895607,
          217350219,
          70405498,
          218967620,
          184208848,
          27545445,
          178800000,
          30857814,
          3333969,
          4542825,
          38400000,
          52767889,
          30177511,
          39200000,
          260000000,
          50000000,
          86300000,
          53267000,
          232906145,
          29133000,
          80500000,
          541940,
          102308889,
          33395426,
          104945305,
          163214286,
          111722000,
          14500000,
          8284000,
          19516000,
          12535000,
          2237659,
          17570324,
          8000000,
          23650000,
          55000,
          2076020,
          3270000,
          165359751,
          3313513,
          2000000,
          18095701,
          258168,
          32015231,
          5202582,
          5875006,
          3237118,
          315058289,
          32381218,
          349555,
          100546139,
          936662225,
          8114627,
          233921534,
          44671682,
          100206256,
          6739492,
          7000000,
          2084637,
          5009677,
          2122065,
          115646235,
          26236603,
          25379975,
          257730019,
          7757130,
          13756082,
          2280348,
          124987023,
          21002919,
          3635164,
          318412101,
          13542874,
          90135191,
          249358727,
          53710019,
          9284265,
          1059830,
          1000045,
          121661683,
          1221261,
          35552383,
          32534850,
          7220243,
          245852179,
          26400640,
          2201126,
          12281500,
          1324974,
          36948322,
          56362352,
          14743391,
          18254702,
          76270454,
          40084041,
          9929135,
          188751,
          20605209,
          57229890,
          45700000,
          37823676,
          5100000,
          70600000,
          61001,
          198809,
          61700000,
          12064472,
          24379978,
          13474588,
          30000000,
          9450000,
          7630000,
          10464000,
          3981000,
          10000000,
          2402067,
          188373161,
          169607287,
          40442052,
          48023088,
          47695120,
          435266,
          532177324,
          408084349,
          54117416,
          108101214,
          6735118,
          1330596,
          4231500,
          222527828,
          15322921,
          5209580,
          434038008,
          85433,
          45512466,
          177002924,
          70259870,
          102515793,
          107100855,
          161197785,
          547292,
          258366855,
          2222647,
          10095170,
          93617009,
          145000989,
          9030581,
          9439923,
          303003568,
          50927067,
          35061555,
          130164645,
          760507625,
          3600,
          50866635,
          59891098,
          23637265,
          127509326,
          2921738,
          1305,
          38405088,
          5128124,
          128985,
          25514517,
          119519402,
          81001787,
          16756372,
          181655,
          7002255,
          54234062,
          2892011,
          115654751,
          128078872,
          8264530,
          233632142,
          25812,
          28965197,
          32481825,
          267665011,
          659325379,
          12339633,
          48323648,
          4040691,
          5887457,
          9170214,
          56505065,
          32416586,
          22954968,
          183875760,
          17266971,
          2015810,
          1999955,
          57504069,
          61276872,
          52096475,
          26830000,
          118500000,
          34603943,
          59735548,
          5923044,
          70136369,
          1436000,
          61503218,
          98467863,
          45875171,
          34700291,
          238632124,
          21500000,
          2500000,
          435110554,
          106260000,
          31800000,
          4420000,
          193817,
          16056255,
          42765000,
          4000000,
          44785053,
          72000000,
          102272727,
          39100000,
          2616000,
          324591735,
          33800859,
          176040665,
          220159104,
          3358518,
          3333000,
          765127,
          35893537,
          128261724,
          124872350,
          6743776,
          42340598,
          2199675,
          1122527,
          259766572,
          17654912,
          189422889,
          1339152,
          56816662,
          257760692,
          274092705,
          228778661,
          96962694,
          146408305,
          277322503,
          304360277,
          132092958,
          136025503,
          32391374,
          295983305,
          15090400,
          18593156,
          881302,
          35739802,
          1752214,
          25442958,
          412544,
          17605861,
          33080084,
          22494487,
          1054361,
          871577,
          200821936,
          4398392,
          83043761,
          53606916,
          54580300,
          17108591,
          176241941,
          1082715,
          75331600,
          44585453,
          290013036,
          77911774,
          75286229,
          111110575,
          4890878,
          4064200,
          15539266,
          40311852,
          22245861,
          108638745,
          104454762,
          141072,
          21995263,
          3029081,
          183417150,
          151086,
          45512588,
          52037603,
          10824921,
          76631907,
          17105219,
          22858926,
          148478011,
          63540020,
          4065116,
          41909762,
          35811509,
          56116183,
          10019307,
          21848932,
          3151130,
          6110979,
          77324422,
          27281507,
          48169908,
          75505856,
          10725228,
          141340178,
          82418501,
          6153939,
          5080409,
          156452370,
          1544889,
          43984230,
          22238696,
          7153487,
          8551228,
          10631333,
          10600000,
          54000000,
          78912963,
          47212904,
          54800000,
          83400000,
          47000000,
          1924733,
          119500000,
          29800000,
          25000000,
          7056013,
          15630710,
          35900000,
          44527234,
          28350000,
          51081062,
          11403529,
          4905000,
          536118,
          76408097,
          26020957,
          142502728,
          566356,
          5904366,
          24801212,
          13122642,
          845464,
          389813101,
          107825862,
          18340051,
          72313754,
          608581744,
          248757044,
          46889293,
          109767581,
          1092800,
          26862450,
          37707719,
          208545589,
          4105123,
          41003371,
          19202743,
          215288866,
          171243005,
          1008098,
          251513985,
          35014192,
          48071303,
          75605492,
          3185812,
          75590286,
          209028679,
          255959475,
          9422422,
          69951824,
          17114882,
          38634938,
          88513495,
          20300218,
          10301706,
          24633730,
          39868642,
          301959197,
          210614939,
          23089926,
          107509799,
          24149632,
          56000369,
          3081925,
          697181,
          548707,
          6167817,
          5739376,
          16290476,
          45289,
          51680613,
          13060843,
          57938693,
          45064915,
          52364010,
          13622333,
          317575550,
          96522687,
          52990775,
          51401758,
          132072926,
          50668906,
          15070285,
          7267585,
          36400491,
          120620254,
          10680275,
          14378331,
          49100000,
          3796699,
          43182776,
          100012499,
          1037847,
          71516617,
          173837933,
          1464625,
          40903593,
          7993039,
          52929168,
          453243,
          1794187,
          285761243,
          66666062,
          92823600,
          111543479,
          78756177,
          49530280,
          65207127,
          2150000,
          119285432,
          12465371,
          22490039,
          76657000,
          43000000,
          35000000,
          132088635,
          959000,
          696690,
          1378435,
          141843612,
          13780024,
          30500000
         ],
         "xaxis": "x2",
         "yaxis": "y2"
        }
       ],
       "layout": {
        "barmode": "relative",
        "legend": {
         "tracegroupgap": 0
        },
        "template": {
         "data": {
          "bar": [
           {
            "error_x": {
             "color": "#2a3f5f"
            },
            "error_y": {
             "color": "#2a3f5f"
            },
            "marker": {
             "line": {
              "color": "#E5ECF6",
              "width": 0.5
             },
             "pattern": {
              "fillmode": "overlay",
              "size": 10,
              "solidity": 0.2
             }
            },
            "type": "bar"
           }
          ],
          "barpolar": [
           {
            "marker": {
             "line": {
              "color": "#E5ECF6",
              "width": 0.5
             },
             "pattern": {
              "fillmode": "overlay",
              "size": 10,
              "solidity": 0.2
             }
            },
            "type": "barpolar"
           }
          ],
          "carpet": [
           {
            "aaxis": {
             "endlinecolor": "#2a3f5f",
             "gridcolor": "white",
             "linecolor": "white",
             "minorgridcolor": "white",
             "startlinecolor": "#2a3f5f"
            },
            "baxis": {
             "endlinecolor": "#2a3f5f",
             "gridcolor": "white",
             "linecolor": "white",
             "minorgridcolor": "white",
             "startlinecolor": "#2a3f5f"
            },
            "type": "carpet"
           }
          ],
          "choropleth": [
           {
            "colorbar": {
             "outlinewidth": 0,
             "ticks": ""
            },
            "type": "choropleth"
           }
          ],
          "contour": [
           {
            "colorbar": {
             "outlinewidth": 0,
             "ticks": ""
            },
            "colorscale": [
             [
              0,
              "#0d0887"
             ],
             [
              0.1111111111111111,
              "#46039f"
             ],
             [
              0.2222222222222222,
              "#7201a8"
             ],
             [
              0.3333333333333333,
              "#9c179e"
             ],
             [
              0.4444444444444444,
              "#bd3786"
             ],
             [
              0.5555555555555556,
              "#d8576b"
             ],
             [
              0.6666666666666666,
              "#ed7953"
             ],
             [
              0.7777777777777778,
              "#fb9f3a"
             ],
             [
              0.8888888888888888,
              "#fdca26"
             ],
             [
              1,
              "#f0f921"
             ]
            ],
            "type": "contour"
           }
          ],
          "contourcarpet": [
           {
            "colorbar": {
             "outlinewidth": 0,
             "ticks": ""
            },
            "type": "contourcarpet"
           }
          ],
          "heatmap": [
           {
            "colorbar": {
             "outlinewidth": 0,
             "ticks": ""
            },
            "colorscale": [
             [
              0,
              "#0d0887"
             ],
             [
              0.1111111111111111,
              "#46039f"
             ],
             [
              0.2222222222222222,
              "#7201a8"
             ],
             [
              0.3333333333333333,
              "#9c179e"
             ],
             [
              0.4444444444444444,
              "#bd3786"
             ],
             [
              0.5555555555555556,
              "#d8576b"
             ],
             [
              0.6666666666666666,
              "#ed7953"
             ],
             [
              0.7777777777777778,
              "#fb9f3a"
             ],
             [
              0.8888888888888888,
              "#fdca26"
             ],
             [
              1,
              "#f0f921"
             ]
            ],
            "type": "heatmap"
           }
          ],
          "heatmapgl": [
           {
            "colorbar": {
             "outlinewidth": 0,
             "ticks": ""
            },
            "colorscale": [
             [
              0,
              "#0d0887"
             ],
             [
              0.1111111111111111,
              "#46039f"
             ],
             [
              0.2222222222222222,
              "#7201a8"
             ],
             [
              0.3333333333333333,
              "#9c179e"
             ],
             [
              0.4444444444444444,
              "#bd3786"
             ],
             [
              0.5555555555555556,
              "#d8576b"
             ],
             [
              0.6666666666666666,
              "#ed7953"
             ],
             [
              0.7777777777777778,
              "#fb9f3a"
             ],
             [
              0.8888888888888888,
              "#fdca26"
             ],
             [
              1,
              "#f0f921"
             ]
            ],
            "type": "heatmapgl"
           }
          ],
          "histogram": [
           {
            "marker": {
             "pattern": {
              "fillmode": "overlay",
              "size": 10,
              "solidity": 0.2
             }
            },
            "type": "histogram"
           }
          ],
          "histogram2d": [
           {
            "colorbar": {
             "outlinewidth": 0,
             "ticks": ""
            },
            "colorscale": [
             [
              0,
              "#0d0887"
             ],
             [
              0.1111111111111111,
              "#46039f"
             ],
             [
              0.2222222222222222,
              "#7201a8"
             ],
             [
              0.3333333333333333,
              "#9c179e"
             ],
             [
              0.4444444444444444,
              "#bd3786"
             ],
             [
              0.5555555555555556,
              "#d8576b"
             ],
             [
              0.6666666666666666,
              "#ed7953"
             ],
             [
              0.7777777777777778,
              "#fb9f3a"
             ],
             [
              0.8888888888888888,
              "#fdca26"
             ],
             [
              1,
              "#f0f921"
             ]
            ],
            "type": "histogram2d"
           }
          ],
          "histogram2dcontour": [
           {
            "colorbar": {
             "outlinewidth": 0,
             "ticks": ""
            },
            "colorscale": [
             [
              0,
              "#0d0887"
             ],
             [
              0.1111111111111111,
              "#46039f"
             ],
             [
              0.2222222222222222,
              "#7201a8"
             ],
             [
              0.3333333333333333,
              "#9c179e"
             ],
             [
              0.4444444444444444,
              "#bd3786"
             ],
             [
              0.5555555555555556,
              "#d8576b"
             ],
             [
              0.6666666666666666,
              "#ed7953"
             ],
             [
              0.7777777777777778,
              "#fb9f3a"
             ],
             [
              0.8888888888888888,
              "#fdca26"
             ],
             [
              1,
              "#f0f921"
             ]
            ],
            "type": "histogram2dcontour"
           }
          ],
          "mesh3d": [
           {
            "colorbar": {
             "outlinewidth": 0,
             "ticks": ""
            },
            "type": "mesh3d"
           }
          ],
          "parcoords": [
           {
            "line": {
             "colorbar": {
              "outlinewidth": 0,
              "ticks": ""
             }
            },
            "type": "parcoords"
           }
          ],
          "pie": [
           {
            "automargin": true,
            "type": "pie"
           }
          ],
          "scatter": [
           {
            "fillpattern": {
             "fillmode": "overlay",
             "size": 10,
             "solidity": 0.2
            },
            "type": "scatter"
           }
          ],
          "scatter3d": [
           {
            "line": {
             "colorbar": {
              "outlinewidth": 0,
              "ticks": ""
             }
            },
            "marker": {
             "colorbar": {
              "outlinewidth": 0,
              "ticks": ""
             }
            },
            "type": "scatter3d"
           }
          ],
          "scattercarpet": [
           {
            "marker": {
             "colorbar": {
              "outlinewidth": 0,
              "ticks": ""
             }
            },
            "type": "scattercarpet"
           }
          ],
          "scattergeo": [
           {
            "marker": {
             "colorbar": {
              "outlinewidth": 0,
              "ticks": ""
             }
            },
            "type": "scattergeo"
           }
          ],
          "scattergl": [
           {
            "marker": {
             "colorbar": {
              "outlinewidth": 0,
              "ticks": ""
             }
            },
            "type": "scattergl"
           }
          ],
          "scattermapbox": [
           {
            "marker": {
             "colorbar": {
              "outlinewidth": 0,
              "ticks": ""
             }
            },
            "type": "scattermapbox"
           }
          ],
          "scatterpolar": [
           {
            "marker": {
             "colorbar": {
              "outlinewidth": 0,
              "ticks": ""
             }
            },
            "type": "scatterpolar"
           }
          ],
          "scatterpolargl": [
           {
            "marker": {
             "colorbar": {
              "outlinewidth": 0,
              "ticks": ""
             }
            },
            "type": "scatterpolargl"
           }
          ],
          "scatterternary": [
           {
            "marker": {
             "colorbar": {
              "outlinewidth": 0,
              "ticks": ""
             }
            },
            "type": "scatterternary"
           }
          ],
          "surface": [
           {
            "colorbar": {
             "outlinewidth": 0,
             "ticks": ""
            },
            "colorscale": [
             [
              0,
              "#0d0887"
             ],
             [
              0.1111111111111111,
              "#46039f"
             ],
             [
              0.2222222222222222,
              "#7201a8"
             ],
             [
              0.3333333333333333,
              "#9c179e"
             ],
             [
              0.4444444444444444,
              "#bd3786"
             ],
             [
              0.5555555555555556,
              "#d8576b"
             ],
             [
              0.6666666666666666,
              "#ed7953"
             ],
             [
              0.7777777777777778,
              "#fb9f3a"
             ],
             [
              0.8888888888888888,
              "#fdca26"
             ],
             [
              1,
              "#f0f921"
             ]
            ],
            "type": "surface"
           }
          ],
          "table": [
           {
            "cells": {
             "fill": {
              "color": "#EBF0F8"
             },
             "line": {
              "color": "white"
             }
            },
            "header": {
             "fill": {
              "color": "#C8D4E3"
             },
             "line": {
              "color": "white"
             }
            },
            "type": "table"
           }
          ]
         },
         "layout": {
          "annotationdefaults": {
           "arrowcolor": "#2a3f5f",
           "arrowhead": 0,
           "arrowwidth": 1
          },
          "autotypenumbers": "strict",
          "coloraxis": {
           "colorbar": {
            "outlinewidth": 0,
            "ticks": ""
           }
          },
          "colorscale": {
           "diverging": [
            [
             0,
             "#8e0152"
            ],
            [
             0.1,
             "#c51b7d"
            ],
            [
             0.2,
             "#de77ae"
            ],
            [
             0.3,
             "#f1b6da"
            ],
            [
             0.4,
             "#fde0ef"
            ],
            [
             0.5,
             "#f7f7f7"
            ],
            [
             0.6,
             "#e6f5d0"
            ],
            [
             0.7,
             "#b8e186"
            ],
            [
             0.8,
             "#7fbc41"
            ],
            [
             0.9,
             "#4d9221"
            ],
            [
             1,
             "#276419"
            ]
           ],
           "sequential": [
            [
             0,
             "#0d0887"
            ],
            [
             0.1111111111111111,
             "#46039f"
            ],
            [
             0.2222222222222222,
             "#7201a8"
            ],
            [
             0.3333333333333333,
             "#9c179e"
            ],
            [
             0.4444444444444444,
             "#bd3786"
            ],
            [
             0.5555555555555556,
             "#d8576b"
            ],
            [
             0.6666666666666666,
             "#ed7953"
            ],
            [
             0.7777777777777778,
             "#fb9f3a"
            ],
            [
             0.8888888888888888,
             "#fdca26"
            ],
            [
             1,
             "#f0f921"
            ]
           ],
           "sequentialminus": [
            [
             0,
             "#0d0887"
            ],
            [
             0.1111111111111111,
             "#46039f"
            ],
            [
             0.2222222222222222,
             "#7201a8"
            ],
            [
             0.3333333333333333,
             "#9c179e"
            ],
            [
             0.4444444444444444,
             "#bd3786"
            ],
            [
             0.5555555555555556,
             "#d8576b"
            ],
            [
             0.6666666666666666,
             "#ed7953"
            ],
            [
             0.7777777777777778,
             "#fb9f3a"
            ],
            [
             0.8888888888888888,
             "#fdca26"
            ],
            [
             1,
             "#f0f921"
            ]
           ]
          },
          "colorway": [
           "#636efa",
           "#EF553B",
           "#00cc96",
           "#ab63fa",
           "#FFA15A",
           "#19d3f3",
           "#FF6692",
           "#B6E880",
           "#FF97FF",
           "#FECB52"
          ],
          "font": {
           "color": "#2a3f5f"
          },
          "geo": {
           "bgcolor": "white",
           "lakecolor": "white",
           "landcolor": "#E5ECF6",
           "showlakes": true,
           "showland": true,
           "subunitcolor": "white"
          },
          "hoverlabel": {
           "align": "left"
          },
          "hovermode": "closest",
          "mapbox": {
           "style": "light"
          },
          "paper_bgcolor": "white",
          "plot_bgcolor": "#E5ECF6",
          "polar": {
           "angularaxis": {
            "gridcolor": "white",
            "linecolor": "white",
            "ticks": ""
           },
           "bgcolor": "#E5ECF6",
           "radialaxis": {
            "gridcolor": "white",
            "linecolor": "white",
            "ticks": ""
           }
          },
          "scene": {
           "xaxis": {
            "backgroundcolor": "#E5ECF6",
            "gridcolor": "white",
            "gridwidth": 2,
            "linecolor": "white",
            "showbackground": true,
            "ticks": "",
            "zerolinecolor": "white"
           },
           "yaxis": {
            "backgroundcolor": "#E5ECF6",
            "gridcolor": "white",
            "gridwidth": 2,
            "linecolor": "white",
            "showbackground": true,
            "ticks": "",
            "zerolinecolor": "white"
           },
           "zaxis": {
            "backgroundcolor": "#E5ECF6",
            "gridcolor": "white",
            "gridwidth": 2,
            "linecolor": "white",
            "showbackground": true,
            "ticks": "",
            "zerolinecolor": "white"
           }
          },
          "shapedefaults": {
           "line": {
            "color": "#2a3f5f"
           }
          },
          "ternary": {
           "aaxis": {
            "gridcolor": "white",
            "linecolor": "white",
            "ticks": ""
           },
           "baxis": {
            "gridcolor": "white",
            "linecolor": "white",
            "ticks": ""
           },
           "bgcolor": "#E5ECF6",
           "caxis": {
            "gridcolor": "white",
            "linecolor": "white",
            "ticks": ""
           }
          },
          "title": {
           "x": 0.05
          },
          "xaxis": {
           "automargin": true,
           "gridcolor": "white",
           "linecolor": "white",
           "ticks": "",
           "title": {
            "standoff": 15
           },
           "zerolinecolor": "white",
           "zerolinewidth": 2
          },
          "yaxis": {
           "automargin": true,
           "gridcolor": "white",
           "linecolor": "white",
           "ticks": "",
           "title": {
            "standoff": 15
           },
           "zerolinecolor": "white",
           "zerolinewidth": 2
          }
         }
        },
        "title": {
         "text": "Distribuição da Arrecadação dos Filmes"
        },
        "xaxis": {
         "anchor": "y",
         "domain": [
          0,
          1
         ],
         "title": {
          "text": "Arrecadação do Filme em Dólares"
         }
        },
        "xaxis2": {
         "anchor": "y2",
         "domain": [
          0,
          1
         ],
         "matches": "x",
         "showgrid": true,
         "showticklabels": false
        },
        "yaxis": {
         "anchor": "x",
         "domain": [
          0,
          0.8316
         ],
         "title": {
          "text": "Quantidade de Filmes"
         }
        },
        "yaxis2": {
         "anchor": "x2",
         "domain": [
          0.8416,
          1
         ],
         "matches": "y2",
         "showgrid": false,
         "showline": false,
         "showticklabels": false,
         "ticks": ""
        }
       }
      },
      "text/html": [
       "<div>                            <div id=\"92e6be38-6b73-48d5-94fa-8082c3f93d3b\" class=\"plotly-graph-div\" style=\"height:525px; width:100%;\"></div>            <script type=\"text/javascript\">                require([\"plotly\"], function(Plotly) {                    window.PLOTLYENV=window.PLOTLYENV || {};                                    if (document.getElementById(\"92e6be38-6b73-48d5-94fa-8082c3f93d3b\")) {                    Plotly.newPlot(                        \"92e6be38-6b73-48d5-94fa-8082c3f93d3b\",                        [{\"alignmentgroup\":\"True\",\"bingroup\":\"x\",\"hovertemplate\":\"Arrecada\\u00e7\\u00e3o do Filme em D\\u00f3lares=%{x}<br>count=%{y}<extra></extra>\",\"legendgroup\":\"\",\"marker\":{\"color\":\"DarkOliveGreen\",\"pattern\":{\"shape\":\"\"}},\"name\":\"\",\"offsetgroup\":\"\",\"orientation\":\"v\",\"showlegend\":false,\"x\":[28341469.0,134966411.0,534858444.0,57300000.0,4360000.0,377845905.0,107928762.0,96898818.0,292576195.0,37030102.0,315544750.0,330252182.0,6100000.0,342551365.0,171479930.0,46836394.0,290475067.0,112000000.0,53367844.0,188020017.0,7563397.0,10055859.0,216540909.0,136801374.0,57598247.0,100125643.0,130742922.0,322740140.0,269061.0,335451311.0,13092000.0,13182281.0,53089891.0,132384315.0,32572577.0,187705427.0,6719864.0,23341568.0,19501238.0,422783777.0,204843350.0,11990401.0,210609762.0,5321508.0,32000000.0,1024560.0,163245.0,19181.0,1661096.0,5017246.0,190241310.0,858373000.0,678815482.0,209726015.0,162805434.0,448139099.0,6532908.0,223808164.0,11286112.0,707481.0,25544867.0,2375308.0,248159971.0,44017374.0,83471511.0,78900000.0,275902.0,36764313.0,159227644.0,687185.0,7098492.0,6857096.0,120540719.0,34400301.0,33225499.0,30328156.0,3635482.0,130096601.0,138433435.0,933933.0,191796233.0,75600000.0,2832029.0,46357676.0,85160248.0,51973029.0,45598982.0,309125409.0,11487676.0,28262574.0,159600000.0,6207725.0,56954992.0,15000000.0,44824144.0,18600000.0,13275000.0,3200000.0,8819028.0,5720000.0,1585634.0,85080171.0,54513740.0,6391436.0,13657115.0,128012934.0,293004164.0,116900694.0,1113541.0,40222514.0,37634615.0,415004880.0,70511035.0,206852432.0,5509040.0,4711096.0,170742341.0,3897569.0,64616940.0,67436818.0,42438300.0,101157447.0,197171806.0,1105564.0,83008852.0,4135750.0,23383987.0,1229197.0,12100000.0,25000000.0,12562.0,10177.0,5014000.0,3759854.0,2006788.0,3492754.0,226277068.0,14677674.0,3107072.0,59100318.0,167767189.0,67209615.0,356461711.0,56671993.0,26947624.0,117624028.0,45055776.0,857524.0,61002302.0,154058340.0,148095302.0,381011219.0,1498210.0,217581231.0,18354356.0,74283625.0,100492203.0,23530892.0,1111061.0,5820649.0,14131.0,70099045.0,380843261.0,164615351.0,5383834.0,289916256.0,70147.0,293506292.0,259127.0,125618201.0,348660.0,17498804.0,2734044.0,16501785.0,24611975.0,5535405.0,4043686.0,600200.0,402453882.0,25010410.0,95860116.0,52287414.0,138530565.0,2181987.0,495770.0,13782838.0,22244207.0,4971340.0,32868943.0,20045115.0,48979328.0,117235247.0,29000000.0,30933743.0,16217773.0,4050000.0,74700000.0,44908000.0,9600000.0,3969893.0,449191.0,4360000.0,9600000.0,198676459.0,4360000.0,151101803.0,51739495.0,228433663.0,341268248.0,1506975.0,132422809.0,5566534.0,1010414.0,2625803.0,91125683.0,333176600.0,92054159.0,25568251.0,216428042.0,183637894.0,17738570.0,138797449.0,169708112.0,363070709.0,106662.0,4018695.0,141319928.0,106954678.0,8060.0,623279547.0,4445756.0,27298285.0,163566459.0,57366262.0,227471070.0,238507.0,74103820.0,5990075.0,206445654.0,167445960.0,66208183.0,2380788.0,2086345.0,61649911.0,1787378.0,169659.0,305413918.0,66257002.0,261441092.0,1530386.0,1480006.0,22455976.0,4184036.0,6203044.0,1647780.0,5595428.0,23159305.0,24475416.0,13417292.0,57141459.0,515905.0,75082668.0,70906973.0,4496583.0,63895607.0,217350219.0,70405498.0,218967620.0,184208848.0,27545445.0,178800000.0,30857814.0,3333969.0,4542825.0,38400000.0,52767889.0,30177511.0,39200000.0,260000000.0,50000000.0,86300000.0,53267000.0,232906145.0,29133000.0,80500000.0,541940.0,102308889.0,33395426.0,104945305.0,163214286.0,111722000.0,14500000.0,8284000.0,19516000.0,12535000.0,2237659.0,17570324.0,8000000.0,23650000.0,55000.0,2076020.0,3270000.0,165359751.0,3313513.0,2000000.0,18095701.0,258168.0,32015231.0,5202582.0,5875006.0,3237118.0,315058289.0,32381218.0,349555.0,100546139.0,936662225.0,8114627.0,233921534.0,44671682.0,100206256.0,6739492.0,7000000.0,2084637.0,5009677.0,2122065.0,115646235.0,26236603.0,25379975.0,257730019.0,7757130.0,13756082.0,2280348.0,124987023.0,21002919.0,3635164.0,318412101.0,13542874.0,90135191.0,249358727.0,53710019.0,9284265.0,1059830.0,1000045.0,121661683.0,1221261.0,35552383.0,32534850.0,7220243.0,245852179.0,26400640.0,2201126.0,12281500.0,1324974.0,36948322.0,56362352.0,14743391.0,18254702.0,76270454.0,40084041.0,9929135.0,188751.0,20605209.0,57229890.0,45700000.0,37823676.0,5100000.0,70600000.0,61001.0,198809.0,61700000.0,12064472.0,24379978.0,13474588.0,30000000.0,9450000.0,7630000.0,10464000.0,3981000.0,10000000.0,2402067.0,188373161.0,169607287.0,40442052.0,48023088.0,47695120.0,435266.0,532177324.0,408084349.0,54117416.0,108101214.0,6735118.0,1330596.0,4231500.0,222527828.0,15322921.0,5209580.0,434038008.0,85433.0,45512466.0,177002924.0,70259870.0,102515793.0,107100855.0,161197785.0,547292.0,258366855.0,2222647.0,10095170.0,93617009.0,145000989.0,9030581.0,9439923.0,303003568.0,50927067.0,35061555.0,130164645.0,760507625.0,3600.0,50866635.0,59891098.0,23637265.0,127509326.0,2921738.0,1305.0,38405088.0,5128124.0,128985.0,25514517.0,119519402.0,81001787.0,16756372.0,181655.0,7002255.0,54234062.0,2892011.0,115654751.0,128078872.0,8264530.0,233632142.0,25812.0,28965197.0,32481825.0,267665011.0,659325379.0,12339633.0,48323648.0,4040691.0,5887457.0,9170214.0,56505065.0,32416586.0,22954968.0,183875760.0,17266971.0,2015810.0,1999955.0,57504069.0,61276872.0,52096475.0,26830000.0,118500000.0,34603943.0,59735548.0,5923044.0,70136369.0,1436000.0,61503218.0,98467863.0,45875171.0,34700291.0,238632124.0,21500000.0,2500000.0,435110554.0,106260000.0,31800000.0,4420000.0,193817.0,16056255.0,42765000.0,4000000.0,44785053.0,72000000.0,102272727.0,39100000.0,2616000.0,324591735.0,33800859.0,176040665.0,220159104.0,3358518.0,3333000.0,765127.0,35893537.0,128261724.0,124872350.0,6743776.0,42340598.0,2199675.0,1122527.0,259766572.0,17654912.0,189422889.0,1339152.0,56816662.0,257760692.0,274092705.0,228778661.0,96962694.0,146408305.0,277322503.0,304360277.0,132092958.0,136025503.0,32391374.0,295983305.0,15090400.0,18593156.0,881302.0,35739802.0,1752214.0,25442958.0,412544.0,17605861.0,33080084.0,22494487.0,1054361.0,871577.0,200821936.0,4398392.0,83043761.0,53606916.0,54580300.0,17108591.0,176241941.0,1082715.0,75331600.0,44585453.0,290013036.0,77911774.0,75286229.0,111110575.0,4890878.0,4064200.0,15539266.0,40311852.0,22245861.0,108638745.0,104454762.0,141072.0,21995263.0,3029081.0,183417150.0,151086.0,45512588.0,52037603.0,10824921.0,76631907.0,17105219.0,22858926.0,148478011.0,63540020.0,4065116.0,41909762.0,35811509.0,56116183.0,10019307.0,21848932.0,3151130.0,6110979.0,77324422.0,27281507.0,48169908.0,75505856.0,10725228.0,141340178.0,82418501.0,6153939.0,5080409.0,156452370.0,1544889.0,43984230.0,22238696.0,7153487.0,8551228.0,10631333.0,10600000.0,54000000.0,78912963.0,47212904.0,54800000.0,83400000.0,47000000.0,1924733.0,119500000.0,29800000.0,25000000.0,7056013.0,15630710.0,35900000.0,44527234.0,28350000.0,51081062.0,11403529.0,4905000.0,536118.0,76408097.0,26020957.0,142502728.0,566356.0,5904366.0,24801212.0,13122642.0,845464.0,389813101.0,107825862.0,18340051.0,72313754.0,608581744.0,248757044.0,46889293.0,109767581.0,1092800.0,26862450.0,37707719.0,208545589.0,4105123.0,41003371.0,19202743.0,215288866.0,171243005.0,1008098.0,251513985.0,35014192.0,48071303.0,75605492.0,3185812.0,75590286.0,209028679.0,255959475.0,9422422.0,69951824.0,17114882.0,38634938.0,88513495.0,20300218.0,10301706.0,24633730.0,39868642.0,301959197.0,210614939.0,23089926.0,107509799.0,24149632.0,56000369.0,3081925.0,697181.0,548707.0,6167817.0,5739376.0,16290476.0,45289.0,51680613.0,13060843.0,57938693.0,45064915.0,52364010.0,13622333.0,317575550.0,96522687.0,52990775.0,51401758.0,132072926.0,50668906.0,15070285.0,7267585.0,36400491.0,120620254.0,10680275.0,14378331.0,49100000.0,3796699.0,43182776.0,100012499.0,1037847.0,71516617.0,173837933.0,1464625.0,40903593.0,7993039.0,52929168.0,453243.0,1794187.0,285761243.0,66666062.0,92823600.0,111543479.0,78756177.0,49530280.0,65207127.0,2150000.0,119285432.0,12465371.0,22490039.0,76657000.0,43000000.0,35000000.0,132088635.0,959000.0,696690.0,1378435.0,141843612.0,13780024.0,30500000.0],\"xaxis\":\"x\",\"yaxis\":\"y\",\"type\":\"histogram\"},{\"alignmentgroup\":\"True\",\"hovertemplate\":\"Arrecada\\u00e7\\u00e3o do Filme em D\\u00f3lares=%{x}<extra></extra>\",\"legendgroup\":\"\",\"marker\":{\"color\":\"DarkOliveGreen\"},\"name\":\"\",\"notched\":true,\"offsetgroup\":\"\",\"showlegend\":false,\"x\":[28341469.0,134966411.0,534858444.0,57300000.0,4360000.0,377845905.0,107928762.0,96898818.0,292576195.0,37030102.0,315544750.0,330252182.0,6100000.0,342551365.0,171479930.0,46836394.0,290475067.0,112000000.0,53367844.0,188020017.0,7563397.0,10055859.0,216540909.0,136801374.0,57598247.0,100125643.0,130742922.0,322740140.0,269061.0,335451311.0,13092000.0,13182281.0,53089891.0,132384315.0,32572577.0,187705427.0,6719864.0,23341568.0,19501238.0,422783777.0,204843350.0,11990401.0,210609762.0,5321508.0,32000000.0,1024560.0,163245.0,19181.0,1661096.0,5017246.0,190241310.0,858373000.0,678815482.0,209726015.0,162805434.0,448139099.0,6532908.0,223808164.0,11286112.0,707481.0,25544867.0,2375308.0,248159971.0,44017374.0,83471511.0,78900000.0,275902.0,36764313.0,159227644.0,687185.0,7098492.0,6857096.0,120540719.0,34400301.0,33225499.0,30328156.0,3635482.0,130096601.0,138433435.0,933933.0,191796233.0,75600000.0,2832029.0,46357676.0,85160248.0,51973029.0,45598982.0,309125409.0,11487676.0,28262574.0,159600000.0,6207725.0,56954992.0,15000000.0,44824144.0,18600000.0,13275000.0,3200000.0,8819028.0,5720000.0,1585634.0,85080171.0,54513740.0,6391436.0,13657115.0,128012934.0,293004164.0,116900694.0,1113541.0,40222514.0,37634615.0,415004880.0,70511035.0,206852432.0,5509040.0,4711096.0,170742341.0,3897569.0,64616940.0,67436818.0,42438300.0,101157447.0,197171806.0,1105564.0,83008852.0,4135750.0,23383987.0,1229197.0,12100000.0,25000000.0,12562.0,10177.0,5014000.0,3759854.0,2006788.0,3492754.0,226277068.0,14677674.0,3107072.0,59100318.0,167767189.0,67209615.0,356461711.0,56671993.0,26947624.0,117624028.0,45055776.0,857524.0,61002302.0,154058340.0,148095302.0,381011219.0,1498210.0,217581231.0,18354356.0,74283625.0,100492203.0,23530892.0,1111061.0,5820649.0,14131.0,70099045.0,380843261.0,164615351.0,5383834.0,289916256.0,70147.0,293506292.0,259127.0,125618201.0,348660.0,17498804.0,2734044.0,16501785.0,24611975.0,5535405.0,4043686.0,600200.0,402453882.0,25010410.0,95860116.0,52287414.0,138530565.0,2181987.0,495770.0,13782838.0,22244207.0,4971340.0,32868943.0,20045115.0,48979328.0,117235247.0,29000000.0,30933743.0,16217773.0,4050000.0,74700000.0,44908000.0,9600000.0,3969893.0,449191.0,4360000.0,9600000.0,198676459.0,4360000.0,151101803.0,51739495.0,228433663.0,341268248.0,1506975.0,132422809.0,5566534.0,1010414.0,2625803.0,91125683.0,333176600.0,92054159.0,25568251.0,216428042.0,183637894.0,17738570.0,138797449.0,169708112.0,363070709.0,106662.0,4018695.0,141319928.0,106954678.0,8060.0,623279547.0,4445756.0,27298285.0,163566459.0,57366262.0,227471070.0,238507.0,74103820.0,5990075.0,206445654.0,167445960.0,66208183.0,2380788.0,2086345.0,61649911.0,1787378.0,169659.0,305413918.0,66257002.0,261441092.0,1530386.0,1480006.0,22455976.0,4184036.0,6203044.0,1647780.0,5595428.0,23159305.0,24475416.0,13417292.0,57141459.0,515905.0,75082668.0,70906973.0,4496583.0,63895607.0,217350219.0,70405498.0,218967620.0,184208848.0,27545445.0,178800000.0,30857814.0,3333969.0,4542825.0,38400000.0,52767889.0,30177511.0,39200000.0,260000000.0,50000000.0,86300000.0,53267000.0,232906145.0,29133000.0,80500000.0,541940.0,102308889.0,33395426.0,104945305.0,163214286.0,111722000.0,14500000.0,8284000.0,19516000.0,12535000.0,2237659.0,17570324.0,8000000.0,23650000.0,55000.0,2076020.0,3270000.0,165359751.0,3313513.0,2000000.0,18095701.0,258168.0,32015231.0,5202582.0,5875006.0,3237118.0,315058289.0,32381218.0,349555.0,100546139.0,936662225.0,8114627.0,233921534.0,44671682.0,100206256.0,6739492.0,7000000.0,2084637.0,5009677.0,2122065.0,115646235.0,26236603.0,25379975.0,257730019.0,7757130.0,13756082.0,2280348.0,124987023.0,21002919.0,3635164.0,318412101.0,13542874.0,90135191.0,249358727.0,53710019.0,9284265.0,1059830.0,1000045.0,121661683.0,1221261.0,35552383.0,32534850.0,7220243.0,245852179.0,26400640.0,2201126.0,12281500.0,1324974.0,36948322.0,56362352.0,14743391.0,18254702.0,76270454.0,40084041.0,9929135.0,188751.0,20605209.0,57229890.0,45700000.0,37823676.0,5100000.0,70600000.0,61001.0,198809.0,61700000.0,12064472.0,24379978.0,13474588.0,30000000.0,9450000.0,7630000.0,10464000.0,3981000.0,10000000.0,2402067.0,188373161.0,169607287.0,40442052.0,48023088.0,47695120.0,435266.0,532177324.0,408084349.0,54117416.0,108101214.0,6735118.0,1330596.0,4231500.0,222527828.0,15322921.0,5209580.0,434038008.0,85433.0,45512466.0,177002924.0,70259870.0,102515793.0,107100855.0,161197785.0,547292.0,258366855.0,2222647.0,10095170.0,93617009.0,145000989.0,9030581.0,9439923.0,303003568.0,50927067.0,35061555.0,130164645.0,760507625.0,3600.0,50866635.0,59891098.0,23637265.0,127509326.0,2921738.0,1305.0,38405088.0,5128124.0,128985.0,25514517.0,119519402.0,81001787.0,16756372.0,181655.0,7002255.0,54234062.0,2892011.0,115654751.0,128078872.0,8264530.0,233632142.0,25812.0,28965197.0,32481825.0,267665011.0,659325379.0,12339633.0,48323648.0,4040691.0,5887457.0,9170214.0,56505065.0,32416586.0,22954968.0,183875760.0,17266971.0,2015810.0,1999955.0,57504069.0,61276872.0,52096475.0,26830000.0,118500000.0,34603943.0,59735548.0,5923044.0,70136369.0,1436000.0,61503218.0,98467863.0,45875171.0,34700291.0,238632124.0,21500000.0,2500000.0,435110554.0,106260000.0,31800000.0,4420000.0,193817.0,16056255.0,42765000.0,4000000.0,44785053.0,72000000.0,102272727.0,39100000.0,2616000.0,324591735.0,33800859.0,176040665.0,220159104.0,3358518.0,3333000.0,765127.0,35893537.0,128261724.0,124872350.0,6743776.0,42340598.0,2199675.0,1122527.0,259766572.0,17654912.0,189422889.0,1339152.0,56816662.0,257760692.0,274092705.0,228778661.0,96962694.0,146408305.0,277322503.0,304360277.0,132092958.0,136025503.0,32391374.0,295983305.0,15090400.0,18593156.0,881302.0,35739802.0,1752214.0,25442958.0,412544.0,17605861.0,33080084.0,22494487.0,1054361.0,871577.0,200821936.0,4398392.0,83043761.0,53606916.0,54580300.0,17108591.0,176241941.0,1082715.0,75331600.0,44585453.0,290013036.0,77911774.0,75286229.0,111110575.0,4890878.0,4064200.0,15539266.0,40311852.0,22245861.0,108638745.0,104454762.0,141072.0,21995263.0,3029081.0,183417150.0,151086.0,45512588.0,52037603.0,10824921.0,76631907.0,17105219.0,22858926.0,148478011.0,63540020.0,4065116.0,41909762.0,35811509.0,56116183.0,10019307.0,21848932.0,3151130.0,6110979.0,77324422.0,27281507.0,48169908.0,75505856.0,10725228.0,141340178.0,82418501.0,6153939.0,5080409.0,156452370.0,1544889.0,43984230.0,22238696.0,7153487.0,8551228.0,10631333.0,10600000.0,54000000.0,78912963.0,47212904.0,54800000.0,83400000.0,47000000.0,1924733.0,119500000.0,29800000.0,25000000.0,7056013.0,15630710.0,35900000.0,44527234.0,28350000.0,51081062.0,11403529.0,4905000.0,536118.0,76408097.0,26020957.0,142502728.0,566356.0,5904366.0,24801212.0,13122642.0,845464.0,389813101.0,107825862.0,18340051.0,72313754.0,608581744.0,248757044.0,46889293.0,109767581.0,1092800.0,26862450.0,37707719.0,208545589.0,4105123.0,41003371.0,19202743.0,215288866.0,171243005.0,1008098.0,251513985.0,35014192.0,48071303.0,75605492.0,3185812.0,75590286.0,209028679.0,255959475.0,9422422.0,69951824.0,17114882.0,38634938.0,88513495.0,20300218.0,10301706.0,24633730.0,39868642.0,301959197.0,210614939.0,23089926.0,107509799.0,24149632.0,56000369.0,3081925.0,697181.0,548707.0,6167817.0,5739376.0,16290476.0,45289.0,51680613.0,13060843.0,57938693.0,45064915.0,52364010.0,13622333.0,317575550.0,96522687.0,52990775.0,51401758.0,132072926.0,50668906.0,15070285.0,7267585.0,36400491.0,120620254.0,10680275.0,14378331.0,49100000.0,3796699.0,43182776.0,100012499.0,1037847.0,71516617.0,173837933.0,1464625.0,40903593.0,7993039.0,52929168.0,453243.0,1794187.0,285761243.0,66666062.0,92823600.0,111543479.0,78756177.0,49530280.0,65207127.0,2150000.0,119285432.0,12465371.0,22490039.0,76657000.0,43000000.0,35000000.0,132088635.0,959000.0,696690.0,1378435.0,141843612.0,13780024.0,30500000.0],\"xaxis\":\"x2\",\"yaxis\":\"y2\",\"type\":\"box\"}],                        {\"template\":{\"data\":{\"histogram2dcontour\":[{\"type\":\"histogram2dcontour\",\"colorbar\":{\"outlinewidth\":0,\"ticks\":\"\"},\"colorscale\":[[0.0,\"#0d0887\"],[0.1111111111111111,\"#46039f\"],[0.2222222222222222,\"#7201a8\"],[0.3333333333333333,\"#9c179e\"],[0.4444444444444444,\"#bd3786\"],[0.5555555555555556,\"#d8576b\"],[0.6666666666666666,\"#ed7953\"],[0.7777777777777778,\"#fb9f3a\"],[0.8888888888888888,\"#fdca26\"],[1.0,\"#f0f921\"]]}],\"choropleth\":[{\"type\":\"choropleth\",\"colorbar\":{\"outlinewidth\":0,\"ticks\":\"\"}}],\"histogram2d\":[{\"type\":\"histogram2d\",\"colorbar\":{\"outlinewidth\":0,\"ticks\":\"\"},\"colorscale\":[[0.0,\"#0d0887\"],[0.1111111111111111,\"#46039f\"],[0.2222222222222222,\"#7201a8\"],[0.3333333333333333,\"#9c179e\"],[0.4444444444444444,\"#bd3786\"],[0.5555555555555556,\"#d8576b\"],[0.6666666666666666,\"#ed7953\"],[0.7777777777777778,\"#fb9f3a\"],[0.8888888888888888,\"#fdca26\"],[1.0,\"#f0f921\"]]}],\"heatmap\":[{\"type\":\"heatmap\",\"colorbar\":{\"outlinewidth\":0,\"ticks\":\"\"},\"colorscale\":[[0.0,\"#0d0887\"],[0.1111111111111111,\"#46039f\"],[0.2222222222222222,\"#7201a8\"],[0.3333333333333333,\"#9c179e\"],[0.4444444444444444,\"#bd3786\"],[0.5555555555555556,\"#d8576b\"],[0.6666666666666666,\"#ed7953\"],[0.7777777777777778,\"#fb9f3a\"],[0.8888888888888888,\"#fdca26\"],[1.0,\"#f0f921\"]]}],\"heatmapgl\":[{\"type\":\"heatmapgl\",\"colorbar\":{\"outlinewidth\":0,\"ticks\":\"\"},\"colorscale\":[[0.0,\"#0d0887\"],[0.1111111111111111,\"#46039f\"],[0.2222222222222222,\"#7201a8\"],[0.3333333333333333,\"#9c179e\"],[0.4444444444444444,\"#bd3786\"],[0.5555555555555556,\"#d8576b\"],[0.6666666666666666,\"#ed7953\"],[0.7777777777777778,\"#fb9f3a\"],[0.8888888888888888,\"#fdca26\"],[1.0,\"#f0f921\"]]}],\"contourcarpet\":[{\"type\":\"contourcarpet\",\"colorbar\":{\"outlinewidth\":0,\"ticks\":\"\"}}],\"contour\":[{\"type\":\"contour\",\"colorbar\":{\"outlinewidth\":0,\"ticks\":\"\"},\"colorscale\":[[0.0,\"#0d0887\"],[0.1111111111111111,\"#46039f\"],[0.2222222222222222,\"#7201a8\"],[0.3333333333333333,\"#9c179e\"],[0.4444444444444444,\"#bd3786\"],[0.5555555555555556,\"#d8576b\"],[0.6666666666666666,\"#ed7953\"],[0.7777777777777778,\"#fb9f3a\"],[0.8888888888888888,\"#fdca26\"],[1.0,\"#f0f921\"]]}],\"surface\":[{\"type\":\"surface\",\"colorbar\":{\"outlinewidth\":0,\"ticks\":\"\"},\"colorscale\":[[0.0,\"#0d0887\"],[0.1111111111111111,\"#46039f\"],[0.2222222222222222,\"#7201a8\"],[0.3333333333333333,\"#9c179e\"],[0.4444444444444444,\"#bd3786\"],[0.5555555555555556,\"#d8576b\"],[0.6666666666666666,\"#ed7953\"],[0.7777777777777778,\"#fb9f3a\"],[0.8888888888888888,\"#fdca26\"],[1.0,\"#f0f921\"]]}],\"mesh3d\":[{\"type\":\"mesh3d\",\"colorbar\":{\"outlinewidth\":0,\"ticks\":\"\"}}],\"scatter\":[{\"fillpattern\":{\"fillmode\":\"overlay\",\"size\":10,\"solidity\":0.2},\"type\":\"scatter\"}],\"parcoords\":[{\"type\":\"parcoords\",\"line\":{\"colorbar\":{\"outlinewidth\":0,\"ticks\":\"\"}}}],\"scatterpolargl\":[{\"type\":\"scatterpolargl\",\"marker\":{\"colorbar\":{\"outlinewidth\":0,\"ticks\":\"\"}}}],\"bar\":[{\"error_x\":{\"color\":\"#2a3f5f\"},\"error_y\":{\"color\":\"#2a3f5f\"},\"marker\":{\"line\":{\"color\":\"#E5ECF6\",\"width\":0.5},\"pattern\":{\"fillmode\":\"overlay\",\"size\":10,\"solidity\":0.2}},\"type\":\"bar\"}],\"scattergeo\":[{\"type\":\"scattergeo\",\"marker\":{\"colorbar\":{\"outlinewidth\":0,\"ticks\":\"\"}}}],\"scatterpolar\":[{\"type\":\"scatterpolar\",\"marker\":{\"colorbar\":{\"outlinewidth\":0,\"ticks\":\"\"}}}],\"histogram\":[{\"marker\":{\"pattern\":{\"fillmode\":\"overlay\",\"size\":10,\"solidity\":0.2}},\"type\":\"histogram\"}],\"scattergl\":[{\"type\":\"scattergl\",\"marker\":{\"colorbar\":{\"outlinewidth\":0,\"ticks\":\"\"}}}],\"scatter3d\":[{\"type\":\"scatter3d\",\"line\":{\"colorbar\":{\"outlinewidth\":0,\"ticks\":\"\"}},\"marker\":{\"colorbar\":{\"outlinewidth\":0,\"ticks\":\"\"}}}],\"scattermapbox\":[{\"type\":\"scattermapbox\",\"marker\":{\"colorbar\":{\"outlinewidth\":0,\"ticks\":\"\"}}}],\"scatterternary\":[{\"type\":\"scatterternary\",\"marker\":{\"colorbar\":{\"outlinewidth\":0,\"ticks\":\"\"}}}],\"scattercarpet\":[{\"type\":\"scattercarpet\",\"marker\":{\"colorbar\":{\"outlinewidth\":0,\"ticks\":\"\"}}}],\"carpet\":[{\"aaxis\":{\"endlinecolor\":\"#2a3f5f\",\"gridcolor\":\"white\",\"linecolor\":\"white\",\"minorgridcolor\":\"white\",\"startlinecolor\":\"#2a3f5f\"},\"baxis\":{\"endlinecolor\":\"#2a3f5f\",\"gridcolor\":\"white\",\"linecolor\":\"white\",\"minorgridcolor\":\"white\",\"startlinecolor\":\"#2a3f5f\"},\"type\":\"carpet\"}],\"table\":[{\"cells\":{\"fill\":{\"color\":\"#EBF0F8\"},\"line\":{\"color\":\"white\"}},\"header\":{\"fill\":{\"color\":\"#C8D4E3\"},\"line\":{\"color\":\"white\"}},\"type\":\"table\"}],\"barpolar\":[{\"marker\":{\"line\":{\"color\":\"#E5ECF6\",\"width\":0.5},\"pattern\":{\"fillmode\":\"overlay\",\"size\":10,\"solidity\":0.2}},\"type\":\"barpolar\"}],\"pie\":[{\"automargin\":true,\"type\":\"pie\"}]},\"layout\":{\"autotypenumbers\":\"strict\",\"colorway\":[\"#636efa\",\"#EF553B\",\"#00cc96\",\"#ab63fa\",\"#FFA15A\",\"#19d3f3\",\"#FF6692\",\"#B6E880\",\"#FF97FF\",\"#FECB52\"],\"font\":{\"color\":\"#2a3f5f\"},\"hovermode\":\"closest\",\"hoverlabel\":{\"align\":\"left\"},\"paper_bgcolor\":\"white\",\"plot_bgcolor\":\"#E5ECF6\",\"polar\":{\"bgcolor\":\"#E5ECF6\",\"angularaxis\":{\"gridcolor\":\"white\",\"linecolor\":\"white\",\"ticks\":\"\"},\"radialaxis\":{\"gridcolor\":\"white\",\"linecolor\":\"white\",\"ticks\":\"\"}},\"ternary\":{\"bgcolor\":\"#E5ECF6\",\"aaxis\":{\"gridcolor\":\"white\",\"linecolor\":\"white\",\"ticks\":\"\"},\"baxis\":{\"gridcolor\":\"white\",\"linecolor\":\"white\",\"ticks\":\"\"},\"caxis\":{\"gridcolor\":\"white\",\"linecolor\":\"white\",\"ticks\":\"\"}},\"coloraxis\":{\"colorbar\":{\"outlinewidth\":0,\"ticks\":\"\"}},\"colorscale\":{\"sequential\":[[0.0,\"#0d0887\"],[0.1111111111111111,\"#46039f\"],[0.2222222222222222,\"#7201a8\"],[0.3333333333333333,\"#9c179e\"],[0.4444444444444444,\"#bd3786\"],[0.5555555555555556,\"#d8576b\"],[0.6666666666666666,\"#ed7953\"],[0.7777777777777778,\"#fb9f3a\"],[0.8888888888888888,\"#fdca26\"],[1.0,\"#f0f921\"]],\"sequentialminus\":[[0.0,\"#0d0887\"],[0.1111111111111111,\"#46039f\"],[0.2222222222222222,\"#7201a8\"],[0.3333333333333333,\"#9c179e\"],[0.4444444444444444,\"#bd3786\"],[0.5555555555555556,\"#d8576b\"],[0.6666666666666666,\"#ed7953\"],[0.7777777777777778,\"#fb9f3a\"],[0.8888888888888888,\"#fdca26\"],[1.0,\"#f0f921\"]],\"diverging\":[[0,\"#8e0152\"],[0.1,\"#c51b7d\"],[0.2,\"#de77ae\"],[0.3,\"#f1b6da\"],[0.4,\"#fde0ef\"],[0.5,\"#f7f7f7\"],[0.6,\"#e6f5d0\"],[0.7,\"#b8e186\"],[0.8,\"#7fbc41\"],[0.9,\"#4d9221\"],[1,\"#276419\"]]},\"xaxis\":{\"gridcolor\":\"white\",\"linecolor\":\"white\",\"ticks\":\"\",\"title\":{\"standoff\":15},\"zerolinecolor\":\"white\",\"automargin\":true,\"zerolinewidth\":2},\"yaxis\":{\"gridcolor\":\"white\",\"linecolor\":\"white\",\"ticks\":\"\",\"title\":{\"standoff\":15},\"zerolinecolor\":\"white\",\"automargin\":true,\"zerolinewidth\":2},\"scene\":{\"xaxis\":{\"backgroundcolor\":\"#E5ECF6\",\"gridcolor\":\"white\",\"linecolor\":\"white\",\"showbackground\":true,\"ticks\":\"\",\"zerolinecolor\":\"white\",\"gridwidth\":2},\"yaxis\":{\"backgroundcolor\":\"#E5ECF6\",\"gridcolor\":\"white\",\"linecolor\":\"white\",\"showbackground\":true,\"ticks\":\"\",\"zerolinecolor\":\"white\",\"gridwidth\":2},\"zaxis\":{\"backgroundcolor\":\"#E5ECF6\",\"gridcolor\":\"white\",\"linecolor\":\"white\",\"showbackground\":true,\"ticks\":\"\",\"zerolinecolor\":\"white\",\"gridwidth\":2}},\"shapedefaults\":{\"line\":{\"color\":\"#2a3f5f\"}},\"annotationdefaults\":{\"arrowcolor\":\"#2a3f5f\",\"arrowhead\":0,\"arrowwidth\":1},\"geo\":{\"bgcolor\":\"white\",\"landcolor\":\"#E5ECF6\",\"subunitcolor\":\"white\",\"showland\":true,\"showlakes\":true,\"lakecolor\":\"white\"},\"title\":{\"x\":0.05},\"mapbox\":{\"style\":\"light\"}}},\"xaxis\":{\"anchor\":\"y\",\"domain\":[0.0,1.0],\"title\":{\"text\":\"Arrecada\\u00e7\\u00e3o do Filme em D\\u00f3lares\"}},\"yaxis\":{\"anchor\":\"x\",\"domain\":[0.0,0.8316],\"title\":{\"text\":\"Quantidade de Filmes\"}},\"xaxis2\":{\"anchor\":\"y2\",\"domain\":[0.0,1.0],\"matches\":\"x\",\"showticklabels\":false,\"showgrid\":true},\"yaxis2\":{\"anchor\":\"x2\",\"domain\":[0.8416,1.0],\"matches\":\"y2\",\"showticklabels\":false,\"showline\":false,\"ticks\":\"\",\"showgrid\":false},\"legend\":{\"tracegroupgap\":0},\"title\":{\"text\":\"Distribui\\u00e7\\u00e3o da Arrecada\\u00e7\\u00e3o dos Filmes\"},\"barmode\":\"relative\"},                        {\"responsive\": true}                    ).then(function(){\n",
       "                            \n",
       "var gd = document.getElementById('92e6be38-6b73-48d5-94fa-8082c3f93d3b');\n",
       "var x = new MutationObserver(function (mutations, observer) {{\n",
       "        var display = window.getComputedStyle(gd).display;\n",
       "        if (!display || display === 'none') {{\n",
       "            console.log([gd, 'removed!']);\n",
       "            Plotly.purge(gd);\n",
       "            observer.disconnect();\n",
       "        }}\n",
       "}});\n",
       "\n",
       "// Listen for the removal of the full notebook cells\n",
       "var notebookContainer = gd.closest('#notebook-container');\n",
       "if (notebookContainer) {{\n",
       "    x.observe(notebookContainer, {childList: true});\n",
       "}}\n",
       "\n",
       "// Listen for the clearing of the current output cell\n",
       "var outputEl = gd.closest('.output');\n",
       "if (outputEl) {{\n",
       "    x.observe(outputEl, {childList: true});\n",
       "}}\n",
       "\n",
       "                        })                };                });            </script>        </div>"
      ]
     },
     "metadata": {},
     "output_type": "display_data"
    }
   ],
   "source": [
    "# Distribuição da Arrecadação dos Filmes\n",
    "fig = px.histogram(\n",
    "    x=df.Gross, \n",
    "    title=\"Distribuição da Arrecadação dos Filmes\",\n",
    "    marginal=\"box\",\n",
    "    labels={\"x\": \"Arrecadação do Filme em Dólares\"}\n",
    "    ).update_traces(marker_color=\"DarkOliveGreen\").update_layout(yaxis_title=\"Quantidade de Filmes\")\n",
    "fig.show()"
   ]
  },
  {
   "cell_type": "markdown",
   "metadata": {},
   "source": [
    "## 4.2. Análise Bivariada"
   ]
  },
  {
   "cell_type": "markdown",
   "metadata": {},
   "source": [
    "**Média de arrecadação dos 15 diretores mais recorrentes no Top 1000**: Para\n",
    "a visualização, escolheu-se um gráfico de barras para comparar visualmente as médias de arrecadação dos diferentes diretores mais recorrentes.\n",
    "\n",
    "Pelo gráfico, nota-se que os diretores mais recorrentes no Top 1000, não necessariamente são aqueles com mais arrecadações. Muitos motivos podem explicar isso, entre eles, a época dos filmes.\n"
   ]
  },
  {
   "cell_type": "code",
   "execution_count": 37,
   "metadata": {
    "scrolled": true
   },
   "outputs": [
    {
     "data": {
      "image/png": "[encoded data removed]",
      "text/plain": [
       "<Figure size 1080x1080 with 1 Axes>"
      ]
     },
     "metadata": {
      "needs_background": "light"
     },
     "output_type": "display_data"
    }
   ],
   "source": [
    "diretores_mais_presentes = df.Director.value_counts().head(15).index\n",
    "\n",
    "df_diretores_mais_presentes = df[df['Director'].isin(diretores_mais_presentes)]\n",
    "df_diretores_mais_presentes_media = df_diretores_mais_presentes.groupby('Director').mean().reset_index()\n",
    "\n",
    "plt.figure(figsize=(15, 15))\n",
    "\n",
    "plt.xticks(rotation=45)\n",
    "\n",
    "\n",
    "fig = sns.barplot(data=df_diretores_mais_presentes_media, x=\"Director\", y=\"Gross\")\n",
    "\n",
    "\n",
    "plt.xlabel(\"Diretores mais recorrentes\")\n",
    "plt.ylabel(\"Arrecadação (em milhões de dólares)\")\n",
    "plt.title(\"Média de arrecadação dos 15 diretores mais recorrentes no TOP 1000\")\n",
    "\n",
    "plt.show()\n",
    "# fig.set(xlabel =\"Diretores mais recorrentes\", ylabel = \"Arrecadação (em milhões de dólares)\",\n",
    "#         title ='Arrecadação dos 15 diretores mais recorrentes no TOP 1000')\n"
   ]
  },
  {
   "cell_type": "markdown",
   "metadata": {},
   "source": [
    "**Comparação das médias de arrecadação dos diretores mais recorrentes vs. diretores menos recorrentes no Top 1000**"
   ]
  },
  {
   "cell_type": "code",
   "execution_count": 38,
   "metadata": {},
   "outputs": [
    {
     "name": "stdout",
     "output_type": "stream",
     "text": [
      "Média diretores menos recorrentes $78,405,553.90\n",
      "Média diretores mais recorrentes $79,076,287.58\n"
     ]
    }
   ],
   "source": [
    "media_mais = df_diretores_mais_presentes.Gross.mean()\n",
    "\n",
    "df_diretores_menos_presentes = df[ ~(df['Director'].isin(diretores_mais_presentes))]\n",
    "media_menos = df_diretores_menos_presentes.Gross.mean()\n",
    "\n",
    "locale.setlocale(locale.LC_MONETARY, 'en_US.UTF-8')\n",
    "\n",
    "print(f'Média diretores menos recorrentes {locale.currency(media_menos, grouping=True)}')\n",
    "print(f'Média diretores mais recorrentes {locale.currency(media_mais, grouping=True)}')"
   ]
  },
  {
   "cell_type": "markdown",
   "metadata": {},
   "source": [
    "**Média das notas no IMDB dos 15 diretores mais recorrentes no Top 1000**: Para\n",
    "a visualização, escolheu-se um gráfico de barras para comparar visualmente as médias das notas dos diferentes diretores mais recorrentes.\n",
    "\n",
    "Pelo gráfico, nota-se que os diretores mais recorrentes no Top 1000, possuem notas altas, não havendo diferenças significativas entre os diretores.\n"
   ]
  },
  {
   "cell_type": "code",
   "execution_count": 39,
   "metadata": {},
   "outputs": [
    {
     "data": {
      "image/png": "[encoded data removed]",
      "text/plain": [
       "<Figure size 1080x864 with 1 Axes>"
      ]
     },
     "metadata": {
      "needs_background": "light"
     },
     "output_type": "display_data"
    }
   ],
   "source": [
    "plt.figure(figsize=(15, 12))\n",
    "\n",
    "plt.xticks(rotation=45)\n",
    "\n",
    "fig = sns.barplot(data=df_diretores_mais_presentes_media, x=\"Director\", y=\"IMDB_Rating\")\n",
    "\n",
    "plt.xlabel(\"Diretores mais recorrentes\")\n",
    "plt.ylabel(\"Nota no IMDB)\")\n",
    "plt.title(\"Média das notas no IMDB dos 15 diretores mais recorrentes no TOP 1000\")\n",
    "\n",
    "plt.show()"
   ]
  },
  {
   "cell_type": "markdown",
   "metadata": {},
   "source": [
    "**Comparação das médias de notas dos diretores mais recorrentes vs. diretores menos recorrentes no Top 1000**"
   ]
  },
  {
   "cell_type": "code",
   "execution_count": 40,
   "metadata": {},
   "outputs": [
    {
     "name": "stdout",
     "output_type": "stream",
     "text": [
      "Média nota dos diretores menos recorrentes 7.94\n",
      "Média nota dos diretores mais recorrentes 8.05\n"
     ]
    }
   ],
   "source": [
    "media_mais = df_diretores_mais_presentes.IMDB_Rating.mean()\n",
    "\n",
    "df_diretores_menos_presentes = df[ ~(df['IMDB_Rating'].isin(diretores_mais_presentes))]\n",
    "media_menos = df_diretores_menos_presentes.IMDB_Rating.mean()\n",
    "\n",
    "print(f'Média nota dos diretores menos recorrentes {round(media_menos, 2)}')\n",
    "print(f'Média nota dos diretores mais recorrentes {round(media_mais, 2)}')"
   ]
  },
  {
   "cell_type": "markdown",
   "metadata": {},
   "source": [
    "**Média das arrecadações através dos anos de lançamento**: Para\n",
    "a visualização, escolheu-se um gráfico de linhas para comparar visualmente as médias das arrecadações ao longo do tempo.\n",
    "\n",
    "Pelo gráfico, nota-se que há uma tendência de aumento das arrecadações ao longo do tempo.\n"
   ]
  },
  {
   "cell_type": "code",
   "execution_count": 41,
   "metadata": {},
   "outputs": [
    {
     "data": {
      "image/png": "[encoded data removed]",
      "text/plain": [
       "<Figure size 1080x720 with 1 Axes>"
      ]
     },
     "metadata": {
      "needs_background": "light"
     },
     "output_type": "display_data"
    }
   ],
   "source": [
    "df_years = df.groupby('Released_Year').mean().reset_index()\n",
    "\n",
    "plt.figure(figsize=(15, 10))\n",
    "\n",
    "plt.xlabel(\"Ano de Lançamento\")\n",
    "plt.ylabel(\"Média das arrecadações\")\n",
    "plt.title(\"Média das arrecadações através dos anos de lançamento\")\n",
    "\n",
    "sns.lineplot(data=df_years, x=\"Released_Year\", y=\"Gross\")\n",
    "\n",
    "plt.show()"
   ]
  },
  {
   "cell_type": "markdown",
   "metadata": {},
   "source": [
    "## 4.3. Análise Multivariada"
   ]
  },
  {
   "cell_type": "markdown",
   "metadata": {},
   "source": [
    "**Correlação entre as variáveis**: Para a visualização, escolheu-se um mapa de calor para comparar visualmente as correlações.\n",
    "\n",
    "Pelo gráfico, percebe-se as diferentes correlações entre as variáveis. Destacando-se, IMDB_Rating e No_of_Votes com forte correlação.\n"
   ]
  },
  {
   "cell_type": "code",
   "execution_count": 42,
   "metadata": {
    "scrolled": true
   },
   "outputs": [
    {
     "data": {
      "text/plain": [
       "Text(0.5, 1.0, 'Correlações entre atributo')"
      ]
     },
     "execution_count": 42,
     "metadata": {},
     "output_type": "execute_result"
    },
    {
     "data": {
      "image/png": "[encoded data removed]",
      "text/plain": [
       "<Figure size 1080x1080 with 2 Axes>"
      ]
     },
     "metadata": {
      "needs_background": "light"
     },
     "output_type": "display_data"
    }
   ],
   "source": [
    "# Mapa de calor das correlações\n",
    "df_variaveis_numericas = df.select_dtypes(include='number')\n",
    "df_variaveis_numericas.drop(columns = \"Released_Year\", inplace = True)\n",
    "correlations = df_variaveis_numericas.corr()\n",
    "\n",
    "plt.figure(figsize=(15, 15))\n",
    "sns.heatmap(correlations, annot=True, cmap='RdBu', vmin=-1.0, vmax=1.0)\n",
    "plt.title('Correlações entre atributo')"
   ]
  },
  {
   "cell_type": "markdown",
   "metadata": {},
   "source": [
    "**Correlação entre as variáveis**: Para\n",
    "a visualização, escolheu-se uma matriz de gráficos de dispersão, em que cada célula da matriz mostra a relação entre duas variáveis com uma linha de regressão linear nos gráficos de dispersão. E os gráficos diagonais exibem histogramas.\n",
    "\n",
    "Pelo gráfico, percebe-se as diferentes correlações entre as variáveis. Destacando-se, a ausência de uma tendência explícita e clara, parecendo ser distribuições ruidosas.\n"
   ]
  },
  {
   "cell_type": "code",
   "execution_count": 43,
   "metadata": {},
   "outputs": [
    {
     "data": {
      "text/plain": [
       "<seaborn.axisgrid.PairGrid at 0x7fbabd0a7f10>"
      ]
     },
     "execution_count": 43,
     "metadata": {},
     "output_type": "execute_result"
    },
    {
     "data": {
      "text/plain": [
       "<Figure size 1080x1080 with 0 Axes>"
      ]
     },
     "metadata": {},
     "output_type": "display_data"
    },
    {
     "data": {
      "image/png": "[encoded data removed]",
      "text/plain": [
       "<Figure size 1152x1440 with 20 Axes>"
      ]
     },
     "metadata": {
      "needs_background": "light"
     },
     "output_type": "display_data"
    }
   ],
   "source": [
    "plt.figure(figsize=(15, 15))\n",
    "\n",
    "sns.pairplot(df_variaveis_numericas, kind=\"reg\", height=5, aspect=.8)  "
   ]
  },
  {
   "cell_type": "markdown",
   "metadata": {},
   "source": [
    "**Correlação entre Gross e Meta_score**: Para a visualização, escolheu-se uma tabela (matriz de correlações).\n",
    "\n",
    "Pela tabela, percebe-se ausência de correlação entre as duas variáveis.\n"
   ]
  },
  {
   "cell_type": "code",
   "execution_count": 44,
   "metadata": {},
   "outputs": [
    {
     "data": {
      "text/html": [
       "<div>\n",
       "<style scoped>\n",
       "    .dataframe tbody tr th:only-of-type {\n",
       "        vertical-align: middle;\n",
       "    }\n",
       "\n",
       "    .dataframe tbody tr th {\n",
       "        vertical-align: top;\n",
       "    }\n",
       "\n",
       "    .dataframe thead th {\n",
       "        text-align: right;\n",
       "    }\n",
       "</style>\n",
       "<table border=\"1\" class=\"dataframe\">\n",
       "  <thead>\n",
       "    <tr style=\"text-align: right;\">\n",
       "      <th></th>\n",
       "      <th>Gross</th>\n",
       "      <th>Meta_score</th>\n",
       "    </tr>\n",
       "  </thead>\n",
       "  <tbody>\n",
       "    <tr>\n",
       "      <th>Gross</th>\n",
       "      <td>1.000000</td>\n",
       "      <td>-0.014801</td>\n",
       "    </tr>\n",
       "    <tr>\n",
       "      <th>Meta_score</th>\n",
       "      <td>-0.014801</td>\n",
       "      <td>1.000000</td>\n",
       "    </tr>\n",
       "  </tbody>\n",
       "</table>\n",
       "</div>"
      ],
      "text/plain": [
       "               Gross  Meta_score\n",
       "Gross       1.000000   -0.014801\n",
       "Meta_score -0.014801    1.000000"
      ]
     },
     "execution_count": 44,
     "metadata": {},
     "output_type": "execute_result"
    }
   ],
   "source": [
    "df[[\"Gross\", \"Meta_score\"]].corr()"
   ]
  }
 ],
 "metadata": {
  "kernelspec": {
   "display_name": "Python 3 (ipykernel)",
   "language": "python",
   "name": "python3"
  },
  "language_info": {
   "codemirror_mode": {
    "name": "ipython",
    "version": 3
   },
   "file_extension": ".py",
   "mimetype": "text/x-python",
   "name": "python",
   "nbconvert_exporter": "python",
   "pygments_lexer": "ipython3",
   "version": "3.9.12"
  }
 },
 "nbformat": 4,
 "nbformat_minor": 2
}
