{
 "cells": [
  {
   "cell_type": "markdown",
   "metadata": {},
   "source": [
    "# IMDB Data Visualization\n",
    "\n",
    "## Projeto da disciplina **SSC0252 - Visualização Computacional**\n",
    "\n",
    "* Arthur Santorum Lorenzetto - arts.lorenzetto@usp.br - 12559465\n",
    "\n",
    "* Lucas Ivars Cadima Ciziks - luciziks@usp.br - 12559472\n",
    "\n",
    "* Gustavo Silva de Oliveira - guspfc03@usp.br - 12567231\n",
    "\n",
    "---"
   ]
  },
  {
   "cell_type": "markdown",
   "metadata": {},
   "source": [
    "# 1. Introdução"
   ]
  },
  {
   "cell_type": "markdown",
   "metadata": {},
   "source": [
    "O conjunto de dados ***IMDB Movies*** é uma valiosa fonte de informações para pesquisadores do mundo cinematográfico. Composta por uma seleção dos 1000 filmes mais bem avaliados na plataforma IMDB, essa base oferece uma visão abrangente das tendências culturais. Cada filme na base possui atributos interessantes, como o título do filme, os gêneros a que pertencem, o *rating* no IMDB e seu ano de lançamento, proporcionando assim um conjunto de dados robusto que pode ser utilizado para análises de tendências audiovisuais, pesquisas culturais e até mesmo em sistemas de recomendações. A riqueza de informações contidas nessa base de dados a torna uma ferramenta indispensável para explorar e compreender a evolução do cinema ao longo das décadas."
   ]
  },
  {
   "cell_type": "markdown",
   "metadata": {},
   "source": [
    "---"
   ]
  },
  {
   "cell_type": "markdown",
   "metadata": {},
   "source": [
    "# 2. Compreensão dos Dados"
   ]
  },
  {
   "cell_type": "markdown",
   "metadata": {},
   "source": [
    "O projeto está armazenado no respositório disponível em [Github](https://github.com/ciziks/IMDB-data-visualization)."
   ]
  },
  {
   "cell_type": "markdown",
   "metadata": {},
   "source": [
    "## 2.1. Coleta dos Dados"
   ]
  },
  {
   "cell_type": "markdown",
   "metadata": {},
   "source": [
    "O conjunto de dados utilizado para a análise do projeto foi extraído da plataforma Kaggle, disponível em [IMDB Movies Dataset](https://www.kaggle.com/datasets/harshitshankhdhar/imdb-dataset-of-top-1000-movies-and-tv-shows). Os dados se referem às 1000 produções audiovisuais com maior nota no site [IMDB](https://www.imdb.com)."
   ]
  },
  {
   "cell_type": "markdown",
   "metadata": {},
   "source": [
    "## 2.2. Dicionário de Dados"
   ]
  },
  {
   "cell_type": "markdown",
   "metadata": {},
   "source": [
    "* **Series_Title**: Nome do Filme;\n",
    "\n",
    "* **Released_Year** - Ano de lançamento do Filme;\n",
    "\n",
    "* **Certificate** - Certificado do Filme;\n",
    "\n",
    "* **Runtime** - Duração total do Filme;\n",
    "\n",
    "* **Genre** - Gêneros do Filme;\n",
    "\n",
    "* **IMDB_Rating** - Nota do Filme no site do IMDB (0 - 10);\n",
    "\n",
    "* **Overview** - Sinopse do Filme;\n",
    "\n",
    "* **Meta_score** - Nota do Filme no site do MetaCritic (0 - 100);\n",
    "\n",
    "* **Director** - Nome do Diretor;\n",
    "\n",
    "* **Star1, Star2, Star3, Star4** - Nome dos atores que estrelaram o Filme;\n",
    "\n",
    "* **No_of_votes** - Número de votos do Filme;\n",
    "\n",
    "* **Gross** - Arrecadação do Filme;\n",
    "\n",
    "* **Poster_Link** - Link do poster do Filme no IMDB."
   ]
  },
  {
   "cell_type": "markdown",
   "metadata": {},
   "source": [
    "## 2.3. Tipo das Variáveis"
   ]
  },
  {
   "cell_type": "markdown",
   "metadata": {},
   "source": [
    "* **Variáveis Qualitativas**\n",
    "    * Ordinais\n",
    "        * Released_Year;\n",
    "        * Certificate.\n",
    "\n",
    "    * Nominais:\n",
    "        * Series_Title;\n",
    "        * Genre;\n",
    "        * Overview;\n",
    "        * Director;\n",
    "        * Star1, Star2, Star3, Star4.\n",
    "\n",
    "\n",
    "\n",
    "* **Variáveis Quantitativas**:\n",
    "    * Discretas:\n",
    "        * Runtime;\n",
    "        * Meta_score;\n",
    "        * No_of_Votes.\n",
    "\n",
    "    * Contínuas:\n",
    "        * IMDB_Rating;\n",
    "        * Gross."
   ]
  },
  {
   "cell_type": "markdown",
   "metadata": {},
   "source": [
    "## 2.4. Questionamentos Iniciais\n",
    "\n",
    "* Como as características (duração, gênero, classificação indicativa, etc...) dos filmes no Top 1000 estão distribuídas?\n",
    "\n",
    "* Como os filmes do Top 1000 estãos distríbuidos no decorrer dos anos?\n",
    "\n",
    "* Quais diretores estão associados aos maiores *ratings*?\n",
    "\n",
    "* Que diretores mais arrecadaram com seus filmes?\n",
    "\n",
    "* Existe uma correlação da duração do filme com sua arrecadação?\n",
    "\n",
    "* Como o *rating* do filme está correlacionado com sua arrecadação (*gross*)?\n",
    "\n",
    "* Quais as palavras mais comuns nas sinopses dos filmes?\n",
    "\n",
    "* Existe uma correlação entre a nota no IMDB e o MetaScore?\n",
    "\n",
    "* Qual nota explica melhor a arrecadação do filme: IMDB ou MetaCritic?\n",
    "\n",
    "* Qual combinação de atores apresentam os melhores resultados de bilheteria?"
   ]
  },
  {
   "cell_type": "markdown",
   "metadata": {},
   "source": [
    "---"
   ]
  },
  {
   "cell_type": "markdown",
   "metadata": {},
   "source": [
    "# 3. Tratamento dos Dados"
   ]
  },
  {
   "cell_type": "code",
   "execution_count": 40,
   "metadata": {},
   "outputs": [],
   "source": [
    "# Importando Bibliotecas\n",
    "import pandas as pd\n",
    "import re\n",
    "import seaborn as sns\n",
    "import matplotlib.pyplot as plt\n",
    "import plotly.express as px\n",
    "import locale\n",
    "from sklearn.preprocessing import MinMaxScaler\n",
    "import numpy as np\n",
    "from sklearn.preprocessing import StandardScaler\n",
    "\n",
    "import warnings\n",
    "warnings.filterwarnings(\"ignore\")\n",
    "\n",
    "import matplotlib.cm as cm\n",
    "import matplotlib.colors as mcolors"
   ]
  },
  {
   "cell_type": "code",
   "execution_count": 41,
   "metadata": {
    "scrolled": true
   },
   "outputs": [
    {
     "data": {
      "text/html": [
       "<div>\n",
       "<style scoped>\n",
       "    .dataframe tbody tr th:only-of-type {\n",
       "        vertical-align: middle;\n",
       "    }\n",
       "\n",
       "    .dataframe tbody tr th {\n",
       "        vertical-align: top;\n",
       "    }\n",
       "\n",
       "    .dataframe thead th {\n",
       "        text-align: right;\n",
       "    }\n",
       "</style>\n",
       "<table border=\"1\" class=\"dataframe\">\n",
       "  <thead>\n",
       "    <tr style=\"text-align: right;\">\n",
       "      <th></th>\n",
       "      <th>Poster_Link</th>\n",
       "      <th>Series_Title</th>\n",
       "      <th>Released_Year</th>\n",
       "      <th>Certificate</th>\n",
       "      <th>Runtime</th>\n",
       "      <th>Genre</th>\n",
       "      <th>IMDB_Rating</th>\n",
       "      <th>Overview</th>\n",
       "      <th>Meta_score</th>\n",
       "      <th>Director</th>\n",
       "      <th>Star1</th>\n",
       "      <th>Star2</th>\n",
       "      <th>Star3</th>\n",
       "      <th>Star4</th>\n",
       "      <th>No_of_Votes</th>\n",
       "      <th>Gross</th>\n",
       "    </tr>\n",
       "  </thead>\n",
       "  <tbody>\n",
       "    <tr>\n",
       "      <th>0</th>\n",
       "      <td>https://m.media-amazon.com/images/M/MV5BMDFkYT...</td>\n",
       "      <td>The Shawshank Redemption</td>\n",
       "      <td>1994</td>\n",
       "      <td>A</td>\n",
       "      <td>142 min</td>\n",
       "      <td>Drama</td>\n",
       "      <td>9.3</td>\n",
       "      <td>Two imprisoned men bond over a number of years...</td>\n",
       "      <td>80.0</td>\n",
       "      <td>Frank Darabont</td>\n",
       "      <td>Tim Robbins</td>\n",
       "      <td>Morgan Freeman</td>\n",
       "      <td>Bob Gunton</td>\n",
       "      <td>William Sadler</td>\n",
       "      <td>2343110</td>\n",
       "      <td>28,341,469</td>\n",
       "    </tr>\n",
       "    <tr>\n",
       "      <th>1</th>\n",
       "      <td>https://m.media-amazon.com/images/M/MV5BM2MyNj...</td>\n",
       "      <td>The Godfather</td>\n",
       "      <td>1972</td>\n",
       "      <td>A</td>\n",
       "      <td>175 min</td>\n",
       "      <td>Crime, Drama</td>\n",
       "      <td>9.2</td>\n",
       "      <td>An organized crime dynasty's aging patriarch t...</td>\n",
       "      <td>100.0</td>\n",
       "      <td>Francis Ford Coppola</td>\n",
       "      <td>Marlon Brando</td>\n",
       "      <td>Al Pacino</td>\n",
       "      <td>James Caan</td>\n",
       "      <td>Diane Keaton</td>\n",
       "      <td>1620367</td>\n",
       "      <td>134,966,411</td>\n",
       "    </tr>\n",
       "    <tr>\n",
       "      <th>2</th>\n",
       "      <td>https://m.media-amazon.com/images/M/MV5BMTMxNT...</td>\n",
       "      <td>The Dark Knight</td>\n",
       "      <td>2008</td>\n",
       "      <td>UA</td>\n",
       "      <td>152 min</td>\n",
       "      <td>Action, Crime, Drama</td>\n",
       "      <td>9.0</td>\n",
       "      <td>When the menace known as the Joker wreaks havo...</td>\n",
       "      <td>84.0</td>\n",
       "      <td>Christopher Nolan</td>\n",
       "      <td>Christian Bale</td>\n",
       "      <td>Heath Ledger</td>\n",
       "      <td>Aaron Eckhart</td>\n",
       "      <td>Michael Caine</td>\n",
       "      <td>2303232</td>\n",
       "      <td>534,858,444</td>\n",
       "    </tr>\n",
       "    <tr>\n",
       "      <th>3</th>\n",
       "      <td>https://m.media-amazon.com/images/M/MV5BMWMwMG...</td>\n",
       "      <td>The Godfather: Part II</td>\n",
       "      <td>1974</td>\n",
       "      <td>A</td>\n",
       "      <td>202 min</td>\n",
       "      <td>Crime, Drama</td>\n",
       "      <td>9.0</td>\n",
       "      <td>The early life and career of Vito Corleone in ...</td>\n",
       "      <td>90.0</td>\n",
       "      <td>Francis Ford Coppola</td>\n",
       "      <td>Al Pacino</td>\n",
       "      <td>Robert De Niro</td>\n",
       "      <td>Robert Duvall</td>\n",
       "      <td>Diane Keaton</td>\n",
       "      <td>1129952</td>\n",
       "      <td>57,300,000</td>\n",
       "    </tr>\n",
       "    <tr>\n",
       "      <th>4</th>\n",
       "      <td>https://m.media-amazon.com/images/M/MV5BMWU4N2...</td>\n",
       "      <td>12 Angry Men</td>\n",
       "      <td>1957</td>\n",
       "      <td>U</td>\n",
       "      <td>96 min</td>\n",
       "      <td>Crime, Drama</td>\n",
       "      <td>9.0</td>\n",
       "      <td>A jury holdout attempts to prevent a miscarria...</td>\n",
       "      <td>96.0</td>\n",
       "      <td>Sidney Lumet</td>\n",
       "      <td>Henry Fonda</td>\n",
       "      <td>Lee J. Cobb</td>\n",
       "      <td>Martin Balsam</td>\n",
       "      <td>John Fiedler</td>\n",
       "      <td>689845</td>\n",
       "      <td>4,360,000</td>\n",
       "    </tr>\n",
       "  </tbody>\n",
       "</table>\n",
       "</div>"
      ],
      "text/plain": [
       "                                         Poster_Link  \\\n",
       "0  https://m.media-amazon.com/images/M/MV5BMDFkYT...   \n",
       "1  https://m.media-amazon.com/images/M/MV5BM2MyNj...   \n",
       "2  https://m.media-amazon.com/images/M/MV5BMTMxNT...   \n",
       "3  https://m.media-amazon.com/images/M/MV5BMWMwMG...   \n",
       "4  https://m.media-amazon.com/images/M/MV5BMWU4N2...   \n",
       "\n",
       "               Series_Title  Released_Year Certificate  Runtime  \\\n",
       "0  The Shawshank Redemption           1994           A  142 min   \n",
       "1             The Godfather           1972           A  175 min   \n",
       "2           The Dark Knight           2008          UA  152 min   \n",
       "3    The Godfather: Part II           1974           A  202 min   \n",
       "4              12 Angry Men           1957           U   96 min   \n",
       "\n",
       "                  Genre  IMDB_Rating  \\\n",
       "0                 Drama          9.3   \n",
       "1          Crime, Drama          9.2   \n",
       "2  Action, Crime, Drama          9.0   \n",
       "3          Crime, Drama          9.0   \n",
       "4          Crime, Drama          9.0   \n",
       "\n",
       "                                            Overview  Meta_score  \\\n",
       "0  Two imprisoned men bond over a number of years...        80.0   \n",
       "1  An organized crime dynasty's aging patriarch t...       100.0   \n",
       "2  When the menace known as the Joker wreaks havo...        84.0   \n",
       "3  The early life and career of Vito Corleone in ...        90.0   \n",
       "4  A jury holdout attempts to prevent a miscarria...        96.0   \n",
       "\n",
       "               Director           Star1           Star2          Star3  \\\n",
       "0        Frank Darabont     Tim Robbins  Morgan Freeman     Bob Gunton   \n",
       "1  Francis Ford Coppola   Marlon Brando       Al Pacino     James Caan   \n",
       "2     Christopher Nolan  Christian Bale    Heath Ledger  Aaron Eckhart   \n",
       "3  Francis Ford Coppola       Al Pacino  Robert De Niro  Robert Duvall   \n",
       "4          Sidney Lumet     Henry Fonda     Lee J. Cobb  Martin Balsam   \n",
       "\n",
       "            Star4  No_of_Votes        Gross  \n",
       "0  William Sadler      2343110   28,341,469  \n",
       "1    Diane Keaton      1620367  134,966,411  \n",
       "2   Michael Caine      2303232  534,858,444  \n",
       "3    Diane Keaton      1129952   57,300,000  \n",
       "4    John Fiedler       689845    4,360,000  "
      ]
     },
     "execution_count": 41,
     "metadata": {},
     "output_type": "execute_result"
    }
   ],
   "source": [
    "# Coletando Base de Dados\n",
    "df = pd.read_csv(\"./imdb_top_1000.csv\")\n",
    "df.head()"
   ]
  },
  {
   "cell_type": "code",
   "execution_count": 42,
   "metadata": {},
   "outputs": [
    {
     "data": {
      "text/html": [
       "<div>\n",
       "<style scoped>\n",
       "    .dataframe tbody tr th:only-of-type {\n",
       "        vertical-align: middle;\n",
       "    }\n",
       "\n",
       "    .dataframe tbody tr th {\n",
       "        vertical-align: top;\n",
       "    }\n",
       "\n",
       "    .dataframe thead th {\n",
       "        text-align: right;\n",
       "    }\n",
       "</style>\n",
       "<table border=\"1\" class=\"dataframe\">\n",
       "  <thead>\n",
       "    <tr style=\"text-align: right;\">\n",
       "      <th></th>\n",
       "      <th>Poster_Link</th>\n",
       "      <th>Series_Title</th>\n",
       "      <th>Released_Year</th>\n",
       "      <th>Certificate</th>\n",
       "      <th>Runtime</th>\n",
       "      <th>Genre</th>\n",
       "      <th>IMDB_Rating</th>\n",
       "      <th>Overview</th>\n",
       "      <th>Meta_score</th>\n",
       "      <th>Director</th>\n",
       "      <th>Star1</th>\n",
       "      <th>Star2</th>\n",
       "      <th>Star3</th>\n",
       "      <th>Star4</th>\n",
       "      <th>No_of_Votes</th>\n",
       "      <th>Gross</th>\n",
       "    </tr>\n",
       "  </thead>\n",
       "  <tbody>\n",
       "  </tbody>\n",
       "</table>\n",
       "</div>"
      ],
      "text/plain": [
       "Empty DataFrame\n",
       "Columns: [Poster_Link, Series_Title, Released_Year, Certificate, Runtime, Genre, IMDB_Rating, Overview, Meta_score, Director, Star1, Star2, Star3, Star4, No_of_Votes, Gross]\n",
       "Index: []"
      ]
     },
     "execution_count": 42,
     "metadata": {},
     "output_type": "execute_result"
    }
   ],
   "source": [
    "df.loc[df[\"Released_Year\"] == 79]"
   ]
  },
  {
   "cell_type": "code",
   "execution_count": 43,
   "metadata": {
    "scrolled": true
   },
   "outputs": [
    {
     "data": {
      "text/plain": [
       "Index(['Poster_Link', 'Series_Title', 'Released_Year', 'Certificate',\n",
       "       'Runtime', 'Genre', 'IMDB_Rating', 'Overview', 'Meta_score', 'Director',\n",
       "       'Star1', 'Star2', 'Star3', 'Star4', 'No_of_Votes', 'Gross'],\n",
       "      dtype='object')"
      ]
     },
     "execution_count": 43,
     "metadata": {},
     "output_type": "execute_result"
    }
   ],
   "source": [
    "# Visualizando colunas\n",
    "df.columns"
   ]
  },
  {
   "cell_type": "code",
   "execution_count": 44,
   "metadata": {},
   "outputs": [
    {
     "data": {
      "text/plain": [
       "Poster_Link       object\n",
       "Series_Title      object\n",
       "Released_Year      int64\n",
       "Certificate       object\n",
       "Runtime           object\n",
       "Genre             object\n",
       "IMDB_Rating      float64\n",
       "Overview          object\n",
       "Meta_score       float64\n",
       "Director          object\n",
       "Star1             object\n",
       "Star2             object\n",
       "Star3             object\n",
       "Star4             object\n",
       "No_of_Votes        int64\n",
       "Gross             object\n",
       "dtype: object"
      ]
     },
     "execution_count": 44,
     "metadata": {},
     "output_type": "execute_result"
    }
   ],
   "source": [
    "# Verificando Tipos das Colunas\n",
    "df.dtypes"
   ]
  },
  {
   "cell_type": "code",
   "execution_count": 45,
   "metadata": {},
   "outputs": [],
   "source": [
    "# Removendo coluna do Poster (Desinteressante à Análise)\n",
    "df.drop(columns=['Poster_Link'], inplace = True)"
   ]
  },
  {
   "cell_type": "code",
   "execution_count": 46,
   "metadata": {},
   "outputs": [],
   "source": [
    "# Transformando Gross em um valor numérico\n",
    "def gross_to_numeric(gross):\n",
    "    if isinstance(gross, str):\n",
    "        return float(\"\".join(re.findall(r\"\\d\", gross)))\n",
    "    return gross\n",
    "\n",
    "df[\"Gross\"] = df[\"Gross\"].apply(gross_to_numeric)"
   ]
  },
  {
   "cell_type": "code",
   "execution_count": 47,
   "metadata": {},
   "outputs": [
    {
     "data": {
      "text/plain": [
       "286"
      ]
     },
     "execution_count": 47,
     "metadata": {},
     "output_type": "execute_result"
    }
   ],
   "source": [
    "# 286 Filmes com valores nulos\n",
    "len(df[df.isna().any(axis=1)])"
   ]
  },
  {
   "cell_type": "code",
   "execution_count": 48,
   "metadata": {},
   "outputs": [
    {
     "data": {
      "text/html": [
       "<div>\n",
       "<style scoped>\n",
       "    .dataframe tbody tr th:only-of-type {\n",
       "        vertical-align: middle;\n",
       "    }\n",
       "\n",
       "    .dataframe tbody tr th {\n",
       "        vertical-align: top;\n",
       "    }\n",
       "\n",
       "    .dataframe thead th {\n",
       "        text-align: right;\n",
       "    }\n",
       "</style>\n",
       "<table border=\"1\" class=\"dataframe\">\n",
       "  <thead>\n",
       "    <tr style=\"text-align: right;\">\n",
       "      <th></th>\n",
       "      <th>Certificate</th>\n",
       "      <th>Meta_score</th>\n",
       "      <th>Gross</th>\n",
       "    </tr>\n",
       "  </thead>\n",
       "  <tbody>\n",
       "    <tr>\n",
       "      <th>0</th>\n",
       "      <td>A</td>\n",
       "      <td>80.0</td>\n",
       "      <td>28341469.0</td>\n",
       "    </tr>\n",
       "    <tr>\n",
       "      <th>1</th>\n",
       "      <td>A</td>\n",
       "      <td>100.0</td>\n",
       "      <td>134966411.0</td>\n",
       "    </tr>\n",
       "    <tr>\n",
       "      <th>2</th>\n",
       "      <td>UA</td>\n",
       "      <td>84.0</td>\n",
       "      <td>534858444.0</td>\n",
       "    </tr>\n",
       "    <tr>\n",
       "      <th>3</th>\n",
       "      <td>A</td>\n",
       "      <td>90.0</td>\n",
       "      <td>57300000.0</td>\n",
       "    </tr>\n",
       "    <tr>\n",
       "      <th>4</th>\n",
       "      <td>U</td>\n",
       "      <td>96.0</td>\n",
       "      <td>4360000.0</td>\n",
       "    </tr>\n",
       "    <tr>\n",
       "      <th>...</th>\n",
       "      <td>...</td>\n",
       "      <td>...</td>\n",
       "      <td>...</td>\n",
       "    </tr>\n",
       "    <tr>\n",
       "      <th>995</th>\n",
       "      <td>A</td>\n",
       "      <td>76.0</td>\n",
       "      <td>NaN</td>\n",
       "    </tr>\n",
       "    <tr>\n",
       "      <th>996</th>\n",
       "      <td>G</td>\n",
       "      <td>84.0</td>\n",
       "      <td>NaN</td>\n",
       "    </tr>\n",
       "    <tr>\n",
       "      <th>997</th>\n",
       "      <td>Passed</td>\n",
       "      <td>85.0</td>\n",
       "      <td>30500000.0</td>\n",
       "    </tr>\n",
       "    <tr>\n",
       "      <th>998</th>\n",
       "      <td>NaN</td>\n",
       "      <td>78.0</td>\n",
       "      <td>NaN</td>\n",
       "    </tr>\n",
       "    <tr>\n",
       "      <th>999</th>\n",
       "      <td>NaN</td>\n",
       "      <td>93.0</td>\n",
       "      <td>NaN</td>\n",
       "    </tr>\n",
       "  </tbody>\n",
       "</table>\n",
       "<p>1000 rows × 3 columns</p>\n",
       "</div>"
      ],
      "text/plain": [
       "    Certificate  Meta_score        Gross\n",
       "0             A        80.0   28341469.0\n",
       "1             A       100.0  134966411.0\n",
       "2            UA        84.0  534858444.0\n",
       "3             A        90.0   57300000.0\n",
       "4             U        96.0    4360000.0\n",
       "..          ...         ...          ...\n",
       "995           A        76.0          NaN\n",
       "996           G        84.0          NaN\n",
       "997      Passed        85.0   30500000.0\n",
       "998         NaN        78.0          NaN\n",
       "999         NaN        93.0          NaN\n",
       "\n",
       "[1000 rows x 3 columns]"
      ]
     },
     "execution_count": 48,
     "metadata": {},
     "output_type": "execute_result"
    }
   ],
   "source": [
    "# As Colunas onde há valores NaN são: Certificate, Meta_score, Gross\n",
    "df[df.columns[df.isna().any()]]"
   ]
  },
  {
   "cell_type": "code",
   "execution_count": 49,
   "metadata": {},
   "outputs": [],
   "source": [
    "# Imputando valoes NaN do Meta_Score como a mediana (outliers não impactam tanto)\n",
    "df['Meta_score'].fillna(df[\"Meta_score\"].median(), inplace=True)"
   ]
  },
  {
   "cell_type": "code",
   "execution_count": 50,
   "metadata": {},
   "outputs": [
    {
     "data": {
      "text/plain": [
       "215"
      ]
     },
     "execution_count": 50,
     "metadata": {},
     "output_type": "execute_result"
    }
   ],
   "source": [
    "# 215 Filmes com valores nulos em Gross e Certificate\n",
    "len(df[df.isna().any(axis=1)])"
   ]
  },
  {
   "cell_type": "code",
   "execution_count": 51,
   "metadata": {},
   "outputs": [],
   "source": [
    "# Como não faz sentido utilizar a média em Gross, e Certificate é uma categórica,\n",
    "# vamos Dropar os 215 valores NaN\n",
    "df.dropna(inplace=True)"
   ]
  },
  {
   "cell_type": "code",
   "execution_count": 52,
   "metadata": {},
   "outputs": [
    {
     "data": {
      "text/plain": [
       "0     -0.277778\n",
       "1      0.058824\n",
       "2     -0.045752\n",
       "3      0.037582\n",
       "4      0.120915\n",
       "         ...   \n",
       "990    0.680556\n",
       "991    0.305556\n",
       "992    0.513889\n",
       "994    0.944444\n",
       "997    0.791667\n",
       "Name: difference, Length: 785, dtype: float64"
      ]
     },
     "execution_count": 52,
     "metadata": {},
     "output_type": "execute_result"
    }
   ],
   "source": [
    "# Normalizando e calculando a diferença entre o Meta Score e o IMDB Rating\n",
    "minmax = MinMaxScaler()\n",
    "ratings_minmax = minmax.fit_transform(df[[\"Meta_score\", \"IMDB_Rating\"]])\n",
    "\n",
    "df['difference'] = ratings_minmax[:, 0] - ratings_minmax[:, 1]\n",
    "df[\"difference\"]"
   ]
  },
  {
   "cell_type": "markdown",
   "metadata": {},
   "source": [
    "---"
   ]
  },
  {
   "cell_type": "markdown",
   "metadata": {},
   "source": [
    "# 4. Análise Exploratória dos Dados"
   ]
  },
  {
   "cell_type": "markdown",
   "metadata": {},
   "source": [
    "## 4.1. Análise Univariada"
   ]
  },
  {
   "cell_type": "markdown",
   "metadata": {},
   "source": [
    "**Classificação Indicativa dos Filmes**: Para verificar a proporção de cada classificação indicativa no Top 1000 filmes do IMDB, utilizaremos um **Gráfico de Pizza**, pois se trata de uma variável categórica nominal.\n",
    "\n",
    "Como é possível observar, há 4 categorias superiores às outras: \n",
    "* **A** - *Adults*: Apenas adultos (+18)\n",
    "* **UA**: Livre, porém crianças de 12 anos devem estar acompanhadas\n",
    "* **U** - *Unrestricted*: Classificação Livre\n",
    "* **R** - *Restricted*: Adolescentes (+16) acompanhados"
   ]
  },
  {
   "cell_type": "code",
   "execution_count": 53,
   "metadata": {},
   "outputs": [
    {
     "data": {
      "application/vnd.plotly.v1+json": {
       "config": {
        "plotlyServerURL": "https://plot.ly"
       },
       "data": [
        {
         "domain": {
          "x": [
           0,
           1
          ],
          "y": [
           0,
           1
          ]
         },
         "hovertemplate": "label=%{label}<br>value=%{value}<extra></extra>",
         "labels": [
          "A",
          "UA",
          "U",
          "R",
          "G",
          "Passed",
          "PG-13",
          "PG",
          "Unrated",
          "GP",
          "Approved",
          "TV-PG",
          "U/A"
         ],
         "legendgroup": "",
         "name": "",
         "pull": 0.02,
         "showlegend": true,
         "type": "pie",
         "values": [
          200,
          180,
          163,
          135,
          39,
          24,
          23,
          10,
          6,
          2,
          1,
          1,
          1
         ]
        }
       ],
       "layout": {
        "legend": {
         "tracegroupgap": 0
        },
        "template": {
         "data": {
          "bar": [
           {
            "error_x": {
             "color": "#2a3f5f"
            },
            "error_y": {
             "color": "#2a3f5f"
            },
            "marker": {
             "line": {
              "color": "#E5ECF6",
              "width": 0.5
             },
             "pattern": {
              "fillmode": "overlay",
              "size": 10,
              "solidity": 0.2
             }
            },
            "type": "bar"
           }
          ],
          "barpolar": [
           {
            "marker": {
             "line": {
              "color": "#E5ECF6",
              "width": 0.5
             },
             "pattern": {
              "fillmode": "overlay",
              "size": 10,
              "solidity": 0.2
             }
            },
            "type": "barpolar"
           }
          ],
          "carpet": [
           {
            "aaxis": {
             "endlinecolor": "#2a3f5f",
             "gridcolor": "white",
             "linecolor": "white",
             "minorgridcolor": "white",
             "startlinecolor": "#2a3f5f"
            },
            "baxis": {
             "endlinecolor": "#2a3f5f",
             "gridcolor": "white",
             "linecolor": "white",
             "minorgridcolor": "white",
             "startlinecolor": "#2a3f5f"
            },
            "type": "carpet"
           }
          ],
          "choropleth": [
           {
            "colorbar": {
             "outlinewidth": 0,
             "ticks": ""
            },
            "type": "choropleth"
           }
          ],
          "contour": [
           {
            "colorbar": {
             "outlinewidth": 0,
             "ticks": ""
            },
            "colorscale": [
             [
              0,
              "#0d0887"
             ],
             [
              0.1111111111111111,
              "#46039f"
             ],
             [
              0.2222222222222222,
              "#7201a8"
             ],
             [
              0.3333333333333333,
              "#9c179e"
             ],
             [
              0.4444444444444444,
              "#bd3786"
             ],
             [
              0.5555555555555556,
              "#d8576b"
             ],
             [
              0.6666666666666666,
              "#ed7953"
             ],
             [
              0.7777777777777778,
              "#fb9f3a"
             ],
             [
              0.8888888888888888,
              "#fdca26"
             ],
             [
              1,
              "#f0f921"
             ]
            ],
            "type": "contour"
           }
          ],
          "contourcarpet": [
           {
            "colorbar": {
             "outlinewidth": 0,
             "ticks": ""
            },
            "type": "contourcarpet"
           }
          ],
          "heatmap": [
           {
            "colorbar": {
             "outlinewidth": 0,
             "ticks": ""
            },
            "colorscale": [
             [
              0,
              "#0d0887"
             ],
             [
              0.1111111111111111,
              "#46039f"
             ],
             [
              0.2222222222222222,
              "#7201a8"
             ],
             [
              0.3333333333333333,
              "#9c179e"
             ],
             [
              0.4444444444444444,
              "#bd3786"
             ],
             [
              0.5555555555555556,
              "#d8576b"
             ],
             [
              0.6666666666666666,
              "#ed7953"
             ],
             [
              0.7777777777777778,
              "#fb9f3a"
             ],
             [
              0.8888888888888888,
              "#fdca26"
             ],
             [
              1,
              "#f0f921"
             ]
            ],
            "type": "heatmap"
           }
          ],
          "heatmapgl": [
           {
            "colorbar": {
             "outlinewidth": 0,
             "ticks": ""
            },
            "colorscale": [
             [
              0,
              "#0d0887"
             ],
             [
              0.1111111111111111,
              "#46039f"
             ],
             [
              0.2222222222222222,
              "#7201a8"
             ],
             [
              0.3333333333333333,
              "#9c179e"
             ],
             [
              0.4444444444444444,
              "#bd3786"
             ],
             [
              0.5555555555555556,
              "#d8576b"
             ],
             [
              0.6666666666666666,
              "#ed7953"
             ],
             [
              0.7777777777777778,
              "#fb9f3a"
             ],
             [
              0.8888888888888888,
              "#fdca26"
             ],
             [
              1,
              "#f0f921"
             ]
            ],
            "type": "heatmapgl"
           }
          ],
          "histogram": [
           {
            "marker": {
             "pattern": {
              "fillmode": "overlay",
              "size": 10,
              "solidity": 0.2
             }
            },
            "type": "histogram"
           }
          ],
          "histogram2d": [
           {
            "colorbar": {
             "outlinewidth": 0,
             "ticks": ""
            },
            "colorscale": [
             [
              0,
              "#0d0887"
             ],
             [
              0.1111111111111111,
              "#46039f"
             ],
             [
              0.2222222222222222,
              "#7201a8"
             ],
             [
              0.3333333333333333,
              "#9c179e"
             ],
             [
              0.4444444444444444,
              "#bd3786"
             ],
             [
              0.5555555555555556,
              "#d8576b"
             ],
             [
              0.6666666666666666,
              "#ed7953"
             ],
             [
              0.7777777777777778,
              "#fb9f3a"
             ],
             [
              0.8888888888888888,
              "#fdca26"
             ],
             [
              1,
              "#f0f921"
             ]
            ],
            "type": "histogram2d"
           }
          ],
          "histogram2dcontour": [
           {
            "colorbar": {
             "outlinewidth": 0,
             "ticks": ""
            },
            "colorscale": [
             [
              0,
              "#0d0887"
             ],
             [
              0.1111111111111111,
              "#46039f"
             ],
             [
              0.2222222222222222,
              "#7201a8"
             ],
             [
              0.3333333333333333,
              "#9c179e"
             ],
             [
              0.4444444444444444,
              "#bd3786"
             ],
             [
              0.5555555555555556,
              "#d8576b"
             ],
             [
              0.6666666666666666,
              "#ed7953"
             ],
             [
              0.7777777777777778,
              "#fb9f3a"
             ],
             [
              0.8888888888888888,
              "#fdca26"
             ],
             [
              1,
              "#f0f921"
             ]
            ],
            "type": "histogram2dcontour"
           }
          ],
          "mesh3d": [
           {
            "colorbar": {
             "outlinewidth": 0,
             "ticks": ""
            },
            "type": "mesh3d"
           }
          ],
          "parcoords": [
           {
            "line": {
             "colorbar": {
              "outlinewidth": 0,
              "ticks": ""
             }
            },
            "type": "parcoords"
           }
          ],
          "pie": [
           {
            "automargin": true,
            "type": "pie"
           }
          ],
          "scatter": [
           {
            "fillpattern": {
             "fillmode": "overlay",
             "size": 10,
             "solidity": 0.2
            },
            "type": "scatter"
           }
          ],
          "scatter3d": [
           {
            "line": {
             "colorbar": {
              "outlinewidth": 0,
              "ticks": ""
             }
            },
            "marker": {
             "colorbar": {
              "outlinewidth": 0,
              "ticks": ""
             }
            },
            "type": "scatter3d"
           }
          ],
          "scattercarpet": [
           {
            "marker": {
             "colorbar": {
              "outlinewidth": 0,
              "ticks": ""
             }
            },
            "type": "scattercarpet"
           }
          ],
          "scattergeo": [
           {
            "marker": {
             "colorbar": {
              "outlinewidth": 0,
              "ticks": ""
             }
            },
            "type": "scattergeo"
           }
          ],
          "scattergl": [
           {
            "marker": {
             "colorbar": {
              "outlinewidth": 0,
              "ticks": ""
             }
            },
            "type": "scattergl"
           }
          ],
          "scattermapbox": [
           {
            "marker": {
             "colorbar": {
              "outlinewidth": 0,
              "ticks": ""
             }
            },
            "type": "scattermapbox"
           }
          ],
          "scatterpolar": [
           {
            "marker": {
             "colorbar": {
              "outlinewidth": 0,
              "ticks": ""
             }
            },
            "type": "scatterpolar"
           }
          ],
          "scatterpolargl": [
           {
            "marker": {
             "colorbar": {
              "outlinewidth": 0,
              "ticks": ""
             }
            },
            "type": "scatterpolargl"
           }
          ],
          "scatterternary": [
           {
            "marker": {
             "colorbar": {
              "outlinewidth": 0,
              "ticks": ""
             }
            },
            "type": "scatterternary"
           }
          ],
          "surface": [
           {
            "colorbar": {
             "outlinewidth": 0,
             "ticks": ""
            },
            "colorscale": [
             [
              0,
              "#0d0887"
             ],
             [
              0.1111111111111111,
              "#46039f"
             ],
             [
              0.2222222222222222,
              "#7201a8"
             ],
             [
              0.3333333333333333,
              "#9c179e"
             ],
             [
              0.4444444444444444,
              "#bd3786"
             ],
             [
              0.5555555555555556,
              "#d8576b"
             ],
             [
              0.6666666666666666,
              "#ed7953"
             ],
             [
              0.7777777777777778,
              "#fb9f3a"
             ],
             [
              0.8888888888888888,
              "#fdca26"
             ],
             [
              1,
              "#f0f921"
             ]
            ],
            "type": "surface"
           }
          ],
          "table": [
           {
            "cells": {
             "fill": {
              "color": "#EBF0F8"
             },
             "line": {
              "color": "white"
             }
            },
            "header": {
             "fill": {
              "color": "#C8D4E3"
             },
             "line": {
              "color": "white"
             }
            },
            "type": "table"
           }
          ]
         },
         "layout": {
          "annotationdefaults": {
           "arrowcolor": "#2a3f5f",
           "arrowhead": 0,
           "arrowwidth": 1
          },
          "autotypenumbers": "strict",
          "coloraxis": {
           "colorbar": {
            "outlinewidth": 0,
            "ticks": ""
           }
          },
          "colorscale": {
           "diverging": [
            [
             0,
             "#8e0152"
            ],
            [
             0.1,
             "#c51b7d"
            ],
            [
             0.2,
             "#de77ae"
            ],
            [
             0.3,
             "#f1b6da"
            ],
            [
             0.4,
             "#fde0ef"
            ],
            [
             0.5,
             "#f7f7f7"
            ],
            [
             0.6,
             "#e6f5d0"
            ],
            [
             0.7,
             "#b8e186"
            ],
            [
             0.8,
             "#7fbc41"
            ],
            [
             0.9,
             "#4d9221"
            ],
            [
             1,
             "#276419"
            ]
           ],
           "sequential": [
            [
             0,
             "#0d0887"
            ],
            [
             0.1111111111111111,
             "#46039f"
            ],
            [
             0.2222222222222222,
             "#7201a8"
            ],
            [
             0.3333333333333333,
             "#9c179e"
            ],
            [
             0.4444444444444444,
             "#bd3786"
            ],
            [
             0.5555555555555556,
             "#d8576b"
            ],
            [
             0.6666666666666666,
             "#ed7953"
            ],
            [
             0.7777777777777778,
             "#fb9f3a"
            ],
            [
             0.8888888888888888,
             "#fdca26"
            ],
            [
             1,
             "#f0f921"
            ]
           ],
           "sequentialminus": [
            [
             0,
             "#0d0887"
            ],
            [
             0.1111111111111111,
             "#46039f"
            ],
            [
             0.2222222222222222,
             "#7201a8"
            ],
            [
             0.3333333333333333,
             "#9c179e"
            ],
            [
             0.4444444444444444,
             "#bd3786"
            ],
            [
             0.5555555555555556,
             "#d8576b"
            ],
            [
             0.6666666666666666,
             "#ed7953"
            ],
            [
             0.7777777777777778,
             "#fb9f3a"
            ],
            [
             0.8888888888888888,
             "#fdca26"
            ],
            [
             1,
             "#f0f921"
            ]
           ]
          },
          "colorway": [
           "#636efa",
           "#EF553B",
           "#00cc96",
           "#ab63fa",
           "#FFA15A",
           "#19d3f3",
           "#FF6692",
           "#B6E880",
           "#FF97FF",
           "#FECB52"
          ],
          "font": {
           "color": "#2a3f5f"
          },
          "geo": {
           "bgcolor": "white",
           "lakecolor": "white",
           "landcolor": "#E5ECF6",
           "showlakes": true,
           "showland": true,
           "subunitcolor": "white"
          },
          "hoverlabel": {
           "align": "left"
          },
          "hovermode": "closest",
          "mapbox": {
           "style": "light"
          },
          "paper_bgcolor": "white",
          "plot_bgcolor": "#E5ECF6",
          "polar": {
           "angularaxis": {
            "gridcolor": "white",
            "linecolor": "white",
            "ticks": ""
           },
           "bgcolor": "#E5ECF6",
           "radialaxis": {
            "gridcolor": "white",
            "linecolor": "white",
            "ticks": ""
           }
          },
          "scene": {
           "xaxis": {
            "backgroundcolor": "#E5ECF6",
            "gridcolor": "white",
            "gridwidth": 2,
            "linecolor": "white",
            "showbackground": true,
            "ticks": "",
            "zerolinecolor": "white"
           },
           "yaxis": {
            "backgroundcolor": "#E5ECF6",
            "gridcolor": "white",
            "gridwidth": 2,
            "linecolor": "white",
            "showbackground": true,
            "ticks": "",
            "zerolinecolor": "white"
           },
           "zaxis": {
            "backgroundcolor": "#E5ECF6",
            "gridcolor": "white",
            "gridwidth": 2,
            "linecolor": "white",
            "showbackground": true,
            "ticks": "",
            "zerolinecolor": "white"
           }
          },
          "shapedefaults": {
           "line": {
            "color": "#2a3f5f"
           }
          },
          "ternary": {
           "aaxis": {
            "gridcolor": "white",
            "linecolor": "white",
            "ticks": ""
           },
           "baxis": {
            "gridcolor": "white",
            "linecolor": "white",
            "ticks": ""
           },
           "bgcolor": "#E5ECF6",
           "caxis": {
            "gridcolor": "white",
            "linecolor": "white",
            "ticks": ""
           }
          },
          "title": {
           "x": 0.05
          },
          "xaxis": {
           "automargin": true,
           "gridcolor": "white",
           "linecolor": "white",
           "ticks": "",
           "title": {
            "standoff": 15
           },
           "zerolinecolor": "white",
           "zerolinewidth": 2
          },
          "yaxis": {
           "automargin": true,
           "gridcolor": "white",
           "linecolor": "white",
           "ticks": "",
           "title": {
            "standoff": 15
           },
           "zerolinecolor": "white",
           "zerolinewidth": 2
          }
         }
        },
        "title": {
         "text": "Classificação Indicativa dos Filmes"
        }
       }
      },
      "text/html": [
       "<div>                            <div id=\"16c5f830-8514-4208-ab5b-2a07c1926731\" class=\"plotly-graph-div\" style=\"height:525px; width:100%;\"></div>            <script type=\"text/javascript\">                require([\"plotly\"], function(Plotly) {                    window.PLOTLYENV=window.PLOTLYENV || {};                                    if (document.getElementById(\"16c5f830-8514-4208-ab5b-2a07c1926731\")) {                    Plotly.newPlot(                        \"16c5f830-8514-4208-ab5b-2a07c1926731\",                        [{\"domain\":{\"x\":[0.0,1.0],\"y\":[0.0,1.0]},\"hovertemplate\":\"label=%{label}<br>value=%{value}<extra></extra>\",\"labels\":[\"A\",\"UA\",\"U\",\"R\",\"G\",\"Passed\",\"PG-13\",\"PG\",\"Unrated\",\"GP\",\"Approved\",\"TV-PG\",\"U/A\"],\"legendgroup\":\"\",\"name\":\"\",\"showlegend\":true,\"values\":[200,180,163,135,39,24,23,10,6,2,1,1,1],\"type\":\"pie\",\"pull\":0.02}],                        {\"template\":{\"data\":{\"histogram2dcontour\":[{\"type\":\"histogram2dcontour\",\"colorbar\":{\"outlinewidth\":0,\"ticks\":\"\"},\"colorscale\":[[0.0,\"#0d0887\"],[0.1111111111111111,\"#46039f\"],[0.2222222222222222,\"#7201a8\"],[0.3333333333333333,\"#9c179e\"],[0.4444444444444444,\"#bd3786\"],[0.5555555555555556,\"#d8576b\"],[0.6666666666666666,\"#ed7953\"],[0.7777777777777778,\"#fb9f3a\"],[0.8888888888888888,\"#fdca26\"],[1.0,\"#f0f921\"]]}],\"choropleth\":[{\"type\":\"choropleth\",\"colorbar\":{\"outlinewidth\":0,\"ticks\":\"\"}}],\"histogram2d\":[{\"type\":\"histogram2d\",\"colorbar\":{\"outlinewidth\":0,\"ticks\":\"\"},\"colorscale\":[[0.0,\"#0d0887\"],[0.1111111111111111,\"#46039f\"],[0.2222222222222222,\"#7201a8\"],[0.3333333333333333,\"#9c179e\"],[0.4444444444444444,\"#bd3786\"],[0.5555555555555556,\"#d8576b\"],[0.6666666666666666,\"#ed7953\"],[0.7777777777777778,\"#fb9f3a\"],[0.8888888888888888,\"#fdca26\"],[1.0,\"#f0f921\"]]}],\"heatmap\":[{\"type\":\"heatmap\",\"colorbar\":{\"outlinewidth\":0,\"ticks\":\"\"},\"colorscale\":[[0.0,\"#0d0887\"],[0.1111111111111111,\"#46039f\"],[0.2222222222222222,\"#7201a8\"],[0.3333333333333333,\"#9c179e\"],[0.4444444444444444,\"#bd3786\"],[0.5555555555555556,\"#d8576b\"],[0.6666666666666666,\"#ed7953\"],[0.7777777777777778,\"#fb9f3a\"],[0.8888888888888888,\"#fdca26\"],[1.0,\"#f0f921\"]]}],\"heatmapgl\":[{\"type\":\"heatmapgl\",\"colorbar\":{\"outlinewidth\":0,\"ticks\":\"\"},\"colorscale\":[[0.0,\"#0d0887\"],[0.1111111111111111,\"#46039f\"],[0.2222222222222222,\"#7201a8\"],[0.3333333333333333,\"#9c179e\"],[0.4444444444444444,\"#bd3786\"],[0.5555555555555556,\"#d8576b\"],[0.6666666666666666,\"#ed7953\"],[0.7777777777777778,\"#fb9f3a\"],[0.8888888888888888,\"#fdca26\"],[1.0,\"#f0f921\"]]}],\"contourcarpet\":[{\"type\":\"contourcarpet\",\"colorbar\":{\"outlinewidth\":0,\"ticks\":\"\"}}],\"contour\":[{\"type\":\"contour\",\"colorbar\":{\"outlinewidth\":0,\"ticks\":\"\"},\"colorscale\":[[0.0,\"#0d0887\"],[0.1111111111111111,\"#46039f\"],[0.2222222222222222,\"#7201a8\"],[0.3333333333333333,\"#9c179e\"],[0.4444444444444444,\"#bd3786\"],[0.5555555555555556,\"#d8576b\"],[0.6666666666666666,\"#ed7953\"],[0.7777777777777778,\"#fb9f3a\"],[0.8888888888888888,\"#fdca26\"],[1.0,\"#f0f921\"]]}],\"surface\":[{\"type\":\"surface\",\"colorbar\":{\"outlinewidth\":0,\"ticks\":\"\"},\"colorscale\":[[0.0,\"#0d0887\"],[0.1111111111111111,\"#46039f\"],[0.2222222222222222,\"#7201a8\"],[0.3333333333333333,\"#9c179e\"],[0.4444444444444444,\"#bd3786\"],[0.5555555555555556,\"#d8576b\"],[0.6666666666666666,\"#ed7953\"],[0.7777777777777778,\"#fb9f3a\"],[0.8888888888888888,\"#fdca26\"],[1.0,\"#f0f921\"]]}],\"mesh3d\":[{\"type\":\"mesh3d\",\"colorbar\":{\"outlinewidth\":0,\"ticks\":\"\"}}],\"scatter\":[{\"fillpattern\":{\"fillmode\":\"overlay\",\"size\":10,\"solidity\":0.2},\"type\":\"scatter\"}],\"parcoords\":[{\"type\":\"parcoords\",\"line\":{\"colorbar\":{\"outlinewidth\":0,\"ticks\":\"\"}}}],\"scatterpolargl\":[{\"type\":\"scatterpolargl\",\"marker\":{\"colorbar\":{\"outlinewidth\":0,\"ticks\":\"\"}}}],\"bar\":[{\"error_x\":{\"color\":\"#2a3f5f\"},\"error_y\":{\"color\":\"#2a3f5f\"},\"marker\":{\"line\":{\"color\":\"#E5ECF6\",\"width\":0.5},\"pattern\":{\"fillmode\":\"overlay\",\"size\":10,\"solidity\":0.2}},\"type\":\"bar\"}],\"scattergeo\":[{\"type\":\"scattergeo\",\"marker\":{\"colorbar\":{\"outlinewidth\":0,\"ticks\":\"\"}}}],\"scatterpolar\":[{\"type\":\"scatterpolar\",\"marker\":{\"colorbar\":{\"outlinewidth\":0,\"ticks\":\"\"}}}],\"histogram\":[{\"marker\":{\"pattern\":{\"fillmode\":\"overlay\",\"size\":10,\"solidity\":0.2}},\"type\":\"histogram\"}],\"scattergl\":[{\"type\":\"scattergl\",\"marker\":{\"colorbar\":{\"outlinewidth\":0,\"ticks\":\"\"}}}],\"scatter3d\":[{\"type\":\"scatter3d\",\"line\":{\"colorbar\":{\"outlinewidth\":0,\"ticks\":\"\"}},\"marker\":{\"colorbar\":{\"outlinewidth\":0,\"ticks\":\"\"}}}],\"scattermapbox\":[{\"type\":\"scattermapbox\",\"marker\":{\"colorbar\":{\"outlinewidth\":0,\"ticks\":\"\"}}}],\"scatterternary\":[{\"type\":\"scatterternary\",\"marker\":{\"colorbar\":{\"outlinewidth\":0,\"ticks\":\"\"}}}],\"scattercarpet\":[{\"type\":\"scattercarpet\",\"marker\":{\"colorbar\":{\"outlinewidth\":0,\"ticks\":\"\"}}}],\"carpet\":[{\"aaxis\":{\"endlinecolor\":\"#2a3f5f\",\"gridcolor\":\"white\",\"linecolor\":\"white\",\"minorgridcolor\":\"white\",\"startlinecolor\":\"#2a3f5f\"},\"baxis\":{\"endlinecolor\":\"#2a3f5f\",\"gridcolor\":\"white\",\"linecolor\":\"white\",\"minorgridcolor\":\"white\",\"startlinecolor\":\"#2a3f5f\"},\"type\":\"carpet\"}],\"table\":[{\"cells\":{\"fill\":{\"color\":\"#EBF0F8\"},\"line\":{\"color\":\"white\"}},\"header\":{\"fill\":{\"color\":\"#C8D4E3\"},\"line\":{\"color\":\"white\"}},\"type\":\"table\"}],\"barpolar\":[{\"marker\":{\"line\":{\"color\":\"#E5ECF6\",\"width\":0.5},\"pattern\":{\"fillmode\":\"overlay\",\"size\":10,\"solidity\":0.2}},\"type\":\"barpolar\"}],\"pie\":[{\"automargin\":true,\"type\":\"pie\"}]},\"layout\":{\"autotypenumbers\":\"strict\",\"colorway\":[\"#636efa\",\"#EF553B\",\"#00cc96\",\"#ab63fa\",\"#FFA15A\",\"#19d3f3\",\"#FF6692\",\"#B6E880\",\"#FF97FF\",\"#FECB52\"],\"font\":{\"color\":\"#2a3f5f\"},\"hovermode\":\"closest\",\"hoverlabel\":{\"align\":\"left\"},\"paper_bgcolor\":\"white\",\"plot_bgcolor\":\"#E5ECF6\",\"polar\":{\"bgcolor\":\"#E5ECF6\",\"angularaxis\":{\"gridcolor\":\"white\",\"linecolor\":\"white\",\"ticks\":\"\"},\"radialaxis\":{\"gridcolor\":\"white\",\"linecolor\":\"white\",\"ticks\":\"\"}},\"ternary\":{\"bgcolor\":\"#E5ECF6\",\"aaxis\":{\"gridcolor\":\"white\",\"linecolor\":\"white\",\"ticks\":\"\"},\"baxis\":{\"gridcolor\":\"white\",\"linecolor\":\"white\",\"ticks\":\"\"},\"caxis\":{\"gridcolor\":\"white\",\"linecolor\":\"white\",\"ticks\":\"\"}},\"coloraxis\":{\"colorbar\":{\"outlinewidth\":0,\"ticks\":\"\"}},\"colorscale\":{\"sequential\":[[0.0,\"#0d0887\"],[0.1111111111111111,\"#46039f\"],[0.2222222222222222,\"#7201a8\"],[0.3333333333333333,\"#9c179e\"],[0.4444444444444444,\"#bd3786\"],[0.5555555555555556,\"#d8576b\"],[0.6666666666666666,\"#ed7953\"],[0.7777777777777778,\"#fb9f3a\"],[0.8888888888888888,\"#fdca26\"],[1.0,\"#f0f921\"]],\"sequentialminus\":[[0.0,\"#0d0887\"],[0.1111111111111111,\"#46039f\"],[0.2222222222222222,\"#7201a8\"],[0.3333333333333333,\"#9c179e\"],[0.4444444444444444,\"#bd3786\"],[0.5555555555555556,\"#d8576b\"],[0.6666666666666666,\"#ed7953\"],[0.7777777777777778,\"#fb9f3a\"],[0.8888888888888888,\"#fdca26\"],[1.0,\"#f0f921\"]],\"diverging\":[[0,\"#8e0152\"],[0.1,\"#c51b7d\"],[0.2,\"#de77ae\"],[0.3,\"#f1b6da\"],[0.4,\"#fde0ef\"],[0.5,\"#f7f7f7\"],[0.6,\"#e6f5d0\"],[0.7,\"#b8e186\"],[0.8,\"#7fbc41\"],[0.9,\"#4d9221\"],[1,\"#276419\"]]},\"xaxis\":{\"gridcolor\":\"white\",\"linecolor\":\"white\",\"ticks\":\"\",\"title\":{\"standoff\":15},\"zerolinecolor\":\"white\",\"automargin\":true,\"zerolinewidth\":2},\"yaxis\":{\"gridcolor\":\"white\",\"linecolor\":\"white\",\"ticks\":\"\",\"title\":{\"standoff\":15},\"zerolinecolor\":\"white\",\"automargin\":true,\"zerolinewidth\":2},\"scene\":{\"xaxis\":{\"backgroundcolor\":\"#E5ECF6\",\"gridcolor\":\"white\",\"linecolor\":\"white\",\"showbackground\":true,\"ticks\":\"\",\"zerolinecolor\":\"white\",\"gridwidth\":2},\"yaxis\":{\"backgroundcolor\":\"#E5ECF6\",\"gridcolor\":\"white\",\"linecolor\":\"white\",\"showbackground\":true,\"ticks\":\"\",\"zerolinecolor\":\"white\",\"gridwidth\":2},\"zaxis\":{\"backgroundcolor\":\"#E5ECF6\",\"gridcolor\":\"white\",\"linecolor\":\"white\",\"showbackground\":true,\"ticks\":\"\",\"zerolinecolor\":\"white\",\"gridwidth\":2}},\"shapedefaults\":{\"line\":{\"color\":\"#2a3f5f\"}},\"annotationdefaults\":{\"arrowcolor\":\"#2a3f5f\",\"arrowhead\":0,\"arrowwidth\":1},\"geo\":{\"bgcolor\":\"white\",\"landcolor\":\"#E5ECF6\",\"subunitcolor\":\"white\",\"showland\":true,\"showlakes\":true,\"lakecolor\":\"white\"},\"title\":{\"x\":0.05},\"mapbox\":{\"style\":\"light\"}}},\"legend\":{\"tracegroupgap\":0},\"title\":{\"text\":\"Classifica\\u00e7\\u00e3o Indicativa dos Filmes\"}},                        {\"responsive\": true}                    ).then(function(){\n",
       "                            \n",
       "var gd = document.getElementById('16c5f830-8514-4208-ab5b-2a07c1926731');\n",
       "var x = new MutationObserver(function (mutations, observer) {{\n",
       "        var display = window.getComputedStyle(gd).display;\n",
       "        if (!display || display === 'none') {{\n",
       "            console.log([gd, 'removed!']);\n",
       "            Plotly.purge(gd);\n",
       "            observer.disconnect();\n",
       "        }}\n",
       "}});\n",
       "\n",
       "// Listen for the removal of the full notebook cells\n",
       "var notebookContainer = gd.closest('#notebook-container');\n",
       "if (notebookContainer) {{\n",
       "    x.observe(notebookContainer, {childList: true});\n",
       "}}\n",
       "\n",
       "// Listen for the clearing of the current output cell\n",
       "var outputEl = gd.closest('.output');\n",
       "if (outputEl) {{\n",
       "    x.observe(outputEl, {childList: true});\n",
       "}}\n",
       "\n",
       "                        })                };                });            </script>        </div>"
      ]
     },
     "metadata": {},
     "output_type": "display_data"
    }
   ],
   "source": [
    "pie_certificate = px.pie(\n",
    "    values=df[\"Certificate\"].value_counts(),\n",
    "    names=df[\"Certificate\"].unique(),\n",
    "    title=\"Classificação Indicativa dos Filmes\",\n",
    ").update_traces(pull=0.02)\n",
    "pie_certificate.show()"
   ]
  },
  {
   "cell_type": "markdown",
   "metadata": {},
   "source": [
    "**Gênero dos Filmes**: Para analisar quais gêneros são predominantes no Top 1000 filmes do IMDB, utilizaremos um **Gráfico de Pizza**, pois se trata de uma variável categórica nominal.\n",
    "\n",
    "Com base no gráfico, é visível que o gênero Drama se destaca, caracterizando quase 30% dos filmes. Junto do Drama, os gêneros Crime, Ação e Aventura correspondem à metade dos filmes, enquanto os outros 50% estão distribuídos entre 17 categorias menos relevantes."
   ]
  },
  {
   "cell_type": "code",
   "execution_count": 54,
   "metadata": {},
   "outputs": [
    {
     "data": {
      "application/vnd.plotly.v1+json": {
       "config": {
        "plotlyServerURL": "https://plot.ly"
       },
       "data": [
        {
         "domain": {
          "x": [
           0,
           1
          ],
          "y": [
           0,
           1
          ]
         },
         "hovertemplate": "label=%{label}<br>value=%{value}<extra></extra>",
         "labels": [
          "Drama",
          "Crime",
          "Action",
          "Adventure",
          "Biography",
          "History",
          "Sci-Fi",
          "Romance",
          "Western",
          "Fantasy",
          "Comedy",
          "Thriller",
          "Animation",
          "Family",
          "War",
          "Mystery",
          "Music",
          "Horror",
          "Sport",
          "Musical",
          "Film-Noir"
         ],
         "legendgroup": "",
         "name": "",
         "pull": 0.02,
         "showlegend": true,
         "type": "pie",
         "values": [
          557,
          184,
          168,
          160,
          152,
          104,
          101,
          96,
          81,
          66,
          59,
          56,
          46,
          42,
          31,
          31,
          19,
          18,
          16,
          14,
          9
         ]
        }
       ],
       "layout": {
        "legend": {
         "tracegroupgap": 0
        },
        "template": {
         "data": {
          "bar": [
           {
            "error_x": {
             "color": "#2a3f5f"
            },
            "error_y": {
             "color": "#2a3f5f"
            },
            "marker": {
             "line": {
              "color": "#E5ECF6",
              "width": 0.5
             },
             "pattern": {
              "fillmode": "overlay",
              "size": 10,
              "solidity": 0.2
             }
            },
            "type": "bar"
           }
          ],
          "barpolar": [
           {
            "marker": {
             "line": {
              "color": "#E5ECF6",
              "width": 0.5
             },
             "pattern": {
              "fillmode": "overlay",
              "size": 10,
              "solidity": 0.2
             }
            },
            "type": "barpolar"
           }
          ],
          "carpet": [
           {
            "aaxis": {
             "endlinecolor": "#2a3f5f",
             "gridcolor": "white",
             "linecolor": "white",
             "minorgridcolor": "white",
             "startlinecolor": "#2a3f5f"
            },
            "baxis": {
             "endlinecolor": "#2a3f5f",
             "gridcolor": "white",
             "linecolor": "white",
             "minorgridcolor": "white",
             "startlinecolor": "#2a3f5f"
            },
            "type": "carpet"
           }
          ],
          "choropleth": [
           {
            "colorbar": {
             "outlinewidth": 0,
             "ticks": ""
            },
            "type": "choropleth"
           }
          ],
          "contour": [
           {
            "colorbar": {
             "outlinewidth": 0,
             "ticks": ""
            },
            "colorscale": [
             [
              0,
              "#0d0887"
             ],
             [
              0.1111111111111111,
              "#46039f"
             ],
             [
              0.2222222222222222,
              "#7201a8"
             ],
             [
              0.3333333333333333,
              "#9c179e"
             ],
             [
              0.4444444444444444,
              "#bd3786"
             ],
             [
              0.5555555555555556,
              "#d8576b"
             ],
             [
              0.6666666666666666,
              "#ed7953"
             ],
             [
              0.7777777777777778,
              "#fb9f3a"
             ],
             [
              0.8888888888888888,
              "#fdca26"
             ],
             [
              1,
              "#f0f921"
             ]
            ],
            "type": "contour"
           }
          ],
          "contourcarpet": [
           {
            "colorbar": {
             "outlinewidth": 0,
             "ticks": ""
            },
            "type": "contourcarpet"
           }
          ],
          "heatmap": [
           {
            "colorbar": {
             "outlinewidth": 0,
             "ticks": ""
            },
            "colorscale": [
             [
              0,
              "#0d0887"
             ],
             [
              0.1111111111111111,
              "#46039f"
             ],
             [
              0.2222222222222222,
              "#7201a8"
             ],
             [
              0.3333333333333333,
              "#9c179e"
             ],
             [
              0.4444444444444444,
              "#bd3786"
             ],
             [
              0.5555555555555556,
              "#d8576b"
             ],
             [
              0.6666666666666666,
              "#ed7953"
             ],
             [
              0.7777777777777778,
              "#fb9f3a"
             ],
             [
              0.8888888888888888,
              "#fdca26"
             ],
             [
              1,
              "#f0f921"
             ]
            ],
            "type": "heatmap"
           }
          ],
          "heatmapgl": [
           {
            "colorbar": {
             "outlinewidth": 0,
             "ticks": ""
            },
            "colorscale": [
             [
              0,
              "#0d0887"
             ],
             [
              0.1111111111111111,
              "#46039f"
             ],
             [
              0.2222222222222222,
              "#7201a8"
             ],
             [
              0.3333333333333333,
              "#9c179e"
             ],
             [
              0.4444444444444444,
              "#bd3786"
             ],
             [
              0.5555555555555556,
              "#d8576b"
             ],
             [
              0.6666666666666666,
              "#ed7953"
             ],
             [
              0.7777777777777778,
              "#fb9f3a"
             ],
             [
              0.8888888888888888,
              "#fdca26"
             ],
             [
              1,
              "#f0f921"
             ]
            ],
            "type": "heatmapgl"
           }
          ],
          "histogram": [
           {
            "marker": {
             "pattern": {
              "fillmode": "overlay",
              "size": 10,
              "solidity": 0.2
             }
            },
            "type": "histogram"
           }
          ],
          "histogram2d": [
           {
            "colorbar": {
             "outlinewidth": 0,
             "ticks": ""
            },
            "colorscale": [
             [
              0,
              "#0d0887"
             ],
             [
              0.1111111111111111,
              "#46039f"
             ],
             [
              0.2222222222222222,
              "#7201a8"
             ],
             [
              0.3333333333333333,
              "#9c179e"
             ],
             [
              0.4444444444444444,
              "#bd3786"
             ],
             [
              0.5555555555555556,
              "#d8576b"
             ],
             [
              0.6666666666666666,
              "#ed7953"
             ],
             [
              0.7777777777777778,
              "#fb9f3a"
             ],
             [
              0.8888888888888888,
              "#fdca26"
             ],
             [
              1,
              "#f0f921"
             ]
            ],
            "type": "histogram2d"
           }
          ],
          "histogram2dcontour": [
           {
            "colorbar": {
             "outlinewidth": 0,
             "ticks": ""
            },
            "colorscale": [
             [
              0,
              "#0d0887"
             ],
             [
              0.1111111111111111,
              "#46039f"
             ],
             [
              0.2222222222222222,
              "#7201a8"
             ],
             [
              0.3333333333333333,
              "#9c179e"
             ],
             [
              0.4444444444444444,
              "#bd3786"
             ],
             [
              0.5555555555555556,
              "#d8576b"
             ],
             [
              0.6666666666666666,
              "#ed7953"
             ],
             [
              0.7777777777777778,
              "#fb9f3a"
             ],
             [
              0.8888888888888888,
              "#fdca26"
             ],
             [
              1,
              "#f0f921"
             ]
            ],
            "type": "histogram2dcontour"
           }
          ],
          "mesh3d": [
           {
            "colorbar": {
             "outlinewidth": 0,
             "ticks": ""
            },
            "type": "mesh3d"
           }
          ],
          "parcoords": [
           {
            "line": {
             "colorbar": {
              "outlinewidth": 0,
              "ticks": ""
             }
            },
            "type": "parcoords"
           }
          ],
          "pie": [
           {
            "automargin": true,
            "type": "pie"
           }
          ],
          "scatter": [
           {
            "fillpattern": {
             "fillmode": "overlay",
             "size": 10,
             "solidity": 0.2
            },
            "type": "scatter"
           }
          ],
          "scatter3d": [
           {
            "line": {
             "colorbar": {
              "outlinewidth": 0,
              "ticks": ""
             }
            },
            "marker": {
             "colorbar": {
              "outlinewidth": 0,
              "ticks": ""
             }
            },
            "type": "scatter3d"
           }
          ],
          "scattercarpet": [
           {
            "marker": {
             "colorbar": {
              "outlinewidth": 0,
              "ticks": ""
             }
            },
            "type": "scattercarpet"
           }
          ],
          "scattergeo": [
           {
            "marker": {
             "colorbar": {
              "outlinewidth": 0,
              "ticks": ""
             }
            },
            "type": "scattergeo"
           }
          ],
          "scattergl": [
           {
            "marker": {
             "colorbar": {
              "outlinewidth": 0,
              "ticks": ""
             }
            },
            "type": "scattergl"
           }
          ],
          "scattermapbox": [
           {
            "marker": {
             "colorbar": {
              "outlinewidth": 0,
              "ticks": ""
             }
            },
            "type": "scattermapbox"
           }
          ],
          "scatterpolar": [
           {
            "marker": {
             "colorbar": {
              "outlinewidth": 0,
              "ticks": ""
             }
            },
            "type": "scatterpolar"
           }
          ],
          "scatterpolargl": [
           {
            "marker": {
             "colorbar": {
              "outlinewidth": 0,
              "ticks": ""
             }
            },
            "type": "scatterpolargl"
           }
          ],
          "scatterternary": [
           {
            "marker": {
             "colorbar": {
              "outlinewidth": 0,
              "ticks": ""
             }
            },
            "type": "scatterternary"
           }
          ],
          "surface": [
           {
            "colorbar": {
             "outlinewidth": 0,
             "ticks": ""
            },
            "colorscale": [
             [
              0,
              "#0d0887"
             ],
             [
              0.1111111111111111,
              "#46039f"
             ],
             [
              0.2222222222222222,
              "#7201a8"
             ],
             [
              0.3333333333333333,
              "#9c179e"
             ],
             [
              0.4444444444444444,
              "#bd3786"
             ],
             [
              0.5555555555555556,
              "#d8576b"
             ],
             [
              0.6666666666666666,
              "#ed7953"
             ],
             [
              0.7777777777777778,
              "#fb9f3a"
             ],
             [
              0.8888888888888888,
              "#fdca26"
             ],
             [
              1,
              "#f0f921"
             ]
            ],
            "type": "surface"
           }
          ],
          "table": [
           {
            "cells": {
             "fill": {
              "color": "#EBF0F8"
             },
             "line": {
              "color": "white"
             }
            },
            "header": {
             "fill": {
              "color": "#C8D4E3"
             },
             "line": {
              "color": "white"
             }
            },
            "type": "table"
           }
          ]
         },
         "layout": {
          "annotationdefaults": {
           "arrowcolor": "#2a3f5f",
           "arrowhead": 0,
           "arrowwidth": 1
          },
          "autotypenumbers": "strict",
          "coloraxis": {
           "colorbar": {
            "outlinewidth": 0,
            "ticks": ""
           }
          },
          "colorscale": {
           "diverging": [
            [
             0,
             "#8e0152"
            ],
            [
             0.1,
             "#c51b7d"
            ],
            [
             0.2,
             "#de77ae"
            ],
            [
             0.3,
             "#f1b6da"
            ],
            [
             0.4,
             "#fde0ef"
            ],
            [
             0.5,
             "#f7f7f7"
            ],
            [
             0.6,
             "#e6f5d0"
            ],
            [
             0.7,
             "#b8e186"
            ],
            [
             0.8,
             "#7fbc41"
            ],
            [
             0.9,
             "#4d9221"
            ],
            [
             1,
             "#276419"
            ]
           ],
           "sequential": [
            [
             0,
             "#0d0887"
            ],
            [
             0.1111111111111111,
             "#46039f"
            ],
            [
             0.2222222222222222,
             "#7201a8"
            ],
            [
             0.3333333333333333,
             "#9c179e"
            ],
            [
             0.4444444444444444,
             "#bd3786"
            ],
            [
             0.5555555555555556,
             "#d8576b"
            ],
            [
             0.6666666666666666,
             "#ed7953"
            ],
            [
             0.7777777777777778,
             "#fb9f3a"
            ],
            [
             0.8888888888888888,
             "#fdca26"
            ],
            [
             1,
             "#f0f921"
            ]
           ],
           "sequentialminus": [
            [
             0,
             "#0d0887"
            ],
            [
             0.1111111111111111,
             "#46039f"
            ],
            [
             0.2222222222222222,
             "#7201a8"
            ],
            [
             0.3333333333333333,
             "#9c179e"
            ],
            [
             0.4444444444444444,
             "#bd3786"
            ],
            [
             0.5555555555555556,
             "#d8576b"
            ],
            [
             0.6666666666666666,
             "#ed7953"
            ],
            [
             0.7777777777777778,
             "#fb9f3a"
            ],
            [
             0.8888888888888888,
             "#fdca26"
            ],
            [
             1,
             "#f0f921"
            ]
           ]
          },
          "colorway": [
           "#636efa",
           "#EF553B",
           "#00cc96",
           "#ab63fa",
           "#FFA15A",
           "#19d3f3",
           "#FF6692",
           "#B6E880",
           "#FF97FF",
           "#FECB52"
          ],
          "font": {
           "color": "#2a3f5f"
          },
          "geo": {
           "bgcolor": "white",
           "lakecolor": "white",
           "landcolor": "#E5ECF6",
           "showlakes": true,
           "showland": true,
           "subunitcolor": "white"
          },
          "hoverlabel": {
           "align": "left"
          },
          "hovermode": "closest",
          "mapbox": {
           "style": "light"
          },
          "paper_bgcolor": "white",
          "plot_bgcolor": "#E5ECF6",
          "polar": {
           "angularaxis": {
            "gridcolor": "white",
            "linecolor": "white",
            "ticks": ""
           },
           "bgcolor": "#E5ECF6",
           "radialaxis": {
            "gridcolor": "white",
            "linecolor": "white",
            "ticks": ""
           }
          },
          "scene": {
           "xaxis": {
            "backgroundcolor": "#E5ECF6",
            "gridcolor": "white",
            "gridwidth": 2,
            "linecolor": "white",
            "showbackground": true,
            "ticks": "",
            "zerolinecolor": "white"
           },
           "yaxis": {
            "backgroundcolor": "#E5ECF6",
            "gridcolor": "white",
            "gridwidth": 2,
            "linecolor": "white",
            "showbackground": true,
            "ticks": "",
            "zerolinecolor": "white"
           },
           "zaxis": {
            "backgroundcolor": "#E5ECF6",
            "gridcolor": "white",
            "gridwidth": 2,
            "linecolor": "white",
            "showbackground": true,
            "ticks": "",
            "zerolinecolor": "white"
           }
          },
          "shapedefaults": {
           "line": {
            "color": "#2a3f5f"
           }
          },
          "ternary": {
           "aaxis": {
            "gridcolor": "white",
            "linecolor": "white",
            "ticks": ""
           },
           "baxis": {
            "gridcolor": "white",
            "linecolor": "white",
            "ticks": ""
           },
           "bgcolor": "#E5ECF6",
           "caxis": {
            "gridcolor": "white",
            "linecolor": "white",
            "ticks": ""
           }
          },
          "title": {
           "x": 0.05
          },
          "xaxis": {
           "automargin": true,
           "gridcolor": "white",
           "linecolor": "white",
           "ticks": "",
           "title": {
            "standoff": 15
           },
           "zerolinecolor": "white",
           "zerolinewidth": 2
          },
          "yaxis": {
           "automargin": true,
           "gridcolor": "white",
           "linecolor": "white",
           "ticks": "",
           "title": {
            "standoff": 15
           },
           "zerolinecolor": "white",
           "zerolinewidth": 2
          }
         }
        },
        "title": {
         "text": "Gênero dos Filmes"
        }
       }
      },
      "text/html": [
       "<div>                            <div id=\"22ce2bdc-0a7a-4630-8318-350ef2ccd079\" class=\"plotly-graph-div\" style=\"height:525px; width:100%;\"></div>            <script type=\"text/javascript\">                require([\"plotly\"], function(Plotly) {                    window.PLOTLYENV=window.PLOTLYENV || {};                                    if (document.getElementById(\"22ce2bdc-0a7a-4630-8318-350ef2ccd079\")) {                    Plotly.newPlot(                        \"22ce2bdc-0a7a-4630-8318-350ef2ccd079\",                        [{\"domain\":{\"x\":[0.0,1.0],\"y\":[0.0,1.0]},\"hovertemplate\":\"label=%{label}<br>value=%{value}<extra></extra>\",\"labels\":[\"Drama\",\"Crime\",\"Action\",\"Adventure\",\"Biography\",\"History\",\"Sci-Fi\",\"Romance\",\"Western\",\"Fantasy\",\"Comedy\",\"Thriller\",\"Animation\",\"Family\",\"War\",\"Mystery\",\"Music\",\"Horror\",\"Sport\",\"Musical\",\"Film-Noir\"],\"legendgroup\":\"\",\"name\":\"\",\"showlegend\":true,\"values\":[557,184,168,160,152,104,101,96,81,66,59,56,46,42,31,31,19,18,16,14,9],\"type\":\"pie\",\"pull\":0.02}],                        {\"template\":{\"data\":{\"histogram2dcontour\":[{\"type\":\"histogram2dcontour\",\"colorbar\":{\"outlinewidth\":0,\"ticks\":\"\"},\"colorscale\":[[0.0,\"#0d0887\"],[0.1111111111111111,\"#46039f\"],[0.2222222222222222,\"#7201a8\"],[0.3333333333333333,\"#9c179e\"],[0.4444444444444444,\"#bd3786\"],[0.5555555555555556,\"#d8576b\"],[0.6666666666666666,\"#ed7953\"],[0.7777777777777778,\"#fb9f3a\"],[0.8888888888888888,\"#fdca26\"],[1.0,\"#f0f921\"]]}],\"choropleth\":[{\"type\":\"choropleth\",\"colorbar\":{\"outlinewidth\":0,\"ticks\":\"\"}}],\"histogram2d\":[{\"type\":\"histogram2d\",\"colorbar\":{\"outlinewidth\":0,\"ticks\":\"\"},\"colorscale\":[[0.0,\"#0d0887\"],[0.1111111111111111,\"#46039f\"],[0.2222222222222222,\"#7201a8\"],[0.3333333333333333,\"#9c179e\"],[0.4444444444444444,\"#bd3786\"],[0.5555555555555556,\"#d8576b\"],[0.6666666666666666,\"#ed7953\"],[0.7777777777777778,\"#fb9f3a\"],[0.8888888888888888,\"#fdca26\"],[1.0,\"#f0f921\"]]}],\"heatmap\":[{\"type\":\"heatmap\",\"colorbar\":{\"outlinewidth\":0,\"ticks\":\"\"},\"colorscale\":[[0.0,\"#0d0887\"],[0.1111111111111111,\"#46039f\"],[0.2222222222222222,\"#7201a8\"],[0.3333333333333333,\"#9c179e\"],[0.4444444444444444,\"#bd3786\"],[0.5555555555555556,\"#d8576b\"],[0.6666666666666666,\"#ed7953\"],[0.7777777777777778,\"#fb9f3a\"],[0.8888888888888888,\"#fdca26\"],[1.0,\"#f0f921\"]]}],\"heatmapgl\":[{\"type\":\"heatmapgl\",\"colorbar\":{\"outlinewidth\":0,\"ticks\":\"\"},\"colorscale\":[[0.0,\"#0d0887\"],[0.1111111111111111,\"#46039f\"],[0.2222222222222222,\"#7201a8\"],[0.3333333333333333,\"#9c179e\"],[0.4444444444444444,\"#bd3786\"],[0.5555555555555556,\"#d8576b\"],[0.6666666666666666,\"#ed7953\"],[0.7777777777777778,\"#fb9f3a\"],[0.8888888888888888,\"#fdca26\"],[1.0,\"#f0f921\"]]}],\"contourcarpet\":[{\"type\":\"contourcarpet\",\"colorbar\":{\"outlinewidth\":0,\"ticks\":\"\"}}],\"contour\":[{\"type\":\"contour\",\"colorbar\":{\"outlinewidth\":0,\"ticks\":\"\"},\"colorscale\":[[0.0,\"#0d0887\"],[0.1111111111111111,\"#46039f\"],[0.2222222222222222,\"#7201a8\"],[0.3333333333333333,\"#9c179e\"],[0.4444444444444444,\"#bd3786\"],[0.5555555555555556,\"#d8576b\"],[0.6666666666666666,\"#ed7953\"],[0.7777777777777778,\"#fb9f3a\"],[0.8888888888888888,\"#fdca26\"],[1.0,\"#f0f921\"]]}],\"surface\":[{\"type\":\"surface\",\"colorbar\":{\"outlinewidth\":0,\"ticks\":\"\"},\"colorscale\":[[0.0,\"#0d0887\"],[0.1111111111111111,\"#46039f\"],[0.2222222222222222,\"#7201a8\"],[0.3333333333333333,\"#9c179e\"],[0.4444444444444444,\"#bd3786\"],[0.5555555555555556,\"#d8576b\"],[0.6666666666666666,\"#ed7953\"],[0.7777777777777778,\"#fb9f3a\"],[0.8888888888888888,\"#fdca26\"],[1.0,\"#f0f921\"]]}],\"mesh3d\":[{\"type\":\"mesh3d\",\"colorbar\":{\"outlinewidth\":0,\"ticks\":\"\"}}],\"scatter\":[{\"fillpattern\":{\"fillmode\":\"overlay\",\"size\":10,\"solidity\":0.2},\"type\":\"scatter\"}],\"parcoords\":[{\"type\":\"parcoords\",\"line\":{\"colorbar\":{\"outlinewidth\":0,\"ticks\":\"\"}}}],\"scatterpolargl\":[{\"type\":\"scatterpolargl\",\"marker\":{\"colorbar\":{\"outlinewidth\":0,\"ticks\":\"\"}}}],\"bar\":[{\"error_x\":{\"color\":\"#2a3f5f\"},\"error_y\":{\"color\":\"#2a3f5f\"},\"marker\":{\"line\":{\"color\":\"#E5ECF6\",\"width\":0.5},\"pattern\":{\"fillmode\":\"overlay\",\"size\":10,\"solidity\":0.2}},\"type\":\"bar\"}],\"scattergeo\":[{\"type\":\"scattergeo\",\"marker\":{\"colorbar\":{\"outlinewidth\":0,\"ticks\":\"\"}}}],\"scatterpolar\":[{\"type\":\"scatterpolar\",\"marker\":{\"colorbar\":{\"outlinewidth\":0,\"ticks\":\"\"}}}],\"histogram\":[{\"marker\":{\"pattern\":{\"fillmode\":\"overlay\",\"size\":10,\"solidity\":0.2}},\"type\":\"histogram\"}],\"scattergl\":[{\"type\":\"scattergl\",\"marker\":{\"colorbar\":{\"outlinewidth\":0,\"ticks\":\"\"}}}],\"scatter3d\":[{\"type\":\"scatter3d\",\"line\":{\"colorbar\":{\"outlinewidth\":0,\"ticks\":\"\"}},\"marker\":{\"colorbar\":{\"outlinewidth\":0,\"ticks\":\"\"}}}],\"scattermapbox\":[{\"type\":\"scattermapbox\",\"marker\":{\"colorbar\":{\"outlinewidth\":0,\"ticks\":\"\"}}}],\"scatterternary\":[{\"type\":\"scatterternary\",\"marker\":{\"colorbar\":{\"outlinewidth\":0,\"ticks\":\"\"}}}],\"scattercarpet\":[{\"type\":\"scattercarpet\",\"marker\":{\"colorbar\":{\"outlinewidth\":0,\"ticks\":\"\"}}}],\"carpet\":[{\"aaxis\":{\"endlinecolor\":\"#2a3f5f\",\"gridcolor\":\"white\",\"linecolor\":\"white\",\"minorgridcolor\":\"white\",\"startlinecolor\":\"#2a3f5f\"},\"baxis\":{\"endlinecolor\":\"#2a3f5f\",\"gridcolor\":\"white\",\"linecolor\":\"white\",\"minorgridcolor\":\"white\",\"startlinecolor\":\"#2a3f5f\"},\"type\":\"carpet\"}],\"table\":[{\"cells\":{\"fill\":{\"color\":\"#EBF0F8\"},\"line\":{\"color\":\"white\"}},\"header\":{\"fill\":{\"color\":\"#C8D4E3\"},\"line\":{\"color\":\"white\"}},\"type\":\"table\"}],\"barpolar\":[{\"marker\":{\"line\":{\"color\":\"#E5ECF6\",\"width\":0.5},\"pattern\":{\"fillmode\":\"overlay\",\"size\":10,\"solidity\":0.2}},\"type\":\"barpolar\"}],\"pie\":[{\"automargin\":true,\"type\":\"pie\"}]},\"layout\":{\"autotypenumbers\":\"strict\",\"colorway\":[\"#636efa\",\"#EF553B\",\"#00cc96\",\"#ab63fa\",\"#FFA15A\",\"#19d3f3\",\"#FF6692\",\"#B6E880\",\"#FF97FF\",\"#FECB52\"],\"font\":{\"color\":\"#2a3f5f\"},\"hovermode\":\"closest\",\"hoverlabel\":{\"align\":\"left\"},\"paper_bgcolor\":\"white\",\"plot_bgcolor\":\"#E5ECF6\",\"polar\":{\"bgcolor\":\"#E5ECF6\",\"angularaxis\":{\"gridcolor\":\"white\",\"linecolor\":\"white\",\"ticks\":\"\"},\"radialaxis\":{\"gridcolor\":\"white\",\"linecolor\":\"white\",\"ticks\":\"\"}},\"ternary\":{\"bgcolor\":\"#E5ECF6\",\"aaxis\":{\"gridcolor\":\"white\",\"linecolor\":\"white\",\"ticks\":\"\"},\"baxis\":{\"gridcolor\":\"white\",\"linecolor\":\"white\",\"ticks\":\"\"},\"caxis\":{\"gridcolor\":\"white\",\"linecolor\":\"white\",\"ticks\":\"\"}},\"coloraxis\":{\"colorbar\":{\"outlinewidth\":0,\"ticks\":\"\"}},\"colorscale\":{\"sequential\":[[0.0,\"#0d0887\"],[0.1111111111111111,\"#46039f\"],[0.2222222222222222,\"#7201a8\"],[0.3333333333333333,\"#9c179e\"],[0.4444444444444444,\"#bd3786\"],[0.5555555555555556,\"#d8576b\"],[0.6666666666666666,\"#ed7953\"],[0.7777777777777778,\"#fb9f3a\"],[0.8888888888888888,\"#fdca26\"],[1.0,\"#f0f921\"]],\"sequentialminus\":[[0.0,\"#0d0887\"],[0.1111111111111111,\"#46039f\"],[0.2222222222222222,\"#7201a8\"],[0.3333333333333333,\"#9c179e\"],[0.4444444444444444,\"#bd3786\"],[0.5555555555555556,\"#d8576b\"],[0.6666666666666666,\"#ed7953\"],[0.7777777777777778,\"#fb9f3a\"],[0.8888888888888888,\"#fdca26\"],[1.0,\"#f0f921\"]],\"diverging\":[[0,\"#8e0152\"],[0.1,\"#c51b7d\"],[0.2,\"#de77ae\"],[0.3,\"#f1b6da\"],[0.4,\"#fde0ef\"],[0.5,\"#f7f7f7\"],[0.6,\"#e6f5d0\"],[0.7,\"#b8e186\"],[0.8,\"#7fbc41\"],[0.9,\"#4d9221\"],[1,\"#276419\"]]},\"xaxis\":{\"gridcolor\":\"white\",\"linecolor\":\"white\",\"ticks\":\"\",\"title\":{\"standoff\":15},\"zerolinecolor\":\"white\",\"automargin\":true,\"zerolinewidth\":2},\"yaxis\":{\"gridcolor\":\"white\",\"linecolor\":\"white\",\"ticks\":\"\",\"title\":{\"standoff\":15},\"zerolinecolor\":\"white\",\"automargin\":true,\"zerolinewidth\":2},\"scene\":{\"xaxis\":{\"backgroundcolor\":\"#E5ECF6\",\"gridcolor\":\"white\",\"linecolor\":\"white\",\"showbackground\":true,\"ticks\":\"\",\"zerolinecolor\":\"white\",\"gridwidth\":2},\"yaxis\":{\"backgroundcolor\":\"#E5ECF6\",\"gridcolor\":\"white\",\"linecolor\":\"white\",\"showbackground\":true,\"ticks\":\"\",\"zerolinecolor\":\"white\",\"gridwidth\":2},\"zaxis\":{\"backgroundcolor\":\"#E5ECF6\",\"gridcolor\":\"white\",\"linecolor\":\"white\",\"showbackground\":true,\"ticks\":\"\",\"zerolinecolor\":\"white\",\"gridwidth\":2}},\"shapedefaults\":{\"line\":{\"color\":\"#2a3f5f\"}},\"annotationdefaults\":{\"arrowcolor\":\"#2a3f5f\",\"arrowhead\":0,\"arrowwidth\":1},\"geo\":{\"bgcolor\":\"white\",\"landcolor\":\"#E5ECF6\",\"subunitcolor\":\"white\",\"showland\":true,\"showlakes\":true,\"lakecolor\":\"white\"},\"title\":{\"x\":0.05},\"mapbox\":{\"style\":\"light\"}}},\"legend\":{\"tracegroupgap\":0},\"title\":{\"text\":\"G\\u00eanero dos Filmes\"}},                        {\"responsive\": true}                    ).then(function(){\n",
       "                            \n",
       "var gd = document.getElementById('22ce2bdc-0a7a-4630-8318-350ef2ccd079');\n",
       "var x = new MutationObserver(function (mutations, observer) {{\n",
       "        var display = window.getComputedStyle(gd).display;\n",
       "        if (!display || display === 'none') {{\n",
       "            console.log([gd, 'removed!']);\n",
       "            Plotly.purge(gd);\n",
       "            observer.disconnect();\n",
       "        }}\n",
       "}});\n",
       "\n",
       "// Listen for the removal of the full notebook cells\n",
       "var notebookContainer = gd.closest('#notebook-container');\n",
       "if (notebookContainer) {{\n",
       "    x.observe(notebookContainer, {childList: true});\n",
       "}}\n",
       "\n",
       "// Listen for the clearing of the current output cell\n",
       "var outputEl = gd.closest('.output');\n",
       "if (outputEl) {{\n",
       "    x.observe(outputEl, {childList: true});\n",
       "}}\n",
       "\n",
       "                        })                };                });            </script>        </div>"
      ]
     },
     "metadata": {},
     "output_type": "display_data"
    }
   ],
   "source": [
    "# Distribuição dos Gênero dos Filmes no Top 1000\n",
    "df_aux = df.copy()\n",
    "df_aux['Genre'] = df_aux['Genre'].str.split(', ')\n",
    "df_aux = df_aux.explode('Genre')\n",
    "\n",
    "pie_genre = px.pie(values=df_aux[\"Genre\"].value_counts(), \n",
    "             names=df_aux[\"Genre\"].unique(), \n",
    "             title='Gênero dos Filmes').update_traces(pull=0.02)\n",
    "pie_genre.show()"
   ]
  },
  {
   "cell_type": "markdown",
   "metadata": {},
   "source": [
    "**Distribuição ao longo dos Anos**: Para analisar a quantidade de filmes no Top 1000 do IMDB em cada ano, utilizaremos um **Gráfico de Barras** por se tratar de uma variável categórica ordinal.\n",
    "\n",
    "É possível notar que os filmes do Top 1000 estão concentrados na década de 40 com um comportamento decrescente, ou seja, os filmes mais aclamados tendem a ser mais antigos."
   ]
  },
  {
   "cell_type": "code",
   "execution_count": 55,
   "metadata": {},
   "outputs": [
    {
     "data": {
      "application/vnd.plotly.v1+json": {
       "config": {
        "plotlyServerURL": "https://plot.ly"
       },
       "data": [
        {
         "hovertemplate": "Ano de Lançamento=%{x}<br>Quantidade de Filmes=%{y}<extra></extra>",
         "legendgroup": "",
         "line": {
          "color": "#636efa",
          "dash": "solid"
         },
         "marker": {
          "symbol": "circle"
         },
         "mode": "lines",
         "name": "",
         "orientation": "v",
         "showlegend": false,
         "type": "scatter",
         "x": [
          1921,
          1924,
          1925,
          1926,
          1927,
          1928,
          1930,
          1931,
          1933,
          1934,
          1935,
          1936,
          1938,
          1939,
          1940,
          1941,
          1942,
          1944,
          1945,
          1946,
          1948,
          1949,
          1950,
          1951,
          1952,
          1953,
          1954,
          1956,
          1957,
          1958,
          1959,
          1960,
          1961,
          1962,
          1963,
          1964,
          1965,
          1966,
          1967,
          1968,
          1969,
          1970,
          1971,
          1972,
          1973,
          1974,
          1975,
          1976,
          1977,
          1978,
          1979,
          1980,
          1981,
          1982,
          1983,
          1984,
          1985,
          1986,
          1987,
          1988,
          1989,
          1990,
          1991,
          1992,
          1993,
          1994,
          1995,
          1996,
          1997,
          1998,
          1999,
          2000,
          2001,
          2002,
          2003,
          2004,
          2005,
          2006,
          2007,
          2008,
          2009,
          2010,
          2011,
          2012,
          2013,
          2014,
          2015,
          2016,
          2017,
          2018,
          2019
         ],
         "xaxis": "x",
         "y": [
          1,
          1,
          1,
          1,
          1,
          1,
          1,
          2,
          1,
          1,
          1,
          1,
          1,
          3,
          5,
          1,
          1,
          2,
          1,
          3,
          1,
          1,
          1,
          4,
          3,
          1,
          4,
          1,
          3,
          3,
          4,
          7,
          2,
          3,
          3,
          6,
          3,
          3,
          6,
          5,
          3,
          3,
          7,
          6,
          10,
          5,
          5,
          5,
          3,
          4,
          11,
          6,
          4,
          10,
          5,
          9,
          8,
          8,
          12,
          9,
          9,
          8,
          12,
          10,
          21,
          12,
          16,
          9,
          15,
          16,
          17,
          16,
          25,
          18,
          19,
          28,
          15,
          23,
          23,
          17,
          24,
          20,
          16,
          20,
          25,
          30,
          22,
          23,
          19,
          14,
          16
         ],
         "yaxis": "y"
        }
       ],
       "layout": {
        "legend": {
         "tracegroupgap": 0
        },
        "template": {
         "data": {
          "bar": [
           {
            "error_x": {
             "color": "#2a3f5f"
            },
            "error_y": {
             "color": "#2a3f5f"
            },
            "marker": {
             "line": {
              "color": "#E5ECF6",
              "width": 0.5
             },
             "pattern": {
              "fillmode": "overlay",
              "size": 10,
              "solidity": 0.2
             }
            },
            "type": "bar"
           }
          ],
          "barpolar": [
           {
            "marker": {
             "line": {
              "color": "#E5ECF6",
              "width": 0.5
             },
             "pattern": {
              "fillmode": "overlay",
              "size": 10,
              "solidity": 0.2
             }
            },
            "type": "barpolar"
           }
          ],
          "carpet": [
           {
            "aaxis": {
             "endlinecolor": "#2a3f5f",
             "gridcolor": "white",
             "linecolor": "white",
             "minorgridcolor": "white",
             "startlinecolor": "#2a3f5f"
            },
            "baxis": {
             "endlinecolor": "#2a3f5f",
             "gridcolor": "white",
             "linecolor": "white",
             "minorgridcolor": "white",
             "startlinecolor": "#2a3f5f"
            },
            "type": "carpet"
           }
          ],
          "choropleth": [
           {
            "colorbar": {
             "outlinewidth": 0,
             "ticks": ""
            },
            "type": "choropleth"
           }
          ],
          "contour": [
           {
            "colorbar": {
             "outlinewidth": 0,
             "ticks": ""
            },
            "colorscale": [
             [
              0,
              "#0d0887"
             ],
             [
              0.1111111111111111,
              "#46039f"
             ],
             [
              0.2222222222222222,
              "#7201a8"
             ],
             [
              0.3333333333333333,
              "#9c179e"
             ],
             [
              0.4444444444444444,
              "#bd3786"
             ],
             [
              0.5555555555555556,
              "#d8576b"
             ],
             [
              0.6666666666666666,
              "#ed7953"
             ],
             [
              0.7777777777777778,
              "#fb9f3a"
             ],
             [
              0.8888888888888888,
              "#fdca26"
             ],
             [
              1,
              "#f0f921"
             ]
            ],
            "type": "contour"
           }
          ],
          "contourcarpet": [
           {
            "colorbar": {
             "outlinewidth": 0,
             "ticks": ""
            },
            "type": "contourcarpet"
           }
          ],
          "heatmap": [
           {
            "colorbar": {
             "outlinewidth": 0,
             "ticks": ""
            },
            "colorscale": [
             [
              0,
              "#0d0887"
             ],
             [
              0.1111111111111111,
              "#46039f"
             ],
             [
              0.2222222222222222,
              "#7201a8"
             ],
             [
              0.3333333333333333,
              "#9c179e"
             ],
             [
              0.4444444444444444,
              "#bd3786"
             ],
             [
              0.5555555555555556,
              "#d8576b"
             ],
             [
              0.6666666666666666,
              "#ed7953"
             ],
             [
              0.7777777777777778,
              "#fb9f3a"
             ],
             [
              0.8888888888888888,
              "#fdca26"
             ],
             [
              1,
              "#f0f921"
             ]
            ],
            "type": "heatmap"
           }
          ],
          "heatmapgl": [
           {
            "colorbar": {
             "outlinewidth": 0,
             "ticks": ""
            },
            "colorscale": [
             [
              0,
              "#0d0887"
             ],
             [
              0.1111111111111111,
              "#46039f"
             ],
             [
              0.2222222222222222,
              "#7201a8"
             ],
             [
              0.3333333333333333,
              "#9c179e"
             ],
             [
              0.4444444444444444,
              "#bd3786"
             ],
             [
              0.5555555555555556,
              "#d8576b"
             ],
             [
              0.6666666666666666,
              "#ed7953"
             ],
             [
              0.7777777777777778,
              "#fb9f3a"
             ],
             [
              0.8888888888888888,
              "#fdca26"
             ],
             [
              1,
              "#f0f921"
             ]
            ],
            "type": "heatmapgl"
           }
          ],
          "histogram": [
           {
            "marker": {
             "pattern": {
              "fillmode": "overlay",
              "size": 10,
              "solidity": 0.2
             }
            },
            "type": "histogram"
           }
          ],
          "histogram2d": [
           {
            "colorbar": {
             "outlinewidth": 0,
             "ticks": ""
            },
            "colorscale": [
             [
              0,
              "#0d0887"
             ],
             [
              0.1111111111111111,
              "#46039f"
             ],
             [
              0.2222222222222222,
              "#7201a8"
             ],
             [
              0.3333333333333333,
              "#9c179e"
             ],
             [
              0.4444444444444444,
              "#bd3786"
             ],
             [
              0.5555555555555556,
              "#d8576b"
             ],
             [
              0.6666666666666666,
              "#ed7953"
             ],
             [
              0.7777777777777778,
              "#fb9f3a"
             ],
             [
              0.8888888888888888,
              "#fdca26"
             ],
             [
              1,
              "#f0f921"
             ]
            ],
            "type": "histogram2d"
           }
          ],
          "histogram2dcontour": [
           {
            "colorbar": {
             "outlinewidth": 0,
             "ticks": ""
            },
            "colorscale": [
             [
              0,
              "#0d0887"
             ],
             [
              0.1111111111111111,
              "#46039f"
             ],
             [
              0.2222222222222222,
              "#7201a8"
             ],
             [
              0.3333333333333333,
              "#9c179e"
             ],
             [
              0.4444444444444444,
              "#bd3786"
             ],
             [
              0.5555555555555556,
              "#d8576b"
             ],
             [
              0.6666666666666666,
              "#ed7953"
             ],
             [
              0.7777777777777778,
              "#fb9f3a"
             ],
             [
              0.8888888888888888,
              "#fdca26"
             ],
             [
              1,
              "#f0f921"
             ]
            ],
            "type": "histogram2dcontour"
           }
          ],
          "mesh3d": [
           {
            "colorbar": {
             "outlinewidth": 0,
             "ticks": ""
            },
            "type": "mesh3d"
           }
          ],
          "parcoords": [
           {
            "line": {
             "colorbar": {
              "outlinewidth": 0,
              "ticks": ""
             }
            },
            "type": "parcoords"
           }
          ],
          "pie": [
           {
            "automargin": true,
            "type": "pie"
           }
          ],
          "scatter": [
           {
            "fillpattern": {
             "fillmode": "overlay",
             "size": 10,
             "solidity": 0.2
            },
            "type": "scatter"
           }
          ],
          "scatter3d": [
           {
            "line": {
             "colorbar": {
              "outlinewidth": 0,
              "ticks": ""
             }
            },
            "marker": {
             "colorbar": {
              "outlinewidth": 0,
              "ticks": ""
             }
            },
            "type": "scatter3d"
           }
          ],
          "scattercarpet": [
           {
            "marker": {
             "colorbar": {
              "outlinewidth": 0,
              "ticks": ""
             }
            },
            "type": "scattercarpet"
           }
          ],
          "scattergeo": [
           {
            "marker": {
             "colorbar": {
              "outlinewidth": 0,
              "ticks": ""
             }
            },
            "type": "scattergeo"
           }
          ],
          "scattergl": [
           {
            "marker": {
             "colorbar": {
              "outlinewidth": 0,
              "ticks": ""
             }
            },
            "type": "scattergl"
           }
          ],
          "scattermapbox": [
           {
            "marker": {
             "colorbar": {
              "outlinewidth": 0,
              "ticks": ""
             }
            },
            "type": "scattermapbox"
           }
          ],
          "scatterpolar": [
           {
            "marker": {
             "colorbar": {
              "outlinewidth": 0,
              "ticks": ""
             }
            },
            "type": "scatterpolar"
           }
          ],
          "scatterpolargl": [
           {
            "marker": {
             "colorbar": {
              "outlinewidth": 0,
              "ticks": ""
             }
            },
            "type": "scatterpolargl"
           }
          ],
          "scatterternary": [
           {
            "marker": {
             "colorbar": {
              "outlinewidth": 0,
              "ticks": ""
             }
            },
            "type": "scatterternary"
           }
          ],
          "surface": [
           {
            "colorbar": {
             "outlinewidth": 0,
             "ticks": ""
            },
            "colorscale": [
             [
              0,
              "#0d0887"
             ],
             [
              0.1111111111111111,
              "#46039f"
             ],
             [
              0.2222222222222222,
              "#7201a8"
             ],
             [
              0.3333333333333333,
              "#9c179e"
             ],
             [
              0.4444444444444444,
              "#bd3786"
             ],
             [
              0.5555555555555556,
              "#d8576b"
             ],
             [
              0.6666666666666666,
              "#ed7953"
             ],
             [
              0.7777777777777778,
              "#fb9f3a"
             ],
             [
              0.8888888888888888,
              "#fdca26"
             ],
             [
              1,
              "#f0f921"
             ]
            ],
            "type": "surface"
           }
          ],
          "table": [
           {
            "cells": {
             "fill": {
              "color": "#EBF0F8"
             },
             "line": {
              "color": "white"
             }
            },
            "header": {
             "fill": {
              "color": "#C8D4E3"
             },
             "line": {
              "color": "white"
             }
            },
            "type": "table"
           }
          ]
         },
         "layout": {
          "annotationdefaults": {
           "arrowcolor": "#2a3f5f",
           "arrowhead": 0,
           "arrowwidth": 1
          },
          "autotypenumbers": "strict",
          "coloraxis": {
           "colorbar": {
            "outlinewidth": 0,
            "ticks": ""
           }
          },
          "colorscale": {
           "diverging": [
            [
             0,
             "#8e0152"
            ],
            [
             0.1,
             "#c51b7d"
            ],
            [
             0.2,
             "#de77ae"
            ],
            [
             0.3,
             "#f1b6da"
            ],
            [
             0.4,
             "#fde0ef"
            ],
            [
             0.5,
             "#f7f7f7"
            ],
            [
             0.6,
             "#e6f5d0"
            ],
            [
             0.7,
             "#b8e186"
            ],
            [
             0.8,
             "#7fbc41"
            ],
            [
             0.9,
             "#4d9221"
            ],
            [
             1,
             "#276419"
            ]
           ],
           "sequential": [
            [
             0,
             "#0d0887"
            ],
            [
             0.1111111111111111,
             "#46039f"
            ],
            [
             0.2222222222222222,
             "#7201a8"
            ],
            [
             0.3333333333333333,
             "#9c179e"
            ],
            [
             0.4444444444444444,
             "#bd3786"
            ],
            [
             0.5555555555555556,
             "#d8576b"
            ],
            [
             0.6666666666666666,
             "#ed7953"
            ],
            [
             0.7777777777777778,
             "#fb9f3a"
            ],
            [
             0.8888888888888888,
             "#fdca26"
            ],
            [
             1,
             "#f0f921"
            ]
           ],
           "sequentialminus": [
            [
             0,
             "#0d0887"
            ],
            [
             0.1111111111111111,
             "#46039f"
            ],
            [
             0.2222222222222222,
             "#7201a8"
            ],
            [
             0.3333333333333333,
             "#9c179e"
            ],
            [
             0.4444444444444444,
             "#bd3786"
            ],
            [
             0.5555555555555556,
             "#d8576b"
            ],
            [
             0.6666666666666666,
             "#ed7953"
            ],
            [
             0.7777777777777778,
             "#fb9f3a"
            ],
            [
             0.8888888888888888,
             "#fdca26"
            ],
            [
             1,
             "#f0f921"
            ]
           ]
          },
          "colorway": [
           "#636efa",
           "#EF553B",
           "#00cc96",
           "#ab63fa",
           "#FFA15A",
           "#19d3f3",
           "#FF6692",
           "#B6E880",
           "#FF97FF",
           "#FECB52"
          ],
          "font": {
           "color": "#2a3f5f"
          },
          "geo": {
           "bgcolor": "white",
           "lakecolor": "white",
           "landcolor": "#E5ECF6",
           "showlakes": true,
           "showland": true,
           "subunitcolor": "white"
          },
          "hoverlabel": {
           "align": "left"
          },
          "hovermode": "closest",
          "mapbox": {
           "style": "light"
          },
          "paper_bgcolor": "white",
          "plot_bgcolor": "#E5ECF6",
          "polar": {
           "angularaxis": {
            "gridcolor": "white",
            "linecolor": "white",
            "ticks": ""
           },
           "bgcolor": "#E5ECF6",
           "radialaxis": {
            "gridcolor": "white",
            "linecolor": "white",
            "ticks": ""
           }
          },
          "scene": {
           "xaxis": {
            "backgroundcolor": "#E5ECF6",
            "gridcolor": "white",
            "gridwidth": 2,
            "linecolor": "white",
            "showbackground": true,
            "ticks": "",
            "zerolinecolor": "white"
           },
           "yaxis": {
            "backgroundcolor": "#E5ECF6",
            "gridcolor": "white",
            "gridwidth": 2,
            "linecolor": "white",
            "showbackground": true,
            "ticks": "",
            "zerolinecolor": "white"
           },
           "zaxis": {
            "backgroundcolor": "#E5ECF6",
            "gridcolor": "white",
            "gridwidth": 2,
            "linecolor": "white",
            "showbackground": true,
            "ticks": "",
            "zerolinecolor": "white"
           }
          },
          "shapedefaults": {
           "line": {
            "color": "#2a3f5f"
           }
          },
          "ternary": {
           "aaxis": {
            "gridcolor": "white",
            "linecolor": "white",
            "ticks": ""
           },
           "baxis": {
            "gridcolor": "white",
            "linecolor": "white",
            "ticks": ""
           },
           "bgcolor": "#E5ECF6",
           "caxis": {
            "gridcolor": "white",
            "linecolor": "white",
            "ticks": ""
           }
          },
          "title": {
           "x": 0.05
          },
          "xaxis": {
           "automargin": true,
           "gridcolor": "white",
           "linecolor": "white",
           "ticks": "",
           "title": {
            "standoff": 15
           },
           "zerolinecolor": "white",
           "zerolinewidth": 2
          },
          "yaxis": {
           "automargin": true,
           "gridcolor": "white",
           "linecolor": "white",
           "ticks": "",
           "title": {
            "standoff": 15
           },
           "zerolinecolor": "white",
           "zerolinewidth": 2
          }
         }
        },
        "title": {
         "text": "Top 1000 Filmes IMDB distribuídos ao longo dos Anos"
        },
        "xaxis": {
         "anchor": "y",
         "domain": [
          0,
          1
         ],
         "title": {
          "text": "Ano de Lançamento"
         }
        },
        "yaxis": {
         "anchor": "x",
         "domain": [
          0,
          1
         ],
         "title": {
          "text": "Quantidade de Filmes"
         }
        }
       }
      },
      "text/html": [
       "<div>                            <div id=\"c2037a87-d520-4b63-9132-cea61c6443dc\" class=\"plotly-graph-div\" style=\"height:525px; width:100%;\"></div>            <script type=\"text/javascript\">                require([\"plotly\"], function(Plotly) {                    window.PLOTLYENV=window.PLOTLYENV || {};                                    if (document.getElementById(\"c2037a87-d520-4b63-9132-cea61c6443dc\")) {                    Plotly.newPlot(                        \"c2037a87-d520-4b63-9132-cea61c6443dc\",                        [{\"hovertemplate\":\"Ano de Lan\\u00e7amento=%{x}<br>Quantidade de Filmes=%{y}<extra></extra>\",\"legendgroup\":\"\",\"line\":{\"color\":\"#636efa\",\"dash\":\"solid\"},\"marker\":{\"symbol\":\"circle\"},\"mode\":\"lines\",\"name\":\"\",\"orientation\":\"v\",\"showlegend\":false,\"x\":[1921,1924,1925,1926,1927,1928,1930,1931,1933,1934,1935,1936,1938,1939,1940,1941,1942,1944,1945,1946,1948,1949,1950,1951,1952,1953,1954,1956,1957,1958,1959,1960,1961,1962,1963,1964,1965,1966,1967,1968,1969,1970,1971,1972,1973,1974,1975,1976,1977,1978,1979,1980,1981,1982,1983,1984,1985,1986,1987,1988,1989,1990,1991,1992,1993,1994,1995,1996,1997,1998,1999,2000,2001,2002,2003,2004,2005,2006,2007,2008,2009,2010,2011,2012,2013,2014,2015,2016,2017,2018,2019],\"xaxis\":\"x\",\"y\":[1,1,1,1,1,1,1,2,1,1,1,1,1,3,5,1,1,2,1,3,1,1,1,4,3,1,4,1,3,3,4,7,2,3,3,6,3,3,6,5,3,3,7,6,10,5,5,5,3,4,11,6,4,10,5,9,8,8,12,9,9,8,12,10,21,12,16,9,15,16,17,16,25,18,19,28,15,23,23,17,24,20,16,20,25,30,22,23,19,14,16],\"yaxis\":\"y\",\"type\":\"scatter\"}],                        {\"template\":{\"data\":{\"histogram2dcontour\":[{\"type\":\"histogram2dcontour\",\"colorbar\":{\"outlinewidth\":0,\"ticks\":\"\"},\"colorscale\":[[0.0,\"#0d0887\"],[0.1111111111111111,\"#46039f\"],[0.2222222222222222,\"#7201a8\"],[0.3333333333333333,\"#9c179e\"],[0.4444444444444444,\"#bd3786\"],[0.5555555555555556,\"#d8576b\"],[0.6666666666666666,\"#ed7953\"],[0.7777777777777778,\"#fb9f3a\"],[0.8888888888888888,\"#fdca26\"],[1.0,\"#f0f921\"]]}],\"choropleth\":[{\"type\":\"choropleth\",\"colorbar\":{\"outlinewidth\":0,\"ticks\":\"\"}}],\"histogram2d\":[{\"type\":\"histogram2d\",\"colorbar\":{\"outlinewidth\":0,\"ticks\":\"\"},\"colorscale\":[[0.0,\"#0d0887\"],[0.1111111111111111,\"#46039f\"],[0.2222222222222222,\"#7201a8\"],[0.3333333333333333,\"#9c179e\"],[0.4444444444444444,\"#bd3786\"],[0.5555555555555556,\"#d8576b\"],[0.6666666666666666,\"#ed7953\"],[0.7777777777777778,\"#fb9f3a\"],[0.8888888888888888,\"#fdca26\"],[1.0,\"#f0f921\"]]}],\"heatmap\":[{\"type\":\"heatmap\",\"colorbar\":{\"outlinewidth\":0,\"ticks\":\"\"},\"colorscale\":[[0.0,\"#0d0887\"],[0.1111111111111111,\"#46039f\"],[0.2222222222222222,\"#7201a8\"],[0.3333333333333333,\"#9c179e\"],[0.4444444444444444,\"#bd3786\"],[0.5555555555555556,\"#d8576b\"],[0.6666666666666666,\"#ed7953\"],[0.7777777777777778,\"#fb9f3a\"],[0.8888888888888888,\"#fdca26\"],[1.0,\"#f0f921\"]]}],\"heatmapgl\":[{\"type\":\"heatmapgl\",\"colorbar\":{\"outlinewidth\":0,\"ticks\":\"\"},\"colorscale\":[[0.0,\"#0d0887\"],[0.1111111111111111,\"#46039f\"],[0.2222222222222222,\"#7201a8\"],[0.3333333333333333,\"#9c179e\"],[0.4444444444444444,\"#bd3786\"],[0.5555555555555556,\"#d8576b\"],[0.6666666666666666,\"#ed7953\"],[0.7777777777777778,\"#fb9f3a\"],[0.8888888888888888,\"#fdca26\"],[1.0,\"#f0f921\"]]}],\"contourcarpet\":[{\"type\":\"contourcarpet\",\"colorbar\":{\"outlinewidth\":0,\"ticks\":\"\"}}],\"contour\":[{\"type\":\"contour\",\"colorbar\":{\"outlinewidth\":0,\"ticks\":\"\"},\"colorscale\":[[0.0,\"#0d0887\"],[0.1111111111111111,\"#46039f\"],[0.2222222222222222,\"#7201a8\"],[0.3333333333333333,\"#9c179e\"],[0.4444444444444444,\"#bd3786\"],[0.5555555555555556,\"#d8576b\"],[0.6666666666666666,\"#ed7953\"],[0.7777777777777778,\"#fb9f3a\"],[0.8888888888888888,\"#fdca26\"],[1.0,\"#f0f921\"]]}],\"surface\":[{\"type\":\"surface\",\"colorbar\":{\"outlinewidth\":0,\"ticks\":\"\"},\"colorscale\":[[0.0,\"#0d0887\"],[0.1111111111111111,\"#46039f\"],[0.2222222222222222,\"#7201a8\"],[0.3333333333333333,\"#9c179e\"],[0.4444444444444444,\"#bd3786\"],[0.5555555555555556,\"#d8576b\"],[0.6666666666666666,\"#ed7953\"],[0.7777777777777778,\"#fb9f3a\"],[0.8888888888888888,\"#fdca26\"],[1.0,\"#f0f921\"]]}],\"mesh3d\":[{\"type\":\"mesh3d\",\"colorbar\":{\"outlinewidth\":0,\"ticks\":\"\"}}],\"scatter\":[{\"fillpattern\":{\"fillmode\":\"overlay\",\"size\":10,\"solidity\":0.2},\"type\":\"scatter\"}],\"parcoords\":[{\"type\":\"parcoords\",\"line\":{\"colorbar\":{\"outlinewidth\":0,\"ticks\":\"\"}}}],\"scatterpolargl\":[{\"type\":\"scatterpolargl\",\"marker\":{\"colorbar\":{\"outlinewidth\":0,\"ticks\":\"\"}}}],\"bar\":[{\"error_x\":{\"color\":\"#2a3f5f\"},\"error_y\":{\"color\":\"#2a3f5f\"},\"marker\":{\"line\":{\"color\":\"#E5ECF6\",\"width\":0.5},\"pattern\":{\"fillmode\":\"overlay\",\"size\":10,\"solidity\":0.2}},\"type\":\"bar\"}],\"scattergeo\":[{\"type\":\"scattergeo\",\"marker\":{\"colorbar\":{\"outlinewidth\":0,\"ticks\":\"\"}}}],\"scatterpolar\":[{\"type\":\"scatterpolar\",\"marker\":{\"colorbar\":{\"outlinewidth\":0,\"ticks\":\"\"}}}],\"histogram\":[{\"marker\":{\"pattern\":{\"fillmode\":\"overlay\",\"size\":10,\"solidity\":0.2}},\"type\":\"histogram\"}],\"scattergl\":[{\"type\":\"scattergl\",\"marker\":{\"colorbar\":{\"outlinewidth\":0,\"ticks\":\"\"}}}],\"scatter3d\":[{\"type\":\"scatter3d\",\"line\":{\"colorbar\":{\"outlinewidth\":0,\"ticks\":\"\"}},\"marker\":{\"colorbar\":{\"outlinewidth\":0,\"ticks\":\"\"}}}],\"scattermapbox\":[{\"type\":\"scattermapbox\",\"marker\":{\"colorbar\":{\"outlinewidth\":0,\"ticks\":\"\"}}}],\"scatterternary\":[{\"type\":\"scatterternary\",\"marker\":{\"colorbar\":{\"outlinewidth\":0,\"ticks\":\"\"}}}],\"scattercarpet\":[{\"type\":\"scattercarpet\",\"marker\":{\"colorbar\":{\"outlinewidth\":0,\"ticks\":\"\"}}}],\"carpet\":[{\"aaxis\":{\"endlinecolor\":\"#2a3f5f\",\"gridcolor\":\"white\",\"linecolor\":\"white\",\"minorgridcolor\":\"white\",\"startlinecolor\":\"#2a3f5f\"},\"baxis\":{\"endlinecolor\":\"#2a3f5f\",\"gridcolor\":\"white\",\"linecolor\":\"white\",\"minorgridcolor\":\"white\",\"startlinecolor\":\"#2a3f5f\"},\"type\":\"carpet\"}],\"table\":[{\"cells\":{\"fill\":{\"color\":\"#EBF0F8\"},\"line\":{\"color\":\"white\"}},\"header\":{\"fill\":{\"color\":\"#C8D4E3\"},\"line\":{\"color\":\"white\"}},\"type\":\"table\"}],\"barpolar\":[{\"marker\":{\"line\":{\"color\":\"#E5ECF6\",\"width\":0.5},\"pattern\":{\"fillmode\":\"overlay\",\"size\":10,\"solidity\":0.2}},\"type\":\"barpolar\"}],\"pie\":[{\"automargin\":true,\"type\":\"pie\"}]},\"layout\":{\"autotypenumbers\":\"strict\",\"colorway\":[\"#636efa\",\"#EF553B\",\"#00cc96\",\"#ab63fa\",\"#FFA15A\",\"#19d3f3\",\"#FF6692\",\"#B6E880\",\"#FF97FF\",\"#FECB52\"],\"font\":{\"color\":\"#2a3f5f\"},\"hovermode\":\"closest\",\"hoverlabel\":{\"align\":\"left\"},\"paper_bgcolor\":\"white\",\"plot_bgcolor\":\"#E5ECF6\",\"polar\":{\"bgcolor\":\"#E5ECF6\",\"angularaxis\":{\"gridcolor\":\"white\",\"linecolor\":\"white\",\"ticks\":\"\"},\"radialaxis\":{\"gridcolor\":\"white\",\"linecolor\":\"white\",\"ticks\":\"\"}},\"ternary\":{\"bgcolor\":\"#E5ECF6\",\"aaxis\":{\"gridcolor\":\"white\",\"linecolor\":\"white\",\"ticks\":\"\"},\"baxis\":{\"gridcolor\":\"white\",\"linecolor\":\"white\",\"ticks\":\"\"},\"caxis\":{\"gridcolor\":\"white\",\"linecolor\":\"white\",\"ticks\":\"\"}},\"coloraxis\":{\"colorbar\":{\"outlinewidth\":0,\"ticks\":\"\"}},\"colorscale\":{\"sequential\":[[0.0,\"#0d0887\"],[0.1111111111111111,\"#46039f\"],[0.2222222222222222,\"#7201a8\"],[0.3333333333333333,\"#9c179e\"],[0.4444444444444444,\"#bd3786\"],[0.5555555555555556,\"#d8576b\"],[0.6666666666666666,\"#ed7953\"],[0.7777777777777778,\"#fb9f3a\"],[0.8888888888888888,\"#fdca26\"],[1.0,\"#f0f921\"]],\"sequentialminus\":[[0.0,\"#0d0887\"],[0.1111111111111111,\"#46039f\"],[0.2222222222222222,\"#7201a8\"],[0.3333333333333333,\"#9c179e\"],[0.4444444444444444,\"#bd3786\"],[0.5555555555555556,\"#d8576b\"],[0.6666666666666666,\"#ed7953\"],[0.7777777777777778,\"#fb9f3a\"],[0.8888888888888888,\"#fdca26\"],[1.0,\"#f0f921\"]],\"diverging\":[[0,\"#8e0152\"],[0.1,\"#c51b7d\"],[0.2,\"#de77ae\"],[0.3,\"#f1b6da\"],[0.4,\"#fde0ef\"],[0.5,\"#f7f7f7\"],[0.6,\"#e6f5d0\"],[0.7,\"#b8e186\"],[0.8,\"#7fbc41\"],[0.9,\"#4d9221\"],[1,\"#276419\"]]},\"xaxis\":{\"gridcolor\":\"white\",\"linecolor\":\"white\",\"ticks\":\"\",\"title\":{\"standoff\":15},\"zerolinecolor\":\"white\",\"automargin\":true,\"zerolinewidth\":2},\"yaxis\":{\"gridcolor\":\"white\",\"linecolor\":\"white\",\"ticks\":\"\",\"title\":{\"standoff\":15},\"zerolinecolor\":\"white\",\"automargin\":true,\"zerolinewidth\":2},\"scene\":{\"xaxis\":{\"backgroundcolor\":\"#E5ECF6\",\"gridcolor\":\"white\",\"linecolor\":\"white\",\"showbackground\":true,\"ticks\":\"\",\"zerolinecolor\":\"white\",\"gridwidth\":2},\"yaxis\":{\"backgroundcolor\":\"#E5ECF6\",\"gridcolor\":\"white\",\"linecolor\":\"white\",\"showbackground\":true,\"ticks\":\"\",\"zerolinecolor\":\"white\",\"gridwidth\":2},\"zaxis\":{\"backgroundcolor\":\"#E5ECF6\",\"gridcolor\":\"white\",\"linecolor\":\"white\",\"showbackground\":true,\"ticks\":\"\",\"zerolinecolor\":\"white\",\"gridwidth\":2}},\"shapedefaults\":{\"line\":{\"color\":\"#2a3f5f\"}},\"annotationdefaults\":{\"arrowcolor\":\"#2a3f5f\",\"arrowhead\":0,\"arrowwidth\":1},\"geo\":{\"bgcolor\":\"white\",\"landcolor\":\"#E5ECF6\",\"subunitcolor\":\"white\",\"showland\":true,\"showlakes\":true,\"lakecolor\":\"white\"},\"title\":{\"x\":0.05},\"mapbox\":{\"style\":\"light\"}}},\"xaxis\":{\"anchor\":\"y\",\"domain\":[0.0,1.0],\"title\":{\"text\":\"Ano de Lan\\u00e7amento\"}},\"yaxis\":{\"anchor\":\"x\",\"domain\":[0.0,1.0],\"title\":{\"text\":\"Quantidade de Filmes\"}},\"legend\":{\"tracegroupgap\":0},\"title\":{\"text\":\"Top 1000 Filmes IMDB distribu\\u00eddos ao longo dos Anos\"}},                        {\"responsive\": true}                    ).then(function(){\n",
       "                            \n",
       "var gd = document.getElementById('c2037a87-d520-4b63-9132-cea61c6443dc');\n",
       "var x = new MutationObserver(function (mutations, observer) {{\n",
       "        var display = window.getComputedStyle(gd).display;\n",
       "        if (!display || display === 'none') {{\n",
       "            console.log([gd, 'removed!']);\n",
       "            Plotly.purge(gd);\n",
       "            observer.disconnect();\n",
       "        }}\n",
       "}});\n",
       "\n",
       "// Listen for the removal of the full notebook cells\n",
       "var notebookContainer = gd.closest('#notebook-container');\n",
       "if (notebookContainer) {{\n",
       "    x.observe(notebookContainer, {childList: true});\n",
       "}}\n",
       "\n",
       "// Listen for the clearing of the current output cell\n",
       "var outputEl = gd.closest('.output');\n",
       "if (outputEl) {{\n",
       "    x.observe(outputEl, {childList: true});\n",
       "}}\n",
       "\n",
       "                        })                };                });            </script>        </div>"
      ]
     },
     "metadata": {},
     "output_type": "display_data"
    }
   ],
   "source": [
    "# Agrupando os dados por ano e conte a quantidade de filmes no Top 1000 IMDB\n",
    "df_years = df.groupby(\"Released_Year\").size().reset_index(name=\"Count\")\n",
    "\n",
    "years_graph = px.line(\n",
    "    df_years,\n",
    "    x=\"Released_Year\",\n",
    "    y=\"Count\",\n",
    "    labels={\"Released_Year\": \"Ano de Lançamento\", \"Count\": \"Quantidade de Filmes\"},\n",
    "    title=\"Top 1000 Filmes IMDB distribuídos ao longo dos Anos\",\n",
    ")\n",
    "\n",
    "years_graph.update_layout(\n",
    "    xaxis_title=\"Ano de Lançamento\",\n",
    "    yaxis_title=\"Quantidade de Filmes\",\n",
    ")\n",
    "\n",
    "years_graph.show()"
   ]
  },
  {
   "cell_type": "markdown",
   "metadata": {},
   "source": [
    "**Distribuição do IMDB Rating**: Para analisar como o IMDB Rating está distribuído entre os filmes, aplicaremos um **Histograma** junto de um **Boxplot**, pois ambos os gráficos auxiliam no entendimento da distribuição em variáveis númericas.\n",
    "\n",
    "Com base nos gráficos, é possível notar que os filmes estão concentrados entre os ratings 7.7 e 8.1, com alguns outliers acima de 9.\n"
   ]
  },
  {
   "cell_type": "code",
   "execution_count": 56,
   "metadata": {},
   "outputs": [
    {
     "data": {
      "application/vnd.plotly.v1+json": {
       "config": {
        "plotlyServerURL": "https://plot.ly"
       },
       "data": [
        {
         "alignmentgroup": "True",
         "bingroup": "x",
         "hovertemplate": "Nota no IMDB=%{x}<br>count=%{y}<extra></extra>",
         "legendgroup": "",
         "marker": {
          "color": "Tomato",
          "pattern": {
           "shape": ""
          }
         },
         "name": "",
         "offsetgroup": "",
         "orientation": "v",
         "showlegend": false,
         "type": "histogram",
         "x": [
          9.3,
          9.2,
          9,
          9,
          9,
          8.9,
          8.9,
          8.9,
          8.8,
          8.8,
          8.8,
          8.8,
          8.8,
          8.7,
          8.7,
          8.7,
          8.7,
          8.7,
          8.6,
          8.6,
          8.6,
          8.6,
          8.6,
          8.6,
          8.6,
          8.6,
          8.6,
          8.6,
          8.6,
          8.5,
          8.5,
          8.5,
          8.5,
          8.5,
          8.5,
          8.5,
          8.5,
          8.5,
          8.5,
          8.5,
          8.5,
          8.5,
          8.5,
          8.5,
          8.5,
          8.5,
          8.5,
          8.5,
          8.4,
          8.4,
          8.4,
          8.4,
          8.4,
          8.4,
          8.4,
          8.4,
          8.4,
          8.4,
          8.4,
          8.4,
          8.4,
          8.4,
          8.4,
          8.4,
          8.4,
          8.4,
          8.4,
          8.4,
          8.4,
          8.4,
          8.4,
          8.4,
          8.4,
          8.3,
          8.3,
          8.3,
          8.3,
          8.3,
          8.3,
          8.3,
          8.3,
          8.3,
          8.3,
          8.3,
          8.3,
          8.3,
          8.3,
          8.3,
          8.3,
          8.3,
          8.3,
          8.3,
          8.3,
          8.3,
          8.3,
          8.3,
          8.3,
          8.3,
          8.3,
          8.3,
          8.3,
          8.3,
          8.3,
          8.3,
          8.3,
          8.3,
          8.3,
          8.3,
          8.3,
          8.2,
          8.2,
          8.2,
          8.2,
          8.2,
          8.2,
          8.2,
          8.2,
          8.2,
          8.2,
          8.2,
          8.2,
          8.2,
          8.2,
          8.2,
          8.2,
          8.2,
          8.2,
          8.2,
          8.2,
          8.2,
          8.2,
          8.2,
          8.2,
          8.2,
          8.2,
          8.2,
          8.2,
          8.2,
          8.2,
          8.2,
          8.2,
          8.2,
          8.2,
          8.2,
          8.2,
          8.2,
          8.2,
          8.2,
          8.2,
          8.2,
          8.2,
          8.2,
          8.2,
          8.2,
          8.2,
          8.2,
          8.2,
          8.1,
          8.1,
          8.1,
          8.1,
          8.1,
          8.1,
          8.1,
          8.1,
          8.1,
          8.1,
          8.1,
          8.1,
          8.1,
          8.1,
          8.1,
          8.1,
          8.1,
          8.1,
          8.1,
          8.1,
          8.1,
          8.1,
          8.1,
          8.1,
          8.1,
          8.1,
          8.1,
          8.1,
          8.1,
          8.1,
          8.1,
          8.1,
          8.1,
          8.1,
          8.1,
          8.1,
          8.1,
          8.1,
          8.1,
          8.1,
          8.1,
          8.1,
          8.1,
          8.1,
          8.1,
          8.1,
          8.1,
          8.1,
          8.1,
          8.1,
          8.1,
          8.1,
          8.1,
          8.1,
          8.1,
          8.1,
          8.1,
          8.1,
          8.1,
          8.1,
          8.1,
          8.1,
          8.1,
          8.1,
          8.1,
          8.1,
          8.1,
          8.1,
          8.1,
          8.1,
          8.1,
          8.1,
          8.1,
          8.1,
          8.1,
          8.1,
          8.1,
          8.1,
          8.1,
          8.1,
          8.1,
          8.1,
          8.1,
          8.1,
          8.1,
          8.1,
          8.1,
          8.1,
          8.1,
          8.1,
          8.1,
          8.1,
          8,
          8,
          8,
          8,
          8,
          8,
          8,
          8,
          8,
          8,
          8,
          8,
          8,
          8,
          8,
          8,
          8,
          8,
          8,
          8,
          8,
          8,
          8,
          8,
          8,
          8,
          8,
          8,
          8,
          8,
          8,
          8,
          8,
          8,
          8,
          8,
          8,
          8,
          8,
          8,
          8,
          8,
          8,
          8,
          8,
          8,
          8,
          8,
          8,
          8,
          8,
          8,
          8,
          8,
          8,
          8,
          8,
          8,
          8,
          8,
          8,
          8,
          8,
          8,
          8,
          8,
          8,
          8,
          8,
          8,
          8,
          8,
          8,
          8,
          8,
          8,
          8,
          8,
          8,
          8,
          8,
          8,
          8,
          8,
          8,
          8,
          8,
          8,
          8,
          8,
          8,
          8,
          8,
          8,
          8,
          8,
          8,
          8,
          8,
          8,
          8,
          8,
          8,
          8,
          8,
          7.9,
          7.9,
          7.9,
          7.9,
          7.9,
          7.9,
          7.9,
          7.9,
          7.9,
          7.9,
          7.9,
          7.9,
          7.9,
          7.9,
          7.9,
          7.9,
          7.9,
          7.9,
          7.9,
          7.9,
          7.9,
          7.9,
          7.9,
          7.9,
          7.9,
          7.9,
          7.9,
          7.9,
          7.9,
          7.9,
          7.9,
          7.9,
          7.9,
          7.9,
          7.9,
          7.9,
          7.9,
          7.9,
          7.9,
          7.9,
          7.9,
          7.9,
          7.9,
          7.9,
          7.9,
          7.9,
          7.9,
          7.9,
          7.9,
          7.9,
          7.9,
          7.9,
          7.9,
          7.9,
          7.9,
          7.9,
          7.9,
          7.9,
          7.9,
          7.9,
          7.9,
          7.9,
          7.9,
          7.9,
          7.9,
          7.9,
          7.9,
          7.9,
          7.9,
          7.9,
          7.9,
          7.9,
          7.9,
          7.9,
          7.9,
          7.9,
          7.9,
          7.9,
          7.9,
          7.9,
          7.9,
          7.9,
          7.9,
          7.9,
          7.8,
          7.8,
          7.8,
          7.8,
          7.8,
          7.8,
          7.8,
          7.8,
          7.8,
          7.8,
          7.8,
          7.8,
          7.8,
          7.8,
          7.8,
          7.8,
          7.8,
          7.8,
          7.8,
          7.8,
          7.8,
          7.8,
          7.8,
          7.8,
          7.8,
          7.8,
          7.8,
          7.8,
          7.8,
          7.8,
          7.8,
          7.8,
          7.8,
          7.8,
          7.8,
          7.8,
          7.8,
          7.8,
          7.8,
          7.8,
          7.8,
          7.8,
          7.8,
          7.8,
          7.8,
          7.8,
          7.8,
          7.8,
          7.8,
          7.8,
          7.8,
          7.8,
          7.8,
          7.8,
          7.8,
          7.8,
          7.8,
          7.8,
          7.8,
          7.8,
          7.8,
          7.8,
          7.8,
          7.8,
          7.8,
          7.8,
          7.8,
          7.8,
          7.8,
          7.8,
          7.8,
          7.8,
          7.8,
          7.8,
          7.8,
          7.8,
          7.8,
          7.8,
          7.8,
          7.8,
          7.8,
          7.8,
          7.8,
          7.8,
          7.8,
          7.8,
          7.8,
          7.8,
          7.8,
          7.8,
          7.8,
          7.8,
          7.8,
          7.8,
          7.8,
          7.8,
          7.8,
          7.8,
          7.8,
          7.8,
          7.8,
          7.8,
          7.8,
          7.8,
          7.8,
          7.8,
          7.8,
          7.8,
          7.8,
          7.8,
          7.8,
          7.8,
          7.8,
          7.7,
          7.7,
          7.7,
          7.7,
          7.7,
          7.7,
          7.7,
          7.7,
          7.7,
          7.7,
          7.7,
          7.7,
          7.7,
          7.7,
          7.7,
          7.7,
          7.7,
          7.7,
          7.7,
          7.7,
          7.7,
          7.7,
          7.7,
          7.7,
          7.7,
          7.7,
          7.7,
          7.7,
          7.7,
          7.7,
          7.7,
          7.7,
          7.7,
          7.7,
          7.7,
          7.7,
          7.7,
          7.7,
          7.7,
          7.7,
          7.7,
          7.7,
          7.7,
          7.7,
          7.7,
          7.7,
          7.7,
          7.7,
          7.7,
          7.7,
          7.7,
          7.7,
          7.7,
          7.7,
          7.7,
          7.7,
          7.7,
          7.7,
          7.7,
          7.7,
          7.7,
          7.7,
          7.7,
          7.7,
          7.7,
          7.7,
          7.7,
          7.7,
          7.7,
          7.7,
          7.7,
          7.7,
          7.7,
          7.7,
          7.7,
          7.7,
          7.7,
          7.7,
          7.7,
          7.7,
          7.7,
          7.7,
          7.7,
          7.7,
          7.7,
          7.7,
          7.7,
          7.7,
          7.7,
          7.7,
          7.7,
          7.7,
          7.7,
          7.7,
          7.7,
          7.7,
          7.7,
          7.7,
          7.7,
          7.7,
          7.7,
          7.7,
          7.7,
          7.7,
          7.7,
          7.7,
          7.7,
          7.7,
          7.7,
          7.7,
          7.7,
          7.7,
          7.7,
          7.7,
          7.7,
          7.7,
          7.7,
          7.7,
          7.7,
          7.7,
          7.7,
          7.7,
          7.7,
          7.7,
          7.7,
          7.7,
          7.7,
          7.6,
          7.6,
          7.6,
          7.6,
          7.6,
          7.6,
          7.6,
          7.6,
          7.6,
          7.6,
          7.6,
          7.6,
          7.6,
          7.6,
          7.6,
          7.6,
          7.6,
          7.6,
          7.6,
          7.6,
          7.6,
          7.6,
          7.6,
          7.6,
          7.6,
          7.6,
          7.6,
          7.6,
          7.6,
          7.6,
          7.6,
          7.6,
          7.6,
          7.6,
          7.6,
          7.6,
          7.6,
          7.6,
          7.6,
          7.6,
          7.6,
          7.6,
          7.6,
          7.6,
          7.6,
          7.6,
          7.6,
          7.6,
          7.6,
          7.6,
          7.6,
          7.6,
          7.6,
          7.6,
          7.6,
          7.6,
          7.6,
          7.6,
          7.6,
          7.6,
          7.6,
          7.6,
          7.6,
          7.6,
          7.6,
          7.6,
          7.6,
          7.6,
          7.6,
          7.6,
          7.6,
          7.6,
          7.6,
          7.6,
          7.6,
          7.6,
          7.6,
          7.6,
          7.6,
          7.6,
          7.6,
          7.6,
          7.6,
          7.6,
          7.6,
          7.6,
          7.6,
          7.6,
          7.6,
          7.6,
          7.6,
          7.6,
          7.6,
          7.6,
          7.6,
          7.6,
          7.6,
          7.6,
          7.6,
          7.6,
          7.6,
          7.6,
          7.6,
          7.6,
          7.6,
          7.6,
          7.6
         ],
         "xaxis": "x",
         "yaxis": "y"
        },
        {
         "alignmentgroup": "True",
         "hovertemplate": "Nota no IMDB=%{x}<extra></extra>",
         "legendgroup": "",
         "marker": {
          "color": "Tomato"
         },
         "name": "",
         "notched": true,
         "offsetgroup": "",
         "showlegend": false,
         "type": "box",
         "x": [
          9.3,
          9.2,
          9,
          9,
          9,
          8.9,
          8.9,
          8.9,
          8.8,
          8.8,
          8.8,
          8.8,
          8.8,
          8.7,
          8.7,
          8.7,
          8.7,
          8.7,
          8.6,
          8.6,
          8.6,
          8.6,
          8.6,
          8.6,
          8.6,
          8.6,
          8.6,
          8.6,
          8.6,
          8.5,
          8.5,
          8.5,
          8.5,
          8.5,
          8.5,
          8.5,
          8.5,
          8.5,
          8.5,
          8.5,
          8.5,
          8.5,
          8.5,
          8.5,
          8.5,
          8.5,
          8.5,
          8.5,
          8.4,
          8.4,
          8.4,
          8.4,
          8.4,
          8.4,
          8.4,
          8.4,
          8.4,
          8.4,
          8.4,
          8.4,
          8.4,
          8.4,
          8.4,
          8.4,
          8.4,
          8.4,
          8.4,
          8.4,
          8.4,
          8.4,
          8.4,
          8.4,
          8.4,
          8.3,
          8.3,
          8.3,
          8.3,
          8.3,
          8.3,
          8.3,
          8.3,
          8.3,
          8.3,
          8.3,
          8.3,
          8.3,
          8.3,
          8.3,
          8.3,
          8.3,
          8.3,
          8.3,
          8.3,
          8.3,
          8.3,
          8.3,
          8.3,
          8.3,
          8.3,
          8.3,
          8.3,
          8.3,
          8.3,
          8.3,
          8.3,
          8.3,
          8.3,
          8.3,
          8.3,
          8.2,
          8.2,
          8.2,
          8.2,
          8.2,
          8.2,
          8.2,
          8.2,
          8.2,
          8.2,
          8.2,
          8.2,
          8.2,
          8.2,
          8.2,
          8.2,
          8.2,
          8.2,
          8.2,
          8.2,
          8.2,
          8.2,
          8.2,
          8.2,
          8.2,
          8.2,
          8.2,
          8.2,
          8.2,
          8.2,
          8.2,
          8.2,
          8.2,
          8.2,
          8.2,
          8.2,
          8.2,
          8.2,
          8.2,
          8.2,
          8.2,
          8.2,
          8.2,
          8.2,
          8.2,
          8.2,
          8.2,
          8.2,
          8.1,
          8.1,
          8.1,
          8.1,
          8.1,
          8.1,
          8.1,
          8.1,
          8.1,
          8.1,
          8.1,
          8.1,
          8.1,
          8.1,
          8.1,
          8.1,
          8.1,
          8.1,
          8.1,
          8.1,
          8.1,
          8.1,
          8.1,
          8.1,
          8.1,
          8.1,
          8.1,
          8.1,
          8.1,
          8.1,
          8.1,
          8.1,
          8.1,
          8.1,
          8.1,
          8.1,
          8.1,
          8.1,
          8.1,
          8.1,
          8.1,
          8.1,
          8.1,
          8.1,
          8.1,
          8.1,
          8.1,
          8.1,
          8.1,
          8.1,
          8.1,
          8.1,
          8.1,
          8.1,
          8.1,
          8.1,
          8.1,
          8.1,
          8.1,
          8.1,
          8.1,
          8.1,
          8.1,
          8.1,
          8.1,
          8.1,
          8.1,
          8.1,
          8.1,
          8.1,
          8.1,
          8.1,
          8.1,
          8.1,
          8.1,
          8.1,
          8.1,
          8.1,
          8.1,
          8.1,
          8.1,
          8.1,
          8.1,
          8.1,
          8.1,
          8.1,
          8.1,
          8.1,
          8.1,
          8.1,
          8.1,
          8.1,
          8,
          8,
          8,
          8,
          8,
          8,
          8,
          8,
          8,
          8,
          8,
          8,
          8,
          8,
          8,
          8,
          8,
          8,
          8,
          8,
          8,
          8,
          8,
          8,
          8,
          8,
          8,
          8,
          8,
          8,
          8,
          8,
          8,
          8,
          8,
          8,
          8,
          8,
          8,
          8,
          8,
          8,
          8,
          8,
          8,
          8,
          8,
          8,
          8,
          8,
          8,
          8,
          8,
          8,
          8,
          8,
          8,
          8,
          8,
          8,
          8,
          8,
          8,
          8,
          8,
          8,
          8,
          8,
          8,
          8,
          8,
          8,
          8,
          8,
          8,
          8,
          8,
          8,
          8,
          8,
          8,
          8,
          8,
          8,
          8,
          8,
          8,
          8,
          8,
          8,
          8,
          8,
          8,
          8,
          8,
          8,
          8,
          8,
          8,
          8,
          8,
          8,
          8,
          8,
          8,
          7.9,
          7.9,
          7.9,
          7.9,
          7.9,
          7.9,
          7.9,
          7.9,
          7.9,
          7.9,
          7.9,
          7.9,
          7.9,
          7.9,
          7.9,
          7.9,
          7.9,
          7.9,
          7.9,
          7.9,
          7.9,
          7.9,
          7.9,
          7.9,
          7.9,
          7.9,
          7.9,
          7.9,
          7.9,
          7.9,
          7.9,
          7.9,
          7.9,
          7.9,
          7.9,
          7.9,
          7.9,
          7.9,
          7.9,
          7.9,
          7.9,
          7.9,
          7.9,
          7.9,
          7.9,
          7.9,
          7.9,
          7.9,
          7.9,
          7.9,
          7.9,
          7.9,
          7.9,
          7.9,
          7.9,
          7.9,
          7.9,
          7.9,
          7.9,
          7.9,
          7.9,
          7.9,
          7.9,
          7.9,
          7.9,
          7.9,
          7.9,
          7.9,
          7.9,
          7.9,
          7.9,
          7.9,
          7.9,
          7.9,
          7.9,
          7.9,
          7.9,
          7.9,
          7.9,
          7.9,
          7.9,
          7.9,
          7.9,
          7.9,
          7.8,
          7.8,
          7.8,
          7.8,
          7.8,
          7.8,
          7.8,
          7.8,
          7.8,
          7.8,
          7.8,
          7.8,
          7.8,
          7.8,
          7.8,
          7.8,
          7.8,
          7.8,
          7.8,
          7.8,
          7.8,
          7.8,
          7.8,
          7.8,
          7.8,
          7.8,
          7.8,
          7.8,
          7.8,
          7.8,
          7.8,
          7.8,
          7.8,
          7.8,
          7.8,
          7.8,
          7.8,
          7.8,
          7.8,
          7.8,
          7.8,
          7.8,
          7.8,
          7.8,
          7.8,
          7.8,
          7.8,
          7.8,
          7.8,
          7.8,
          7.8,
          7.8,
          7.8,
          7.8,
          7.8,
          7.8,
          7.8,
          7.8,
          7.8,
          7.8,
          7.8,
          7.8,
          7.8,
          7.8,
          7.8,
          7.8,
          7.8,
          7.8,
          7.8,
          7.8,
          7.8,
          7.8,
          7.8,
          7.8,
          7.8,
          7.8,
          7.8,
          7.8,
          7.8,
          7.8,
          7.8,
          7.8,
          7.8,
          7.8,
          7.8,
          7.8,
          7.8,
          7.8,
          7.8,
          7.8,
          7.8,
          7.8,
          7.8,
          7.8,
          7.8,
          7.8,
          7.8,
          7.8,
          7.8,
          7.8,
          7.8,
          7.8,
          7.8,
          7.8,
          7.8,
          7.8,
          7.8,
          7.8,
          7.8,
          7.8,
          7.8,
          7.8,
          7.8,
          7.7,
          7.7,
          7.7,
          7.7,
          7.7,
          7.7,
          7.7,
          7.7,
          7.7,
          7.7,
          7.7,
          7.7,
          7.7,
          7.7,
          7.7,
          7.7,
          7.7,
          7.7,
          7.7,
          7.7,
          7.7,
          7.7,
          7.7,
          7.7,
          7.7,
          7.7,
          7.7,
          7.7,
          7.7,
          7.7,
          7.7,
          7.7,
          7.7,
          7.7,
          7.7,
          7.7,
          7.7,
          7.7,
          7.7,
          7.7,
          7.7,
          7.7,
          7.7,
          7.7,
          7.7,
          7.7,
          7.7,
          7.7,
          7.7,
          7.7,
          7.7,
          7.7,
          7.7,
          7.7,
          7.7,
          7.7,
          7.7,
          7.7,
          7.7,
          7.7,
          7.7,
          7.7,
          7.7,
          7.7,
          7.7,
          7.7,
          7.7,
          7.7,
          7.7,
          7.7,
          7.7,
          7.7,
          7.7,
          7.7,
          7.7,
          7.7,
          7.7,
          7.7,
          7.7,
          7.7,
          7.7,
          7.7,
          7.7,
          7.7,
          7.7,
          7.7,
          7.7,
          7.7,
          7.7,
          7.7,
          7.7,
          7.7,
          7.7,
          7.7,
          7.7,
          7.7,
          7.7,
          7.7,
          7.7,
          7.7,
          7.7,
          7.7,
          7.7,
          7.7,
          7.7,
          7.7,
          7.7,
          7.7,
          7.7,
          7.7,
          7.7,
          7.7,
          7.7,
          7.7,
          7.7,
          7.7,
          7.7,
          7.7,
          7.7,
          7.7,
          7.7,
          7.7,
          7.7,
          7.7,
          7.7,
          7.7,
          7.7,
          7.6,
          7.6,
          7.6,
          7.6,
          7.6,
          7.6,
          7.6,
          7.6,
          7.6,
          7.6,
          7.6,
          7.6,
          7.6,
          7.6,
          7.6,
          7.6,
          7.6,
          7.6,
          7.6,
          7.6,
          7.6,
          7.6,
          7.6,
          7.6,
          7.6,
          7.6,
          7.6,
          7.6,
          7.6,
          7.6,
          7.6,
          7.6,
          7.6,
          7.6,
          7.6,
          7.6,
          7.6,
          7.6,
          7.6,
          7.6,
          7.6,
          7.6,
          7.6,
          7.6,
          7.6,
          7.6,
          7.6,
          7.6,
          7.6,
          7.6,
          7.6,
          7.6,
          7.6,
          7.6,
          7.6,
          7.6,
          7.6,
          7.6,
          7.6,
          7.6,
          7.6,
          7.6,
          7.6,
          7.6,
          7.6,
          7.6,
          7.6,
          7.6,
          7.6,
          7.6,
          7.6,
          7.6,
          7.6,
          7.6,
          7.6,
          7.6,
          7.6,
          7.6,
          7.6,
          7.6,
          7.6,
          7.6,
          7.6,
          7.6,
          7.6,
          7.6,
          7.6,
          7.6,
          7.6,
          7.6,
          7.6,
          7.6,
          7.6,
          7.6,
          7.6,
          7.6,
          7.6,
          7.6,
          7.6,
          7.6,
          7.6,
          7.6,
          7.6,
          7.6,
          7.6,
          7.6,
          7.6
         ],
         "xaxis": "x2",
         "yaxis": "y2"
        }
       ],
       "layout": {
        "barmode": "relative",
        "legend": {
         "tracegroupgap": 0
        },
        "template": {
         "data": {
          "bar": [
           {
            "error_x": {
             "color": "#2a3f5f"
            },
            "error_y": {
             "color": "#2a3f5f"
            },
            "marker": {
             "line": {
              "color": "#E5ECF6",
              "width": 0.5
             },
             "pattern": {
              "fillmode": "overlay",
              "size": 10,
              "solidity": 0.2
             }
            },
            "type": "bar"
           }
          ],
          "barpolar": [
           {
            "marker": {
             "line": {
              "color": "#E5ECF6",
              "width": 0.5
             },
             "pattern": {
              "fillmode": "overlay",
              "size": 10,
              "solidity": 0.2
             }
            },
            "type": "barpolar"
           }
          ],
          "carpet": [
           {
            "aaxis": {
             "endlinecolor": "#2a3f5f",
             "gridcolor": "white",
             "linecolor": "white",
             "minorgridcolor": "white",
             "startlinecolor": "#2a3f5f"
            },
            "baxis": {
             "endlinecolor": "#2a3f5f",
             "gridcolor": "white",
             "linecolor": "white",
             "minorgridcolor": "white",
             "startlinecolor": "#2a3f5f"
            },
            "type": "carpet"
           }
          ],
          "choropleth": [
           {
            "colorbar": {
             "outlinewidth": 0,
             "ticks": ""
            },
            "type": "choropleth"
           }
          ],
          "contour": [
           {
            "colorbar": {
             "outlinewidth": 0,
             "ticks": ""
            },
            "colorscale": [
             [
              0,
              "#0d0887"
             ],
             [
              0.1111111111111111,
              "#46039f"
             ],
             [
              0.2222222222222222,
              "#7201a8"
             ],
             [
              0.3333333333333333,
              "#9c179e"
             ],
             [
              0.4444444444444444,
              "#bd3786"
             ],
             [
              0.5555555555555556,
              "#d8576b"
             ],
             [
              0.6666666666666666,
              "#ed7953"
             ],
             [
              0.7777777777777778,
              "#fb9f3a"
             ],
             [
              0.8888888888888888,
              "#fdca26"
             ],
             [
              1,
              "#f0f921"
             ]
            ],
            "type": "contour"
           }
          ],
          "contourcarpet": [
           {
            "colorbar": {
             "outlinewidth": 0,
             "ticks": ""
            },
            "type": "contourcarpet"
           }
          ],
          "heatmap": [
           {
            "colorbar": {
             "outlinewidth": 0,
             "ticks": ""
            },
            "colorscale": [
             [
              0,
              "#0d0887"
             ],
             [
              0.1111111111111111,
              "#46039f"
             ],
             [
              0.2222222222222222,
              "#7201a8"
             ],
             [
              0.3333333333333333,
              "#9c179e"
             ],
             [
              0.4444444444444444,
              "#bd3786"
             ],
             [
              0.5555555555555556,
              "#d8576b"
             ],
             [
              0.6666666666666666,
              "#ed7953"
             ],
             [
              0.7777777777777778,
              "#fb9f3a"
             ],
             [
              0.8888888888888888,
              "#fdca26"
             ],
             [
              1,
              "#f0f921"
             ]
            ],
            "type": "heatmap"
           }
          ],
          "heatmapgl": [
           {
            "colorbar": {
             "outlinewidth": 0,
             "ticks": ""
            },
            "colorscale": [
             [
              0,
              "#0d0887"
             ],
             [
              0.1111111111111111,
              "#46039f"
             ],
             [
              0.2222222222222222,
              "#7201a8"
             ],
             [
              0.3333333333333333,
              "#9c179e"
             ],
             [
              0.4444444444444444,
              "#bd3786"
             ],
             [
              0.5555555555555556,
              "#d8576b"
             ],
             [
              0.6666666666666666,
              "#ed7953"
             ],
             [
              0.7777777777777778,
              "#fb9f3a"
             ],
             [
              0.8888888888888888,
              "#fdca26"
             ],
             [
              1,
              "#f0f921"
             ]
            ],
            "type": "heatmapgl"
           }
          ],
          "histogram": [
           {
            "marker": {
             "pattern": {
              "fillmode": "overlay",
              "size": 10,
              "solidity": 0.2
             }
            },
            "type": "histogram"
           }
          ],
          "histogram2d": [
           {
            "colorbar": {
             "outlinewidth": 0,
             "ticks": ""
            },
            "colorscale": [
             [
              0,
              "#0d0887"
             ],
             [
              0.1111111111111111,
              "#46039f"
             ],
             [
              0.2222222222222222,
              "#7201a8"
             ],
             [
              0.3333333333333333,
              "#9c179e"
             ],
             [
              0.4444444444444444,
              "#bd3786"
             ],
             [
              0.5555555555555556,
              "#d8576b"
             ],
             [
              0.6666666666666666,
              "#ed7953"
             ],
             [
              0.7777777777777778,
              "#fb9f3a"
             ],
             [
              0.8888888888888888,
              "#fdca26"
             ],
             [
              1,
              "#f0f921"
             ]
            ],
            "type": "histogram2d"
           }
          ],
          "histogram2dcontour": [
           {
            "colorbar": {
             "outlinewidth": 0,
             "ticks": ""
            },
            "colorscale": [
             [
              0,
              "#0d0887"
             ],
             [
              0.1111111111111111,
              "#46039f"
             ],
             [
              0.2222222222222222,
              "#7201a8"
             ],
             [
              0.3333333333333333,
              "#9c179e"
             ],
             [
              0.4444444444444444,
              "#bd3786"
             ],
             [
              0.5555555555555556,
              "#d8576b"
             ],
             [
              0.6666666666666666,
              "#ed7953"
             ],
             [
              0.7777777777777778,
              "#fb9f3a"
             ],
             [
              0.8888888888888888,
              "#fdca26"
             ],
             [
              1,
              "#f0f921"
             ]
            ],
            "type": "histogram2dcontour"
           }
          ],
          "mesh3d": [
           {
            "colorbar": {
             "outlinewidth": 0,
             "ticks": ""
            },
            "type": "mesh3d"
           }
          ],
          "parcoords": [
           {
            "line": {
             "colorbar": {
              "outlinewidth": 0,
              "ticks": ""
             }
            },
            "type": "parcoords"
           }
          ],
          "pie": [
           {
            "automargin": true,
            "type": "pie"
           }
          ],
          "scatter": [
           {
            "fillpattern": {
             "fillmode": "overlay",
             "size": 10,
             "solidity": 0.2
            },
            "type": "scatter"
           }
          ],
          "scatter3d": [
           {
            "line": {
             "colorbar": {
              "outlinewidth": 0,
              "ticks": ""
             }
            },
            "marker": {
             "colorbar": {
              "outlinewidth": 0,
              "ticks": ""
             }
            },
            "type": "scatter3d"
           }
          ],
          "scattercarpet": [
           {
            "marker": {
             "colorbar": {
              "outlinewidth": 0,
              "ticks": ""
             }
            },
            "type": "scattercarpet"
           }
          ],
          "scattergeo": [
           {
            "marker": {
             "colorbar": {
              "outlinewidth": 0,
              "ticks": ""
             }
            },
            "type": "scattergeo"
           }
          ],
          "scattergl": [
           {
            "marker": {
             "colorbar": {
              "outlinewidth": 0,
              "ticks": ""
             }
            },
            "type": "scattergl"
           }
          ],
          "scattermapbox": [
           {
            "marker": {
             "colorbar": {
              "outlinewidth": 0,
              "ticks": ""
             }
            },
            "type": "scattermapbox"
           }
          ],
          "scatterpolar": [
           {
            "marker": {
             "colorbar": {
              "outlinewidth": 0,
              "ticks": ""
             }
            },
            "type": "scatterpolar"
           }
          ],
          "scatterpolargl": [
           {
            "marker": {
             "colorbar": {
              "outlinewidth": 0,
              "ticks": ""
             }
            },
            "type": "scatterpolargl"
           }
          ],
          "scatterternary": [
           {
            "marker": {
             "colorbar": {
              "outlinewidth": 0,
              "ticks": ""
             }
            },
            "type": "scatterternary"
           }
          ],
          "surface": [
           {
            "colorbar": {
             "outlinewidth": 0,
             "ticks": ""
            },
            "colorscale": [
             [
              0,
              "#0d0887"
             ],
             [
              0.1111111111111111,
              "#46039f"
             ],
             [
              0.2222222222222222,
              "#7201a8"
             ],
             [
              0.3333333333333333,
              "#9c179e"
             ],
             [
              0.4444444444444444,
              "#bd3786"
             ],
             [
              0.5555555555555556,
              "#d8576b"
             ],
             [
              0.6666666666666666,
              "#ed7953"
             ],
             [
              0.7777777777777778,
              "#fb9f3a"
             ],
             [
              0.8888888888888888,
              "#fdca26"
             ],
             [
              1,
              "#f0f921"
             ]
            ],
            "type": "surface"
           }
          ],
          "table": [
           {
            "cells": {
             "fill": {
              "color": "#EBF0F8"
             },
             "line": {
              "color": "white"
             }
            },
            "header": {
             "fill": {
              "color": "#C8D4E3"
             },
             "line": {
              "color": "white"
             }
            },
            "type": "table"
           }
          ]
         },
         "layout": {
          "annotationdefaults": {
           "arrowcolor": "#2a3f5f",
           "arrowhead": 0,
           "arrowwidth": 1
          },
          "autotypenumbers": "strict",
          "coloraxis": {
           "colorbar": {
            "outlinewidth": 0,
            "ticks": ""
           }
          },
          "colorscale": {
           "diverging": [
            [
             0,
             "#8e0152"
            ],
            [
             0.1,
             "#c51b7d"
            ],
            [
             0.2,
             "#de77ae"
            ],
            [
             0.3,
             "#f1b6da"
            ],
            [
             0.4,
             "#fde0ef"
            ],
            [
             0.5,
             "#f7f7f7"
            ],
            [
             0.6,
             "#e6f5d0"
            ],
            [
             0.7,
             "#b8e186"
            ],
            [
             0.8,
             "#7fbc41"
            ],
            [
             0.9,
             "#4d9221"
            ],
            [
             1,
             "#276419"
            ]
           ],
           "sequential": [
            [
             0,
             "#0d0887"
            ],
            [
             0.1111111111111111,
             "#46039f"
            ],
            [
             0.2222222222222222,
             "#7201a8"
            ],
            [
             0.3333333333333333,
             "#9c179e"
            ],
            [
             0.4444444444444444,
             "#bd3786"
            ],
            [
             0.5555555555555556,
             "#d8576b"
            ],
            [
             0.6666666666666666,
             "#ed7953"
            ],
            [
             0.7777777777777778,
             "#fb9f3a"
            ],
            [
             0.8888888888888888,
             "#fdca26"
            ],
            [
             1,
             "#f0f921"
            ]
           ],
           "sequentialminus": [
            [
             0,
             "#0d0887"
            ],
            [
             0.1111111111111111,
             "#46039f"
            ],
            [
             0.2222222222222222,
             "#7201a8"
            ],
            [
             0.3333333333333333,
             "#9c179e"
            ],
            [
             0.4444444444444444,
             "#bd3786"
            ],
            [
             0.5555555555555556,
             "#d8576b"
            ],
            [
             0.6666666666666666,
             "#ed7953"
            ],
            [
             0.7777777777777778,
             "#fb9f3a"
            ],
            [
             0.8888888888888888,
             "#fdca26"
            ],
            [
             1,
             "#f0f921"
            ]
           ]
          },
          "colorway": [
           "#636efa",
           "#EF553B",
           "#00cc96",
           "#ab63fa",
           "#FFA15A",
           "#19d3f3",
           "#FF6692",
           "#B6E880",
           "#FF97FF",
           "#FECB52"
          ],
          "font": {
           "color": "#2a3f5f"
          },
          "geo": {
           "bgcolor": "white",
           "lakecolor": "white",
           "landcolor": "#E5ECF6",
           "showlakes": true,
           "showland": true,
           "subunitcolor": "white"
          },
          "hoverlabel": {
           "align": "left"
          },
          "hovermode": "closest",
          "mapbox": {
           "style": "light"
          },
          "paper_bgcolor": "white",
          "plot_bgcolor": "#E5ECF6",
          "polar": {
           "angularaxis": {
            "gridcolor": "white",
            "linecolor": "white",
            "ticks": ""
           },
           "bgcolor": "#E5ECF6",
           "radialaxis": {
            "gridcolor": "white",
            "linecolor": "white",
            "ticks": ""
           }
          },
          "scene": {
           "xaxis": {
            "backgroundcolor": "#E5ECF6",
            "gridcolor": "white",
            "gridwidth": 2,
            "linecolor": "white",
            "showbackground": true,
            "ticks": "",
            "zerolinecolor": "white"
           },
           "yaxis": {
            "backgroundcolor": "#E5ECF6",
            "gridcolor": "white",
            "gridwidth": 2,
            "linecolor": "white",
            "showbackground": true,
            "ticks": "",
            "zerolinecolor": "white"
           },
           "zaxis": {
            "backgroundcolor": "#E5ECF6",
            "gridcolor": "white",
            "gridwidth": 2,
            "linecolor": "white",
            "showbackground": true,
            "ticks": "",
            "zerolinecolor": "white"
           }
          },
          "shapedefaults": {
           "line": {
            "color": "#2a3f5f"
           }
          },
          "ternary": {
           "aaxis": {
            "gridcolor": "white",
            "linecolor": "white",
            "ticks": ""
           },
           "baxis": {
            "gridcolor": "white",
            "linecolor": "white",
            "ticks": ""
           },
           "bgcolor": "#E5ECF6",
           "caxis": {
            "gridcolor": "white",
            "linecolor": "white",
            "ticks": ""
           }
          },
          "title": {
           "x": 0.05
          },
          "xaxis": {
           "automargin": true,
           "gridcolor": "white",
           "linecolor": "white",
           "ticks": "",
           "title": {
            "standoff": 15
           },
           "zerolinecolor": "white",
           "zerolinewidth": 2
          },
          "yaxis": {
           "automargin": true,
           "gridcolor": "white",
           "linecolor": "white",
           "ticks": "",
           "title": {
            "standoff": 15
           },
           "zerolinecolor": "white",
           "zerolinewidth": 2
          }
         }
        },
        "title": {
         "text": "Distribuição do IMDB Rating nos Filmes"
        },
        "xaxis": {
         "anchor": "y",
         "domain": [
          0,
          1
         ],
         "title": {
          "text": "Nota no IMDB"
         }
        },
        "xaxis2": {
         "anchor": "y2",
         "domain": [
          0,
          1
         ],
         "matches": "x",
         "showgrid": true,
         "showticklabels": false
        },
        "yaxis": {
         "anchor": "x",
         "domain": [
          0,
          0.8316
         ],
         "title": {
          "text": "Quantidade de Filmes"
         }
        },
        "yaxis2": {
         "anchor": "x2",
         "domain": [
          0.8416,
          1
         ],
         "matches": "y2",
         "showgrid": false,
         "showline": false,
         "showticklabels": false,
         "ticks": ""
        }
       }
      },
      "text/html": [
       "<div>                            <div id=\"471bcf37-7317-4e72-aaa7-fa67bdf1a7f6\" class=\"plotly-graph-div\" style=\"height:525px; width:100%;\"></div>            <script type=\"text/javascript\">                require([\"plotly\"], function(Plotly) {                    window.PLOTLYENV=window.PLOTLYENV || {};                                    if (document.getElementById(\"471bcf37-7317-4e72-aaa7-fa67bdf1a7f6\")) {                    Plotly.newPlot(                        \"471bcf37-7317-4e72-aaa7-fa67bdf1a7f6\",                        [{\"alignmentgroup\":\"True\",\"bingroup\":\"x\",\"hovertemplate\":\"Nota no IMDB=%{x}<br>count=%{y}<extra></extra>\",\"legendgroup\":\"\",\"marker\":{\"color\":\"Tomato\",\"pattern\":{\"shape\":\"\"}},\"name\":\"\",\"offsetgroup\":\"\",\"orientation\":\"v\",\"showlegend\":false,\"x\":[9.3,9.2,9.0,9.0,9.0,8.9,8.9,8.9,8.8,8.8,8.8,8.8,8.8,8.7,8.7,8.7,8.7,8.7,8.6,8.6,8.6,8.6,8.6,8.6,8.6,8.6,8.6,8.6,8.6,8.5,8.5,8.5,8.5,8.5,8.5,8.5,8.5,8.5,8.5,8.5,8.5,8.5,8.5,8.5,8.5,8.5,8.5,8.5,8.4,8.4,8.4,8.4,8.4,8.4,8.4,8.4,8.4,8.4,8.4,8.4,8.4,8.4,8.4,8.4,8.4,8.4,8.4,8.4,8.4,8.4,8.4,8.4,8.4,8.3,8.3,8.3,8.3,8.3,8.3,8.3,8.3,8.3,8.3,8.3,8.3,8.3,8.3,8.3,8.3,8.3,8.3,8.3,8.3,8.3,8.3,8.3,8.3,8.3,8.3,8.3,8.3,8.3,8.3,8.3,8.3,8.3,8.3,8.3,8.3,8.2,8.2,8.2,8.2,8.2,8.2,8.2,8.2,8.2,8.2,8.2,8.2,8.2,8.2,8.2,8.2,8.2,8.2,8.2,8.2,8.2,8.2,8.2,8.2,8.2,8.2,8.2,8.2,8.2,8.2,8.2,8.2,8.2,8.2,8.2,8.2,8.2,8.2,8.2,8.2,8.2,8.2,8.2,8.2,8.2,8.2,8.2,8.2,8.1,8.1,8.1,8.1,8.1,8.1,8.1,8.1,8.1,8.1,8.1,8.1,8.1,8.1,8.1,8.1,8.1,8.1,8.1,8.1,8.1,8.1,8.1,8.1,8.1,8.1,8.1,8.1,8.1,8.1,8.1,8.1,8.1,8.1,8.1,8.1,8.1,8.1,8.1,8.1,8.1,8.1,8.1,8.1,8.1,8.1,8.1,8.1,8.1,8.1,8.1,8.1,8.1,8.1,8.1,8.1,8.1,8.1,8.1,8.1,8.1,8.1,8.1,8.1,8.1,8.1,8.1,8.1,8.1,8.1,8.1,8.1,8.1,8.1,8.1,8.1,8.1,8.1,8.1,8.1,8.1,8.1,8.1,8.1,8.1,8.1,8.1,8.1,8.1,8.1,8.1,8.1,8.0,8.0,8.0,8.0,8.0,8.0,8.0,8.0,8.0,8.0,8.0,8.0,8.0,8.0,8.0,8.0,8.0,8.0,8.0,8.0,8.0,8.0,8.0,8.0,8.0,8.0,8.0,8.0,8.0,8.0,8.0,8.0,8.0,8.0,8.0,8.0,8.0,8.0,8.0,8.0,8.0,8.0,8.0,8.0,8.0,8.0,8.0,8.0,8.0,8.0,8.0,8.0,8.0,8.0,8.0,8.0,8.0,8.0,8.0,8.0,8.0,8.0,8.0,8.0,8.0,8.0,8.0,8.0,8.0,8.0,8.0,8.0,8.0,8.0,8.0,8.0,8.0,8.0,8.0,8.0,8.0,8.0,8.0,8.0,8.0,8.0,8.0,8.0,8.0,8.0,8.0,8.0,8.0,8.0,8.0,8.0,8.0,8.0,8.0,8.0,8.0,8.0,8.0,8.0,8.0,7.9,7.9,7.9,7.9,7.9,7.9,7.9,7.9,7.9,7.9,7.9,7.9,7.9,7.9,7.9,7.9,7.9,7.9,7.9,7.9,7.9,7.9,7.9,7.9,7.9,7.9,7.9,7.9,7.9,7.9,7.9,7.9,7.9,7.9,7.9,7.9,7.9,7.9,7.9,7.9,7.9,7.9,7.9,7.9,7.9,7.9,7.9,7.9,7.9,7.9,7.9,7.9,7.9,7.9,7.9,7.9,7.9,7.9,7.9,7.9,7.9,7.9,7.9,7.9,7.9,7.9,7.9,7.9,7.9,7.9,7.9,7.9,7.9,7.9,7.9,7.9,7.9,7.9,7.9,7.9,7.9,7.9,7.9,7.9,7.8,7.8,7.8,7.8,7.8,7.8,7.8,7.8,7.8,7.8,7.8,7.8,7.8,7.8,7.8,7.8,7.8,7.8,7.8,7.8,7.8,7.8,7.8,7.8,7.8,7.8,7.8,7.8,7.8,7.8,7.8,7.8,7.8,7.8,7.8,7.8,7.8,7.8,7.8,7.8,7.8,7.8,7.8,7.8,7.8,7.8,7.8,7.8,7.8,7.8,7.8,7.8,7.8,7.8,7.8,7.8,7.8,7.8,7.8,7.8,7.8,7.8,7.8,7.8,7.8,7.8,7.8,7.8,7.8,7.8,7.8,7.8,7.8,7.8,7.8,7.8,7.8,7.8,7.8,7.8,7.8,7.8,7.8,7.8,7.8,7.8,7.8,7.8,7.8,7.8,7.8,7.8,7.8,7.8,7.8,7.8,7.8,7.8,7.8,7.8,7.8,7.8,7.8,7.8,7.8,7.8,7.8,7.8,7.8,7.8,7.8,7.8,7.8,7.7,7.7,7.7,7.7,7.7,7.7,7.7,7.7,7.7,7.7,7.7,7.7,7.7,7.7,7.7,7.7,7.7,7.7,7.7,7.7,7.7,7.7,7.7,7.7,7.7,7.7,7.7,7.7,7.7,7.7,7.7,7.7,7.7,7.7,7.7,7.7,7.7,7.7,7.7,7.7,7.7,7.7,7.7,7.7,7.7,7.7,7.7,7.7,7.7,7.7,7.7,7.7,7.7,7.7,7.7,7.7,7.7,7.7,7.7,7.7,7.7,7.7,7.7,7.7,7.7,7.7,7.7,7.7,7.7,7.7,7.7,7.7,7.7,7.7,7.7,7.7,7.7,7.7,7.7,7.7,7.7,7.7,7.7,7.7,7.7,7.7,7.7,7.7,7.7,7.7,7.7,7.7,7.7,7.7,7.7,7.7,7.7,7.7,7.7,7.7,7.7,7.7,7.7,7.7,7.7,7.7,7.7,7.7,7.7,7.7,7.7,7.7,7.7,7.7,7.7,7.7,7.7,7.7,7.7,7.7,7.7,7.7,7.7,7.7,7.7,7.7,7.7,7.6,7.6,7.6,7.6,7.6,7.6,7.6,7.6,7.6,7.6,7.6,7.6,7.6,7.6,7.6,7.6,7.6,7.6,7.6,7.6,7.6,7.6,7.6,7.6,7.6,7.6,7.6,7.6,7.6,7.6,7.6,7.6,7.6,7.6,7.6,7.6,7.6,7.6,7.6,7.6,7.6,7.6,7.6,7.6,7.6,7.6,7.6,7.6,7.6,7.6,7.6,7.6,7.6,7.6,7.6,7.6,7.6,7.6,7.6,7.6,7.6,7.6,7.6,7.6,7.6,7.6,7.6,7.6,7.6,7.6,7.6,7.6,7.6,7.6,7.6,7.6,7.6,7.6,7.6,7.6,7.6,7.6,7.6,7.6,7.6,7.6,7.6,7.6,7.6,7.6,7.6,7.6,7.6,7.6,7.6,7.6,7.6,7.6,7.6,7.6,7.6,7.6,7.6,7.6,7.6,7.6,7.6],\"xaxis\":\"x\",\"yaxis\":\"y\",\"type\":\"histogram\"},{\"alignmentgroup\":\"True\",\"hovertemplate\":\"Nota no IMDB=%{x}<extra></extra>\",\"legendgroup\":\"\",\"marker\":{\"color\":\"Tomato\"},\"name\":\"\",\"notched\":true,\"offsetgroup\":\"\",\"showlegend\":false,\"x\":[9.3,9.2,9.0,9.0,9.0,8.9,8.9,8.9,8.8,8.8,8.8,8.8,8.8,8.7,8.7,8.7,8.7,8.7,8.6,8.6,8.6,8.6,8.6,8.6,8.6,8.6,8.6,8.6,8.6,8.5,8.5,8.5,8.5,8.5,8.5,8.5,8.5,8.5,8.5,8.5,8.5,8.5,8.5,8.5,8.5,8.5,8.5,8.5,8.4,8.4,8.4,8.4,8.4,8.4,8.4,8.4,8.4,8.4,8.4,8.4,8.4,8.4,8.4,8.4,8.4,8.4,8.4,8.4,8.4,8.4,8.4,8.4,8.4,8.3,8.3,8.3,8.3,8.3,8.3,8.3,8.3,8.3,8.3,8.3,8.3,8.3,8.3,8.3,8.3,8.3,8.3,8.3,8.3,8.3,8.3,8.3,8.3,8.3,8.3,8.3,8.3,8.3,8.3,8.3,8.3,8.3,8.3,8.3,8.3,8.2,8.2,8.2,8.2,8.2,8.2,8.2,8.2,8.2,8.2,8.2,8.2,8.2,8.2,8.2,8.2,8.2,8.2,8.2,8.2,8.2,8.2,8.2,8.2,8.2,8.2,8.2,8.2,8.2,8.2,8.2,8.2,8.2,8.2,8.2,8.2,8.2,8.2,8.2,8.2,8.2,8.2,8.2,8.2,8.2,8.2,8.2,8.2,8.1,8.1,8.1,8.1,8.1,8.1,8.1,8.1,8.1,8.1,8.1,8.1,8.1,8.1,8.1,8.1,8.1,8.1,8.1,8.1,8.1,8.1,8.1,8.1,8.1,8.1,8.1,8.1,8.1,8.1,8.1,8.1,8.1,8.1,8.1,8.1,8.1,8.1,8.1,8.1,8.1,8.1,8.1,8.1,8.1,8.1,8.1,8.1,8.1,8.1,8.1,8.1,8.1,8.1,8.1,8.1,8.1,8.1,8.1,8.1,8.1,8.1,8.1,8.1,8.1,8.1,8.1,8.1,8.1,8.1,8.1,8.1,8.1,8.1,8.1,8.1,8.1,8.1,8.1,8.1,8.1,8.1,8.1,8.1,8.1,8.1,8.1,8.1,8.1,8.1,8.1,8.1,8.0,8.0,8.0,8.0,8.0,8.0,8.0,8.0,8.0,8.0,8.0,8.0,8.0,8.0,8.0,8.0,8.0,8.0,8.0,8.0,8.0,8.0,8.0,8.0,8.0,8.0,8.0,8.0,8.0,8.0,8.0,8.0,8.0,8.0,8.0,8.0,8.0,8.0,8.0,8.0,8.0,8.0,8.0,8.0,8.0,8.0,8.0,8.0,8.0,8.0,8.0,8.0,8.0,8.0,8.0,8.0,8.0,8.0,8.0,8.0,8.0,8.0,8.0,8.0,8.0,8.0,8.0,8.0,8.0,8.0,8.0,8.0,8.0,8.0,8.0,8.0,8.0,8.0,8.0,8.0,8.0,8.0,8.0,8.0,8.0,8.0,8.0,8.0,8.0,8.0,8.0,8.0,8.0,8.0,8.0,8.0,8.0,8.0,8.0,8.0,8.0,8.0,8.0,8.0,8.0,7.9,7.9,7.9,7.9,7.9,7.9,7.9,7.9,7.9,7.9,7.9,7.9,7.9,7.9,7.9,7.9,7.9,7.9,7.9,7.9,7.9,7.9,7.9,7.9,7.9,7.9,7.9,7.9,7.9,7.9,7.9,7.9,7.9,7.9,7.9,7.9,7.9,7.9,7.9,7.9,7.9,7.9,7.9,7.9,7.9,7.9,7.9,7.9,7.9,7.9,7.9,7.9,7.9,7.9,7.9,7.9,7.9,7.9,7.9,7.9,7.9,7.9,7.9,7.9,7.9,7.9,7.9,7.9,7.9,7.9,7.9,7.9,7.9,7.9,7.9,7.9,7.9,7.9,7.9,7.9,7.9,7.9,7.9,7.9,7.8,7.8,7.8,7.8,7.8,7.8,7.8,7.8,7.8,7.8,7.8,7.8,7.8,7.8,7.8,7.8,7.8,7.8,7.8,7.8,7.8,7.8,7.8,7.8,7.8,7.8,7.8,7.8,7.8,7.8,7.8,7.8,7.8,7.8,7.8,7.8,7.8,7.8,7.8,7.8,7.8,7.8,7.8,7.8,7.8,7.8,7.8,7.8,7.8,7.8,7.8,7.8,7.8,7.8,7.8,7.8,7.8,7.8,7.8,7.8,7.8,7.8,7.8,7.8,7.8,7.8,7.8,7.8,7.8,7.8,7.8,7.8,7.8,7.8,7.8,7.8,7.8,7.8,7.8,7.8,7.8,7.8,7.8,7.8,7.8,7.8,7.8,7.8,7.8,7.8,7.8,7.8,7.8,7.8,7.8,7.8,7.8,7.8,7.8,7.8,7.8,7.8,7.8,7.8,7.8,7.8,7.8,7.8,7.8,7.8,7.8,7.8,7.8,7.7,7.7,7.7,7.7,7.7,7.7,7.7,7.7,7.7,7.7,7.7,7.7,7.7,7.7,7.7,7.7,7.7,7.7,7.7,7.7,7.7,7.7,7.7,7.7,7.7,7.7,7.7,7.7,7.7,7.7,7.7,7.7,7.7,7.7,7.7,7.7,7.7,7.7,7.7,7.7,7.7,7.7,7.7,7.7,7.7,7.7,7.7,7.7,7.7,7.7,7.7,7.7,7.7,7.7,7.7,7.7,7.7,7.7,7.7,7.7,7.7,7.7,7.7,7.7,7.7,7.7,7.7,7.7,7.7,7.7,7.7,7.7,7.7,7.7,7.7,7.7,7.7,7.7,7.7,7.7,7.7,7.7,7.7,7.7,7.7,7.7,7.7,7.7,7.7,7.7,7.7,7.7,7.7,7.7,7.7,7.7,7.7,7.7,7.7,7.7,7.7,7.7,7.7,7.7,7.7,7.7,7.7,7.7,7.7,7.7,7.7,7.7,7.7,7.7,7.7,7.7,7.7,7.7,7.7,7.7,7.7,7.7,7.7,7.7,7.7,7.7,7.7,7.6,7.6,7.6,7.6,7.6,7.6,7.6,7.6,7.6,7.6,7.6,7.6,7.6,7.6,7.6,7.6,7.6,7.6,7.6,7.6,7.6,7.6,7.6,7.6,7.6,7.6,7.6,7.6,7.6,7.6,7.6,7.6,7.6,7.6,7.6,7.6,7.6,7.6,7.6,7.6,7.6,7.6,7.6,7.6,7.6,7.6,7.6,7.6,7.6,7.6,7.6,7.6,7.6,7.6,7.6,7.6,7.6,7.6,7.6,7.6,7.6,7.6,7.6,7.6,7.6,7.6,7.6,7.6,7.6,7.6,7.6,7.6,7.6,7.6,7.6,7.6,7.6,7.6,7.6,7.6,7.6,7.6,7.6,7.6,7.6,7.6,7.6,7.6,7.6,7.6,7.6,7.6,7.6,7.6,7.6,7.6,7.6,7.6,7.6,7.6,7.6,7.6,7.6,7.6,7.6,7.6,7.6],\"xaxis\":\"x2\",\"yaxis\":\"y2\",\"type\":\"box\"}],                        {\"template\":{\"data\":{\"histogram2dcontour\":[{\"type\":\"histogram2dcontour\",\"colorbar\":{\"outlinewidth\":0,\"ticks\":\"\"},\"colorscale\":[[0.0,\"#0d0887\"],[0.1111111111111111,\"#46039f\"],[0.2222222222222222,\"#7201a8\"],[0.3333333333333333,\"#9c179e\"],[0.4444444444444444,\"#bd3786\"],[0.5555555555555556,\"#d8576b\"],[0.6666666666666666,\"#ed7953\"],[0.7777777777777778,\"#fb9f3a\"],[0.8888888888888888,\"#fdca26\"],[1.0,\"#f0f921\"]]}],\"choropleth\":[{\"type\":\"choropleth\",\"colorbar\":{\"outlinewidth\":0,\"ticks\":\"\"}}],\"histogram2d\":[{\"type\":\"histogram2d\",\"colorbar\":{\"outlinewidth\":0,\"ticks\":\"\"},\"colorscale\":[[0.0,\"#0d0887\"],[0.1111111111111111,\"#46039f\"],[0.2222222222222222,\"#7201a8\"],[0.3333333333333333,\"#9c179e\"],[0.4444444444444444,\"#bd3786\"],[0.5555555555555556,\"#d8576b\"],[0.6666666666666666,\"#ed7953\"],[0.7777777777777778,\"#fb9f3a\"],[0.8888888888888888,\"#fdca26\"],[1.0,\"#f0f921\"]]}],\"heatmap\":[{\"type\":\"heatmap\",\"colorbar\":{\"outlinewidth\":0,\"ticks\":\"\"},\"colorscale\":[[0.0,\"#0d0887\"],[0.1111111111111111,\"#46039f\"],[0.2222222222222222,\"#7201a8\"],[0.3333333333333333,\"#9c179e\"],[0.4444444444444444,\"#bd3786\"],[0.5555555555555556,\"#d8576b\"],[0.6666666666666666,\"#ed7953\"],[0.7777777777777778,\"#fb9f3a\"],[0.8888888888888888,\"#fdca26\"],[1.0,\"#f0f921\"]]}],\"heatmapgl\":[{\"type\":\"heatmapgl\",\"colorbar\":{\"outlinewidth\":0,\"ticks\":\"\"},\"colorscale\":[[0.0,\"#0d0887\"],[0.1111111111111111,\"#46039f\"],[0.2222222222222222,\"#7201a8\"],[0.3333333333333333,\"#9c179e\"],[0.4444444444444444,\"#bd3786\"],[0.5555555555555556,\"#d8576b\"],[0.6666666666666666,\"#ed7953\"],[0.7777777777777778,\"#fb9f3a\"],[0.8888888888888888,\"#fdca26\"],[1.0,\"#f0f921\"]]}],\"contourcarpet\":[{\"type\":\"contourcarpet\",\"colorbar\":{\"outlinewidth\":0,\"ticks\":\"\"}}],\"contour\":[{\"type\":\"contour\",\"colorbar\":{\"outlinewidth\":0,\"ticks\":\"\"},\"colorscale\":[[0.0,\"#0d0887\"],[0.1111111111111111,\"#46039f\"],[0.2222222222222222,\"#7201a8\"],[0.3333333333333333,\"#9c179e\"],[0.4444444444444444,\"#bd3786\"],[0.5555555555555556,\"#d8576b\"],[0.6666666666666666,\"#ed7953\"],[0.7777777777777778,\"#fb9f3a\"],[0.8888888888888888,\"#fdca26\"],[1.0,\"#f0f921\"]]}],\"surface\":[{\"type\":\"surface\",\"colorbar\":{\"outlinewidth\":0,\"ticks\":\"\"},\"colorscale\":[[0.0,\"#0d0887\"],[0.1111111111111111,\"#46039f\"],[0.2222222222222222,\"#7201a8\"],[0.3333333333333333,\"#9c179e\"],[0.4444444444444444,\"#bd3786\"],[0.5555555555555556,\"#d8576b\"],[0.6666666666666666,\"#ed7953\"],[0.7777777777777778,\"#fb9f3a\"],[0.8888888888888888,\"#fdca26\"],[1.0,\"#f0f921\"]]}],\"mesh3d\":[{\"type\":\"mesh3d\",\"colorbar\":{\"outlinewidth\":0,\"ticks\":\"\"}}],\"scatter\":[{\"fillpattern\":{\"fillmode\":\"overlay\",\"size\":10,\"solidity\":0.2},\"type\":\"scatter\"}],\"parcoords\":[{\"type\":\"parcoords\",\"line\":{\"colorbar\":{\"outlinewidth\":0,\"ticks\":\"\"}}}],\"scatterpolargl\":[{\"type\":\"scatterpolargl\",\"marker\":{\"colorbar\":{\"outlinewidth\":0,\"ticks\":\"\"}}}],\"bar\":[{\"error_x\":{\"color\":\"#2a3f5f\"},\"error_y\":{\"color\":\"#2a3f5f\"},\"marker\":{\"line\":{\"color\":\"#E5ECF6\",\"width\":0.5},\"pattern\":{\"fillmode\":\"overlay\",\"size\":10,\"solidity\":0.2}},\"type\":\"bar\"}],\"scattergeo\":[{\"type\":\"scattergeo\",\"marker\":{\"colorbar\":{\"outlinewidth\":0,\"ticks\":\"\"}}}],\"scatterpolar\":[{\"type\":\"scatterpolar\",\"marker\":{\"colorbar\":{\"outlinewidth\":0,\"ticks\":\"\"}}}],\"histogram\":[{\"marker\":{\"pattern\":{\"fillmode\":\"overlay\",\"size\":10,\"solidity\":0.2}},\"type\":\"histogram\"}],\"scattergl\":[{\"type\":\"scattergl\",\"marker\":{\"colorbar\":{\"outlinewidth\":0,\"ticks\":\"\"}}}],\"scatter3d\":[{\"type\":\"scatter3d\",\"line\":{\"colorbar\":{\"outlinewidth\":0,\"ticks\":\"\"}},\"marker\":{\"colorbar\":{\"outlinewidth\":0,\"ticks\":\"\"}}}],\"scattermapbox\":[{\"type\":\"scattermapbox\",\"marker\":{\"colorbar\":{\"outlinewidth\":0,\"ticks\":\"\"}}}],\"scatterternary\":[{\"type\":\"scatterternary\",\"marker\":{\"colorbar\":{\"outlinewidth\":0,\"ticks\":\"\"}}}],\"scattercarpet\":[{\"type\":\"scattercarpet\",\"marker\":{\"colorbar\":{\"outlinewidth\":0,\"ticks\":\"\"}}}],\"carpet\":[{\"aaxis\":{\"endlinecolor\":\"#2a3f5f\",\"gridcolor\":\"white\",\"linecolor\":\"white\",\"minorgridcolor\":\"white\",\"startlinecolor\":\"#2a3f5f\"},\"baxis\":{\"endlinecolor\":\"#2a3f5f\",\"gridcolor\":\"white\",\"linecolor\":\"white\",\"minorgridcolor\":\"white\",\"startlinecolor\":\"#2a3f5f\"},\"type\":\"carpet\"}],\"table\":[{\"cells\":{\"fill\":{\"color\":\"#EBF0F8\"},\"line\":{\"color\":\"white\"}},\"header\":{\"fill\":{\"color\":\"#C8D4E3\"},\"line\":{\"color\":\"white\"}},\"type\":\"table\"}],\"barpolar\":[{\"marker\":{\"line\":{\"color\":\"#E5ECF6\",\"width\":0.5},\"pattern\":{\"fillmode\":\"overlay\",\"size\":10,\"solidity\":0.2}},\"type\":\"barpolar\"}],\"pie\":[{\"automargin\":true,\"type\":\"pie\"}]},\"layout\":{\"autotypenumbers\":\"strict\",\"colorway\":[\"#636efa\",\"#EF553B\",\"#00cc96\",\"#ab63fa\",\"#FFA15A\",\"#19d3f3\",\"#FF6692\",\"#B6E880\",\"#FF97FF\",\"#FECB52\"],\"font\":{\"color\":\"#2a3f5f\"},\"hovermode\":\"closest\",\"hoverlabel\":{\"align\":\"left\"},\"paper_bgcolor\":\"white\",\"plot_bgcolor\":\"#E5ECF6\",\"polar\":{\"bgcolor\":\"#E5ECF6\",\"angularaxis\":{\"gridcolor\":\"white\",\"linecolor\":\"white\",\"ticks\":\"\"},\"radialaxis\":{\"gridcolor\":\"white\",\"linecolor\":\"white\",\"ticks\":\"\"}},\"ternary\":{\"bgcolor\":\"#E5ECF6\",\"aaxis\":{\"gridcolor\":\"white\",\"linecolor\":\"white\",\"ticks\":\"\"},\"baxis\":{\"gridcolor\":\"white\",\"linecolor\":\"white\",\"ticks\":\"\"},\"caxis\":{\"gridcolor\":\"white\",\"linecolor\":\"white\",\"ticks\":\"\"}},\"coloraxis\":{\"colorbar\":{\"outlinewidth\":0,\"ticks\":\"\"}},\"colorscale\":{\"sequential\":[[0.0,\"#0d0887\"],[0.1111111111111111,\"#46039f\"],[0.2222222222222222,\"#7201a8\"],[0.3333333333333333,\"#9c179e\"],[0.4444444444444444,\"#bd3786\"],[0.5555555555555556,\"#d8576b\"],[0.6666666666666666,\"#ed7953\"],[0.7777777777777778,\"#fb9f3a\"],[0.8888888888888888,\"#fdca26\"],[1.0,\"#f0f921\"]],\"sequentialminus\":[[0.0,\"#0d0887\"],[0.1111111111111111,\"#46039f\"],[0.2222222222222222,\"#7201a8\"],[0.3333333333333333,\"#9c179e\"],[0.4444444444444444,\"#bd3786\"],[0.5555555555555556,\"#d8576b\"],[0.6666666666666666,\"#ed7953\"],[0.7777777777777778,\"#fb9f3a\"],[0.8888888888888888,\"#fdca26\"],[1.0,\"#f0f921\"]],\"diverging\":[[0,\"#8e0152\"],[0.1,\"#c51b7d\"],[0.2,\"#de77ae\"],[0.3,\"#f1b6da\"],[0.4,\"#fde0ef\"],[0.5,\"#f7f7f7\"],[0.6,\"#e6f5d0\"],[0.7,\"#b8e186\"],[0.8,\"#7fbc41\"],[0.9,\"#4d9221\"],[1,\"#276419\"]]},\"xaxis\":{\"gridcolor\":\"white\",\"linecolor\":\"white\",\"ticks\":\"\",\"title\":{\"standoff\":15},\"zerolinecolor\":\"white\",\"automargin\":true,\"zerolinewidth\":2},\"yaxis\":{\"gridcolor\":\"white\",\"linecolor\":\"white\",\"ticks\":\"\",\"title\":{\"standoff\":15},\"zerolinecolor\":\"white\",\"automargin\":true,\"zerolinewidth\":2},\"scene\":{\"xaxis\":{\"backgroundcolor\":\"#E5ECF6\",\"gridcolor\":\"white\",\"linecolor\":\"white\",\"showbackground\":true,\"ticks\":\"\",\"zerolinecolor\":\"white\",\"gridwidth\":2},\"yaxis\":{\"backgroundcolor\":\"#E5ECF6\",\"gridcolor\":\"white\",\"linecolor\":\"white\",\"showbackground\":true,\"ticks\":\"\",\"zerolinecolor\":\"white\",\"gridwidth\":2},\"zaxis\":{\"backgroundcolor\":\"#E5ECF6\",\"gridcolor\":\"white\",\"linecolor\":\"white\",\"showbackground\":true,\"ticks\":\"\",\"zerolinecolor\":\"white\",\"gridwidth\":2}},\"shapedefaults\":{\"line\":{\"color\":\"#2a3f5f\"}},\"annotationdefaults\":{\"arrowcolor\":\"#2a3f5f\",\"arrowhead\":0,\"arrowwidth\":1},\"geo\":{\"bgcolor\":\"white\",\"landcolor\":\"#E5ECF6\",\"subunitcolor\":\"white\",\"showland\":true,\"showlakes\":true,\"lakecolor\":\"white\"},\"title\":{\"x\":0.05},\"mapbox\":{\"style\":\"light\"}}},\"xaxis\":{\"anchor\":\"y\",\"domain\":[0.0,1.0],\"title\":{\"text\":\"Nota no IMDB\"}},\"yaxis\":{\"anchor\":\"x\",\"domain\":[0.0,0.8316],\"title\":{\"text\":\"Quantidade de Filmes\"}},\"xaxis2\":{\"anchor\":\"y2\",\"domain\":[0.0,1.0],\"matches\":\"x\",\"showticklabels\":false,\"showgrid\":true},\"yaxis2\":{\"anchor\":\"x2\",\"domain\":[0.8416,1.0],\"matches\":\"y2\",\"showticklabels\":false,\"showline\":false,\"ticks\":\"\",\"showgrid\":false},\"legend\":{\"tracegroupgap\":0},\"title\":{\"text\":\"Distribui\\u00e7\\u00e3o do IMDB Rating nos Filmes\"},\"barmode\":\"relative\"},                        {\"responsive\": true}                    ).then(function(){\n",
       "                            \n",
       "var gd = document.getElementById('471bcf37-7317-4e72-aaa7-fa67bdf1a7f6');\n",
       "var x = new MutationObserver(function (mutations, observer) {{\n",
       "        var display = window.getComputedStyle(gd).display;\n",
       "        if (!display || display === 'none') {{\n",
       "            console.log([gd, 'removed!']);\n",
       "            Plotly.purge(gd);\n",
       "            observer.disconnect();\n",
       "        }}\n",
       "}});\n",
       "\n",
       "// Listen for the removal of the full notebook cells\n",
       "var notebookContainer = gd.closest('#notebook-container');\n",
       "if (notebookContainer) {{\n",
       "    x.observe(notebookContainer, {childList: true});\n",
       "}}\n",
       "\n",
       "// Listen for the clearing of the current output cell\n",
       "var outputEl = gd.closest('.output');\n",
       "if (outputEl) {{\n",
       "    x.observe(outputEl, {childList: true});\n",
       "}}\n",
       "\n",
       "                        })                };                });            </script>        </div>"
      ]
     },
     "metadata": {},
     "output_type": "display_data"
    }
   ],
   "source": [
    "# Distribuição do IMDB Rating\n",
    "imdb_hist = px.histogram(\n",
    "    x=df.IMDB_Rating, \n",
    "    title=\"Distribuição do IMDB Rating nos Filmes\",\n",
    "    marginal=\"box\",\n",
    "    labels={\"x\": \"Nota no IMDB\"}\n",
    "    ).update_traces(marker_color=\"Tomato\").update_layout(yaxis_title=\"Quantidade de Filmes\")\n",
    "imdb_hist.show()"
   ]
  },
  {
   "cell_type": "markdown",
   "metadata": {},
   "source": [
    "**Distribuição do MetaScore**: Para analisar como o MetaScore está distribuído entre os filmes, aplicaremos um **Histograma** junto de um **Boxplot**, pois ambos os gráficos auxiliam no entendimento da distribuição em variáveis númericas.\n",
    "\n",
    "Analisando os gráficos, é visível que a maior parte dos filmes possui uma nota no MetaCritic entre 70 e 86, com alguns outliers mal avaliados com nota inferior a 40.\n"
   ]
  },
  {
   "cell_type": "code",
   "execution_count": 57,
   "metadata": {},
   "outputs": [
    {
     "data": {
      "application/vnd.plotly.v1+json": {
       "config": {
        "plotlyServerURL": "https://plot.ly"
       },
       "data": [
        {
         "alignmentgroup": "True",
         "bingroup": "x",
         "hovertemplate": "Nota no MetaCritic=%{x}<br>count=%{y}<extra></extra>",
         "legendgroup": "",
         "marker": {
          "color": "DarkSlateGray",
          "pattern": {
           "shape": ""
          }
         },
         "name": "",
         "offsetgroup": "",
         "orientation": "v",
         "showlegend": false,
         "type": "histogram",
         "x": [
          80,
          100,
          84,
          90,
          96,
          94,
          94,
          94,
          74,
          66,
          92,
          82,
          90,
          87,
          73,
          90,
          82,
          83,
          96,
          74,
          79,
          96,
          91,
          61,
          59,
          65,
          85,
          90,
          98,
          59,
          88,
          57,
          66,
          85,
          85,
          67,
          62,
          77,
          64,
          88,
          75,
          80,
          87,
          80,
          97,
          100,
          96,
          99,
          75,
          79,
          79,
          87,
          78,
          68,
          81,
          81,
          78,
          67,
          79,
          95,
          89,
          77,
          80,
          76,
          79,
          85,
          66,
          94,
          89,
          97,
          79,
          100,
          79,
          78,
          79,
          77,
          95,
          80,
          69,
          89,
          69,
          55,
          68,
          84,
          70,
          77,
          95,
          68,
          79,
          76,
          84,
          88,
          65,
          58,
          86,
          94,
          83,
          77,
          84,
          74,
          100,
          94,
          98,
          100,
          99,
          95,
          100,
          79,
          79,
          79,
          79,
          69,
          88,
          79,
          79,
          79,
          79,
          79,
          79,
          79,
          80,
          71,
          63,
          88,
          75,
          68,
          93,
          98,
          92,
          62,
          79,
          79,
          70,
          79,
          82,
          80,
          72,
          66,
          90,
          76,
          73,
          85,
          65,
          79,
          86,
          72,
          96,
          89,
          79,
          91,
          86,
          98,
          75,
          98,
          98,
          79,
          79,
          95,
          79,
          84,
          74,
          79,
          77,
          86,
          77,
          79,
          79,
          88,
          79,
          71,
          94,
          79,
          96,
          74,
          81,
          93,
          85,
          79,
          79,
          70,
          90,
          72,
          85,
          68,
          75,
          73,
          91,
          79,
          86,
          79,
          64,
          90,
          82,
          79,
          69,
          90,
          75,
          83,
          79,
          84,
          64,
          58,
          90,
          73,
          71,
          85,
          83,
          85,
          79,
          77,
          100,
          77,
          68,
          84,
          79,
          79,
          79,
          75,
          92,
          78,
          86,
          57,
          47,
          100,
          84,
          77,
          86,
          70,
          79,
          92,
          77,
          79,
          79,
          92,
          79,
          75,
          79,
          90,
          87,
          91,
          72,
          97,
          86,
          73,
          97,
          87,
          79,
          79,
          79,
          79,
          94,
          69,
          80,
          78,
          79,
          89,
          66,
          65,
          79,
          82,
          71,
          73,
          76,
          81,
          90,
          49,
          76,
          67,
          88,
          62,
          65,
          87,
          79,
          50,
          84,
          79,
          33,
          69,
          90,
          80,
          64,
          64,
          85,
          72,
          74,
          92,
          96,
          80,
          83,
          85,
          74,
          69,
          54,
          75,
          63,
          58,
          90,
          60,
          88,
          77,
          61,
          86,
          79,
          82,
          80,
          85,
          84,
          91,
          74,
          76,
          82,
          72,
          47,
          59,
          86,
          72,
          95,
          72,
          93,
          65,
          79,
          77,
          79,
          88,
          84,
          79,
          83,
          92,
          87,
          86,
          80,
          58,
          81,
          79,
          93,
          67,
          100,
          66,
          79,
          83,
          63,
          69,
          65,
          90,
          95,
          93,
          99,
          84,
          97,
          79,
          93,
          96,
          92,
          91,
          82,
          93,
          94,
          93,
          78,
          82,
          81,
          72,
          79,
          74,
          76,
          58,
          81,
          80,
          94,
          75,
          89,
          71,
          94,
          94,
          90,
          67,
          82,
          81,
          80,
          79,
          100,
          82,
          67,
          89,
          64,
          79,
          83,
          56,
          79,
          76,
          84,
          82,
          85,
          86,
          84,
          61,
          68,
          80,
          84,
          90,
          85,
          88,
          85,
          77,
          59,
          85,
          65,
          74,
          97,
          77,
          79,
          90,
          84,
          92,
          77,
          60,
          83,
          72,
          71,
          84,
          76,
          93,
          91,
          97,
          79,
          75,
          83,
          87,
          79,
          89,
          88,
          100,
          79,
          79,
          79,
          97,
          79,
          90,
          85,
          94,
          74,
          88,
          84,
          79,
          96,
          75,
          65,
          75,
          68,
          91,
          62,
          85,
          76,
          79,
          74,
          55,
          79,
          83,
          84,
          49,
          84,
          76,
          81,
          71,
          82,
          79,
          72,
          79,
          66,
          82,
          76,
          79,
          51,
          55,
          88,
          58,
          85,
          78,
          76,
          83,
          63,
          68,
          80,
          81,
          70,
          67,
          51,
          82,
          68,
          73,
          74,
          72,
          53,
          75,
          82,
          91,
          61,
          83,
          48,
          94,
          87,
          73,
          44,
          84,
          71,
          84,
          75,
          64,
          61,
          76,
          70,
          73,
          50,
          55,
          84,
          87,
          80,
          79,
          68,
          86,
          76,
          75,
          74,
          78,
          57,
          65,
          45,
          72,
          61,
          75,
          62,
          78,
          66,
          76,
          71,
          91,
          73,
          91,
          77,
          69,
          85,
          73,
          80,
          80,
          67,
          79,
          95,
          88,
          75,
          88,
          79,
          66,
          73,
          85,
          86,
          70,
          76,
          72,
          72,
          60,
          69,
          74,
          87,
          89,
          40,
          70,
          79,
          87,
          72,
          70,
          81,
          83,
          96,
          72,
          95,
          65,
          73,
          81,
          81,
          86,
          76,
          65,
          86,
          80,
          81,
          63,
          45,
          78,
          78,
          74,
          78,
          53,
          70,
          78,
          71,
          71,
          87,
          76,
          66,
          78,
          73,
          61,
          73,
          89,
          81,
          47,
          80,
          55,
          83,
          68,
          76,
          28,
          83,
          74,
          72,
          60,
          74,
          85,
          74,
          62,
          69,
          73,
          68,
          69,
          86,
          79,
          90,
          67,
          52,
          73,
          76,
          87,
          47,
          79,
          83,
          81,
          70,
          79,
          66,
          64,
          73,
          76,
          82,
          62,
          64,
          69,
          66,
          83,
          84,
          76,
          62,
          54,
          76,
          75,
          90,
          79,
          77,
          67,
          61,
          86,
          78,
          87,
          71,
          73,
          87,
          83,
          80,
          94,
          90,
          86,
          79,
          72,
          87,
          90,
          74,
          79,
          91,
          96,
          71,
          83,
          86,
          92,
          60,
          70,
          83,
          67,
          86,
          72,
          81,
          80,
          81,
          82,
          82,
          92,
          88,
          77,
          79,
          73,
          68,
          80,
          88,
          80,
          65,
          72,
          72,
          66,
          87,
          70,
          73,
          57,
          53,
          79,
          36,
          82,
          66,
          76,
          72,
          66,
          70,
          68,
          78,
          52,
          72,
          56,
          62,
          46,
          67,
          73,
          45,
          76,
          81,
          70,
          56,
          67,
          68,
          30,
          73,
          76,
          88,
          64,
          74,
          52,
          53,
          80,
          74,
          64,
          77,
          78,
          71,
          41,
          66,
          49,
          52,
          84,
          58,
          62,
          69,
          77,
          88,
          56,
          78,
          68,
          90,
          66,
          63,
          60,
          76,
          88,
          76,
          72,
          68,
          82,
          68,
          77,
          65,
          74,
          76,
          59,
          90,
          87,
          77,
          50,
          65,
          96,
          85
         ],
         "xaxis": "x",
         "yaxis": "y"
        },
        {
         "alignmentgroup": "True",
         "hovertemplate": "Nota no MetaCritic=%{x}<extra></extra>",
         "legendgroup": "",
         "marker": {
          "color": "DarkSlateGray"
         },
         "name": "",
         "notched": true,
         "offsetgroup": "",
         "showlegend": false,
         "type": "box",
         "x": [
          80,
          100,
          84,
          90,
          96,
          94,
          94,
          94,
          74,
          66,
          92,
          82,
          90,
          87,
          73,
          90,
          82,
          83,
          96,
          74,
          79,
          96,
          91,
          61,
          59,
          65,
          85,
          90,
          98,
          59,
          88,
          57,
          66,
          85,
          85,
          67,
          62,
          77,
          64,
          88,
          75,
          80,
          87,
          80,
          97,
          100,
          96,
          99,
          75,
          79,
          79,
          87,
          78,
          68,
          81,
          81,
          78,
          67,
          79,
          95,
          89,
          77,
          80,
          76,
          79,
          85,
          66,
          94,
          89,
          97,
          79,
          100,
          79,
          78,
          79,
          77,
          95,
          80,
          69,
          89,
          69,
          55,
          68,
          84,
          70,
          77,
          95,
          68,
          79,
          76,
          84,
          88,
          65,
          58,
          86,
          94,
          83,
          77,
          84,
          74,
          100,
          94,
          98,
          100,
          99,
          95,
          100,
          79,
          79,
          79,
          79,
          69,
          88,
          79,
          79,
          79,
          79,
          79,
          79,
          79,
          80,
          71,
          63,
          88,
          75,
          68,
          93,
          98,
          92,
          62,
          79,
          79,
          70,
          79,
          82,
          80,
          72,
          66,
          90,
          76,
          73,
          85,
          65,
          79,
          86,
          72,
          96,
          89,
          79,
          91,
          86,
          98,
          75,
          98,
          98,
          79,
          79,
          95,
          79,
          84,
          74,
          79,
          77,
          86,
          77,
          79,
          79,
          88,
          79,
          71,
          94,
          79,
          96,
          74,
          81,
          93,
          85,
          79,
          79,
          70,
          90,
          72,
          85,
          68,
          75,
          73,
          91,
          79,
          86,
          79,
          64,
          90,
          82,
          79,
          69,
          90,
          75,
          83,
          79,
          84,
          64,
          58,
          90,
          73,
          71,
          85,
          83,
          85,
          79,
          77,
          100,
          77,
          68,
          84,
          79,
          79,
          79,
          75,
          92,
          78,
          86,
          57,
          47,
          100,
          84,
          77,
          86,
          70,
          79,
          92,
          77,
          79,
          79,
          92,
          79,
          75,
          79,
          90,
          87,
          91,
          72,
          97,
          86,
          73,
          97,
          87,
          79,
          79,
          79,
          79,
          94,
          69,
          80,
          78,
          79,
          89,
          66,
          65,
          79,
          82,
          71,
          73,
          76,
          81,
          90,
          49,
          76,
          67,
          88,
          62,
          65,
          87,
          79,
          50,
          84,
          79,
          33,
          69,
          90,
          80,
          64,
          64,
          85,
          72,
          74,
          92,
          96,
          80,
          83,
          85,
          74,
          69,
          54,
          75,
          63,
          58,
          90,
          60,
          88,
          77,
          61,
          86,
          79,
          82,
          80,
          85,
          84,
          91,
          74,
          76,
          82,
          72,
          47,
          59,
          86,
          72,
          95,
          72,
          93,
          65,
          79,
          77,
          79,
          88,
          84,
          79,
          83,
          92,
          87,
          86,
          80,
          58,
          81,
          79,
          93,
          67,
          100,
          66,
          79,
          83,
          63,
          69,
          65,
          90,
          95,
          93,
          99,
          84,
          97,
          79,
          93,
          96,
          92,
          91,
          82,
          93,
          94,
          93,
          78,
          82,
          81,
          72,
          79,
          74,
          76,
          58,
          81,
          80,
          94,
          75,
          89,
          71,
          94,
          94,
          90,
          67,
          82,
          81,
          80,
          79,
          100,
          82,
          67,
          89,
          64,
          79,
          83,
          56,
          79,
          76,
          84,
          82,
          85,
          86,
          84,
          61,
          68,
          80,
          84,
          90,
          85,
          88,
          85,
          77,
          59,
          85,
          65,
          74,
          97,
          77,
          79,
          90,
          84,
          92,
          77,
          60,
          83,
          72,
          71,
          84,
          76,
          93,
          91,
          97,
          79,
          75,
          83,
          87,
          79,
          89,
          88,
          100,
          79,
          79,
          79,
          97,
          79,
          90,
          85,
          94,
          74,
          88,
          84,
          79,
          96,
          75,
          65,
          75,
          68,
          91,
          62,
          85,
          76,
          79,
          74,
          55,
          79,
          83,
          84,
          49,
          84,
          76,
          81,
          71,
          82,
          79,
          72,
          79,
          66,
          82,
          76,
          79,
          51,
          55,
          88,
          58,
          85,
          78,
          76,
          83,
          63,
          68,
          80,
          81,
          70,
          67,
          51,
          82,
          68,
          73,
          74,
          72,
          53,
          75,
          82,
          91,
          61,
          83,
          48,
          94,
          87,
          73,
          44,
          84,
          71,
          84,
          75,
          64,
          61,
          76,
          70,
          73,
          50,
          55,
          84,
          87,
          80,
          79,
          68,
          86,
          76,
          75,
          74,
          78,
          57,
          65,
          45,
          72,
          61,
          75,
          62,
          78,
          66,
          76,
          71,
          91,
          73,
          91,
          77,
          69,
          85,
          73,
          80,
          80,
          67,
          79,
          95,
          88,
          75,
          88,
          79,
          66,
          73,
          85,
          86,
          70,
          76,
          72,
          72,
          60,
          69,
          74,
          87,
          89,
          40,
          70,
          79,
          87,
          72,
          70,
          81,
          83,
          96,
          72,
          95,
          65,
          73,
          81,
          81,
          86,
          76,
          65,
          86,
          80,
          81,
          63,
          45,
          78,
          78,
          74,
          78,
          53,
          70,
          78,
          71,
          71,
          87,
          76,
          66,
          78,
          73,
          61,
          73,
          89,
          81,
          47,
          80,
          55,
          83,
          68,
          76,
          28,
          83,
          74,
          72,
          60,
          74,
          85,
          74,
          62,
          69,
          73,
          68,
          69,
          86,
          79,
          90,
          67,
          52,
          73,
          76,
          87,
          47,
          79,
          83,
          81,
          70,
          79,
          66,
          64,
          73,
          76,
          82,
          62,
          64,
          69,
          66,
          83,
          84,
          76,
          62,
          54,
          76,
          75,
          90,
          79,
          77,
          67,
          61,
          86,
          78,
          87,
          71,
          73,
          87,
          83,
          80,
          94,
          90,
          86,
          79,
          72,
          87,
          90,
          74,
          79,
          91,
          96,
          71,
          83,
          86,
          92,
          60,
          70,
          83,
          67,
          86,
          72,
          81,
          80,
          81,
          82,
          82,
          92,
          88,
          77,
          79,
          73,
          68,
          80,
          88,
          80,
          65,
          72,
          72,
          66,
          87,
          70,
          73,
          57,
          53,
          79,
          36,
          82,
          66,
          76,
          72,
          66,
          70,
          68,
          78,
          52,
          72,
          56,
          62,
          46,
          67,
          73,
          45,
          76,
          81,
          70,
          56,
          67,
          68,
          30,
          73,
          76,
          88,
          64,
          74,
          52,
          53,
          80,
          74,
          64,
          77,
          78,
          71,
          41,
          66,
          49,
          52,
          84,
          58,
          62,
          69,
          77,
          88,
          56,
          78,
          68,
          90,
          66,
          63,
          60,
          76,
          88,
          76,
          72,
          68,
          82,
          68,
          77,
          65,
          74,
          76,
          59,
          90,
          87,
          77,
          50,
          65,
          96,
          85
         ],
         "xaxis": "x2",
         "yaxis": "y2"
        }
       ],
       "layout": {
        "barmode": "relative",
        "legend": {
         "tracegroupgap": 0
        },
        "template": {
         "data": {
          "bar": [
           {
            "error_x": {
             "color": "#2a3f5f"
            },
            "error_y": {
             "color": "#2a3f5f"
            },
            "marker": {
             "line": {
              "color": "#E5ECF6",
              "width": 0.5
             },
             "pattern": {
              "fillmode": "overlay",
              "size": 10,
              "solidity": 0.2
             }
            },
            "type": "bar"
           }
          ],
          "barpolar": [
           {
            "marker": {
             "line": {
              "color": "#E5ECF6",
              "width": 0.5
             },
             "pattern": {
              "fillmode": "overlay",
              "size": 10,
              "solidity": 0.2
             }
            },
            "type": "barpolar"
           }
          ],
          "carpet": [
           {
            "aaxis": {
             "endlinecolor": "#2a3f5f",
             "gridcolor": "white",
             "linecolor": "white",
             "minorgridcolor": "white",
             "startlinecolor": "#2a3f5f"
            },
            "baxis": {
             "endlinecolor": "#2a3f5f",
             "gridcolor": "white",
             "linecolor": "white",
             "minorgridcolor": "white",
             "startlinecolor": "#2a3f5f"
            },
            "type": "carpet"
           }
          ],
          "choropleth": [
           {
            "colorbar": {
             "outlinewidth": 0,
             "ticks": ""
            },
            "type": "choropleth"
           }
          ],
          "contour": [
           {
            "colorbar": {
             "outlinewidth": 0,
             "ticks": ""
            },
            "colorscale": [
             [
              0,
              "#0d0887"
             ],
             [
              0.1111111111111111,
              "#46039f"
             ],
             [
              0.2222222222222222,
              "#7201a8"
             ],
             [
              0.3333333333333333,
              "#9c179e"
             ],
             [
              0.4444444444444444,
              "#bd3786"
             ],
             [
              0.5555555555555556,
              "#d8576b"
             ],
             [
              0.6666666666666666,
              "#ed7953"
             ],
             [
              0.7777777777777778,
              "#fb9f3a"
             ],
             [
              0.8888888888888888,
              "#fdca26"
             ],
             [
              1,
              "#f0f921"
             ]
            ],
            "type": "contour"
           }
          ],
          "contourcarpet": [
           {
            "colorbar": {
             "outlinewidth": 0,
             "ticks": ""
            },
            "type": "contourcarpet"
           }
          ],
          "heatmap": [
           {
            "colorbar": {
             "outlinewidth": 0,
             "ticks": ""
            },
            "colorscale": [
             [
              0,
              "#0d0887"
             ],
             [
              0.1111111111111111,
              "#46039f"
             ],
             [
              0.2222222222222222,
              "#7201a8"
             ],
             [
              0.3333333333333333,
              "#9c179e"
             ],
             [
              0.4444444444444444,
              "#bd3786"
             ],
             [
              0.5555555555555556,
              "#d8576b"
             ],
             [
              0.6666666666666666,
              "#ed7953"
             ],
             [
              0.7777777777777778,
              "#fb9f3a"
             ],
             [
              0.8888888888888888,
              "#fdca26"
             ],
             [
              1,
              "#f0f921"
             ]
            ],
            "type": "heatmap"
           }
          ],
          "heatmapgl": [
           {
            "colorbar": {
             "outlinewidth": 0,
             "ticks": ""
            },
            "colorscale": [
             [
              0,
              "#0d0887"
             ],
             [
              0.1111111111111111,
              "#46039f"
             ],
             [
              0.2222222222222222,
              "#7201a8"
             ],
             [
              0.3333333333333333,
              "#9c179e"
             ],
             [
              0.4444444444444444,
              "#bd3786"
             ],
             [
              0.5555555555555556,
              "#d8576b"
             ],
             [
              0.6666666666666666,
              "#ed7953"
             ],
             [
              0.7777777777777778,
              "#fb9f3a"
             ],
             [
              0.8888888888888888,
              "#fdca26"
             ],
             [
              1,
              "#f0f921"
             ]
            ],
            "type": "heatmapgl"
           }
          ],
          "histogram": [
           {
            "marker": {
             "pattern": {
              "fillmode": "overlay",
              "size": 10,
              "solidity": 0.2
             }
            },
            "type": "histogram"
           }
          ],
          "histogram2d": [
           {
            "colorbar": {
             "outlinewidth": 0,
             "ticks": ""
            },
            "colorscale": [
             [
              0,
              "#0d0887"
             ],
             [
              0.1111111111111111,
              "#46039f"
             ],
             [
              0.2222222222222222,
              "#7201a8"
             ],
             [
              0.3333333333333333,
              "#9c179e"
             ],
             [
              0.4444444444444444,
              "#bd3786"
             ],
             [
              0.5555555555555556,
              "#d8576b"
             ],
             [
              0.6666666666666666,
              "#ed7953"
             ],
             [
              0.7777777777777778,
              "#fb9f3a"
             ],
             [
              0.8888888888888888,
              "#fdca26"
             ],
             [
              1,
              "#f0f921"
             ]
            ],
            "type": "histogram2d"
           }
          ],
          "histogram2dcontour": [
           {
            "colorbar": {
             "outlinewidth": 0,
             "ticks": ""
            },
            "colorscale": [
             [
              0,
              "#0d0887"
             ],
             [
              0.1111111111111111,
              "#46039f"
             ],
             [
              0.2222222222222222,
              "#7201a8"
             ],
             [
              0.3333333333333333,
              "#9c179e"
             ],
             [
              0.4444444444444444,
              "#bd3786"
             ],
             [
              0.5555555555555556,
              "#d8576b"
             ],
             [
              0.6666666666666666,
              "#ed7953"
             ],
             [
              0.7777777777777778,
              "#fb9f3a"
             ],
             [
              0.8888888888888888,
              "#fdca26"
             ],
             [
              1,
              "#f0f921"
             ]
            ],
            "type": "histogram2dcontour"
           }
          ],
          "mesh3d": [
           {
            "colorbar": {
             "outlinewidth": 0,
             "ticks": ""
            },
            "type": "mesh3d"
           }
          ],
          "parcoords": [
           {
            "line": {
             "colorbar": {
              "outlinewidth": 0,
              "ticks": ""
             }
            },
            "type": "parcoords"
           }
          ],
          "pie": [
           {
            "automargin": true,
            "type": "pie"
           }
          ],
          "scatter": [
           {
            "fillpattern": {
             "fillmode": "overlay",
             "size": 10,
             "solidity": 0.2
            },
            "type": "scatter"
           }
          ],
          "scatter3d": [
           {
            "line": {
             "colorbar": {
              "outlinewidth": 0,
              "ticks": ""
             }
            },
            "marker": {
             "colorbar": {
              "outlinewidth": 0,
              "ticks": ""
             }
            },
            "type": "scatter3d"
           }
          ],
          "scattercarpet": [
           {
            "marker": {
             "colorbar": {
              "outlinewidth": 0,
              "ticks": ""
             }
            },
            "type": "scattercarpet"
           }
          ],
          "scattergeo": [
           {
            "marker": {
             "colorbar": {
              "outlinewidth": 0,
              "ticks": ""
             }
            },
            "type": "scattergeo"
           }
          ],
          "scattergl": [
           {
            "marker": {
             "colorbar": {
              "outlinewidth": 0,
              "ticks": ""
             }
            },
            "type": "scattergl"
           }
          ],
          "scattermapbox": [
           {
            "marker": {
             "colorbar": {
              "outlinewidth": 0,
              "ticks": ""
             }
            },
            "type": "scattermapbox"
           }
          ],
          "scatterpolar": [
           {
            "marker": {
             "colorbar": {
              "outlinewidth": 0,
              "ticks": ""
             }
            },
            "type": "scatterpolar"
           }
          ],
          "scatterpolargl": [
           {
            "marker": {
             "colorbar": {
              "outlinewidth": 0,
              "ticks": ""
             }
            },
            "type": "scatterpolargl"
           }
          ],
          "scatterternary": [
           {
            "marker": {
             "colorbar": {
              "outlinewidth": 0,
              "ticks": ""
             }
            },
            "type": "scatterternary"
           }
          ],
          "surface": [
           {
            "colorbar": {
             "outlinewidth": 0,
             "ticks": ""
            },
            "colorscale": [
             [
              0,
              "#0d0887"
             ],
             [
              0.1111111111111111,
              "#46039f"
             ],
             [
              0.2222222222222222,
              "#7201a8"
             ],
             [
              0.3333333333333333,
              "#9c179e"
             ],
             [
              0.4444444444444444,
              "#bd3786"
             ],
             [
              0.5555555555555556,
              "#d8576b"
             ],
             [
              0.6666666666666666,
              "#ed7953"
             ],
             [
              0.7777777777777778,
              "#fb9f3a"
             ],
             [
              0.8888888888888888,
              "#fdca26"
             ],
             [
              1,
              "#f0f921"
             ]
            ],
            "type": "surface"
           }
          ],
          "table": [
           {
            "cells": {
             "fill": {
              "color": "#EBF0F8"
             },
             "line": {
              "color": "white"
             }
            },
            "header": {
             "fill": {
              "color": "#C8D4E3"
             },
             "line": {
              "color": "white"
             }
            },
            "type": "table"
           }
          ]
         },
         "layout": {
          "annotationdefaults": {
           "arrowcolor": "#2a3f5f",
           "arrowhead": 0,
           "arrowwidth": 1
          },
          "autotypenumbers": "strict",
          "coloraxis": {
           "colorbar": {
            "outlinewidth": 0,
            "ticks": ""
           }
          },
          "colorscale": {
           "diverging": [
            [
             0,
             "#8e0152"
            ],
            [
             0.1,
             "#c51b7d"
            ],
            [
             0.2,
             "#de77ae"
            ],
            [
             0.3,
             "#f1b6da"
            ],
            [
             0.4,
             "#fde0ef"
            ],
            [
             0.5,
             "#f7f7f7"
            ],
            [
             0.6,
             "#e6f5d0"
            ],
            [
             0.7,
             "#b8e186"
            ],
            [
             0.8,
             "#7fbc41"
            ],
            [
             0.9,
             "#4d9221"
            ],
            [
             1,
             "#276419"
            ]
           ],
           "sequential": [
            [
             0,
             "#0d0887"
            ],
            [
             0.1111111111111111,
             "#46039f"
            ],
            [
             0.2222222222222222,
             "#7201a8"
            ],
            [
             0.3333333333333333,
             "#9c179e"
            ],
            [
             0.4444444444444444,
             "#bd3786"
            ],
            [
             0.5555555555555556,
             "#d8576b"
            ],
            [
             0.6666666666666666,
             "#ed7953"
            ],
            [
             0.7777777777777778,
             "#fb9f3a"
            ],
            [
             0.8888888888888888,
             "#fdca26"
            ],
            [
             1,
             "#f0f921"
            ]
           ],
           "sequentialminus": [
            [
             0,
             "#0d0887"
            ],
            [
             0.1111111111111111,
             "#46039f"
            ],
            [
             0.2222222222222222,
             "#7201a8"
            ],
            [
             0.3333333333333333,
             "#9c179e"
            ],
            [
             0.4444444444444444,
             "#bd3786"
            ],
            [
             0.5555555555555556,
             "#d8576b"
            ],
            [
             0.6666666666666666,
             "#ed7953"
            ],
            [
             0.7777777777777778,
             "#fb9f3a"
            ],
            [
             0.8888888888888888,
             "#fdca26"
            ],
            [
             1,
             "#f0f921"
            ]
           ]
          },
          "colorway": [
           "#636efa",
           "#EF553B",
           "#00cc96",
           "#ab63fa",
           "#FFA15A",
           "#19d3f3",
           "#FF6692",
           "#B6E880",
           "#FF97FF",
           "#FECB52"
          ],
          "font": {
           "color": "#2a3f5f"
          },
          "geo": {
           "bgcolor": "white",
           "lakecolor": "white",
           "landcolor": "#E5ECF6",
           "showlakes": true,
           "showland": true,
           "subunitcolor": "white"
          },
          "hoverlabel": {
           "align": "left"
          },
          "hovermode": "closest",
          "mapbox": {
           "style": "light"
          },
          "paper_bgcolor": "white",
          "plot_bgcolor": "#E5ECF6",
          "polar": {
           "angularaxis": {
            "gridcolor": "white",
            "linecolor": "white",
            "ticks": ""
           },
           "bgcolor": "#E5ECF6",
           "radialaxis": {
            "gridcolor": "white",
            "linecolor": "white",
            "ticks": ""
           }
          },
          "scene": {
           "xaxis": {
            "backgroundcolor": "#E5ECF6",
            "gridcolor": "white",
            "gridwidth": 2,
            "linecolor": "white",
            "showbackground": true,
            "ticks": "",
            "zerolinecolor": "white"
           },
           "yaxis": {
            "backgroundcolor": "#E5ECF6",
            "gridcolor": "white",
            "gridwidth": 2,
            "linecolor": "white",
            "showbackground": true,
            "ticks": "",
            "zerolinecolor": "white"
           },
           "zaxis": {
            "backgroundcolor": "#E5ECF6",
            "gridcolor": "white",
            "gridwidth": 2,
            "linecolor": "white",
            "showbackground": true,
            "ticks": "",
            "zerolinecolor": "white"
           }
          },
          "shapedefaults": {
           "line": {
            "color": "#2a3f5f"
           }
          },
          "ternary": {
           "aaxis": {
            "gridcolor": "white",
            "linecolor": "white",
            "ticks": ""
           },
           "baxis": {
            "gridcolor": "white",
            "linecolor": "white",
            "ticks": ""
           },
           "bgcolor": "#E5ECF6",
           "caxis": {
            "gridcolor": "white",
            "linecolor": "white",
            "ticks": ""
           }
          },
          "title": {
           "x": 0.05
          },
          "xaxis": {
           "automargin": true,
           "gridcolor": "white",
           "linecolor": "white",
           "ticks": "",
           "title": {
            "standoff": 15
           },
           "zerolinecolor": "white",
           "zerolinewidth": 2
          },
          "yaxis": {
           "automargin": true,
           "gridcolor": "white",
           "linecolor": "white",
           "ticks": "",
           "title": {
            "standoff": 15
           },
           "zerolinecolor": "white",
           "zerolinewidth": 2
          }
         }
        },
        "title": {
         "text": "Distribuição do MetaScore nos Filmes"
        },
        "xaxis": {
         "anchor": "y",
         "domain": [
          0,
          1
         ],
         "title": {
          "text": "Nota no MetaCritic"
         }
        },
        "xaxis2": {
         "anchor": "y2",
         "domain": [
          0,
          1
         ],
         "matches": "x",
         "showgrid": true,
         "showticklabels": false
        },
        "yaxis": {
         "anchor": "x",
         "domain": [
          0,
          0.8316
         ],
         "title": {
          "text": "Quantidade de Filmes"
         }
        },
        "yaxis2": {
         "anchor": "x2",
         "domain": [
          0.8416,
          1
         ],
         "matches": "y2",
         "showgrid": false,
         "showline": false,
         "showticklabels": false,
         "ticks": ""
        }
       }
      },
      "text/html": [
       "<div>                            <div id=\"49e22346-10b2-4e49-9952-912d54881e0d\" class=\"plotly-graph-div\" style=\"height:525px; width:100%;\"></div>            <script type=\"text/javascript\">                require([\"plotly\"], function(Plotly) {                    window.PLOTLYENV=window.PLOTLYENV || {};                                    if (document.getElementById(\"49e22346-10b2-4e49-9952-912d54881e0d\")) {                    Plotly.newPlot(                        \"49e22346-10b2-4e49-9952-912d54881e0d\",                        [{\"alignmentgroup\":\"True\",\"bingroup\":\"x\",\"hovertemplate\":\"Nota no MetaCritic=%{x}<br>count=%{y}<extra></extra>\",\"legendgroup\":\"\",\"marker\":{\"color\":\"DarkSlateGray\",\"pattern\":{\"shape\":\"\"}},\"name\":\"\",\"offsetgroup\":\"\",\"orientation\":\"v\",\"showlegend\":false,\"x\":[80.0,100.0,84.0,90.0,96.0,94.0,94.0,94.0,74.0,66.0,92.0,82.0,90.0,87.0,73.0,90.0,82.0,83.0,96.0,74.0,79.0,96.0,91.0,61.0,59.0,65.0,85.0,90.0,98.0,59.0,88.0,57.0,66.0,85.0,85.0,67.0,62.0,77.0,64.0,88.0,75.0,80.0,87.0,80.0,97.0,100.0,96.0,99.0,75.0,79.0,79.0,87.0,78.0,68.0,81.0,81.0,78.0,67.0,79.0,95.0,89.0,77.0,80.0,76.0,79.0,85.0,66.0,94.0,89.0,97.0,79.0,100.0,79.0,78.0,79.0,77.0,95.0,80.0,69.0,89.0,69.0,55.0,68.0,84.0,70.0,77.0,95.0,68.0,79.0,76.0,84.0,88.0,65.0,58.0,86.0,94.0,83.0,77.0,84.0,74.0,100.0,94.0,98.0,100.0,99.0,95.0,100.0,79.0,79.0,79.0,79.0,69.0,88.0,79.0,79.0,79.0,79.0,79.0,79.0,79.0,80.0,71.0,63.0,88.0,75.0,68.0,93.0,98.0,92.0,62.0,79.0,79.0,70.0,79.0,82.0,80.0,72.0,66.0,90.0,76.0,73.0,85.0,65.0,79.0,86.0,72.0,96.0,89.0,79.0,91.0,86.0,98.0,75.0,98.0,98.0,79.0,79.0,95.0,79.0,84.0,74.0,79.0,77.0,86.0,77.0,79.0,79.0,88.0,79.0,71.0,94.0,79.0,96.0,74.0,81.0,93.0,85.0,79.0,79.0,70.0,90.0,72.0,85.0,68.0,75.0,73.0,91.0,79.0,86.0,79.0,64.0,90.0,82.0,79.0,69.0,90.0,75.0,83.0,79.0,84.0,64.0,58.0,90.0,73.0,71.0,85.0,83.0,85.0,79.0,77.0,100.0,77.0,68.0,84.0,79.0,79.0,79.0,75.0,92.0,78.0,86.0,57.0,47.0,100.0,84.0,77.0,86.0,70.0,79.0,92.0,77.0,79.0,79.0,92.0,79.0,75.0,79.0,90.0,87.0,91.0,72.0,97.0,86.0,73.0,97.0,87.0,79.0,79.0,79.0,79.0,94.0,69.0,80.0,78.0,79.0,89.0,66.0,65.0,79.0,82.0,71.0,73.0,76.0,81.0,90.0,49.0,76.0,67.0,88.0,62.0,65.0,87.0,79.0,50.0,84.0,79.0,33.0,69.0,90.0,80.0,64.0,64.0,85.0,72.0,74.0,92.0,96.0,80.0,83.0,85.0,74.0,69.0,54.0,75.0,63.0,58.0,90.0,60.0,88.0,77.0,61.0,86.0,79.0,82.0,80.0,85.0,84.0,91.0,74.0,76.0,82.0,72.0,47.0,59.0,86.0,72.0,95.0,72.0,93.0,65.0,79.0,77.0,79.0,88.0,84.0,79.0,83.0,92.0,87.0,86.0,80.0,58.0,81.0,79.0,93.0,67.0,100.0,66.0,79.0,83.0,63.0,69.0,65.0,90.0,95.0,93.0,99.0,84.0,97.0,79.0,93.0,96.0,92.0,91.0,82.0,93.0,94.0,93.0,78.0,82.0,81.0,72.0,79.0,74.0,76.0,58.0,81.0,80.0,94.0,75.0,89.0,71.0,94.0,94.0,90.0,67.0,82.0,81.0,80.0,79.0,100.0,82.0,67.0,89.0,64.0,79.0,83.0,56.0,79.0,76.0,84.0,82.0,85.0,86.0,84.0,61.0,68.0,80.0,84.0,90.0,85.0,88.0,85.0,77.0,59.0,85.0,65.0,74.0,97.0,77.0,79.0,90.0,84.0,92.0,77.0,60.0,83.0,72.0,71.0,84.0,76.0,93.0,91.0,97.0,79.0,75.0,83.0,87.0,79.0,89.0,88.0,100.0,79.0,79.0,79.0,97.0,79.0,90.0,85.0,94.0,74.0,88.0,84.0,79.0,96.0,75.0,65.0,75.0,68.0,91.0,62.0,85.0,76.0,79.0,74.0,55.0,79.0,83.0,84.0,49.0,84.0,76.0,81.0,71.0,82.0,79.0,72.0,79.0,66.0,82.0,76.0,79.0,51.0,55.0,88.0,58.0,85.0,78.0,76.0,83.0,63.0,68.0,80.0,81.0,70.0,67.0,51.0,82.0,68.0,73.0,74.0,72.0,53.0,75.0,82.0,91.0,61.0,83.0,48.0,94.0,87.0,73.0,44.0,84.0,71.0,84.0,75.0,64.0,61.0,76.0,70.0,73.0,50.0,55.0,84.0,87.0,80.0,79.0,68.0,86.0,76.0,75.0,74.0,78.0,57.0,65.0,45.0,72.0,61.0,75.0,62.0,78.0,66.0,76.0,71.0,91.0,73.0,91.0,77.0,69.0,85.0,73.0,80.0,80.0,67.0,79.0,95.0,88.0,75.0,88.0,79.0,66.0,73.0,85.0,86.0,70.0,76.0,72.0,72.0,60.0,69.0,74.0,87.0,89.0,40.0,70.0,79.0,87.0,72.0,70.0,81.0,83.0,96.0,72.0,95.0,65.0,73.0,81.0,81.0,86.0,76.0,65.0,86.0,80.0,81.0,63.0,45.0,78.0,78.0,74.0,78.0,53.0,70.0,78.0,71.0,71.0,87.0,76.0,66.0,78.0,73.0,61.0,73.0,89.0,81.0,47.0,80.0,55.0,83.0,68.0,76.0,28.0,83.0,74.0,72.0,60.0,74.0,85.0,74.0,62.0,69.0,73.0,68.0,69.0,86.0,79.0,90.0,67.0,52.0,73.0,76.0,87.0,47.0,79.0,83.0,81.0,70.0,79.0,66.0,64.0,73.0,76.0,82.0,62.0,64.0,69.0,66.0,83.0,84.0,76.0,62.0,54.0,76.0,75.0,90.0,79.0,77.0,67.0,61.0,86.0,78.0,87.0,71.0,73.0,87.0,83.0,80.0,94.0,90.0,86.0,79.0,72.0,87.0,90.0,74.0,79.0,91.0,96.0,71.0,83.0,86.0,92.0,60.0,70.0,83.0,67.0,86.0,72.0,81.0,80.0,81.0,82.0,82.0,92.0,88.0,77.0,79.0,73.0,68.0,80.0,88.0,80.0,65.0,72.0,72.0,66.0,87.0,70.0,73.0,57.0,53.0,79.0,36.0,82.0,66.0,76.0,72.0,66.0,70.0,68.0,78.0,52.0,72.0,56.0,62.0,46.0,67.0,73.0,45.0,76.0,81.0,70.0,56.0,67.0,68.0,30.0,73.0,76.0,88.0,64.0,74.0,52.0,53.0,80.0,74.0,64.0,77.0,78.0,71.0,41.0,66.0,49.0,52.0,84.0,58.0,62.0,69.0,77.0,88.0,56.0,78.0,68.0,90.0,66.0,63.0,60.0,76.0,88.0,76.0,72.0,68.0,82.0,68.0,77.0,65.0,74.0,76.0,59.0,90.0,87.0,77.0,50.0,65.0,96.0,85.0],\"xaxis\":\"x\",\"yaxis\":\"y\",\"type\":\"histogram\"},{\"alignmentgroup\":\"True\",\"hovertemplate\":\"Nota no MetaCritic=%{x}<extra></extra>\",\"legendgroup\":\"\",\"marker\":{\"color\":\"DarkSlateGray\"},\"name\":\"\",\"notched\":true,\"offsetgroup\":\"\",\"showlegend\":false,\"x\":[80.0,100.0,84.0,90.0,96.0,94.0,94.0,94.0,74.0,66.0,92.0,82.0,90.0,87.0,73.0,90.0,82.0,83.0,96.0,74.0,79.0,96.0,91.0,61.0,59.0,65.0,85.0,90.0,98.0,59.0,88.0,57.0,66.0,85.0,85.0,67.0,62.0,77.0,64.0,88.0,75.0,80.0,87.0,80.0,97.0,100.0,96.0,99.0,75.0,79.0,79.0,87.0,78.0,68.0,81.0,81.0,78.0,67.0,79.0,95.0,89.0,77.0,80.0,76.0,79.0,85.0,66.0,94.0,89.0,97.0,79.0,100.0,79.0,78.0,79.0,77.0,95.0,80.0,69.0,89.0,69.0,55.0,68.0,84.0,70.0,77.0,95.0,68.0,79.0,76.0,84.0,88.0,65.0,58.0,86.0,94.0,83.0,77.0,84.0,74.0,100.0,94.0,98.0,100.0,99.0,95.0,100.0,79.0,79.0,79.0,79.0,69.0,88.0,79.0,79.0,79.0,79.0,79.0,79.0,79.0,80.0,71.0,63.0,88.0,75.0,68.0,93.0,98.0,92.0,62.0,79.0,79.0,70.0,79.0,82.0,80.0,72.0,66.0,90.0,76.0,73.0,85.0,65.0,79.0,86.0,72.0,96.0,89.0,79.0,91.0,86.0,98.0,75.0,98.0,98.0,79.0,79.0,95.0,79.0,84.0,74.0,79.0,77.0,86.0,77.0,79.0,79.0,88.0,79.0,71.0,94.0,79.0,96.0,74.0,81.0,93.0,85.0,79.0,79.0,70.0,90.0,72.0,85.0,68.0,75.0,73.0,91.0,79.0,86.0,79.0,64.0,90.0,82.0,79.0,69.0,90.0,75.0,83.0,79.0,84.0,64.0,58.0,90.0,73.0,71.0,85.0,83.0,85.0,79.0,77.0,100.0,77.0,68.0,84.0,79.0,79.0,79.0,75.0,92.0,78.0,86.0,57.0,47.0,100.0,84.0,77.0,86.0,70.0,79.0,92.0,77.0,79.0,79.0,92.0,79.0,75.0,79.0,90.0,87.0,91.0,72.0,97.0,86.0,73.0,97.0,87.0,79.0,79.0,79.0,79.0,94.0,69.0,80.0,78.0,79.0,89.0,66.0,65.0,79.0,82.0,71.0,73.0,76.0,81.0,90.0,49.0,76.0,67.0,88.0,62.0,65.0,87.0,79.0,50.0,84.0,79.0,33.0,69.0,90.0,80.0,64.0,64.0,85.0,72.0,74.0,92.0,96.0,80.0,83.0,85.0,74.0,69.0,54.0,75.0,63.0,58.0,90.0,60.0,88.0,77.0,61.0,86.0,79.0,82.0,80.0,85.0,84.0,91.0,74.0,76.0,82.0,72.0,47.0,59.0,86.0,72.0,95.0,72.0,93.0,65.0,79.0,77.0,79.0,88.0,84.0,79.0,83.0,92.0,87.0,86.0,80.0,58.0,81.0,79.0,93.0,67.0,100.0,66.0,79.0,83.0,63.0,69.0,65.0,90.0,95.0,93.0,99.0,84.0,97.0,79.0,93.0,96.0,92.0,91.0,82.0,93.0,94.0,93.0,78.0,82.0,81.0,72.0,79.0,74.0,76.0,58.0,81.0,80.0,94.0,75.0,89.0,71.0,94.0,94.0,90.0,67.0,82.0,81.0,80.0,79.0,100.0,82.0,67.0,89.0,64.0,79.0,83.0,56.0,79.0,76.0,84.0,82.0,85.0,86.0,84.0,61.0,68.0,80.0,84.0,90.0,85.0,88.0,85.0,77.0,59.0,85.0,65.0,74.0,97.0,77.0,79.0,90.0,84.0,92.0,77.0,60.0,83.0,72.0,71.0,84.0,76.0,93.0,91.0,97.0,79.0,75.0,83.0,87.0,79.0,89.0,88.0,100.0,79.0,79.0,79.0,97.0,79.0,90.0,85.0,94.0,74.0,88.0,84.0,79.0,96.0,75.0,65.0,75.0,68.0,91.0,62.0,85.0,76.0,79.0,74.0,55.0,79.0,83.0,84.0,49.0,84.0,76.0,81.0,71.0,82.0,79.0,72.0,79.0,66.0,82.0,76.0,79.0,51.0,55.0,88.0,58.0,85.0,78.0,76.0,83.0,63.0,68.0,80.0,81.0,70.0,67.0,51.0,82.0,68.0,73.0,74.0,72.0,53.0,75.0,82.0,91.0,61.0,83.0,48.0,94.0,87.0,73.0,44.0,84.0,71.0,84.0,75.0,64.0,61.0,76.0,70.0,73.0,50.0,55.0,84.0,87.0,80.0,79.0,68.0,86.0,76.0,75.0,74.0,78.0,57.0,65.0,45.0,72.0,61.0,75.0,62.0,78.0,66.0,76.0,71.0,91.0,73.0,91.0,77.0,69.0,85.0,73.0,80.0,80.0,67.0,79.0,95.0,88.0,75.0,88.0,79.0,66.0,73.0,85.0,86.0,70.0,76.0,72.0,72.0,60.0,69.0,74.0,87.0,89.0,40.0,70.0,79.0,87.0,72.0,70.0,81.0,83.0,96.0,72.0,95.0,65.0,73.0,81.0,81.0,86.0,76.0,65.0,86.0,80.0,81.0,63.0,45.0,78.0,78.0,74.0,78.0,53.0,70.0,78.0,71.0,71.0,87.0,76.0,66.0,78.0,73.0,61.0,73.0,89.0,81.0,47.0,80.0,55.0,83.0,68.0,76.0,28.0,83.0,74.0,72.0,60.0,74.0,85.0,74.0,62.0,69.0,73.0,68.0,69.0,86.0,79.0,90.0,67.0,52.0,73.0,76.0,87.0,47.0,79.0,83.0,81.0,70.0,79.0,66.0,64.0,73.0,76.0,82.0,62.0,64.0,69.0,66.0,83.0,84.0,76.0,62.0,54.0,76.0,75.0,90.0,79.0,77.0,67.0,61.0,86.0,78.0,87.0,71.0,73.0,87.0,83.0,80.0,94.0,90.0,86.0,79.0,72.0,87.0,90.0,74.0,79.0,91.0,96.0,71.0,83.0,86.0,92.0,60.0,70.0,83.0,67.0,86.0,72.0,81.0,80.0,81.0,82.0,82.0,92.0,88.0,77.0,79.0,73.0,68.0,80.0,88.0,80.0,65.0,72.0,72.0,66.0,87.0,70.0,73.0,57.0,53.0,79.0,36.0,82.0,66.0,76.0,72.0,66.0,70.0,68.0,78.0,52.0,72.0,56.0,62.0,46.0,67.0,73.0,45.0,76.0,81.0,70.0,56.0,67.0,68.0,30.0,73.0,76.0,88.0,64.0,74.0,52.0,53.0,80.0,74.0,64.0,77.0,78.0,71.0,41.0,66.0,49.0,52.0,84.0,58.0,62.0,69.0,77.0,88.0,56.0,78.0,68.0,90.0,66.0,63.0,60.0,76.0,88.0,76.0,72.0,68.0,82.0,68.0,77.0,65.0,74.0,76.0,59.0,90.0,87.0,77.0,50.0,65.0,96.0,85.0],\"xaxis\":\"x2\",\"yaxis\":\"y2\",\"type\":\"box\"}],                        {\"template\":{\"data\":{\"histogram2dcontour\":[{\"type\":\"histogram2dcontour\",\"colorbar\":{\"outlinewidth\":0,\"ticks\":\"\"},\"colorscale\":[[0.0,\"#0d0887\"],[0.1111111111111111,\"#46039f\"],[0.2222222222222222,\"#7201a8\"],[0.3333333333333333,\"#9c179e\"],[0.4444444444444444,\"#bd3786\"],[0.5555555555555556,\"#d8576b\"],[0.6666666666666666,\"#ed7953\"],[0.7777777777777778,\"#fb9f3a\"],[0.8888888888888888,\"#fdca26\"],[1.0,\"#f0f921\"]]}],\"choropleth\":[{\"type\":\"choropleth\",\"colorbar\":{\"outlinewidth\":0,\"ticks\":\"\"}}],\"histogram2d\":[{\"type\":\"histogram2d\",\"colorbar\":{\"outlinewidth\":0,\"ticks\":\"\"},\"colorscale\":[[0.0,\"#0d0887\"],[0.1111111111111111,\"#46039f\"],[0.2222222222222222,\"#7201a8\"],[0.3333333333333333,\"#9c179e\"],[0.4444444444444444,\"#bd3786\"],[0.5555555555555556,\"#d8576b\"],[0.6666666666666666,\"#ed7953\"],[0.7777777777777778,\"#fb9f3a\"],[0.8888888888888888,\"#fdca26\"],[1.0,\"#f0f921\"]]}],\"heatmap\":[{\"type\":\"heatmap\",\"colorbar\":{\"outlinewidth\":0,\"ticks\":\"\"},\"colorscale\":[[0.0,\"#0d0887\"],[0.1111111111111111,\"#46039f\"],[0.2222222222222222,\"#7201a8\"],[0.3333333333333333,\"#9c179e\"],[0.4444444444444444,\"#bd3786\"],[0.5555555555555556,\"#d8576b\"],[0.6666666666666666,\"#ed7953\"],[0.7777777777777778,\"#fb9f3a\"],[0.8888888888888888,\"#fdca26\"],[1.0,\"#f0f921\"]]}],\"heatmapgl\":[{\"type\":\"heatmapgl\",\"colorbar\":{\"outlinewidth\":0,\"ticks\":\"\"},\"colorscale\":[[0.0,\"#0d0887\"],[0.1111111111111111,\"#46039f\"],[0.2222222222222222,\"#7201a8\"],[0.3333333333333333,\"#9c179e\"],[0.4444444444444444,\"#bd3786\"],[0.5555555555555556,\"#d8576b\"],[0.6666666666666666,\"#ed7953\"],[0.7777777777777778,\"#fb9f3a\"],[0.8888888888888888,\"#fdca26\"],[1.0,\"#f0f921\"]]}],\"contourcarpet\":[{\"type\":\"contourcarpet\",\"colorbar\":{\"outlinewidth\":0,\"ticks\":\"\"}}],\"contour\":[{\"type\":\"contour\",\"colorbar\":{\"outlinewidth\":0,\"ticks\":\"\"},\"colorscale\":[[0.0,\"#0d0887\"],[0.1111111111111111,\"#46039f\"],[0.2222222222222222,\"#7201a8\"],[0.3333333333333333,\"#9c179e\"],[0.4444444444444444,\"#bd3786\"],[0.5555555555555556,\"#d8576b\"],[0.6666666666666666,\"#ed7953\"],[0.7777777777777778,\"#fb9f3a\"],[0.8888888888888888,\"#fdca26\"],[1.0,\"#f0f921\"]]}],\"surface\":[{\"type\":\"surface\",\"colorbar\":{\"outlinewidth\":0,\"ticks\":\"\"},\"colorscale\":[[0.0,\"#0d0887\"],[0.1111111111111111,\"#46039f\"],[0.2222222222222222,\"#7201a8\"],[0.3333333333333333,\"#9c179e\"],[0.4444444444444444,\"#bd3786\"],[0.5555555555555556,\"#d8576b\"],[0.6666666666666666,\"#ed7953\"],[0.7777777777777778,\"#fb9f3a\"],[0.8888888888888888,\"#fdca26\"],[1.0,\"#f0f921\"]]}],\"mesh3d\":[{\"type\":\"mesh3d\",\"colorbar\":{\"outlinewidth\":0,\"ticks\":\"\"}}],\"scatter\":[{\"fillpattern\":{\"fillmode\":\"overlay\",\"size\":10,\"solidity\":0.2},\"type\":\"scatter\"}],\"parcoords\":[{\"type\":\"parcoords\",\"line\":{\"colorbar\":{\"outlinewidth\":0,\"ticks\":\"\"}}}],\"scatterpolargl\":[{\"type\":\"scatterpolargl\",\"marker\":{\"colorbar\":{\"outlinewidth\":0,\"ticks\":\"\"}}}],\"bar\":[{\"error_x\":{\"color\":\"#2a3f5f\"},\"error_y\":{\"color\":\"#2a3f5f\"},\"marker\":{\"line\":{\"color\":\"#E5ECF6\",\"width\":0.5},\"pattern\":{\"fillmode\":\"overlay\",\"size\":10,\"solidity\":0.2}},\"type\":\"bar\"}],\"scattergeo\":[{\"type\":\"scattergeo\",\"marker\":{\"colorbar\":{\"outlinewidth\":0,\"ticks\":\"\"}}}],\"scatterpolar\":[{\"type\":\"scatterpolar\",\"marker\":{\"colorbar\":{\"outlinewidth\":0,\"ticks\":\"\"}}}],\"histogram\":[{\"marker\":{\"pattern\":{\"fillmode\":\"overlay\",\"size\":10,\"solidity\":0.2}},\"type\":\"histogram\"}],\"scattergl\":[{\"type\":\"scattergl\",\"marker\":{\"colorbar\":{\"outlinewidth\":0,\"ticks\":\"\"}}}],\"scatter3d\":[{\"type\":\"scatter3d\",\"line\":{\"colorbar\":{\"outlinewidth\":0,\"ticks\":\"\"}},\"marker\":{\"colorbar\":{\"outlinewidth\":0,\"ticks\":\"\"}}}],\"scattermapbox\":[{\"type\":\"scattermapbox\",\"marker\":{\"colorbar\":{\"outlinewidth\":0,\"ticks\":\"\"}}}],\"scatterternary\":[{\"type\":\"scatterternary\",\"marker\":{\"colorbar\":{\"outlinewidth\":0,\"ticks\":\"\"}}}],\"scattercarpet\":[{\"type\":\"scattercarpet\",\"marker\":{\"colorbar\":{\"outlinewidth\":0,\"ticks\":\"\"}}}],\"carpet\":[{\"aaxis\":{\"endlinecolor\":\"#2a3f5f\",\"gridcolor\":\"white\",\"linecolor\":\"white\",\"minorgridcolor\":\"white\",\"startlinecolor\":\"#2a3f5f\"},\"baxis\":{\"endlinecolor\":\"#2a3f5f\",\"gridcolor\":\"white\",\"linecolor\":\"white\",\"minorgridcolor\":\"white\",\"startlinecolor\":\"#2a3f5f\"},\"type\":\"carpet\"}],\"table\":[{\"cells\":{\"fill\":{\"color\":\"#EBF0F8\"},\"line\":{\"color\":\"white\"}},\"header\":{\"fill\":{\"color\":\"#C8D4E3\"},\"line\":{\"color\":\"white\"}},\"type\":\"table\"}],\"barpolar\":[{\"marker\":{\"line\":{\"color\":\"#E5ECF6\",\"width\":0.5},\"pattern\":{\"fillmode\":\"overlay\",\"size\":10,\"solidity\":0.2}},\"type\":\"barpolar\"}],\"pie\":[{\"automargin\":true,\"type\":\"pie\"}]},\"layout\":{\"autotypenumbers\":\"strict\",\"colorway\":[\"#636efa\",\"#EF553B\",\"#00cc96\",\"#ab63fa\",\"#FFA15A\",\"#19d3f3\",\"#FF6692\",\"#B6E880\",\"#FF97FF\",\"#FECB52\"],\"font\":{\"color\":\"#2a3f5f\"},\"hovermode\":\"closest\",\"hoverlabel\":{\"align\":\"left\"},\"paper_bgcolor\":\"white\",\"plot_bgcolor\":\"#E5ECF6\",\"polar\":{\"bgcolor\":\"#E5ECF6\",\"angularaxis\":{\"gridcolor\":\"white\",\"linecolor\":\"white\",\"ticks\":\"\"},\"radialaxis\":{\"gridcolor\":\"white\",\"linecolor\":\"white\",\"ticks\":\"\"}},\"ternary\":{\"bgcolor\":\"#E5ECF6\",\"aaxis\":{\"gridcolor\":\"white\",\"linecolor\":\"white\",\"ticks\":\"\"},\"baxis\":{\"gridcolor\":\"white\",\"linecolor\":\"white\",\"ticks\":\"\"},\"caxis\":{\"gridcolor\":\"white\",\"linecolor\":\"white\",\"ticks\":\"\"}},\"coloraxis\":{\"colorbar\":{\"outlinewidth\":0,\"ticks\":\"\"}},\"colorscale\":{\"sequential\":[[0.0,\"#0d0887\"],[0.1111111111111111,\"#46039f\"],[0.2222222222222222,\"#7201a8\"],[0.3333333333333333,\"#9c179e\"],[0.4444444444444444,\"#bd3786\"],[0.5555555555555556,\"#d8576b\"],[0.6666666666666666,\"#ed7953\"],[0.7777777777777778,\"#fb9f3a\"],[0.8888888888888888,\"#fdca26\"],[1.0,\"#f0f921\"]],\"sequentialminus\":[[0.0,\"#0d0887\"],[0.1111111111111111,\"#46039f\"],[0.2222222222222222,\"#7201a8\"],[0.3333333333333333,\"#9c179e\"],[0.4444444444444444,\"#bd3786\"],[0.5555555555555556,\"#d8576b\"],[0.6666666666666666,\"#ed7953\"],[0.7777777777777778,\"#fb9f3a\"],[0.8888888888888888,\"#fdca26\"],[1.0,\"#f0f921\"]],\"diverging\":[[0,\"#8e0152\"],[0.1,\"#c51b7d\"],[0.2,\"#de77ae\"],[0.3,\"#f1b6da\"],[0.4,\"#fde0ef\"],[0.5,\"#f7f7f7\"],[0.6,\"#e6f5d0\"],[0.7,\"#b8e186\"],[0.8,\"#7fbc41\"],[0.9,\"#4d9221\"],[1,\"#276419\"]]},\"xaxis\":{\"gridcolor\":\"white\",\"linecolor\":\"white\",\"ticks\":\"\",\"title\":{\"standoff\":15},\"zerolinecolor\":\"white\",\"automargin\":true,\"zerolinewidth\":2},\"yaxis\":{\"gridcolor\":\"white\",\"linecolor\":\"white\",\"ticks\":\"\",\"title\":{\"standoff\":15},\"zerolinecolor\":\"white\",\"automargin\":true,\"zerolinewidth\":2},\"scene\":{\"xaxis\":{\"backgroundcolor\":\"#E5ECF6\",\"gridcolor\":\"white\",\"linecolor\":\"white\",\"showbackground\":true,\"ticks\":\"\",\"zerolinecolor\":\"white\",\"gridwidth\":2},\"yaxis\":{\"backgroundcolor\":\"#E5ECF6\",\"gridcolor\":\"white\",\"linecolor\":\"white\",\"showbackground\":true,\"ticks\":\"\",\"zerolinecolor\":\"white\",\"gridwidth\":2},\"zaxis\":{\"backgroundcolor\":\"#E5ECF6\",\"gridcolor\":\"white\",\"linecolor\":\"white\",\"showbackground\":true,\"ticks\":\"\",\"zerolinecolor\":\"white\",\"gridwidth\":2}},\"shapedefaults\":{\"line\":{\"color\":\"#2a3f5f\"}},\"annotationdefaults\":{\"arrowcolor\":\"#2a3f5f\",\"arrowhead\":0,\"arrowwidth\":1},\"geo\":{\"bgcolor\":\"white\",\"landcolor\":\"#E5ECF6\",\"subunitcolor\":\"white\",\"showland\":true,\"showlakes\":true,\"lakecolor\":\"white\"},\"title\":{\"x\":0.05},\"mapbox\":{\"style\":\"light\"}}},\"xaxis\":{\"anchor\":\"y\",\"domain\":[0.0,1.0],\"title\":{\"text\":\"Nota no MetaCritic\"}},\"yaxis\":{\"anchor\":\"x\",\"domain\":[0.0,0.8316],\"title\":{\"text\":\"Quantidade de Filmes\"}},\"xaxis2\":{\"anchor\":\"y2\",\"domain\":[0.0,1.0],\"matches\":\"x\",\"showticklabels\":false,\"showgrid\":true},\"yaxis2\":{\"anchor\":\"x2\",\"domain\":[0.8416,1.0],\"matches\":\"y2\",\"showticklabels\":false,\"showline\":false,\"ticks\":\"\",\"showgrid\":false},\"legend\":{\"tracegroupgap\":0},\"title\":{\"text\":\"Distribui\\u00e7\\u00e3o do MetaScore nos Filmes\"},\"barmode\":\"relative\"},                        {\"responsive\": true}                    ).then(function(){\n",
       "                            \n",
       "var gd = document.getElementById('49e22346-10b2-4e49-9952-912d54881e0d');\n",
       "var x = new MutationObserver(function (mutations, observer) {{\n",
       "        var display = window.getComputedStyle(gd).display;\n",
       "        if (!display || display === 'none') {{\n",
       "            console.log([gd, 'removed!']);\n",
       "            Plotly.purge(gd);\n",
       "            observer.disconnect();\n",
       "        }}\n",
       "}});\n",
       "\n",
       "// Listen for the removal of the full notebook cells\n",
       "var notebookContainer = gd.closest('#notebook-container');\n",
       "if (notebookContainer) {{\n",
       "    x.observe(notebookContainer, {childList: true});\n",
       "}}\n",
       "\n",
       "// Listen for the clearing of the current output cell\n",
       "var outputEl = gd.closest('.output');\n",
       "if (outputEl) {{\n",
       "    x.observe(outputEl, {childList: true});\n",
       "}}\n",
       "\n",
       "                        })                };                });            </script>        </div>"
      ]
     },
     "metadata": {},
     "output_type": "display_data"
    }
   ],
   "source": [
    "# Distribuição do MetaCritic Score\n",
    "metacritic_hist = px.histogram(\n",
    "    x=df.Meta_score, \n",
    "    title=\"Distribuição do MetaScore nos Filmes\",\n",
    "    marginal=\"box\",\n",
    "    labels={\"x\": \"Nota no MetaCritic\"}\n",
    "    ).update_traces(marker_color=\"DarkSlateGray\").update_layout(yaxis_title=\"Quantidade de Filmes\")\n",
    "metacritic_hist.show()"
   ]
  },
  {
   "cell_type": "markdown",
   "metadata": {},
   "source": [
    "**Distribuição da Diferença entre MetaScore e IMDB_Rating**: Para analisar essa diferença dentre os filmes, aplicaremos um **Histograma** junto de um **Boxplot**, pois ambos os gráficos auxiliam no entendimento da distribuição em variáveis númericas.\n",
    "\n",
    "Analisando os gráficos, visualiza-se que a maior parte dos filmes observados a diferença é positiva. Como o cálculo foi MetaScore - IMDB_Rating, isso fornece evidências de que o IMDB_Rating é mais rigoroso nas críticas que o MetaScore. Ou seja, o MetaCritic tende a avaliar os filmes melhor do que o IMDB.\n"
   ]
  },
  {
   "cell_type": "code",
   "execution_count": 58,
   "metadata": {},
   "outputs": [
    {
     "data": {
      "application/vnd.plotly.v1+json": {
       "config": {
        "plotlyServerURL": "https://plot.ly"
       },
       "data": [
        {
         "alignmentgroup": "True",
         "bingroup": "x",
         "hovertemplate": "Diferença=%{x}<br>count=%{y}<extra></extra>",
         "legendgroup": "",
         "marker": {
          "color": "Blue",
          "pattern": {
           "shape": ""
          }
         },
         "name": "",
         "offsetgroup": "",
         "orientation": "v",
         "showlegend": false,
         "type": "histogram",
         "x": [
          -0.2777777777777777,
          0.058823529411765385,
          -0.04575163398692794,
          0.03758169934640554,
          0.1209150326797388,
          0.15196078431372562,
          0.15196078431372562,
          0.15196078431372562,
          -0.06699346405228779,
          -0.17810457516339884,
          0.1830065359477122,
          0.04411764705882337,
          0.15522875816993453,
          0.17238562091503318,
          -0.022058823529411242,
          0.21405228758169992,
          0.10294117647058876,
          0.1168300653594776,
          0.3562091503267977,
          0.050653594771242094,
          0.12009803921568651,
          0.3562091503267977,
          0.28676470588235325,
          -0.12990196078431338,
          -0.15767973856209117,
          -0.0743464052287579,
          0.20343137254902,
          0.2728758169934644,
          0.38398692810457535,
          -0.09885620915032667,
          0.303921568627451,
          -0.12663398692810446,
          -0.0016339869281044583,
          0.2622549019607845,
          0.2622549019607845,
          0.012254901960784381,
          -0.05718954248366004,
          0.15114379084967333,
          -0.02941176470588225,
          0.303921568627451,
          0.12336601307189543,
          0.19281045751634007,
          0.29003267973856217,
          0.19281045751634007,
          0.428921568627451,
          0.47058823529411775,
          0.41503267973856217,
          0.4566993464052289,
          0.18218954248365993,
          0.2377450980392155,
          0.2377450980392155,
          0.34885620915032667,
          0.22385620915032667,
          0.08496732026143783,
          0.2655228758169934,
          0.2655228758169934,
          0.22385620915032667,
          0.07107843137254888,
          0.2377450980392155,
          0.45996732026143783,
          0.37663398692810435,
          0.20996732026143783,
          0.25163398692810457,
          0.196078431372549,
          0.2377450980392155,
          0.321078431372549,
          0.05718954248366004,
          0.446078431372549,
          0.37663398692810435,
          0.4877450980392155,
          0.2377450980392155,
          0.5294117647058822,
          0.2377450980392155,
          0.28267973856209117,
          0.29656862745098,
          0.2687908496732023,
          0.5187908496732023,
          0.31045751633986907,
          0.15767973856209117,
          0.43545751633986884,
          0.15767973856209117,
          -0.036764705882353255,
          0.14379084967320233,
          0.3660130718954244,
          0.17156862745098012,
          0.2687908496732023,
          0.5187908496732023,
          0.14379084967320233,
          0.29656862745098,
          0.2549019607843135,
          0.3660130718954244,
          0.42156862745098,
          0.10212418300653558,
          0.004901960784313375,
          0.3937908496732023,
          0.5049019607843135,
          0.3521241830065356,
          0.2687908496732023,
          0.3660130718954244,
          0.22712418300653558,
          0.5882352941176467,
          0.5049019607843135,
          0.5604575163398688,
          0.5882352941176467,
          0.5743464052287579,
          0.5187908496732023,
          0.5882352941176467,
          0.29656862745098,
          0.29656862745098,
          0.3553921568627454,
          0.3553921568627454,
          0.21650326797385655,
          0.4803921568627454,
          0.3553921568627454,
          0.3553921568627454,
          0.3553921568627454,
          0.3553921568627454,
          0.3553921568627454,
          0.3553921568627454,
          0.3553921568627454,
          0.36928104575163445,
          0.24428104575163434,
          0.1331699346405233,
          0.4803921568627454,
          0.2998366013071898,
          0.2026143790849677,
          0.5498366013071898,
          0.6192810457516342,
          0.535947712418301,
          0.11928104575163434,
          0.3553921568627454,
          0.3553921568627454,
          0.2303921568627455,
          0.3553921568627454,
          0.39705882352941213,
          0.36928104575163445,
          0.2581699346405233,
          0.17483660130718992,
          0.5081699346405233,
          0.31372549019607887,
          0.27205882352941213,
          0.43872549019607887,
          0.16094771241830097,
          0.3553921568627454,
          0.4526143790849677,
          0.2581699346405233,
          0.5915032679738566,
          0.49428104575163423,
          0.3553921568627454,
          0.5220588235294121,
          0.4526143790849677,
          0.6192810457516342,
          0.2998366013071898,
          0.6192810457516342,
          0.6192810457516342,
          0.3553921568627454,
          0.3553921568627454,
          0.6364379084967322,
          0.4142156862745099,
          0.4836601307189543,
          0.34477124183006547,
          0.4142156862745099,
          0.3864379084967322,
          0.5114379084967322,
          0.3864379084967322,
          0.4142156862745099,
          0.4142156862745099,
          0.5392156862745099,
          0.4142156862745099,
          0.30310457516339884,
          0.6225490196078434,
          0.4142156862745099,
          0.650326797385621,
          0.34477124183006547,
          0.4419934640522878,
          0.6086601307189543,
          0.49754901960784337,
          0.4142156862745099,
          0.4142156862745099,
          0.28921568627451,
          0.5669934640522878,
          0.3169934640522878,
          0.49754901960784337,
          0.2614379084967322,
          0.3586601307189543,
          0.3308823529411766,
          0.5808823529411766,
          0.4142156862745099,
          0.5114379084967322,
          0.4142156862745099,
          0.20588235294117663,
          0.5669934640522878,
          0.4558823529411766,
          0.4142156862745099,
          0.27532679738562105,
          0.5669934640522878,
          0.3586601307189543,
          0.46977124183006547,
          0.4142156862745099,
          0.4836601307189543,
          0.20588235294117663,
          0.12254901960784326,
          0.5669934640522878,
          0.3308823529411766,
          0.30310457516339884,
          0.49754901960784337,
          0.46977124183006547,
          0.49754901960784337,
          0.4142156862745099,
          0.3864379084967322,
          0.7058823529411766,
          0.3864379084967322,
          0.2614379084967322,
          0.4836601307189543,
          0.4142156862745099,
          0.4142156862745099,
          0.4142156862745099,
          0.3586601307189543,
          0.5947712418300655,
          0.40032679738562105,
          0.5114379084967322,
          0.10866013071895442,
          -0.030228758169934422,
          0.7058823529411766,
          0.4836601307189543,
          0.3864379084967322,
          0.5114379084967322,
          0.28921568627451,
          0.4142156862745099,
          0.5947712418300655,
          0.3864379084967322,
          0.4142156862745099,
          0.4142156862745099,
          0.5947712418300655,
          0.4142156862745099,
          0.3586601307189543,
          0.4142156862745099,
          0.5669934640522878,
          0.525326797385621,
          0.5808823529411766,
          0.3169934640522878,
          0.6642156862745099,
          0.5114379084967322,
          0.3308823529411766,
          0.6642156862745099,
          0.525326797385621,
          0.4142156862745099,
          0.4142156862745099,
          0.4142156862745099,
          0.4730392156862744,
          0.6813725490196079,
          0.33415032679738554,
          0.48692810457516345,
          0.45915032679738554,
          0.4730392156862744,
          0.6119281045751632,
          0.2924836601307189,
          0.27859477124182996,
          0.4730392156862744,
          0.5147058823529411,
          0.36192810457516333,
          0.3897058823529411,
          0.43137254901960786,
          0.5008169934640523,
          0.6258169934640523,
          0.056372549019607754,
          0.43137254901960786,
          0.30637254901960775,
          0.5980392156862744,
          0.23692810457516333,
          0.27859477124182996,
          0.5841503267973855,
          0.4730392156862744,
          0.0702614379084967,
          0.5424836601307188,
          0.4730392156862744,
          -0.1658496732026144,
          0.33415032679738554,
          0.6258169934640523,
          0.48692810457516345,
          0.2647058823529411,
          0.2647058823529411,
          0.5563725490196079,
          0.3758169934640523,
          0.40359477124182996,
          0.65359477124183,
          0.7091503267973855,
          0.48692810457516345,
          0.52859477124183,
          0.5563725490196079,
          0.40359477124182996,
          0.33415032679738554,
          0.12581699346405228,
          0.4174836601307188,
          0.2508169934640523,
          0.18137254901960775,
          0.6258169934640523,
          0.20915032679738554,
          0.5980392156862744,
          0.4452614379084967,
          0.2230392156862745,
          0.5702614379084967,
          0.4730392156862744,
          0.5147058823529411,
          0.48692810457516345,
          0.5563725490196079,
          0.5424836601307188,
          0.6397058823529411,
          0.40359477124182996,
          0.43137254901960786,
          0.5147058823529411,
          0.3758169934640523,
          0.028594771241830075,
          0.1952614379084967,
          0.5702614379084967,
          0.3758169934640523,
          0.6952614379084967,
          0.3758169934640523,
          0.6674836601307188,
          0.27859477124182996,
          0.4730392156862744,
          0.4452614379084967,
          0.4730392156862744,
          0.5980392156862744,
          0.5424836601307188,
          0.4730392156862744,
          0.52859477124183,
          0.65359477124183,
          0.5841503267973855,
          0.5702614379084967,
          0.48692810457516345,
          0.18137254901960775,
          0.5008169934640523,
          0.4730392156862744,
          0.6674836601307188,
          0.30637254901960775,
          0.7647058823529411,
          0.2924836601307189,
          0.4730392156862744,
          0.52859477124183,
          0.2508169934640523,
          0.33415032679738554,
          0.27859477124182996,
          0.6258169934640523,
          0.6952614379084967,
          0.6674836601307188,
          0.7508169934640523,
          0.5424836601307188,
          0.7230392156862744,
          0.4730392156862744,
          0.6674836601307188,
          0.7091503267973855,
          0.65359477124183,
          0.6397058823529411,
          0.5735294117647056,
          0.7263071895424833,
          0.7401960784313724,
          0.7263071895424833,
          0.51797385620915,
          0.5735294117647056,
          0.5596405228758168,
          0.4346405228758168,
          0.5318627450980389,
          0.46241830065359446,
          0.49019607843137236,
          0.24019607843137225,
          0.5596405228758168,
          0.5457516339869279,
          0.7401960784313724,
          0.4763071895424833,
          0.6707516339869277,
          0.42075163398692783,
          0.7401960784313724,
          0.7401960784313724,
          0.6846405228758168,
          0.36519607843137225,
          0.5735294117647056,
          0.5596405228758168,
          0.5457516339869279,
          0.5318627450980389,
          0.8235294117647056,
          0.5735294117647056,
          0.36519607843137225,
          0.6707516339869277,
          0.3235294117647056,
          0.5318627450980389,
          0.5874183006535945,
          0.21241830065359446,
          0.5318627450980389,
          0.49019607843137236,
          0.6013071895424833,
          0.5735294117647056,
          0.6151960784313724,
          0.6290849673202612,
          0.6013071895424833,
          0.281862745098039,
          0.3790849673202612,
          0.5457516339869279,
          0.6013071895424833,
          0.6846405228758168,
          0.6151960784313724,
          0.6568627450980389,
          0.6151960784313724,
          0.5040849673202612,
          0.2540849673202612,
          0.6151960784313724,
          0.33741830065359446,
          0.46241830065359446,
          0.7818627450980389,
          0.5040849673202612,
          0.5318627450980389,
          0.6846405228758168,
          0.6013071895424833,
          0.7124183006535945,
          0.5040849673202612,
          0.26797385620915004,
          0.5874183006535945,
          0.4346405228758168,
          0.42075163398692783,
          0.6013071895424833,
          0.49019607843137236,
          0.7263071895424833,
          0.6985294117647056,
          0.7818627450980389,
          0.5318627450980389,
          0.4763071895424833,
          0.5874183006535945,
          0.64297385620915,
          0.5318627450980389,
          0.6707516339869277,
          0.6568627450980389,
          0.8235294117647056,
          0.5318627450980389,
          0.5318627450980389,
          0.5318627450980389,
          0.7818627450980389,
          0.5318627450980389,
          0.6846405228758168,
          0.6740196078431377,
          0.7990196078431377,
          0.5212418300653598,
          0.7156862745098043,
          0.6601307189542487,
          0.5906862745098043,
          0.8267973856209154,
          0.5351307189542487,
          0.39624183006535985,
          0.5351307189542487,
          0.4379084967320266,
          0.757352941176471,
          0.3545751633986932,
          0.6740196078431377,
          0.5490196078431377,
          0.5906862745098043,
          0.5212418300653598,
          0.257352941176471,
          0.5906862745098043,
          0.6462418300653598,
          0.6601307189542487,
          0.17401960784313764,
          0.6601307189542487,
          0.5490196078431377,
          0.6184640522875822,
          0.4795751633986932,
          0.632352941176471,
          0.5906862745098043,
          0.49346405228758217,
          0.5906862745098043,
          0.4101307189542488,
          0.632352941176471,
          0.5490196078431377,
          0.5906862745098043,
          0.20179738562091543,
          0.257352941176471,
          0.7156862745098043,
          0.29901960784313764,
          0.6740196078431377,
          0.5767973856209154,
          0.5490196078431377,
          0.6462418300653598,
          0.36846405228758217,
          0.4379084967320266,
          0.6045751633986933,
          0.6184640522875822,
          0.4656862745098044,
          0.42401960784313764,
          0.20179738562091543,
          0.632352941176471,
          0.4379084967320266,
          0.507352941176471,
          0.5212418300653598,
          0.49346405228758217,
          0.22957516339869322,
          0.5351307189542487,
          0.632352941176471,
          0.757352941176471,
          0.3406862745098044,
          0.6462418300653598,
          0.1601307189542488,
          0.7990196078431377,
          0.7017973856209154,
          0.507352941176471,
          0.10457516339869322,
          0.6601307189542487,
          0.4795751633986932,
          0.6601307189542487,
          0.5351307189542487,
          0.382352941176471,
          0.3406862745098044,
          0.5490196078431377,
          0.4656862745098044,
          0.507352941176471,
          0.1879084967320266,
          0.257352941176471,
          0.6601307189542487,
          0.7017973856209154,
          0.6045751633986933,
          0.5906862745098043,
          0.4379084967320266,
          0.6879084967320266,
          0.5490196078431377,
          0.5351307189542487,
          0.5212418300653598,
          0.5767973856209154,
          0.2851307189542488,
          0.39624183006535985,
          0.11846405228758217,
          0.49346405228758217,
          0.3406862745098044,
          0.5351307189542487,
          0.3545751633986932,
          0.5767973856209154,
          0.4101307189542488,
          0.5490196078431377,
          0.4795751633986932,
          0.757352941176471,
          0.507352941176471,
          0.757352941176471,
          0.5629084967320266,
          0.4517973856209154,
          0.6740196078431377,
          0.507352941176471,
          0.6045751633986933,
          0.6045751633986933,
          0.42401960784313764,
          0.5906862745098043,
          0.8129084967320266,
          0.7156862745098043,
          0.5351307189542487,
          0.7156862745098043,
          0.5906862745098043,
          0.4689542483660124,
          0.5661764705882346,
          0.7328431372549014,
          0.7467320261437902,
          0.524509803921568,
          0.6078431372549014,
          0.5522875816993458,
          0.5522875816993458,
          0.38562091503267903,
          0.510620915032679,
          0.5800653594771235,
          0.760620915032679,
          0.7883986928104567,
          0.10784313725490136,
          0.524509803921568,
          0.6495098039215679,
          0.760620915032679,
          0.5522875816993458,
          0.524509803921568,
          0.6772875816993458,
          0.7050653594771235,
          0.885620915032679,
          0.5522875816993458,
          0.8717320261437902,
          0.45506535947712345,
          0.5661764705882346,
          0.6772875816993458,
          0.6772875816993458,
          0.7467320261437902,
          0.6078431372549014,
          0.45506535947712345,
          0.7467320261437902,
          0.6633986928104569,
          0.6772875816993458,
          0.4272875816993458,
          0.17728758169934578,
          0.635620915032679,
          0.635620915032679,
          0.5800653594771235,
          0.635620915032679,
          0.2883986928104568,
          0.524509803921568,
          0.635620915032679,
          0.5383986928104568,
          0.5383986928104568,
          0.760620915032679,
          0.6078431372549014,
          0.4689542483660124,
          0.635620915032679,
          0.5661764705882346,
          0.399509803921568,
          0.5661764705882346,
          0.7883986928104567,
          0.6772875816993458,
          0.20506535947712357,
          0.6633986928104569,
          0.3161764705882346,
          0.7050653594771235,
          0.4967320261437902,
          0.6078431372549014,
          -0.058823529411765385,
          0.7050653594771235,
          0.5800653594771235,
          0.5522875816993458,
          0.38562091503267903,
          0.5800653594771235,
          0.7328431372549014,
          0.5800653594771235,
          0.4133986928104568,
          0.510620915032679,
          0.5661764705882346,
          0.4967320261437902,
          0.510620915032679,
          0.7467320261437902,
          0.6495098039215679,
          0.8022875816993458,
          0.48284313725490124,
          0.274509803921568,
          0.5661764705882346,
          0.6078431372549014,
          0.760620915032679,
          0.20506535947712357,
          0.6495098039215679,
          0.7050653594771235,
          0.6772875816993458,
          0.524509803921568,
          0.6495098039215679,
          0.4689542483660124,
          0.4411764705882346,
          0.5661764705882346,
          0.6078431372549014,
          0.6911764705882346,
          0.4133986928104568,
          0.4411764705882346,
          0.510620915032679,
          0.4689542483660124,
          0.7050653594771235,
          0.7189542483660123,
          0.6078431372549014,
          0.4133986928104568,
          0.3022875816993458,
          0.6078431372549014,
          0.5939542483660123,
          0.8022875816993458,
          0.6495098039215679,
          0.6217320261437902,
          0.48284313725490124,
          0.399509803921568,
          0.7467320261437902,
          0.635620915032679,
          0.760620915032679,
          0.5383986928104568,
          0.5661764705882346,
          0.760620915032679,
          0.7050653594771235,
          0.6633986928104569,
          0.8578431372549014,
          0.8022875816993458,
          0.7467320261437902,
          0.6495098039215679,
          0.5522875816993458,
          0.760620915032679,
          0.8022875816993458,
          0.5800653594771235,
          0.6495098039215679,
          0.8161764705882346,
          0.885620915032679,
          0.5972222222222222,
          0.7638888888888888,
          0.8055555555555556,
          0.8888888888888888,
          0.4444444444444444,
          0.5833333333333334,
          0.7638888888888888,
          0.5416666666666666,
          0.8055555555555556,
          0.6111111111111112,
          0.7361111111111112,
          0.7222222222222223,
          0.7361111111111112,
          0.75,
          0.75,
          0.8888888888888888,
          0.8333333333333333,
          0.6805555555555556,
          0.7083333333333333,
          0.625,
          0.5555555555555556,
          0.7222222222222223,
          0.8333333333333333,
          0.7222222222222223,
          0.5138888888888888,
          0.6111111111111112,
          0.6111111111111112,
          0.5277777777777778,
          0.8194444444444444,
          0.5833333333333334,
          0.625,
          0.4027777777777778,
          0.3472222222222222,
          0.7083333333333333,
          0.11111111111111116,
          0.75,
          0.5277777777777778,
          0.6666666666666667,
          0.6111111111111112,
          0.5277777777777778,
          0.5833333333333334,
          0.5555555555555556,
          0.6944444444444444,
          0.33333333333333337,
          0.6111111111111112,
          0.38888888888888884,
          0.4722222222222222,
          0.25,
          0.5416666666666666,
          0.625,
          0.23611111111111116,
          0.6666666666666667,
          0.7361111111111112,
          0.5833333333333334,
          0.38888888888888884,
          0.5416666666666666,
          0.5555555555555556,
          0.02777777777777779,
          0.625,
          0.6666666666666667,
          0.8333333333333333,
          0.5,
          0.6388888888888888,
          0.33333333333333337,
          0.3472222222222222,
          0.7222222222222223,
          0.6388888888888888,
          0.5,
          0.6805555555555556,
          0.6944444444444444,
          0.5972222222222222,
          0.18055555555555558,
          0.5277777777777778,
          0.29166666666666663,
          0.33333333333333337,
          0.7777777777777777,
          0.41666666666666663,
          0.4722222222222222,
          0.5694444444444444,
          0.6805555555555556,
          0.8333333333333333,
          0.38888888888888884,
          0.6944444444444444,
          0.5555555555555556,
          0.8611111111111112,
          0.5277777777777778,
          0.48611111111111116,
          0.4444444444444444,
          0.6666666666666667,
          0.8333333333333333,
          0.6666666666666667,
          0.6111111111111112,
          0.5555555555555556,
          0.75,
          0.5555555555555556,
          0.6805555555555556,
          0.5138888888888888,
          0.6388888888888888,
          0.6666666666666667,
          0.4305555555555556,
          0.8611111111111112,
          0.8194444444444444,
          0.6805555555555556,
          0.3055555555555556,
          0.5138888888888888,
          0.9444444444444444,
          0.7916666666666667
         ],
         "xaxis": "x",
         "yaxis": "y"
        },
        {
         "alignmentgroup": "True",
         "hovertemplate": "Diferença=%{x}<extra></extra>",
         "legendgroup": "",
         "marker": {
          "color": "Blue"
         },
         "name": "",
         "notched": true,
         "offsetgroup": "",
         "showlegend": false,
         "type": "box",
         "x": [
          -0.2777777777777777,
          0.058823529411765385,
          -0.04575163398692794,
          0.03758169934640554,
          0.1209150326797388,
          0.15196078431372562,
          0.15196078431372562,
          0.15196078431372562,
          -0.06699346405228779,
          -0.17810457516339884,
          0.1830065359477122,
          0.04411764705882337,
          0.15522875816993453,
          0.17238562091503318,
          -0.022058823529411242,
          0.21405228758169992,
          0.10294117647058876,
          0.1168300653594776,
          0.3562091503267977,
          0.050653594771242094,
          0.12009803921568651,
          0.3562091503267977,
          0.28676470588235325,
          -0.12990196078431338,
          -0.15767973856209117,
          -0.0743464052287579,
          0.20343137254902,
          0.2728758169934644,
          0.38398692810457535,
          -0.09885620915032667,
          0.303921568627451,
          -0.12663398692810446,
          -0.0016339869281044583,
          0.2622549019607845,
          0.2622549019607845,
          0.012254901960784381,
          -0.05718954248366004,
          0.15114379084967333,
          -0.02941176470588225,
          0.303921568627451,
          0.12336601307189543,
          0.19281045751634007,
          0.29003267973856217,
          0.19281045751634007,
          0.428921568627451,
          0.47058823529411775,
          0.41503267973856217,
          0.4566993464052289,
          0.18218954248365993,
          0.2377450980392155,
          0.2377450980392155,
          0.34885620915032667,
          0.22385620915032667,
          0.08496732026143783,
          0.2655228758169934,
          0.2655228758169934,
          0.22385620915032667,
          0.07107843137254888,
          0.2377450980392155,
          0.45996732026143783,
          0.37663398692810435,
          0.20996732026143783,
          0.25163398692810457,
          0.196078431372549,
          0.2377450980392155,
          0.321078431372549,
          0.05718954248366004,
          0.446078431372549,
          0.37663398692810435,
          0.4877450980392155,
          0.2377450980392155,
          0.5294117647058822,
          0.2377450980392155,
          0.28267973856209117,
          0.29656862745098,
          0.2687908496732023,
          0.5187908496732023,
          0.31045751633986907,
          0.15767973856209117,
          0.43545751633986884,
          0.15767973856209117,
          -0.036764705882353255,
          0.14379084967320233,
          0.3660130718954244,
          0.17156862745098012,
          0.2687908496732023,
          0.5187908496732023,
          0.14379084967320233,
          0.29656862745098,
          0.2549019607843135,
          0.3660130718954244,
          0.42156862745098,
          0.10212418300653558,
          0.004901960784313375,
          0.3937908496732023,
          0.5049019607843135,
          0.3521241830065356,
          0.2687908496732023,
          0.3660130718954244,
          0.22712418300653558,
          0.5882352941176467,
          0.5049019607843135,
          0.5604575163398688,
          0.5882352941176467,
          0.5743464052287579,
          0.5187908496732023,
          0.5882352941176467,
          0.29656862745098,
          0.29656862745098,
          0.3553921568627454,
          0.3553921568627454,
          0.21650326797385655,
          0.4803921568627454,
          0.3553921568627454,
          0.3553921568627454,
          0.3553921568627454,
          0.3553921568627454,
          0.3553921568627454,
          0.3553921568627454,
          0.3553921568627454,
          0.36928104575163445,
          0.24428104575163434,
          0.1331699346405233,
          0.4803921568627454,
          0.2998366013071898,
          0.2026143790849677,
          0.5498366013071898,
          0.6192810457516342,
          0.535947712418301,
          0.11928104575163434,
          0.3553921568627454,
          0.3553921568627454,
          0.2303921568627455,
          0.3553921568627454,
          0.39705882352941213,
          0.36928104575163445,
          0.2581699346405233,
          0.17483660130718992,
          0.5081699346405233,
          0.31372549019607887,
          0.27205882352941213,
          0.43872549019607887,
          0.16094771241830097,
          0.3553921568627454,
          0.4526143790849677,
          0.2581699346405233,
          0.5915032679738566,
          0.49428104575163423,
          0.3553921568627454,
          0.5220588235294121,
          0.4526143790849677,
          0.6192810457516342,
          0.2998366013071898,
          0.6192810457516342,
          0.6192810457516342,
          0.3553921568627454,
          0.3553921568627454,
          0.6364379084967322,
          0.4142156862745099,
          0.4836601307189543,
          0.34477124183006547,
          0.4142156862745099,
          0.3864379084967322,
          0.5114379084967322,
          0.3864379084967322,
          0.4142156862745099,
          0.4142156862745099,
          0.5392156862745099,
          0.4142156862745099,
          0.30310457516339884,
          0.6225490196078434,
          0.4142156862745099,
          0.650326797385621,
          0.34477124183006547,
          0.4419934640522878,
          0.6086601307189543,
          0.49754901960784337,
          0.4142156862745099,
          0.4142156862745099,
          0.28921568627451,
          0.5669934640522878,
          0.3169934640522878,
          0.49754901960784337,
          0.2614379084967322,
          0.3586601307189543,
          0.3308823529411766,
          0.5808823529411766,
          0.4142156862745099,
          0.5114379084967322,
          0.4142156862745099,
          0.20588235294117663,
          0.5669934640522878,
          0.4558823529411766,
          0.4142156862745099,
          0.27532679738562105,
          0.5669934640522878,
          0.3586601307189543,
          0.46977124183006547,
          0.4142156862745099,
          0.4836601307189543,
          0.20588235294117663,
          0.12254901960784326,
          0.5669934640522878,
          0.3308823529411766,
          0.30310457516339884,
          0.49754901960784337,
          0.46977124183006547,
          0.49754901960784337,
          0.4142156862745099,
          0.3864379084967322,
          0.7058823529411766,
          0.3864379084967322,
          0.2614379084967322,
          0.4836601307189543,
          0.4142156862745099,
          0.4142156862745099,
          0.4142156862745099,
          0.3586601307189543,
          0.5947712418300655,
          0.40032679738562105,
          0.5114379084967322,
          0.10866013071895442,
          -0.030228758169934422,
          0.7058823529411766,
          0.4836601307189543,
          0.3864379084967322,
          0.5114379084967322,
          0.28921568627451,
          0.4142156862745099,
          0.5947712418300655,
          0.3864379084967322,
          0.4142156862745099,
          0.4142156862745099,
          0.5947712418300655,
          0.4142156862745099,
          0.3586601307189543,
          0.4142156862745099,
          0.5669934640522878,
          0.525326797385621,
          0.5808823529411766,
          0.3169934640522878,
          0.6642156862745099,
          0.5114379084967322,
          0.3308823529411766,
          0.6642156862745099,
          0.525326797385621,
          0.4142156862745099,
          0.4142156862745099,
          0.4142156862745099,
          0.4730392156862744,
          0.6813725490196079,
          0.33415032679738554,
          0.48692810457516345,
          0.45915032679738554,
          0.4730392156862744,
          0.6119281045751632,
          0.2924836601307189,
          0.27859477124182996,
          0.4730392156862744,
          0.5147058823529411,
          0.36192810457516333,
          0.3897058823529411,
          0.43137254901960786,
          0.5008169934640523,
          0.6258169934640523,
          0.056372549019607754,
          0.43137254901960786,
          0.30637254901960775,
          0.5980392156862744,
          0.23692810457516333,
          0.27859477124182996,
          0.5841503267973855,
          0.4730392156862744,
          0.0702614379084967,
          0.5424836601307188,
          0.4730392156862744,
          -0.1658496732026144,
          0.33415032679738554,
          0.6258169934640523,
          0.48692810457516345,
          0.2647058823529411,
          0.2647058823529411,
          0.5563725490196079,
          0.3758169934640523,
          0.40359477124182996,
          0.65359477124183,
          0.7091503267973855,
          0.48692810457516345,
          0.52859477124183,
          0.5563725490196079,
          0.40359477124182996,
          0.33415032679738554,
          0.12581699346405228,
          0.4174836601307188,
          0.2508169934640523,
          0.18137254901960775,
          0.6258169934640523,
          0.20915032679738554,
          0.5980392156862744,
          0.4452614379084967,
          0.2230392156862745,
          0.5702614379084967,
          0.4730392156862744,
          0.5147058823529411,
          0.48692810457516345,
          0.5563725490196079,
          0.5424836601307188,
          0.6397058823529411,
          0.40359477124182996,
          0.43137254901960786,
          0.5147058823529411,
          0.3758169934640523,
          0.028594771241830075,
          0.1952614379084967,
          0.5702614379084967,
          0.3758169934640523,
          0.6952614379084967,
          0.3758169934640523,
          0.6674836601307188,
          0.27859477124182996,
          0.4730392156862744,
          0.4452614379084967,
          0.4730392156862744,
          0.5980392156862744,
          0.5424836601307188,
          0.4730392156862744,
          0.52859477124183,
          0.65359477124183,
          0.5841503267973855,
          0.5702614379084967,
          0.48692810457516345,
          0.18137254901960775,
          0.5008169934640523,
          0.4730392156862744,
          0.6674836601307188,
          0.30637254901960775,
          0.7647058823529411,
          0.2924836601307189,
          0.4730392156862744,
          0.52859477124183,
          0.2508169934640523,
          0.33415032679738554,
          0.27859477124182996,
          0.6258169934640523,
          0.6952614379084967,
          0.6674836601307188,
          0.7508169934640523,
          0.5424836601307188,
          0.7230392156862744,
          0.4730392156862744,
          0.6674836601307188,
          0.7091503267973855,
          0.65359477124183,
          0.6397058823529411,
          0.5735294117647056,
          0.7263071895424833,
          0.7401960784313724,
          0.7263071895424833,
          0.51797385620915,
          0.5735294117647056,
          0.5596405228758168,
          0.4346405228758168,
          0.5318627450980389,
          0.46241830065359446,
          0.49019607843137236,
          0.24019607843137225,
          0.5596405228758168,
          0.5457516339869279,
          0.7401960784313724,
          0.4763071895424833,
          0.6707516339869277,
          0.42075163398692783,
          0.7401960784313724,
          0.7401960784313724,
          0.6846405228758168,
          0.36519607843137225,
          0.5735294117647056,
          0.5596405228758168,
          0.5457516339869279,
          0.5318627450980389,
          0.8235294117647056,
          0.5735294117647056,
          0.36519607843137225,
          0.6707516339869277,
          0.3235294117647056,
          0.5318627450980389,
          0.5874183006535945,
          0.21241830065359446,
          0.5318627450980389,
          0.49019607843137236,
          0.6013071895424833,
          0.5735294117647056,
          0.6151960784313724,
          0.6290849673202612,
          0.6013071895424833,
          0.281862745098039,
          0.3790849673202612,
          0.5457516339869279,
          0.6013071895424833,
          0.6846405228758168,
          0.6151960784313724,
          0.6568627450980389,
          0.6151960784313724,
          0.5040849673202612,
          0.2540849673202612,
          0.6151960784313724,
          0.33741830065359446,
          0.46241830065359446,
          0.7818627450980389,
          0.5040849673202612,
          0.5318627450980389,
          0.6846405228758168,
          0.6013071895424833,
          0.7124183006535945,
          0.5040849673202612,
          0.26797385620915004,
          0.5874183006535945,
          0.4346405228758168,
          0.42075163398692783,
          0.6013071895424833,
          0.49019607843137236,
          0.7263071895424833,
          0.6985294117647056,
          0.7818627450980389,
          0.5318627450980389,
          0.4763071895424833,
          0.5874183006535945,
          0.64297385620915,
          0.5318627450980389,
          0.6707516339869277,
          0.6568627450980389,
          0.8235294117647056,
          0.5318627450980389,
          0.5318627450980389,
          0.5318627450980389,
          0.7818627450980389,
          0.5318627450980389,
          0.6846405228758168,
          0.6740196078431377,
          0.7990196078431377,
          0.5212418300653598,
          0.7156862745098043,
          0.6601307189542487,
          0.5906862745098043,
          0.8267973856209154,
          0.5351307189542487,
          0.39624183006535985,
          0.5351307189542487,
          0.4379084967320266,
          0.757352941176471,
          0.3545751633986932,
          0.6740196078431377,
          0.5490196078431377,
          0.5906862745098043,
          0.5212418300653598,
          0.257352941176471,
          0.5906862745098043,
          0.6462418300653598,
          0.6601307189542487,
          0.17401960784313764,
          0.6601307189542487,
          0.5490196078431377,
          0.6184640522875822,
          0.4795751633986932,
          0.632352941176471,
          0.5906862745098043,
          0.49346405228758217,
          0.5906862745098043,
          0.4101307189542488,
          0.632352941176471,
          0.5490196078431377,
          0.5906862745098043,
          0.20179738562091543,
          0.257352941176471,
          0.7156862745098043,
          0.29901960784313764,
          0.6740196078431377,
          0.5767973856209154,
          0.5490196078431377,
          0.6462418300653598,
          0.36846405228758217,
          0.4379084967320266,
          0.6045751633986933,
          0.6184640522875822,
          0.4656862745098044,
          0.42401960784313764,
          0.20179738562091543,
          0.632352941176471,
          0.4379084967320266,
          0.507352941176471,
          0.5212418300653598,
          0.49346405228758217,
          0.22957516339869322,
          0.5351307189542487,
          0.632352941176471,
          0.757352941176471,
          0.3406862745098044,
          0.6462418300653598,
          0.1601307189542488,
          0.7990196078431377,
          0.7017973856209154,
          0.507352941176471,
          0.10457516339869322,
          0.6601307189542487,
          0.4795751633986932,
          0.6601307189542487,
          0.5351307189542487,
          0.382352941176471,
          0.3406862745098044,
          0.5490196078431377,
          0.4656862745098044,
          0.507352941176471,
          0.1879084967320266,
          0.257352941176471,
          0.6601307189542487,
          0.7017973856209154,
          0.6045751633986933,
          0.5906862745098043,
          0.4379084967320266,
          0.6879084967320266,
          0.5490196078431377,
          0.5351307189542487,
          0.5212418300653598,
          0.5767973856209154,
          0.2851307189542488,
          0.39624183006535985,
          0.11846405228758217,
          0.49346405228758217,
          0.3406862745098044,
          0.5351307189542487,
          0.3545751633986932,
          0.5767973856209154,
          0.4101307189542488,
          0.5490196078431377,
          0.4795751633986932,
          0.757352941176471,
          0.507352941176471,
          0.757352941176471,
          0.5629084967320266,
          0.4517973856209154,
          0.6740196078431377,
          0.507352941176471,
          0.6045751633986933,
          0.6045751633986933,
          0.42401960784313764,
          0.5906862745098043,
          0.8129084967320266,
          0.7156862745098043,
          0.5351307189542487,
          0.7156862745098043,
          0.5906862745098043,
          0.4689542483660124,
          0.5661764705882346,
          0.7328431372549014,
          0.7467320261437902,
          0.524509803921568,
          0.6078431372549014,
          0.5522875816993458,
          0.5522875816993458,
          0.38562091503267903,
          0.510620915032679,
          0.5800653594771235,
          0.760620915032679,
          0.7883986928104567,
          0.10784313725490136,
          0.524509803921568,
          0.6495098039215679,
          0.760620915032679,
          0.5522875816993458,
          0.524509803921568,
          0.6772875816993458,
          0.7050653594771235,
          0.885620915032679,
          0.5522875816993458,
          0.8717320261437902,
          0.45506535947712345,
          0.5661764705882346,
          0.6772875816993458,
          0.6772875816993458,
          0.7467320261437902,
          0.6078431372549014,
          0.45506535947712345,
          0.7467320261437902,
          0.6633986928104569,
          0.6772875816993458,
          0.4272875816993458,
          0.17728758169934578,
          0.635620915032679,
          0.635620915032679,
          0.5800653594771235,
          0.635620915032679,
          0.2883986928104568,
          0.524509803921568,
          0.635620915032679,
          0.5383986928104568,
          0.5383986928104568,
          0.760620915032679,
          0.6078431372549014,
          0.4689542483660124,
          0.635620915032679,
          0.5661764705882346,
          0.399509803921568,
          0.5661764705882346,
          0.7883986928104567,
          0.6772875816993458,
          0.20506535947712357,
          0.6633986928104569,
          0.3161764705882346,
          0.7050653594771235,
          0.4967320261437902,
          0.6078431372549014,
          -0.058823529411765385,
          0.7050653594771235,
          0.5800653594771235,
          0.5522875816993458,
          0.38562091503267903,
          0.5800653594771235,
          0.7328431372549014,
          0.5800653594771235,
          0.4133986928104568,
          0.510620915032679,
          0.5661764705882346,
          0.4967320261437902,
          0.510620915032679,
          0.7467320261437902,
          0.6495098039215679,
          0.8022875816993458,
          0.48284313725490124,
          0.274509803921568,
          0.5661764705882346,
          0.6078431372549014,
          0.760620915032679,
          0.20506535947712357,
          0.6495098039215679,
          0.7050653594771235,
          0.6772875816993458,
          0.524509803921568,
          0.6495098039215679,
          0.4689542483660124,
          0.4411764705882346,
          0.5661764705882346,
          0.6078431372549014,
          0.6911764705882346,
          0.4133986928104568,
          0.4411764705882346,
          0.510620915032679,
          0.4689542483660124,
          0.7050653594771235,
          0.7189542483660123,
          0.6078431372549014,
          0.4133986928104568,
          0.3022875816993458,
          0.6078431372549014,
          0.5939542483660123,
          0.8022875816993458,
          0.6495098039215679,
          0.6217320261437902,
          0.48284313725490124,
          0.399509803921568,
          0.7467320261437902,
          0.635620915032679,
          0.760620915032679,
          0.5383986928104568,
          0.5661764705882346,
          0.760620915032679,
          0.7050653594771235,
          0.6633986928104569,
          0.8578431372549014,
          0.8022875816993458,
          0.7467320261437902,
          0.6495098039215679,
          0.5522875816993458,
          0.760620915032679,
          0.8022875816993458,
          0.5800653594771235,
          0.6495098039215679,
          0.8161764705882346,
          0.885620915032679,
          0.5972222222222222,
          0.7638888888888888,
          0.8055555555555556,
          0.8888888888888888,
          0.4444444444444444,
          0.5833333333333334,
          0.7638888888888888,
          0.5416666666666666,
          0.8055555555555556,
          0.6111111111111112,
          0.7361111111111112,
          0.7222222222222223,
          0.7361111111111112,
          0.75,
          0.75,
          0.8888888888888888,
          0.8333333333333333,
          0.6805555555555556,
          0.7083333333333333,
          0.625,
          0.5555555555555556,
          0.7222222222222223,
          0.8333333333333333,
          0.7222222222222223,
          0.5138888888888888,
          0.6111111111111112,
          0.6111111111111112,
          0.5277777777777778,
          0.8194444444444444,
          0.5833333333333334,
          0.625,
          0.4027777777777778,
          0.3472222222222222,
          0.7083333333333333,
          0.11111111111111116,
          0.75,
          0.5277777777777778,
          0.6666666666666667,
          0.6111111111111112,
          0.5277777777777778,
          0.5833333333333334,
          0.5555555555555556,
          0.6944444444444444,
          0.33333333333333337,
          0.6111111111111112,
          0.38888888888888884,
          0.4722222222222222,
          0.25,
          0.5416666666666666,
          0.625,
          0.23611111111111116,
          0.6666666666666667,
          0.7361111111111112,
          0.5833333333333334,
          0.38888888888888884,
          0.5416666666666666,
          0.5555555555555556,
          0.02777777777777779,
          0.625,
          0.6666666666666667,
          0.8333333333333333,
          0.5,
          0.6388888888888888,
          0.33333333333333337,
          0.3472222222222222,
          0.7222222222222223,
          0.6388888888888888,
          0.5,
          0.6805555555555556,
          0.6944444444444444,
          0.5972222222222222,
          0.18055555555555558,
          0.5277777777777778,
          0.29166666666666663,
          0.33333333333333337,
          0.7777777777777777,
          0.41666666666666663,
          0.4722222222222222,
          0.5694444444444444,
          0.6805555555555556,
          0.8333333333333333,
          0.38888888888888884,
          0.6944444444444444,
          0.5555555555555556,
          0.8611111111111112,
          0.5277777777777778,
          0.48611111111111116,
          0.4444444444444444,
          0.6666666666666667,
          0.8333333333333333,
          0.6666666666666667,
          0.6111111111111112,
          0.5555555555555556,
          0.75,
          0.5555555555555556,
          0.6805555555555556,
          0.5138888888888888,
          0.6388888888888888,
          0.6666666666666667,
          0.4305555555555556,
          0.8611111111111112,
          0.8194444444444444,
          0.6805555555555556,
          0.3055555555555556,
          0.5138888888888888,
          0.9444444444444444,
          0.7916666666666667
         ],
         "xaxis": "x2",
         "yaxis": "y2"
        }
       ],
       "layout": {
        "barmode": "relative",
        "legend": {
         "tracegroupgap": 0
        },
        "template": {
         "data": {
          "bar": [
           {
            "error_x": {
             "color": "#2a3f5f"
            },
            "error_y": {
             "color": "#2a3f5f"
            },
            "marker": {
             "line": {
              "color": "#E5ECF6",
              "width": 0.5
             },
             "pattern": {
              "fillmode": "overlay",
              "size": 10,
              "solidity": 0.2
             }
            },
            "type": "bar"
           }
          ],
          "barpolar": [
           {
            "marker": {
             "line": {
              "color": "#E5ECF6",
              "width": 0.5
             },
             "pattern": {
              "fillmode": "overlay",
              "size": 10,
              "solidity": 0.2
             }
            },
            "type": "barpolar"
           }
          ],
          "carpet": [
           {
            "aaxis": {
             "endlinecolor": "#2a3f5f",
             "gridcolor": "white",
             "linecolor": "white",
             "minorgridcolor": "white",
             "startlinecolor": "#2a3f5f"
            },
            "baxis": {
             "endlinecolor": "#2a3f5f",
             "gridcolor": "white",
             "linecolor": "white",
             "minorgridcolor": "white",
             "startlinecolor": "#2a3f5f"
            },
            "type": "carpet"
           }
          ],
          "choropleth": [
           {
            "colorbar": {
             "outlinewidth": 0,
             "ticks": ""
            },
            "type": "choropleth"
           }
          ],
          "contour": [
           {
            "colorbar": {
             "outlinewidth": 0,
             "ticks": ""
            },
            "colorscale": [
             [
              0,
              "#0d0887"
             ],
             [
              0.1111111111111111,
              "#46039f"
             ],
             [
              0.2222222222222222,
              "#7201a8"
             ],
             [
              0.3333333333333333,
              "#9c179e"
             ],
             [
              0.4444444444444444,
              "#bd3786"
             ],
             [
              0.5555555555555556,
              "#d8576b"
             ],
             [
              0.6666666666666666,
              "#ed7953"
             ],
             [
              0.7777777777777778,
              "#fb9f3a"
             ],
             [
              0.8888888888888888,
              "#fdca26"
             ],
             [
              1,
              "#f0f921"
             ]
            ],
            "type": "contour"
           }
          ],
          "contourcarpet": [
           {
            "colorbar": {
             "outlinewidth": 0,
             "ticks": ""
            },
            "type": "contourcarpet"
           }
          ],
          "heatmap": [
           {
            "colorbar": {
             "outlinewidth": 0,
             "ticks": ""
            },
            "colorscale": [
             [
              0,
              "#0d0887"
             ],
             [
              0.1111111111111111,
              "#46039f"
             ],
             [
              0.2222222222222222,
              "#7201a8"
             ],
             [
              0.3333333333333333,
              "#9c179e"
             ],
             [
              0.4444444444444444,
              "#bd3786"
             ],
             [
              0.5555555555555556,
              "#d8576b"
             ],
             [
              0.6666666666666666,
              "#ed7953"
             ],
             [
              0.7777777777777778,
              "#fb9f3a"
             ],
             [
              0.8888888888888888,
              "#fdca26"
             ],
             [
              1,
              "#f0f921"
             ]
            ],
            "type": "heatmap"
           }
          ],
          "heatmapgl": [
           {
            "colorbar": {
             "outlinewidth": 0,
             "ticks": ""
            },
            "colorscale": [
             [
              0,
              "#0d0887"
             ],
             [
              0.1111111111111111,
              "#46039f"
             ],
             [
              0.2222222222222222,
              "#7201a8"
             ],
             [
              0.3333333333333333,
              "#9c179e"
             ],
             [
              0.4444444444444444,
              "#bd3786"
             ],
             [
              0.5555555555555556,
              "#d8576b"
             ],
             [
              0.6666666666666666,
              "#ed7953"
             ],
             [
              0.7777777777777778,
              "#fb9f3a"
             ],
             [
              0.8888888888888888,
              "#fdca26"
             ],
             [
              1,
              "#f0f921"
             ]
            ],
            "type": "heatmapgl"
           }
          ],
          "histogram": [
           {
            "marker": {
             "pattern": {
              "fillmode": "overlay",
              "size": 10,
              "solidity": 0.2
             }
            },
            "type": "histogram"
           }
          ],
          "histogram2d": [
           {
            "colorbar": {
             "outlinewidth": 0,
             "ticks": ""
            },
            "colorscale": [
             [
              0,
              "#0d0887"
             ],
             [
              0.1111111111111111,
              "#46039f"
             ],
             [
              0.2222222222222222,
              "#7201a8"
             ],
             [
              0.3333333333333333,
              "#9c179e"
             ],
             [
              0.4444444444444444,
              "#bd3786"
             ],
             [
              0.5555555555555556,
              "#d8576b"
             ],
             [
              0.6666666666666666,
              "#ed7953"
             ],
             [
              0.7777777777777778,
              "#fb9f3a"
             ],
             [
              0.8888888888888888,
              "#fdca26"
             ],
             [
              1,
              "#f0f921"
             ]
            ],
            "type": "histogram2d"
           }
          ],
          "histogram2dcontour": [
           {
            "colorbar": {
             "outlinewidth": 0,
             "ticks": ""
            },
            "colorscale": [
             [
              0,
              "#0d0887"
             ],
             [
              0.1111111111111111,
              "#46039f"
             ],
             [
              0.2222222222222222,
              "#7201a8"
             ],
             [
              0.3333333333333333,
              "#9c179e"
             ],
             [
              0.4444444444444444,
              "#bd3786"
             ],
             [
              0.5555555555555556,
              "#d8576b"
             ],
             [
              0.6666666666666666,
              "#ed7953"
             ],
             [
              0.7777777777777778,
              "#fb9f3a"
             ],
             [
              0.8888888888888888,
              "#fdca26"
             ],
             [
              1,
              "#f0f921"
             ]
            ],
            "type": "histogram2dcontour"
           }
          ],
          "mesh3d": [
           {
            "colorbar": {
             "outlinewidth": 0,
             "ticks": ""
            },
            "type": "mesh3d"
           }
          ],
          "parcoords": [
           {
            "line": {
             "colorbar": {
              "outlinewidth": 0,
              "ticks": ""
             }
            },
            "type": "parcoords"
           }
          ],
          "pie": [
           {
            "automargin": true,
            "type": "pie"
           }
          ],
          "scatter": [
           {
            "fillpattern": {
             "fillmode": "overlay",
             "size": 10,
             "solidity": 0.2
            },
            "type": "scatter"
           }
          ],
          "scatter3d": [
           {
            "line": {
             "colorbar": {
              "outlinewidth": 0,
              "ticks": ""
             }
            },
            "marker": {
             "colorbar": {
              "outlinewidth": 0,
              "ticks": ""
             }
            },
            "type": "scatter3d"
           }
          ],
          "scattercarpet": [
           {
            "marker": {
             "colorbar": {
              "outlinewidth": 0,
              "ticks": ""
             }
            },
            "type": "scattercarpet"
           }
          ],
          "scattergeo": [
           {
            "marker": {
             "colorbar": {
              "outlinewidth": 0,
              "ticks": ""
             }
            },
            "type": "scattergeo"
           }
          ],
          "scattergl": [
           {
            "marker": {
             "colorbar": {
              "outlinewidth": 0,
              "ticks": ""
             }
            },
            "type": "scattergl"
           }
          ],
          "scattermapbox": [
           {
            "marker": {
             "colorbar": {
              "outlinewidth": 0,
              "ticks": ""
             }
            },
            "type": "scattermapbox"
           }
          ],
          "scatterpolar": [
           {
            "marker": {
             "colorbar": {
              "outlinewidth": 0,
              "ticks": ""
             }
            },
            "type": "scatterpolar"
           }
          ],
          "scatterpolargl": [
           {
            "marker": {
             "colorbar": {
              "outlinewidth": 0,
              "ticks": ""
             }
            },
            "type": "scatterpolargl"
           }
          ],
          "scatterternary": [
           {
            "marker": {
             "colorbar": {
              "outlinewidth": 0,
              "ticks": ""
             }
            },
            "type": "scatterternary"
           }
          ],
          "surface": [
           {
            "colorbar": {
             "outlinewidth": 0,
             "ticks": ""
            },
            "colorscale": [
             [
              0,
              "#0d0887"
             ],
             [
              0.1111111111111111,
              "#46039f"
             ],
             [
              0.2222222222222222,
              "#7201a8"
             ],
             [
              0.3333333333333333,
              "#9c179e"
             ],
             [
              0.4444444444444444,
              "#bd3786"
             ],
             [
              0.5555555555555556,
              "#d8576b"
             ],
             [
              0.6666666666666666,
              "#ed7953"
             ],
             [
              0.7777777777777778,
              "#fb9f3a"
             ],
             [
              0.8888888888888888,
              "#fdca26"
             ],
             [
              1,
              "#f0f921"
             ]
            ],
            "type": "surface"
           }
          ],
          "table": [
           {
            "cells": {
             "fill": {
              "color": "#EBF0F8"
             },
             "line": {
              "color": "white"
             }
            },
            "header": {
             "fill": {
              "color": "#C8D4E3"
             },
             "line": {
              "color": "white"
             }
            },
            "type": "table"
           }
          ]
         },
         "layout": {
          "annotationdefaults": {
           "arrowcolor": "#2a3f5f",
           "arrowhead": 0,
           "arrowwidth": 1
          },
          "autotypenumbers": "strict",
          "coloraxis": {
           "colorbar": {
            "outlinewidth": 0,
            "ticks": ""
           }
          },
          "colorscale": {
           "diverging": [
            [
             0,
             "#8e0152"
            ],
            [
             0.1,
             "#c51b7d"
            ],
            [
             0.2,
             "#de77ae"
            ],
            [
             0.3,
             "#f1b6da"
            ],
            [
             0.4,
             "#fde0ef"
            ],
            [
             0.5,
             "#f7f7f7"
            ],
            [
             0.6,
             "#e6f5d0"
            ],
            [
             0.7,
             "#b8e186"
            ],
            [
             0.8,
             "#7fbc41"
            ],
            [
             0.9,
             "#4d9221"
            ],
            [
             1,
             "#276419"
            ]
           ],
           "sequential": [
            [
             0,
             "#0d0887"
            ],
            [
             0.1111111111111111,
             "#46039f"
            ],
            [
             0.2222222222222222,
             "#7201a8"
            ],
            [
             0.3333333333333333,
             "#9c179e"
            ],
            [
             0.4444444444444444,
             "#bd3786"
            ],
            [
             0.5555555555555556,
             "#d8576b"
            ],
            [
             0.6666666666666666,
             "#ed7953"
            ],
            [
             0.7777777777777778,
             "#fb9f3a"
            ],
            [
             0.8888888888888888,
             "#fdca26"
            ],
            [
             1,
             "#f0f921"
            ]
           ],
           "sequentialminus": [
            [
             0,
             "#0d0887"
            ],
            [
             0.1111111111111111,
             "#46039f"
            ],
            [
             0.2222222222222222,
             "#7201a8"
            ],
            [
             0.3333333333333333,
             "#9c179e"
            ],
            [
             0.4444444444444444,
             "#bd3786"
            ],
            [
             0.5555555555555556,
             "#d8576b"
            ],
            [
             0.6666666666666666,
             "#ed7953"
            ],
            [
             0.7777777777777778,
             "#fb9f3a"
            ],
            [
             0.8888888888888888,
             "#fdca26"
            ],
            [
             1,
             "#f0f921"
            ]
           ]
          },
          "colorway": [
           "#636efa",
           "#EF553B",
           "#00cc96",
           "#ab63fa",
           "#FFA15A",
           "#19d3f3",
           "#FF6692",
           "#B6E880",
           "#FF97FF",
           "#FECB52"
          ],
          "font": {
           "color": "#2a3f5f"
          },
          "geo": {
           "bgcolor": "white",
           "lakecolor": "white",
           "landcolor": "#E5ECF6",
           "showlakes": true,
           "showland": true,
           "subunitcolor": "white"
          },
          "hoverlabel": {
           "align": "left"
          },
          "hovermode": "closest",
          "mapbox": {
           "style": "light"
          },
          "paper_bgcolor": "white",
          "plot_bgcolor": "#E5ECF6",
          "polar": {
           "angularaxis": {
            "gridcolor": "white",
            "linecolor": "white",
            "ticks": ""
           },
           "bgcolor": "#E5ECF6",
           "radialaxis": {
            "gridcolor": "white",
            "linecolor": "white",
            "ticks": ""
           }
          },
          "scene": {
           "xaxis": {
            "backgroundcolor": "#E5ECF6",
            "gridcolor": "white",
            "gridwidth": 2,
            "linecolor": "white",
            "showbackground": true,
            "ticks": "",
            "zerolinecolor": "white"
           },
           "yaxis": {
            "backgroundcolor": "#E5ECF6",
            "gridcolor": "white",
            "gridwidth": 2,
            "linecolor": "white",
            "showbackground": true,
            "ticks": "",
            "zerolinecolor": "white"
           },
           "zaxis": {
            "backgroundcolor": "#E5ECF6",
            "gridcolor": "white",
            "gridwidth": 2,
            "linecolor": "white",
            "showbackground": true,
            "ticks": "",
            "zerolinecolor": "white"
           }
          },
          "shapedefaults": {
           "line": {
            "color": "#2a3f5f"
           }
          },
          "ternary": {
           "aaxis": {
            "gridcolor": "white",
            "linecolor": "white",
            "ticks": ""
           },
           "baxis": {
            "gridcolor": "white",
            "linecolor": "white",
            "ticks": ""
           },
           "bgcolor": "#E5ECF6",
           "caxis": {
            "gridcolor": "white",
            "linecolor": "white",
            "ticks": ""
           }
          },
          "title": {
           "x": 0.05
          },
          "xaxis": {
           "automargin": true,
           "gridcolor": "white",
           "linecolor": "white",
           "ticks": "",
           "title": {
            "standoff": 15
           },
           "zerolinecolor": "white",
           "zerolinewidth": 2
          },
          "yaxis": {
           "automargin": true,
           "gridcolor": "white",
           "linecolor": "white",
           "ticks": "",
           "title": {
            "standoff": 15
           },
           "zerolinecolor": "white",
           "zerolinewidth": 2
          }
         }
        },
        "title": {
         "text": "Distribuição da Diferença entre MetaScore e IMDB Rating nos Filmes"
        },
        "xaxis": {
         "anchor": "y",
         "domain": [
          0,
          1
         ],
         "title": {
          "text": "Diferença"
         }
        },
        "xaxis2": {
         "anchor": "y2",
         "domain": [
          0,
          1
         ],
         "matches": "x",
         "showgrid": true,
         "showticklabels": false
        },
        "yaxis": {
         "anchor": "x",
         "domain": [
          0,
          0.8316
         ],
         "title": {
          "text": "Quantidade de Filmes"
         }
        },
        "yaxis2": {
         "anchor": "x2",
         "domain": [
          0.8416,
          1
         ],
         "matches": "y2",
         "showgrid": false,
         "showline": false,
         "showticklabels": false,
         "ticks": ""
        }
       }
      },
      "text/html": [
       "<div>                            <div id=\"f9a543a2-d544-4e87-a825-f9b129dc8b2b\" class=\"plotly-graph-div\" style=\"height:525px; width:100%;\"></div>            <script type=\"text/javascript\">                require([\"plotly\"], function(Plotly) {                    window.PLOTLYENV=window.PLOTLYENV || {};                                    if (document.getElementById(\"f9a543a2-d544-4e87-a825-f9b129dc8b2b\")) {                    Plotly.newPlot(                        \"f9a543a2-d544-4e87-a825-f9b129dc8b2b\",                        [{\"alignmentgroup\":\"True\",\"bingroup\":\"x\",\"hovertemplate\":\"Diferen\\u00e7a=%{x}<br>count=%{y}<extra></extra>\",\"legendgroup\":\"\",\"marker\":{\"color\":\"Blue\",\"pattern\":{\"shape\":\"\"}},\"name\":\"\",\"offsetgroup\":\"\",\"orientation\":\"v\",\"showlegend\":false,\"x\":[-0.2777777777777777,0.058823529411765385,-0.04575163398692794,0.03758169934640554,0.1209150326797388,0.15196078431372562,0.15196078431372562,0.15196078431372562,-0.06699346405228779,-0.17810457516339884,0.1830065359477122,0.04411764705882337,0.15522875816993453,0.17238562091503318,-0.022058823529411242,0.21405228758169992,0.10294117647058876,0.1168300653594776,0.3562091503267977,0.050653594771242094,0.12009803921568651,0.3562091503267977,0.28676470588235325,-0.12990196078431338,-0.15767973856209117,-0.0743464052287579,0.20343137254902,0.2728758169934644,0.38398692810457535,-0.09885620915032667,0.303921568627451,-0.12663398692810446,-0.0016339869281044583,0.2622549019607845,0.2622549019607845,0.012254901960784381,-0.05718954248366004,0.15114379084967333,-0.02941176470588225,0.303921568627451,0.12336601307189543,0.19281045751634007,0.29003267973856217,0.19281045751634007,0.428921568627451,0.47058823529411775,0.41503267973856217,0.4566993464052289,0.18218954248365993,0.2377450980392155,0.2377450980392155,0.34885620915032667,0.22385620915032667,0.08496732026143783,0.2655228758169934,0.2655228758169934,0.22385620915032667,0.07107843137254888,0.2377450980392155,0.45996732026143783,0.37663398692810435,0.20996732026143783,0.25163398692810457,0.196078431372549,0.2377450980392155,0.321078431372549,0.05718954248366004,0.446078431372549,0.37663398692810435,0.4877450980392155,0.2377450980392155,0.5294117647058822,0.2377450980392155,0.28267973856209117,0.29656862745098,0.2687908496732023,0.5187908496732023,0.31045751633986907,0.15767973856209117,0.43545751633986884,0.15767973856209117,-0.036764705882353255,0.14379084967320233,0.3660130718954244,0.17156862745098012,0.2687908496732023,0.5187908496732023,0.14379084967320233,0.29656862745098,0.2549019607843135,0.3660130718954244,0.42156862745098,0.10212418300653558,0.004901960784313375,0.3937908496732023,0.5049019607843135,0.3521241830065356,0.2687908496732023,0.3660130718954244,0.22712418300653558,0.5882352941176467,0.5049019607843135,0.5604575163398688,0.5882352941176467,0.5743464052287579,0.5187908496732023,0.5882352941176467,0.29656862745098,0.29656862745098,0.3553921568627454,0.3553921568627454,0.21650326797385655,0.4803921568627454,0.3553921568627454,0.3553921568627454,0.3553921568627454,0.3553921568627454,0.3553921568627454,0.3553921568627454,0.3553921568627454,0.36928104575163445,0.24428104575163434,0.1331699346405233,0.4803921568627454,0.2998366013071898,0.2026143790849677,0.5498366013071898,0.6192810457516342,0.535947712418301,0.11928104575163434,0.3553921568627454,0.3553921568627454,0.2303921568627455,0.3553921568627454,0.39705882352941213,0.36928104575163445,0.2581699346405233,0.17483660130718992,0.5081699346405233,0.31372549019607887,0.27205882352941213,0.43872549019607887,0.16094771241830097,0.3553921568627454,0.4526143790849677,0.2581699346405233,0.5915032679738566,0.49428104575163423,0.3553921568627454,0.5220588235294121,0.4526143790849677,0.6192810457516342,0.2998366013071898,0.6192810457516342,0.6192810457516342,0.3553921568627454,0.3553921568627454,0.6364379084967322,0.4142156862745099,0.4836601307189543,0.34477124183006547,0.4142156862745099,0.3864379084967322,0.5114379084967322,0.3864379084967322,0.4142156862745099,0.4142156862745099,0.5392156862745099,0.4142156862745099,0.30310457516339884,0.6225490196078434,0.4142156862745099,0.650326797385621,0.34477124183006547,0.4419934640522878,0.6086601307189543,0.49754901960784337,0.4142156862745099,0.4142156862745099,0.28921568627451,0.5669934640522878,0.3169934640522878,0.49754901960784337,0.2614379084967322,0.3586601307189543,0.3308823529411766,0.5808823529411766,0.4142156862745099,0.5114379084967322,0.4142156862745099,0.20588235294117663,0.5669934640522878,0.4558823529411766,0.4142156862745099,0.27532679738562105,0.5669934640522878,0.3586601307189543,0.46977124183006547,0.4142156862745099,0.4836601307189543,0.20588235294117663,0.12254901960784326,0.5669934640522878,0.3308823529411766,0.30310457516339884,0.49754901960784337,0.46977124183006547,0.49754901960784337,0.4142156862745099,0.3864379084967322,0.7058823529411766,0.3864379084967322,0.2614379084967322,0.4836601307189543,0.4142156862745099,0.4142156862745099,0.4142156862745099,0.3586601307189543,0.5947712418300655,0.40032679738562105,0.5114379084967322,0.10866013071895442,-0.030228758169934422,0.7058823529411766,0.4836601307189543,0.3864379084967322,0.5114379084967322,0.28921568627451,0.4142156862745099,0.5947712418300655,0.3864379084967322,0.4142156862745099,0.4142156862745099,0.5947712418300655,0.4142156862745099,0.3586601307189543,0.4142156862745099,0.5669934640522878,0.525326797385621,0.5808823529411766,0.3169934640522878,0.6642156862745099,0.5114379084967322,0.3308823529411766,0.6642156862745099,0.525326797385621,0.4142156862745099,0.4142156862745099,0.4142156862745099,0.4730392156862744,0.6813725490196079,0.33415032679738554,0.48692810457516345,0.45915032679738554,0.4730392156862744,0.6119281045751632,0.2924836601307189,0.27859477124182996,0.4730392156862744,0.5147058823529411,0.36192810457516333,0.3897058823529411,0.43137254901960786,0.5008169934640523,0.6258169934640523,0.056372549019607754,0.43137254901960786,0.30637254901960775,0.5980392156862744,0.23692810457516333,0.27859477124182996,0.5841503267973855,0.4730392156862744,0.0702614379084967,0.5424836601307188,0.4730392156862744,-0.1658496732026144,0.33415032679738554,0.6258169934640523,0.48692810457516345,0.2647058823529411,0.2647058823529411,0.5563725490196079,0.3758169934640523,0.40359477124182996,0.65359477124183,0.7091503267973855,0.48692810457516345,0.52859477124183,0.5563725490196079,0.40359477124182996,0.33415032679738554,0.12581699346405228,0.4174836601307188,0.2508169934640523,0.18137254901960775,0.6258169934640523,0.20915032679738554,0.5980392156862744,0.4452614379084967,0.2230392156862745,0.5702614379084967,0.4730392156862744,0.5147058823529411,0.48692810457516345,0.5563725490196079,0.5424836601307188,0.6397058823529411,0.40359477124182996,0.43137254901960786,0.5147058823529411,0.3758169934640523,0.028594771241830075,0.1952614379084967,0.5702614379084967,0.3758169934640523,0.6952614379084967,0.3758169934640523,0.6674836601307188,0.27859477124182996,0.4730392156862744,0.4452614379084967,0.4730392156862744,0.5980392156862744,0.5424836601307188,0.4730392156862744,0.52859477124183,0.65359477124183,0.5841503267973855,0.5702614379084967,0.48692810457516345,0.18137254901960775,0.5008169934640523,0.4730392156862744,0.6674836601307188,0.30637254901960775,0.7647058823529411,0.2924836601307189,0.4730392156862744,0.52859477124183,0.2508169934640523,0.33415032679738554,0.27859477124182996,0.6258169934640523,0.6952614379084967,0.6674836601307188,0.7508169934640523,0.5424836601307188,0.7230392156862744,0.4730392156862744,0.6674836601307188,0.7091503267973855,0.65359477124183,0.6397058823529411,0.5735294117647056,0.7263071895424833,0.7401960784313724,0.7263071895424833,0.51797385620915,0.5735294117647056,0.5596405228758168,0.4346405228758168,0.5318627450980389,0.46241830065359446,0.49019607843137236,0.24019607843137225,0.5596405228758168,0.5457516339869279,0.7401960784313724,0.4763071895424833,0.6707516339869277,0.42075163398692783,0.7401960784313724,0.7401960784313724,0.6846405228758168,0.36519607843137225,0.5735294117647056,0.5596405228758168,0.5457516339869279,0.5318627450980389,0.8235294117647056,0.5735294117647056,0.36519607843137225,0.6707516339869277,0.3235294117647056,0.5318627450980389,0.5874183006535945,0.21241830065359446,0.5318627450980389,0.49019607843137236,0.6013071895424833,0.5735294117647056,0.6151960784313724,0.6290849673202612,0.6013071895424833,0.281862745098039,0.3790849673202612,0.5457516339869279,0.6013071895424833,0.6846405228758168,0.6151960784313724,0.6568627450980389,0.6151960784313724,0.5040849673202612,0.2540849673202612,0.6151960784313724,0.33741830065359446,0.46241830065359446,0.7818627450980389,0.5040849673202612,0.5318627450980389,0.6846405228758168,0.6013071895424833,0.7124183006535945,0.5040849673202612,0.26797385620915004,0.5874183006535945,0.4346405228758168,0.42075163398692783,0.6013071895424833,0.49019607843137236,0.7263071895424833,0.6985294117647056,0.7818627450980389,0.5318627450980389,0.4763071895424833,0.5874183006535945,0.64297385620915,0.5318627450980389,0.6707516339869277,0.6568627450980389,0.8235294117647056,0.5318627450980389,0.5318627450980389,0.5318627450980389,0.7818627450980389,0.5318627450980389,0.6846405228758168,0.6740196078431377,0.7990196078431377,0.5212418300653598,0.7156862745098043,0.6601307189542487,0.5906862745098043,0.8267973856209154,0.5351307189542487,0.39624183006535985,0.5351307189542487,0.4379084967320266,0.757352941176471,0.3545751633986932,0.6740196078431377,0.5490196078431377,0.5906862745098043,0.5212418300653598,0.257352941176471,0.5906862745098043,0.6462418300653598,0.6601307189542487,0.17401960784313764,0.6601307189542487,0.5490196078431377,0.6184640522875822,0.4795751633986932,0.632352941176471,0.5906862745098043,0.49346405228758217,0.5906862745098043,0.4101307189542488,0.632352941176471,0.5490196078431377,0.5906862745098043,0.20179738562091543,0.257352941176471,0.7156862745098043,0.29901960784313764,0.6740196078431377,0.5767973856209154,0.5490196078431377,0.6462418300653598,0.36846405228758217,0.4379084967320266,0.6045751633986933,0.6184640522875822,0.4656862745098044,0.42401960784313764,0.20179738562091543,0.632352941176471,0.4379084967320266,0.507352941176471,0.5212418300653598,0.49346405228758217,0.22957516339869322,0.5351307189542487,0.632352941176471,0.757352941176471,0.3406862745098044,0.6462418300653598,0.1601307189542488,0.7990196078431377,0.7017973856209154,0.507352941176471,0.10457516339869322,0.6601307189542487,0.4795751633986932,0.6601307189542487,0.5351307189542487,0.382352941176471,0.3406862745098044,0.5490196078431377,0.4656862745098044,0.507352941176471,0.1879084967320266,0.257352941176471,0.6601307189542487,0.7017973856209154,0.6045751633986933,0.5906862745098043,0.4379084967320266,0.6879084967320266,0.5490196078431377,0.5351307189542487,0.5212418300653598,0.5767973856209154,0.2851307189542488,0.39624183006535985,0.11846405228758217,0.49346405228758217,0.3406862745098044,0.5351307189542487,0.3545751633986932,0.5767973856209154,0.4101307189542488,0.5490196078431377,0.4795751633986932,0.757352941176471,0.507352941176471,0.757352941176471,0.5629084967320266,0.4517973856209154,0.6740196078431377,0.507352941176471,0.6045751633986933,0.6045751633986933,0.42401960784313764,0.5906862745098043,0.8129084967320266,0.7156862745098043,0.5351307189542487,0.7156862745098043,0.5906862745098043,0.4689542483660124,0.5661764705882346,0.7328431372549014,0.7467320261437902,0.524509803921568,0.6078431372549014,0.5522875816993458,0.5522875816993458,0.38562091503267903,0.510620915032679,0.5800653594771235,0.760620915032679,0.7883986928104567,0.10784313725490136,0.524509803921568,0.6495098039215679,0.760620915032679,0.5522875816993458,0.524509803921568,0.6772875816993458,0.7050653594771235,0.885620915032679,0.5522875816993458,0.8717320261437902,0.45506535947712345,0.5661764705882346,0.6772875816993458,0.6772875816993458,0.7467320261437902,0.6078431372549014,0.45506535947712345,0.7467320261437902,0.6633986928104569,0.6772875816993458,0.4272875816993458,0.17728758169934578,0.635620915032679,0.635620915032679,0.5800653594771235,0.635620915032679,0.2883986928104568,0.524509803921568,0.635620915032679,0.5383986928104568,0.5383986928104568,0.760620915032679,0.6078431372549014,0.4689542483660124,0.635620915032679,0.5661764705882346,0.399509803921568,0.5661764705882346,0.7883986928104567,0.6772875816993458,0.20506535947712357,0.6633986928104569,0.3161764705882346,0.7050653594771235,0.4967320261437902,0.6078431372549014,-0.058823529411765385,0.7050653594771235,0.5800653594771235,0.5522875816993458,0.38562091503267903,0.5800653594771235,0.7328431372549014,0.5800653594771235,0.4133986928104568,0.510620915032679,0.5661764705882346,0.4967320261437902,0.510620915032679,0.7467320261437902,0.6495098039215679,0.8022875816993458,0.48284313725490124,0.274509803921568,0.5661764705882346,0.6078431372549014,0.760620915032679,0.20506535947712357,0.6495098039215679,0.7050653594771235,0.6772875816993458,0.524509803921568,0.6495098039215679,0.4689542483660124,0.4411764705882346,0.5661764705882346,0.6078431372549014,0.6911764705882346,0.4133986928104568,0.4411764705882346,0.510620915032679,0.4689542483660124,0.7050653594771235,0.7189542483660123,0.6078431372549014,0.4133986928104568,0.3022875816993458,0.6078431372549014,0.5939542483660123,0.8022875816993458,0.6495098039215679,0.6217320261437902,0.48284313725490124,0.399509803921568,0.7467320261437902,0.635620915032679,0.760620915032679,0.5383986928104568,0.5661764705882346,0.760620915032679,0.7050653594771235,0.6633986928104569,0.8578431372549014,0.8022875816993458,0.7467320261437902,0.6495098039215679,0.5522875816993458,0.760620915032679,0.8022875816993458,0.5800653594771235,0.6495098039215679,0.8161764705882346,0.885620915032679,0.5972222222222222,0.7638888888888888,0.8055555555555556,0.8888888888888888,0.4444444444444444,0.5833333333333334,0.7638888888888888,0.5416666666666666,0.8055555555555556,0.6111111111111112,0.7361111111111112,0.7222222222222223,0.7361111111111112,0.75,0.75,0.8888888888888888,0.8333333333333333,0.6805555555555556,0.7083333333333333,0.625,0.5555555555555556,0.7222222222222223,0.8333333333333333,0.7222222222222223,0.5138888888888888,0.6111111111111112,0.6111111111111112,0.5277777777777778,0.8194444444444444,0.5833333333333334,0.625,0.4027777777777778,0.3472222222222222,0.7083333333333333,0.11111111111111116,0.75,0.5277777777777778,0.6666666666666667,0.6111111111111112,0.5277777777777778,0.5833333333333334,0.5555555555555556,0.6944444444444444,0.33333333333333337,0.6111111111111112,0.38888888888888884,0.4722222222222222,0.25,0.5416666666666666,0.625,0.23611111111111116,0.6666666666666667,0.7361111111111112,0.5833333333333334,0.38888888888888884,0.5416666666666666,0.5555555555555556,0.02777777777777779,0.625,0.6666666666666667,0.8333333333333333,0.5,0.6388888888888888,0.33333333333333337,0.3472222222222222,0.7222222222222223,0.6388888888888888,0.5,0.6805555555555556,0.6944444444444444,0.5972222222222222,0.18055555555555558,0.5277777777777778,0.29166666666666663,0.33333333333333337,0.7777777777777777,0.41666666666666663,0.4722222222222222,0.5694444444444444,0.6805555555555556,0.8333333333333333,0.38888888888888884,0.6944444444444444,0.5555555555555556,0.8611111111111112,0.5277777777777778,0.48611111111111116,0.4444444444444444,0.6666666666666667,0.8333333333333333,0.6666666666666667,0.6111111111111112,0.5555555555555556,0.75,0.5555555555555556,0.6805555555555556,0.5138888888888888,0.6388888888888888,0.6666666666666667,0.4305555555555556,0.8611111111111112,0.8194444444444444,0.6805555555555556,0.3055555555555556,0.5138888888888888,0.9444444444444444,0.7916666666666667],\"xaxis\":\"x\",\"yaxis\":\"y\",\"type\":\"histogram\"},{\"alignmentgroup\":\"True\",\"hovertemplate\":\"Diferen\\u00e7a=%{x}<extra></extra>\",\"legendgroup\":\"\",\"marker\":{\"color\":\"Blue\"},\"name\":\"\",\"notched\":true,\"offsetgroup\":\"\",\"showlegend\":false,\"x\":[-0.2777777777777777,0.058823529411765385,-0.04575163398692794,0.03758169934640554,0.1209150326797388,0.15196078431372562,0.15196078431372562,0.15196078431372562,-0.06699346405228779,-0.17810457516339884,0.1830065359477122,0.04411764705882337,0.15522875816993453,0.17238562091503318,-0.022058823529411242,0.21405228758169992,0.10294117647058876,0.1168300653594776,0.3562091503267977,0.050653594771242094,0.12009803921568651,0.3562091503267977,0.28676470588235325,-0.12990196078431338,-0.15767973856209117,-0.0743464052287579,0.20343137254902,0.2728758169934644,0.38398692810457535,-0.09885620915032667,0.303921568627451,-0.12663398692810446,-0.0016339869281044583,0.2622549019607845,0.2622549019607845,0.012254901960784381,-0.05718954248366004,0.15114379084967333,-0.02941176470588225,0.303921568627451,0.12336601307189543,0.19281045751634007,0.29003267973856217,0.19281045751634007,0.428921568627451,0.47058823529411775,0.41503267973856217,0.4566993464052289,0.18218954248365993,0.2377450980392155,0.2377450980392155,0.34885620915032667,0.22385620915032667,0.08496732026143783,0.2655228758169934,0.2655228758169934,0.22385620915032667,0.07107843137254888,0.2377450980392155,0.45996732026143783,0.37663398692810435,0.20996732026143783,0.25163398692810457,0.196078431372549,0.2377450980392155,0.321078431372549,0.05718954248366004,0.446078431372549,0.37663398692810435,0.4877450980392155,0.2377450980392155,0.5294117647058822,0.2377450980392155,0.28267973856209117,0.29656862745098,0.2687908496732023,0.5187908496732023,0.31045751633986907,0.15767973856209117,0.43545751633986884,0.15767973856209117,-0.036764705882353255,0.14379084967320233,0.3660130718954244,0.17156862745098012,0.2687908496732023,0.5187908496732023,0.14379084967320233,0.29656862745098,0.2549019607843135,0.3660130718954244,0.42156862745098,0.10212418300653558,0.004901960784313375,0.3937908496732023,0.5049019607843135,0.3521241830065356,0.2687908496732023,0.3660130718954244,0.22712418300653558,0.5882352941176467,0.5049019607843135,0.5604575163398688,0.5882352941176467,0.5743464052287579,0.5187908496732023,0.5882352941176467,0.29656862745098,0.29656862745098,0.3553921568627454,0.3553921568627454,0.21650326797385655,0.4803921568627454,0.3553921568627454,0.3553921568627454,0.3553921568627454,0.3553921568627454,0.3553921568627454,0.3553921568627454,0.3553921568627454,0.36928104575163445,0.24428104575163434,0.1331699346405233,0.4803921568627454,0.2998366013071898,0.2026143790849677,0.5498366013071898,0.6192810457516342,0.535947712418301,0.11928104575163434,0.3553921568627454,0.3553921568627454,0.2303921568627455,0.3553921568627454,0.39705882352941213,0.36928104575163445,0.2581699346405233,0.17483660130718992,0.5081699346405233,0.31372549019607887,0.27205882352941213,0.43872549019607887,0.16094771241830097,0.3553921568627454,0.4526143790849677,0.2581699346405233,0.5915032679738566,0.49428104575163423,0.3553921568627454,0.5220588235294121,0.4526143790849677,0.6192810457516342,0.2998366013071898,0.6192810457516342,0.6192810457516342,0.3553921568627454,0.3553921568627454,0.6364379084967322,0.4142156862745099,0.4836601307189543,0.34477124183006547,0.4142156862745099,0.3864379084967322,0.5114379084967322,0.3864379084967322,0.4142156862745099,0.4142156862745099,0.5392156862745099,0.4142156862745099,0.30310457516339884,0.6225490196078434,0.4142156862745099,0.650326797385621,0.34477124183006547,0.4419934640522878,0.6086601307189543,0.49754901960784337,0.4142156862745099,0.4142156862745099,0.28921568627451,0.5669934640522878,0.3169934640522878,0.49754901960784337,0.2614379084967322,0.3586601307189543,0.3308823529411766,0.5808823529411766,0.4142156862745099,0.5114379084967322,0.4142156862745099,0.20588235294117663,0.5669934640522878,0.4558823529411766,0.4142156862745099,0.27532679738562105,0.5669934640522878,0.3586601307189543,0.46977124183006547,0.4142156862745099,0.4836601307189543,0.20588235294117663,0.12254901960784326,0.5669934640522878,0.3308823529411766,0.30310457516339884,0.49754901960784337,0.46977124183006547,0.49754901960784337,0.4142156862745099,0.3864379084967322,0.7058823529411766,0.3864379084967322,0.2614379084967322,0.4836601307189543,0.4142156862745099,0.4142156862745099,0.4142156862745099,0.3586601307189543,0.5947712418300655,0.40032679738562105,0.5114379084967322,0.10866013071895442,-0.030228758169934422,0.7058823529411766,0.4836601307189543,0.3864379084967322,0.5114379084967322,0.28921568627451,0.4142156862745099,0.5947712418300655,0.3864379084967322,0.4142156862745099,0.4142156862745099,0.5947712418300655,0.4142156862745099,0.3586601307189543,0.4142156862745099,0.5669934640522878,0.525326797385621,0.5808823529411766,0.3169934640522878,0.6642156862745099,0.5114379084967322,0.3308823529411766,0.6642156862745099,0.525326797385621,0.4142156862745099,0.4142156862745099,0.4142156862745099,0.4730392156862744,0.6813725490196079,0.33415032679738554,0.48692810457516345,0.45915032679738554,0.4730392156862744,0.6119281045751632,0.2924836601307189,0.27859477124182996,0.4730392156862744,0.5147058823529411,0.36192810457516333,0.3897058823529411,0.43137254901960786,0.5008169934640523,0.6258169934640523,0.056372549019607754,0.43137254901960786,0.30637254901960775,0.5980392156862744,0.23692810457516333,0.27859477124182996,0.5841503267973855,0.4730392156862744,0.0702614379084967,0.5424836601307188,0.4730392156862744,-0.1658496732026144,0.33415032679738554,0.6258169934640523,0.48692810457516345,0.2647058823529411,0.2647058823529411,0.5563725490196079,0.3758169934640523,0.40359477124182996,0.65359477124183,0.7091503267973855,0.48692810457516345,0.52859477124183,0.5563725490196079,0.40359477124182996,0.33415032679738554,0.12581699346405228,0.4174836601307188,0.2508169934640523,0.18137254901960775,0.6258169934640523,0.20915032679738554,0.5980392156862744,0.4452614379084967,0.2230392156862745,0.5702614379084967,0.4730392156862744,0.5147058823529411,0.48692810457516345,0.5563725490196079,0.5424836601307188,0.6397058823529411,0.40359477124182996,0.43137254901960786,0.5147058823529411,0.3758169934640523,0.028594771241830075,0.1952614379084967,0.5702614379084967,0.3758169934640523,0.6952614379084967,0.3758169934640523,0.6674836601307188,0.27859477124182996,0.4730392156862744,0.4452614379084967,0.4730392156862744,0.5980392156862744,0.5424836601307188,0.4730392156862744,0.52859477124183,0.65359477124183,0.5841503267973855,0.5702614379084967,0.48692810457516345,0.18137254901960775,0.5008169934640523,0.4730392156862744,0.6674836601307188,0.30637254901960775,0.7647058823529411,0.2924836601307189,0.4730392156862744,0.52859477124183,0.2508169934640523,0.33415032679738554,0.27859477124182996,0.6258169934640523,0.6952614379084967,0.6674836601307188,0.7508169934640523,0.5424836601307188,0.7230392156862744,0.4730392156862744,0.6674836601307188,0.7091503267973855,0.65359477124183,0.6397058823529411,0.5735294117647056,0.7263071895424833,0.7401960784313724,0.7263071895424833,0.51797385620915,0.5735294117647056,0.5596405228758168,0.4346405228758168,0.5318627450980389,0.46241830065359446,0.49019607843137236,0.24019607843137225,0.5596405228758168,0.5457516339869279,0.7401960784313724,0.4763071895424833,0.6707516339869277,0.42075163398692783,0.7401960784313724,0.7401960784313724,0.6846405228758168,0.36519607843137225,0.5735294117647056,0.5596405228758168,0.5457516339869279,0.5318627450980389,0.8235294117647056,0.5735294117647056,0.36519607843137225,0.6707516339869277,0.3235294117647056,0.5318627450980389,0.5874183006535945,0.21241830065359446,0.5318627450980389,0.49019607843137236,0.6013071895424833,0.5735294117647056,0.6151960784313724,0.6290849673202612,0.6013071895424833,0.281862745098039,0.3790849673202612,0.5457516339869279,0.6013071895424833,0.6846405228758168,0.6151960784313724,0.6568627450980389,0.6151960784313724,0.5040849673202612,0.2540849673202612,0.6151960784313724,0.33741830065359446,0.46241830065359446,0.7818627450980389,0.5040849673202612,0.5318627450980389,0.6846405228758168,0.6013071895424833,0.7124183006535945,0.5040849673202612,0.26797385620915004,0.5874183006535945,0.4346405228758168,0.42075163398692783,0.6013071895424833,0.49019607843137236,0.7263071895424833,0.6985294117647056,0.7818627450980389,0.5318627450980389,0.4763071895424833,0.5874183006535945,0.64297385620915,0.5318627450980389,0.6707516339869277,0.6568627450980389,0.8235294117647056,0.5318627450980389,0.5318627450980389,0.5318627450980389,0.7818627450980389,0.5318627450980389,0.6846405228758168,0.6740196078431377,0.7990196078431377,0.5212418300653598,0.7156862745098043,0.6601307189542487,0.5906862745098043,0.8267973856209154,0.5351307189542487,0.39624183006535985,0.5351307189542487,0.4379084967320266,0.757352941176471,0.3545751633986932,0.6740196078431377,0.5490196078431377,0.5906862745098043,0.5212418300653598,0.257352941176471,0.5906862745098043,0.6462418300653598,0.6601307189542487,0.17401960784313764,0.6601307189542487,0.5490196078431377,0.6184640522875822,0.4795751633986932,0.632352941176471,0.5906862745098043,0.49346405228758217,0.5906862745098043,0.4101307189542488,0.632352941176471,0.5490196078431377,0.5906862745098043,0.20179738562091543,0.257352941176471,0.7156862745098043,0.29901960784313764,0.6740196078431377,0.5767973856209154,0.5490196078431377,0.6462418300653598,0.36846405228758217,0.4379084967320266,0.6045751633986933,0.6184640522875822,0.4656862745098044,0.42401960784313764,0.20179738562091543,0.632352941176471,0.4379084967320266,0.507352941176471,0.5212418300653598,0.49346405228758217,0.22957516339869322,0.5351307189542487,0.632352941176471,0.757352941176471,0.3406862745098044,0.6462418300653598,0.1601307189542488,0.7990196078431377,0.7017973856209154,0.507352941176471,0.10457516339869322,0.6601307189542487,0.4795751633986932,0.6601307189542487,0.5351307189542487,0.382352941176471,0.3406862745098044,0.5490196078431377,0.4656862745098044,0.507352941176471,0.1879084967320266,0.257352941176471,0.6601307189542487,0.7017973856209154,0.6045751633986933,0.5906862745098043,0.4379084967320266,0.6879084967320266,0.5490196078431377,0.5351307189542487,0.5212418300653598,0.5767973856209154,0.2851307189542488,0.39624183006535985,0.11846405228758217,0.49346405228758217,0.3406862745098044,0.5351307189542487,0.3545751633986932,0.5767973856209154,0.4101307189542488,0.5490196078431377,0.4795751633986932,0.757352941176471,0.507352941176471,0.757352941176471,0.5629084967320266,0.4517973856209154,0.6740196078431377,0.507352941176471,0.6045751633986933,0.6045751633986933,0.42401960784313764,0.5906862745098043,0.8129084967320266,0.7156862745098043,0.5351307189542487,0.7156862745098043,0.5906862745098043,0.4689542483660124,0.5661764705882346,0.7328431372549014,0.7467320261437902,0.524509803921568,0.6078431372549014,0.5522875816993458,0.5522875816993458,0.38562091503267903,0.510620915032679,0.5800653594771235,0.760620915032679,0.7883986928104567,0.10784313725490136,0.524509803921568,0.6495098039215679,0.760620915032679,0.5522875816993458,0.524509803921568,0.6772875816993458,0.7050653594771235,0.885620915032679,0.5522875816993458,0.8717320261437902,0.45506535947712345,0.5661764705882346,0.6772875816993458,0.6772875816993458,0.7467320261437902,0.6078431372549014,0.45506535947712345,0.7467320261437902,0.6633986928104569,0.6772875816993458,0.4272875816993458,0.17728758169934578,0.635620915032679,0.635620915032679,0.5800653594771235,0.635620915032679,0.2883986928104568,0.524509803921568,0.635620915032679,0.5383986928104568,0.5383986928104568,0.760620915032679,0.6078431372549014,0.4689542483660124,0.635620915032679,0.5661764705882346,0.399509803921568,0.5661764705882346,0.7883986928104567,0.6772875816993458,0.20506535947712357,0.6633986928104569,0.3161764705882346,0.7050653594771235,0.4967320261437902,0.6078431372549014,-0.058823529411765385,0.7050653594771235,0.5800653594771235,0.5522875816993458,0.38562091503267903,0.5800653594771235,0.7328431372549014,0.5800653594771235,0.4133986928104568,0.510620915032679,0.5661764705882346,0.4967320261437902,0.510620915032679,0.7467320261437902,0.6495098039215679,0.8022875816993458,0.48284313725490124,0.274509803921568,0.5661764705882346,0.6078431372549014,0.760620915032679,0.20506535947712357,0.6495098039215679,0.7050653594771235,0.6772875816993458,0.524509803921568,0.6495098039215679,0.4689542483660124,0.4411764705882346,0.5661764705882346,0.6078431372549014,0.6911764705882346,0.4133986928104568,0.4411764705882346,0.510620915032679,0.4689542483660124,0.7050653594771235,0.7189542483660123,0.6078431372549014,0.4133986928104568,0.3022875816993458,0.6078431372549014,0.5939542483660123,0.8022875816993458,0.6495098039215679,0.6217320261437902,0.48284313725490124,0.399509803921568,0.7467320261437902,0.635620915032679,0.760620915032679,0.5383986928104568,0.5661764705882346,0.760620915032679,0.7050653594771235,0.6633986928104569,0.8578431372549014,0.8022875816993458,0.7467320261437902,0.6495098039215679,0.5522875816993458,0.760620915032679,0.8022875816993458,0.5800653594771235,0.6495098039215679,0.8161764705882346,0.885620915032679,0.5972222222222222,0.7638888888888888,0.8055555555555556,0.8888888888888888,0.4444444444444444,0.5833333333333334,0.7638888888888888,0.5416666666666666,0.8055555555555556,0.6111111111111112,0.7361111111111112,0.7222222222222223,0.7361111111111112,0.75,0.75,0.8888888888888888,0.8333333333333333,0.6805555555555556,0.7083333333333333,0.625,0.5555555555555556,0.7222222222222223,0.8333333333333333,0.7222222222222223,0.5138888888888888,0.6111111111111112,0.6111111111111112,0.5277777777777778,0.8194444444444444,0.5833333333333334,0.625,0.4027777777777778,0.3472222222222222,0.7083333333333333,0.11111111111111116,0.75,0.5277777777777778,0.6666666666666667,0.6111111111111112,0.5277777777777778,0.5833333333333334,0.5555555555555556,0.6944444444444444,0.33333333333333337,0.6111111111111112,0.38888888888888884,0.4722222222222222,0.25,0.5416666666666666,0.625,0.23611111111111116,0.6666666666666667,0.7361111111111112,0.5833333333333334,0.38888888888888884,0.5416666666666666,0.5555555555555556,0.02777777777777779,0.625,0.6666666666666667,0.8333333333333333,0.5,0.6388888888888888,0.33333333333333337,0.3472222222222222,0.7222222222222223,0.6388888888888888,0.5,0.6805555555555556,0.6944444444444444,0.5972222222222222,0.18055555555555558,0.5277777777777778,0.29166666666666663,0.33333333333333337,0.7777777777777777,0.41666666666666663,0.4722222222222222,0.5694444444444444,0.6805555555555556,0.8333333333333333,0.38888888888888884,0.6944444444444444,0.5555555555555556,0.8611111111111112,0.5277777777777778,0.48611111111111116,0.4444444444444444,0.6666666666666667,0.8333333333333333,0.6666666666666667,0.6111111111111112,0.5555555555555556,0.75,0.5555555555555556,0.6805555555555556,0.5138888888888888,0.6388888888888888,0.6666666666666667,0.4305555555555556,0.8611111111111112,0.8194444444444444,0.6805555555555556,0.3055555555555556,0.5138888888888888,0.9444444444444444,0.7916666666666667],\"xaxis\":\"x2\",\"yaxis\":\"y2\",\"type\":\"box\"}],                        {\"template\":{\"data\":{\"histogram2dcontour\":[{\"type\":\"histogram2dcontour\",\"colorbar\":{\"outlinewidth\":0,\"ticks\":\"\"},\"colorscale\":[[0.0,\"#0d0887\"],[0.1111111111111111,\"#46039f\"],[0.2222222222222222,\"#7201a8\"],[0.3333333333333333,\"#9c179e\"],[0.4444444444444444,\"#bd3786\"],[0.5555555555555556,\"#d8576b\"],[0.6666666666666666,\"#ed7953\"],[0.7777777777777778,\"#fb9f3a\"],[0.8888888888888888,\"#fdca26\"],[1.0,\"#f0f921\"]]}],\"choropleth\":[{\"type\":\"choropleth\",\"colorbar\":{\"outlinewidth\":0,\"ticks\":\"\"}}],\"histogram2d\":[{\"type\":\"histogram2d\",\"colorbar\":{\"outlinewidth\":0,\"ticks\":\"\"},\"colorscale\":[[0.0,\"#0d0887\"],[0.1111111111111111,\"#46039f\"],[0.2222222222222222,\"#7201a8\"],[0.3333333333333333,\"#9c179e\"],[0.4444444444444444,\"#bd3786\"],[0.5555555555555556,\"#d8576b\"],[0.6666666666666666,\"#ed7953\"],[0.7777777777777778,\"#fb9f3a\"],[0.8888888888888888,\"#fdca26\"],[1.0,\"#f0f921\"]]}],\"heatmap\":[{\"type\":\"heatmap\",\"colorbar\":{\"outlinewidth\":0,\"ticks\":\"\"},\"colorscale\":[[0.0,\"#0d0887\"],[0.1111111111111111,\"#46039f\"],[0.2222222222222222,\"#7201a8\"],[0.3333333333333333,\"#9c179e\"],[0.4444444444444444,\"#bd3786\"],[0.5555555555555556,\"#d8576b\"],[0.6666666666666666,\"#ed7953\"],[0.7777777777777778,\"#fb9f3a\"],[0.8888888888888888,\"#fdca26\"],[1.0,\"#f0f921\"]]}],\"heatmapgl\":[{\"type\":\"heatmapgl\",\"colorbar\":{\"outlinewidth\":0,\"ticks\":\"\"},\"colorscale\":[[0.0,\"#0d0887\"],[0.1111111111111111,\"#46039f\"],[0.2222222222222222,\"#7201a8\"],[0.3333333333333333,\"#9c179e\"],[0.4444444444444444,\"#bd3786\"],[0.5555555555555556,\"#d8576b\"],[0.6666666666666666,\"#ed7953\"],[0.7777777777777778,\"#fb9f3a\"],[0.8888888888888888,\"#fdca26\"],[1.0,\"#f0f921\"]]}],\"contourcarpet\":[{\"type\":\"contourcarpet\",\"colorbar\":{\"outlinewidth\":0,\"ticks\":\"\"}}],\"contour\":[{\"type\":\"contour\",\"colorbar\":{\"outlinewidth\":0,\"ticks\":\"\"},\"colorscale\":[[0.0,\"#0d0887\"],[0.1111111111111111,\"#46039f\"],[0.2222222222222222,\"#7201a8\"],[0.3333333333333333,\"#9c179e\"],[0.4444444444444444,\"#bd3786\"],[0.5555555555555556,\"#d8576b\"],[0.6666666666666666,\"#ed7953\"],[0.7777777777777778,\"#fb9f3a\"],[0.8888888888888888,\"#fdca26\"],[1.0,\"#f0f921\"]]}],\"surface\":[{\"type\":\"surface\",\"colorbar\":{\"outlinewidth\":0,\"ticks\":\"\"},\"colorscale\":[[0.0,\"#0d0887\"],[0.1111111111111111,\"#46039f\"],[0.2222222222222222,\"#7201a8\"],[0.3333333333333333,\"#9c179e\"],[0.4444444444444444,\"#bd3786\"],[0.5555555555555556,\"#d8576b\"],[0.6666666666666666,\"#ed7953\"],[0.7777777777777778,\"#fb9f3a\"],[0.8888888888888888,\"#fdca26\"],[1.0,\"#f0f921\"]]}],\"mesh3d\":[{\"type\":\"mesh3d\",\"colorbar\":{\"outlinewidth\":0,\"ticks\":\"\"}}],\"scatter\":[{\"fillpattern\":{\"fillmode\":\"overlay\",\"size\":10,\"solidity\":0.2},\"type\":\"scatter\"}],\"parcoords\":[{\"type\":\"parcoords\",\"line\":{\"colorbar\":{\"outlinewidth\":0,\"ticks\":\"\"}}}],\"scatterpolargl\":[{\"type\":\"scatterpolargl\",\"marker\":{\"colorbar\":{\"outlinewidth\":0,\"ticks\":\"\"}}}],\"bar\":[{\"error_x\":{\"color\":\"#2a3f5f\"},\"error_y\":{\"color\":\"#2a3f5f\"},\"marker\":{\"line\":{\"color\":\"#E5ECF6\",\"width\":0.5},\"pattern\":{\"fillmode\":\"overlay\",\"size\":10,\"solidity\":0.2}},\"type\":\"bar\"}],\"scattergeo\":[{\"type\":\"scattergeo\",\"marker\":{\"colorbar\":{\"outlinewidth\":0,\"ticks\":\"\"}}}],\"scatterpolar\":[{\"type\":\"scatterpolar\",\"marker\":{\"colorbar\":{\"outlinewidth\":0,\"ticks\":\"\"}}}],\"histogram\":[{\"marker\":{\"pattern\":{\"fillmode\":\"overlay\",\"size\":10,\"solidity\":0.2}},\"type\":\"histogram\"}],\"scattergl\":[{\"type\":\"scattergl\",\"marker\":{\"colorbar\":{\"outlinewidth\":0,\"ticks\":\"\"}}}],\"scatter3d\":[{\"type\":\"scatter3d\",\"line\":{\"colorbar\":{\"outlinewidth\":0,\"ticks\":\"\"}},\"marker\":{\"colorbar\":{\"outlinewidth\":0,\"ticks\":\"\"}}}],\"scattermapbox\":[{\"type\":\"scattermapbox\",\"marker\":{\"colorbar\":{\"outlinewidth\":0,\"ticks\":\"\"}}}],\"scatterternary\":[{\"type\":\"scatterternary\",\"marker\":{\"colorbar\":{\"outlinewidth\":0,\"ticks\":\"\"}}}],\"scattercarpet\":[{\"type\":\"scattercarpet\",\"marker\":{\"colorbar\":{\"outlinewidth\":0,\"ticks\":\"\"}}}],\"carpet\":[{\"aaxis\":{\"endlinecolor\":\"#2a3f5f\",\"gridcolor\":\"white\",\"linecolor\":\"white\",\"minorgridcolor\":\"white\",\"startlinecolor\":\"#2a3f5f\"},\"baxis\":{\"endlinecolor\":\"#2a3f5f\",\"gridcolor\":\"white\",\"linecolor\":\"white\",\"minorgridcolor\":\"white\",\"startlinecolor\":\"#2a3f5f\"},\"type\":\"carpet\"}],\"table\":[{\"cells\":{\"fill\":{\"color\":\"#EBF0F8\"},\"line\":{\"color\":\"white\"}},\"header\":{\"fill\":{\"color\":\"#C8D4E3\"},\"line\":{\"color\":\"white\"}},\"type\":\"table\"}],\"barpolar\":[{\"marker\":{\"line\":{\"color\":\"#E5ECF6\",\"width\":0.5},\"pattern\":{\"fillmode\":\"overlay\",\"size\":10,\"solidity\":0.2}},\"type\":\"barpolar\"}],\"pie\":[{\"automargin\":true,\"type\":\"pie\"}]},\"layout\":{\"autotypenumbers\":\"strict\",\"colorway\":[\"#636efa\",\"#EF553B\",\"#00cc96\",\"#ab63fa\",\"#FFA15A\",\"#19d3f3\",\"#FF6692\",\"#B6E880\",\"#FF97FF\",\"#FECB52\"],\"font\":{\"color\":\"#2a3f5f\"},\"hovermode\":\"closest\",\"hoverlabel\":{\"align\":\"left\"},\"paper_bgcolor\":\"white\",\"plot_bgcolor\":\"#E5ECF6\",\"polar\":{\"bgcolor\":\"#E5ECF6\",\"angularaxis\":{\"gridcolor\":\"white\",\"linecolor\":\"white\",\"ticks\":\"\"},\"radialaxis\":{\"gridcolor\":\"white\",\"linecolor\":\"white\",\"ticks\":\"\"}},\"ternary\":{\"bgcolor\":\"#E5ECF6\",\"aaxis\":{\"gridcolor\":\"white\",\"linecolor\":\"white\",\"ticks\":\"\"},\"baxis\":{\"gridcolor\":\"white\",\"linecolor\":\"white\",\"ticks\":\"\"},\"caxis\":{\"gridcolor\":\"white\",\"linecolor\":\"white\",\"ticks\":\"\"}},\"coloraxis\":{\"colorbar\":{\"outlinewidth\":0,\"ticks\":\"\"}},\"colorscale\":{\"sequential\":[[0.0,\"#0d0887\"],[0.1111111111111111,\"#46039f\"],[0.2222222222222222,\"#7201a8\"],[0.3333333333333333,\"#9c179e\"],[0.4444444444444444,\"#bd3786\"],[0.5555555555555556,\"#d8576b\"],[0.6666666666666666,\"#ed7953\"],[0.7777777777777778,\"#fb9f3a\"],[0.8888888888888888,\"#fdca26\"],[1.0,\"#f0f921\"]],\"sequentialminus\":[[0.0,\"#0d0887\"],[0.1111111111111111,\"#46039f\"],[0.2222222222222222,\"#7201a8\"],[0.3333333333333333,\"#9c179e\"],[0.4444444444444444,\"#bd3786\"],[0.5555555555555556,\"#d8576b\"],[0.6666666666666666,\"#ed7953\"],[0.7777777777777778,\"#fb9f3a\"],[0.8888888888888888,\"#fdca26\"],[1.0,\"#f0f921\"]],\"diverging\":[[0,\"#8e0152\"],[0.1,\"#c51b7d\"],[0.2,\"#de77ae\"],[0.3,\"#f1b6da\"],[0.4,\"#fde0ef\"],[0.5,\"#f7f7f7\"],[0.6,\"#e6f5d0\"],[0.7,\"#b8e186\"],[0.8,\"#7fbc41\"],[0.9,\"#4d9221\"],[1,\"#276419\"]]},\"xaxis\":{\"gridcolor\":\"white\",\"linecolor\":\"white\",\"ticks\":\"\",\"title\":{\"standoff\":15},\"zerolinecolor\":\"white\",\"automargin\":true,\"zerolinewidth\":2},\"yaxis\":{\"gridcolor\":\"white\",\"linecolor\":\"white\",\"ticks\":\"\",\"title\":{\"standoff\":15},\"zerolinecolor\":\"white\",\"automargin\":true,\"zerolinewidth\":2},\"scene\":{\"xaxis\":{\"backgroundcolor\":\"#E5ECF6\",\"gridcolor\":\"white\",\"linecolor\":\"white\",\"showbackground\":true,\"ticks\":\"\",\"zerolinecolor\":\"white\",\"gridwidth\":2},\"yaxis\":{\"backgroundcolor\":\"#E5ECF6\",\"gridcolor\":\"white\",\"linecolor\":\"white\",\"showbackground\":true,\"ticks\":\"\",\"zerolinecolor\":\"white\",\"gridwidth\":2},\"zaxis\":{\"backgroundcolor\":\"#E5ECF6\",\"gridcolor\":\"white\",\"linecolor\":\"white\",\"showbackground\":true,\"ticks\":\"\",\"zerolinecolor\":\"white\",\"gridwidth\":2}},\"shapedefaults\":{\"line\":{\"color\":\"#2a3f5f\"}},\"annotationdefaults\":{\"arrowcolor\":\"#2a3f5f\",\"arrowhead\":0,\"arrowwidth\":1},\"geo\":{\"bgcolor\":\"white\",\"landcolor\":\"#E5ECF6\",\"subunitcolor\":\"white\",\"showland\":true,\"showlakes\":true,\"lakecolor\":\"white\"},\"title\":{\"x\":0.05},\"mapbox\":{\"style\":\"light\"}}},\"xaxis\":{\"anchor\":\"y\",\"domain\":[0.0,1.0],\"title\":{\"text\":\"Diferen\\u00e7a\"}},\"yaxis\":{\"anchor\":\"x\",\"domain\":[0.0,0.8316],\"title\":{\"text\":\"Quantidade de Filmes\"}},\"xaxis2\":{\"anchor\":\"y2\",\"domain\":[0.0,1.0],\"matches\":\"x\",\"showticklabels\":false,\"showgrid\":true},\"yaxis2\":{\"anchor\":\"x2\",\"domain\":[0.8416,1.0],\"matches\":\"y2\",\"showticklabels\":false,\"showline\":false,\"ticks\":\"\",\"showgrid\":false},\"legend\":{\"tracegroupgap\":0},\"title\":{\"text\":\"Distribui\\u00e7\\u00e3o da Diferen\\u00e7a entre MetaScore e IMDB Rating nos Filmes\"},\"barmode\":\"relative\"},                        {\"responsive\": true}                    ).then(function(){\n",
       "                            \n",
       "var gd = document.getElementById('f9a543a2-d544-4e87-a825-f9b129dc8b2b');\n",
       "var x = new MutationObserver(function (mutations, observer) {{\n",
       "        var display = window.getComputedStyle(gd).display;\n",
       "        if (!display || display === 'none') {{\n",
       "            console.log([gd, 'removed!']);\n",
       "            Plotly.purge(gd);\n",
       "            observer.disconnect();\n",
       "        }}\n",
       "}});\n",
       "\n",
       "// Listen for the removal of the full notebook cells\n",
       "var notebookContainer = gd.closest('#notebook-container');\n",
       "if (notebookContainer) {{\n",
       "    x.observe(notebookContainer, {childList: true});\n",
       "}}\n",
       "\n",
       "// Listen for the clearing of the current output cell\n",
       "var outputEl = gd.closest('.output');\n",
       "if (outputEl) {{\n",
       "    x.observe(outputEl, {childList: true});\n",
       "}}\n",
       "\n",
       "                        })                };                });            </script>        </div>"
      ]
     },
     "metadata": {},
     "output_type": "display_data"
    }
   ],
   "source": [
    "# Distribuição do MetaScore - IMDB Rating\n",
    "diff_hist = px.histogram(\n",
    "    x=df.difference, \n",
    "    title=\"Distribuição da Diferença entre MetaScore e IMDB Rating nos Filmes\",\n",
    "    marginal=\"box\",\n",
    "    labels={\"x\": \"Diferença\"}\n",
    "    ).update_traces(marker_color=\"Blue\").update_layout(yaxis_title=\"Quantidade de Filmes\")\n",
    "diff_hist.show()"
   ]
  },
  {
   "cell_type": "markdown",
   "metadata": {},
   "source": [
    "**Distribuição do Número de Votos no IMDB**: Para verificar a popularidade do filme, é possível analisar seu número de votos no IMDB, ou seja, a quantidade de pessoas que assistiram e avaliaram a obra. Para isso, também utilizaremos um **Histograma** junto de um **Boxplot**, pois ambos os gráficos auxiliam no entendimento da distribuição em variáveis númericas.\n",
    "\n",
    "Analisando os gráficos, é possível notar que a maior parte dos filmes possui de 55K até 375K de votos, enquanto há vários outliers com número de votos acima de 1 milhão.\n"
   ]
  },
  {
   "cell_type": "code",
   "execution_count": 59,
   "metadata": {},
   "outputs": [
    {
     "data": {
      "application/vnd.plotly.v1+json": {
       "config": {
        "plotlyServerURL": "https://plot.ly"
       },
       "data": [
        {
         "alignmentgroup": "True",
         "bingroup": "x",
         "hovertemplate": "Número de votos no IMDB=%{x}<br>count=%{y}<extra></extra>",
         "legendgroup": "",
         "marker": {
          "color": "DarkSlateGray",
          "pattern": {
           "shape": ""
          }
         },
         "name": "",
         "offsetgroup": "",
         "orientation": "v",
         "showlegend": false,
         "type": "histogram",
         "x": [
          2343110,
          1620367,
          2303232,
          1129952,
          689845,
          1642758,
          1826188,
          1213505,
          2067042,
          1854740,
          1661481,
          1809221,
          688390,
          1485555,
          1676426,
          1020727,
          1159315,
          918088,
          552778,
          1512360,
          699256,
          651376,
          1235804,
          1147794,
          623629,
          1445096,
          1270197,
          1231473,
          315744,
          939252,
          717585,
          760360,
          1190259,
          1189773,
          729603,
          1341460,
          1034705,
          991208,
          1035236,
          942045,
          995506,
          230763,
          1058081,
          302844,
          604211,
          522093,
          217881,
          167839,
          62635,
          194838,
          156479,
          375110,
          809955,
          834477,
          384171,
          1357682,
          1516346,
          344445,
          168895,
          999790,
          358685,
          515451,
          1125712,
          343171,
          311365,
          884112,
          898237,
          606398,
          787806,
          450474,
          108862,
          444074,
          203150,
          425844,
          71875,
          281623,
          220002,
          150023,
          1267869,
          911664,
          703810,
          782001,
          766870,
          1069738,
          861606,
          65341,
          887429,
          959181,
          918562,
          675146,
          652719,
          369007,
          740911,
          950470,
          231855,
          724636,
          241513,
          757904,
          603517,
          232772,
          268085,
          164363,
          299198,
          364368,
          218957,
          143525,
          403351,
          143434,
          113314,
          33893,
          43444,
          377884,
          432610,
          31142,
          75348,
          70367,
          60701,
          61137,
          42341,
          33237,
          193217,
          435950,
          1129894,
          935507,
          1187498,
          74129,
          517359,
          618623,
          757032,
          1032749,
          111937,
          33354,
          1308302,
          83005,
          331308,
          333915,
          848920,
          535216,
          531967,
          577113,
          466276,
          375935,
          692366,
          26402,
          291180,
          793164,
          112505,
          321860,
          116945,
          500875,
          224730,
          243943,
          158335,
          120539,
          114304,
          101053,
          41985,
          63134,
          39216,
          113649,
          50700,
          50445,
          647884,
          371538,
          177059,
          163061,
          51739,
          707630,
          859695,
          435928,
          616228,
          75721,
          640533,
          432811,
          291289,
          420316,
          51679,
          57806,
          67927,
          601149,
          882316,
          720450,
          764493,
          48582,
          666773,
          572921,
          856916,
          43137,
          635975,
          334320,
          37820,
          236311,
          139558,
          66803,
          1000639,
          949565,
          832846,
          223741,
          815505,
          105036,
          911573,
          59020,
          939631,
          50862,
          732620,
          124383,
          634716,
          617444,
          150345,
          272291,
          90729,
          63122,
          867615,
          156842,
          25088,
          29662,
          425457,
          363401,
          381222,
          91188,
          150924,
          371271,
          76081,
          57784,
          693827,
          367250,
          311361,
          518546,
          40081,
          294230,
          42285,
          30206,
          45434,
          161984,
          46947,
          50058,
          26697,
          219466,
          203463,
          142107,
          31568,
          158731,
          123942,
          107017,
          290074,
          94016,
          47676,
          46865,
          81156,
          72245,
          505918,
          213970,
          760094,
          434143,
          102972,
          38746,
          141923,
          31886,
          51069,
          81770,
          114316,
          685201,
          1043455,
          461823,
          540772,
          450349,
          705589,
          462252,
          639603,
          428521,
          902669,
          45803,
          28749,
          98575,
          798882,
          699673,
          98097,
          1260806,
          88656,
          441614,
          448930,
          499439,
          604694,
          50610,
          738512,
          103284,
          641645,
          582239,
          683900,
          77520,
          77554,
          176151,
          63460,
          117857,
          1015122,
          415218,
          657047,
          137963,
          740086,
          289742,
          102285,
          82002,
          58192,
          78341,
          36419,
          172083,
          86838,
          37564,
          578443,
          129231,
          300208,
          577991,
          28825,
          263918,
          373845,
          142110,
          417178,
          240266,
          89429,
          473064,
          164918,
          393899,
          64722,
          31163,
          799795,
          217664,
          65625,
          251823,
          543388,
          235652,
          143359,
          121627,
          362393,
          44748,
          42456,
          39491,
          27067,
          201888,
          165167,
          253676,
          205425,
          69903,
          198219,
          75067,
          66621,
          56305,
          98431,
          45062,
          99182,
          42725,
          57259,
          85559,
          371379,
          57318,
          454203,
          62754,
          246644,
          212651,
          53818,
          139114,
          111483,
          189400,
          85109,
          587775,
          466134,
          297918,
          594181,
          860823,
          141457,
          659763,
          230624,
          600004,
          93090,
          324720,
          93560,
          335152,
          205609,
          638202,
          289415,
          47720,
          335533,
          577336,
          390334,
          154011,
          107290,
          580708,
          199696,
          57430,
          939644,
          512249,
          419420,
          552493,
          173999,
          104691,
          44618,
          42897,
          508771,
          49721,
          465113,
          252586,
          322031,
          527512,
          239473,
          31590,
          206918,
          89836,
          201000,
          447368,
          68076,
          54670,
          281842,
          67176,
          187567,
          128812,
          132947,
          183182,
          131436,
          28223,
          111512,
          103031,
          37183,
          38737,
          93741,
          77401,
          29003,
          67804,
          68689,
          124339,
          63560,
          97222,
          123341,
          92306,
          78796,
          33549,
          53667,
          47175,
          30580,
          78991,
          51240,
          555092,
          200876,
          61594,
          118035,
          40416,
          246963,
          35539,
          556608,
          663649,
          517059,
          143250,
          50778,
          45002,
          50523,
          39710,
          410983,
          303032,
          33618,
          73690,
          203177,
          108399,
          318789,
          305611,
          362942,
          423010,
          421244,
          62848,
          179264,
          52758,
          601408,
          68715,
          208994,
          340584,
          564791,
          190748,
          110656,
          757377,
          251370,
          571571,
          392449,
          1118998,
          216421,
          291018,
          439856,
          463466,
          589160,
          49050,
          45717,
          258924,
          51980,
          31658,
          283310,
          234207,
          520284,
          96703,
          42673,
          50622,
          129022,
          60684,
          198089,
          253228,
          89058,
          524235,
          227143,
          159886,
          82855,
          613941,
          1046089,
          280845,
          345096,
          62428,
          164937,
          215034,
          126871,
          78963,
          66065,
          267684,
          128171,
          43690,
          55362,
          42376,
          126082,
          184740,
          125276,
          122779,
          481918,
          88214,
          371387,
          148359,
          321382,
          47834,
          244430,
          78321,
          357026,
          51585,
          355413,
          56235,
          88511,
          372490,
          133351,
          65659,
          98611,
          25229,
          37445,
          48334,
          178731,
          101124,
          86525,
          158029,
          52141,
          27007,
          73251,
          478586,
          205444,
          492851,
          291257,
          47444,
          157498,
          32798,
          404182,
          590440,
          344312,
          123210,
          580291,
          138741,
          32628,
          736182,
          39501,
          112298,
          380195,
          56720,
          388089,
          323982,
          769145,
          463188,
          624982,
          645512,
          717559,
          630614,
          661871,
          572581,
          472242,
          479120,
          125317,
          103330,
          71379,
          239203,
          81446,
          474141,
          32001,
          175355,
          466080,
          299524,
          28003,
          61609,
          405922,
          72643,
          323103,
          288797,
          419483,
          127250,
          434841,
          358432,
          138356,
          415074,
          548619,
          329592,
          197761,
          400049,
          25938,
          137981,
          40403,
          142863,
          178565,
          364254,
          246840,
          90842,
          126770,
          31957,
          516372,
          29210,
          286742,
          192112,
          241575,
          390247,
          169229,
          64082,
          312542,
          275755,
          434125,
          37424,
          279318,
          51350,
          189716,
          35991,
          32236,
          33600,
          211450,
          42275,
          224169,
          50298,
          85819,
          150409,
          95826,
          235388,
          66941,
          113240,
          125822,
          182009,
          40396,
          94326,
          115677,
          102031,
          181285,
          47102,
          59635,
          39881,
          36096,
          112704,
          226541,
          47099,
          214882,
          233106,
          39889,
          125993,
          109941,
          96561,
          98740,
          110075,
          143292,
          31572,
          40274,
          31222,
          174119,
          171739,
          87719,
          34677,
          71481,
          88662,
          140840,
          551309,
          29765,
          95181,
          99643,
          66346,
          35785,
          569974,
          439406,
          58371,
          287659,
          250057,
          272784,
          371291,
          247666,
          49397,
          204175,
          94212,
          411599,
          190531,
          228132,
          80939,
          334312,
          311822,
          38491,
          500851,
          315426,
          524081,
          369529,
          138959,
          520041,
          583158,
          293266,
          41544,
          286770,
          227760,
          255036,
          339757,
          250590,
          82781,
          72863,
          354728,
          474827,
          732876,
          206294,
          500799,
          294140,
          379020,
          83158,
          65939,
          67360,
          70925,
          67370,
          224545,
          62659,
          198677,
          169708,
          451479,
          376853,
          266842,
          115827,
          658185,
          337651,
          240714,
          243729,
          508417,
          91557,
          490062,
          188317,
          172710,
          256906,
          259753,
          187927,
          186734,
          131101,
          102598,
          364420,
          90442,
          73172,
          269197,
          64390,
          171640,
          165465,
          107325,
          27071,
          80487,
          488817,
          359809,
          195663,
          237696,
          152871,
          124773,
          236894,
          87745,
          27650,
          166588,
          93878,
          32802,
          121731,
          73662,
          184966,
          26337,
          30144,
          45338,
          166409,
          40351,
          43374
         ],
         "xaxis": "x",
         "yaxis": "y"
        },
        {
         "alignmentgroup": "True",
         "hovertemplate": "Número de votos no IMDB=%{x}<extra></extra>",
         "legendgroup": "",
         "marker": {
          "color": "DarkSlateGray"
         },
         "name": "",
         "notched": true,
         "offsetgroup": "",
         "showlegend": false,
         "type": "box",
         "x": [
          2343110,
          1620367,
          2303232,
          1129952,
          689845,
          1642758,
          1826188,
          1213505,
          2067042,
          1854740,
          1661481,
          1809221,
          688390,
          1485555,
          1676426,
          1020727,
          1159315,
          918088,
          552778,
          1512360,
          699256,
          651376,
          1235804,
          1147794,
          623629,
          1445096,
          1270197,
          1231473,
          315744,
          939252,
          717585,
          760360,
          1190259,
          1189773,
          729603,
          1341460,
          1034705,
          991208,
          1035236,
          942045,
          995506,
          230763,
          1058081,
          302844,
          604211,
          522093,
          217881,
          167839,
          62635,
          194838,
          156479,
          375110,
          809955,
          834477,
          384171,
          1357682,
          1516346,
          344445,
          168895,
          999790,
          358685,
          515451,
          1125712,
          343171,
          311365,
          884112,
          898237,
          606398,
          787806,
          450474,
          108862,
          444074,
          203150,
          425844,
          71875,
          281623,
          220002,
          150023,
          1267869,
          911664,
          703810,
          782001,
          766870,
          1069738,
          861606,
          65341,
          887429,
          959181,
          918562,
          675146,
          652719,
          369007,
          740911,
          950470,
          231855,
          724636,
          241513,
          757904,
          603517,
          232772,
          268085,
          164363,
          299198,
          364368,
          218957,
          143525,
          403351,
          143434,
          113314,
          33893,
          43444,
          377884,
          432610,
          31142,
          75348,
          70367,
          60701,
          61137,
          42341,
          33237,
          193217,
          435950,
          1129894,
          935507,
          1187498,
          74129,
          517359,
          618623,
          757032,
          1032749,
          111937,
          33354,
          1308302,
          83005,
          331308,
          333915,
          848920,
          535216,
          531967,
          577113,
          466276,
          375935,
          692366,
          26402,
          291180,
          793164,
          112505,
          321860,
          116945,
          500875,
          224730,
          243943,
          158335,
          120539,
          114304,
          101053,
          41985,
          63134,
          39216,
          113649,
          50700,
          50445,
          647884,
          371538,
          177059,
          163061,
          51739,
          707630,
          859695,
          435928,
          616228,
          75721,
          640533,
          432811,
          291289,
          420316,
          51679,
          57806,
          67927,
          601149,
          882316,
          720450,
          764493,
          48582,
          666773,
          572921,
          856916,
          43137,
          635975,
          334320,
          37820,
          236311,
          139558,
          66803,
          1000639,
          949565,
          832846,
          223741,
          815505,
          105036,
          911573,
          59020,
          939631,
          50862,
          732620,
          124383,
          634716,
          617444,
          150345,
          272291,
          90729,
          63122,
          867615,
          156842,
          25088,
          29662,
          425457,
          363401,
          381222,
          91188,
          150924,
          371271,
          76081,
          57784,
          693827,
          367250,
          311361,
          518546,
          40081,
          294230,
          42285,
          30206,
          45434,
          161984,
          46947,
          50058,
          26697,
          219466,
          203463,
          142107,
          31568,
          158731,
          123942,
          107017,
          290074,
          94016,
          47676,
          46865,
          81156,
          72245,
          505918,
          213970,
          760094,
          434143,
          102972,
          38746,
          141923,
          31886,
          51069,
          81770,
          114316,
          685201,
          1043455,
          461823,
          540772,
          450349,
          705589,
          462252,
          639603,
          428521,
          902669,
          45803,
          28749,
          98575,
          798882,
          699673,
          98097,
          1260806,
          88656,
          441614,
          448930,
          499439,
          604694,
          50610,
          738512,
          103284,
          641645,
          582239,
          683900,
          77520,
          77554,
          176151,
          63460,
          117857,
          1015122,
          415218,
          657047,
          137963,
          740086,
          289742,
          102285,
          82002,
          58192,
          78341,
          36419,
          172083,
          86838,
          37564,
          578443,
          129231,
          300208,
          577991,
          28825,
          263918,
          373845,
          142110,
          417178,
          240266,
          89429,
          473064,
          164918,
          393899,
          64722,
          31163,
          799795,
          217664,
          65625,
          251823,
          543388,
          235652,
          143359,
          121627,
          362393,
          44748,
          42456,
          39491,
          27067,
          201888,
          165167,
          253676,
          205425,
          69903,
          198219,
          75067,
          66621,
          56305,
          98431,
          45062,
          99182,
          42725,
          57259,
          85559,
          371379,
          57318,
          454203,
          62754,
          246644,
          212651,
          53818,
          139114,
          111483,
          189400,
          85109,
          587775,
          466134,
          297918,
          594181,
          860823,
          141457,
          659763,
          230624,
          600004,
          93090,
          324720,
          93560,
          335152,
          205609,
          638202,
          289415,
          47720,
          335533,
          577336,
          390334,
          154011,
          107290,
          580708,
          199696,
          57430,
          939644,
          512249,
          419420,
          552493,
          173999,
          104691,
          44618,
          42897,
          508771,
          49721,
          465113,
          252586,
          322031,
          527512,
          239473,
          31590,
          206918,
          89836,
          201000,
          447368,
          68076,
          54670,
          281842,
          67176,
          187567,
          128812,
          132947,
          183182,
          131436,
          28223,
          111512,
          103031,
          37183,
          38737,
          93741,
          77401,
          29003,
          67804,
          68689,
          124339,
          63560,
          97222,
          123341,
          92306,
          78796,
          33549,
          53667,
          47175,
          30580,
          78991,
          51240,
          555092,
          200876,
          61594,
          118035,
          40416,
          246963,
          35539,
          556608,
          663649,
          517059,
          143250,
          50778,
          45002,
          50523,
          39710,
          410983,
          303032,
          33618,
          73690,
          203177,
          108399,
          318789,
          305611,
          362942,
          423010,
          421244,
          62848,
          179264,
          52758,
          601408,
          68715,
          208994,
          340584,
          564791,
          190748,
          110656,
          757377,
          251370,
          571571,
          392449,
          1118998,
          216421,
          291018,
          439856,
          463466,
          589160,
          49050,
          45717,
          258924,
          51980,
          31658,
          283310,
          234207,
          520284,
          96703,
          42673,
          50622,
          129022,
          60684,
          198089,
          253228,
          89058,
          524235,
          227143,
          159886,
          82855,
          613941,
          1046089,
          280845,
          345096,
          62428,
          164937,
          215034,
          126871,
          78963,
          66065,
          267684,
          128171,
          43690,
          55362,
          42376,
          126082,
          184740,
          125276,
          122779,
          481918,
          88214,
          371387,
          148359,
          321382,
          47834,
          244430,
          78321,
          357026,
          51585,
          355413,
          56235,
          88511,
          372490,
          133351,
          65659,
          98611,
          25229,
          37445,
          48334,
          178731,
          101124,
          86525,
          158029,
          52141,
          27007,
          73251,
          478586,
          205444,
          492851,
          291257,
          47444,
          157498,
          32798,
          404182,
          590440,
          344312,
          123210,
          580291,
          138741,
          32628,
          736182,
          39501,
          112298,
          380195,
          56720,
          388089,
          323982,
          769145,
          463188,
          624982,
          645512,
          717559,
          630614,
          661871,
          572581,
          472242,
          479120,
          125317,
          103330,
          71379,
          239203,
          81446,
          474141,
          32001,
          175355,
          466080,
          299524,
          28003,
          61609,
          405922,
          72643,
          323103,
          288797,
          419483,
          127250,
          434841,
          358432,
          138356,
          415074,
          548619,
          329592,
          197761,
          400049,
          25938,
          137981,
          40403,
          142863,
          178565,
          364254,
          246840,
          90842,
          126770,
          31957,
          516372,
          29210,
          286742,
          192112,
          241575,
          390247,
          169229,
          64082,
          312542,
          275755,
          434125,
          37424,
          279318,
          51350,
          189716,
          35991,
          32236,
          33600,
          211450,
          42275,
          224169,
          50298,
          85819,
          150409,
          95826,
          235388,
          66941,
          113240,
          125822,
          182009,
          40396,
          94326,
          115677,
          102031,
          181285,
          47102,
          59635,
          39881,
          36096,
          112704,
          226541,
          47099,
          214882,
          233106,
          39889,
          125993,
          109941,
          96561,
          98740,
          110075,
          143292,
          31572,
          40274,
          31222,
          174119,
          171739,
          87719,
          34677,
          71481,
          88662,
          140840,
          551309,
          29765,
          95181,
          99643,
          66346,
          35785,
          569974,
          439406,
          58371,
          287659,
          250057,
          272784,
          371291,
          247666,
          49397,
          204175,
          94212,
          411599,
          190531,
          228132,
          80939,
          334312,
          311822,
          38491,
          500851,
          315426,
          524081,
          369529,
          138959,
          520041,
          583158,
          293266,
          41544,
          286770,
          227760,
          255036,
          339757,
          250590,
          82781,
          72863,
          354728,
          474827,
          732876,
          206294,
          500799,
          294140,
          379020,
          83158,
          65939,
          67360,
          70925,
          67370,
          224545,
          62659,
          198677,
          169708,
          451479,
          376853,
          266842,
          115827,
          658185,
          337651,
          240714,
          243729,
          508417,
          91557,
          490062,
          188317,
          172710,
          256906,
          259753,
          187927,
          186734,
          131101,
          102598,
          364420,
          90442,
          73172,
          269197,
          64390,
          171640,
          165465,
          107325,
          27071,
          80487,
          488817,
          359809,
          195663,
          237696,
          152871,
          124773,
          236894,
          87745,
          27650,
          166588,
          93878,
          32802,
          121731,
          73662,
          184966,
          26337,
          30144,
          45338,
          166409,
          40351,
          43374
         ],
         "xaxis": "x2",
         "yaxis": "y2"
        }
       ],
       "layout": {
        "barmode": "relative",
        "legend": {
         "tracegroupgap": 0
        },
        "template": {
         "data": {
          "bar": [
           {
            "error_x": {
             "color": "#2a3f5f"
            },
            "error_y": {
             "color": "#2a3f5f"
            },
            "marker": {
             "line": {
              "color": "#E5ECF6",
              "width": 0.5
             },
             "pattern": {
              "fillmode": "overlay",
              "size": 10,
              "solidity": 0.2
             }
            },
            "type": "bar"
           }
          ],
          "barpolar": [
           {
            "marker": {
             "line": {
              "color": "#E5ECF6",
              "width": 0.5
             },
             "pattern": {
              "fillmode": "overlay",
              "size": 10,
              "solidity": 0.2
             }
            },
            "type": "barpolar"
           }
          ],
          "carpet": [
           {
            "aaxis": {
             "endlinecolor": "#2a3f5f",
             "gridcolor": "white",
             "linecolor": "white",
             "minorgridcolor": "white",
             "startlinecolor": "#2a3f5f"
            },
            "baxis": {
             "endlinecolor": "#2a3f5f",
             "gridcolor": "white",
             "linecolor": "white",
             "minorgridcolor": "white",
             "startlinecolor": "#2a3f5f"
            },
            "type": "carpet"
           }
          ],
          "choropleth": [
           {
            "colorbar": {
             "outlinewidth": 0,
             "ticks": ""
            },
            "type": "choropleth"
           }
          ],
          "contour": [
           {
            "colorbar": {
             "outlinewidth": 0,
             "ticks": ""
            },
            "colorscale": [
             [
              0,
              "#0d0887"
             ],
             [
              0.1111111111111111,
              "#46039f"
             ],
             [
              0.2222222222222222,
              "#7201a8"
             ],
             [
              0.3333333333333333,
              "#9c179e"
             ],
             [
              0.4444444444444444,
              "#bd3786"
             ],
             [
              0.5555555555555556,
              "#d8576b"
             ],
             [
              0.6666666666666666,
              "#ed7953"
             ],
             [
              0.7777777777777778,
              "#fb9f3a"
             ],
             [
              0.8888888888888888,
              "#fdca26"
             ],
             [
              1,
              "#f0f921"
             ]
            ],
            "type": "contour"
           }
          ],
          "contourcarpet": [
           {
            "colorbar": {
             "outlinewidth": 0,
             "ticks": ""
            },
            "type": "contourcarpet"
           }
          ],
          "heatmap": [
           {
            "colorbar": {
             "outlinewidth": 0,
             "ticks": ""
            },
            "colorscale": [
             [
              0,
              "#0d0887"
             ],
             [
              0.1111111111111111,
              "#46039f"
             ],
             [
              0.2222222222222222,
              "#7201a8"
             ],
             [
              0.3333333333333333,
              "#9c179e"
             ],
             [
              0.4444444444444444,
              "#bd3786"
             ],
             [
              0.5555555555555556,
              "#d8576b"
             ],
             [
              0.6666666666666666,
              "#ed7953"
             ],
             [
              0.7777777777777778,
              "#fb9f3a"
             ],
             [
              0.8888888888888888,
              "#fdca26"
             ],
             [
              1,
              "#f0f921"
             ]
            ],
            "type": "heatmap"
           }
          ],
          "heatmapgl": [
           {
            "colorbar": {
             "outlinewidth": 0,
             "ticks": ""
            },
            "colorscale": [
             [
              0,
              "#0d0887"
             ],
             [
              0.1111111111111111,
              "#46039f"
             ],
             [
              0.2222222222222222,
              "#7201a8"
             ],
             [
              0.3333333333333333,
              "#9c179e"
             ],
             [
              0.4444444444444444,
              "#bd3786"
             ],
             [
              0.5555555555555556,
              "#d8576b"
             ],
             [
              0.6666666666666666,
              "#ed7953"
             ],
             [
              0.7777777777777778,
              "#fb9f3a"
             ],
             [
              0.8888888888888888,
              "#fdca26"
             ],
             [
              1,
              "#f0f921"
             ]
            ],
            "type": "heatmapgl"
           }
          ],
          "histogram": [
           {
            "marker": {
             "pattern": {
              "fillmode": "overlay",
              "size": 10,
              "solidity": 0.2
             }
            },
            "type": "histogram"
           }
          ],
          "histogram2d": [
           {
            "colorbar": {
             "outlinewidth": 0,
             "ticks": ""
            },
            "colorscale": [
             [
              0,
              "#0d0887"
             ],
             [
              0.1111111111111111,
              "#46039f"
             ],
             [
              0.2222222222222222,
              "#7201a8"
             ],
             [
              0.3333333333333333,
              "#9c179e"
             ],
             [
              0.4444444444444444,
              "#bd3786"
             ],
             [
              0.5555555555555556,
              "#d8576b"
             ],
             [
              0.6666666666666666,
              "#ed7953"
             ],
             [
              0.7777777777777778,
              "#fb9f3a"
             ],
             [
              0.8888888888888888,
              "#fdca26"
             ],
             [
              1,
              "#f0f921"
             ]
            ],
            "type": "histogram2d"
           }
          ],
          "histogram2dcontour": [
           {
            "colorbar": {
             "outlinewidth": 0,
             "ticks": ""
            },
            "colorscale": [
             [
              0,
              "#0d0887"
             ],
             [
              0.1111111111111111,
              "#46039f"
             ],
             [
              0.2222222222222222,
              "#7201a8"
             ],
             [
              0.3333333333333333,
              "#9c179e"
             ],
             [
              0.4444444444444444,
              "#bd3786"
             ],
             [
              0.5555555555555556,
              "#d8576b"
             ],
             [
              0.6666666666666666,
              "#ed7953"
             ],
             [
              0.7777777777777778,
              "#fb9f3a"
             ],
             [
              0.8888888888888888,
              "#fdca26"
             ],
             [
              1,
              "#f0f921"
             ]
            ],
            "type": "histogram2dcontour"
           }
          ],
          "mesh3d": [
           {
            "colorbar": {
             "outlinewidth": 0,
             "ticks": ""
            },
            "type": "mesh3d"
           }
          ],
          "parcoords": [
           {
            "line": {
             "colorbar": {
              "outlinewidth": 0,
              "ticks": ""
             }
            },
            "type": "parcoords"
           }
          ],
          "pie": [
           {
            "automargin": true,
            "type": "pie"
           }
          ],
          "scatter": [
           {
            "fillpattern": {
             "fillmode": "overlay",
             "size": 10,
             "solidity": 0.2
            },
            "type": "scatter"
           }
          ],
          "scatter3d": [
           {
            "line": {
             "colorbar": {
              "outlinewidth": 0,
              "ticks": ""
             }
            },
            "marker": {
             "colorbar": {
              "outlinewidth": 0,
              "ticks": ""
             }
            },
            "type": "scatter3d"
           }
          ],
          "scattercarpet": [
           {
            "marker": {
             "colorbar": {
              "outlinewidth": 0,
              "ticks": ""
             }
            },
            "type": "scattercarpet"
           }
          ],
          "scattergeo": [
           {
            "marker": {
             "colorbar": {
              "outlinewidth": 0,
              "ticks": ""
             }
            },
            "type": "scattergeo"
           }
          ],
          "scattergl": [
           {
            "marker": {
             "colorbar": {
              "outlinewidth": 0,
              "ticks": ""
             }
            },
            "type": "scattergl"
           }
          ],
          "scattermapbox": [
           {
            "marker": {
             "colorbar": {
              "outlinewidth": 0,
              "ticks": ""
             }
            },
            "type": "scattermapbox"
           }
          ],
          "scatterpolar": [
           {
            "marker": {
             "colorbar": {
              "outlinewidth": 0,
              "ticks": ""
             }
            },
            "type": "scatterpolar"
           }
          ],
          "scatterpolargl": [
           {
            "marker": {
             "colorbar": {
              "outlinewidth": 0,
              "ticks": ""
             }
            },
            "type": "scatterpolargl"
           }
          ],
          "scatterternary": [
           {
            "marker": {
             "colorbar": {
              "outlinewidth": 0,
              "ticks": ""
             }
            },
            "type": "scatterternary"
           }
          ],
          "surface": [
           {
            "colorbar": {
             "outlinewidth": 0,
             "ticks": ""
            },
            "colorscale": [
             [
              0,
              "#0d0887"
             ],
             [
              0.1111111111111111,
              "#46039f"
             ],
             [
              0.2222222222222222,
              "#7201a8"
             ],
             [
              0.3333333333333333,
              "#9c179e"
             ],
             [
              0.4444444444444444,
              "#bd3786"
             ],
             [
              0.5555555555555556,
              "#d8576b"
             ],
             [
              0.6666666666666666,
              "#ed7953"
             ],
             [
              0.7777777777777778,
              "#fb9f3a"
             ],
             [
              0.8888888888888888,
              "#fdca26"
             ],
             [
              1,
              "#f0f921"
             ]
            ],
            "type": "surface"
           }
          ],
          "table": [
           {
            "cells": {
             "fill": {
              "color": "#EBF0F8"
             },
             "line": {
              "color": "white"
             }
            },
            "header": {
             "fill": {
              "color": "#C8D4E3"
             },
             "line": {
              "color": "white"
             }
            },
            "type": "table"
           }
          ]
         },
         "layout": {
          "annotationdefaults": {
           "arrowcolor": "#2a3f5f",
           "arrowhead": 0,
           "arrowwidth": 1
          },
          "autotypenumbers": "strict",
          "coloraxis": {
           "colorbar": {
            "outlinewidth": 0,
            "ticks": ""
           }
          },
          "colorscale": {
           "diverging": [
            [
             0,
             "#8e0152"
            ],
            [
             0.1,
             "#c51b7d"
            ],
            [
             0.2,
             "#de77ae"
            ],
            [
             0.3,
             "#f1b6da"
            ],
            [
             0.4,
             "#fde0ef"
            ],
            [
             0.5,
             "#f7f7f7"
            ],
            [
             0.6,
             "#e6f5d0"
            ],
            [
             0.7,
             "#b8e186"
            ],
            [
             0.8,
             "#7fbc41"
            ],
            [
             0.9,
             "#4d9221"
            ],
            [
             1,
             "#276419"
            ]
           ],
           "sequential": [
            [
             0,
             "#0d0887"
            ],
            [
             0.1111111111111111,
             "#46039f"
            ],
            [
             0.2222222222222222,
             "#7201a8"
            ],
            [
             0.3333333333333333,
             "#9c179e"
            ],
            [
             0.4444444444444444,
             "#bd3786"
            ],
            [
             0.5555555555555556,
             "#d8576b"
            ],
            [
             0.6666666666666666,
             "#ed7953"
            ],
            [
             0.7777777777777778,
             "#fb9f3a"
            ],
            [
             0.8888888888888888,
             "#fdca26"
            ],
            [
             1,
             "#f0f921"
            ]
           ],
           "sequentialminus": [
            [
             0,
             "#0d0887"
            ],
            [
             0.1111111111111111,
             "#46039f"
            ],
            [
             0.2222222222222222,
             "#7201a8"
            ],
            [
             0.3333333333333333,
             "#9c179e"
            ],
            [
             0.4444444444444444,
             "#bd3786"
            ],
            [
             0.5555555555555556,
             "#d8576b"
            ],
            [
             0.6666666666666666,
             "#ed7953"
            ],
            [
             0.7777777777777778,
             "#fb9f3a"
            ],
            [
             0.8888888888888888,
             "#fdca26"
            ],
            [
             1,
             "#f0f921"
            ]
           ]
          },
          "colorway": [
           "#636efa",
           "#EF553B",
           "#00cc96",
           "#ab63fa",
           "#FFA15A",
           "#19d3f3",
           "#FF6692",
           "#B6E880",
           "#FF97FF",
           "#FECB52"
          ],
          "font": {
           "color": "#2a3f5f"
          },
          "geo": {
           "bgcolor": "white",
           "lakecolor": "white",
           "landcolor": "#E5ECF6",
           "showlakes": true,
           "showland": true,
           "subunitcolor": "white"
          },
          "hoverlabel": {
           "align": "left"
          },
          "hovermode": "closest",
          "mapbox": {
           "style": "light"
          },
          "paper_bgcolor": "white",
          "plot_bgcolor": "#E5ECF6",
          "polar": {
           "angularaxis": {
            "gridcolor": "white",
            "linecolor": "white",
            "ticks": ""
           },
           "bgcolor": "#E5ECF6",
           "radialaxis": {
            "gridcolor": "white",
            "linecolor": "white",
            "ticks": ""
           }
          },
          "scene": {
           "xaxis": {
            "backgroundcolor": "#E5ECF6",
            "gridcolor": "white",
            "gridwidth": 2,
            "linecolor": "white",
            "showbackground": true,
            "ticks": "",
            "zerolinecolor": "white"
           },
           "yaxis": {
            "backgroundcolor": "#E5ECF6",
            "gridcolor": "white",
            "gridwidth": 2,
            "linecolor": "white",
            "showbackground": true,
            "ticks": "",
            "zerolinecolor": "white"
           },
           "zaxis": {
            "backgroundcolor": "#E5ECF6",
            "gridcolor": "white",
            "gridwidth": 2,
            "linecolor": "white",
            "showbackground": true,
            "ticks": "",
            "zerolinecolor": "white"
           }
          },
          "shapedefaults": {
           "line": {
            "color": "#2a3f5f"
           }
          },
          "ternary": {
           "aaxis": {
            "gridcolor": "white",
            "linecolor": "white",
            "ticks": ""
           },
           "baxis": {
            "gridcolor": "white",
            "linecolor": "white",
            "ticks": ""
           },
           "bgcolor": "#E5ECF6",
           "caxis": {
            "gridcolor": "white",
            "linecolor": "white",
            "ticks": ""
           }
          },
          "title": {
           "x": 0.05
          },
          "xaxis": {
           "automargin": true,
           "gridcolor": "white",
           "linecolor": "white",
           "ticks": "",
           "title": {
            "standoff": 15
           },
           "zerolinecolor": "white",
           "zerolinewidth": 2
          },
          "yaxis": {
           "automargin": true,
           "gridcolor": "white",
           "linecolor": "white",
           "ticks": "",
           "title": {
            "standoff": 15
           },
           "zerolinecolor": "white",
           "zerolinewidth": 2
          }
         }
        },
        "title": {
         "text": "Distribuição do Número de Votos nos Filmes"
        },
        "xaxis": {
         "anchor": "y",
         "domain": [
          0,
          1
         ],
         "title": {
          "text": "Número de votos no IMDB"
         }
        },
        "xaxis2": {
         "anchor": "y2",
         "domain": [
          0,
          1
         ],
         "matches": "x",
         "showgrid": true,
         "showticklabels": false
        },
        "yaxis": {
         "anchor": "x",
         "domain": [
          0,
          0.8316
         ],
         "title": {
          "text": "Quantidade de Filmes"
         }
        },
        "yaxis2": {
         "anchor": "x2",
         "domain": [
          0.8416,
          1
         ],
         "matches": "y2",
         "showgrid": false,
         "showline": false,
         "showticklabels": false,
         "ticks": ""
        }
       }
      },
      "text/html": [
       "<div>                            <div id=\"8c550560-5d38-47ed-afc7-6c7992b4909e\" class=\"plotly-graph-div\" style=\"height:525px; width:100%;\"></div>            <script type=\"text/javascript\">                require([\"plotly\"], function(Plotly) {                    window.PLOTLYENV=window.PLOTLYENV || {};                                    if (document.getElementById(\"8c550560-5d38-47ed-afc7-6c7992b4909e\")) {                    Plotly.newPlot(                        \"8c550560-5d38-47ed-afc7-6c7992b4909e\",                        [{\"alignmentgroup\":\"True\",\"bingroup\":\"x\",\"hovertemplate\":\"N\\u00famero de votos no IMDB=%{x}<br>count=%{y}<extra></extra>\",\"legendgroup\":\"\",\"marker\":{\"color\":\"DarkSlateGray\",\"pattern\":{\"shape\":\"\"}},\"name\":\"\",\"offsetgroup\":\"\",\"orientation\":\"v\",\"showlegend\":false,\"x\":[2343110,1620367,2303232,1129952,689845,1642758,1826188,1213505,2067042,1854740,1661481,1809221,688390,1485555,1676426,1020727,1159315,918088,552778,1512360,699256,651376,1235804,1147794,623629,1445096,1270197,1231473,315744,939252,717585,760360,1190259,1189773,729603,1341460,1034705,991208,1035236,942045,995506,230763,1058081,302844,604211,522093,217881,167839,62635,194838,156479,375110,809955,834477,384171,1357682,1516346,344445,168895,999790,358685,515451,1125712,343171,311365,884112,898237,606398,787806,450474,108862,444074,203150,425844,71875,281623,220002,150023,1267869,911664,703810,782001,766870,1069738,861606,65341,887429,959181,918562,675146,652719,369007,740911,950470,231855,724636,241513,757904,603517,232772,268085,164363,299198,364368,218957,143525,403351,143434,113314,33893,43444,377884,432610,31142,75348,70367,60701,61137,42341,33237,193217,435950,1129894,935507,1187498,74129,517359,618623,757032,1032749,111937,33354,1308302,83005,331308,333915,848920,535216,531967,577113,466276,375935,692366,26402,291180,793164,112505,321860,116945,500875,224730,243943,158335,120539,114304,101053,41985,63134,39216,113649,50700,50445,647884,371538,177059,163061,51739,707630,859695,435928,616228,75721,640533,432811,291289,420316,51679,57806,67927,601149,882316,720450,764493,48582,666773,572921,856916,43137,635975,334320,37820,236311,139558,66803,1000639,949565,832846,223741,815505,105036,911573,59020,939631,50862,732620,124383,634716,617444,150345,272291,90729,63122,867615,156842,25088,29662,425457,363401,381222,91188,150924,371271,76081,57784,693827,367250,311361,518546,40081,294230,42285,30206,45434,161984,46947,50058,26697,219466,203463,142107,31568,158731,123942,107017,290074,94016,47676,46865,81156,72245,505918,213970,760094,434143,102972,38746,141923,31886,51069,81770,114316,685201,1043455,461823,540772,450349,705589,462252,639603,428521,902669,45803,28749,98575,798882,699673,98097,1260806,88656,441614,448930,499439,604694,50610,738512,103284,641645,582239,683900,77520,77554,176151,63460,117857,1015122,415218,657047,137963,740086,289742,102285,82002,58192,78341,36419,172083,86838,37564,578443,129231,300208,577991,28825,263918,373845,142110,417178,240266,89429,473064,164918,393899,64722,31163,799795,217664,65625,251823,543388,235652,143359,121627,362393,44748,42456,39491,27067,201888,165167,253676,205425,69903,198219,75067,66621,56305,98431,45062,99182,42725,57259,85559,371379,57318,454203,62754,246644,212651,53818,139114,111483,189400,85109,587775,466134,297918,594181,860823,141457,659763,230624,600004,93090,324720,93560,335152,205609,638202,289415,47720,335533,577336,390334,154011,107290,580708,199696,57430,939644,512249,419420,552493,173999,104691,44618,42897,508771,49721,465113,252586,322031,527512,239473,31590,206918,89836,201000,447368,68076,54670,281842,67176,187567,128812,132947,183182,131436,28223,111512,103031,37183,38737,93741,77401,29003,67804,68689,124339,63560,97222,123341,92306,78796,33549,53667,47175,30580,78991,51240,555092,200876,61594,118035,40416,246963,35539,556608,663649,517059,143250,50778,45002,50523,39710,410983,303032,33618,73690,203177,108399,318789,305611,362942,423010,421244,62848,179264,52758,601408,68715,208994,340584,564791,190748,110656,757377,251370,571571,392449,1118998,216421,291018,439856,463466,589160,49050,45717,258924,51980,31658,283310,234207,520284,96703,42673,50622,129022,60684,198089,253228,89058,524235,227143,159886,82855,613941,1046089,280845,345096,62428,164937,215034,126871,78963,66065,267684,128171,43690,55362,42376,126082,184740,125276,122779,481918,88214,371387,148359,321382,47834,244430,78321,357026,51585,355413,56235,88511,372490,133351,65659,98611,25229,37445,48334,178731,101124,86525,158029,52141,27007,73251,478586,205444,492851,291257,47444,157498,32798,404182,590440,344312,123210,580291,138741,32628,736182,39501,112298,380195,56720,388089,323982,769145,463188,624982,645512,717559,630614,661871,572581,472242,479120,125317,103330,71379,239203,81446,474141,32001,175355,466080,299524,28003,61609,405922,72643,323103,288797,419483,127250,434841,358432,138356,415074,548619,329592,197761,400049,25938,137981,40403,142863,178565,364254,246840,90842,126770,31957,516372,29210,286742,192112,241575,390247,169229,64082,312542,275755,434125,37424,279318,51350,189716,35991,32236,33600,211450,42275,224169,50298,85819,150409,95826,235388,66941,113240,125822,182009,40396,94326,115677,102031,181285,47102,59635,39881,36096,112704,226541,47099,214882,233106,39889,125993,109941,96561,98740,110075,143292,31572,40274,31222,174119,171739,87719,34677,71481,88662,140840,551309,29765,95181,99643,66346,35785,569974,439406,58371,287659,250057,272784,371291,247666,49397,204175,94212,411599,190531,228132,80939,334312,311822,38491,500851,315426,524081,369529,138959,520041,583158,293266,41544,286770,227760,255036,339757,250590,82781,72863,354728,474827,732876,206294,500799,294140,379020,83158,65939,67360,70925,67370,224545,62659,198677,169708,451479,376853,266842,115827,658185,337651,240714,243729,508417,91557,490062,188317,172710,256906,259753,187927,186734,131101,102598,364420,90442,73172,269197,64390,171640,165465,107325,27071,80487,488817,359809,195663,237696,152871,124773,236894,87745,27650,166588,93878,32802,121731,73662,184966,26337,30144,45338,166409,40351,43374],\"xaxis\":\"x\",\"yaxis\":\"y\",\"type\":\"histogram\"},{\"alignmentgroup\":\"True\",\"hovertemplate\":\"N\\u00famero de votos no IMDB=%{x}<extra></extra>\",\"legendgroup\":\"\",\"marker\":{\"color\":\"DarkSlateGray\"},\"name\":\"\",\"notched\":true,\"offsetgroup\":\"\",\"showlegend\":false,\"x\":[2343110,1620367,2303232,1129952,689845,1642758,1826188,1213505,2067042,1854740,1661481,1809221,688390,1485555,1676426,1020727,1159315,918088,552778,1512360,699256,651376,1235804,1147794,623629,1445096,1270197,1231473,315744,939252,717585,760360,1190259,1189773,729603,1341460,1034705,991208,1035236,942045,995506,230763,1058081,302844,604211,522093,217881,167839,62635,194838,156479,375110,809955,834477,384171,1357682,1516346,344445,168895,999790,358685,515451,1125712,343171,311365,884112,898237,606398,787806,450474,108862,444074,203150,425844,71875,281623,220002,150023,1267869,911664,703810,782001,766870,1069738,861606,65341,887429,959181,918562,675146,652719,369007,740911,950470,231855,724636,241513,757904,603517,232772,268085,164363,299198,364368,218957,143525,403351,143434,113314,33893,43444,377884,432610,31142,75348,70367,60701,61137,42341,33237,193217,435950,1129894,935507,1187498,74129,517359,618623,757032,1032749,111937,33354,1308302,83005,331308,333915,848920,535216,531967,577113,466276,375935,692366,26402,291180,793164,112505,321860,116945,500875,224730,243943,158335,120539,114304,101053,41985,63134,39216,113649,50700,50445,647884,371538,177059,163061,51739,707630,859695,435928,616228,75721,640533,432811,291289,420316,51679,57806,67927,601149,882316,720450,764493,48582,666773,572921,856916,43137,635975,334320,37820,236311,139558,66803,1000639,949565,832846,223741,815505,105036,911573,59020,939631,50862,732620,124383,634716,617444,150345,272291,90729,63122,867615,156842,25088,29662,425457,363401,381222,91188,150924,371271,76081,57784,693827,367250,311361,518546,40081,294230,42285,30206,45434,161984,46947,50058,26697,219466,203463,142107,31568,158731,123942,107017,290074,94016,47676,46865,81156,72245,505918,213970,760094,434143,102972,38746,141923,31886,51069,81770,114316,685201,1043455,461823,540772,450349,705589,462252,639603,428521,902669,45803,28749,98575,798882,699673,98097,1260806,88656,441614,448930,499439,604694,50610,738512,103284,641645,582239,683900,77520,77554,176151,63460,117857,1015122,415218,657047,137963,740086,289742,102285,82002,58192,78341,36419,172083,86838,37564,578443,129231,300208,577991,28825,263918,373845,142110,417178,240266,89429,473064,164918,393899,64722,31163,799795,217664,65625,251823,543388,235652,143359,121627,362393,44748,42456,39491,27067,201888,165167,253676,205425,69903,198219,75067,66621,56305,98431,45062,99182,42725,57259,85559,371379,57318,454203,62754,246644,212651,53818,139114,111483,189400,85109,587775,466134,297918,594181,860823,141457,659763,230624,600004,93090,324720,93560,335152,205609,638202,289415,47720,335533,577336,390334,154011,107290,580708,199696,57430,939644,512249,419420,552493,173999,104691,44618,42897,508771,49721,465113,252586,322031,527512,239473,31590,206918,89836,201000,447368,68076,54670,281842,67176,187567,128812,132947,183182,131436,28223,111512,103031,37183,38737,93741,77401,29003,67804,68689,124339,63560,97222,123341,92306,78796,33549,53667,47175,30580,78991,51240,555092,200876,61594,118035,40416,246963,35539,556608,663649,517059,143250,50778,45002,50523,39710,410983,303032,33618,73690,203177,108399,318789,305611,362942,423010,421244,62848,179264,52758,601408,68715,208994,340584,564791,190748,110656,757377,251370,571571,392449,1118998,216421,291018,439856,463466,589160,49050,45717,258924,51980,31658,283310,234207,520284,96703,42673,50622,129022,60684,198089,253228,89058,524235,227143,159886,82855,613941,1046089,280845,345096,62428,164937,215034,126871,78963,66065,267684,128171,43690,55362,42376,126082,184740,125276,122779,481918,88214,371387,148359,321382,47834,244430,78321,357026,51585,355413,56235,88511,372490,133351,65659,98611,25229,37445,48334,178731,101124,86525,158029,52141,27007,73251,478586,205444,492851,291257,47444,157498,32798,404182,590440,344312,123210,580291,138741,32628,736182,39501,112298,380195,56720,388089,323982,769145,463188,624982,645512,717559,630614,661871,572581,472242,479120,125317,103330,71379,239203,81446,474141,32001,175355,466080,299524,28003,61609,405922,72643,323103,288797,419483,127250,434841,358432,138356,415074,548619,329592,197761,400049,25938,137981,40403,142863,178565,364254,246840,90842,126770,31957,516372,29210,286742,192112,241575,390247,169229,64082,312542,275755,434125,37424,279318,51350,189716,35991,32236,33600,211450,42275,224169,50298,85819,150409,95826,235388,66941,113240,125822,182009,40396,94326,115677,102031,181285,47102,59635,39881,36096,112704,226541,47099,214882,233106,39889,125993,109941,96561,98740,110075,143292,31572,40274,31222,174119,171739,87719,34677,71481,88662,140840,551309,29765,95181,99643,66346,35785,569974,439406,58371,287659,250057,272784,371291,247666,49397,204175,94212,411599,190531,228132,80939,334312,311822,38491,500851,315426,524081,369529,138959,520041,583158,293266,41544,286770,227760,255036,339757,250590,82781,72863,354728,474827,732876,206294,500799,294140,379020,83158,65939,67360,70925,67370,224545,62659,198677,169708,451479,376853,266842,115827,658185,337651,240714,243729,508417,91557,490062,188317,172710,256906,259753,187927,186734,131101,102598,364420,90442,73172,269197,64390,171640,165465,107325,27071,80487,488817,359809,195663,237696,152871,124773,236894,87745,27650,166588,93878,32802,121731,73662,184966,26337,30144,45338,166409,40351,43374],\"xaxis\":\"x2\",\"yaxis\":\"y2\",\"type\":\"box\"}],                        {\"template\":{\"data\":{\"histogram2dcontour\":[{\"type\":\"histogram2dcontour\",\"colorbar\":{\"outlinewidth\":0,\"ticks\":\"\"},\"colorscale\":[[0.0,\"#0d0887\"],[0.1111111111111111,\"#46039f\"],[0.2222222222222222,\"#7201a8\"],[0.3333333333333333,\"#9c179e\"],[0.4444444444444444,\"#bd3786\"],[0.5555555555555556,\"#d8576b\"],[0.6666666666666666,\"#ed7953\"],[0.7777777777777778,\"#fb9f3a\"],[0.8888888888888888,\"#fdca26\"],[1.0,\"#f0f921\"]]}],\"choropleth\":[{\"type\":\"choropleth\",\"colorbar\":{\"outlinewidth\":0,\"ticks\":\"\"}}],\"histogram2d\":[{\"type\":\"histogram2d\",\"colorbar\":{\"outlinewidth\":0,\"ticks\":\"\"},\"colorscale\":[[0.0,\"#0d0887\"],[0.1111111111111111,\"#46039f\"],[0.2222222222222222,\"#7201a8\"],[0.3333333333333333,\"#9c179e\"],[0.4444444444444444,\"#bd3786\"],[0.5555555555555556,\"#d8576b\"],[0.6666666666666666,\"#ed7953\"],[0.7777777777777778,\"#fb9f3a\"],[0.8888888888888888,\"#fdca26\"],[1.0,\"#f0f921\"]]}],\"heatmap\":[{\"type\":\"heatmap\",\"colorbar\":{\"outlinewidth\":0,\"ticks\":\"\"},\"colorscale\":[[0.0,\"#0d0887\"],[0.1111111111111111,\"#46039f\"],[0.2222222222222222,\"#7201a8\"],[0.3333333333333333,\"#9c179e\"],[0.4444444444444444,\"#bd3786\"],[0.5555555555555556,\"#d8576b\"],[0.6666666666666666,\"#ed7953\"],[0.7777777777777778,\"#fb9f3a\"],[0.8888888888888888,\"#fdca26\"],[1.0,\"#f0f921\"]]}],\"heatmapgl\":[{\"type\":\"heatmapgl\",\"colorbar\":{\"outlinewidth\":0,\"ticks\":\"\"},\"colorscale\":[[0.0,\"#0d0887\"],[0.1111111111111111,\"#46039f\"],[0.2222222222222222,\"#7201a8\"],[0.3333333333333333,\"#9c179e\"],[0.4444444444444444,\"#bd3786\"],[0.5555555555555556,\"#d8576b\"],[0.6666666666666666,\"#ed7953\"],[0.7777777777777778,\"#fb9f3a\"],[0.8888888888888888,\"#fdca26\"],[1.0,\"#f0f921\"]]}],\"contourcarpet\":[{\"type\":\"contourcarpet\",\"colorbar\":{\"outlinewidth\":0,\"ticks\":\"\"}}],\"contour\":[{\"type\":\"contour\",\"colorbar\":{\"outlinewidth\":0,\"ticks\":\"\"},\"colorscale\":[[0.0,\"#0d0887\"],[0.1111111111111111,\"#46039f\"],[0.2222222222222222,\"#7201a8\"],[0.3333333333333333,\"#9c179e\"],[0.4444444444444444,\"#bd3786\"],[0.5555555555555556,\"#d8576b\"],[0.6666666666666666,\"#ed7953\"],[0.7777777777777778,\"#fb9f3a\"],[0.8888888888888888,\"#fdca26\"],[1.0,\"#f0f921\"]]}],\"surface\":[{\"type\":\"surface\",\"colorbar\":{\"outlinewidth\":0,\"ticks\":\"\"},\"colorscale\":[[0.0,\"#0d0887\"],[0.1111111111111111,\"#46039f\"],[0.2222222222222222,\"#7201a8\"],[0.3333333333333333,\"#9c179e\"],[0.4444444444444444,\"#bd3786\"],[0.5555555555555556,\"#d8576b\"],[0.6666666666666666,\"#ed7953\"],[0.7777777777777778,\"#fb9f3a\"],[0.8888888888888888,\"#fdca26\"],[1.0,\"#f0f921\"]]}],\"mesh3d\":[{\"type\":\"mesh3d\",\"colorbar\":{\"outlinewidth\":0,\"ticks\":\"\"}}],\"scatter\":[{\"fillpattern\":{\"fillmode\":\"overlay\",\"size\":10,\"solidity\":0.2},\"type\":\"scatter\"}],\"parcoords\":[{\"type\":\"parcoords\",\"line\":{\"colorbar\":{\"outlinewidth\":0,\"ticks\":\"\"}}}],\"scatterpolargl\":[{\"type\":\"scatterpolargl\",\"marker\":{\"colorbar\":{\"outlinewidth\":0,\"ticks\":\"\"}}}],\"bar\":[{\"error_x\":{\"color\":\"#2a3f5f\"},\"error_y\":{\"color\":\"#2a3f5f\"},\"marker\":{\"line\":{\"color\":\"#E5ECF6\",\"width\":0.5},\"pattern\":{\"fillmode\":\"overlay\",\"size\":10,\"solidity\":0.2}},\"type\":\"bar\"}],\"scattergeo\":[{\"type\":\"scattergeo\",\"marker\":{\"colorbar\":{\"outlinewidth\":0,\"ticks\":\"\"}}}],\"scatterpolar\":[{\"type\":\"scatterpolar\",\"marker\":{\"colorbar\":{\"outlinewidth\":0,\"ticks\":\"\"}}}],\"histogram\":[{\"marker\":{\"pattern\":{\"fillmode\":\"overlay\",\"size\":10,\"solidity\":0.2}},\"type\":\"histogram\"}],\"scattergl\":[{\"type\":\"scattergl\",\"marker\":{\"colorbar\":{\"outlinewidth\":0,\"ticks\":\"\"}}}],\"scatter3d\":[{\"type\":\"scatter3d\",\"line\":{\"colorbar\":{\"outlinewidth\":0,\"ticks\":\"\"}},\"marker\":{\"colorbar\":{\"outlinewidth\":0,\"ticks\":\"\"}}}],\"scattermapbox\":[{\"type\":\"scattermapbox\",\"marker\":{\"colorbar\":{\"outlinewidth\":0,\"ticks\":\"\"}}}],\"scatterternary\":[{\"type\":\"scatterternary\",\"marker\":{\"colorbar\":{\"outlinewidth\":0,\"ticks\":\"\"}}}],\"scattercarpet\":[{\"type\":\"scattercarpet\",\"marker\":{\"colorbar\":{\"outlinewidth\":0,\"ticks\":\"\"}}}],\"carpet\":[{\"aaxis\":{\"endlinecolor\":\"#2a3f5f\",\"gridcolor\":\"white\",\"linecolor\":\"white\",\"minorgridcolor\":\"white\",\"startlinecolor\":\"#2a3f5f\"},\"baxis\":{\"endlinecolor\":\"#2a3f5f\",\"gridcolor\":\"white\",\"linecolor\":\"white\",\"minorgridcolor\":\"white\",\"startlinecolor\":\"#2a3f5f\"},\"type\":\"carpet\"}],\"table\":[{\"cells\":{\"fill\":{\"color\":\"#EBF0F8\"},\"line\":{\"color\":\"white\"}},\"header\":{\"fill\":{\"color\":\"#C8D4E3\"},\"line\":{\"color\":\"white\"}},\"type\":\"table\"}],\"barpolar\":[{\"marker\":{\"line\":{\"color\":\"#E5ECF6\",\"width\":0.5},\"pattern\":{\"fillmode\":\"overlay\",\"size\":10,\"solidity\":0.2}},\"type\":\"barpolar\"}],\"pie\":[{\"automargin\":true,\"type\":\"pie\"}]},\"layout\":{\"autotypenumbers\":\"strict\",\"colorway\":[\"#636efa\",\"#EF553B\",\"#00cc96\",\"#ab63fa\",\"#FFA15A\",\"#19d3f3\",\"#FF6692\",\"#B6E880\",\"#FF97FF\",\"#FECB52\"],\"font\":{\"color\":\"#2a3f5f\"},\"hovermode\":\"closest\",\"hoverlabel\":{\"align\":\"left\"},\"paper_bgcolor\":\"white\",\"plot_bgcolor\":\"#E5ECF6\",\"polar\":{\"bgcolor\":\"#E5ECF6\",\"angularaxis\":{\"gridcolor\":\"white\",\"linecolor\":\"white\",\"ticks\":\"\"},\"radialaxis\":{\"gridcolor\":\"white\",\"linecolor\":\"white\",\"ticks\":\"\"}},\"ternary\":{\"bgcolor\":\"#E5ECF6\",\"aaxis\":{\"gridcolor\":\"white\",\"linecolor\":\"white\",\"ticks\":\"\"},\"baxis\":{\"gridcolor\":\"white\",\"linecolor\":\"white\",\"ticks\":\"\"},\"caxis\":{\"gridcolor\":\"white\",\"linecolor\":\"white\",\"ticks\":\"\"}},\"coloraxis\":{\"colorbar\":{\"outlinewidth\":0,\"ticks\":\"\"}},\"colorscale\":{\"sequential\":[[0.0,\"#0d0887\"],[0.1111111111111111,\"#46039f\"],[0.2222222222222222,\"#7201a8\"],[0.3333333333333333,\"#9c179e\"],[0.4444444444444444,\"#bd3786\"],[0.5555555555555556,\"#d8576b\"],[0.6666666666666666,\"#ed7953\"],[0.7777777777777778,\"#fb9f3a\"],[0.8888888888888888,\"#fdca26\"],[1.0,\"#f0f921\"]],\"sequentialminus\":[[0.0,\"#0d0887\"],[0.1111111111111111,\"#46039f\"],[0.2222222222222222,\"#7201a8\"],[0.3333333333333333,\"#9c179e\"],[0.4444444444444444,\"#bd3786\"],[0.5555555555555556,\"#d8576b\"],[0.6666666666666666,\"#ed7953\"],[0.7777777777777778,\"#fb9f3a\"],[0.8888888888888888,\"#fdca26\"],[1.0,\"#f0f921\"]],\"diverging\":[[0,\"#8e0152\"],[0.1,\"#c51b7d\"],[0.2,\"#de77ae\"],[0.3,\"#f1b6da\"],[0.4,\"#fde0ef\"],[0.5,\"#f7f7f7\"],[0.6,\"#e6f5d0\"],[0.7,\"#b8e186\"],[0.8,\"#7fbc41\"],[0.9,\"#4d9221\"],[1,\"#276419\"]]},\"xaxis\":{\"gridcolor\":\"white\",\"linecolor\":\"white\",\"ticks\":\"\",\"title\":{\"standoff\":15},\"zerolinecolor\":\"white\",\"automargin\":true,\"zerolinewidth\":2},\"yaxis\":{\"gridcolor\":\"white\",\"linecolor\":\"white\",\"ticks\":\"\",\"title\":{\"standoff\":15},\"zerolinecolor\":\"white\",\"automargin\":true,\"zerolinewidth\":2},\"scene\":{\"xaxis\":{\"backgroundcolor\":\"#E5ECF6\",\"gridcolor\":\"white\",\"linecolor\":\"white\",\"showbackground\":true,\"ticks\":\"\",\"zerolinecolor\":\"white\",\"gridwidth\":2},\"yaxis\":{\"backgroundcolor\":\"#E5ECF6\",\"gridcolor\":\"white\",\"linecolor\":\"white\",\"showbackground\":true,\"ticks\":\"\",\"zerolinecolor\":\"white\",\"gridwidth\":2},\"zaxis\":{\"backgroundcolor\":\"#E5ECF6\",\"gridcolor\":\"white\",\"linecolor\":\"white\",\"showbackground\":true,\"ticks\":\"\",\"zerolinecolor\":\"white\",\"gridwidth\":2}},\"shapedefaults\":{\"line\":{\"color\":\"#2a3f5f\"}},\"annotationdefaults\":{\"arrowcolor\":\"#2a3f5f\",\"arrowhead\":0,\"arrowwidth\":1},\"geo\":{\"bgcolor\":\"white\",\"landcolor\":\"#E5ECF6\",\"subunitcolor\":\"white\",\"showland\":true,\"showlakes\":true,\"lakecolor\":\"white\"},\"title\":{\"x\":0.05},\"mapbox\":{\"style\":\"light\"}}},\"xaxis\":{\"anchor\":\"y\",\"domain\":[0.0,1.0],\"title\":{\"text\":\"N\\u00famero de votos no IMDB\"}},\"yaxis\":{\"anchor\":\"x\",\"domain\":[0.0,0.8316],\"title\":{\"text\":\"Quantidade de Filmes\"}},\"xaxis2\":{\"anchor\":\"y2\",\"domain\":[0.0,1.0],\"matches\":\"x\",\"showticklabels\":false,\"showgrid\":true},\"yaxis2\":{\"anchor\":\"x2\",\"domain\":[0.8416,1.0],\"matches\":\"y2\",\"showticklabels\":false,\"showline\":false,\"ticks\":\"\",\"showgrid\":false},\"legend\":{\"tracegroupgap\":0},\"title\":{\"text\":\"Distribui\\u00e7\\u00e3o do N\\u00famero de Votos nos Filmes\"},\"barmode\":\"relative\"},                        {\"responsive\": true}                    ).then(function(){\n",
       "                            \n",
       "var gd = document.getElementById('8c550560-5d38-47ed-afc7-6c7992b4909e');\n",
       "var x = new MutationObserver(function (mutations, observer) {{\n",
       "        var display = window.getComputedStyle(gd).display;\n",
       "        if (!display || display === 'none') {{\n",
       "            console.log([gd, 'removed!']);\n",
       "            Plotly.purge(gd);\n",
       "            observer.disconnect();\n",
       "        }}\n",
       "}});\n",
       "\n",
       "// Listen for the removal of the full notebook cells\n",
       "var notebookContainer = gd.closest('#notebook-container');\n",
       "if (notebookContainer) {{\n",
       "    x.observe(notebookContainer, {childList: true});\n",
       "}}\n",
       "\n",
       "// Listen for the clearing of the current output cell\n",
       "var outputEl = gd.closest('.output');\n",
       "if (outputEl) {{\n",
       "    x.observe(outputEl, {childList: true});\n",
       "}}\n",
       "\n",
       "                        })                };                });            </script>        </div>"
      ]
     },
     "metadata": {},
     "output_type": "display_data"
    }
   ],
   "source": [
    "votes_hist = px.histogram(\n",
    "    x=df.No_of_Votes, \n",
    "    title=\"Distribuição do Número de Votos nos Filmes\",\n",
    "    marginal=\"box\",\n",
    "    labels={\"x\": \"Número de votos no IMDB\"}\n",
    "    ).update_traces(marker_color=\"DarkSlateGray\").update_layout(yaxis_title=\"Quantidade de Filmes\")\n",
    "votes_hist.show()"
   ]
  },
  {
   "cell_type": "markdown",
   "metadata": {},
   "source": [
    "**Distribuição da Arrecadação**: Para analisar quanto os filmes do Top 1000 arrecadaram, aplicaremos um **Histograma** junto de um **Boxplot**, pois ambos os gráficos auxiliam no entendimento da distribuição em variáveis númericas.\n",
    "\n",
    "Pelos gráficos, é possível notar que mais de 25% dos filmes arrecadaram menos de 20 milhões de dólares e 75% arrecadaram menos de 105 milhões. Enquanto isso, há alguns outliers que conseguiram arrecadar mais de meio bilhão de dólares. É interessante observar que a distribuição do histograma é muito similar ao gráfico do número de votos no IMDB. Isso traz uma evidência inicial de que o número de interações com o filme influencia mais em sua arrecadação do que as notas do IMDB.\n"
   ]
  },
  {
   "cell_type": "code",
   "execution_count": 60,
   "metadata": {},
   "outputs": [
    {
     "data": {
      "application/vnd.plotly.v1+json": {
       "config": {
        "plotlyServerURL": "https://plot.ly"
       },
       "data": [
        {
         "alignmentgroup": "True",
         "bingroup": "x",
         "hovertemplate": "Arrecadação do Filme em Dólares=%{x}<br>count=%{y}<extra></extra>",
         "legendgroup": "",
         "marker": {
          "color": "DarkOliveGreen",
          "pattern": {
           "shape": ""
          }
         },
         "name": "",
         "offsetgroup": "",
         "orientation": "v",
         "showlegend": false,
         "type": "histogram",
         "x": [
          28341469,
          134966411,
          534858444,
          57300000,
          4360000,
          377845905,
          107928762,
          96898818,
          292576195,
          37030102,
          315544750,
          330252182,
          6100000,
          342551365,
          171479930,
          46836394,
          290475067,
          112000000,
          53367844,
          188020017,
          7563397,
          10055859,
          216540909,
          136801374,
          57598247,
          100125643,
          130742922,
          322740140,
          269061,
          335451311,
          13092000,
          13182281,
          53089891,
          132384315,
          32572577,
          187705427,
          6719864,
          23341568,
          19501238,
          422783777,
          204843350,
          11990401,
          210609762,
          5321508,
          32000000,
          1024560,
          163245,
          19181,
          1661096,
          5017246,
          12391761,
          190241310,
          858373000,
          678815482,
          209726015,
          162805434,
          448139099,
          6532908,
          1223869,
          223808164,
          11286112,
          707481,
          25544867,
          2375308,
          5321508,
          248159971,
          44017374,
          83471511,
          78900000,
          275902,
          8175000,
          36764313,
          288475,
          159227644,
          1373943,
          687185,
          7098492,
          6857096,
          120540719,
          34400301,
          33225499,
          30328156,
          3635482,
          130096601,
          138433435,
          933933,
          191796233,
          75600000,
          2832029,
          46357676,
          85160248,
          51973029,
          45598982,
          309125409,
          11487676,
          28262574,
          159600000,
          6207725,
          56954992,
          15000000,
          44824144,
          18600000,
          13275000,
          3200000,
          8819028,
          5720000,
          1585634,
          28877,
          5450000,
          898575,
          4186168,
          85080171,
          54513740,
          342370,
          20186659,
          739478,
          1429534,
          1626289,
          7461,
          39567,
          6391436,
          13657115,
          128012934,
          293004164,
          116900694,
          1113541,
          40222514,
          37634615,
          415004880,
          70511035,
          2197331,
          733094,
          206852432,
          1223240,
          5509040,
          4711096,
          170742341,
          3897569,
          64616940,
          67436818,
          42438300,
          101157447,
          197171806,
          280015,
          1105564,
          83008852,
          4135750,
          23383987,
          234723,
          1229197,
          12100000,
          25000000,
          12562,
          10177,
          5014000,
          5450000,
          977375,
          3759854,
          1241223,
          2006788,
          3492754,
          901610,
          226277068,
          14677674,
          3107072,
          10616104,
          923221,
          59100318,
          167767189,
          67209615,
          356461711,
          2804874,
          56671993,
          26947624,
          117624028,
          45055776,
          857524,
          1035953,
          3108485,
          61002302,
          154058340,
          148095302,
          381011219,
          1498210,
          217581231,
          18354356,
          74283625,
          2217561,
          100492203,
          23530892,
          1111061,
          5820649,
          14131,
          300000,
          70099045,
          380843261,
          164615351,
          5383834,
          289916256,
          70147,
          293506292,
          259127,
          125618201,
          348660,
          17498804,
          2734044,
          16501785,
          24611975,
          309811,
          5535405,
          4043686,
          600200,
          402453882,
          25010410,
          5216888,
          2603061,
          95860116,
          52287414,
          138530565,
          2181987,
          495770,
          13782838,
          22244207,
          4971340,
          32868943,
          20045115,
          48979328,
          117235247,
          177345,
          29000000,
          30933743,
          1742348,
          39481,
          16217773,
          102021,
          4050000,
          1526000,
          74700000,
          44908000,
          9600000,
          3969893,
          449191,
          4360000,
          9600000,
          198676459,
          4360000,
          21877,
          539540,
          1033895,
          8178001,
          151101803,
          51739495,
          228433663,
          341268248,
          6738000,
          1506975,
          132422809,
          5566534,
          1079369,
          1010414,
          2625803,
          91125683,
          333176600,
          92054159,
          25568251,
          216428042,
          183637894,
          17738570,
          138797449,
          169708112,
          363070709,
          106662,
          10950,
          4018695,
          141319928,
          106954678,
          8060,
          623279547,
          4445756,
          27298285,
          163566459,
          57366262,
          227471070,
          238507,
          74103820,
          5990075,
          206445654,
          167445960,
          66208183,
          2380788,
          2086345,
          61649911,
          1787378,
          169659,
          305413918,
          66257002,
          261441092,
          1530386,
          1480006,
          22455976,
          4184036,
          6203044,
          776665,
          1647780,
          5595428,
          23159305,
          24475416,
          13417292,
          57141459,
          515905,
          75082668,
          70906973,
          4496583,
          63895607,
          217350219,
          70405498,
          218967620,
          184208848,
          27545445,
          178800000,
          553171,
          30857814,
          3333969,
          4542825,
          38400000,
          52767889,
          30177511,
          39200000,
          260000000,
          50000000,
          86300000,
          53267000,
          232906145,
          4081254,
          29133000,
          80500000,
          541940,
          102308889,
          33395426,
          104945305,
          163214286,
          111722000,
          14500000,
          8284000,
          19516000,
          12535000,
          2237659,
          17570324,
          8000000,
          4360000,
          23650000,
          55000,
          2076020,
          3270000,
          165359751,
          3313513,
          2000000,
          18095701,
          258168,
          32015231,
          5202582,
          5875006,
          3237118,
          315058289,
          32381218,
          349555,
          100546139,
          936662225,
          8114627,
          233921534,
          44671682,
          100206256,
          6739492,
          7000000,
          2084637,
          5009677,
          2122065,
          115646235,
          26236603,
          410800,
          25379975,
          257730019,
          7757130,
          13756082,
          2280348,
          124987023,
          21002919,
          3635164,
          318412101,
          13542874,
          90135191,
          249358727,
          53710019,
          9284265,
          1059830,
          1000045,
          121661683,
          1221261,
          35552383,
          32534850,
          7220243,
          245852179,
          26400640,
          2201126,
          12281500,
          1324974,
          36948322,
          56362352,
          14743391,
          18254702,
          76270454,
          40084041,
          9929135,
          188751,
          20605209,
          57229890,
          45700000,
          37823676,
          5100000,
          70600000,
          61001,
          198809,
          61700000,
          12064472,
          22276975,
          24379978,
          13474588,
          30000000,
          93740000,
          9450000,
          7630000,
          10464000,
          6540000,
          9460000,
          296000,
          3981000,
          2537520,
          10000000,
          2402067,
          188373161,
          169607287,
          40442052,
          48023088,
          1782795,
          47695120,
          435266,
          532177324,
          408084349,
          54117416,
          108101214,
          6735118,
          1330596,
          4231500,
          169209,
          222527828,
          15322921,
          1670773,
          5209580,
          434038008,
          85433,
          45512466,
          177002924,
          70259870,
          102515793,
          107100855,
          6460,
          161197785,
          547292,
          258366855,
          2222647,
          10095170,
          93617009,
          145000989,
          9030581,
          9439923,
          303003568,
          50927067,
          35061555,
          130164645,
          760507625,
          3600,
          50866635,
          59891098,
          23637265,
          127509326,
          2921738,
          1305,
          38405088,
          5128124,
          128985,
          25514517,
          119519402,
          81001787,
          16756372,
          181655,
          7002255,
          54234062,
          2892011,
          115654751,
          128078872,
          8264530,
          233632142,
          25812,
          28965197,
          32481825,
          267665011,
          659325379,
          12339633,
          48323648,
          4040691,
          5887457,
          9170214,
          56505065,
          32416586,
          22954968,
          183875760,
          17266971,
          5617391,
          2015810,
          1999955,
          57504069,
          61276872,
          52096475,
          26830000,
          118500000,
          34603943,
          59735548,
          5923044,
          70136369,
          1436000,
          61503218,
          98467863,
          45875171,
          34700291,
          238632124,
          21500000,
          2500000,
          435110554,
          106260000,
          31800000,
          4420000,
          193817,
          16056255,
          42765000,
          4000000,
          44785053,
          72000000,
          102272727,
          39100000,
          2616000,
          336705,
          324591735,
          33800859,
          176040665,
          220159104,
          3358518,
          3333000,
          765127,
          35893537,
          128261724,
          124872350,
          6743776,
          42340598,
          2199675,
          1122527,
          259766572,
          985912,
          17654912,
          189422889,
          1339152,
          56816662,
          257760692,
          274092705,
          228778661,
          96962694,
          146408305,
          277322503,
          304360277,
          132092958,
          136025503,
          32391374,
          295983305,
          15090400,
          18593156,
          881302,
          35739802,
          1752214,
          25442958,
          412544,
          17605861,
          33080084,
          22494487,
          1054361,
          871577,
          200821936,
          4398392,
          83043761,
          53606916,
          54580300,
          17108591,
          176241941,
          1082715,
          75331600,
          44585453,
          290013036,
          77911774,
          75286229,
          111110575,
          4890878,
          4064200,
          15539266,
          40311852,
          22245861,
          108638745,
          104454762,
          141072,
          21995263,
          3029081,
          183417150,
          151086,
          45512588,
          52037603,
          10824921,
          76631907,
          17105219,
          368234,
          22858926,
          148478011,
          63540020,
          4065116,
          41909762,
          35811509,
          56116183,
          4414535,
          10019307,
          21848932,
          3151130,
          6110979,
          77324422,
          27281507,
          48169908,
          75505856,
          10725228,
          141340178,
          82418501,
          6153939,
          5080409,
          156452370,
          1544889,
          43984230,
          22238696,
          7153487,
          8551228,
          10631333,
          10600000,
          11798616,
          54000000,
          78912963,
          47212904,
          54800000,
          83400000,
          47000000,
          1924733,
          119500000,
          29800000,
          25000000,
          7056013,
          15630710,
          35900000,
          44527234,
          26331,
          28350000,
          51081062,
          11403529,
          4905000,
          10550000,
          536118,
          76408097,
          26020957,
          142502728,
          566356,
          5904366,
          24801212,
          13122642,
          845464,
          389813101,
          107825862,
          18340051,
          72313754,
          608581744,
          248757044,
          46889293,
          109767581,
          1092800,
          26862450,
          37707719,
          208545589,
          4105123,
          41003371,
          19202743,
          215288866,
          171243005,
          1008098,
          251513985,
          35014192,
          48071303,
          75605492,
          3185812,
          75590286,
          209028679,
          255959475,
          9422422,
          69951824,
          17114882,
          38634938,
          88513495,
          20300218,
          10301706,
          24633730,
          39868642,
          301959197,
          210614939,
          23089926,
          107509799,
          24149632,
          56000369,
          3081925,
          697181,
          548707,
          6167817,
          5739376,
          16290476,
          45289,
          51680613,
          13060843,
          57938693,
          45064915,
          52364010,
          13622333,
          317575550,
          96522687,
          52990775,
          51401758,
          132072926,
          50668906,
          15070285,
          7267585,
          36400491,
          120620254,
          10680275,
          14378331,
          49100000,
          3796699,
          43182776,
          100012499,
          1037847,
          71516617,
          173837933,
          1464625,
          40903593,
          7993039,
          52929168,
          453243,
          1794187,
          285761243,
          66666062,
          92823600,
          111543479,
          78756177,
          49530280,
          65207127,
          2150000,
          119285432,
          12465371,
          22490039,
          76657000,
          43000000,
          35000000,
          132088635,
          959000,
          696690,
          1378435,
          141843612,
          13780024,
          30500000
         ],
         "xaxis": "x",
         "yaxis": "y"
        },
        {
         "alignmentgroup": "True",
         "hovertemplate": "Arrecadação do Filme em Dólares=%{x}<extra></extra>",
         "legendgroup": "",
         "marker": {
          "color": "DarkOliveGreen"
         },
         "name": "",
         "notched": true,
         "offsetgroup": "",
         "showlegend": false,
         "type": "box",
         "x": [
          28341469,
          134966411,
          534858444,
          57300000,
          4360000,
          377845905,
          107928762,
          96898818,
          292576195,
          37030102,
          315544750,
          330252182,
          6100000,
          342551365,
          171479930,
          46836394,
          290475067,
          112000000,
          53367844,
          188020017,
          7563397,
          10055859,
          216540909,
          136801374,
          57598247,
          100125643,
          130742922,
          322740140,
          269061,
          335451311,
          13092000,
          13182281,
          53089891,
          132384315,
          32572577,
          187705427,
          6719864,
          23341568,
          19501238,
          422783777,
          204843350,
          11990401,
          210609762,
          5321508,
          32000000,
          1024560,
          163245,
          19181,
          1661096,
          5017246,
          12391761,
          190241310,
          858373000,
          678815482,
          209726015,
          162805434,
          448139099,
          6532908,
          1223869,
          223808164,
          11286112,
          707481,
          25544867,
          2375308,
          5321508,
          248159971,
          44017374,
          83471511,
          78900000,
          275902,
          8175000,
          36764313,
          288475,
          159227644,
          1373943,
          687185,
          7098492,
          6857096,
          120540719,
          34400301,
          33225499,
          30328156,
          3635482,
          130096601,
          138433435,
          933933,
          191796233,
          75600000,
          2832029,
          46357676,
          85160248,
          51973029,
          45598982,
          309125409,
          11487676,
          28262574,
          159600000,
          6207725,
          56954992,
          15000000,
          44824144,
          18600000,
          13275000,
          3200000,
          8819028,
          5720000,
          1585634,
          28877,
          5450000,
          898575,
          4186168,
          85080171,
          54513740,
          342370,
          20186659,
          739478,
          1429534,
          1626289,
          7461,
          39567,
          6391436,
          13657115,
          128012934,
          293004164,
          116900694,
          1113541,
          40222514,
          37634615,
          415004880,
          70511035,
          2197331,
          733094,
          206852432,
          1223240,
          5509040,
          4711096,
          170742341,
          3897569,
          64616940,
          67436818,
          42438300,
          101157447,
          197171806,
          280015,
          1105564,
          83008852,
          4135750,
          23383987,
          234723,
          1229197,
          12100000,
          25000000,
          12562,
          10177,
          5014000,
          5450000,
          977375,
          3759854,
          1241223,
          2006788,
          3492754,
          901610,
          226277068,
          14677674,
          3107072,
          10616104,
          923221,
          59100318,
          167767189,
          67209615,
          356461711,
          2804874,
          56671993,
          26947624,
          117624028,
          45055776,
          857524,
          1035953,
          3108485,
          61002302,
          154058340,
          148095302,
          381011219,
          1498210,
          217581231,
          18354356,
          74283625,
          2217561,
          100492203,
          23530892,
          1111061,
          5820649,
          14131,
          300000,
          70099045,
          380843261,
          164615351,
          5383834,
          289916256,
          70147,
          293506292,
          259127,
          125618201,
          348660,
          17498804,
          2734044,
          16501785,
          24611975,
          309811,
          5535405,
          4043686,
          600200,
          402453882,
          25010410,
          5216888,
          2603061,
          95860116,
          52287414,
          138530565,
          2181987,
          495770,
          13782838,
          22244207,
          4971340,
          32868943,
          20045115,
          48979328,
          117235247,
          177345,
          29000000,
          30933743,
          1742348,
          39481,
          16217773,
          102021,
          4050000,
          1526000,
          74700000,
          44908000,
          9600000,
          3969893,
          449191,
          4360000,
          9600000,
          198676459,
          4360000,
          21877,
          539540,
          1033895,
          8178001,
          151101803,
          51739495,
          228433663,
          341268248,
          6738000,
          1506975,
          132422809,
          5566534,
          1079369,
          1010414,
          2625803,
          91125683,
          333176600,
          92054159,
          25568251,
          216428042,
          183637894,
          17738570,
          138797449,
          169708112,
          363070709,
          106662,
          10950,
          4018695,
          141319928,
          106954678,
          8060,
          623279547,
          4445756,
          27298285,
          163566459,
          57366262,
          227471070,
          238507,
          74103820,
          5990075,
          206445654,
          167445960,
          66208183,
          2380788,
          2086345,
          61649911,
          1787378,
          169659,
          305413918,
          66257002,
          261441092,
          1530386,
          1480006,
          22455976,
          4184036,
          6203044,
          776665,
          1647780,
          5595428,
          23159305,
          24475416,
          13417292,
          57141459,
          515905,
          75082668,
          70906973,
          4496583,
          63895607,
          217350219,
          70405498,
          218967620,
          184208848,
          27545445,
          178800000,
          553171,
          30857814,
          3333969,
          4542825,
          38400000,
          52767889,
          30177511,
          39200000,
          260000000,
          50000000,
          86300000,
          53267000,
          232906145,
          4081254,
          29133000,
          80500000,
          541940,
          102308889,
          33395426,
          104945305,
          163214286,
          111722000,
          14500000,
          8284000,
          19516000,
          12535000,
          2237659,
          17570324,
          8000000,
          4360000,
          23650000,
          55000,
          2076020,
          3270000,
          165359751,
          3313513,
          2000000,
          18095701,
          258168,
          32015231,
          5202582,
          5875006,
          3237118,
          315058289,
          32381218,
          349555,
          100546139,
          936662225,
          8114627,
          233921534,
          44671682,
          100206256,
          6739492,
          7000000,
          2084637,
          5009677,
          2122065,
          115646235,
          26236603,
          410800,
          25379975,
          257730019,
          7757130,
          13756082,
          2280348,
          124987023,
          21002919,
          3635164,
          318412101,
          13542874,
          90135191,
          249358727,
          53710019,
          9284265,
          1059830,
          1000045,
          121661683,
          1221261,
          35552383,
          32534850,
          7220243,
          245852179,
          26400640,
          2201126,
          12281500,
          1324974,
          36948322,
          56362352,
          14743391,
          18254702,
          76270454,
          40084041,
          9929135,
          188751,
          20605209,
          57229890,
          45700000,
          37823676,
          5100000,
          70600000,
          61001,
          198809,
          61700000,
          12064472,
          22276975,
          24379978,
          13474588,
          30000000,
          93740000,
          9450000,
          7630000,
          10464000,
          6540000,
          9460000,
          296000,
          3981000,
          2537520,
          10000000,
          2402067,
          188373161,
          169607287,
          40442052,
          48023088,
          1782795,
          47695120,
          435266,
          532177324,
          408084349,
          54117416,
          108101214,
          6735118,
          1330596,
          4231500,
          169209,
          222527828,
          15322921,
          1670773,
          5209580,
          434038008,
          85433,
          45512466,
          177002924,
          70259870,
          102515793,
          107100855,
          6460,
          161197785,
          547292,
          258366855,
          2222647,
          10095170,
          93617009,
          145000989,
          9030581,
          9439923,
          303003568,
          50927067,
          35061555,
          130164645,
          760507625,
          3600,
          50866635,
          59891098,
          23637265,
          127509326,
          2921738,
          1305,
          38405088,
          5128124,
          128985,
          25514517,
          119519402,
          81001787,
          16756372,
          181655,
          7002255,
          54234062,
          2892011,
          115654751,
          128078872,
          8264530,
          233632142,
          25812,
          28965197,
          32481825,
          267665011,
          659325379,
          12339633,
          48323648,
          4040691,
          5887457,
          9170214,
          56505065,
          32416586,
          22954968,
          183875760,
          17266971,
          5617391,
          2015810,
          1999955,
          57504069,
          61276872,
          52096475,
          26830000,
          118500000,
          34603943,
          59735548,
          5923044,
          70136369,
          1436000,
          61503218,
          98467863,
          45875171,
          34700291,
          238632124,
          21500000,
          2500000,
          435110554,
          106260000,
          31800000,
          4420000,
          193817,
          16056255,
          42765000,
          4000000,
          44785053,
          72000000,
          102272727,
          39100000,
          2616000,
          336705,
          324591735,
          33800859,
          176040665,
          220159104,
          3358518,
          3333000,
          765127,
          35893537,
          128261724,
          124872350,
          6743776,
          42340598,
          2199675,
          1122527,
          259766572,
          985912,
          17654912,
          189422889,
          1339152,
          56816662,
          257760692,
          274092705,
          228778661,
          96962694,
          146408305,
          277322503,
          304360277,
          132092958,
          136025503,
          32391374,
          295983305,
          15090400,
          18593156,
          881302,
          35739802,
          1752214,
          25442958,
          412544,
          17605861,
          33080084,
          22494487,
          1054361,
          871577,
          200821936,
          4398392,
          83043761,
          53606916,
          54580300,
          17108591,
          176241941,
          1082715,
          75331600,
          44585453,
          290013036,
          77911774,
          75286229,
          111110575,
          4890878,
          4064200,
          15539266,
          40311852,
          22245861,
          108638745,
          104454762,
          141072,
          21995263,
          3029081,
          183417150,
          151086,
          45512588,
          52037603,
          10824921,
          76631907,
          17105219,
          368234,
          22858926,
          148478011,
          63540020,
          4065116,
          41909762,
          35811509,
          56116183,
          4414535,
          10019307,
          21848932,
          3151130,
          6110979,
          77324422,
          27281507,
          48169908,
          75505856,
          10725228,
          141340178,
          82418501,
          6153939,
          5080409,
          156452370,
          1544889,
          43984230,
          22238696,
          7153487,
          8551228,
          10631333,
          10600000,
          11798616,
          54000000,
          78912963,
          47212904,
          54800000,
          83400000,
          47000000,
          1924733,
          119500000,
          29800000,
          25000000,
          7056013,
          15630710,
          35900000,
          44527234,
          26331,
          28350000,
          51081062,
          11403529,
          4905000,
          10550000,
          536118,
          76408097,
          26020957,
          142502728,
          566356,
          5904366,
          24801212,
          13122642,
          845464,
          389813101,
          107825862,
          18340051,
          72313754,
          608581744,
          248757044,
          46889293,
          109767581,
          1092800,
          26862450,
          37707719,
          208545589,
          4105123,
          41003371,
          19202743,
          215288866,
          171243005,
          1008098,
          251513985,
          35014192,
          48071303,
          75605492,
          3185812,
          75590286,
          209028679,
          255959475,
          9422422,
          69951824,
          17114882,
          38634938,
          88513495,
          20300218,
          10301706,
          24633730,
          39868642,
          301959197,
          210614939,
          23089926,
          107509799,
          24149632,
          56000369,
          3081925,
          697181,
          548707,
          6167817,
          5739376,
          16290476,
          45289,
          51680613,
          13060843,
          57938693,
          45064915,
          52364010,
          13622333,
          317575550,
          96522687,
          52990775,
          51401758,
          132072926,
          50668906,
          15070285,
          7267585,
          36400491,
          120620254,
          10680275,
          14378331,
          49100000,
          3796699,
          43182776,
          100012499,
          1037847,
          71516617,
          173837933,
          1464625,
          40903593,
          7993039,
          52929168,
          453243,
          1794187,
          285761243,
          66666062,
          92823600,
          111543479,
          78756177,
          49530280,
          65207127,
          2150000,
          119285432,
          12465371,
          22490039,
          76657000,
          43000000,
          35000000,
          132088635,
          959000,
          696690,
          1378435,
          141843612,
          13780024,
          30500000
         ],
         "xaxis": "x2",
         "yaxis": "y2"
        }
       ],
       "layout": {
        "barmode": "relative",
        "legend": {
         "tracegroupgap": 0
        },
        "template": {
         "data": {
          "bar": [
           {
            "error_x": {
             "color": "#2a3f5f"
            },
            "error_y": {
             "color": "#2a3f5f"
            },
            "marker": {
             "line": {
              "color": "#E5ECF6",
              "width": 0.5
             },
             "pattern": {
              "fillmode": "overlay",
              "size": 10,
              "solidity": 0.2
             }
            },
            "type": "bar"
           }
          ],
          "barpolar": [
           {
            "marker": {
             "line": {
              "color": "#E5ECF6",
              "width": 0.5
             },
             "pattern": {
              "fillmode": "overlay",
              "size": 10,
              "solidity": 0.2
             }
            },
            "type": "barpolar"
           }
          ],
          "carpet": [
           {
            "aaxis": {
             "endlinecolor": "#2a3f5f",
             "gridcolor": "white",
             "linecolor": "white",
             "minorgridcolor": "white",
             "startlinecolor": "#2a3f5f"
            },
            "baxis": {
             "endlinecolor": "#2a3f5f",
             "gridcolor": "white",
             "linecolor": "white",
             "minorgridcolor": "white",
             "startlinecolor": "#2a3f5f"
            },
            "type": "carpet"
           }
          ],
          "choropleth": [
           {
            "colorbar": {
             "outlinewidth": 0,
             "ticks": ""
            },
            "type": "choropleth"
           }
          ],
          "contour": [
           {
            "colorbar": {
             "outlinewidth": 0,
             "ticks": ""
            },
            "colorscale": [
             [
              0,
              "#0d0887"
             ],
             [
              0.1111111111111111,
              "#46039f"
             ],
             [
              0.2222222222222222,
              "#7201a8"
             ],
             [
              0.3333333333333333,
              "#9c179e"
             ],
             [
              0.4444444444444444,
              "#bd3786"
             ],
             [
              0.5555555555555556,
              "#d8576b"
             ],
             [
              0.6666666666666666,
              "#ed7953"
             ],
             [
              0.7777777777777778,
              "#fb9f3a"
             ],
             [
              0.8888888888888888,
              "#fdca26"
             ],
             [
              1,
              "#f0f921"
             ]
            ],
            "type": "contour"
           }
          ],
          "contourcarpet": [
           {
            "colorbar": {
             "outlinewidth": 0,
             "ticks": ""
            },
            "type": "contourcarpet"
           }
          ],
          "heatmap": [
           {
            "colorbar": {
             "outlinewidth": 0,
             "ticks": ""
            },
            "colorscale": [
             [
              0,
              "#0d0887"
             ],
             [
              0.1111111111111111,
              "#46039f"
             ],
             [
              0.2222222222222222,
              "#7201a8"
             ],
             [
              0.3333333333333333,
              "#9c179e"
             ],
             [
              0.4444444444444444,
              "#bd3786"
             ],
             [
              0.5555555555555556,
              "#d8576b"
             ],
             [
              0.6666666666666666,
              "#ed7953"
             ],
             [
              0.7777777777777778,
              "#fb9f3a"
             ],
             [
              0.8888888888888888,
              "#fdca26"
             ],
             [
              1,
              "#f0f921"
             ]
            ],
            "type": "heatmap"
           }
          ],
          "heatmapgl": [
           {
            "colorbar": {
             "outlinewidth": 0,
             "ticks": ""
            },
            "colorscale": [
             [
              0,
              "#0d0887"
             ],
             [
              0.1111111111111111,
              "#46039f"
             ],
             [
              0.2222222222222222,
              "#7201a8"
             ],
             [
              0.3333333333333333,
              "#9c179e"
             ],
             [
              0.4444444444444444,
              "#bd3786"
             ],
             [
              0.5555555555555556,
              "#d8576b"
             ],
             [
              0.6666666666666666,
              "#ed7953"
             ],
             [
              0.7777777777777778,
              "#fb9f3a"
             ],
             [
              0.8888888888888888,
              "#fdca26"
             ],
             [
              1,
              "#f0f921"
             ]
            ],
            "type": "heatmapgl"
           }
          ],
          "histogram": [
           {
            "marker": {
             "pattern": {
              "fillmode": "overlay",
              "size": 10,
              "solidity": 0.2
             }
            },
            "type": "histogram"
           }
          ],
          "histogram2d": [
           {
            "colorbar": {
             "outlinewidth": 0,
             "ticks": ""
            },
            "colorscale": [
             [
              0,
              "#0d0887"
             ],
             [
              0.1111111111111111,
              "#46039f"
             ],
             [
              0.2222222222222222,
              "#7201a8"
             ],
             [
              0.3333333333333333,
              "#9c179e"
             ],
             [
              0.4444444444444444,
              "#bd3786"
             ],
             [
              0.5555555555555556,
              "#d8576b"
             ],
             [
              0.6666666666666666,
              "#ed7953"
             ],
             [
              0.7777777777777778,
              "#fb9f3a"
             ],
             [
              0.8888888888888888,
              "#fdca26"
             ],
             [
              1,
              "#f0f921"
             ]
            ],
            "type": "histogram2d"
           }
          ],
          "histogram2dcontour": [
           {
            "colorbar": {
             "outlinewidth": 0,
             "ticks": ""
            },
            "colorscale": [
             [
              0,
              "#0d0887"
             ],
             [
              0.1111111111111111,
              "#46039f"
             ],
             [
              0.2222222222222222,
              "#7201a8"
             ],
             [
              0.3333333333333333,
              "#9c179e"
             ],
             [
              0.4444444444444444,
              "#bd3786"
             ],
             [
              0.5555555555555556,
              "#d8576b"
             ],
             [
              0.6666666666666666,
              "#ed7953"
             ],
             [
              0.7777777777777778,
              "#fb9f3a"
             ],
             [
              0.8888888888888888,
              "#fdca26"
             ],
             [
              1,
              "#f0f921"
             ]
            ],
            "type": "histogram2dcontour"
           }
          ],
          "mesh3d": [
           {
            "colorbar": {
             "outlinewidth": 0,
             "ticks": ""
            },
            "type": "mesh3d"
           }
          ],
          "parcoords": [
           {
            "line": {
             "colorbar": {
              "outlinewidth": 0,
              "ticks": ""
             }
            },
            "type": "parcoords"
           }
          ],
          "pie": [
           {
            "automargin": true,
            "type": "pie"
           }
          ],
          "scatter": [
           {
            "fillpattern": {
             "fillmode": "overlay",
             "size": 10,
             "solidity": 0.2
            },
            "type": "scatter"
           }
          ],
          "scatter3d": [
           {
            "line": {
             "colorbar": {
              "outlinewidth": 0,
              "ticks": ""
             }
            },
            "marker": {
             "colorbar": {
              "outlinewidth": 0,
              "ticks": ""
             }
            },
            "type": "scatter3d"
           }
          ],
          "scattercarpet": [
           {
            "marker": {
             "colorbar": {
              "outlinewidth": 0,
              "ticks": ""
             }
            },
            "type": "scattercarpet"
           }
          ],
          "scattergeo": [
           {
            "marker": {
             "colorbar": {
              "outlinewidth": 0,
              "ticks": ""
             }
            },
            "type": "scattergeo"
           }
          ],
          "scattergl": [
           {
            "marker": {
             "colorbar": {
              "outlinewidth": 0,
              "ticks": ""
             }
            },
            "type": "scattergl"
           }
          ],
          "scattermapbox": [
           {
            "marker": {
             "colorbar": {
              "outlinewidth": 0,
              "ticks": ""
             }
            },
            "type": "scattermapbox"
           }
          ],
          "scatterpolar": [
           {
            "marker": {
             "colorbar": {
              "outlinewidth": 0,
              "ticks": ""
             }
            },
            "type": "scatterpolar"
           }
          ],
          "scatterpolargl": [
           {
            "marker": {
             "colorbar": {
              "outlinewidth": 0,
              "ticks": ""
             }
            },
            "type": "scatterpolargl"
           }
          ],
          "scatterternary": [
           {
            "marker": {
             "colorbar": {
              "outlinewidth": 0,
              "ticks": ""
             }
            },
            "type": "scatterternary"
           }
          ],
          "surface": [
           {
            "colorbar": {
             "outlinewidth": 0,
             "ticks": ""
            },
            "colorscale": [
             [
              0,
              "#0d0887"
             ],
             [
              0.1111111111111111,
              "#46039f"
             ],
             [
              0.2222222222222222,
              "#7201a8"
             ],
             [
              0.3333333333333333,
              "#9c179e"
             ],
             [
              0.4444444444444444,
              "#bd3786"
             ],
             [
              0.5555555555555556,
              "#d8576b"
             ],
             [
              0.6666666666666666,
              "#ed7953"
             ],
             [
              0.7777777777777778,
              "#fb9f3a"
             ],
             [
              0.8888888888888888,
              "#fdca26"
             ],
             [
              1,
              "#f0f921"
             ]
            ],
            "type": "surface"
           }
          ],
          "table": [
           {
            "cells": {
             "fill": {
              "color": "#EBF0F8"
             },
             "line": {
              "color": "white"
             }
            },
            "header": {
             "fill": {
              "color": "#C8D4E3"
             },
             "line": {
              "color": "white"
             }
            },
            "type": "table"
           }
          ]
         },
         "layout": {
          "annotationdefaults": {
           "arrowcolor": "#2a3f5f",
           "arrowhead": 0,
           "arrowwidth": 1
          },
          "autotypenumbers": "strict",
          "coloraxis": {
           "colorbar": {
            "outlinewidth": 0,
            "ticks": ""
           }
          },
          "colorscale": {
           "diverging": [
            [
             0,
             "#8e0152"
            ],
            [
             0.1,
             "#c51b7d"
            ],
            [
             0.2,
             "#de77ae"
            ],
            [
             0.3,
             "#f1b6da"
            ],
            [
             0.4,
             "#fde0ef"
            ],
            [
             0.5,
             "#f7f7f7"
            ],
            [
             0.6,
             "#e6f5d0"
            ],
            [
             0.7,
             "#b8e186"
            ],
            [
             0.8,
             "#7fbc41"
            ],
            [
             0.9,
             "#4d9221"
            ],
            [
             1,
             "#276419"
            ]
           ],
           "sequential": [
            [
             0,
             "#0d0887"
            ],
            [
             0.1111111111111111,
             "#46039f"
            ],
            [
             0.2222222222222222,
             "#7201a8"
            ],
            [
             0.3333333333333333,
             "#9c179e"
            ],
            [
             0.4444444444444444,
             "#bd3786"
            ],
            [
             0.5555555555555556,
             "#d8576b"
            ],
            [
             0.6666666666666666,
             "#ed7953"
            ],
            [
             0.7777777777777778,
             "#fb9f3a"
            ],
            [
             0.8888888888888888,
             "#fdca26"
            ],
            [
             1,
             "#f0f921"
            ]
           ],
           "sequentialminus": [
            [
             0,
             "#0d0887"
            ],
            [
             0.1111111111111111,
             "#46039f"
            ],
            [
             0.2222222222222222,
             "#7201a8"
            ],
            [
             0.3333333333333333,
             "#9c179e"
            ],
            [
             0.4444444444444444,
             "#bd3786"
            ],
            [
             0.5555555555555556,
             "#d8576b"
            ],
            [
             0.6666666666666666,
             "#ed7953"
            ],
            [
             0.7777777777777778,
             "#fb9f3a"
            ],
            [
             0.8888888888888888,
             "#fdca26"
            ],
            [
             1,
             "#f0f921"
            ]
           ]
          },
          "colorway": [
           "#636efa",
           "#EF553B",
           "#00cc96",
           "#ab63fa",
           "#FFA15A",
           "#19d3f3",
           "#FF6692",
           "#B6E880",
           "#FF97FF",
           "#FECB52"
          ],
          "font": {
           "color": "#2a3f5f"
          },
          "geo": {
           "bgcolor": "white",
           "lakecolor": "white",
           "landcolor": "#E5ECF6",
           "showlakes": true,
           "showland": true,
           "subunitcolor": "white"
          },
          "hoverlabel": {
           "align": "left"
          },
          "hovermode": "closest",
          "mapbox": {
           "style": "light"
          },
          "paper_bgcolor": "white",
          "plot_bgcolor": "#E5ECF6",
          "polar": {
           "angularaxis": {
            "gridcolor": "white",
            "linecolor": "white",
            "ticks": ""
           },
           "bgcolor": "#E5ECF6",
           "radialaxis": {
            "gridcolor": "white",
            "linecolor": "white",
            "ticks": ""
           }
          },
          "scene": {
           "xaxis": {
            "backgroundcolor": "#E5ECF6",
            "gridcolor": "white",
            "gridwidth": 2,
            "linecolor": "white",
            "showbackground": true,
            "ticks": "",
            "zerolinecolor": "white"
           },
           "yaxis": {
            "backgroundcolor": "#E5ECF6",
            "gridcolor": "white",
            "gridwidth": 2,
            "linecolor": "white",
            "showbackground": true,
            "ticks": "",
            "zerolinecolor": "white"
           },
           "zaxis": {
            "backgroundcolor": "#E5ECF6",
            "gridcolor": "white",
            "gridwidth": 2,
            "linecolor": "white",
            "showbackground": true,
            "ticks": "",
            "zerolinecolor": "white"
           }
          },
          "shapedefaults": {
           "line": {
            "color": "#2a3f5f"
           }
          },
          "ternary": {
           "aaxis": {
            "gridcolor": "white",
            "linecolor": "white",
            "ticks": ""
           },
           "baxis": {
            "gridcolor": "white",
            "linecolor": "white",
            "ticks": ""
           },
           "bgcolor": "#E5ECF6",
           "caxis": {
            "gridcolor": "white",
            "linecolor": "white",
            "ticks": ""
           }
          },
          "title": {
           "x": 0.05
          },
          "xaxis": {
           "automargin": true,
           "gridcolor": "white",
           "linecolor": "white",
           "ticks": "",
           "title": {
            "standoff": 15
           },
           "zerolinecolor": "white",
           "zerolinewidth": 2
          },
          "yaxis": {
           "automargin": true,
           "gridcolor": "white",
           "linecolor": "white",
           "ticks": "",
           "title": {
            "standoff": 15
           },
           "zerolinecolor": "white",
           "zerolinewidth": 2
          }
         }
        },
        "title": {
         "text": "Distribuição da Arrecadação dos Filmes"
        },
        "xaxis": {
         "anchor": "y",
         "domain": [
          0,
          1
         ],
         "title": {
          "text": "Arrecadação do Filme em Dólares"
         }
        },
        "xaxis2": {
         "anchor": "y2",
         "domain": [
          0,
          1
         ],
         "matches": "x",
         "showgrid": true,
         "showticklabels": false
        },
        "yaxis": {
         "anchor": "x",
         "domain": [
          0,
          0.8316
         ],
         "title": {
          "text": "Quantidade de Filmes"
         }
        },
        "yaxis2": {
         "anchor": "x2",
         "domain": [
          0.8416,
          1
         ],
         "matches": "y2",
         "showgrid": false,
         "showline": false,
         "showticklabels": false,
         "ticks": ""
        }
       }
      },
      "text/html": [
       "<div>                            <div id=\"e62e0c54-946c-4867-85a0-0549af11400d\" class=\"plotly-graph-div\" style=\"height:525px; width:100%;\"></div>            <script type=\"text/javascript\">                require([\"plotly\"], function(Plotly) {                    window.PLOTLYENV=window.PLOTLYENV || {};                                    if (document.getElementById(\"e62e0c54-946c-4867-85a0-0549af11400d\")) {                    Plotly.newPlot(                        \"e62e0c54-946c-4867-85a0-0549af11400d\",                        [{\"alignmentgroup\":\"True\",\"bingroup\":\"x\",\"hovertemplate\":\"Arrecada\\u00e7\\u00e3o do Filme em D\\u00f3lares=%{x}<br>count=%{y}<extra></extra>\",\"legendgroup\":\"\",\"marker\":{\"color\":\"DarkOliveGreen\",\"pattern\":{\"shape\":\"\"}},\"name\":\"\",\"offsetgroup\":\"\",\"orientation\":\"v\",\"showlegend\":false,\"x\":[28341469.0,134966411.0,534858444.0,57300000.0,4360000.0,377845905.0,107928762.0,96898818.0,292576195.0,37030102.0,315544750.0,330252182.0,6100000.0,342551365.0,171479930.0,46836394.0,290475067.0,112000000.0,53367844.0,188020017.0,7563397.0,10055859.0,216540909.0,136801374.0,57598247.0,100125643.0,130742922.0,322740140.0,269061.0,335451311.0,13092000.0,13182281.0,53089891.0,132384315.0,32572577.0,187705427.0,6719864.0,23341568.0,19501238.0,422783777.0,204843350.0,11990401.0,210609762.0,5321508.0,32000000.0,1024560.0,163245.0,19181.0,1661096.0,5017246.0,12391761.0,190241310.0,858373000.0,678815482.0,209726015.0,162805434.0,448139099.0,6532908.0,1223869.0,223808164.0,11286112.0,707481.0,25544867.0,2375308.0,5321508.0,248159971.0,44017374.0,83471511.0,78900000.0,275902.0,8175000.0,36764313.0,288475.0,159227644.0,1373943.0,687185.0,7098492.0,6857096.0,120540719.0,34400301.0,33225499.0,30328156.0,3635482.0,130096601.0,138433435.0,933933.0,191796233.0,75600000.0,2832029.0,46357676.0,85160248.0,51973029.0,45598982.0,309125409.0,11487676.0,28262574.0,159600000.0,6207725.0,56954992.0,15000000.0,44824144.0,18600000.0,13275000.0,3200000.0,8819028.0,5720000.0,1585634.0,28877.0,5450000.0,898575.0,4186168.0,85080171.0,54513740.0,342370.0,20186659.0,739478.0,1429534.0,1626289.0,7461.0,39567.0,6391436.0,13657115.0,128012934.0,293004164.0,116900694.0,1113541.0,40222514.0,37634615.0,415004880.0,70511035.0,2197331.0,733094.0,206852432.0,1223240.0,5509040.0,4711096.0,170742341.0,3897569.0,64616940.0,67436818.0,42438300.0,101157447.0,197171806.0,280015.0,1105564.0,83008852.0,4135750.0,23383987.0,234723.0,1229197.0,12100000.0,25000000.0,12562.0,10177.0,5014000.0,5450000.0,977375.0,3759854.0,1241223.0,2006788.0,3492754.0,901610.0,226277068.0,14677674.0,3107072.0,10616104.0,923221.0,59100318.0,167767189.0,67209615.0,356461711.0,2804874.0,56671993.0,26947624.0,117624028.0,45055776.0,857524.0,1035953.0,3108485.0,61002302.0,154058340.0,148095302.0,381011219.0,1498210.0,217581231.0,18354356.0,74283625.0,2217561.0,100492203.0,23530892.0,1111061.0,5820649.0,14131.0,300000.0,70099045.0,380843261.0,164615351.0,5383834.0,289916256.0,70147.0,293506292.0,259127.0,125618201.0,348660.0,17498804.0,2734044.0,16501785.0,24611975.0,309811.0,5535405.0,4043686.0,600200.0,402453882.0,25010410.0,5216888.0,2603061.0,95860116.0,52287414.0,138530565.0,2181987.0,495770.0,13782838.0,22244207.0,4971340.0,32868943.0,20045115.0,48979328.0,117235247.0,177345.0,29000000.0,30933743.0,1742348.0,39481.0,16217773.0,102021.0,4050000.0,1526000.0,74700000.0,44908000.0,9600000.0,3969893.0,449191.0,4360000.0,9600000.0,198676459.0,4360000.0,21877.0,539540.0,1033895.0,8178001.0,151101803.0,51739495.0,228433663.0,341268248.0,6738000.0,1506975.0,132422809.0,5566534.0,1079369.0,1010414.0,2625803.0,91125683.0,333176600.0,92054159.0,25568251.0,216428042.0,183637894.0,17738570.0,138797449.0,169708112.0,363070709.0,106662.0,10950.0,4018695.0,141319928.0,106954678.0,8060.0,623279547.0,4445756.0,27298285.0,163566459.0,57366262.0,227471070.0,238507.0,74103820.0,5990075.0,206445654.0,167445960.0,66208183.0,2380788.0,2086345.0,61649911.0,1787378.0,169659.0,305413918.0,66257002.0,261441092.0,1530386.0,1480006.0,22455976.0,4184036.0,6203044.0,776665.0,1647780.0,5595428.0,23159305.0,24475416.0,13417292.0,57141459.0,515905.0,75082668.0,70906973.0,4496583.0,63895607.0,217350219.0,70405498.0,218967620.0,184208848.0,27545445.0,178800000.0,553171.0,30857814.0,3333969.0,4542825.0,38400000.0,52767889.0,30177511.0,39200000.0,260000000.0,50000000.0,86300000.0,53267000.0,232906145.0,4081254.0,29133000.0,80500000.0,541940.0,102308889.0,33395426.0,104945305.0,163214286.0,111722000.0,14500000.0,8284000.0,19516000.0,12535000.0,2237659.0,17570324.0,8000000.0,4360000.0,23650000.0,55000.0,2076020.0,3270000.0,165359751.0,3313513.0,2000000.0,18095701.0,258168.0,32015231.0,5202582.0,5875006.0,3237118.0,315058289.0,32381218.0,349555.0,100546139.0,936662225.0,8114627.0,233921534.0,44671682.0,100206256.0,6739492.0,7000000.0,2084637.0,5009677.0,2122065.0,115646235.0,26236603.0,410800.0,25379975.0,257730019.0,7757130.0,13756082.0,2280348.0,124987023.0,21002919.0,3635164.0,318412101.0,13542874.0,90135191.0,249358727.0,53710019.0,9284265.0,1059830.0,1000045.0,121661683.0,1221261.0,35552383.0,32534850.0,7220243.0,245852179.0,26400640.0,2201126.0,12281500.0,1324974.0,36948322.0,56362352.0,14743391.0,18254702.0,76270454.0,40084041.0,9929135.0,188751.0,20605209.0,57229890.0,45700000.0,37823676.0,5100000.0,70600000.0,61001.0,198809.0,61700000.0,12064472.0,22276975.0,24379978.0,13474588.0,30000000.0,93740000.0,9450000.0,7630000.0,10464000.0,6540000.0,9460000.0,296000.0,3981000.0,2537520.0,10000000.0,2402067.0,188373161.0,169607287.0,40442052.0,48023088.0,1782795.0,47695120.0,435266.0,532177324.0,408084349.0,54117416.0,108101214.0,6735118.0,1330596.0,4231500.0,169209.0,222527828.0,15322921.0,1670773.0,5209580.0,434038008.0,85433.0,45512466.0,177002924.0,70259870.0,102515793.0,107100855.0,6460.0,161197785.0,547292.0,258366855.0,2222647.0,10095170.0,93617009.0,145000989.0,9030581.0,9439923.0,303003568.0,50927067.0,35061555.0,130164645.0,760507625.0,3600.0,50866635.0,59891098.0,23637265.0,127509326.0,2921738.0,1305.0,38405088.0,5128124.0,128985.0,25514517.0,119519402.0,81001787.0,16756372.0,181655.0,7002255.0,54234062.0,2892011.0,115654751.0,128078872.0,8264530.0,233632142.0,25812.0,28965197.0,32481825.0,267665011.0,659325379.0,12339633.0,48323648.0,4040691.0,5887457.0,9170214.0,56505065.0,32416586.0,22954968.0,183875760.0,17266971.0,5617391.0,2015810.0,1999955.0,57504069.0,61276872.0,52096475.0,26830000.0,118500000.0,34603943.0,59735548.0,5923044.0,70136369.0,1436000.0,61503218.0,98467863.0,45875171.0,34700291.0,238632124.0,21500000.0,2500000.0,435110554.0,106260000.0,31800000.0,4420000.0,193817.0,16056255.0,42765000.0,4000000.0,44785053.0,72000000.0,102272727.0,39100000.0,2616000.0,336705.0,324591735.0,33800859.0,176040665.0,220159104.0,3358518.0,3333000.0,765127.0,35893537.0,128261724.0,124872350.0,6743776.0,42340598.0,2199675.0,1122527.0,259766572.0,985912.0,17654912.0,189422889.0,1339152.0,56816662.0,257760692.0,274092705.0,228778661.0,96962694.0,146408305.0,277322503.0,304360277.0,132092958.0,136025503.0,32391374.0,295983305.0,15090400.0,18593156.0,881302.0,35739802.0,1752214.0,25442958.0,412544.0,17605861.0,33080084.0,22494487.0,1054361.0,871577.0,200821936.0,4398392.0,83043761.0,53606916.0,54580300.0,17108591.0,176241941.0,1082715.0,75331600.0,44585453.0,290013036.0,77911774.0,75286229.0,111110575.0,4890878.0,4064200.0,15539266.0,40311852.0,22245861.0,108638745.0,104454762.0,141072.0,21995263.0,3029081.0,183417150.0,151086.0,45512588.0,52037603.0,10824921.0,76631907.0,17105219.0,368234.0,22858926.0,148478011.0,63540020.0,4065116.0,41909762.0,35811509.0,56116183.0,4414535.0,10019307.0,21848932.0,3151130.0,6110979.0,77324422.0,27281507.0,48169908.0,75505856.0,10725228.0,141340178.0,82418501.0,6153939.0,5080409.0,156452370.0,1544889.0,43984230.0,22238696.0,7153487.0,8551228.0,10631333.0,10600000.0,11798616.0,54000000.0,78912963.0,47212904.0,54800000.0,83400000.0,47000000.0,1924733.0,119500000.0,29800000.0,25000000.0,7056013.0,15630710.0,35900000.0,44527234.0,26331.0,28350000.0,51081062.0,11403529.0,4905000.0,10550000.0,536118.0,76408097.0,26020957.0,142502728.0,566356.0,5904366.0,24801212.0,13122642.0,845464.0,389813101.0,107825862.0,18340051.0,72313754.0,608581744.0,248757044.0,46889293.0,109767581.0,1092800.0,26862450.0,37707719.0,208545589.0,4105123.0,41003371.0,19202743.0,215288866.0,171243005.0,1008098.0,251513985.0,35014192.0,48071303.0,75605492.0,3185812.0,75590286.0,209028679.0,255959475.0,9422422.0,69951824.0,17114882.0,38634938.0,88513495.0,20300218.0,10301706.0,24633730.0,39868642.0,301959197.0,210614939.0,23089926.0,107509799.0,24149632.0,56000369.0,3081925.0,697181.0,548707.0,6167817.0,5739376.0,16290476.0,45289.0,51680613.0,13060843.0,57938693.0,45064915.0,52364010.0,13622333.0,317575550.0,96522687.0,52990775.0,51401758.0,132072926.0,50668906.0,15070285.0,7267585.0,36400491.0,120620254.0,10680275.0,14378331.0,49100000.0,3796699.0,43182776.0,100012499.0,1037847.0,71516617.0,173837933.0,1464625.0,40903593.0,7993039.0,52929168.0,453243.0,1794187.0,285761243.0,66666062.0,92823600.0,111543479.0,78756177.0,49530280.0,65207127.0,2150000.0,119285432.0,12465371.0,22490039.0,76657000.0,43000000.0,35000000.0,132088635.0,959000.0,696690.0,1378435.0,141843612.0,13780024.0,30500000.0],\"xaxis\":\"x\",\"yaxis\":\"y\",\"type\":\"histogram\"},{\"alignmentgroup\":\"True\",\"hovertemplate\":\"Arrecada\\u00e7\\u00e3o do Filme em D\\u00f3lares=%{x}<extra></extra>\",\"legendgroup\":\"\",\"marker\":{\"color\":\"DarkOliveGreen\"},\"name\":\"\",\"notched\":true,\"offsetgroup\":\"\",\"showlegend\":false,\"x\":[28341469.0,134966411.0,534858444.0,57300000.0,4360000.0,377845905.0,107928762.0,96898818.0,292576195.0,37030102.0,315544750.0,330252182.0,6100000.0,342551365.0,171479930.0,46836394.0,290475067.0,112000000.0,53367844.0,188020017.0,7563397.0,10055859.0,216540909.0,136801374.0,57598247.0,100125643.0,130742922.0,322740140.0,269061.0,335451311.0,13092000.0,13182281.0,53089891.0,132384315.0,32572577.0,187705427.0,6719864.0,23341568.0,19501238.0,422783777.0,204843350.0,11990401.0,210609762.0,5321508.0,32000000.0,1024560.0,163245.0,19181.0,1661096.0,5017246.0,12391761.0,190241310.0,858373000.0,678815482.0,209726015.0,162805434.0,448139099.0,6532908.0,1223869.0,223808164.0,11286112.0,707481.0,25544867.0,2375308.0,5321508.0,248159971.0,44017374.0,83471511.0,78900000.0,275902.0,8175000.0,36764313.0,288475.0,159227644.0,1373943.0,687185.0,7098492.0,6857096.0,120540719.0,34400301.0,33225499.0,30328156.0,3635482.0,130096601.0,138433435.0,933933.0,191796233.0,75600000.0,2832029.0,46357676.0,85160248.0,51973029.0,45598982.0,309125409.0,11487676.0,28262574.0,159600000.0,6207725.0,56954992.0,15000000.0,44824144.0,18600000.0,13275000.0,3200000.0,8819028.0,5720000.0,1585634.0,28877.0,5450000.0,898575.0,4186168.0,85080171.0,54513740.0,342370.0,20186659.0,739478.0,1429534.0,1626289.0,7461.0,39567.0,6391436.0,13657115.0,128012934.0,293004164.0,116900694.0,1113541.0,40222514.0,37634615.0,415004880.0,70511035.0,2197331.0,733094.0,206852432.0,1223240.0,5509040.0,4711096.0,170742341.0,3897569.0,64616940.0,67436818.0,42438300.0,101157447.0,197171806.0,280015.0,1105564.0,83008852.0,4135750.0,23383987.0,234723.0,1229197.0,12100000.0,25000000.0,12562.0,10177.0,5014000.0,5450000.0,977375.0,3759854.0,1241223.0,2006788.0,3492754.0,901610.0,226277068.0,14677674.0,3107072.0,10616104.0,923221.0,59100318.0,167767189.0,67209615.0,356461711.0,2804874.0,56671993.0,26947624.0,117624028.0,45055776.0,857524.0,1035953.0,3108485.0,61002302.0,154058340.0,148095302.0,381011219.0,1498210.0,217581231.0,18354356.0,74283625.0,2217561.0,100492203.0,23530892.0,1111061.0,5820649.0,14131.0,300000.0,70099045.0,380843261.0,164615351.0,5383834.0,289916256.0,70147.0,293506292.0,259127.0,125618201.0,348660.0,17498804.0,2734044.0,16501785.0,24611975.0,309811.0,5535405.0,4043686.0,600200.0,402453882.0,25010410.0,5216888.0,2603061.0,95860116.0,52287414.0,138530565.0,2181987.0,495770.0,13782838.0,22244207.0,4971340.0,32868943.0,20045115.0,48979328.0,117235247.0,177345.0,29000000.0,30933743.0,1742348.0,39481.0,16217773.0,102021.0,4050000.0,1526000.0,74700000.0,44908000.0,9600000.0,3969893.0,449191.0,4360000.0,9600000.0,198676459.0,4360000.0,21877.0,539540.0,1033895.0,8178001.0,151101803.0,51739495.0,228433663.0,341268248.0,6738000.0,1506975.0,132422809.0,5566534.0,1079369.0,1010414.0,2625803.0,91125683.0,333176600.0,92054159.0,25568251.0,216428042.0,183637894.0,17738570.0,138797449.0,169708112.0,363070709.0,106662.0,10950.0,4018695.0,141319928.0,106954678.0,8060.0,623279547.0,4445756.0,27298285.0,163566459.0,57366262.0,227471070.0,238507.0,74103820.0,5990075.0,206445654.0,167445960.0,66208183.0,2380788.0,2086345.0,61649911.0,1787378.0,169659.0,305413918.0,66257002.0,261441092.0,1530386.0,1480006.0,22455976.0,4184036.0,6203044.0,776665.0,1647780.0,5595428.0,23159305.0,24475416.0,13417292.0,57141459.0,515905.0,75082668.0,70906973.0,4496583.0,63895607.0,217350219.0,70405498.0,218967620.0,184208848.0,27545445.0,178800000.0,553171.0,30857814.0,3333969.0,4542825.0,38400000.0,52767889.0,30177511.0,39200000.0,260000000.0,50000000.0,86300000.0,53267000.0,232906145.0,4081254.0,29133000.0,80500000.0,541940.0,102308889.0,33395426.0,104945305.0,163214286.0,111722000.0,14500000.0,8284000.0,19516000.0,12535000.0,2237659.0,17570324.0,8000000.0,4360000.0,23650000.0,55000.0,2076020.0,3270000.0,165359751.0,3313513.0,2000000.0,18095701.0,258168.0,32015231.0,5202582.0,5875006.0,3237118.0,315058289.0,32381218.0,349555.0,100546139.0,936662225.0,8114627.0,233921534.0,44671682.0,100206256.0,6739492.0,7000000.0,2084637.0,5009677.0,2122065.0,115646235.0,26236603.0,410800.0,25379975.0,257730019.0,7757130.0,13756082.0,2280348.0,124987023.0,21002919.0,3635164.0,318412101.0,13542874.0,90135191.0,249358727.0,53710019.0,9284265.0,1059830.0,1000045.0,121661683.0,1221261.0,35552383.0,32534850.0,7220243.0,245852179.0,26400640.0,2201126.0,12281500.0,1324974.0,36948322.0,56362352.0,14743391.0,18254702.0,76270454.0,40084041.0,9929135.0,188751.0,20605209.0,57229890.0,45700000.0,37823676.0,5100000.0,70600000.0,61001.0,198809.0,61700000.0,12064472.0,22276975.0,24379978.0,13474588.0,30000000.0,93740000.0,9450000.0,7630000.0,10464000.0,6540000.0,9460000.0,296000.0,3981000.0,2537520.0,10000000.0,2402067.0,188373161.0,169607287.0,40442052.0,48023088.0,1782795.0,47695120.0,435266.0,532177324.0,408084349.0,54117416.0,108101214.0,6735118.0,1330596.0,4231500.0,169209.0,222527828.0,15322921.0,1670773.0,5209580.0,434038008.0,85433.0,45512466.0,177002924.0,70259870.0,102515793.0,107100855.0,6460.0,161197785.0,547292.0,258366855.0,2222647.0,10095170.0,93617009.0,145000989.0,9030581.0,9439923.0,303003568.0,50927067.0,35061555.0,130164645.0,760507625.0,3600.0,50866635.0,59891098.0,23637265.0,127509326.0,2921738.0,1305.0,38405088.0,5128124.0,128985.0,25514517.0,119519402.0,81001787.0,16756372.0,181655.0,7002255.0,54234062.0,2892011.0,115654751.0,128078872.0,8264530.0,233632142.0,25812.0,28965197.0,32481825.0,267665011.0,659325379.0,12339633.0,48323648.0,4040691.0,5887457.0,9170214.0,56505065.0,32416586.0,22954968.0,183875760.0,17266971.0,5617391.0,2015810.0,1999955.0,57504069.0,61276872.0,52096475.0,26830000.0,118500000.0,34603943.0,59735548.0,5923044.0,70136369.0,1436000.0,61503218.0,98467863.0,45875171.0,34700291.0,238632124.0,21500000.0,2500000.0,435110554.0,106260000.0,31800000.0,4420000.0,193817.0,16056255.0,42765000.0,4000000.0,44785053.0,72000000.0,102272727.0,39100000.0,2616000.0,336705.0,324591735.0,33800859.0,176040665.0,220159104.0,3358518.0,3333000.0,765127.0,35893537.0,128261724.0,124872350.0,6743776.0,42340598.0,2199675.0,1122527.0,259766572.0,985912.0,17654912.0,189422889.0,1339152.0,56816662.0,257760692.0,274092705.0,228778661.0,96962694.0,146408305.0,277322503.0,304360277.0,132092958.0,136025503.0,32391374.0,295983305.0,15090400.0,18593156.0,881302.0,35739802.0,1752214.0,25442958.0,412544.0,17605861.0,33080084.0,22494487.0,1054361.0,871577.0,200821936.0,4398392.0,83043761.0,53606916.0,54580300.0,17108591.0,176241941.0,1082715.0,75331600.0,44585453.0,290013036.0,77911774.0,75286229.0,111110575.0,4890878.0,4064200.0,15539266.0,40311852.0,22245861.0,108638745.0,104454762.0,141072.0,21995263.0,3029081.0,183417150.0,151086.0,45512588.0,52037603.0,10824921.0,76631907.0,17105219.0,368234.0,22858926.0,148478011.0,63540020.0,4065116.0,41909762.0,35811509.0,56116183.0,4414535.0,10019307.0,21848932.0,3151130.0,6110979.0,77324422.0,27281507.0,48169908.0,75505856.0,10725228.0,141340178.0,82418501.0,6153939.0,5080409.0,156452370.0,1544889.0,43984230.0,22238696.0,7153487.0,8551228.0,10631333.0,10600000.0,11798616.0,54000000.0,78912963.0,47212904.0,54800000.0,83400000.0,47000000.0,1924733.0,119500000.0,29800000.0,25000000.0,7056013.0,15630710.0,35900000.0,44527234.0,26331.0,28350000.0,51081062.0,11403529.0,4905000.0,10550000.0,536118.0,76408097.0,26020957.0,142502728.0,566356.0,5904366.0,24801212.0,13122642.0,845464.0,389813101.0,107825862.0,18340051.0,72313754.0,608581744.0,248757044.0,46889293.0,109767581.0,1092800.0,26862450.0,37707719.0,208545589.0,4105123.0,41003371.0,19202743.0,215288866.0,171243005.0,1008098.0,251513985.0,35014192.0,48071303.0,75605492.0,3185812.0,75590286.0,209028679.0,255959475.0,9422422.0,69951824.0,17114882.0,38634938.0,88513495.0,20300218.0,10301706.0,24633730.0,39868642.0,301959197.0,210614939.0,23089926.0,107509799.0,24149632.0,56000369.0,3081925.0,697181.0,548707.0,6167817.0,5739376.0,16290476.0,45289.0,51680613.0,13060843.0,57938693.0,45064915.0,52364010.0,13622333.0,317575550.0,96522687.0,52990775.0,51401758.0,132072926.0,50668906.0,15070285.0,7267585.0,36400491.0,120620254.0,10680275.0,14378331.0,49100000.0,3796699.0,43182776.0,100012499.0,1037847.0,71516617.0,173837933.0,1464625.0,40903593.0,7993039.0,52929168.0,453243.0,1794187.0,285761243.0,66666062.0,92823600.0,111543479.0,78756177.0,49530280.0,65207127.0,2150000.0,119285432.0,12465371.0,22490039.0,76657000.0,43000000.0,35000000.0,132088635.0,959000.0,696690.0,1378435.0,141843612.0,13780024.0,30500000.0],\"xaxis\":\"x2\",\"yaxis\":\"y2\",\"type\":\"box\"}],                        {\"template\":{\"data\":{\"histogram2dcontour\":[{\"type\":\"histogram2dcontour\",\"colorbar\":{\"outlinewidth\":0,\"ticks\":\"\"},\"colorscale\":[[0.0,\"#0d0887\"],[0.1111111111111111,\"#46039f\"],[0.2222222222222222,\"#7201a8\"],[0.3333333333333333,\"#9c179e\"],[0.4444444444444444,\"#bd3786\"],[0.5555555555555556,\"#d8576b\"],[0.6666666666666666,\"#ed7953\"],[0.7777777777777778,\"#fb9f3a\"],[0.8888888888888888,\"#fdca26\"],[1.0,\"#f0f921\"]]}],\"choropleth\":[{\"type\":\"choropleth\",\"colorbar\":{\"outlinewidth\":0,\"ticks\":\"\"}}],\"histogram2d\":[{\"type\":\"histogram2d\",\"colorbar\":{\"outlinewidth\":0,\"ticks\":\"\"},\"colorscale\":[[0.0,\"#0d0887\"],[0.1111111111111111,\"#46039f\"],[0.2222222222222222,\"#7201a8\"],[0.3333333333333333,\"#9c179e\"],[0.4444444444444444,\"#bd3786\"],[0.5555555555555556,\"#d8576b\"],[0.6666666666666666,\"#ed7953\"],[0.7777777777777778,\"#fb9f3a\"],[0.8888888888888888,\"#fdca26\"],[1.0,\"#f0f921\"]]}],\"heatmap\":[{\"type\":\"heatmap\",\"colorbar\":{\"outlinewidth\":0,\"ticks\":\"\"},\"colorscale\":[[0.0,\"#0d0887\"],[0.1111111111111111,\"#46039f\"],[0.2222222222222222,\"#7201a8\"],[0.3333333333333333,\"#9c179e\"],[0.4444444444444444,\"#bd3786\"],[0.5555555555555556,\"#d8576b\"],[0.6666666666666666,\"#ed7953\"],[0.7777777777777778,\"#fb9f3a\"],[0.8888888888888888,\"#fdca26\"],[1.0,\"#f0f921\"]]}],\"heatmapgl\":[{\"type\":\"heatmapgl\",\"colorbar\":{\"outlinewidth\":0,\"ticks\":\"\"},\"colorscale\":[[0.0,\"#0d0887\"],[0.1111111111111111,\"#46039f\"],[0.2222222222222222,\"#7201a8\"],[0.3333333333333333,\"#9c179e\"],[0.4444444444444444,\"#bd3786\"],[0.5555555555555556,\"#d8576b\"],[0.6666666666666666,\"#ed7953\"],[0.7777777777777778,\"#fb9f3a\"],[0.8888888888888888,\"#fdca26\"],[1.0,\"#f0f921\"]]}],\"contourcarpet\":[{\"type\":\"contourcarpet\",\"colorbar\":{\"outlinewidth\":0,\"ticks\":\"\"}}],\"contour\":[{\"type\":\"contour\",\"colorbar\":{\"outlinewidth\":0,\"ticks\":\"\"},\"colorscale\":[[0.0,\"#0d0887\"],[0.1111111111111111,\"#46039f\"],[0.2222222222222222,\"#7201a8\"],[0.3333333333333333,\"#9c179e\"],[0.4444444444444444,\"#bd3786\"],[0.5555555555555556,\"#d8576b\"],[0.6666666666666666,\"#ed7953\"],[0.7777777777777778,\"#fb9f3a\"],[0.8888888888888888,\"#fdca26\"],[1.0,\"#f0f921\"]]}],\"surface\":[{\"type\":\"surface\",\"colorbar\":{\"outlinewidth\":0,\"ticks\":\"\"},\"colorscale\":[[0.0,\"#0d0887\"],[0.1111111111111111,\"#46039f\"],[0.2222222222222222,\"#7201a8\"],[0.3333333333333333,\"#9c179e\"],[0.4444444444444444,\"#bd3786\"],[0.5555555555555556,\"#d8576b\"],[0.6666666666666666,\"#ed7953\"],[0.7777777777777778,\"#fb9f3a\"],[0.8888888888888888,\"#fdca26\"],[1.0,\"#f0f921\"]]}],\"mesh3d\":[{\"type\":\"mesh3d\",\"colorbar\":{\"outlinewidth\":0,\"ticks\":\"\"}}],\"scatter\":[{\"fillpattern\":{\"fillmode\":\"overlay\",\"size\":10,\"solidity\":0.2},\"type\":\"scatter\"}],\"parcoords\":[{\"type\":\"parcoords\",\"line\":{\"colorbar\":{\"outlinewidth\":0,\"ticks\":\"\"}}}],\"scatterpolargl\":[{\"type\":\"scatterpolargl\",\"marker\":{\"colorbar\":{\"outlinewidth\":0,\"ticks\":\"\"}}}],\"bar\":[{\"error_x\":{\"color\":\"#2a3f5f\"},\"error_y\":{\"color\":\"#2a3f5f\"},\"marker\":{\"line\":{\"color\":\"#E5ECF6\",\"width\":0.5},\"pattern\":{\"fillmode\":\"overlay\",\"size\":10,\"solidity\":0.2}},\"type\":\"bar\"}],\"scattergeo\":[{\"type\":\"scattergeo\",\"marker\":{\"colorbar\":{\"outlinewidth\":0,\"ticks\":\"\"}}}],\"scatterpolar\":[{\"type\":\"scatterpolar\",\"marker\":{\"colorbar\":{\"outlinewidth\":0,\"ticks\":\"\"}}}],\"histogram\":[{\"marker\":{\"pattern\":{\"fillmode\":\"overlay\",\"size\":10,\"solidity\":0.2}},\"type\":\"histogram\"}],\"scattergl\":[{\"type\":\"scattergl\",\"marker\":{\"colorbar\":{\"outlinewidth\":0,\"ticks\":\"\"}}}],\"scatter3d\":[{\"type\":\"scatter3d\",\"line\":{\"colorbar\":{\"outlinewidth\":0,\"ticks\":\"\"}},\"marker\":{\"colorbar\":{\"outlinewidth\":0,\"ticks\":\"\"}}}],\"scattermapbox\":[{\"type\":\"scattermapbox\",\"marker\":{\"colorbar\":{\"outlinewidth\":0,\"ticks\":\"\"}}}],\"scatterternary\":[{\"type\":\"scatterternary\",\"marker\":{\"colorbar\":{\"outlinewidth\":0,\"ticks\":\"\"}}}],\"scattercarpet\":[{\"type\":\"scattercarpet\",\"marker\":{\"colorbar\":{\"outlinewidth\":0,\"ticks\":\"\"}}}],\"carpet\":[{\"aaxis\":{\"endlinecolor\":\"#2a3f5f\",\"gridcolor\":\"white\",\"linecolor\":\"white\",\"minorgridcolor\":\"white\",\"startlinecolor\":\"#2a3f5f\"},\"baxis\":{\"endlinecolor\":\"#2a3f5f\",\"gridcolor\":\"white\",\"linecolor\":\"white\",\"minorgridcolor\":\"white\",\"startlinecolor\":\"#2a3f5f\"},\"type\":\"carpet\"}],\"table\":[{\"cells\":{\"fill\":{\"color\":\"#EBF0F8\"},\"line\":{\"color\":\"white\"}},\"header\":{\"fill\":{\"color\":\"#C8D4E3\"},\"line\":{\"color\":\"white\"}},\"type\":\"table\"}],\"barpolar\":[{\"marker\":{\"line\":{\"color\":\"#E5ECF6\",\"width\":0.5},\"pattern\":{\"fillmode\":\"overlay\",\"size\":10,\"solidity\":0.2}},\"type\":\"barpolar\"}],\"pie\":[{\"automargin\":true,\"type\":\"pie\"}]},\"layout\":{\"autotypenumbers\":\"strict\",\"colorway\":[\"#636efa\",\"#EF553B\",\"#00cc96\",\"#ab63fa\",\"#FFA15A\",\"#19d3f3\",\"#FF6692\",\"#B6E880\",\"#FF97FF\",\"#FECB52\"],\"font\":{\"color\":\"#2a3f5f\"},\"hovermode\":\"closest\",\"hoverlabel\":{\"align\":\"left\"},\"paper_bgcolor\":\"white\",\"plot_bgcolor\":\"#E5ECF6\",\"polar\":{\"bgcolor\":\"#E5ECF6\",\"angularaxis\":{\"gridcolor\":\"white\",\"linecolor\":\"white\",\"ticks\":\"\"},\"radialaxis\":{\"gridcolor\":\"white\",\"linecolor\":\"white\",\"ticks\":\"\"}},\"ternary\":{\"bgcolor\":\"#E5ECF6\",\"aaxis\":{\"gridcolor\":\"white\",\"linecolor\":\"white\",\"ticks\":\"\"},\"baxis\":{\"gridcolor\":\"white\",\"linecolor\":\"white\",\"ticks\":\"\"},\"caxis\":{\"gridcolor\":\"white\",\"linecolor\":\"white\",\"ticks\":\"\"}},\"coloraxis\":{\"colorbar\":{\"outlinewidth\":0,\"ticks\":\"\"}},\"colorscale\":{\"sequential\":[[0.0,\"#0d0887\"],[0.1111111111111111,\"#46039f\"],[0.2222222222222222,\"#7201a8\"],[0.3333333333333333,\"#9c179e\"],[0.4444444444444444,\"#bd3786\"],[0.5555555555555556,\"#d8576b\"],[0.6666666666666666,\"#ed7953\"],[0.7777777777777778,\"#fb9f3a\"],[0.8888888888888888,\"#fdca26\"],[1.0,\"#f0f921\"]],\"sequentialminus\":[[0.0,\"#0d0887\"],[0.1111111111111111,\"#46039f\"],[0.2222222222222222,\"#7201a8\"],[0.3333333333333333,\"#9c179e\"],[0.4444444444444444,\"#bd3786\"],[0.5555555555555556,\"#d8576b\"],[0.6666666666666666,\"#ed7953\"],[0.7777777777777778,\"#fb9f3a\"],[0.8888888888888888,\"#fdca26\"],[1.0,\"#f0f921\"]],\"diverging\":[[0,\"#8e0152\"],[0.1,\"#c51b7d\"],[0.2,\"#de77ae\"],[0.3,\"#f1b6da\"],[0.4,\"#fde0ef\"],[0.5,\"#f7f7f7\"],[0.6,\"#e6f5d0\"],[0.7,\"#b8e186\"],[0.8,\"#7fbc41\"],[0.9,\"#4d9221\"],[1,\"#276419\"]]},\"xaxis\":{\"gridcolor\":\"white\",\"linecolor\":\"white\",\"ticks\":\"\",\"title\":{\"standoff\":15},\"zerolinecolor\":\"white\",\"automargin\":true,\"zerolinewidth\":2},\"yaxis\":{\"gridcolor\":\"white\",\"linecolor\":\"white\",\"ticks\":\"\",\"title\":{\"standoff\":15},\"zerolinecolor\":\"white\",\"automargin\":true,\"zerolinewidth\":2},\"scene\":{\"xaxis\":{\"backgroundcolor\":\"#E5ECF6\",\"gridcolor\":\"white\",\"linecolor\":\"white\",\"showbackground\":true,\"ticks\":\"\",\"zerolinecolor\":\"white\",\"gridwidth\":2},\"yaxis\":{\"backgroundcolor\":\"#E5ECF6\",\"gridcolor\":\"white\",\"linecolor\":\"white\",\"showbackground\":true,\"ticks\":\"\",\"zerolinecolor\":\"white\",\"gridwidth\":2},\"zaxis\":{\"backgroundcolor\":\"#E5ECF6\",\"gridcolor\":\"white\",\"linecolor\":\"white\",\"showbackground\":true,\"ticks\":\"\",\"zerolinecolor\":\"white\",\"gridwidth\":2}},\"shapedefaults\":{\"line\":{\"color\":\"#2a3f5f\"}},\"annotationdefaults\":{\"arrowcolor\":\"#2a3f5f\",\"arrowhead\":0,\"arrowwidth\":1},\"geo\":{\"bgcolor\":\"white\",\"landcolor\":\"#E5ECF6\",\"subunitcolor\":\"white\",\"showland\":true,\"showlakes\":true,\"lakecolor\":\"white\"},\"title\":{\"x\":0.05},\"mapbox\":{\"style\":\"light\"}}},\"xaxis\":{\"anchor\":\"y\",\"domain\":[0.0,1.0],\"title\":{\"text\":\"Arrecada\\u00e7\\u00e3o do Filme em D\\u00f3lares\"}},\"yaxis\":{\"anchor\":\"x\",\"domain\":[0.0,0.8316],\"title\":{\"text\":\"Quantidade de Filmes\"}},\"xaxis2\":{\"anchor\":\"y2\",\"domain\":[0.0,1.0],\"matches\":\"x\",\"showticklabels\":false,\"showgrid\":true},\"yaxis2\":{\"anchor\":\"x2\",\"domain\":[0.8416,1.0],\"matches\":\"y2\",\"showticklabels\":false,\"showline\":false,\"ticks\":\"\",\"showgrid\":false},\"legend\":{\"tracegroupgap\":0},\"title\":{\"text\":\"Distribui\\u00e7\\u00e3o da Arrecada\\u00e7\\u00e3o dos Filmes\"},\"barmode\":\"relative\"},                        {\"responsive\": true}                    ).then(function(){\n",
       "                            \n",
       "var gd = document.getElementById('e62e0c54-946c-4867-85a0-0549af11400d');\n",
       "var x = new MutationObserver(function (mutations, observer) {{\n",
       "        var display = window.getComputedStyle(gd).display;\n",
       "        if (!display || display === 'none') {{\n",
       "            console.log([gd, 'removed!']);\n",
       "            Plotly.purge(gd);\n",
       "            observer.disconnect();\n",
       "        }}\n",
       "}});\n",
       "\n",
       "// Listen for the removal of the full notebook cells\n",
       "var notebookContainer = gd.closest('#notebook-container');\n",
       "if (notebookContainer) {{\n",
       "    x.observe(notebookContainer, {childList: true});\n",
       "}}\n",
       "\n",
       "// Listen for the clearing of the current output cell\n",
       "var outputEl = gd.closest('.output');\n",
       "if (outputEl) {{\n",
       "    x.observe(outputEl, {childList: true});\n",
       "}}\n",
       "\n",
       "                        })                };                });            </script>        </div>"
      ]
     },
     "metadata": {},
     "output_type": "display_data"
    }
   ],
   "source": [
    "# Distribuição da Arrecadação dos Filmes\n",
    "gross_hist = px.histogram(\n",
    "    x=df.Gross, \n",
    "    title=\"Distribuição da Arrecadação dos Filmes\",\n",
    "    marginal=\"box\",\n",
    "    labels={\"x\": \"Arrecadação do Filme em Dólares\"}\n",
    "    ).update_traces(marker_color=\"DarkOliveGreen\").update_layout(yaxis_title=\"Quantidade de Filmes\")\n",
    "gross_hist.show()"
   ]
  },
  {
   "cell_type": "markdown",
   "metadata": {},
   "source": [
    "## 4.2. Análise Bivariada"
   ]
  },
  {
   "cell_type": "markdown",
   "metadata": {},
   "source": [
    "**Média de arrecadação dos 15 diretores mais recorrentes no Top 1000**: Para\n",
    "a visualização, escolheu-se um gráfico de barras para comparar visualmente as médias de arrecadação dos diferentes diretores mais recorrentes.\n",
    "\n",
    "Pelo gráfico, nota-se que os diretores mais recorrentes no Top 1000, não necessariamente são aqueles com mais arrecadações. Muitos motivos podem explicar isso, entre eles, a época dos filmes.\n"
   ]
  },
  {
   "cell_type": "code",
   "execution_count": 83,
   "metadata": {
    "scrolled": true
   },
   "outputs": [
    {
     "data": {
      "application/vnd.plotly.v1+json": {
       "config": {
        "plotlyServerURL": "https://plot.ly"
       },
       "data": [
        {
         "alignmentgroup": "True",
         "hovertemplate": "Director=%{x}<br>Gross=%{y}<extra></extra>",
         "legendgroup": "",
         "marker": {
          "color": "#636efa",
          "pattern": {
           "shape": ""
          }
         },
         "name": "",
         "offsetgroup": "",
         "orientation": "v",
         "showlegend": false,
         "textposition": "auto",
         "type": "bar",
         "x": [
          "Alfred Hitchcock",
          "Billy Wilder",
          "Christopher Nolan",
          "Clint Eastwood",
          "David Fincher",
          "Hayao Miyazaki",
          "Martin Scorsese",
          "Quentin Tarantino",
          "Ridley Scott",
          "Rob Reiner",
          "Sergio Leone",
          "Stanley Kubrick",
          "Steven Spielberg",
          "Wes Anderson",
          "Woody Allen"
         ],
         "xaxis": "x",
         "y": [
          13234378.222222222,
          11820815.5,
          242181763.25,
          74086580.5,
          89164309.875,
          5577653.857142857,
          53831919.8,
          90879289.5,
          127785237.16666667,
          54360977.571428575,
          7823284.333333333,
          30635611.5,
          190625628.07692307,
          37850027.166666664,
          30696910
         ],
         "yaxis": "y"
        }
       ],
       "layout": {
        "barmode": "relative",
        "legend": {
         "tracegroupgap": 0
        },
        "template": {
         "data": {
          "bar": [
           {
            "error_x": {
             "color": "#2a3f5f"
            },
            "error_y": {
             "color": "#2a3f5f"
            },
            "marker": {
             "line": {
              "color": "#E5ECF6",
              "width": 0.5
             },
             "pattern": {
              "fillmode": "overlay",
              "size": 10,
              "solidity": 0.2
             }
            },
            "type": "bar"
           }
          ],
          "barpolar": [
           {
            "marker": {
             "line": {
              "color": "#E5ECF6",
              "width": 0.5
             },
             "pattern": {
              "fillmode": "overlay",
              "size": 10,
              "solidity": 0.2
             }
            },
            "type": "barpolar"
           }
          ],
          "carpet": [
           {
            "aaxis": {
             "endlinecolor": "#2a3f5f",
             "gridcolor": "white",
             "linecolor": "white",
             "minorgridcolor": "white",
             "startlinecolor": "#2a3f5f"
            },
            "baxis": {
             "endlinecolor": "#2a3f5f",
             "gridcolor": "white",
             "linecolor": "white",
             "minorgridcolor": "white",
             "startlinecolor": "#2a3f5f"
            },
            "type": "carpet"
           }
          ],
          "choropleth": [
           {
            "colorbar": {
             "outlinewidth": 0,
             "ticks": ""
            },
            "type": "choropleth"
           }
          ],
          "contour": [
           {
            "colorbar": {
             "outlinewidth": 0,
             "ticks": ""
            },
            "colorscale": [
             [
              0,
              "#0d0887"
             ],
             [
              0.1111111111111111,
              "#46039f"
             ],
             [
              0.2222222222222222,
              "#7201a8"
             ],
             [
              0.3333333333333333,
              "#9c179e"
             ],
             [
              0.4444444444444444,
              "#bd3786"
             ],
             [
              0.5555555555555556,
              "#d8576b"
             ],
             [
              0.6666666666666666,
              "#ed7953"
             ],
             [
              0.7777777777777778,
              "#fb9f3a"
             ],
             [
              0.8888888888888888,
              "#fdca26"
             ],
             [
              1,
              "#f0f921"
             ]
            ],
            "type": "contour"
           }
          ],
          "contourcarpet": [
           {
            "colorbar": {
             "outlinewidth": 0,
             "ticks": ""
            },
            "type": "contourcarpet"
           }
          ],
          "heatmap": [
           {
            "colorbar": {
             "outlinewidth": 0,
             "ticks": ""
            },
            "colorscale": [
             [
              0,
              "#0d0887"
             ],
             [
              0.1111111111111111,
              "#46039f"
             ],
             [
              0.2222222222222222,
              "#7201a8"
             ],
             [
              0.3333333333333333,
              "#9c179e"
             ],
             [
              0.4444444444444444,
              "#bd3786"
             ],
             [
              0.5555555555555556,
              "#d8576b"
             ],
             [
              0.6666666666666666,
              "#ed7953"
             ],
             [
              0.7777777777777778,
              "#fb9f3a"
             ],
             [
              0.8888888888888888,
              "#fdca26"
             ],
             [
              1,
              "#f0f921"
             ]
            ],
            "type": "heatmap"
           }
          ],
          "heatmapgl": [
           {
            "colorbar": {
             "outlinewidth": 0,
             "ticks": ""
            },
            "colorscale": [
             [
              0,
              "#0d0887"
             ],
             [
              0.1111111111111111,
              "#46039f"
             ],
             [
              0.2222222222222222,
              "#7201a8"
             ],
             [
              0.3333333333333333,
              "#9c179e"
             ],
             [
              0.4444444444444444,
              "#bd3786"
             ],
             [
              0.5555555555555556,
              "#d8576b"
             ],
             [
              0.6666666666666666,
              "#ed7953"
             ],
             [
              0.7777777777777778,
              "#fb9f3a"
             ],
             [
              0.8888888888888888,
              "#fdca26"
             ],
             [
              1,
              "#f0f921"
             ]
            ],
            "type": "heatmapgl"
           }
          ],
          "histogram": [
           {
            "marker": {
             "pattern": {
              "fillmode": "overlay",
              "size": 10,
              "solidity": 0.2
             }
            },
            "type": "histogram"
           }
          ],
          "histogram2d": [
           {
            "colorbar": {
             "outlinewidth": 0,
             "ticks": ""
            },
            "colorscale": [
             [
              0,
              "#0d0887"
             ],
             [
              0.1111111111111111,
              "#46039f"
             ],
             [
              0.2222222222222222,
              "#7201a8"
             ],
             [
              0.3333333333333333,
              "#9c179e"
             ],
             [
              0.4444444444444444,
              "#bd3786"
             ],
             [
              0.5555555555555556,
              "#d8576b"
             ],
             [
              0.6666666666666666,
              "#ed7953"
             ],
             [
              0.7777777777777778,
              "#fb9f3a"
             ],
             [
              0.8888888888888888,
              "#fdca26"
             ],
             [
              1,
              "#f0f921"
             ]
            ],
            "type": "histogram2d"
           }
          ],
          "histogram2dcontour": [
           {
            "colorbar": {
             "outlinewidth": 0,
             "ticks": ""
            },
            "colorscale": [
             [
              0,
              "#0d0887"
             ],
             [
              0.1111111111111111,
              "#46039f"
             ],
             [
              0.2222222222222222,
              "#7201a8"
             ],
             [
              0.3333333333333333,
              "#9c179e"
             ],
             [
              0.4444444444444444,
              "#bd3786"
             ],
             [
              0.5555555555555556,
              "#d8576b"
             ],
             [
              0.6666666666666666,
              "#ed7953"
             ],
             [
              0.7777777777777778,
              "#fb9f3a"
             ],
             [
              0.8888888888888888,
              "#fdca26"
             ],
             [
              1,
              "#f0f921"
             ]
            ],
            "type": "histogram2dcontour"
           }
          ],
          "mesh3d": [
           {
            "colorbar": {
             "outlinewidth": 0,
             "ticks": ""
            },
            "type": "mesh3d"
           }
          ],
          "parcoords": [
           {
            "line": {
             "colorbar": {
              "outlinewidth": 0,
              "ticks": ""
             }
            },
            "type": "parcoords"
           }
          ],
          "pie": [
           {
            "automargin": true,
            "type": "pie"
           }
          ],
          "scatter": [
           {
            "fillpattern": {
             "fillmode": "overlay",
             "size": 10,
             "solidity": 0.2
            },
            "type": "scatter"
           }
          ],
          "scatter3d": [
           {
            "line": {
             "colorbar": {
              "outlinewidth": 0,
              "ticks": ""
             }
            },
            "marker": {
             "colorbar": {
              "outlinewidth": 0,
              "ticks": ""
             }
            },
            "type": "scatter3d"
           }
          ],
          "scattercarpet": [
           {
            "marker": {
             "colorbar": {
              "outlinewidth": 0,
              "ticks": ""
             }
            },
            "type": "scattercarpet"
           }
          ],
          "scattergeo": [
           {
            "marker": {
             "colorbar": {
              "outlinewidth": 0,
              "ticks": ""
             }
            },
            "type": "scattergeo"
           }
          ],
          "scattergl": [
           {
            "marker": {
             "colorbar": {
              "outlinewidth": 0,
              "ticks": ""
             }
            },
            "type": "scattergl"
           }
          ],
          "scattermapbox": [
           {
            "marker": {
             "colorbar": {
              "outlinewidth": 0,
              "ticks": ""
             }
            },
            "type": "scattermapbox"
           }
          ],
          "scatterpolar": [
           {
            "marker": {
             "colorbar": {
              "outlinewidth": 0,
              "ticks": ""
             }
            },
            "type": "scatterpolar"
           }
          ],
          "scatterpolargl": [
           {
            "marker": {
             "colorbar": {
              "outlinewidth": 0,
              "ticks": ""
             }
            },
            "type": "scatterpolargl"
           }
          ],
          "scatterternary": [
           {
            "marker": {
             "colorbar": {
              "outlinewidth": 0,
              "ticks": ""
             }
            },
            "type": "scatterternary"
           }
          ],
          "surface": [
           {
            "colorbar": {
             "outlinewidth": 0,
             "ticks": ""
            },
            "colorscale": [
             [
              0,
              "#0d0887"
             ],
             [
              0.1111111111111111,
              "#46039f"
             ],
             [
              0.2222222222222222,
              "#7201a8"
             ],
             [
              0.3333333333333333,
              "#9c179e"
             ],
             [
              0.4444444444444444,
              "#bd3786"
             ],
             [
              0.5555555555555556,
              "#d8576b"
             ],
             [
              0.6666666666666666,
              "#ed7953"
             ],
             [
              0.7777777777777778,
              "#fb9f3a"
             ],
             [
              0.8888888888888888,
              "#fdca26"
             ],
             [
              1,
              "#f0f921"
             ]
            ],
            "type": "surface"
           }
          ],
          "table": [
           {
            "cells": {
             "fill": {
              "color": "#EBF0F8"
             },
             "line": {
              "color": "white"
             }
            },
            "header": {
             "fill": {
              "color": "#C8D4E3"
             },
             "line": {
              "color": "white"
             }
            },
            "type": "table"
           }
          ]
         },
         "layout": {
          "annotationdefaults": {
           "arrowcolor": "#2a3f5f",
           "arrowhead": 0,
           "arrowwidth": 1
          },
          "autotypenumbers": "strict",
          "coloraxis": {
           "colorbar": {
            "outlinewidth": 0,
            "ticks": ""
           }
          },
          "colorscale": {
           "diverging": [
            [
             0,
             "#8e0152"
            ],
            [
             0.1,
             "#c51b7d"
            ],
            [
             0.2,
             "#de77ae"
            ],
            [
             0.3,
             "#f1b6da"
            ],
            [
             0.4,
             "#fde0ef"
            ],
            [
             0.5,
             "#f7f7f7"
            ],
            [
             0.6,
             "#e6f5d0"
            ],
            [
             0.7,
             "#b8e186"
            ],
            [
             0.8,
             "#7fbc41"
            ],
            [
             0.9,
             "#4d9221"
            ],
            [
             1,
             "#276419"
            ]
           ],
           "sequential": [
            [
             0,
             "#0d0887"
            ],
            [
             0.1111111111111111,
             "#46039f"
            ],
            [
             0.2222222222222222,
             "#7201a8"
            ],
            [
             0.3333333333333333,
             "#9c179e"
            ],
            [
             0.4444444444444444,
             "#bd3786"
            ],
            [
             0.5555555555555556,
             "#d8576b"
            ],
            [
             0.6666666666666666,
             "#ed7953"
            ],
            [
             0.7777777777777778,
             "#fb9f3a"
            ],
            [
             0.8888888888888888,
             "#fdca26"
            ],
            [
             1,
             "#f0f921"
            ]
           ],
           "sequentialminus": [
            [
             0,
             "#0d0887"
            ],
            [
             0.1111111111111111,
             "#46039f"
            ],
            [
             0.2222222222222222,
             "#7201a8"
            ],
            [
             0.3333333333333333,
             "#9c179e"
            ],
            [
             0.4444444444444444,
             "#bd3786"
            ],
            [
             0.5555555555555556,
             "#d8576b"
            ],
            [
             0.6666666666666666,
             "#ed7953"
            ],
            [
             0.7777777777777778,
             "#fb9f3a"
            ],
            [
             0.8888888888888888,
             "#fdca26"
            ],
            [
             1,
             "#f0f921"
            ]
           ]
          },
          "colorway": [
           "#636efa",
           "#EF553B",
           "#00cc96",
           "#ab63fa",
           "#FFA15A",
           "#19d3f3",
           "#FF6692",
           "#B6E880",
           "#FF97FF",
           "#FECB52"
          ],
          "font": {
           "color": "#2a3f5f"
          },
          "geo": {
           "bgcolor": "white",
           "lakecolor": "white",
           "landcolor": "#E5ECF6",
           "showlakes": true,
           "showland": true,
           "subunitcolor": "white"
          },
          "hoverlabel": {
           "align": "left"
          },
          "hovermode": "closest",
          "mapbox": {
           "style": "light"
          },
          "paper_bgcolor": "white",
          "plot_bgcolor": "#E5ECF6",
          "polar": {
           "angularaxis": {
            "gridcolor": "white",
            "linecolor": "white",
            "ticks": ""
           },
           "bgcolor": "#E5ECF6",
           "radialaxis": {
            "gridcolor": "white",
            "linecolor": "white",
            "ticks": ""
           }
          },
          "scene": {
           "xaxis": {
            "backgroundcolor": "#E5ECF6",
            "gridcolor": "white",
            "gridwidth": 2,
            "linecolor": "white",
            "showbackground": true,
            "ticks": "",
            "zerolinecolor": "white"
           },
           "yaxis": {
            "backgroundcolor": "#E5ECF6",
            "gridcolor": "white",
            "gridwidth": 2,
            "linecolor": "white",
            "showbackground": true,
            "ticks": "",
            "zerolinecolor": "white"
           },
           "zaxis": {
            "backgroundcolor": "#E5ECF6",
            "gridcolor": "white",
            "gridwidth": 2,
            "linecolor": "white",
            "showbackground": true,
            "ticks": "",
            "zerolinecolor": "white"
           }
          },
          "shapedefaults": {
           "line": {
            "color": "#2a3f5f"
           }
          },
          "ternary": {
           "aaxis": {
            "gridcolor": "white",
            "linecolor": "white",
            "ticks": ""
           },
           "baxis": {
            "gridcolor": "white",
            "linecolor": "white",
            "ticks": ""
           },
           "bgcolor": "#E5ECF6",
           "caxis": {
            "gridcolor": "white",
            "linecolor": "white",
            "ticks": ""
           }
          },
          "title": {
           "x": 0.05
          },
          "xaxis": {
           "automargin": true,
           "gridcolor": "white",
           "linecolor": "white",
           "ticks": "",
           "title": {
            "standoff": 15
           },
           "zerolinecolor": "white",
           "zerolinewidth": 2
          },
          "yaxis": {
           "automargin": true,
           "gridcolor": "white",
           "linecolor": "white",
           "ticks": "",
           "title": {
            "standoff": 15
           },
           "zerolinecolor": "white",
           "zerolinewidth": 2
          }
         }
        },
        "title": {
         "text": "Média de arrecadação dos 15 diretores mais recorrentes no TOP 1000"
        },
        "xaxis": {
         "anchor": "y",
         "domain": [
          0,
          1
         ],
         "title": {
          "text": "Director"
         }
        },
        "yaxis": {
         "anchor": "x",
         "domain": [
          0,
          1
         ],
         "title": {
          "text": "Gross"
         }
        }
       }
      },
      "text/html": [
       "<div>                            <div id=\"bebe7584-6919-43a8-b03e-798caa65bacf\" class=\"plotly-graph-div\" style=\"height:525px; width:100%;\"></div>            <script type=\"text/javascript\">                require([\"plotly\"], function(Plotly) {                    window.PLOTLYENV=window.PLOTLYENV || {};                                    if (document.getElementById(\"bebe7584-6919-43a8-b03e-798caa65bacf\")) {                    Plotly.newPlot(                        \"bebe7584-6919-43a8-b03e-798caa65bacf\",                        [{\"alignmentgroup\":\"True\",\"hovertemplate\":\"Director=%{x}<br>Gross=%{y}<extra></extra>\",\"legendgroup\":\"\",\"marker\":{\"color\":\"#636efa\",\"pattern\":{\"shape\":\"\"}},\"name\":\"\",\"offsetgroup\":\"\",\"orientation\":\"v\",\"showlegend\":false,\"textposition\":\"auto\",\"x\":[\"Alfred Hitchcock\",\"Billy Wilder\",\"Christopher Nolan\",\"Clint Eastwood\",\"David Fincher\",\"Hayao Miyazaki\",\"Martin Scorsese\",\"Quentin Tarantino\",\"Ridley Scott\",\"Rob Reiner\",\"Sergio Leone\",\"Stanley Kubrick\",\"Steven Spielberg\",\"Wes Anderson\",\"Woody Allen\"],\"xaxis\":\"x\",\"y\":[13234378.222222222,11820815.5,242181763.25,74086580.5,89164309.875,5577653.857142857,53831919.8,90879289.5,127785237.16666667,54360977.571428575,7823284.333333333,30635611.5,190625628.07692307,37850027.166666664,30696910.0],\"yaxis\":\"y\",\"type\":\"bar\"}],                        {\"template\":{\"data\":{\"histogram2dcontour\":[{\"type\":\"histogram2dcontour\",\"colorbar\":{\"outlinewidth\":0,\"ticks\":\"\"},\"colorscale\":[[0.0,\"#0d0887\"],[0.1111111111111111,\"#46039f\"],[0.2222222222222222,\"#7201a8\"],[0.3333333333333333,\"#9c179e\"],[0.4444444444444444,\"#bd3786\"],[0.5555555555555556,\"#d8576b\"],[0.6666666666666666,\"#ed7953\"],[0.7777777777777778,\"#fb9f3a\"],[0.8888888888888888,\"#fdca26\"],[1.0,\"#f0f921\"]]}],\"choropleth\":[{\"type\":\"choropleth\",\"colorbar\":{\"outlinewidth\":0,\"ticks\":\"\"}}],\"histogram2d\":[{\"type\":\"histogram2d\",\"colorbar\":{\"outlinewidth\":0,\"ticks\":\"\"},\"colorscale\":[[0.0,\"#0d0887\"],[0.1111111111111111,\"#46039f\"],[0.2222222222222222,\"#7201a8\"],[0.3333333333333333,\"#9c179e\"],[0.4444444444444444,\"#bd3786\"],[0.5555555555555556,\"#d8576b\"],[0.6666666666666666,\"#ed7953\"],[0.7777777777777778,\"#fb9f3a\"],[0.8888888888888888,\"#fdca26\"],[1.0,\"#f0f921\"]]}],\"heatmap\":[{\"type\":\"heatmap\",\"colorbar\":{\"outlinewidth\":0,\"ticks\":\"\"},\"colorscale\":[[0.0,\"#0d0887\"],[0.1111111111111111,\"#46039f\"],[0.2222222222222222,\"#7201a8\"],[0.3333333333333333,\"#9c179e\"],[0.4444444444444444,\"#bd3786\"],[0.5555555555555556,\"#d8576b\"],[0.6666666666666666,\"#ed7953\"],[0.7777777777777778,\"#fb9f3a\"],[0.8888888888888888,\"#fdca26\"],[1.0,\"#f0f921\"]]}],\"heatmapgl\":[{\"type\":\"heatmapgl\",\"colorbar\":{\"outlinewidth\":0,\"ticks\":\"\"},\"colorscale\":[[0.0,\"#0d0887\"],[0.1111111111111111,\"#46039f\"],[0.2222222222222222,\"#7201a8\"],[0.3333333333333333,\"#9c179e\"],[0.4444444444444444,\"#bd3786\"],[0.5555555555555556,\"#d8576b\"],[0.6666666666666666,\"#ed7953\"],[0.7777777777777778,\"#fb9f3a\"],[0.8888888888888888,\"#fdca26\"],[1.0,\"#f0f921\"]]}],\"contourcarpet\":[{\"type\":\"contourcarpet\",\"colorbar\":{\"outlinewidth\":0,\"ticks\":\"\"}}],\"contour\":[{\"type\":\"contour\",\"colorbar\":{\"outlinewidth\":0,\"ticks\":\"\"},\"colorscale\":[[0.0,\"#0d0887\"],[0.1111111111111111,\"#46039f\"],[0.2222222222222222,\"#7201a8\"],[0.3333333333333333,\"#9c179e\"],[0.4444444444444444,\"#bd3786\"],[0.5555555555555556,\"#d8576b\"],[0.6666666666666666,\"#ed7953\"],[0.7777777777777778,\"#fb9f3a\"],[0.8888888888888888,\"#fdca26\"],[1.0,\"#f0f921\"]]}],\"surface\":[{\"type\":\"surface\",\"colorbar\":{\"outlinewidth\":0,\"ticks\":\"\"},\"colorscale\":[[0.0,\"#0d0887\"],[0.1111111111111111,\"#46039f\"],[0.2222222222222222,\"#7201a8\"],[0.3333333333333333,\"#9c179e\"],[0.4444444444444444,\"#bd3786\"],[0.5555555555555556,\"#d8576b\"],[0.6666666666666666,\"#ed7953\"],[0.7777777777777778,\"#fb9f3a\"],[0.8888888888888888,\"#fdca26\"],[1.0,\"#f0f921\"]]}],\"mesh3d\":[{\"type\":\"mesh3d\",\"colorbar\":{\"outlinewidth\":0,\"ticks\":\"\"}}],\"scatter\":[{\"fillpattern\":{\"fillmode\":\"overlay\",\"size\":10,\"solidity\":0.2},\"type\":\"scatter\"}],\"parcoords\":[{\"type\":\"parcoords\",\"line\":{\"colorbar\":{\"outlinewidth\":0,\"ticks\":\"\"}}}],\"scatterpolargl\":[{\"type\":\"scatterpolargl\",\"marker\":{\"colorbar\":{\"outlinewidth\":0,\"ticks\":\"\"}}}],\"bar\":[{\"error_x\":{\"color\":\"#2a3f5f\"},\"error_y\":{\"color\":\"#2a3f5f\"},\"marker\":{\"line\":{\"color\":\"#E5ECF6\",\"width\":0.5},\"pattern\":{\"fillmode\":\"overlay\",\"size\":10,\"solidity\":0.2}},\"type\":\"bar\"}],\"scattergeo\":[{\"type\":\"scattergeo\",\"marker\":{\"colorbar\":{\"outlinewidth\":0,\"ticks\":\"\"}}}],\"scatterpolar\":[{\"type\":\"scatterpolar\",\"marker\":{\"colorbar\":{\"outlinewidth\":0,\"ticks\":\"\"}}}],\"histogram\":[{\"marker\":{\"pattern\":{\"fillmode\":\"overlay\",\"size\":10,\"solidity\":0.2}},\"type\":\"histogram\"}],\"scattergl\":[{\"type\":\"scattergl\",\"marker\":{\"colorbar\":{\"outlinewidth\":0,\"ticks\":\"\"}}}],\"scatter3d\":[{\"type\":\"scatter3d\",\"line\":{\"colorbar\":{\"outlinewidth\":0,\"ticks\":\"\"}},\"marker\":{\"colorbar\":{\"outlinewidth\":0,\"ticks\":\"\"}}}],\"scattermapbox\":[{\"type\":\"scattermapbox\",\"marker\":{\"colorbar\":{\"outlinewidth\":0,\"ticks\":\"\"}}}],\"scatterternary\":[{\"type\":\"scatterternary\",\"marker\":{\"colorbar\":{\"outlinewidth\":0,\"ticks\":\"\"}}}],\"scattercarpet\":[{\"type\":\"scattercarpet\",\"marker\":{\"colorbar\":{\"outlinewidth\":0,\"ticks\":\"\"}}}],\"carpet\":[{\"aaxis\":{\"endlinecolor\":\"#2a3f5f\",\"gridcolor\":\"white\",\"linecolor\":\"white\",\"minorgridcolor\":\"white\",\"startlinecolor\":\"#2a3f5f\"},\"baxis\":{\"endlinecolor\":\"#2a3f5f\",\"gridcolor\":\"white\",\"linecolor\":\"white\",\"minorgridcolor\":\"white\",\"startlinecolor\":\"#2a3f5f\"},\"type\":\"carpet\"}],\"table\":[{\"cells\":{\"fill\":{\"color\":\"#EBF0F8\"},\"line\":{\"color\":\"white\"}},\"header\":{\"fill\":{\"color\":\"#C8D4E3\"},\"line\":{\"color\":\"white\"}},\"type\":\"table\"}],\"barpolar\":[{\"marker\":{\"line\":{\"color\":\"#E5ECF6\",\"width\":0.5},\"pattern\":{\"fillmode\":\"overlay\",\"size\":10,\"solidity\":0.2}},\"type\":\"barpolar\"}],\"pie\":[{\"automargin\":true,\"type\":\"pie\"}]},\"layout\":{\"autotypenumbers\":\"strict\",\"colorway\":[\"#636efa\",\"#EF553B\",\"#00cc96\",\"#ab63fa\",\"#FFA15A\",\"#19d3f3\",\"#FF6692\",\"#B6E880\",\"#FF97FF\",\"#FECB52\"],\"font\":{\"color\":\"#2a3f5f\"},\"hovermode\":\"closest\",\"hoverlabel\":{\"align\":\"left\"},\"paper_bgcolor\":\"white\",\"plot_bgcolor\":\"#E5ECF6\",\"polar\":{\"bgcolor\":\"#E5ECF6\",\"angularaxis\":{\"gridcolor\":\"white\",\"linecolor\":\"white\",\"ticks\":\"\"},\"radialaxis\":{\"gridcolor\":\"white\",\"linecolor\":\"white\",\"ticks\":\"\"}},\"ternary\":{\"bgcolor\":\"#E5ECF6\",\"aaxis\":{\"gridcolor\":\"white\",\"linecolor\":\"white\",\"ticks\":\"\"},\"baxis\":{\"gridcolor\":\"white\",\"linecolor\":\"white\",\"ticks\":\"\"},\"caxis\":{\"gridcolor\":\"white\",\"linecolor\":\"white\",\"ticks\":\"\"}},\"coloraxis\":{\"colorbar\":{\"outlinewidth\":0,\"ticks\":\"\"}},\"colorscale\":{\"sequential\":[[0.0,\"#0d0887\"],[0.1111111111111111,\"#46039f\"],[0.2222222222222222,\"#7201a8\"],[0.3333333333333333,\"#9c179e\"],[0.4444444444444444,\"#bd3786\"],[0.5555555555555556,\"#d8576b\"],[0.6666666666666666,\"#ed7953\"],[0.7777777777777778,\"#fb9f3a\"],[0.8888888888888888,\"#fdca26\"],[1.0,\"#f0f921\"]],\"sequentialminus\":[[0.0,\"#0d0887\"],[0.1111111111111111,\"#46039f\"],[0.2222222222222222,\"#7201a8\"],[0.3333333333333333,\"#9c179e\"],[0.4444444444444444,\"#bd3786\"],[0.5555555555555556,\"#d8576b\"],[0.6666666666666666,\"#ed7953\"],[0.7777777777777778,\"#fb9f3a\"],[0.8888888888888888,\"#fdca26\"],[1.0,\"#f0f921\"]],\"diverging\":[[0,\"#8e0152\"],[0.1,\"#c51b7d\"],[0.2,\"#de77ae\"],[0.3,\"#f1b6da\"],[0.4,\"#fde0ef\"],[0.5,\"#f7f7f7\"],[0.6,\"#e6f5d0\"],[0.7,\"#b8e186\"],[0.8,\"#7fbc41\"],[0.9,\"#4d9221\"],[1,\"#276419\"]]},\"xaxis\":{\"gridcolor\":\"white\",\"linecolor\":\"white\",\"ticks\":\"\",\"title\":{\"standoff\":15},\"zerolinecolor\":\"white\",\"automargin\":true,\"zerolinewidth\":2},\"yaxis\":{\"gridcolor\":\"white\",\"linecolor\":\"white\",\"ticks\":\"\",\"title\":{\"standoff\":15},\"zerolinecolor\":\"white\",\"automargin\":true,\"zerolinewidth\":2},\"scene\":{\"xaxis\":{\"backgroundcolor\":\"#E5ECF6\",\"gridcolor\":\"white\",\"linecolor\":\"white\",\"showbackground\":true,\"ticks\":\"\",\"zerolinecolor\":\"white\",\"gridwidth\":2},\"yaxis\":{\"backgroundcolor\":\"#E5ECF6\",\"gridcolor\":\"white\",\"linecolor\":\"white\",\"showbackground\":true,\"ticks\":\"\",\"zerolinecolor\":\"white\",\"gridwidth\":2},\"zaxis\":{\"backgroundcolor\":\"#E5ECF6\",\"gridcolor\":\"white\",\"linecolor\":\"white\",\"showbackground\":true,\"ticks\":\"\",\"zerolinecolor\":\"white\",\"gridwidth\":2}},\"shapedefaults\":{\"line\":{\"color\":\"#2a3f5f\"}},\"annotationdefaults\":{\"arrowcolor\":\"#2a3f5f\",\"arrowhead\":0,\"arrowwidth\":1},\"geo\":{\"bgcolor\":\"white\",\"landcolor\":\"#E5ECF6\",\"subunitcolor\":\"white\",\"showland\":true,\"showlakes\":true,\"lakecolor\":\"white\"},\"title\":{\"x\":0.05},\"mapbox\":{\"style\":\"light\"}}},\"xaxis\":{\"anchor\":\"y\",\"domain\":[0.0,1.0],\"title\":{\"text\":\"Director\"}},\"yaxis\":{\"anchor\":\"x\",\"domain\":[0.0,1.0],\"title\":{\"text\":\"Gross\"}},\"legend\":{\"tracegroupgap\":0},\"title\":{\"text\":\"M\\u00e9dia de arrecada\\u00e7\\u00e3o dos 15 diretores mais recorrentes no TOP 1000\"},\"barmode\":\"relative\"},                        {\"responsive\": true}                    ).then(function(){\n",
       "                            \n",
       "var gd = document.getElementById('bebe7584-6919-43a8-b03e-798caa65bacf');\n",
       "var x = new MutationObserver(function (mutations, observer) {{\n",
       "        var display = window.getComputedStyle(gd).display;\n",
       "        if (!display || display === 'none') {{\n",
       "            console.log([gd, 'removed!']);\n",
       "            Plotly.purge(gd);\n",
       "            observer.disconnect();\n",
       "        }}\n",
       "}});\n",
       "\n",
       "// Listen for the removal of the full notebook cells\n",
       "var notebookContainer = gd.closest('#notebook-container');\n",
       "if (notebookContainer) {{\n",
       "    x.observe(notebookContainer, {childList: true});\n",
       "}}\n",
       "\n",
       "// Listen for the clearing of the current output cell\n",
       "var outputEl = gd.closest('.output');\n",
       "if (outputEl) {{\n",
       "    x.observe(outputEl, {childList: true});\n",
       "}}\n",
       "\n",
       "                        })                };                });            </script>        </div>"
      ]
     },
     "metadata": {},
     "output_type": "display_data"
    }
   ],
   "source": [
    "diretores_mais_presentes = df.Director.value_counts().head(15).index\n",
    "\n",
    "df_diretores_mais_presentes = df[df['Director'].isin(diretores_mais_presentes)]\n",
    "df_diretores_mais_presentes_media = df_diretores_mais_presentes[['Director','Gross', \"IMDB_Rating\"]].groupby('Director').mean().reset_index()\n",
    "\n",
    "fig = px.bar(df_diretores_mais_presentes_media, x='Director', y='Gross', title = 'Média de arrecadação dos 15 diretores mais recorrentes no TOP 1000')\n",
    "\n",
    "fig.show()"
   ]
  },
  {
   "cell_type": "markdown",
   "metadata": {},
   "source": [
    "**Comparação das médias de arrecadação dos diretores mais recorrentes vs. diretores menos recorrentes no Top 1000**"
   ]
  },
  {
   "cell_type": "code",
   "execution_count": 62,
   "metadata": {},
   "outputs": [
    {
     "name": "stdout",
     "output_type": "stream",
     "text": [
      "Média diretores menos recorrentes $70,705,589.34\n",
      "Média diretores mais recorrentes $78,161,145.40\n"
     ]
    }
   ],
   "source": [
    "media_mais = df_diretores_mais_presentes.Gross.mean()\n",
    "\n",
    "df_diretores_menos_presentes = df[ ~(df['Director'].isin(diretores_mais_presentes))]\n",
    "media_menos = df_diretores_menos_presentes.Gross.mean()\n",
    "\n",
    "locale.setlocale(locale.LC_MONETARY, 'en_US.UTF-8')\n",
    "\n",
    "print(f'Média diretores menos recorrentes {locale.currency(media_menos, grouping=True)}')\n",
    "print(f'Média diretores mais recorrentes {locale.currency(media_mais, grouping=True)}')"
   ]
  },
  {
   "cell_type": "markdown",
   "metadata": {},
   "source": [
    "**Média das notas no IMDB dos 15 diretores mais recorrentes no Top 1000**: Para\n",
    "a visualização, escolheu-se um gráfico de barras para comparar visualmente as médias das notas dos diferentes diretores mais recorrentes.\n",
    "\n",
    "Pelo gráfico, nota-se que os diretores mais recorrentes no Top 1000, possuem notas altas, não havendo diferenças significativas entre os diretores.\n"
   ]
  },
  {
   "cell_type": "code",
   "execution_count": 84,
   "metadata": {},
   "outputs": [
    {
     "data": {
      "application/vnd.plotly.v1+json": {
       "config": {
        "plotlyServerURL": "https://plot.ly"
       },
       "data": [
        {
         "alignmentgroup": "True",
         "hovertemplate": "Director=%{x}<br>IMDB_Rating=%{y}<extra></extra>",
         "legendgroup": "",
         "marker": {
          "color": "#636efa",
          "pattern": {
           "shape": ""
          }
         },
         "name": "",
         "offsetgroup": "",
         "orientation": "v",
         "showlegend": false,
         "textposition": "auto",
         "type": "bar",
         "x": [
          "Alfred Hitchcock",
          "Billy Wilder",
          "Christopher Nolan",
          "Clint Eastwood",
          "David Fincher",
          "Hayao Miyazaki",
          "Martin Scorsese",
          "Quentin Tarantino",
          "Ridley Scott",
          "Rob Reiner",
          "Sergio Leone",
          "Stanley Kubrick",
          "Steven Spielberg",
          "Wes Anderson",
          "Woody Allen"
         ],
         "xaxis": "x",
         "y": [
          8.144444444444444,
          8.200000000000001,
          8.4625,
          7.9125,
          8.0375,
          8.142857142857142,
          8.17,
          8.175,
          8.083333333333334,
          7.828571428571428,
          8.266666666666667,
          8.266666666666667,
          8.03076923076923,
          7.833333333333333,
          7.8
         ],
         "yaxis": "y"
        }
       ],
       "layout": {
        "barmode": "relative",
        "legend": {
         "tracegroupgap": 0
        },
        "template": {
         "data": {
          "bar": [
           {
            "error_x": {
             "color": "#2a3f5f"
            },
            "error_y": {
             "color": "#2a3f5f"
            },
            "marker": {
             "line": {
              "color": "#E5ECF6",
              "width": 0.5
             },
             "pattern": {
              "fillmode": "overlay",
              "size": 10,
              "solidity": 0.2
             }
            },
            "type": "bar"
           }
          ],
          "barpolar": [
           {
            "marker": {
             "line": {
              "color": "#E5ECF6",
              "width": 0.5
             },
             "pattern": {
              "fillmode": "overlay",
              "size": 10,
              "solidity": 0.2
             }
            },
            "type": "barpolar"
           }
          ],
          "carpet": [
           {
            "aaxis": {
             "endlinecolor": "#2a3f5f",
             "gridcolor": "white",
             "linecolor": "white",
             "minorgridcolor": "white",
             "startlinecolor": "#2a3f5f"
            },
            "baxis": {
             "endlinecolor": "#2a3f5f",
             "gridcolor": "white",
             "linecolor": "white",
             "minorgridcolor": "white",
             "startlinecolor": "#2a3f5f"
            },
            "type": "carpet"
           }
          ],
          "choropleth": [
           {
            "colorbar": {
             "outlinewidth": 0,
             "ticks": ""
            },
            "type": "choropleth"
           }
          ],
          "contour": [
           {
            "colorbar": {
             "outlinewidth": 0,
             "ticks": ""
            },
            "colorscale": [
             [
              0,
              "#0d0887"
             ],
             [
              0.1111111111111111,
              "#46039f"
             ],
             [
              0.2222222222222222,
              "#7201a8"
             ],
             [
              0.3333333333333333,
              "#9c179e"
             ],
             [
              0.4444444444444444,
              "#bd3786"
             ],
             [
              0.5555555555555556,
              "#d8576b"
             ],
             [
              0.6666666666666666,
              "#ed7953"
             ],
             [
              0.7777777777777778,
              "#fb9f3a"
             ],
             [
              0.8888888888888888,
              "#fdca26"
             ],
             [
              1,
              "#f0f921"
             ]
            ],
            "type": "contour"
           }
          ],
          "contourcarpet": [
           {
            "colorbar": {
             "outlinewidth": 0,
             "ticks": ""
            },
            "type": "contourcarpet"
           }
          ],
          "heatmap": [
           {
            "colorbar": {
             "outlinewidth": 0,
             "ticks": ""
            },
            "colorscale": [
             [
              0,
              "#0d0887"
             ],
             [
              0.1111111111111111,
              "#46039f"
             ],
             [
              0.2222222222222222,
              "#7201a8"
             ],
             [
              0.3333333333333333,
              "#9c179e"
             ],
             [
              0.4444444444444444,
              "#bd3786"
             ],
             [
              0.5555555555555556,
              "#d8576b"
             ],
             [
              0.6666666666666666,
              "#ed7953"
             ],
             [
              0.7777777777777778,
              "#fb9f3a"
             ],
             [
              0.8888888888888888,
              "#fdca26"
             ],
             [
              1,
              "#f0f921"
             ]
            ],
            "type": "heatmap"
           }
          ],
          "heatmapgl": [
           {
            "colorbar": {
             "outlinewidth": 0,
             "ticks": ""
            },
            "colorscale": [
             [
              0,
              "#0d0887"
             ],
             [
              0.1111111111111111,
              "#46039f"
             ],
             [
              0.2222222222222222,
              "#7201a8"
             ],
             [
              0.3333333333333333,
              "#9c179e"
             ],
             [
              0.4444444444444444,
              "#bd3786"
             ],
             [
              0.5555555555555556,
              "#d8576b"
             ],
             [
              0.6666666666666666,
              "#ed7953"
             ],
             [
              0.7777777777777778,
              "#fb9f3a"
             ],
             [
              0.8888888888888888,
              "#fdca26"
             ],
             [
              1,
              "#f0f921"
             ]
            ],
            "type": "heatmapgl"
           }
          ],
          "histogram": [
           {
            "marker": {
             "pattern": {
              "fillmode": "overlay",
              "size": 10,
              "solidity": 0.2
             }
            },
            "type": "histogram"
           }
          ],
          "histogram2d": [
           {
            "colorbar": {
             "outlinewidth": 0,
             "ticks": ""
            },
            "colorscale": [
             [
              0,
              "#0d0887"
             ],
             [
              0.1111111111111111,
              "#46039f"
             ],
             [
              0.2222222222222222,
              "#7201a8"
             ],
             [
              0.3333333333333333,
              "#9c179e"
             ],
             [
              0.4444444444444444,
              "#bd3786"
             ],
             [
              0.5555555555555556,
              "#d8576b"
             ],
             [
              0.6666666666666666,
              "#ed7953"
             ],
             [
              0.7777777777777778,
              "#fb9f3a"
             ],
             [
              0.8888888888888888,
              "#fdca26"
             ],
             [
              1,
              "#f0f921"
             ]
            ],
            "type": "histogram2d"
           }
          ],
          "histogram2dcontour": [
           {
            "colorbar": {
             "outlinewidth": 0,
             "ticks": ""
            },
            "colorscale": [
             [
              0,
              "#0d0887"
             ],
             [
              0.1111111111111111,
              "#46039f"
             ],
             [
              0.2222222222222222,
              "#7201a8"
             ],
             [
              0.3333333333333333,
              "#9c179e"
             ],
             [
              0.4444444444444444,
              "#bd3786"
             ],
             [
              0.5555555555555556,
              "#d8576b"
             ],
             [
              0.6666666666666666,
              "#ed7953"
             ],
             [
              0.7777777777777778,
              "#fb9f3a"
             ],
             [
              0.8888888888888888,
              "#fdca26"
             ],
             [
              1,
              "#f0f921"
             ]
            ],
            "type": "histogram2dcontour"
           }
          ],
          "mesh3d": [
           {
            "colorbar": {
             "outlinewidth": 0,
             "ticks": ""
            },
            "type": "mesh3d"
           }
          ],
          "parcoords": [
           {
            "line": {
             "colorbar": {
              "outlinewidth": 0,
              "ticks": ""
             }
            },
            "type": "parcoords"
           }
          ],
          "pie": [
           {
            "automargin": true,
            "type": "pie"
           }
          ],
          "scatter": [
           {
            "fillpattern": {
             "fillmode": "overlay",
             "size": 10,
             "solidity": 0.2
            },
            "type": "scatter"
           }
          ],
          "scatter3d": [
           {
            "line": {
             "colorbar": {
              "outlinewidth": 0,
              "ticks": ""
             }
            },
            "marker": {
             "colorbar": {
              "outlinewidth": 0,
              "ticks": ""
             }
            },
            "type": "scatter3d"
           }
          ],
          "scattercarpet": [
           {
            "marker": {
             "colorbar": {
              "outlinewidth": 0,
              "ticks": ""
             }
            },
            "type": "scattercarpet"
           }
          ],
          "scattergeo": [
           {
            "marker": {
             "colorbar": {
              "outlinewidth": 0,
              "ticks": ""
             }
            },
            "type": "scattergeo"
           }
          ],
          "scattergl": [
           {
            "marker": {
             "colorbar": {
              "outlinewidth": 0,
              "ticks": ""
             }
            },
            "type": "scattergl"
           }
          ],
          "scattermapbox": [
           {
            "marker": {
             "colorbar": {
              "outlinewidth": 0,
              "ticks": ""
             }
            },
            "type": "scattermapbox"
           }
          ],
          "scatterpolar": [
           {
            "marker": {
             "colorbar": {
              "outlinewidth": 0,
              "ticks": ""
             }
            },
            "type": "scatterpolar"
           }
          ],
          "scatterpolargl": [
           {
            "marker": {
             "colorbar": {
              "outlinewidth": 0,
              "ticks": ""
             }
            },
            "type": "scatterpolargl"
           }
          ],
          "scatterternary": [
           {
            "marker": {
             "colorbar": {
              "outlinewidth": 0,
              "ticks": ""
             }
            },
            "type": "scatterternary"
           }
          ],
          "surface": [
           {
            "colorbar": {
             "outlinewidth": 0,
             "ticks": ""
            },
            "colorscale": [
             [
              0,
              "#0d0887"
             ],
             [
              0.1111111111111111,
              "#46039f"
             ],
             [
              0.2222222222222222,
              "#7201a8"
             ],
             [
              0.3333333333333333,
              "#9c179e"
             ],
             [
              0.4444444444444444,
              "#bd3786"
             ],
             [
              0.5555555555555556,
              "#d8576b"
             ],
             [
              0.6666666666666666,
              "#ed7953"
             ],
             [
              0.7777777777777778,
              "#fb9f3a"
             ],
             [
              0.8888888888888888,
              "#fdca26"
             ],
             [
              1,
              "#f0f921"
             ]
            ],
            "type": "surface"
           }
          ],
          "table": [
           {
            "cells": {
             "fill": {
              "color": "#EBF0F8"
             },
             "line": {
              "color": "white"
             }
            },
            "header": {
             "fill": {
              "color": "#C8D4E3"
             },
             "line": {
              "color": "white"
             }
            },
            "type": "table"
           }
          ]
         },
         "layout": {
          "annotationdefaults": {
           "arrowcolor": "#2a3f5f",
           "arrowhead": 0,
           "arrowwidth": 1
          },
          "autotypenumbers": "strict",
          "coloraxis": {
           "colorbar": {
            "outlinewidth": 0,
            "ticks": ""
           }
          },
          "colorscale": {
           "diverging": [
            [
             0,
             "#8e0152"
            ],
            [
             0.1,
             "#c51b7d"
            ],
            [
             0.2,
             "#de77ae"
            ],
            [
             0.3,
             "#f1b6da"
            ],
            [
             0.4,
             "#fde0ef"
            ],
            [
             0.5,
             "#f7f7f7"
            ],
            [
             0.6,
             "#e6f5d0"
            ],
            [
             0.7,
             "#b8e186"
            ],
            [
             0.8,
             "#7fbc41"
            ],
            [
             0.9,
             "#4d9221"
            ],
            [
             1,
             "#276419"
            ]
           ],
           "sequential": [
            [
             0,
             "#0d0887"
            ],
            [
             0.1111111111111111,
             "#46039f"
            ],
            [
             0.2222222222222222,
             "#7201a8"
            ],
            [
             0.3333333333333333,
             "#9c179e"
            ],
            [
             0.4444444444444444,
             "#bd3786"
            ],
            [
             0.5555555555555556,
             "#d8576b"
            ],
            [
             0.6666666666666666,
             "#ed7953"
            ],
            [
             0.7777777777777778,
             "#fb9f3a"
            ],
            [
             0.8888888888888888,
             "#fdca26"
            ],
            [
             1,
             "#f0f921"
            ]
           ],
           "sequentialminus": [
            [
             0,
             "#0d0887"
            ],
            [
             0.1111111111111111,
             "#46039f"
            ],
            [
             0.2222222222222222,
             "#7201a8"
            ],
            [
             0.3333333333333333,
             "#9c179e"
            ],
            [
             0.4444444444444444,
             "#bd3786"
            ],
            [
             0.5555555555555556,
             "#d8576b"
            ],
            [
             0.6666666666666666,
             "#ed7953"
            ],
            [
             0.7777777777777778,
             "#fb9f3a"
            ],
            [
             0.8888888888888888,
             "#fdca26"
            ],
            [
             1,
             "#f0f921"
            ]
           ]
          },
          "colorway": [
           "#636efa",
           "#EF553B",
           "#00cc96",
           "#ab63fa",
           "#FFA15A",
           "#19d3f3",
           "#FF6692",
           "#B6E880",
           "#FF97FF",
           "#FECB52"
          ],
          "font": {
           "color": "#2a3f5f"
          },
          "geo": {
           "bgcolor": "white",
           "lakecolor": "white",
           "landcolor": "#E5ECF6",
           "showlakes": true,
           "showland": true,
           "subunitcolor": "white"
          },
          "hoverlabel": {
           "align": "left"
          },
          "hovermode": "closest",
          "mapbox": {
           "style": "light"
          },
          "paper_bgcolor": "white",
          "plot_bgcolor": "#E5ECF6",
          "polar": {
           "angularaxis": {
            "gridcolor": "white",
            "linecolor": "white",
            "ticks": ""
           },
           "bgcolor": "#E5ECF6",
           "radialaxis": {
            "gridcolor": "white",
            "linecolor": "white",
            "ticks": ""
           }
          },
          "scene": {
           "xaxis": {
            "backgroundcolor": "#E5ECF6",
            "gridcolor": "white",
            "gridwidth": 2,
            "linecolor": "white",
            "showbackground": true,
            "ticks": "",
            "zerolinecolor": "white"
           },
           "yaxis": {
            "backgroundcolor": "#E5ECF6",
            "gridcolor": "white",
            "gridwidth": 2,
            "linecolor": "white",
            "showbackground": true,
            "ticks": "",
            "zerolinecolor": "white"
           },
           "zaxis": {
            "backgroundcolor": "#E5ECF6",
            "gridcolor": "white",
            "gridwidth": 2,
            "linecolor": "white",
            "showbackground": true,
            "ticks": "",
            "zerolinecolor": "white"
           }
          },
          "shapedefaults": {
           "line": {
            "color": "#2a3f5f"
           }
          },
          "ternary": {
           "aaxis": {
            "gridcolor": "white",
            "linecolor": "white",
            "ticks": ""
           },
           "baxis": {
            "gridcolor": "white",
            "linecolor": "white",
            "ticks": ""
           },
           "bgcolor": "#E5ECF6",
           "caxis": {
            "gridcolor": "white",
            "linecolor": "white",
            "ticks": ""
           }
          },
          "title": {
           "x": 0.05
          },
          "xaxis": {
           "automargin": true,
           "gridcolor": "white",
           "linecolor": "white",
           "ticks": "",
           "title": {
            "standoff": 15
           },
           "zerolinecolor": "white",
           "zerolinewidth": 2
          },
          "yaxis": {
           "automargin": true,
           "gridcolor": "white",
           "linecolor": "white",
           "ticks": "",
           "title": {
            "standoff": 15
           },
           "zerolinecolor": "white",
           "zerolinewidth": 2
          }
         }
        },
        "title": {
         "text": "Média das notas no IMDB dos 15 diretores mais recorrentes no TOP 1000"
        },
        "xaxis": {
         "anchor": "y",
         "domain": [
          0,
          1
         ],
         "title": {
          "text": "Director"
         }
        },
        "yaxis": {
         "anchor": "x",
         "domain": [
          0,
          1
         ],
         "title": {
          "text": "IMDB_Rating"
         }
        }
       }
      },
      "text/html": [
       "<div>                            <div id=\"8fab0eb3-1576-4d8b-b118-7710b82777fe\" class=\"plotly-graph-div\" style=\"height:525px; width:100%;\"></div>            <script type=\"text/javascript\">                require([\"plotly\"], function(Plotly) {                    window.PLOTLYENV=window.PLOTLYENV || {};                                    if (document.getElementById(\"8fab0eb3-1576-4d8b-b118-7710b82777fe\")) {                    Plotly.newPlot(                        \"8fab0eb3-1576-4d8b-b118-7710b82777fe\",                        [{\"alignmentgroup\":\"True\",\"hovertemplate\":\"Director=%{x}<br>IMDB_Rating=%{y}<extra></extra>\",\"legendgroup\":\"\",\"marker\":{\"color\":\"#636efa\",\"pattern\":{\"shape\":\"\"}},\"name\":\"\",\"offsetgroup\":\"\",\"orientation\":\"v\",\"showlegend\":false,\"textposition\":\"auto\",\"x\":[\"Alfred Hitchcock\",\"Billy Wilder\",\"Christopher Nolan\",\"Clint Eastwood\",\"David Fincher\",\"Hayao Miyazaki\",\"Martin Scorsese\",\"Quentin Tarantino\",\"Ridley Scott\",\"Rob Reiner\",\"Sergio Leone\",\"Stanley Kubrick\",\"Steven Spielberg\",\"Wes Anderson\",\"Woody Allen\"],\"xaxis\":\"x\",\"y\":[8.144444444444444,8.200000000000001,8.4625,7.9125,8.0375,8.142857142857142,8.17,8.175,8.083333333333334,7.828571428571428,8.266666666666667,8.266666666666667,8.03076923076923,7.833333333333333,7.8],\"yaxis\":\"y\",\"type\":\"bar\"}],                        {\"template\":{\"data\":{\"histogram2dcontour\":[{\"type\":\"histogram2dcontour\",\"colorbar\":{\"outlinewidth\":0,\"ticks\":\"\"},\"colorscale\":[[0.0,\"#0d0887\"],[0.1111111111111111,\"#46039f\"],[0.2222222222222222,\"#7201a8\"],[0.3333333333333333,\"#9c179e\"],[0.4444444444444444,\"#bd3786\"],[0.5555555555555556,\"#d8576b\"],[0.6666666666666666,\"#ed7953\"],[0.7777777777777778,\"#fb9f3a\"],[0.8888888888888888,\"#fdca26\"],[1.0,\"#f0f921\"]]}],\"choropleth\":[{\"type\":\"choropleth\",\"colorbar\":{\"outlinewidth\":0,\"ticks\":\"\"}}],\"histogram2d\":[{\"type\":\"histogram2d\",\"colorbar\":{\"outlinewidth\":0,\"ticks\":\"\"},\"colorscale\":[[0.0,\"#0d0887\"],[0.1111111111111111,\"#46039f\"],[0.2222222222222222,\"#7201a8\"],[0.3333333333333333,\"#9c179e\"],[0.4444444444444444,\"#bd3786\"],[0.5555555555555556,\"#d8576b\"],[0.6666666666666666,\"#ed7953\"],[0.7777777777777778,\"#fb9f3a\"],[0.8888888888888888,\"#fdca26\"],[1.0,\"#f0f921\"]]}],\"heatmap\":[{\"type\":\"heatmap\",\"colorbar\":{\"outlinewidth\":0,\"ticks\":\"\"},\"colorscale\":[[0.0,\"#0d0887\"],[0.1111111111111111,\"#46039f\"],[0.2222222222222222,\"#7201a8\"],[0.3333333333333333,\"#9c179e\"],[0.4444444444444444,\"#bd3786\"],[0.5555555555555556,\"#d8576b\"],[0.6666666666666666,\"#ed7953\"],[0.7777777777777778,\"#fb9f3a\"],[0.8888888888888888,\"#fdca26\"],[1.0,\"#f0f921\"]]}],\"heatmapgl\":[{\"type\":\"heatmapgl\",\"colorbar\":{\"outlinewidth\":0,\"ticks\":\"\"},\"colorscale\":[[0.0,\"#0d0887\"],[0.1111111111111111,\"#46039f\"],[0.2222222222222222,\"#7201a8\"],[0.3333333333333333,\"#9c179e\"],[0.4444444444444444,\"#bd3786\"],[0.5555555555555556,\"#d8576b\"],[0.6666666666666666,\"#ed7953\"],[0.7777777777777778,\"#fb9f3a\"],[0.8888888888888888,\"#fdca26\"],[1.0,\"#f0f921\"]]}],\"contourcarpet\":[{\"type\":\"contourcarpet\",\"colorbar\":{\"outlinewidth\":0,\"ticks\":\"\"}}],\"contour\":[{\"type\":\"contour\",\"colorbar\":{\"outlinewidth\":0,\"ticks\":\"\"},\"colorscale\":[[0.0,\"#0d0887\"],[0.1111111111111111,\"#46039f\"],[0.2222222222222222,\"#7201a8\"],[0.3333333333333333,\"#9c179e\"],[0.4444444444444444,\"#bd3786\"],[0.5555555555555556,\"#d8576b\"],[0.6666666666666666,\"#ed7953\"],[0.7777777777777778,\"#fb9f3a\"],[0.8888888888888888,\"#fdca26\"],[1.0,\"#f0f921\"]]}],\"surface\":[{\"type\":\"surface\",\"colorbar\":{\"outlinewidth\":0,\"ticks\":\"\"},\"colorscale\":[[0.0,\"#0d0887\"],[0.1111111111111111,\"#46039f\"],[0.2222222222222222,\"#7201a8\"],[0.3333333333333333,\"#9c179e\"],[0.4444444444444444,\"#bd3786\"],[0.5555555555555556,\"#d8576b\"],[0.6666666666666666,\"#ed7953\"],[0.7777777777777778,\"#fb9f3a\"],[0.8888888888888888,\"#fdca26\"],[1.0,\"#f0f921\"]]}],\"mesh3d\":[{\"type\":\"mesh3d\",\"colorbar\":{\"outlinewidth\":0,\"ticks\":\"\"}}],\"scatter\":[{\"fillpattern\":{\"fillmode\":\"overlay\",\"size\":10,\"solidity\":0.2},\"type\":\"scatter\"}],\"parcoords\":[{\"type\":\"parcoords\",\"line\":{\"colorbar\":{\"outlinewidth\":0,\"ticks\":\"\"}}}],\"scatterpolargl\":[{\"type\":\"scatterpolargl\",\"marker\":{\"colorbar\":{\"outlinewidth\":0,\"ticks\":\"\"}}}],\"bar\":[{\"error_x\":{\"color\":\"#2a3f5f\"},\"error_y\":{\"color\":\"#2a3f5f\"},\"marker\":{\"line\":{\"color\":\"#E5ECF6\",\"width\":0.5},\"pattern\":{\"fillmode\":\"overlay\",\"size\":10,\"solidity\":0.2}},\"type\":\"bar\"}],\"scattergeo\":[{\"type\":\"scattergeo\",\"marker\":{\"colorbar\":{\"outlinewidth\":0,\"ticks\":\"\"}}}],\"scatterpolar\":[{\"type\":\"scatterpolar\",\"marker\":{\"colorbar\":{\"outlinewidth\":0,\"ticks\":\"\"}}}],\"histogram\":[{\"marker\":{\"pattern\":{\"fillmode\":\"overlay\",\"size\":10,\"solidity\":0.2}},\"type\":\"histogram\"}],\"scattergl\":[{\"type\":\"scattergl\",\"marker\":{\"colorbar\":{\"outlinewidth\":0,\"ticks\":\"\"}}}],\"scatter3d\":[{\"type\":\"scatter3d\",\"line\":{\"colorbar\":{\"outlinewidth\":0,\"ticks\":\"\"}},\"marker\":{\"colorbar\":{\"outlinewidth\":0,\"ticks\":\"\"}}}],\"scattermapbox\":[{\"type\":\"scattermapbox\",\"marker\":{\"colorbar\":{\"outlinewidth\":0,\"ticks\":\"\"}}}],\"scatterternary\":[{\"type\":\"scatterternary\",\"marker\":{\"colorbar\":{\"outlinewidth\":0,\"ticks\":\"\"}}}],\"scattercarpet\":[{\"type\":\"scattercarpet\",\"marker\":{\"colorbar\":{\"outlinewidth\":0,\"ticks\":\"\"}}}],\"carpet\":[{\"aaxis\":{\"endlinecolor\":\"#2a3f5f\",\"gridcolor\":\"white\",\"linecolor\":\"white\",\"minorgridcolor\":\"white\",\"startlinecolor\":\"#2a3f5f\"},\"baxis\":{\"endlinecolor\":\"#2a3f5f\",\"gridcolor\":\"white\",\"linecolor\":\"white\",\"minorgridcolor\":\"white\",\"startlinecolor\":\"#2a3f5f\"},\"type\":\"carpet\"}],\"table\":[{\"cells\":{\"fill\":{\"color\":\"#EBF0F8\"},\"line\":{\"color\":\"white\"}},\"header\":{\"fill\":{\"color\":\"#C8D4E3\"},\"line\":{\"color\":\"white\"}},\"type\":\"table\"}],\"barpolar\":[{\"marker\":{\"line\":{\"color\":\"#E5ECF6\",\"width\":0.5},\"pattern\":{\"fillmode\":\"overlay\",\"size\":10,\"solidity\":0.2}},\"type\":\"barpolar\"}],\"pie\":[{\"automargin\":true,\"type\":\"pie\"}]},\"layout\":{\"autotypenumbers\":\"strict\",\"colorway\":[\"#636efa\",\"#EF553B\",\"#00cc96\",\"#ab63fa\",\"#FFA15A\",\"#19d3f3\",\"#FF6692\",\"#B6E880\",\"#FF97FF\",\"#FECB52\"],\"font\":{\"color\":\"#2a3f5f\"},\"hovermode\":\"closest\",\"hoverlabel\":{\"align\":\"left\"},\"paper_bgcolor\":\"white\",\"plot_bgcolor\":\"#E5ECF6\",\"polar\":{\"bgcolor\":\"#E5ECF6\",\"angularaxis\":{\"gridcolor\":\"white\",\"linecolor\":\"white\",\"ticks\":\"\"},\"radialaxis\":{\"gridcolor\":\"white\",\"linecolor\":\"white\",\"ticks\":\"\"}},\"ternary\":{\"bgcolor\":\"#E5ECF6\",\"aaxis\":{\"gridcolor\":\"white\",\"linecolor\":\"white\",\"ticks\":\"\"},\"baxis\":{\"gridcolor\":\"white\",\"linecolor\":\"white\",\"ticks\":\"\"},\"caxis\":{\"gridcolor\":\"white\",\"linecolor\":\"white\",\"ticks\":\"\"}},\"coloraxis\":{\"colorbar\":{\"outlinewidth\":0,\"ticks\":\"\"}},\"colorscale\":{\"sequential\":[[0.0,\"#0d0887\"],[0.1111111111111111,\"#46039f\"],[0.2222222222222222,\"#7201a8\"],[0.3333333333333333,\"#9c179e\"],[0.4444444444444444,\"#bd3786\"],[0.5555555555555556,\"#d8576b\"],[0.6666666666666666,\"#ed7953\"],[0.7777777777777778,\"#fb9f3a\"],[0.8888888888888888,\"#fdca26\"],[1.0,\"#f0f921\"]],\"sequentialminus\":[[0.0,\"#0d0887\"],[0.1111111111111111,\"#46039f\"],[0.2222222222222222,\"#7201a8\"],[0.3333333333333333,\"#9c179e\"],[0.4444444444444444,\"#bd3786\"],[0.5555555555555556,\"#d8576b\"],[0.6666666666666666,\"#ed7953\"],[0.7777777777777778,\"#fb9f3a\"],[0.8888888888888888,\"#fdca26\"],[1.0,\"#f0f921\"]],\"diverging\":[[0,\"#8e0152\"],[0.1,\"#c51b7d\"],[0.2,\"#de77ae\"],[0.3,\"#f1b6da\"],[0.4,\"#fde0ef\"],[0.5,\"#f7f7f7\"],[0.6,\"#e6f5d0\"],[0.7,\"#b8e186\"],[0.8,\"#7fbc41\"],[0.9,\"#4d9221\"],[1,\"#276419\"]]},\"xaxis\":{\"gridcolor\":\"white\",\"linecolor\":\"white\",\"ticks\":\"\",\"title\":{\"standoff\":15},\"zerolinecolor\":\"white\",\"automargin\":true,\"zerolinewidth\":2},\"yaxis\":{\"gridcolor\":\"white\",\"linecolor\":\"white\",\"ticks\":\"\",\"title\":{\"standoff\":15},\"zerolinecolor\":\"white\",\"automargin\":true,\"zerolinewidth\":2},\"scene\":{\"xaxis\":{\"backgroundcolor\":\"#E5ECF6\",\"gridcolor\":\"white\",\"linecolor\":\"white\",\"showbackground\":true,\"ticks\":\"\",\"zerolinecolor\":\"white\",\"gridwidth\":2},\"yaxis\":{\"backgroundcolor\":\"#E5ECF6\",\"gridcolor\":\"white\",\"linecolor\":\"white\",\"showbackground\":true,\"ticks\":\"\",\"zerolinecolor\":\"white\",\"gridwidth\":2},\"zaxis\":{\"backgroundcolor\":\"#E5ECF6\",\"gridcolor\":\"white\",\"linecolor\":\"white\",\"showbackground\":true,\"ticks\":\"\",\"zerolinecolor\":\"white\",\"gridwidth\":2}},\"shapedefaults\":{\"line\":{\"color\":\"#2a3f5f\"}},\"annotationdefaults\":{\"arrowcolor\":\"#2a3f5f\",\"arrowhead\":0,\"arrowwidth\":1},\"geo\":{\"bgcolor\":\"white\",\"landcolor\":\"#E5ECF6\",\"subunitcolor\":\"white\",\"showland\":true,\"showlakes\":true,\"lakecolor\":\"white\"},\"title\":{\"x\":0.05},\"mapbox\":{\"style\":\"light\"}}},\"xaxis\":{\"anchor\":\"y\",\"domain\":[0.0,1.0],\"title\":{\"text\":\"Director\"}},\"yaxis\":{\"anchor\":\"x\",\"domain\":[0.0,1.0],\"title\":{\"text\":\"IMDB_Rating\"}},\"legend\":{\"tracegroupgap\":0},\"title\":{\"text\":\"M\\u00e9dia das notas no IMDB dos 15 diretores mais recorrentes no TOP 1000\"},\"barmode\":\"relative\"},                        {\"responsive\": true}                    ).then(function(){\n",
       "                            \n",
       "var gd = document.getElementById('8fab0eb3-1576-4d8b-b118-7710b82777fe');\n",
       "var x = new MutationObserver(function (mutations, observer) {{\n",
       "        var display = window.getComputedStyle(gd).display;\n",
       "        if (!display || display === 'none') {{\n",
       "            console.log([gd, 'removed!']);\n",
       "            Plotly.purge(gd);\n",
       "            observer.disconnect();\n",
       "        }}\n",
       "}});\n",
       "\n",
       "// Listen for the removal of the full notebook cells\n",
       "var notebookContainer = gd.closest('#notebook-container');\n",
       "if (notebookContainer) {{\n",
       "    x.observe(notebookContainer, {childList: true});\n",
       "}}\n",
       "\n",
       "// Listen for the clearing of the current output cell\n",
       "var outputEl = gd.closest('.output');\n",
       "if (outputEl) {{\n",
       "    x.observe(outputEl, {childList: true});\n",
       "}}\n",
       "\n",
       "                        })                };                });            </script>        </div>"
      ]
     },
     "metadata": {},
     "output_type": "display_data"
    }
   ],
   "source": [
    "fig = px.bar(df_diretores_mais_presentes_media, x='Director', y='IMDB_Rating', title = 'Média das notas no IMDB dos 15 diretores mais recorrentes no TOP 1000')\n",
    "\n",
    "fig.show()"
   ]
  },
  {
   "cell_type": "markdown",
   "metadata": {},
   "source": [
    "**Comparação das médias de notas dos diretores mais recorrentes vs. diretores menos recorrentes no Top 1000**"
   ]
  },
  {
   "cell_type": "code",
   "execution_count": 64,
   "metadata": {},
   "outputs": [
    {
     "name": "stdout",
     "output_type": "stream",
     "text": [
      "Média nota dos diretores menos recorrentes 7.95\n",
      "Média nota dos diretores mais recorrentes 8.09\n"
     ]
    }
   ],
   "source": [
    "media_mais = df_diretores_mais_presentes.IMDB_Rating.mean()\n",
    "\n",
    "df_diretores_menos_presentes = df[ ~(df['IMDB_Rating'].isin(diretores_mais_presentes))]\n",
    "media_menos = df_diretores_menos_presentes.IMDB_Rating.mean()\n",
    "\n",
    "print(f'Média nota dos diretores menos recorrentes {round(media_menos, 2)}')\n",
    "print(f'Média nota dos diretores mais recorrentes {round(media_mais, 2)}')"
   ]
  },
  {
   "cell_type": "markdown",
   "metadata": {},
   "source": [
    "**Média das arrecadações através dos anos de lançamento**: Para\n",
    "a visualização, escolheu-se um gráfico de linhas para comparar visualmente as médias das arrecadações ao longo do tempo.\n",
    "\n",
    "Pelo gráfico, nota-se que há uma tendência de aumento das arrecadações ao longo do tempo.\n"
   ]
  },
  {
   "cell_type": "code",
   "execution_count": 85,
   "metadata": {},
   "outputs": [
    {
     "data": {
      "application/vnd.plotly.v1+json": {
       "config": {
        "plotlyServerURL": "https://plot.ly"
       },
       "data": [
        {
         "hovertemplate": "Released_Year=%{x}<br>Gross=%{y}<extra></extra>",
         "legendgroup": "",
         "line": {
          "color": "#636efa",
          "dash": "solid"
         },
         "marker": {
          "symbol": "circle"
         },
         "mode": "lines",
         "name": "",
         "orientation": "v",
         "showlegend": false,
         "type": "scatter",
         "x": [
          1921,
          1924,
          1925,
          1926,
          1927,
          1928,
          1930,
          1931,
          1933,
          1934,
          1935,
          1936,
          1938,
          1939,
          1940,
          1941,
          1942,
          1944,
          1945,
          1946,
          1948,
          1949,
          1950,
          1951,
          1952,
          1953,
          1954,
          1956,
          1957,
          1958,
          1959,
          1960,
          1961,
          1962,
          1963,
          1964,
          1965,
          1966,
          1967,
          1968,
          1969,
          1970,
          1971,
          1972,
          1973,
          1974,
          1975,
          1976,
          1977,
          1978,
          1979,
          1980,
          1981,
          1982,
          1983,
          1984,
          1985,
          1986,
          1987,
          1988,
          1989,
          1990,
          1991,
          1992,
          1993,
          1994,
          1995,
          1996,
          1997,
          1998,
          1999,
          2000,
          2001,
          2002,
          2003,
          2004,
          2005,
          2006,
          2007,
          2008,
          2009,
          2010,
          2011,
          2012,
          2013,
          2014,
          2015,
          2016,
          2017,
          2018,
          2019
         ],
         "xaxis": "x",
         "y": [
          5450000,
          977375,
          5450000,
          1033895,
          539540,
          21877,
          3270000,
          24029,
          10000000,
          4360000,
          2537520,
          163245,
          3981000,
          70117493,
          16281514.4,
          1585634,
          1024560,
          5040000,
          9460000,
          13551333.333333334,
          5014000,
          449191,
          10177,
          5034002.75,
          9606342.666666666,
          30500000,
          11661484,
          93740000,
          19147666.666666668,
          7669327.666666667,
          31377500,
          15269100.714285715,
          5450000,
          29324714.666666668,
          12326039,
          42318285.833333336,
          96645428.66666667,
          11517340.333333334,
          47908746.666666664,
          32495227,
          53052804.666666664,
          21206791.666666668,
          24581160.714285713,
          31801639.166666668,
          54877696.1,
          59304000,
          84681308.4,
          49964510.8,
          164676258.33333334,
          34019832,
          49523597.72727273,
          92217719.66666667,
          97849612.5,
          74437163.8,
          81725643.2,
          41560384.44444445,
          56469029,
          50417419,
          34127212.666666664,
          60616721.44444445,
          78141393.22222222,
          94786081.875,
          64991846.25,
          74118714.7,
          56702857.428571425,
          79000382,
          60240507.5625,
          25387709.555555556,
          84614436.93333334,
          36790225.8125,
          74865442.52941176,
          53335434,
          83912756.72,
          62439931.833333336,
          78236027,
          51665875.71428572,
          68251296.26666667,
          52128628,
          42498737.52173913,
          107535644.11764705,
          122353508.41666667,
          124499668.55,
          68258514.5,
          127122048.95,
          51294411.84,
          91848790.03333333,
          111920591.22727273,
          112850322.82608695,
          108472486.4736842,
          186268383,
          150421418
         ],
         "yaxis": "y"
        }
       ],
       "layout": {
        "legend": {
         "tracegroupgap": 0
        },
        "template": {
         "data": {
          "bar": [
           {
            "error_x": {
             "color": "#2a3f5f"
            },
            "error_y": {
             "color": "#2a3f5f"
            },
            "marker": {
             "line": {
              "color": "#E5ECF6",
              "width": 0.5
             },
             "pattern": {
              "fillmode": "overlay",
              "size": 10,
              "solidity": 0.2
             }
            },
            "type": "bar"
           }
          ],
          "barpolar": [
           {
            "marker": {
             "line": {
              "color": "#E5ECF6",
              "width": 0.5
             },
             "pattern": {
              "fillmode": "overlay",
              "size": 10,
              "solidity": 0.2
             }
            },
            "type": "barpolar"
           }
          ],
          "carpet": [
           {
            "aaxis": {
             "endlinecolor": "#2a3f5f",
             "gridcolor": "white",
             "linecolor": "white",
             "minorgridcolor": "white",
             "startlinecolor": "#2a3f5f"
            },
            "baxis": {
             "endlinecolor": "#2a3f5f",
             "gridcolor": "white",
             "linecolor": "white",
             "minorgridcolor": "white",
             "startlinecolor": "#2a3f5f"
            },
            "type": "carpet"
           }
          ],
          "choropleth": [
           {
            "colorbar": {
             "outlinewidth": 0,
             "ticks": ""
            },
            "type": "choropleth"
           }
          ],
          "contour": [
           {
            "colorbar": {
             "outlinewidth": 0,
             "ticks": ""
            },
            "colorscale": [
             [
              0,
              "#0d0887"
             ],
             [
              0.1111111111111111,
              "#46039f"
             ],
             [
              0.2222222222222222,
              "#7201a8"
             ],
             [
              0.3333333333333333,
              "#9c179e"
             ],
             [
              0.4444444444444444,
              "#bd3786"
             ],
             [
              0.5555555555555556,
              "#d8576b"
             ],
             [
              0.6666666666666666,
              "#ed7953"
             ],
             [
              0.7777777777777778,
              "#fb9f3a"
             ],
             [
              0.8888888888888888,
              "#fdca26"
             ],
             [
              1,
              "#f0f921"
             ]
            ],
            "type": "contour"
           }
          ],
          "contourcarpet": [
           {
            "colorbar": {
             "outlinewidth": 0,
             "ticks": ""
            },
            "type": "contourcarpet"
           }
          ],
          "heatmap": [
           {
            "colorbar": {
             "outlinewidth": 0,
             "ticks": ""
            },
            "colorscale": [
             [
              0,
              "#0d0887"
             ],
             [
              0.1111111111111111,
              "#46039f"
             ],
             [
              0.2222222222222222,
              "#7201a8"
             ],
             [
              0.3333333333333333,
              "#9c179e"
             ],
             [
              0.4444444444444444,
              "#bd3786"
             ],
             [
              0.5555555555555556,
              "#d8576b"
             ],
             [
              0.6666666666666666,
              "#ed7953"
             ],
             [
              0.7777777777777778,
              "#fb9f3a"
             ],
             [
              0.8888888888888888,
              "#fdca26"
             ],
             [
              1,
              "#f0f921"
             ]
            ],
            "type": "heatmap"
           }
          ],
          "heatmapgl": [
           {
            "colorbar": {
             "outlinewidth": 0,
             "ticks": ""
            },
            "colorscale": [
             [
              0,
              "#0d0887"
             ],
             [
              0.1111111111111111,
              "#46039f"
             ],
             [
              0.2222222222222222,
              "#7201a8"
             ],
             [
              0.3333333333333333,
              "#9c179e"
             ],
             [
              0.4444444444444444,
              "#bd3786"
             ],
             [
              0.5555555555555556,
              "#d8576b"
             ],
             [
              0.6666666666666666,
              "#ed7953"
             ],
             [
              0.7777777777777778,
              "#fb9f3a"
             ],
             [
              0.8888888888888888,
              "#fdca26"
             ],
             [
              1,
              "#f0f921"
             ]
            ],
            "type": "heatmapgl"
           }
          ],
          "histogram": [
           {
            "marker": {
             "pattern": {
              "fillmode": "overlay",
              "size": 10,
              "solidity": 0.2
             }
            },
            "type": "histogram"
           }
          ],
          "histogram2d": [
           {
            "colorbar": {
             "outlinewidth": 0,
             "ticks": ""
            },
            "colorscale": [
             [
              0,
              "#0d0887"
             ],
             [
              0.1111111111111111,
              "#46039f"
             ],
             [
              0.2222222222222222,
              "#7201a8"
             ],
             [
              0.3333333333333333,
              "#9c179e"
             ],
             [
              0.4444444444444444,
              "#bd3786"
             ],
             [
              0.5555555555555556,
              "#d8576b"
             ],
             [
              0.6666666666666666,
              "#ed7953"
             ],
             [
              0.7777777777777778,
              "#fb9f3a"
             ],
             [
              0.8888888888888888,
              "#fdca26"
             ],
             [
              1,
              "#f0f921"
             ]
            ],
            "type": "histogram2d"
           }
          ],
          "histogram2dcontour": [
           {
            "colorbar": {
             "outlinewidth": 0,
             "ticks": ""
            },
            "colorscale": [
             [
              0,
              "#0d0887"
             ],
             [
              0.1111111111111111,
              "#46039f"
             ],
             [
              0.2222222222222222,
              "#7201a8"
             ],
             [
              0.3333333333333333,
              "#9c179e"
             ],
             [
              0.4444444444444444,
              "#bd3786"
             ],
             [
              0.5555555555555556,
              "#d8576b"
             ],
             [
              0.6666666666666666,
              "#ed7953"
             ],
             [
              0.7777777777777778,
              "#fb9f3a"
             ],
             [
              0.8888888888888888,
              "#fdca26"
             ],
             [
              1,
              "#f0f921"
             ]
            ],
            "type": "histogram2dcontour"
           }
          ],
          "mesh3d": [
           {
            "colorbar": {
             "outlinewidth": 0,
             "ticks": ""
            },
            "type": "mesh3d"
           }
          ],
          "parcoords": [
           {
            "line": {
             "colorbar": {
              "outlinewidth": 0,
              "ticks": ""
             }
            },
            "type": "parcoords"
           }
          ],
          "pie": [
           {
            "automargin": true,
            "type": "pie"
           }
          ],
          "scatter": [
           {
            "fillpattern": {
             "fillmode": "overlay",
             "size": 10,
             "solidity": 0.2
            },
            "type": "scatter"
           }
          ],
          "scatter3d": [
           {
            "line": {
             "colorbar": {
              "outlinewidth": 0,
              "ticks": ""
             }
            },
            "marker": {
             "colorbar": {
              "outlinewidth": 0,
              "ticks": ""
             }
            },
            "type": "scatter3d"
           }
          ],
          "scattercarpet": [
           {
            "marker": {
             "colorbar": {
              "outlinewidth": 0,
              "ticks": ""
             }
            },
            "type": "scattercarpet"
           }
          ],
          "scattergeo": [
           {
            "marker": {
             "colorbar": {
              "outlinewidth": 0,
              "ticks": ""
             }
            },
            "type": "scattergeo"
           }
          ],
          "scattergl": [
           {
            "marker": {
             "colorbar": {
              "outlinewidth": 0,
              "ticks": ""
             }
            },
            "type": "scattergl"
           }
          ],
          "scattermapbox": [
           {
            "marker": {
             "colorbar": {
              "outlinewidth": 0,
              "ticks": ""
             }
            },
            "type": "scattermapbox"
           }
          ],
          "scatterpolar": [
           {
            "marker": {
             "colorbar": {
              "outlinewidth": 0,
              "ticks": ""
             }
            },
            "type": "scatterpolar"
           }
          ],
          "scatterpolargl": [
           {
            "marker": {
             "colorbar": {
              "outlinewidth": 0,
              "ticks": ""
             }
            },
            "type": "scatterpolargl"
           }
          ],
          "scatterternary": [
           {
            "marker": {
             "colorbar": {
              "outlinewidth": 0,
              "ticks": ""
             }
            },
            "type": "scatterternary"
           }
          ],
          "surface": [
           {
            "colorbar": {
             "outlinewidth": 0,
             "ticks": ""
            },
            "colorscale": [
             [
              0,
              "#0d0887"
             ],
             [
              0.1111111111111111,
              "#46039f"
             ],
             [
              0.2222222222222222,
              "#7201a8"
             ],
             [
              0.3333333333333333,
              "#9c179e"
             ],
             [
              0.4444444444444444,
              "#bd3786"
             ],
             [
              0.5555555555555556,
              "#d8576b"
             ],
             [
              0.6666666666666666,
              "#ed7953"
             ],
             [
              0.7777777777777778,
              "#fb9f3a"
             ],
             [
              0.8888888888888888,
              "#fdca26"
             ],
             [
              1,
              "#f0f921"
             ]
            ],
            "type": "surface"
           }
          ],
          "table": [
           {
            "cells": {
             "fill": {
              "color": "#EBF0F8"
             },
             "line": {
              "color": "white"
             }
            },
            "header": {
             "fill": {
              "color": "#C8D4E3"
             },
             "line": {
              "color": "white"
             }
            },
            "type": "table"
           }
          ]
         },
         "layout": {
          "annotationdefaults": {
           "arrowcolor": "#2a3f5f",
           "arrowhead": 0,
           "arrowwidth": 1
          },
          "autotypenumbers": "strict",
          "coloraxis": {
           "colorbar": {
            "outlinewidth": 0,
            "ticks": ""
           }
          },
          "colorscale": {
           "diverging": [
            [
             0,
             "#8e0152"
            ],
            [
             0.1,
             "#c51b7d"
            ],
            [
             0.2,
             "#de77ae"
            ],
            [
             0.3,
             "#f1b6da"
            ],
            [
             0.4,
             "#fde0ef"
            ],
            [
             0.5,
             "#f7f7f7"
            ],
            [
             0.6,
             "#e6f5d0"
            ],
            [
             0.7,
             "#b8e186"
            ],
            [
             0.8,
             "#7fbc41"
            ],
            [
             0.9,
             "#4d9221"
            ],
            [
             1,
             "#276419"
            ]
           ],
           "sequential": [
            [
             0,
             "#0d0887"
            ],
            [
             0.1111111111111111,
             "#46039f"
            ],
            [
             0.2222222222222222,
             "#7201a8"
            ],
            [
             0.3333333333333333,
             "#9c179e"
            ],
            [
             0.4444444444444444,
             "#bd3786"
            ],
            [
             0.5555555555555556,
             "#d8576b"
            ],
            [
             0.6666666666666666,
             "#ed7953"
            ],
            [
             0.7777777777777778,
             "#fb9f3a"
            ],
            [
             0.8888888888888888,
             "#fdca26"
            ],
            [
             1,
             "#f0f921"
            ]
           ],
           "sequentialminus": [
            [
             0,
             "#0d0887"
            ],
            [
             0.1111111111111111,
             "#46039f"
            ],
            [
             0.2222222222222222,
             "#7201a8"
            ],
            [
             0.3333333333333333,
             "#9c179e"
            ],
            [
             0.4444444444444444,
             "#bd3786"
            ],
            [
             0.5555555555555556,
             "#d8576b"
            ],
            [
             0.6666666666666666,
             "#ed7953"
            ],
            [
             0.7777777777777778,
             "#fb9f3a"
            ],
            [
             0.8888888888888888,
             "#fdca26"
            ],
            [
             1,
             "#f0f921"
            ]
           ]
          },
          "colorway": [
           "#636efa",
           "#EF553B",
           "#00cc96",
           "#ab63fa",
           "#FFA15A",
           "#19d3f3",
           "#FF6692",
           "#B6E880",
           "#FF97FF",
           "#FECB52"
          ],
          "font": {
           "color": "#2a3f5f"
          },
          "geo": {
           "bgcolor": "white",
           "lakecolor": "white",
           "landcolor": "#E5ECF6",
           "showlakes": true,
           "showland": true,
           "subunitcolor": "white"
          },
          "hoverlabel": {
           "align": "left"
          },
          "hovermode": "closest",
          "mapbox": {
           "style": "light"
          },
          "paper_bgcolor": "white",
          "plot_bgcolor": "#E5ECF6",
          "polar": {
           "angularaxis": {
            "gridcolor": "white",
            "linecolor": "white",
            "ticks": ""
           },
           "bgcolor": "#E5ECF6",
           "radialaxis": {
            "gridcolor": "white",
            "linecolor": "white",
            "ticks": ""
           }
          },
          "scene": {
           "xaxis": {
            "backgroundcolor": "#E5ECF6",
            "gridcolor": "white",
            "gridwidth": 2,
            "linecolor": "white",
            "showbackground": true,
            "ticks": "",
            "zerolinecolor": "white"
           },
           "yaxis": {
            "backgroundcolor": "#E5ECF6",
            "gridcolor": "white",
            "gridwidth": 2,
            "linecolor": "white",
            "showbackground": true,
            "ticks": "",
            "zerolinecolor": "white"
           },
           "zaxis": {
            "backgroundcolor": "#E5ECF6",
            "gridcolor": "white",
            "gridwidth": 2,
            "linecolor": "white",
            "showbackground": true,
            "ticks": "",
            "zerolinecolor": "white"
           }
          },
          "shapedefaults": {
           "line": {
            "color": "#2a3f5f"
           }
          },
          "ternary": {
           "aaxis": {
            "gridcolor": "white",
            "linecolor": "white",
            "ticks": ""
           },
           "baxis": {
            "gridcolor": "white",
            "linecolor": "white",
            "ticks": ""
           },
           "bgcolor": "#E5ECF6",
           "caxis": {
            "gridcolor": "white",
            "linecolor": "white",
            "ticks": ""
           }
          },
          "title": {
           "x": 0.05
          },
          "xaxis": {
           "automargin": true,
           "gridcolor": "white",
           "linecolor": "white",
           "ticks": "",
           "title": {
            "standoff": 15
           },
           "zerolinecolor": "white",
           "zerolinewidth": 2
          },
          "yaxis": {
           "automargin": true,
           "gridcolor": "white",
           "linecolor": "white",
           "ticks": "",
           "title": {
            "standoff": 15
           },
           "zerolinecolor": "white",
           "zerolinewidth": 2
          }
         }
        },
        "title": {
         "text": "Média das arrecadações através dos anos de lançamento"
        },
        "xaxis": {
         "anchor": "y",
         "domain": [
          0,
          1
         ],
         "title": {
          "text": "Released_Year"
         }
        },
        "yaxis": {
         "anchor": "x",
         "domain": [
          0,
          1
         ],
         "title": {
          "text": "Gross"
         }
        }
       }
      },
      "text/html": [
       "<div>                            <div id=\"9053a7e5-3eeb-454a-a7e2-b7c10434e6e6\" class=\"plotly-graph-div\" style=\"height:525px; width:100%;\"></div>            <script type=\"text/javascript\">                require([\"plotly\"], function(Plotly) {                    window.PLOTLYENV=window.PLOTLYENV || {};                                    if (document.getElementById(\"9053a7e5-3eeb-454a-a7e2-b7c10434e6e6\")) {                    Plotly.newPlot(                        \"9053a7e5-3eeb-454a-a7e2-b7c10434e6e6\",                        [{\"hovertemplate\":\"Released_Year=%{x}<br>Gross=%{y}<extra></extra>\",\"legendgroup\":\"\",\"line\":{\"color\":\"#636efa\",\"dash\":\"solid\"},\"marker\":{\"symbol\":\"circle\"},\"mode\":\"lines\",\"name\":\"\",\"orientation\":\"v\",\"showlegend\":false,\"x\":[1921,1924,1925,1926,1927,1928,1930,1931,1933,1934,1935,1936,1938,1939,1940,1941,1942,1944,1945,1946,1948,1949,1950,1951,1952,1953,1954,1956,1957,1958,1959,1960,1961,1962,1963,1964,1965,1966,1967,1968,1969,1970,1971,1972,1973,1974,1975,1976,1977,1978,1979,1980,1981,1982,1983,1984,1985,1986,1987,1988,1989,1990,1991,1992,1993,1994,1995,1996,1997,1998,1999,2000,2001,2002,2003,2004,2005,2006,2007,2008,2009,2010,2011,2012,2013,2014,2015,2016,2017,2018,2019],\"xaxis\":\"x\",\"y\":[5450000.0,977375.0,5450000.0,1033895.0,539540.0,21877.0,3270000.0,24029.0,10000000.0,4360000.0,2537520.0,163245.0,3981000.0,70117493.0,16281514.4,1585634.0,1024560.0,5040000.0,9460000.0,13551333.333333334,5014000.0,449191.0,10177.0,5034002.75,9606342.666666666,30500000.0,11661484.0,93740000.0,19147666.666666668,7669327.666666667,31377500.0,15269100.714285715,5450000.0,29324714.666666668,12326039.0,42318285.833333336,96645428.66666667,11517340.333333334,47908746.666666664,32495227.0,53052804.666666664,21206791.666666668,24581160.714285713,31801639.166666668,54877696.1,59304000.0,84681308.4,49964510.8,164676258.33333334,34019832.0,49523597.72727273,92217719.66666667,97849612.5,74437163.8,81725643.2,41560384.44444445,56469029.0,50417419.0,34127212.666666664,60616721.44444445,78141393.22222222,94786081.875,64991846.25,74118714.7,56702857.428571425,79000382.0,60240507.5625,25387709.555555556,84614436.93333334,36790225.8125,74865442.52941176,53335434.0,83912756.72,62439931.833333336,78236027.0,51665875.71428572,68251296.26666667,52128628.0,42498737.52173913,107535644.11764705,122353508.41666667,124499668.55,68258514.5,127122048.95,51294411.84,91848790.03333333,111920591.22727273,112850322.82608695,108472486.4736842,186268383.0,150421418.0],\"yaxis\":\"y\",\"type\":\"scatter\"}],                        {\"template\":{\"data\":{\"histogram2dcontour\":[{\"type\":\"histogram2dcontour\",\"colorbar\":{\"outlinewidth\":0,\"ticks\":\"\"},\"colorscale\":[[0.0,\"#0d0887\"],[0.1111111111111111,\"#46039f\"],[0.2222222222222222,\"#7201a8\"],[0.3333333333333333,\"#9c179e\"],[0.4444444444444444,\"#bd3786\"],[0.5555555555555556,\"#d8576b\"],[0.6666666666666666,\"#ed7953\"],[0.7777777777777778,\"#fb9f3a\"],[0.8888888888888888,\"#fdca26\"],[1.0,\"#f0f921\"]]}],\"choropleth\":[{\"type\":\"choropleth\",\"colorbar\":{\"outlinewidth\":0,\"ticks\":\"\"}}],\"histogram2d\":[{\"type\":\"histogram2d\",\"colorbar\":{\"outlinewidth\":0,\"ticks\":\"\"},\"colorscale\":[[0.0,\"#0d0887\"],[0.1111111111111111,\"#46039f\"],[0.2222222222222222,\"#7201a8\"],[0.3333333333333333,\"#9c179e\"],[0.4444444444444444,\"#bd3786\"],[0.5555555555555556,\"#d8576b\"],[0.6666666666666666,\"#ed7953\"],[0.7777777777777778,\"#fb9f3a\"],[0.8888888888888888,\"#fdca26\"],[1.0,\"#f0f921\"]]}],\"heatmap\":[{\"type\":\"heatmap\",\"colorbar\":{\"outlinewidth\":0,\"ticks\":\"\"},\"colorscale\":[[0.0,\"#0d0887\"],[0.1111111111111111,\"#46039f\"],[0.2222222222222222,\"#7201a8\"],[0.3333333333333333,\"#9c179e\"],[0.4444444444444444,\"#bd3786\"],[0.5555555555555556,\"#d8576b\"],[0.6666666666666666,\"#ed7953\"],[0.7777777777777778,\"#fb9f3a\"],[0.8888888888888888,\"#fdca26\"],[1.0,\"#f0f921\"]]}],\"heatmapgl\":[{\"type\":\"heatmapgl\",\"colorbar\":{\"outlinewidth\":0,\"ticks\":\"\"},\"colorscale\":[[0.0,\"#0d0887\"],[0.1111111111111111,\"#46039f\"],[0.2222222222222222,\"#7201a8\"],[0.3333333333333333,\"#9c179e\"],[0.4444444444444444,\"#bd3786\"],[0.5555555555555556,\"#d8576b\"],[0.6666666666666666,\"#ed7953\"],[0.7777777777777778,\"#fb9f3a\"],[0.8888888888888888,\"#fdca26\"],[1.0,\"#f0f921\"]]}],\"contourcarpet\":[{\"type\":\"contourcarpet\",\"colorbar\":{\"outlinewidth\":0,\"ticks\":\"\"}}],\"contour\":[{\"type\":\"contour\",\"colorbar\":{\"outlinewidth\":0,\"ticks\":\"\"},\"colorscale\":[[0.0,\"#0d0887\"],[0.1111111111111111,\"#46039f\"],[0.2222222222222222,\"#7201a8\"],[0.3333333333333333,\"#9c179e\"],[0.4444444444444444,\"#bd3786\"],[0.5555555555555556,\"#d8576b\"],[0.6666666666666666,\"#ed7953\"],[0.7777777777777778,\"#fb9f3a\"],[0.8888888888888888,\"#fdca26\"],[1.0,\"#f0f921\"]]}],\"surface\":[{\"type\":\"surface\",\"colorbar\":{\"outlinewidth\":0,\"ticks\":\"\"},\"colorscale\":[[0.0,\"#0d0887\"],[0.1111111111111111,\"#46039f\"],[0.2222222222222222,\"#7201a8\"],[0.3333333333333333,\"#9c179e\"],[0.4444444444444444,\"#bd3786\"],[0.5555555555555556,\"#d8576b\"],[0.6666666666666666,\"#ed7953\"],[0.7777777777777778,\"#fb9f3a\"],[0.8888888888888888,\"#fdca26\"],[1.0,\"#f0f921\"]]}],\"mesh3d\":[{\"type\":\"mesh3d\",\"colorbar\":{\"outlinewidth\":0,\"ticks\":\"\"}}],\"scatter\":[{\"fillpattern\":{\"fillmode\":\"overlay\",\"size\":10,\"solidity\":0.2},\"type\":\"scatter\"}],\"parcoords\":[{\"type\":\"parcoords\",\"line\":{\"colorbar\":{\"outlinewidth\":0,\"ticks\":\"\"}}}],\"scatterpolargl\":[{\"type\":\"scatterpolargl\",\"marker\":{\"colorbar\":{\"outlinewidth\":0,\"ticks\":\"\"}}}],\"bar\":[{\"error_x\":{\"color\":\"#2a3f5f\"},\"error_y\":{\"color\":\"#2a3f5f\"},\"marker\":{\"line\":{\"color\":\"#E5ECF6\",\"width\":0.5},\"pattern\":{\"fillmode\":\"overlay\",\"size\":10,\"solidity\":0.2}},\"type\":\"bar\"}],\"scattergeo\":[{\"type\":\"scattergeo\",\"marker\":{\"colorbar\":{\"outlinewidth\":0,\"ticks\":\"\"}}}],\"scatterpolar\":[{\"type\":\"scatterpolar\",\"marker\":{\"colorbar\":{\"outlinewidth\":0,\"ticks\":\"\"}}}],\"histogram\":[{\"marker\":{\"pattern\":{\"fillmode\":\"overlay\",\"size\":10,\"solidity\":0.2}},\"type\":\"histogram\"}],\"scattergl\":[{\"type\":\"scattergl\",\"marker\":{\"colorbar\":{\"outlinewidth\":0,\"ticks\":\"\"}}}],\"scatter3d\":[{\"type\":\"scatter3d\",\"line\":{\"colorbar\":{\"outlinewidth\":0,\"ticks\":\"\"}},\"marker\":{\"colorbar\":{\"outlinewidth\":0,\"ticks\":\"\"}}}],\"scattermapbox\":[{\"type\":\"scattermapbox\",\"marker\":{\"colorbar\":{\"outlinewidth\":0,\"ticks\":\"\"}}}],\"scatterternary\":[{\"type\":\"scatterternary\",\"marker\":{\"colorbar\":{\"outlinewidth\":0,\"ticks\":\"\"}}}],\"scattercarpet\":[{\"type\":\"scattercarpet\",\"marker\":{\"colorbar\":{\"outlinewidth\":0,\"ticks\":\"\"}}}],\"carpet\":[{\"aaxis\":{\"endlinecolor\":\"#2a3f5f\",\"gridcolor\":\"white\",\"linecolor\":\"white\",\"minorgridcolor\":\"white\",\"startlinecolor\":\"#2a3f5f\"},\"baxis\":{\"endlinecolor\":\"#2a3f5f\",\"gridcolor\":\"white\",\"linecolor\":\"white\",\"minorgridcolor\":\"white\",\"startlinecolor\":\"#2a3f5f\"},\"type\":\"carpet\"}],\"table\":[{\"cells\":{\"fill\":{\"color\":\"#EBF0F8\"},\"line\":{\"color\":\"white\"}},\"header\":{\"fill\":{\"color\":\"#C8D4E3\"},\"line\":{\"color\":\"white\"}},\"type\":\"table\"}],\"barpolar\":[{\"marker\":{\"line\":{\"color\":\"#E5ECF6\",\"width\":0.5},\"pattern\":{\"fillmode\":\"overlay\",\"size\":10,\"solidity\":0.2}},\"type\":\"barpolar\"}],\"pie\":[{\"automargin\":true,\"type\":\"pie\"}]},\"layout\":{\"autotypenumbers\":\"strict\",\"colorway\":[\"#636efa\",\"#EF553B\",\"#00cc96\",\"#ab63fa\",\"#FFA15A\",\"#19d3f3\",\"#FF6692\",\"#B6E880\",\"#FF97FF\",\"#FECB52\"],\"font\":{\"color\":\"#2a3f5f\"},\"hovermode\":\"closest\",\"hoverlabel\":{\"align\":\"left\"},\"paper_bgcolor\":\"white\",\"plot_bgcolor\":\"#E5ECF6\",\"polar\":{\"bgcolor\":\"#E5ECF6\",\"angularaxis\":{\"gridcolor\":\"white\",\"linecolor\":\"white\",\"ticks\":\"\"},\"radialaxis\":{\"gridcolor\":\"white\",\"linecolor\":\"white\",\"ticks\":\"\"}},\"ternary\":{\"bgcolor\":\"#E5ECF6\",\"aaxis\":{\"gridcolor\":\"white\",\"linecolor\":\"white\",\"ticks\":\"\"},\"baxis\":{\"gridcolor\":\"white\",\"linecolor\":\"white\",\"ticks\":\"\"},\"caxis\":{\"gridcolor\":\"white\",\"linecolor\":\"white\",\"ticks\":\"\"}},\"coloraxis\":{\"colorbar\":{\"outlinewidth\":0,\"ticks\":\"\"}},\"colorscale\":{\"sequential\":[[0.0,\"#0d0887\"],[0.1111111111111111,\"#46039f\"],[0.2222222222222222,\"#7201a8\"],[0.3333333333333333,\"#9c179e\"],[0.4444444444444444,\"#bd3786\"],[0.5555555555555556,\"#d8576b\"],[0.6666666666666666,\"#ed7953\"],[0.7777777777777778,\"#fb9f3a\"],[0.8888888888888888,\"#fdca26\"],[1.0,\"#f0f921\"]],\"sequentialminus\":[[0.0,\"#0d0887\"],[0.1111111111111111,\"#46039f\"],[0.2222222222222222,\"#7201a8\"],[0.3333333333333333,\"#9c179e\"],[0.4444444444444444,\"#bd3786\"],[0.5555555555555556,\"#d8576b\"],[0.6666666666666666,\"#ed7953\"],[0.7777777777777778,\"#fb9f3a\"],[0.8888888888888888,\"#fdca26\"],[1.0,\"#f0f921\"]],\"diverging\":[[0,\"#8e0152\"],[0.1,\"#c51b7d\"],[0.2,\"#de77ae\"],[0.3,\"#f1b6da\"],[0.4,\"#fde0ef\"],[0.5,\"#f7f7f7\"],[0.6,\"#e6f5d0\"],[0.7,\"#b8e186\"],[0.8,\"#7fbc41\"],[0.9,\"#4d9221\"],[1,\"#276419\"]]},\"xaxis\":{\"gridcolor\":\"white\",\"linecolor\":\"white\",\"ticks\":\"\",\"title\":{\"standoff\":15},\"zerolinecolor\":\"white\",\"automargin\":true,\"zerolinewidth\":2},\"yaxis\":{\"gridcolor\":\"white\",\"linecolor\":\"white\",\"ticks\":\"\",\"title\":{\"standoff\":15},\"zerolinecolor\":\"white\",\"automargin\":true,\"zerolinewidth\":2},\"scene\":{\"xaxis\":{\"backgroundcolor\":\"#E5ECF6\",\"gridcolor\":\"white\",\"linecolor\":\"white\",\"showbackground\":true,\"ticks\":\"\",\"zerolinecolor\":\"white\",\"gridwidth\":2},\"yaxis\":{\"backgroundcolor\":\"#E5ECF6\",\"gridcolor\":\"white\",\"linecolor\":\"white\",\"showbackground\":true,\"ticks\":\"\",\"zerolinecolor\":\"white\",\"gridwidth\":2},\"zaxis\":{\"backgroundcolor\":\"#E5ECF6\",\"gridcolor\":\"white\",\"linecolor\":\"white\",\"showbackground\":true,\"ticks\":\"\",\"zerolinecolor\":\"white\",\"gridwidth\":2}},\"shapedefaults\":{\"line\":{\"color\":\"#2a3f5f\"}},\"annotationdefaults\":{\"arrowcolor\":\"#2a3f5f\",\"arrowhead\":0,\"arrowwidth\":1},\"geo\":{\"bgcolor\":\"white\",\"landcolor\":\"#E5ECF6\",\"subunitcolor\":\"white\",\"showland\":true,\"showlakes\":true,\"lakecolor\":\"white\"},\"title\":{\"x\":0.05},\"mapbox\":{\"style\":\"light\"}}},\"xaxis\":{\"anchor\":\"y\",\"domain\":[0.0,1.0],\"title\":{\"text\":\"Released_Year\"}},\"yaxis\":{\"anchor\":\"x\",\"domain\":[0.0,1.0],\"title\":{\"text\":\"Gross\"}},\"legend\":{\"tracegroupgap\":0},\"title\":{\"text\":\"M\\u00e9dia das arrecada\\u00e7\\u00f5es atrav\\u00e9s dos anos de lan\\u00e7amento\"}},                        {\"responsive\": true}                    ).then(function(){\n",
       "                            \n",
       "var gd = document.getElementById('9053a7e5-3eeb-454a-a7e2-b7c10434e6e6');\n",
       "var x = new MutationObserver(function (mutations, observer) {{\n",
       "        var display = window.getComputedStyle(gd).display;\n",
       "        if (!display || display === 'none') {{\n",
       "            console.log([gd, 'removed!']);\n",
       "            Plotly.purge(gd);\n",
       "            observer.disconnect();\n",
       "        }}\n",
       "}});\n",
       "\n",
       "// Listen for the removal of the full notebook cells\n",
       "var notebookContainer = gd.closest('#notebook-container');\n",
       "if (notebookContainer) {{\n",
       "    x.observe(notebookContainer, {childList: true});\n",
       "}}\n",
       "\n",
       "// Listen for the clearing of the current output cell\n",
       "var outputEl = gd.closest('.output');\n",
       "if (outputEl) {{\n",
       "    x.observe(outputEl, {childList: true});\n",
       "}}\n",
       "\n",
       "                        })                };                });            </script>        </div>"
      ]
     },
     "metadata": {},
     "output_type": "display_data"
    }
   ],
   "source": [
    "df_years = df[[\"Released_Year\", \"Gross\"]].groupby('Released_Year').mean().reset_index()\n",
    "\n",
    "fig = px.line(df_years, x=\"Released_Year\", y=\"Gross\", title='Média das arrecadações através dos anos de lançamento')\n",
    "\n",
    "fig.show()"
   ]
  },
  {
   "cell_type": "markdown",
   "metadata": {},
   "source": [
    "## 4.3. Análise Multivariada"
   ]
  },
  {
   "cell_type": "markdown",
   "metadata": {},
   "source": [
    "**Correlação entre as variáveis**: Para a visualização, escolheu-se um mapa de calor para comparar visualmente as correlações.\n",
    "\n",
    "Pelo gráfico, percebe-se as diferentes correlações entre as variáveis. Destacando-se, IMDB_Rating e No_of_Votes com forte correlação.\n"
   ]
  },
  {
   "cell_type": "code",
   "execution_count": 88,
   "metadata": {
    "scrolled": true
   },
   "outputs": [
    {
     "data": {
      "application/vnd.plotly.v1+json": {
       "config": {
        "plotlyServerURL": "https://plot.ly"
       },
       "data": [
        {
         "coloraxis": "coloraxis",
         "hovertemplate": "x: %{x}<br>y: %{y}<br>color: %{z}<extra></extra>",
         "name": "0",
         "type": "heatmap",
         "x": [
          "IMDB_Rating",
          "Meta_score",
          "Gross",
          "No_of_Votes"
         ],
         "xaxis": "x",
         "y": [
          "IMDB_Rating",
          "Meta_score",
          "Gross",
          "No_of_Votes"
         ],
         "yaxis": "y",
         "z": [
          [
           1,
           0.2785109942301666,
           0.09578622572825489,
           0.5627539328267602
          ],
          [
           0.2785109942301666,
           1,
           -0.023011531333733445,
           0.018247718467347174
          ],
          [
           0.09578622572825489,
           -0.023011531333733445,
           1,
           0.5640838597041065
          ],
          [
           0.5627539328267602,
           0.018247718467347174,
           0.5640838597041065,
           1
          ]
         ]
        }
       ],
       "layout": {
        "coloraxis": {
         "colorscale": [
          [
           0,
           "#0d0887"
          ],
          [
           0.1111111111111111,
           "#46039f"
          ],
          [
           0.2222222222222222,
           "#7201a8"
          ],
          [
           0.3333333333333333,
           "#9c179e"
          ],
          [
           0.4444444444444444,
           "#bd3786"
          ],
          [
           0.5555555555555556,
           "#d8576b"
          ],
          [
           0.6666666666666666,
           "#ed7953"
          ],
          [
           0.7777777777777778,
           "#fb9f3a"
          ],
          [
           0.8888888888888888,
           "#fdca26"
          ],
          [
           1,
           "#f0f921"
          ]
         ]
        },
        "template": {
         "data": {
          "bar": [
           {
            "error_x": {
             "color": "#2a3f5f"
            },
            "error_y": {
             "color": "#2a3f5f"
            },
            "marker": {
             "line": {
              "color": "#E5ECF6",
              "width": 0.5
             },
             "pattern": {
              "fillmode": "overlay",
              "size": 10,
              "solidity": 0.2
             }
            },
            "type": "bar"
           }
          ],
          "barpolar": [
           {
            "marker": {
             "line": {
              "color": "#E5ECF6",
              "width": 0.5
             },
             "pattern": {
              "fillmode": "overlay",
              "size": 10,
              "solidity": 0.2
             }
            },
            "type": "barpolar"
           }
          ],
          "carpet": [
           {
            "aaxis": {
             "endlinecolor": "#2a3f5f",
             "gridcolor": "white",
             "linecolor": "white",
             "minorgridcolor": "white",
             "startlinecolor": "#2a3f5f"
            },
            "baxis": {
             "endlinecolor": "#2a3f5f",
             "gridcolor": "white",
             "linecolor": "white",
             "minorgridcolor": "white",
             "startlinecolor": "#2a3f5f"
            },
            "type": "carpet"
           }
          ],
          "choropleth": [
           {
            "colorbar": {
             "outlinewidth": 0,
             "ticks": ""
            },
            "type": "choropleth"
           }
          ],
          "contour": [
           {
            "colorbar": {
             "outlinewidth": 0,
             "ticks": ""
            },
            "colorscale": [
             [
              0,
              "#0d0887"
             ],
             [
              0.1111111111111111,
              "#46039f"
             ],
             [
              0.2222222222222222,
              "#7201a8"
             ],
             [
              0.3333333333333333,
              "#9c179e"
             ],
             [
              0.4444444444444444,
              "#bd3786"
             ],
             [
              0.5555555555555556,
              "#d8576b"
             ],
             [
              0.6666666666666666,
              "#ed7953"
             ],
             [
              0.7777777777777778,
              "#fb9f3a"
             ],
             [
              0.8888888888888888,
              "#fdca26"
             ],
             [
              1,
              "#f0f921"
             ]
            ],
            "type": "contour"
           }
          ],
          "contourcarpet": [
           {
            "colorbar": {
             "outlinewidth": 0,
             "ticks": ""
            },
            "type": "contourcarpet"
           }
          ],
          "heatmap": [
           {
            "colorbar": {
             "outlinewidth": 0,
             "ticks": ""
            },
            "colorscale": [
             [
              0,
              "#0d0887"
             ],
             [
              0.1111111111111111,
              "#46039f"
             ],
             [
              0.2222222222222222,
              "#7201a8"
             ],
             [
              0.3333333333333333,
              "#9c179e"
             ],
             [
              0.4444444444444444,
              "#bd3786"
             ],
             [
              0.5555555555555556,
              "#d8576b"
             ],
             [
              0.6666666666666666,
              "#ed7953"
             ],
             [
              0.7777777777777778,
              "#fb9f3a"
             ],
             [
              0.8888888888888888,
              "#fdca26"
             ],
             [
              1,
              "#f0f921"
             ]
            ],
            "type": "heatmap"
           }
          ],
          "heatmapgl": [
           {
            "colorbar": {
             "outlinewidth": 0,
             "ticks": ""
            },
            "colorscale": [
             [
              0,
              "#0d0887"
             ],
             [
              0.1111111111111111,
              "#46039f"
             ],
             [
              0.2222222222222222,
              "#7201a8"
             ],
             [
              0.3333333333333333,
              "#9c179e"
             ],
             [
              0.4444444444444444,
              "#bd3786"
             ],
             [
              0.5555555555555556,
              "#d8576b"
             ],
             [
              0.6666666666666666,
              "#ed7953"
             ],
             [
              0.7777777777777778,
              "#fb9f3a"
             ],
             [
              0.8888888888888888,
              "#fdca26"
             ],
             [
              1,
              "#f0f921"
             ]
            ],
            "type": "heatmapgl"
           }
          ],
          "histogram": [
           {
            "marker": {
             "pattern": {
              "fillmode": "overlay",
              "size": 10,
              "solidity": 0.2
             }
            },
            "type": "histogram"
           }
          ],
          "histogram2d": [
           {
            "colorbar": {
             "outlinewidth": 0,
             "ticks": ""
            },
            "colorscale": [
             [
              0,
              "#0d0887"
             ],
             [
              0.1111111111111111,
              "#46039f"
             ],
             [
              0.2222222222222222,
              "#7201a8"
             ],
             [
              0.3333333333333333,
              "#9c179e"
             ],
             [
              0.4444444444444444,
              "#bd3786"
             ],
             [
              0.5555555555555556,
              "#d8576b"
             ],
             [
              0.6666666666666666,
              "#ed7953"
             ],
             [
              0.7777777777777778,
              "#fb9f3a"
             ],
             [
              0.8888888888888888,
              "#fdca26"
             ],
             [
              1,
              "#f0f921"
             ]
            ],
            "type": "histogram2d"
           }
          ],
          "histogram2dcontour": [
           {
            "colorbar": {
             "outlinewidth": 0,
             "ticks": ""
            },
            "colorscale": [
             [
              0,
              "#0d0887"
             ],
             [
              0.1111111111111111,
              "#46039f"
             ],
             [
              0.2222222222222222,
              "#7201a8"
             ],
             [
              0.3333333333333333,
              "#9c179e"
             ],
             [
              0.4444444444444444,
              "#bd3786"
             ],
             [
              0.5555555555555556,
              "#d8576b"
             ],
             [
              0.6666666666666666,
              "#ed7953"
             ],
             [
              0.7777777777777778,
              "#fb9f3a"
             ],
             [
              0.8888888888888888,
              "#fdca26"
             ],
             [
              1,
              "#f0f921"
             ]
            ],
            "type": "histogram2dcontour"
           }
          ],
          "mesh3d": [
           {
            "colorbar": {
             "outlinewidth": 0,
             "ticks": ""
            },
            "type": "mesh3d"
           }
          ],
          "parcoords": [
           {
            "line": {
             "colorbar": {
              "outlinewidth": 0,
              "ticks": ""
             }
            },
            "type": "parcoords"
           }
          ],
          "pie": [
           {
            "automargin": true,
            "type": "pie"
           }
          ],
          "scatter": [
           {
            "fillpattern": {
             "fillmode": "overlay",
             "size": 10,
             "solidity": 0.2
            },
            "type": "scatter"
           }
          ],
          "scatter3d": [
           {
            "line": {
             "colorbar": {
              "outlinewidth": 0,
              "ticks": ""
             }
            },
            "marker": {
             "colorbar": {
              "outlinewidth": 0,
              "ticks": ""
             }
            },
            "type": "scatter3d"
           }
          ],
          "scattercarpet": [
           {
            "marker": {
             "colorbar": {
              "outlinewidth": 0,
              "ticks": ""
             }
            },
            "type": "scattercarpet"
           }
          ],
          "scattergeo": [
           {
            "marker": {
             "colorbar": {
              "outlinewidth": 0,
              "ticks": ""
             }
            },
            "type": "scattergeo"
           }
          ],
          "scattergl": [
           {
            "marker": {
             "colorbar": {
              "outlinewidth": 0,
              "ticks": ""
             }
            },
            "type": "scattergl"
           }
          ],
          "scattermapbox": [
           {
            "marker": {
             "colorbar": {
              "outlinewidth": 0,
              "ticks": ""
             }
            },
            "type": "scattermapbox"
           }
          ],
          "scatterpolar": [
           {
            "marker": {
             "colorbar": {
              "outlinewidth": 0,
              "ticks": ""
             }
            },
            "type": "scatterpolar"
           }
          ],
          "scatterpolargl": [
           {
            "marker": {
             "colorbar": {
              "outlinewidth": 0,
              "ticks": ""
             }
            },
            "type": "scatterpolargl"
           }
          ],
          "scatterternary": [
           {
            "marker": {
             "colorbar": {
              "outlinewidth": 0,
              "ticks": ""
             }
            },
            "type": "scatterternary"
           }
          ],
          "surface": [
           {
            "colorbar": {
             "outlinewidth": 0,
             "ticks": ""
            },
            "colorscale": [
             [
              0,
              "#0d0887"
             ],
             [
              0.1111111111111111,
              "#46039f"
             ],
             [
              0.2222222222222222,
              "#7201a8"
             ],
             [
              0.3333333333333333,
              "#9c179e"
             ],
             [
              0.4444444444444444,
              "#bd3786"
             ],
             [
              0.5555555555555556,
              "#d8576b"
             ],
             [
              0.6666666666666666,
              "#ed7953"
             ],
             [
              0.7777777777777778,
              "#fb9f3a"
             ],
             [
              0.8888888888888888,
              "#fdca26"
             ],
             [
              1,
              "#f0f921"
             ]
            ],
            "type": "surface"
           }
          ],
          "table": [
           {
            "cells": {
             "fill": {
              "color": "#EBF0F8"
             },
             "line": {
              "color": "white"
             }
            },
            "header": {
             "fill": {
              "color": "#C8D4E3"
             },
             "line": {
              "color": "white"
             }
            },
            "type": "table"
           }
          ]
         },
         "layout": {
          "annotationdefaults": {
           "arrowcolor": "#2a3f5f",
           "arrowhead": 0,
           "arrowwidth": 1
          },
          "autotypenumbers": "strict",
          "coloraxis": {
           "colorbar": {
            "outlinewidth": 0,
            "ticks": ""
           }
          },
          "colorscale": {
           "diverging": [
            [
             0,
             "#8e0152"
            ],
            [
             0.1,
             "#c51b7d"
            ],
            [
             0.2,
             "#de77ae"
            ],
            [
             0.3,
             "#f1b6da"
            ],
            [
             0.4,
             "#fde0ef"
            ],
            [
             0.5,
             "#f7f7f7"
            ],
            [
             0.6,
             "#e6f5d0"
            ],
            [
             0.7,
             "#b8e186"
            ],
            [
             0.8,
             "#7fbc41"
            ],
            [
             0.9,
             "#4d9221"
            ],
            [
             1,
             "#276419"
            ]
           ],
           "sequential": [
            [
             0,
             "#0d0887"
            ],
            [
             0.1111111111111111,
             "#46039f"
            ],
            [
             0.2222222222222222,
             "#7201a8"
            ],
            [
             0.3333333333333333,
             "#9c179e"
            ],
            [
             0.4444444444444444,
             "#bd3786"
            ],
            [
             0.5555555555555556,
             "#d8576b"
            ],
            [
             0.6666666666666666,
             "#ed7953"
            ],
            [
             0.7777777777777778,
             "#fb9f3a"
            ],
            [
             0.8888888888888888,
             "#fdca26"
            ],
            [
             1,
             "#f0f921"
            ]
           ],
           "sequentialminus": [
            [
             0,
             "#0d0887"
            ],
            [
             0.1111111111111111,
             "#46039f"
            ],
            [
             0.2222222222222222,
             "#7201a8"
            ],
            [
             0.3333333333333333,
             "#9c179e"
            ],
            [
             0.4444444444444444,
             "#bd3786"
            ],
            [
             0.5555555555555556,
             "#d8576b"
            ],
            [
             0.6666666666666666,
             "#ed7953"
            ],
            [
             0.7777777777777778,
             "#fb9f3a"
            ],
            [
             0.8888888888888888,
             "#fdca26"
            ],
            [
             1,
             "#f0f921"
            ]
           ]
          },
          "colorway": [
           "#636efa",
           "#EF553B",
           "#00cc96",
           "#ab63fa",
           "#FFA15A",
           "#19d3f3",
           "#FF6692",
           "#B6E880",
           "#FF97FF",
           "#FECB52"
          ],
          "font": {
           "color": "#2a3f5f"
          },
          "geo": {
           "bgcolor": "white",
           "lakecolor": "white",
           "landcolor": "#E5ECF6",
           "showlakes": true,
           "showland": true,
           "subunitcolor": "white"
          },
          "hoverlabel": {
           "align": "left"
          },
          "hovermode": "closest",
          "mapbox": {
           "style": "light"
          },
          "paper_bgcolor": "white",
          "plot_bgcolor": "#E5ECF6",
          "polar": {
           "angularaxis": {
            "gridcolor": "white",
            "linecolor": "white",
            "ticks": ""
           },
           "bgcolor": "#E5ECF6",
           "radialaxis": {
            "gridcolor": "white",
            "linecolor": "white",
            "ticks": ""
           }
          },
          "scene": {
           "xaxis": {
            "backgroundcolor": "#E5ECF6",
            "gridcolor": "white",
            "gridwidth": 2,
            "linecolor": "white",
            "showbackground": true,
            "ticks": "",
            "zerolinecolor": "white"
           },
           "yaxis": {
            "backgroundcolor": "#E5ECF6",
            "gridcolor": "white",
            "gridwidth": 2,
            "linecolor": "white",
            "showbackground": true,
            "ticks": "",
            "zerolinecolor": "white"
           },
           "zaxis": {
            "backgroundcolor": "#E5ECF6",
            "gridcolor": "white",
            "gridwidth": 2,
            "linecolor": "white",
            "showbackground": true,
            "ticks": "",
            "zerolinecolor": "white"
           }
          },
          "shapedefaults": {
           "line": {
            "color": "#2a3f5f"
           }
          },
          "ternary": {
           "aaxis": {
            "gridcolor": "white",
            "linecolor": "white",
            "ticks": ""
           },
           "baxis": {
            "gridcolor": "white",
            "linecolor": "white",
            "ticks": ""
           },
           "bgcolor": "#E5ECF6",
           "caxis": {
            "gridcolor": "white",
            "linecolor": "white",
            "ticks": ""
           }
          },
          "title": {
           "x": 0.05
          },
          "xaxis": {
           "automargin": true,
           "gridcolor": "white",
           "linecolor": "white",
           "ticks": "",
           "title": {
            "standoff": 15
           },
           "zerolinecolor": "white",
           "zerolinewidth": 2
          },
          "yaxis": {
           "automargin": true,
           "gridcolor": "white",
           "linecolor": "white",
           "ticks": "",
           "title": {
            "standoff": 15
           },
           "zerolinecolor": "white",
           "zerolinewidth": 2
          }
         }
        },
        "title": {
         "text": "Correlações entre atributo"
        },
        "xaxis": {
         "anchor": "y",
         "constrain": "domain",
         "domain": [
          0,
          1
         ],
         "scaleanchor": "y"
        },
        "yaxis": {
         "anchor": "x",
         "autorange": "reversed",
         "constrain": "domain",
         "domain": [
          0,
          1
         ]
        }
       }
      },
      "text/html": [
       "<div>                            <div id=\"6520c467-8b12-4f3d-8491-58adbc0f9829\" class=\"plotly-graph-div\" style=\"height:525px; width:100%;\"></div>            <script type=\"text/javascript\">                require([\"plotly\"], function(Plotly) {                    window.PLOTLYENV=window.PLOTLYENV || {};                                    if (document.getElementById(\"6520c467-8b12-4f3d-8491-58adbc0f9829\")) {                    Plotly.newPlot(                        \"6520c467-8b12-4f3d-8491-58adbc0f9829\",                        [{\"coloraxis\":\"coloraxis\",\"name\":\"0\",\"x\":[\"IMDB_Rating\",\"Meta_score\",\"Gross\",\"No_of_Votes\"],\"y\":[\"IMDB_Rating\",\"Meta_score\",\"Gross\",\"No_of_Votes\"],\"z\":[[1.0,0.2785109942301666,0.09578622572825489,0.5627539328267602],[0.2785109942301666,1.0,-0.023011531333733445,0.018247718467347174],[0.09578622572825489,-0.023011531333733445,1.0,0.5640838597041065],[0.5627539328267602,0.018247718467347174,0.5640838597041065,1.0]],\"type\":\"heatmap\",\"xaxis\":\"x\",\"yaxis\":\"y\",\"hovertemplate\":\"x: %{x}<br>y: %{y}<br>color: %{z}<extra></extra>\"}],                        {\"template\":{\"data\":{\"histogram2dcontour\":[{\"type\":\"histogram2dcontour\",\"colorbar\":{\"outlinewidth\":0,\"ticks\":\"\"},\"colorscale\":[[0.0,\"#0d0887\"],[0.1111111111111111,\"#46039f\"],[0.2222222222222222,\"#7201a8\"],[0.3333333333333333,\"#9c179e\"],[0.4444444444444444,\"#bd3786\"],[0.5555555555555556,\"#d8576b\"],[0.6666666666666666,\"#ed7953\"],[0.7777777777777778,\"#fb9f3a\"],[0.8888888888888888,\"#fdca26\"],[1.0,\"#f0f921\"]]}],\"choropleth\":[{\"type\":\"choropleth\",\"colorbar\":{\"outlinewidth\":0,\"ticks\":\"\"}}],\"histogram2d\":[{\"type\":\"histogram2d\",\"colorbar\":{\"outlinewidth\":0,\"ticks\":\"\"},\"colorscale\":[[0.0,\"#0d0887\"],[0.1111111111111111,\"#46039f\"],[0.2222222222222222,\"#7201a8\"],[0.3333333333333333,\"#9c179e\"],[0.4444444444444444,\"#bd3786\"],[0.5555555555555556,\"#d8576b\"],[0.6666666666666666,\"#ed7953\"],[0.7777777777777778,\"#fb9f3a\"],[0.8888888888888888,\"#fdca26\"],[1.0,\"#f0f921\"]]}],\"heatmap\":[{\"type\":\"heatmap\",\"colorbar\":{\"outlinewidth\":0,\"ticks\":\"\"},\"colorscale\":[[0.0,\"#0d0887\"],[0.1111111111111111,\"#46039f\"],[0.2222222222222222,\"#7201a8\"],[0.3333333333333333,\"#9c179e\"],[0.4444444444444444,\"#bd3786\"],[0.5555555555555556,\"#d8576b\"],[0.6666666666666666,\"#ed7953\"],[0.7777777777777778,\"#fb9f3a\"],[0.8888888888888888,\"#fdca26\"],[1.0,\"#f0f921\"]]}],\"heatmapgl\":[{\"type\":\"heatmapgl\",\"colorbar\":{\"outlinewidth\":0,\"ticks\":\"\"},\"colorscale\":[[0.0,\"#0d0887\"],[0.1111111111111111,\"#46039f\"],[0.2222222222222222,\"#7201a8\"],[0.3333333333333333,\"#9c179e\"],[0.4444444444444444,\"#bd3786\"],[0.5555555555555556,\"#d8576b\"],[0.6666666666666666,\"#ed7953\"],[0.7777777777777778,\"#fb9f3a\"],[0.8888888888888888,\"#fdca26\"],[1.0,\"#f0f921\"]]}],\"contourcarpet\":[{\"type\":\"contourcarpet\",\"colorbar\":{\"outlinewidth\":0,\"ticks\":\"\"}}],\"contour\":[{\"type\":\"contour\",\"colorbar\":{\"outlinewidth\":0,\"ticks\":\"\"},\"colorscale\":[[0.0,\"#0d0887\"],[0.1111111111111111,\"#46039f\"],[0.2222222222222222,\"#7201a8\"],[0.3333333333333333,\"#9c179e\"],[0.4444444444444444,\"#bd3786\"],[0.5555555555555556,\"#d8576b\"],[0.6666666666666666,\"#ed7953\"],[0.7777777777777778,\"#fb9f3a\"],[0.8888888888888888,\"#fdca26\"],[1.0,\"#f0f921\"]]}],\"surface\":[{\"type\":\"surface\",\"colorbar\":{\"outlinewidth\":0,\"ticks\":\"\"},\"colorscale\":[[0.0,\"#0d0887\"],[0.1111111111111111,\"#46039f\"],[0.2222222222222222,\"#7201a8\"],[0.3333333333333333,\"#9c179e\"],[0.4444444444444444,\"#bd3786\"],[0.5555555555555556,\"#d8576b\"],[0.6666666666666666,\"#ed7953\"],[0.7777777777777778,\"#fb9f3a\"],[0.8888888888888888,\"#fdca26\"],[1.0,\"#f0f921\"]]}],\"mesh3d\":[{\"type\":\"mesh3d\",\"colorbar\":{\"outlinewidth\":0,\"ticks\":\"\"}}],\"scatter\":[{\"fillpattern\":{\"fillmode\":\"overlay\",\"size\":10,\"solidity\":0.2},\"type\":\"scatter\"}],\"parcoords\":[{\"type\":\"parcoords\",\"line\":{\"colorbar\":{\"outlinewidth\":0,\"ticks\":\"\"}}}],\"scatterpolargl\":[{\"type\":\"scatterpolargl\",\"marker\":{\"colorbar\":{\"outlinewidth\":0,\"ticks\":\"\"}}}],\"bar\":[{\"error_x\":{\"color\":\"#2a3f5f\"},\"error_y\":{\"color\":\"#2a3f5f\"},\"marker\":{\"line\":{\"color\":\"#E5ECF6\",\"width\":0.5},\"pattern\":{\"fillmode\":\"overlay\",\"size\":10,\"solidity\":0.2}},\"type\":\"bar\"}],\"scattergeo\":[{\"type\":\"scattergeo\",\"marker\":{\"colorbar\":{\"outlinewidth\":0,\"ticks\":\"\"}}}],\"scatterpolar\":[{\"type\":\"scatterpolar\",\"marker\":{\"colorbar\":{\"outlinewidth\":0,\"ticks\":\"\"}}}],\"histogram\":[{\"marker\":{\"pattern\":{\"fillmode\":\"overlay\",\"size\":10,\"solidity\":0.2}},\"type\":\"histogram\"}],\"scattergl\":[{\"type\":\"scattergl\",\"marker\":{\"colorbar\":{\"outlinewidth\":0,\"ticks\":\"\"}}}],\"scatter3d\":[{\"type\":\"scatter3d\",\"line\":{\"colorbar\":{\"outlinewidth\":0,\"ticks\":\"\"}},\"marker\":{\"colorbar\":{\"outlinewidth\":0,\"ticks\":\"\"}}}],\"scattermapbox\":[{\"type\":\"scattermapbox\",\"marker\":{\"colorbar\":{\"outlinewidth\":0,\"ticks\":\"\"}}}],\"scatterternary\":[{\"type\":\"scatterternary\",\"marker\":{\"colorbar\":{\"outlinewidth\":0,\"ticks\":\"\"}}}],\"scattercarpet\":[{\"type\":\"scattercarpet\",\"marker\":{\"colorbar\":{\"outlinewidth\":0,\"ticks\":\"\"}}}],\"carpet\":[{\"aaxis\":{\"endlinecolor\":\"#2a3f5f\",\"gridcolor\":\"white\",\"linecolor\":\"white\",\"minorgridcolor\":\"white\",\"startlinecolor\":\"#2a3f5f\"},\"baxis\":{\"endlinecolor\":\"#2a3f5f\",\"gridcolor\":\"white\",\"linecolor\":\"white\",\"minorgridcolor\":\"white\",\"startlinecolor\":\"#2a3f5f\"},\"type\":\"carpet\"}],\"table\":[{\"cells\":{\"fill\":{\"color\":\"#EBF0F8\"},\"line\":{\"color\":\"white\"}},\"header\":{\"fill\":{\"color\":\"#C8D4E3\"},\"line\":{\"color\":\"white\"}},\"type\":\"table\"}],\"barpolar\":[{\"marker\":{\"line\":{\"color\":\"#E5ECF6\",\"width\":0.5},\"pattern\":{\"fillmode\":\"overlay\",\"size\":10,\"solidity\":0.2}},\"type\":\"barpolar\"}],\"pie\":[{\"automargin\":true,\"type\":\"pie\"}]},\"layout\":{\"autotypenumbers\":\"strict\",\"colorway\":[\"#636efa\",\"#EF553B\",\"#00cc96\",\"#ab63fa\",\"#FFA15A\",\"#19d3f3\",\"#FF6692\",\"#B6E880\",\"#FF97FF\",\"#FECB52\"],\"font\":{\"color\":\"#2a3f5f\"},\"hovermode\":\"closest\",\"hoverlabel\":{\"align\":\"left\"},\"paper_bgcolor\":\"white\",\"plot_bgcolor\":\"#E5ECF6\",\"polar\":{\"bgcolor\":\"#E5ECF6\",\"angularaxis\":{\"gridcolor\":\"white\",\"linecolor\":\"white\",\"ticks\":\"\"},\"radialaxis\":{\"gridcolor\":\"white\",\"linecolor\":\"white\",\"ticks\":\"\"}},\"ternary\":{\"bgcolor\":\"#E5ECF6\",\"aaxis\":{\"gridcolor\":\"white\",\"linecolor\":\"white\",\"ticks\":\"\"},\"baxis\":{\"gridcolor\":\"white\",\"linecolor\":\"white\",\"ticks\":\"\"},\"caxis\":{\"gridcolor\":\"white\",\"linecolor\":\"white\",\"ticks\":\"\"}},\"coloraxis\":{\"colorbar\":{\"outlinewidth\":0,\"ticks\":\"\"}},\"colorscale\":{\"sequential\":[[0.0,\"#0d0887\"],[0.1111111111111111,\"#46039f\"],[0.2222222222222222,\"#7201a8\"],[0.3333333333333333,\"#9c179e\"],[0.4444444444444444,\"#bd3786\"],[0.5555555555555556,\"#d8576b\"],[0.6666666666666666,\"#ed7953\"],[0.7777777777777778,\"#fb9f3a\"],[0.8888888888888888,\"#fdca26\"],[1.0,\"#f0f921\"]],\"sequentialminus\":[[0.0,\"#0d0887\"],[0.1111111111111111,\"#46039f\"],[0.2222222222222222,\"#7201a8\"],[0.3333333333333333,\"#9c179e\"],[0.4444444444444444,\"#bd3786\"],[0.5555555555555556,\"#d8576b\"],[0.6666666666666666,\"#ed7953\"],[0.7777777777777778,\"#fb9f3a\"],[0.8888888888888888,\"#fdca26\"],[1.0,\"#f0f921\"]],\"diverging\":[[0,\"#8e0152\"],[0.1,\"#c51b7d\"],[0.2,\"#de77ae\"],[0.3,\"#f1b6da\"],[0.4,\"#fde0ef\"],[0.5,\"#f7f7f7\"],[0.6,\"#e6f5d0\"],[0.7,\"#b8e186\"],[0.8,\"#7fbc41\"],[0.9,\"#4d9221\"],[1,\"#276419\"]]},\"xaxis\":{\"gridcolor\":\"white\",\"linecolor\":\"white\",\"ticks\":\"\",\"title\":{\"standoff\":15},\"zerolinecolor\":\"white\",\"automargin\":true,\"zerolinewidth\":2},\"yaxis\":{\"gridcolor\":\"white\",\"linecolor\":\"white\",\"ticks\":\"\",\"title\":{\"standoff\":15},\"zerolinecolor\":\"white\",\"automargin\":true,\"zerolinewidth\":2},\"scene\":{\"xaxis\":{\"backgroundcolor\":\"#E5ECF6\",\"gridcolor\":\"white\",\"linecolor\":\"white\",\"showbackground\":true,\"ticks\":\"\",\"zerolinecolor\":\"white\",\"gridwidth\":2},\"yaxis\":{\"backgroundcolor\":\"#E5ECF6\",\"gridcolor\":\"white\",\"linecolor\":\"white\",\"showbackground\":true,\"ticks\":\"\",\"zerolinecolor\":\"white\",\"gridwidth\":2},\"zaxis\":{\"backgroundcolor\":\"#E5ECF6\",\"gridcolor\":\"white\",\"linecolor\":\"white\",\"showbackground\":true,\"ticks\":\"\",\"zerolinecolor\":\"white\",\"gridwidth\":2}},\"shapedefaults\":{\"line\":{\"color\":\"#2a3f5f\"}},\"annotationdefaults\":{\"arrowcolor\":\"#2a3f5f\",\"arrowhead\":0,\"arrowwidth\":1},\"geo\":{\"bgcolor\":\"white\",\"landcolor\":\"#E5ECF6\",\"subunitcolor\":\"white\",\"showland\":true,\"showlakes\":true,\"lakecolor\":\"white\"},\"title\":{\"x\":0.05},\"mapbox\":{\"style\":\"light\"}}},\"xaxis\":{\"anchor\":\"y\",\"domain\":[0.0,1.0],\"scaleanchor\":\"y\",\"constrain\":\"domain\"},\"yaxis\":{\"anchor\":\"x\",\"domain\":[0.0,1.0],\"autorange\":\"reversed\",\"constrain\":\"domain\"},\"coloraxis\":{\"colorscale\":[[0.0,\"#0d0887\"],[0.1111111111111111,\"#46039f\"],[0.2222222222222222,\"#7201a8\"],[0.3333333333333333,\"#9c179e\"],[0.4444444444444444,\"#bd3786\"],[0.5555555555555556,\"#d8576b\"],[0.6666666666666666,\"#ed7953\"],[0.7777777777777778,\"#fb9f3a\"],[0.8888888888888888,\"#fdca26\"],[1.0,\"#f0f921\"]]},\"title\":{\"text\":\"Correla\\u00e7\\u00f5es entre atributo\"}},                        {\"responsive\": true}                    ).then(function(){\n",
       "                            \n",
       "var gd = document.getElementById('6520c467-8b12-4f3d-8491-58adbc0f9829');\n",
       "var x = new MutationObserver(function (mutations, observer) {{\n",
       "        var display = window.getComputedStyle(gd).display;\n",
       "        if (!display || display === 'none') {{\n",
       "            console.log([gd, 'removed!']);\n",
       "            Plotly.purge(gd);\n",
       "            observer.disconnect();\n",
       "        }}\n",
       "}});\n",
       "\n",
       "// Listen for the removal of the full notebook cells\n",
       "var notebookContainer = gd.closest('#notebook-container');\n",
       "if (notebookContainer) {{\n",
       "    x.observe(notebookContainer, {childList: true});\n",
       "}}\n",
       "\n",
       "// Listen for the clearing of the current output cell\n",
       "var outputEl = gd.closest('.output');\n",
       "if (outputEl) {{\n",
       "    x.observe(outputEl, {childList: true});\n",
       "}}\n",
       "\n",
       "                        })                };                });            </script>        </div>"
      ]
     },
     "metadata": {},
     "output_type": "display_data"
    }
   ],
   "source": [
    "# Mapa de calor das correlações\n",
    "df_variaveis_numericas = df[[\"IMDB_Rating\", \"Meta_score\", \"Gross\", \"No_of_Votes\"]]\n",
    "correlations = df_variaveis_numericas.corr()\n",
    "\n",
    "fig = px.imshow(correlations, title = 'Correlações entre atributo')\n",
    "fig.show()"
   ]
  },
  {
   "cell_type": "markdown",
   "metadata": {},
   "source": [
    "**Correlação entre as variáveis**: Para\n",
    "a visualização, escolheu-se uma matriz de gráficos de dispersão, em que cada célula da matriz mostra a relação entre duas variáveis com uma linha de regressão linear nos gráficos de dispersão. E os gráficos diagonais exibem histogramas.\n",
    "\n",
    "Pelo gráfico, percebe-se as diferentes correlações entre as variáveis. Destacando-se, a ausência de uma tendência explícita e clara, parecendo ser distribuições ruidosas.\n"
   ]
  },
  {
   "cell_type": "code",
   "execution_count": 89,
   "metadata": {},
   "outputs": [
    {
     "data": {
      "application/vnd.plotly.v1+json": {
       "config": {
        "plotlyServerURL": "https://plot.ly"
       },
       "data": [
        {
         "dimensions": [
          {
           "axis": {
            "matches": true
           },
           "label": "IMDB_Rating",
           "values": [
            9.3,
            9.2,
            9,
            9,
            9,
            8.9,
            8.9,
            8.9,
            8.8,
            8.8,
            8.8,
            8.8,
            8.8,
            8.7,
            8.7,
            8.7,
            8.7,
            8.7,
            8.6,
            8.6,
            8.6,
            8.6,
            8.6,
            8.6,
            8.6,
            8.6,
            8.6,
            8.6,
            8.6,
            8.5,
            8.5,
            8.5,
            8.5,
            8.5,
            8.5,
            8.5,
            8.5,
            8.5,
            8.5,
            8.5,
            8.5,
            8.5,
            8.5,
            8.5,
            8.5,
            8.5,
            8.5,
            8.5,
            8.4,
            8.4,
            8.4,
            8.4,
            8.4,
            8.4,
            8.4,
            8.4,
            8.4,
            8.4,
            8.4,
            8.4,
            8.4,
            8.4,
            8.4,
            8.4,
            8.4,
            8.4,
            8.4,
            8.4,
            8.4,
            8.4,
            8.4,
            8.4,
            8.4,
            8.3,
            8.3,
            8.3,
            8.3,
            8.3,
            8.3,
            8.3,
            8.3,
            8.3,
            8.3,
            8.3,
            8.3,
            8.3,
            8.3,
            8.3,
            8.3,
            8.3,
            8.3,
            8.3,
            8.3,
            8.3,
            8.3,
            8.3,
            8.3,
            8.3,
            8.3,
            8.3,
            8.3,
            8.3,
            8.3,
            8.3,
            8.3,
            8.3,
            8.3,
            8.3,
            8.3,
            8.2,
            8.2,
            8.2,
            8.2,
            8.2,
            8.2,
            8.2,
            8.2,
            8.2,
            8.2,
            8.2,
            8.2,
            8.2,
            8.2,
            8.2,
            8.2,
            8.2,
            8.2,
            8.2,
            8.2,
            8.2,
            8.2,
            8.2,
            8.2,
            8.2,
            8.2,
            8.2,
            8.2,
            8.2,
            8.2,
            8.2,
            8.2,
            8.2,
            8.2,
            8.2,
            8.2,
            8.2,
            8.2,
            8.2,
            8.2,
            8.2,
            8.2,
            8.2,
            8.2,
            8.2,
            8.2,
            8.2,
            8.2,
            8.1,
            8.1,
            8.1,
            8.1,
            8.1,
            8.1,
            8.1,
            8.1,
            8.1,
            8.1,
            8.1,
            8.1,
            8.1,
            8.1,
            8.1,
            8.1,
            8.1,
            8.1,
            8.1,
            8.1,
            8.1,
            8.1,
            8.1,
            8.1,
            8.1,
            8.1,
            8.1,
            8.1,
            8.1,
            8.1,
            8.1,
            8.1,
            8.1,
            8.1,
            8.1,
            8.1,
            8.1,
            8.1,
            8.1,
            8.1,
            8.1,
            8.1,
            8.1,
            8.1,
            8.1,
            8.1,
            8.1,
            8.1,
            8.1,
            8.1,
            8.1,
            8.1,
            8.1,
            8.1,
            8.1,
            8.1,
            8.1,
            8.1,
            8.1,
            8.1,
            8.1,
            8.1,
            8.1,
            8.1,
            8.1,
            8.1,
            8.1,
            8.1,
            8.1,
            8.1,
            8.1,
            8.1,
            8.1,
            8.1,
            8.1,
            8.1,
            8.1,
            8.1,
            8.1,
            8.1,
            8.1,
            8.1,
            8.1,
            8.1,
            8.1,
            8.1,
            8.1,
            8.1,
            8.1,
            8.1,
            8.1,
            8.1,
            8,
            8,
            8,
            8,
            8,
            8,
            8,
            8,
            8,
            8,
            8,
            8,
            8,
            8,
            8,
            8,
            8,
            8,
            8,
            8,
            8,
            8,
            8,
            8,
            8,
            8,
            8,
            8,
            8,
            8,
            8,
            8,
            8,
            8,
            8,
            8,
            8,
            8,
            8,
            8,
            8,
            8,
            8,
            8,
            8,
            8,
            8,
            8,
            8,
            8,
            8,
            8,
            8,
            8,
            8,
            8,
            8,
            8,
            8,
            8,
            8,
            8,
            8,
            8,
            8,
            8,
            8,
            8,
            8,
            8,
            8,
            8,
            8,
            8,
            8,
            8,
            8,
            8,
            8,
            8,
            8,
            8,
            8,
            8,
            8,
            8,
            8,
            8,
            8,
            8,
            8,
            8,
            8,
            8,
            8,
            8,
            8,
            8,
            8,
            8,
            8,
            8,
            8,
            8,
            8,
            7.9,
            7.9,
            7.9,
            7.9,
            7.9,
            7.9,
            7.9,
            7.9,
            7.9,
            7.9,
            7.9,
            7.9,
            7.9,
            7.9,
            7.9,
            7.9,
            7.9,
            7.9,
            7.9,
            7.9,
            7.9,
            7.9,
            7.9,
            7.9,
            7.9,
            7.9,
            7.9,
            7.9,
            7.9,
            7.9,
            7.9,
            7.9,
            7.9,
            7.9,
            7.9,
            7.9,
            7.9,
            7.9,
            7.9,
            7.9,
            7.9,
            7.9,
            7.9,
            7.9,
            7.9,
            7.9,
            7.9,
            7.9,
            7.9,
            7.9,
            7.9,
            7.9,
            7.9,
            7.9,
            7.9,
            7.9,
            7.9,
            7.9,
            7.9,
            7.9,
            7.9,
            7.9,
            7.9,
            7.9,
            7.9,
            7.9,
            7.9,
            7.9,
            7.9,
            7.9,
            7.9,
            7.9,
            7.9,
            7.9,
            7.9,
            7.9,
            7.9,
            7.9,
            7.9,
            7.9,
            7.9,
            7.9,
            7.9,
            7.9,
            7.8,
            7.8,
            7.8,
            7.8,
            7.8,
            7.8,
            7.8,
            7.8,
            7.8,
            7.8,
            7.8,
            7.8,
            7.8,
            7.8,
            7.8,
            7.8,
            7.8,
            7.8,
            7.8,
            7.8,
            7.8,
            7.8,
            7.8,
            7.8,
            7.8,
            7.8,
            7.8,
            7.8,
            7.8,
            7.8,
            7.8,
            7.8,
            7.8,
            7.8,
            7.8,
            7.8,
            7.8,
            7.8,
            7.8,
            7.8,
            7.8,
            7.8,
            7.8,
            7.8,
            7.8,
            7.8,
            7.8,
            7.8,
            7.8,
            7.8,
            7.8,
            7.8,
            7.8,
            7.8,
            7.8,
            7.8,
            7.8,
            7.8,
            7.8,
            7.8,
            7.8,
            7.8,
            7.8,
            7.8,
            7.8,
            7.8,
            7.8,
            7.8,
            7.8,
            7.8,
            7.8,
            7.8,
            7.8,
            7.8,
            7.8,
            7.8,
            7.8,
            7.8,
            7.8,
            7.8,
            7.8,
            7.8,
            7.8,
            7.8,
            7.8,
            7.8,
            7.8,
            7.8,
            7.8,
            7.8,
            7.8,
            7.8,
            7.8,
            7.8,
            7.8,
            7.8,
            7.8,
            7.8,
            7.8,
            7.8,
            7.8,
            7.8,
            7.8,
            7.8,
            7.8,
            7.8,
            7.8,
            7.8,
            7.8,
            7.8,
            7.8,
            7.8,
            7.8,
            7.7,
            7.7,
            7.7,
            7.7,
            7.7,
            7.7,
            7.7,
            7.7,
            7.7,
            7.7,
            7.7,
            7.7,
            7.7,
            7.7,
            7.7,
            7.7,
            7.7,
            7.7,
            7.7,
            7.7,
            7.7,
            7.7,
            7.7,
            7.7,
            7.7,
            7.7,
            7.7,
            7.7,
            7.7,
            7.7,
            7.7,
            7.7,
            7.7,
            7.7,
            7.7,
            7.7,
            7.7,
            7.7,
            7.7,
            7.7,
            7.7,
            7.7,
            7.7,
            7.7,
            7.7,
            7.7,
            7.7,
            7.7,
            7.7,
            7.7,
            7.7,
            7.7,
            7.7,
            7.7,
            7.7,
            7.7,
            7.7,
            7.7,
            7.7,
            7.7,
            7.7,
            7.7,
            7.7,
            7.7,
            7.7,
            7.7,
            7.7,
            7.7,
            7.7,
            7.7,
            7.7,
            7.7,
            7.7,
            7.7,
            7.7,
            7.7,
            7.7,
            7.7,
            7.7,
            7.7,
            7.7,
            7.7,
            7.7,
            7.7,
            7.7,
            7.7,
            7.7,
            7.7,
            7.7,
            7.7,
            7.7,
            7.7,
            7.7,
            7.7,
            7.7,
            7.7,
            7.7,
            7.7,
            7.7,
            7.7,
            7.7,
            7.7,
            7.7,
            7.7,
            7.7,
            7.7,
            7.7,
            7.7,
            7.7,
            7.7,
            7.7,
            7.7,
            7.7,
            7.7,
            7.7,
            7.7,
            7.7,
            7.7,
            7.7,
            7.7,
            7.7,
            7.7,
            7.7,
            7.7,
            7.7,
            7.7,
            7.7,
            7.6,
            7.6,
            7.6,
            7.6,
            7.6,
            7.6,
            7.6,
            7.6,
            7.6,
            7.6,
            7.6,
            7.6,
            7.6,
            7.6,
            7.6,
            7.6,
            7.6,
            7.6,
            7.6,
            7.6,
            7.6,
            7.6,
            7.6,
            7.6,
            7.6,
            7.6,
            7.6,
            7.6,
            7.6,
            7.6,
            7.6,
            7.6,
            7.6,
            7.6,
            7.6,
            7.6,
            7.6,
            7.6,
            7.6,
            7.6,
            7.6,
            7.6,
            7.6,
            7.6,
            7.6,
            7.6,
            7.6,
            7.6,
            7.6,
            7.6,
            7.6,
            7.6,
            7.6,
            7.6,
            7.6,
            7.6,
            7.6,
            7.6,
            7.6,
            7.6,
            7.6,
            7.6,
            7.6,
            7.6,
            7.6,
            7.6,
            7.6,
            7.6,
            7.6,
            7.6,
            7.6,
            7.6,
            7.6,
            7.6,
            7.6,
            7.6,
            7.6,
            7.6,
            7.6,
            7.6,
            7.6,
            7.6,
            7.6,
            7.6,
            7.6,
            7.6,
            7.6,
            7.6,
            7.6,
            7.6,
            7.6,
            7.6,
            7.6,
            7.6,
            7.6,
            7.6,
            7.6,
            7.6,
            7.6,
            7.6,
            7.6,
            7.6,
            7.6,
            7.6,
            7.6,
            7.6,
            7.6
           ]
          },
          {
           "axis": {
            "matches": true
           },
           "label": "Meta_score",
           "values": [
            80,
            100,
            84,
            90,
            96,
            94,
            94,
            94,
            74,
            66,
            92,
            82,
            90,
            87,
            73,
            90,
            82,
            83,
            96,
            74,
            79,
            96,
            91,
            61,
            59,
            65,
            85,
            90,
            98,
            59,
            88,
            57,
            66,
            85,
            85,
            67,
            62,
            77,
            64,
            88,
            75,
            80,
            87,
            80,
            97,
            100,
            96,
            99,
            75,
            79,
            79,
            87,
            78,
            68,
            81,
            81,
            78,
            67,
            79,
            95,
            89,
            77,
            80,
            76,
            79,
            85,
            66,
            94,
            89,
            97,
            79,
            100,
            79,
            78,
            79,
            77,
            95,
            80,
            69,
            89,
            69,
            55,
            68,
            84,
            70,
            77,
            95,
            68,
            79,
            76,
            84,
            88,
            65,
            58,
            86,
            94,
            83,
            77,
            84,
            74,
            100,
            94,
            98,
            100,
            99,
            95,
            100,
            79,
            79,
            79,
            79,
            69,
            88,
            79,
            79,
            79,
            79,
            79,
            79,
            79,
            80,
            71,
            63,
            88,
            75,
            68,
            93,
            98,
            92,
            62,
            79,
            79,
            70,
            79,
            82,
            80,
            72,
            66,
            90,
            76,
            73,
            85,
            65,
            79,
            86,
            72,
            96,
            89,
            79,
            91,
            86,
            98,
            75,
            98,
            98,
            79,
            79,
            95,
            79,
            84,
            74,
            79,
            77,
            86,
            77,
            79,
            79,
            88,
            79,
            71,
            94,
            79,
            96,
            74,
            81,
            93,
            85,
            79,
            79,
            70,
            90,
            72,
            85,
            68,
            75,
            73,
            91,
            79,
            86,
            79,
            64,
            90,
            82,
            79,
            69,
            90,
            75,
            83,
            79,
            84,
            64,
            58,
            90,
            73,
            71,
            85,
            83,
            85,
            79,
            77,
            100,
            77,
            68,
            84,
            79,
            79,
            79,
            75,
            92,
            78,
            86,
            57,
            47,
            100,
            84,
            77,
            86,
            70,
            79,
            92,
            77,
            79,
            79,
            92,
            79,
            75,
            79,
            90,
            87,
            91,
            72,
            97,
            86,
            73,
            97,
            87,
            79,
            79,
            79,
            79,
            94,
            69,
            80,
            78,
            79,
            89,
            66,
            65,
            79,
            82,
            71,
            73,
            76,
            81,
            90,
            49,
            76,
            67,
            88,
            62,
            65,
            87,
            79,
            50,
            84,
            79,
            33,
            69,
            90,
            80,
            64,
            64,
            85,
            72,
            74,
            92,
            96,
            80,
            83,
            85,
            74,
            69,
            54,
            75,
            63,
            58,
            90,
            60,
            88,
            77,
            61,
            86,
            79,
            82,
            80,
            85,
            84,
            91,
            74,
            76,
            82,
            72,
            47,
            59,
            86,
            72,
            95,
            72,
            93,
            65,
            79,
            77,
            79,
            88,
            84,
            79,
            83,
            92,
            87,
            86,
            80,
            58,
            81,
            79,
            93,
            67,
            100,
            66,
            79,
            83,
            63,
            69,
            65,
            90,
            95,
            93,
            99,
            84,
            97,
            79,
            93,
            96,
            92,
            91,
            82,
            93,
            94,
            93,
            78,
            82,
            81,
            72,
            79,
            74,
            76,
            58,
            81,
            80,
            94,
            75,
            89,
            71,
            94,
            94,
            90,
            67,
            82,
            81,
            80,
            79,
            100,
            82,
            67,
            89,
            64,
            79,
            83,
            56,
            79,
            76,
            84,
            82,
            85,
            86,
            84,
            61,
            68,
            80,
            84,
            90,
            85,
            88,
            85,
            77,
            59,
            85,
            65,
            74,
            97,
            77,
            79,
            90,
            84,
            92,
            77,
            60,
            83,
            72,
            71,
            84,
            76,
            93,
            91,
            97,
            79,
            75,
            83,
            87,
            79,
            89,
            88,
            100,
            79,
            79,
            79,
            97,
            79,
            90,
            85,
            94,
            74,
            88,
            84,
            79,
            96,
            75,
            65,
            75,
            68,
            91,
            62,
            85,
            76,
            79,
            74,
            55,
            79,
            83,
            84,
            49,
            84,
            76,
            81,
            71,
            82,
            79,
            72,
            79,
            66,
            82,
            76,
            79,
            51,
            55,
            88,
            58,
            85,
            78,
            76,
            83,
            63,
            68,
            80,
            81,
            70,
            67,
            51,
            82,
            68,
            73,
            74,
            72,
            53,
            75,
            82,
            91,
            61,
            83,
            48,
            94,
            87,
            73,
            44,
            84,
            71,
            84,
            75,
            64,
            61,
            76,
            70,
            73,
            50,
            55,
            84,
            87,
            80,
            79,
            68,
            86,
            76,
            75,
            74,
            78,
            57,
            65,
            45,
            72,
            61,
            75,
            62,
            78,
            66,
            76,
            71,
            91,
            73,
            91,
            77,
            69,
            85,
            73,
            80,
            80,
            67,
            79,
            95,
            88,
            75,
            88,
            79,
            66,
            73,
            85,
            86,
            70,
            76,
            72,
            72,
            60,
            69,
            74,
            87,
            89,
            40,
            70,
            79,
            87,
            72,
            70,
            81,
            83,
            96,
            72,
            95,
            65,
            73,
            81,
            81,
            86,
            76,
            65,
            86,
            80,
            81,
            63,
            45,
            78,
            78,
            74,
            78,
            53,
            70,
            78,
            71,
            71,
            87,
            76,
            66,
            78,
            73,
            61,
            73,
            89,
            81,
            47,
            80,
            55,
            83,
            68,
            76,
            28,
            83,
            74,
            72,
            60,
            74,
            85,
            74,
            62,
            69,
            73,
            68,
            69,
            86,
            79,
            90,
            67,
            52,
            73,
            76,
            87,
            47,
            79,
            83,
            81,
            70,
            79,
            66,
            64,
            73,
            76,
            82,
            62,
            64,
            69,
            66,
            83,
            84,
            76,
            62,
            54,
            76,
            75,
            90,
            79,
            77,
            67,
            61,
            86,
            78,
            87,
            71,
            73,
            87,
            83,
            80,
            94,
            90,
            86,
            79,
            72,
            87,
            90,
            74,
            79,
            91,
            96,
            71,
            83,
            86,
            92,
            60,
            70,
            83,
            67,
            86,
            72,
            81,
            80,
            81,
            82,
            82,
            92,
            88,
            77,
            79,
            73,
            68,
            80,
            88,
            80,
            65,
            72,
            72,
            66,
            87,
            70,
            73,
            57,
            53,
            79,
            36,
            82,
            66,
            76,
            72,
            66,
            70,
            68,
            78,
            52,
            72,
            56,
            62,
            46,
            67,
            73,
            45,
            76,
            81,
            70,
            56,
            67,
            68,
            30,
            73,
            76,
            88,
            64,
            74,
            52,
            53,
            80,
            74,
            64,
            77,
            78,
            71,
            41,
            66,
            49,
            52,
            84,
            58,
            62,
            69,
            77,
            88,
            56,
            78,
            68,
            90,
            66,
            63,
            60,
            76,
            88,
            76,
            72,
            68,
            82,
            68,
            77,
            65,
            74,
            76,
            59,
            90,
            87,
            77,
            50,
            65,
            96,
            85
           ]
          },
          {
           "axis": {
            "matches": true
           },
           "label": "Gross",
           "values": [
            28341469,
            134966411,
            534858444,
            57300000,
            4360000,
            377845905,
            107928762,
            96898818,
            292576195,
            37030102,
            315544750,
            330252182,
            6100000,
            342551365,
            171479930,
            46836394,
            290475067,
            112000000,
            53367844,
            188020017,
            7563397,
            10055859,
            216540909,
            136801374,
            57598247,
            100125643,
            130742922,
            322740140,
            269061,
            335451311,
            13092000,
            13182281,
            53089891,
            132384315,
            32572577,
            187705427,
            6719864,
            23341568,
            19501238,
            422783777,
            204843350,
            11990401,
            210609762,
            5321508,
            32000000,
            1024560,
            163245,
            19181,
            1661096,
            5017246,
            12391761,
            190241310,
            858373000,
            678815482,
            209726015,
            162805434,
            448139099,
            6532908,
            1223869,
            223808164,
            11286112,
            707481,
            25544867,
            2375308,
            5321508,
            248159971,
            44017374,
            83471511,
            78900000,
            275902,
            8175000,
            36764313,
            288475,
            159227644,
            1373943,
            687185,
            7098492,
            6857096,
            120540719,
            34400301,
            33225499,
            30328156,
            3635482,
            130096601,
            138433435,
            933933,
            191796233,
            75600000,
            2832029,
            46357676,
            85160248,
            51973029,
            45598982,
            309125409,
            11487676,
            28262574,
            159600000,
            6207725,
            56954992,
            15000000,
            44824144,
            18600000,
            13275000,
            3200000,
            8819028,
            5720000,
            1585634,
            28877,
            5450000,
            898575,
            4186168,
            85080171,
            54513740,
            342370,
            20186659,
            739478,
            1429534,
            1626289,
            7461,
            39567,
            6391436,
            13657115,
            128012934,
            293004164,
            116900694,
            1113541,
            40222514,
            37634615,
            415004880,
            70511035,
            2197331,
            733094,
            206852432,
            1223240,
            5509040,
            4711096,
            170742341,
            3897569,
            64616940,
            67436818,
            42438300,
            101157447,
            197171806,
            280015,
            1105564,
            83008852,
            4135750,
            23383987,
            234723,
            1229197,
            12100000,
            25000000,
            12562,
            10177,
            5014000,
            5450000,
            977375,
            3759854,
            1241223,
            2006788,
            3492754,
            901610,
            226277068,
            14677674,
            3107072,
            10616104,
            923221,
            59100318,
            167767189,
            67209615,
            356461711,
            2804874,
            56671993,
            26947624,
            117624028,
            45055776,
            857524,
            1035953,
            3108485,
            61002302,
            154058340,
            148095302,
            381011219,
            1498210,
            217581231,
            18354356,
            74283625,
            2217561,
            100492203,
            23530892,
            1111061,
            5820649,
            14131,
            300000,
            70099045,
            380843261,
            164615351,
            5383834,
            289916256,
            70147,
            293506292,
            259127,
            125618201,
            348660,
            17498804,
            2734044,
            16501785,
            24611975,
            309811,
            5535405,
            4043686,
            600200,
            402453882,
            25010410,
            5216888,
            2603061,
            95860116,
            52287414,
            138530565,
            2181987,
            495770,
            13782838,
            22244207,
            4971340,
            32868943,
            20045115,
            48979328,
            117235247,
            177345,
            29000000,
            30933743,
            1742348,
            39481,
            16217773,
            102021,
            4050000,
            1526000,
            74700000,
            44908000,
            9600000,
            3969893,
            449191,
            4360000,
            9600000,
            198676459,
            4360000,
            21877,
            539540,
            1033895,
            8178001,
            151101803,
            51739495,
            228433663,
            341268248,
            6738000,
            1506975,
            132422809,
            5566534,
            1079369,
            1010414,
            2625803,
            91125683,
            333176600,
            92054159,
            25568251,
            216428042,
            183637894,
            17738570,
            138797449,
            169708112,
            363070709,
            106662,
            10950,
            4018695,
            141319928,
            106954678,
            8060,
            623279547,
            4445756,
            27298285,
            163566459,
            57366262,
            227471070,
            238507,
            74103820,
            5990075,
            206445654,
            167445960,
            66208183,
            2380788,
            2086345,
            61649911,
            1787378,
            169659,
            305413918,
            66257002,
            261441092,
            1530386,
            1480006,
            22455976,
            4184036,
            6203044,
            776665,
            1647780,
            5595428,
            23159305,
            24475416,
            13417292,
            57141459,
            515905,
            75082668,
            70906973,
            4496583,
            63895607,
            217350219,
            70405498,
            218967620,
            184208848,
            27545445,
            178800000,
            553171,
            30857814,
            3333969,
            4542825,
            38400000,
            52767889,
            30177511,
            39200000,
            260000000,
            50000000,
            86300000,
            53267000,
            232906145,
            4081254,
            29133000,
            80500000,
            541940,
            102308889,
            33395426,
            104945305,
            163214286,
            111722000,
            14500000,
            8284000,
            19516000,
            12535000,
            2237659,
            17570324,
            8000000,
            4360000,
            23650000,
            55000,
            2076020,
            3270000,
            165359751,
            3313513,
            2000000,
            18095701,
            258168,
            32015231,
            5202582,
            5875006,
            3237118,
            315058289,
            32381218,
            349555,
            100546139,
            936662225,
            8114627,
            233921534,
            44671682,
            100206256,
            6739492,
            7000000,
            2084637,
            5009677,
            2122065,
            115646235,
            26236603,
            410800,
            25379975,
            257730019,
            7757130,
            13756082,
            2280348,
            124987023,
            21002919,
            3635164,
            318412101,
            13542874,
            90135191,
            249358727,
            53710019,
            9284265,
            1059830,
            1000045,
            121661683,
            1221261,
            35552383,
            32534850,
            7220243,
            245852179,
            26400640,
            2201126,
            12281500,
            1324974,
            36948322,
            56362352,
            14743391,
            18254702,
            76270454,
            40084041,
            9929135,
            188751,
            20605209,
            57229890,
            45700000,
            37823676,
            5100000,
            70600000,
            61001,
            198809,
            61700000,
            12064472,
            22276975,
            24379978,
            13474588,
            30000000,
            93740000,
            9450000,
            7630000,
            10464000,
            6540000,
            9460000,
            296000,
            3981000,
            2537520,
            10000000,
            2402067,
            188373161,
            169607287,
            40442052,
            48023088,
            1782795,
            47695120,
            435266,
            532177324,
            408084349,
            54117416,
            108101214,
            6735118,
            1330596,
            4231500,
            169209,
            222527828,
            15322921,
            1670773,
            5209580,
            434038008,
            85433,
            45512466,
            177002924,
            70259870,
            102515793,
            107100855,
            6460,
            161197785,
            547292,
            258366855,
            2222647,
            10095170,
            93617009,
            145000989,
            9030581,
            9439923,
            303003568,
            50927067,
            35061555,
            130164645,
            760507625,
            3600,
            50866635,
            59891098,
            23637265,
            127509326,
            2921738,
            1305,
            38405088,
            5128124,
            128985,
            25514517,
            119519402,
            81001787,
            16756372,
            181655,
            7002255,
            54234062,
            2892011,
            115654751,
            128078872,
            8264530,
            233632142,
            25812,
            28965197,
            32481825,
            267665011,
            659325379,
            12339633,
            48323648,
            4040691,
            5887457,
            9170214,
            56505065,
            32416586,
            22954968,
            183875760,
            17266971,
            5617391,
            2015810,
            1999955,
            57504069,
            61276872,
            52096475,
            26830000,
            118500000,
            34603943,
            59735548,
            5923044,
            70136369,
            1436000,
            61503218,
            98467863,
            45875171,
            34700291,
            238632124,
            21500000,
            2500000,
            435110554,
            106260000,
            31800000,
            4420000,
            193817,
            16056255,
            42765000,
            4000000,
            44785053,
            72000000,
            102272727,
            39100000,
            2616000,
            336705,
            324591735,
            33800859,
            176040665,
            220159104,
            3358518,
            3333000,
            765127,
            35893537,
            128261724,
            124872350,
            6743776,
            42340598,
            2199675,
            1122527,
            259766572,
            985912,
            17654912,
            189422889,
            1339152,
            56816662,
            257760692,
            274092705,
            228778661,
            96962694,
            146408305,
            277322503,
            304360277,
            132092958,
            136025503,
            32391374,
            295983305,
            15090400,
            18593156,
            881302,
            35739802,
            1752214,
            25442958,
            412544,
            17605861,
            33080084,
            22494487,
            1054361,
            871577,
            200821936,
            4398392,
            83043761,
            53606916,
            54580300,
            17108591,
            176241941,
            1082715,
            75331600,
            44585453,
            290013036,
            77911774,
            75286229,
            111110575,
            4890878,
            4064200,
            15539266,
            40311852,
            22245861,
            108638745,
            104454762,
            141072,
            21995263,
            3029081,
            183417150,
            151086,
            45512588,
            52037603,
            10824921,
            76631907,
            17105219,
            368234,
            22858926,
            148478011,
            63540020,
            4065116,
            41909762,
            35811509,
            56116183,
            4414535,
            10019307,
            21848932,
            3151130,
            6110979,
            77324422,
            27281507,
            48169908,
            75505856,
            10725228,
            141340178,
            82418501,
            6153939,
            5080409,
            156452370,
            1544889,
            43984230,
            22238696,
            7153487,
            8551228,
            10631333,
            10600000,
            11798616,
            54000000,
            78912963,
            47212904,
            54800000,
            83400000,
            47000000,
            1924733,
            119500000,
            29800000,
            25000000,
            7056013,
            15630710,
            35900000,
            44527234,
            26331,
            28350000,
            51081062,
            11403529,
            4905000,
            10550000,
            536118,
            76408097,
            26020957,
            142502728,
            566356,
            5904366,
            24801212,
            13122642,
            845464,
            389813101,
            107825862,
            18340051,
            72313754,
            608581744,
            248757044,
            46889293,
            109767581,
            1092800,
            26862450,
            37707719,
            208545589,
            4105123,
            41003371,
            19202743,
            215288866,
            171243005,
            1008098,
            251513985,
            35014192,
            48071303,
            75605492,
            3185812,
            75590286,
            209028679,
            255959475,
            9422422,
            69951824,
            17114882,
            38634938,
            88513495,
            20300218,
            10301706,
            24633730,
            39868642,
            301959197,
            210614939,
            23089926,
            107509799,
            24149632,
            56000369,
            3081925,
            697181,
            548707,
            6167817,
            5739376,
            16290476,
            45289,
            51680613,
            13060843,
            57938693,
            45064915,
            52364010,
            13622333,
            317575550,
            96522687,
            52990775,
            51401758,
            132072926,
            50668906,
            15070285,
            7267585,
            36400491,
            120620254,
            10680275,
            14378331,
            49100000,
            3796699,
            43182776,
            100012499,
            1037847,
            71516617,
            173837933,
            1464625,
            40903593,
            7993039,
            52929168,
            453243,
            1794187,
            285761243,
            66666062,
            92823600,
            111543479,
            78756177,
            49530280,
            65207127,
            2150000,
            119285432,
            12465371,
            22490039,
            76657000,
            43000000,
            35000000,
            132088635,
            959000,
            696690,
            1378435,
            141843612,
            13780024,
            30500000
           ]
          },
          {
           "axis": {
            "matches": true
           },
           "label": "No_of_Votes",
           "values": [
            2343110,
            1620367,
            2303232,
            1129952,
            689845,
            1642758,
            1826188,
            1213505,
            2067042,
            1854740,
            1661481,
            1809221,
            688390,
            1485555,
            1676426,
            1020727,
            1159315,
            918088,
            552778,
            1512360,
            699256,
            651376,
            1235804,
            1147794,
            623629,
            1445096,
            1270197,
            1231473,
            315744,
            939252,
            717585,
            760360,
            1190259,
            1189773,
            729603,
            1341460,
            1034705,
            991208,
            1035236,
            942045,
            995506,
            230763,
            1058081,
            302844,
            604211,
            522093,
            217881,
            167839,
            62635,
            194838,
            156479,
            375110,
            809955,
            834477,
            384171,
            1357682,
            1516346,
            344445,
            168895,
            999790,
            358685,
            515451,
            1125712,
            343171,
            311365,
            884112,
            898237,
            606398,
            787806,
            450474,
            108862,
            444074,
            203150,
            425844,
            71875,
            281623,
            220002,
            150023,
            1267869,
            911664,
            703810,
            782001,
            766870,
            1069738,
            861606,
            65341,
            887429,
            959181,
            918562,
            675146,
            652719,
            369007,
            740911,
            950470,
            231855,
            724636,
            241513,
            757904,
            603517,
            232772,
            268085,
            164363,
            299198,
            364368,
            218957,
            143525,
            403351,
            143434,
            113314,
            33893,
            43444,
            377884,
            432610,
            31142,
            75348,
            70367,
            60701,
            61137,
            42341,
            33237,
            193217,
            435950,
            1129894,
            935507,
            1187498,
            74129,
            517359,
            618623,
            757032,
            1032749,
            111937,
            33354,
            1308302,
            83005,
            331308,
            333915,
            848920,
            535216,
            531967,
            577113,
            466276,
            375935,
            692366,
            26402,
            291180,
            793164,
            112505,
            321860,
            116945,
            500875,
            224730,
            243943,
            158335,
            120539,
            114304,
            101053,
            41985,
            63134,
            39216,
            113649,
            50700,
            50445,
            647884,
            371538,
            177059,
            163061,
            51739,
            707630,
            859695,
            435928,
            616228,
            75721,
            640533,
            432811,
            291289,
            420316,
            51679,
            57806,
            67927,
            601149,
            882316,
            720450,
            764493,
            48582,
            666773,
            572921,
            856916,
            43137,
            635975,
            334320,
            37820,
            236311,
            139558,
            66803,
            1000639,
            949565,
            832846,
            223741,
            815505,
            105036,
            911573,
            59020,
            939631,
            50862,
            732620,
            124383,
            634716,
            617444,
            150345,
            272291,
            90729,
            63122,
            867615,
            156842,
            25088,
            29662,
            425457,
            363401,
            381222,
            91188,
            150924,
            371271,
            76081,
            57784,
            693827,
            367250,
            311361,
            518546,
            40081,
            294230,
            42285,
            30206,
            45434,
            161984,
            46947,
            50058,
            26697,
            219466,
            203463,
            142107,
            31568,
            158731,
            123942,
            107017,
            290074,
            94016,
            47676,
            46865,
            81156,
            72245,
            505918,
            213970,
            760094,
            434143,
            102972,
            38746,
            141923,
            31886,
            51069,
            81770,
            114316,
            685201,
            1043455,
            461823,
            540772,
            450349,
            705589,
            462252,
            639603,
            428521,
            902669,
            45803,
            28749,
            98575,
            798882,
            699673,
            98097,
            1260806,
            88656,
            441614,
            448930,
            499439,
            604694,
            50610,
            738512,
            103284,
            641645,
            582239,
            683900,
            77520,
            77554,
            176151,
            63460,
            117857,
            1015122,
            415218,
            657047,
            137963,
            740086,
            289742,
            102285,
            82002,
            58192,
            78341,
            36419,
            172083,
            86838,
            37564,
            578443,
            129231,
            300208,
            577991,
            28825,
            263918,
            373845,
            142110,
            417178,
            240266,
            89429,
            473064,
            164918,
            393899,
            64722,
            31163,
            799795,
            217664,
            65625,
            251823,
            543388,
            235652,
            143359,
            121627,
            362393,
            44748,
            42456,
            39491,
            27067,
            201888,
            165167,
            253676,
            205425,
            69903,
            198219,
            75067,
            66621,
            56305,
            98431,
            45062,
            99182,
            42725,
            57259,
            85559,
            371379,
            57318,
            454203,
            62754,
            246644,
            212651,
            53818,
            139114,
            111483,
            189400,
            85109,
            587775,
            466134,
            297918,
            594181,
            860823,
            141457,
            659763,
            230624,
            600004,
            93090,
            324720,
            93560,
            335152,
            205609,
            638202,
            289415,
            47720,
            335533,
            577336,
            390334,
            154011,
            107290,
            580708,
            199696,
            57430,
            939644,
            512249,
            419420,
            552493,
            173999,
            104691,
            44618,
            42897,
            508771,
            49721,
            465113,
            252586,
            322031,
            527512,
            239473,
            31590,
            206918,
            89836,
            201000,
            447368,
            68076,
            54670,
            281842,
            67176,
            187567,
            128812,
            132947,
            183182,
            131436,
            28223,
            111512,
            103031,
            37183,
            38737,
            93741,
            77401,
            29003,
            67804,
            68689,
            124339,
            63560,
            97222,
            123341,
            92306,
            78796,
            33549,
            53667,
            47175,
            30580,
            78991,
            51240,
            555092,
            200876,
            61594,
            118035,
            40416,
            246963,
            35539,
            556608,
            663649,
            517059,
            143250,
            50778,
            45002,
            50523,
            39710,
            410983,
            303032,
            33618,
            73690,
            203177,
            108399,
            318789,
            305611,
            362942,
            423010,
            421244,
            62848,
            179264,
            52758,
            601408,
            68715,
            208994,
            340584,
            564791,
            190748,
            110656,
            757377,
            251370,
            571571,
            392449,
            1118998,
            216421,
            291018,
            439856,
            463466,
            589160,
            49050,
            45717,
            258924,
            51980,
            31658,
            283310,
            234207,
            520284,
            96703,
            42673,
            50622,
            129022,
            60684,
            198089,
            253228,
            89058,
            524235,
            227143,
            159886,
            82855,
            613941,
            1046089,
            280845,
            345096,
            62428,
            164937,
            215034,
            126871,
            78963,
            66065,
            267684,
            128171,
            43690,
            55362,
            42376,
            126082,
            184740,
            125276,
            122779,
            481918,
            88214,
            371387,
            148359,
            321382,
            47834,
            244430,
            78321,
            357026,
            51585,
            355413,
            56235,
            88511,
            372490,
            133351,
            65659,
            98611,
            25229,
            37445,
            48334,
            178731,
            101124,
            86525,
            158029,
            52141,
            27007,
            73251,
            478586,
            205444,
            492851,
            291257,
            47444,
            157498,
            32798,
            404182,
            590440,
            344312,
            123210,
            580291,
            138741,
            32628,
            736182,
            39501,
            112298,
            380195,
            56720,
            388089,
            323982,
            769145,
            463188,
            624982,
            645512,
            717559,
            630614,
            661871,
            572581,
            472242,
            479120,
            125317,
            103330,
            71379,
            239203,
            81446,
            474141,
            32001,
            175355,
            466080,
            299524,
            28003,
            61609,
            405922,
            72643,
            323103,
            288797,
            419483,
            127250,
            434841,
            358432,
            138356,
            415074,
            548619,
            329592,
            197761,
            400049,
            25938,
            137981,
            40403,
            142863,
            178565,
            364254,
            246840,
            90842,
            126770,
            31957,
            516372,
            29210,
            286742,
            192112,
            241575,
            390247,
            169229,
            64082,
            312542,
            275755,
            434125,
            37424,
            279318,
            51350,
            189716,
            35991,
            32236,
            33600,
            211450,
            42275,
            224169,
            50298,
            85819,
            150409,
            95826,
            235388,
            66941,
            113240,
            125822,
            182009,
            40396,
            94326,
            115677,
            102031,
            181285,
            47102,
            59635,
            39881,
            36096,
            112704,
            226541,
            47099,
            214882,
            233106,
            39889,
            125993,
            109941,
            96561,
            98740,
            110075,
            143292,
            31572,
            40274,
            31222,
            174119,
            171739,
            87719,
            34677,
            71481,
            88662,
            140840,
            551309,
            29765,
            95181,
            99643,
            66346,
            35785,
            569974,
            439406,
            58371,
            287659,
            250057,
            272784,
            371291,
            247666,
            49397,
            204175,
            94212,
            411599,
            190531,
            228132,
            80939,
            334312,
            311822,
            38491,
            500851,
            315426,
            524081,
            369529,
            138959,
            520041,
            583158,
            293266,
            41544,
            286770,
            227760,
            255036,
            339757,
            250590,
            82781,
            72863,
            354728,
            474827,
            732876,
            206294,
            500799,
            294140,
            379020,
            83158,
            65939,
            67360,
            70925,
            67370,
            224545,
            62659,
            198677,
            169708,
            451479,
            376853,
            266842,
            115827,
            658185,
            337651,
            240714,
            243729,
            508417,
            91557,
            490062,
            188317,
            172710,
            256906,
            259753,
            187927,
            186734,
            131101,
            102598,
            364420,
            90442,
            73172,
            269197,
            64390,
            171640,
            165465,
            107325,
            27071,
            80487,
            488817,
            359809,
            195663,
            237696,
            152871,
            124773,
            236894,
            87745,
            27650,
            166588,
            93878,
            32802,
            121731,
            73662,
            184966,
            26337,
            30144,
            45338,
            166409,
            40351,
            43374
           ]
          }
         ],
         "hovertemplate": "%{xaxis.title.text}=%{x}<br>%{yaxis.title.text}=%{y}<extra></extra>",
         "legendgroup": "",
         "marker": {
          "color": "#636efa",
          "symbol": "circle"
         },
         "name": "",
         "showlegend": false,
         "type": "splom"
        }
       ],
       "layout": {
        "dragmode": "select",
        "legend": {
         "tracegroupgap": 0
        },
        "margin": {
         "t": 60
        },
        "template": {
         "data": {
          "bar": [
           {
            "error_x": {
             "color": "#2a3f5f"
            },
            "error_y": {
             "color": "#2a3f5f"
            },
            "marker": {
             "line": {
              "color": "#E5ECF6",
              "width": 0.5
             },
             "pattern": {
              "fillmode": "overlay",
              "size": 10,
              "solidity": 0.2
             }
            },
            "type": "bar"
           }
          ],
          "barpolar": [
           {
            "marker": {
             "line": {
              "color": "#E5ECF6",
              "width": 0.5
             },
             "pattern": {
              "fillmode": "overlay",
              "size": 10,
              "solidity": 0.2
             }
            },
            "type": "barpolar"
           }
          ],
          "carpet": [
           {
            "aaxis": {
             "endlinecolor": "#2a3f5f",
             "gridcolor": "white",
             "linecolor": "white",
             "minorgridcolor": "white",
             "startlinecolor": "#2a3f5f"
            },
            "baxis": {
             "endlinecolor": "#2a3f5f",
             "gridcolor": "white",
             "linecolor": "white",
             "minorgridcolor": "white",
             "startlinecolor": "#2a3f5f"
            },
            "type": "carpet"
           }
          ],
          "choropleth": [
           {
            "colorbar": {
             "outlinewidth": 0,
             "ticks": ""
            },
            "type": "choropleth"
           }
          ],
          "contour": [
           {
            "colorbar": {
             "outlinewidth": 0,
             "ticks": ""
            },
            "colorscale": [
             [
              0,
              "#0d0887"
             ],
             [
              0.1111111111111111,
              "#46039f"
             ],
             [
              0.2222222222222222,
              "#7201a8"
             ],
             [
              0.3333333333333333,
              "#9c179e"
             ],
             [
              0.4444444444444444,
              "#bd3786"
             ],
             [
              0.5555555555555556,
              "#d8576b"
             ],
             [
              0.6666666666666666,
              "#ed7953"
             ],
             [
              0.7777777777777778,
              "#fb9f3a"
             ],
             [
              0.8888888888888888,
              "#fdca26"
             ],
             [
              1,
              "#f0f921"
             ]
            ],
            "type": "contour"
           }
          ],
          "contourcarpet": [
           {
            "colorbar": {
             "outlinewidth": 0,
             "ticks": ""
            },
            "type": "contourcarpet"
           }
          ],
          "heatmap": [
           {
            "colorbar": {
             "outlinewidth": 0,
             "ticks": ""
            },
            "colorscale": [
             [
              0,
              "#0d0887"
             ],
             [
              0.1111111111111111,
              "#46039f"
             ],
             [
              0.2222222222222222,
              "#7201a8"
             ],
             [
              0.3333333333333333,
              "#9c179e"
             ],
             [
              0.4444444444444444,
              "#bd3786"
             ],
             [
              0.5555555555555556,
              "#d8576b"
             ],
             [
              0.6666666666666666,
              "#ed7953"
             ],
             [
              0.7777777777777778,
              "#fb9f3a"
             ],
             [
              0.8888888888888888,
              "#fdca26"
             ],
             [
              1,
              "#f0f921"
             ]
            ],
            "type": "heatmap"
           }
          ],
          "heatmapgl": [
           {
            "colorbar": {
             "outlinewidth": 0,
             "ticks": ""
            },
            "colorscale": [
             [
              0,
              "#0d0887"
             ],
             [
              0.1111111111111111,
              "#46039f"
             ],
             [
              0.2222222222222222,
              "#7201a8"
             ],
             [
              0.3333333333333333,
              "#9c179e"
             ],
             [
              0.4444444444444444,
              "#bd3786"
             ],
             [
              0.5555555555555556,
              "#d8576b"
             ],
             [
              0.6666666666666666,
              "#ed7953"
             ],
             [
              0.7777777777777778,
              "#fb9f3a"
             ],
             [
              0.8888888888888888,
              "#fdca26"
             ],
             [
              1,
              "#f0f921"
             ]
            ],
            "type": "heatmapgl"
           }
          ],
          "histogram": [
           {
            "marker": {
             "pattern": {
              "fillmode": "overlay",
              "size": 10,
              "solidity": 0.2
             }
            },
            "type": "histogram"
           }
          ],
          "histogram2d": [
           {
            "colorbar": {
             "outlinewidth": 0,
             "ticks": ""
            },
            "colorscale": [
             [
              0,
              "#0d0887"
             ],
             [
              0.1111111111111111,
              "#46039f"
             ],
             [
              0.2222222222222222,
              "#7201a8"
             ],
             [
              0.3333333333333333,
              "#9c179e"
             ],
             [
              0.4444444444444444,
              "#bd3786"
             ],
             [
              0.5555555555555556,
              "#d8576b"
             ],
             [
              0.6666666666666666,
              "#ed7953"
             ],
             [
              0.7777777777777778,
              "#fb9f3a"
             ],
             [
              0.8888888888888888,
              "#fdca26"
             ],
             [
              1,
              "#f0f921"
             ]
            ],
            "type": "histogram2d"
           }
          ],
          "histogram2dcontour": [
           {
            "colorbar": {
             "outlinewidth": 0,
             "ticks": ""
            },
            "colorscale": [
             [
              0,
              "#0d0887"
             ],
             [
              0.1111111111111111,
              "#46039f"
             ],
             [
              0.2222222222222222,
              "#7201a8"
             ],
             [
              0.3333333333333333,
              "#9c179e"
             ],
             [
              0.4444444444444444,
              "#bd3786"
             ],
             [
              0.5555555555555556,
              "#d8576b"
             ],
             [
              0.6666666666666666,
              "#ed7953"
             ],
             [
              0.7777777777777778,
              "#fb9f3a"
             ],
             [
              0.8888888888888888,
              "#fdca26"
             ],
             [
              1,
              "#f0f921"
             ]
            ],
            "type": "histogram2dcontour"
           }
          ],
          "mesh3d": [
           {
            "colorbar": {
             "outlinewidth": 0,
             "ticks": ""
            },
            "type": "mesh3d"
           }
          ],
          "parcoords": [
           {
            "line": {
             "colorbar": {
              "outlinewidth": 0,
              "ticks": ""
             }
            },
            "type": "parcoords"
           }
          ],
          "pie": [
           {
            "automargin": true,
            "type": "pie"
           }
          ],
          "scatter": [
           {
            "fillpattern": {
             "fillmode": "overlay",
             "size": 10,
             "solidity": 0.2
            },
            "type": "scatter"
           }
          ],
          "scatter3d": [
           {
            "line": {
             "colorbar": {
              "outlinewidth": 0,
              "ticks": ""
             }
            },
            "marker": {
             "colorbar": {
              "outlinewidth": 0,
              "ticks": ""
             }
            },
            "type": "scatter3d"
           }
          ],
          "scattercarpet": [
           {
            "marker": {
             "colorbar": {
              "outlinewidth": 0,
              "ticks": ""
             }
            },
            "type": "scattercarpet"
           }
          ],
          "scattergeo": [
           {
            "marker": {
             "colorbar": {
              "outlinewidth": 0,
              "ticks": ""
             }
            },
            "type": "scattergeo"
           }
          ],
          "scattergl": [
           {
            "marker": {
             "colorbar": {
              "outlinewidth": 0,
              "ticks": ""
             }
            },
            "type": "scattergl"
           }
          ],
          "scattermapbox": [
           {
            "marker": {
             "colorbar": {
              "outlinewidth": 0,
              "ticks": ""
             }
            },
            "type": "scattermapbox"
           }
          ],
          "scatterpolar": [
           {
            "marker": {
             "colorbar": {
              "outlinewidth": 0,
              "ticks": ""
             }
            },
            "type": "scatterpolar"
           }
          ],
          "scatterpolargl": [
           {
            "marker": {
             "colorbar": {
              "outlinewidth": 0,
              "ticks": ""
             }
            },
            "type": "scatterpolargl"
           }
          ],
          "scatterternary": [
           {
            "marker": {
             "colorbar": {
              "outlinewidth": 0,
              "ticks": ""
             }
            },
            "type": "scatterternary"
           }
          ],
          "surface": [
           {
            "colorbar": {
             "outlinewidth": 0,
             "ticks": ""
            },
            "colorscale": [
             [
              0,
              "#0d0887"
             ],
             [
              0.1111111111111111,
              "#46039f"
             ],
             [
              0.2222222222222222,
              "#7201a8"
             ],
             [
              0.3333333333333333,
              "#9c179e"
             ],
             [
              0.4444444444444444,
              "#bd3786"
             ],
             [
              0.5555555555555556,
              "#d8576b"
             ],
             [
              0.6666666666666666,
              "#ed7953"
             ],
             [
              0.7777777777777778,
              "#fb9f3a"
             ],
             [
              0.8888888888888888,
              "#fdca26"
             ],
             [
              1,
              "#f0f921"
             ]
            ],
            "type": "surface"
           }
          ],
          "table": [
           {
            "cells": {
             "fill": {
              "color": "#EBF0F8"
             },
             "line": {
              "color": "white"
             }
            },
            "header": {
             "fill": {
              "color": "#C8D4E3"
             },
             "line": {
              "color": "white"
             }
            },
            "type": "table"
           }
          ]
         },
         "layout": {
          "annotationdefaults": {
           "arrowcolor": "#2a3f5f",
           "arrowhead": 0,
           "arrowwidth": 1
          },
          "autotypenumbers": "strict",
          "coloraxis": {
           "colorbar": {
            "outlinewidth": 0,
            "ticks": ""
           }
          },
          "colorscale": {
           "diverging": [
            [
             0,
             "#8e0152"
            ],
            [
             0.1,
             "#c51b7d"
            ],
            [
             0.2,
             "#de77ae"
            ],
            [
             0.3,
             "#f1b6da"
            ],
            [
             0.4,
             "#fde0ef"
            ],
            [
             0.5,
             "#f7f7f7"
            ],
            [
             0.6,
             "#e6f5d0"
            ],
            [
             0.7,
             "#b8e186"
            ],
            [
             0.8,
             "#7fbc41"
            ],
            [
             0.9,
             "#4d9221"
            ],
            [
             1,
             "#276419"
            ]
           ],
           "sequential": [
            [
             0,
             "#0d0887"
            ],
            [
             0.1111111111111111,
             "#46039f"
            ],
            [
             0.2222222222222222,
             "#7201a8"
            ],
            [
             0.3333333333333333,
             "#9c179e"
            ],
            [
             0.4444444444444444,
             "#bd3786"
            ],
            [
             0.5555555555555556,
             "#d8576b"
            ],
            [
             0.6666666666666666,
             "#ed7953"
            ],
            [
             0.7777777777777778,
             "#fb9f3a"
            ],
            [
             0.8888888888888888,
             "#fdca26"
            ],
            [
             1,
             "#f0f921"
            ]
           ],
           "sequentialminus": [
            [
             0,
             "#0d0887"
            ],
            [
             0.1111111111111111,
             "#46039f"
            ],
            [
             0.2222222222222222,
             "#7201a8"
            ],
            [
             0.3333333333333333,
             "#9c179e"
            ],
            [
             0.4444444444444444,
             "#bd3786"
            ],
            [
             0.5555555555555556,
             "#d8576b"
            ],
            [
             0.6666666666666666,
             "#ed7953"
            ],
            [
             0.7777777777777778,
             "#fb9f3a"
            ],
            [
             0.8888888888888888,
             "#fdca26"
            ],
            [
             1,
             "#f0f921"
            ]
           ]
          },
          "colorway": [
           "#636efa",
           "#EF553B",
           "#00cc96",
           "#ab63fa",
           "#FFA15A",
           "#19d3f3",
           "#FF6692",
           "#B6E880",
           "#FF97FF",
           "#FECB52"
          ],
          "font": {
           "color": "#2a3f5f"
          },
          "geo": {
           "bgcolor": "white",
           "lakecolor": "white",
           "landcolor": "#E5ECF6",
           "showlakes": true,
           "showland": true,
           "subunitcolor": "white"
          },
          "hoverlabel": {
           "align": "left"
          },
          "hovermode": "closest",
          "mapbox": {
           "style": "light"
          },
          "paper_bgcolor": "white",
          "plot_bgcolor": "#E5ECF6",
          "polar": {
           "angularaxis": {
            "gridcolor": "white",
            "linecolor": "white",
            "ticks": ""
           },
           "bgcolor": "#E5ECF6",
           "radialaxis": {
            "gridcolor": "white",
            "linecolor": "white",
            "ticks": ""
           }
          },
          "scene": {
           "xaxis": {
            "backgroundcolor": "#E5ECF6",
            "gridcolor": "white",
            "gridwidth": 2,
            "linecolor": "white",
            "showbackground": true,
            "ticks": "",
            "zerolinecolor": "white"
           },
           "yaxis": {
            "backgroundcolor": "#E5ECF6",
            "gridcolor": "white",
            "gridwidth": 2,
            "linecolor": "white",
            "showbackground": true,
            "ticks": "",
            "zerolinecolor": "white"
           },
           "zaxis": {
            "backgroundcolor": "#E5ECF6",
            "gridcolor": "white",
            "gridwidth": 2,
            "linecolor": "white",
            "showbackground": true,
            "ticks": "",
            "zerolinecolor": "white"
           }
          },
          "shapedefaults": {
           "line": {
            "color": "#2a3f5f"
           }
          },
          "ternary": {
           "aaxis": {
            "gridcolor": "white",
            "linecolor": "white",
            "ticks": ""
           },
           "baxis": {
            "gridcolor": "white",
            "linecolor": "white",
            "ticks": ""
           },
           "bgcolor": "#E5ECF6",
           "caxis": {
            "gridcolor": "white",
            "linecolor": "white",
            "ticks": ""
           }
          },
          "title": {
           "x": 0.05
          },
          "xaxis": {
           "automargin": true,
           "gridcolor": "white",
           "linecolor": "white",
           "ticks": "",
           "title": {
            "standoff": 15
           },
           "zerolinecolor": "white",
           "zerolinewidth": 2
          },
          "yaxis": {
           "automargin": true,
           "gridcolor": "white",
           "linecolor": "white",
           "ticks": "",
           "title": {
            "standoff": 15
           },
           "zerolinecolor": "white",
           "zerolinewidth": 2
          }
         }
        }
       }
      },
      "text/html": [
       "<div>                            <div id=\"992fd796-81f0-484a-971d-63b104fe9069\" class=\"plotly-graph-div\" style=\"height:525px; width:100%;\"></div>            <script type=\"text/javascript\">                require([\"plotly\"], function(Plotly) {                    window.PLOTLYENV=window.PLOTLYENV || {};                                    if (document.getElementById(\"992fd796-81f0-484a-971d-63b104fe9069\")) {                    Plotly.newPlot(                        \"992fd796-81f0-484a-971d-63b104fe9069\",                        [{\"dimensions\":[{\"axis\":{\"matches\":true},\"label\":\"IMDB_Rating\",\"values\":[9.3,9.2,9.0,9.0,9.0,8.9,8.9,8.9,8.8,8.8,8.8,8.8,8.8,8.7,8.7,8.7,8.7,8.7,8.6,8.6,8.6,8.6,8.6,8.6,8.6,8.6,8.6,8.6,8.6,8.5,8.5,8.5,8.5,8.5,8.5,8.5,8.5,8.5,8.5,8.5,8.5,8.5,8.5,8.5,8.5,8.5,8.5,8.5,8.4,8.4,8.4,8.4,8.4,8.4,8.4,8.4,8.4,8.4,8.4,8.4,8.4,8.4,8.4,8.4,8.4,8.4,8.4,8.4,8.4,8.4,8.4,8.4,8.4,8.3,8.3,8.3,8.3,8.3,8.3,8.3,8.3,8.3,8.3,8.3,8.3,8.3,8.3,8.3,8.3,8.3,8.3,8.3,8.3,8.3,8.3,8.3,8.3,8.3,8.3,8.3,8.3,8.3,8.3,8.3,8.3,8.3,8.3,8.3,8.3,8.2,8.2,8.2,8.2,8.2,8.2,8.2,8.2,8.2,8.2,8.2,8.2,8.2,8.2,8.2,8.2,8.2,8.2,8.2,8.2,8.2,8.2,8.2,8.2,8.2,8.2,8.2,8.2,8.2,8.2,8.2,8.2,8.2,8.2,8.2,8.2,8.2,8.2,8.2,8.2,8.2,8.2,8.2,8.2,8.2,8.2,8.2,8.2,8.1,8.1,8.1,8.1,8.1,8.1,8.1,8.1,8.1,8.1,8.1,8.1,8.1,8.1,8.1,8.1,8.1,8.1,8.1,8.1,8.1,8.1,8.1,8.1,8.1,8.1,8.1,8.1,8.1,8.1,8.1,8.1,8.1,8.1,8.1,8.1,8.1,8.1,8.1,8.1,8.1,8.1,8.1,8.1,8.1,8.1,8.1,8.1,8.1,8.1,8.1,8.1,8.1,8.1,8.1,8.1,8.1,8.1,8.1,8.1,8.1,8.1,8.1,8.1,8.1,8.1,8.1,8.1,8.1,8.1,8.1,8.1,8.1,8.1,8.1,8.1,8.1,8.1,8.1,8.1,8.1,8.1,8.1,8.1,8.1,8.1,8.1,8.1,8.1,8.1,8.1,8.1,8.0,8.0,8.0,8.0,8.0,8.0,8.0,8.0,8.0,8.0,8.0,8.0,8.0,8.0,8.0,8.0,8.0,8.0,8.0,8.0,8.0,8.0,8.0,8.0,8.0,8.0,8.0,8.0,8.0,8.0,8.0,8.0,8.0,8.0,8.0,8.0,8.0,8.0,8.0,8.0,8.0,8.0,8.0,8.0,8.0,8.0,8.0,8.0,8.0,8.0,8.0,8.0,8.0,8.0,8.0,8.0,8.0,8.0,8.0,8.0,8.0,8.0,8.0,8.0,8.0,8.0,8.0,8.0,8.0,8.0,8.0,8.0,8.0,8.0,8.0,8.0,8.0,8.0,8.0,8.0,8.0,8.0,8.0,8.0,8.0,8.0,8.0,8.0,8.0,8.0,8.0,8.0,8.0,8.0,8.0,8.0,8.0,8.0,8.0,8.0,8.0,8.0,8.0,8.0,8.0,7.9,7.9,7.9,7.9,7.9,7.9,7.9,7.9,7.9,7.9,7.9,7.9,7.9,7.9,7.9,7.9,7.9,7.9,7.9,7.9,7.9,7.9,7.9,7.9,7.9,7.9,7.9,7.9,7.9,7.9,7.9,7.9,7.9,7.9,7.9,7.9,7.9,7.9,7.9,7.9,7.9,7.9,7.9,7.9,7.9,7.9,7.9,7.9,7.9,7.9,7.9,7.9,7.9,7.9,7.9,7.9,7.9,7.9,7.9,7.9,7.9,7.9,7.9,7.9,7.9,7.9,7.9,7.9,7.9,7.9,7.9,7.9,7.9,7.9,7.9,7.9,7.9,7.9,7.9,7.9,7.9,7.9,7.9,7.9,7.8,7.8,7.8,7.8,7.8,7.8,7.8,7.8,7.8,7.8,7.8,7.8,7.8,7.8,7.8,7.8,7.8,7.8,7.8,7.8,7.8,7.8,7.8,7.8,7.8,7.8,7.8,7.8,7.8,7.8,7.8,7.8,7.8,7.8,7.8,7.8,7.8,7.8,7.8,7.8,7.8,7.8,7.8,7.8,7.8,7.8,7.8,7.8,7.8,7.8,7.8,7.8,7.8,7.8,7.8,7.8,7.8,7.8,7.8,7.8,7.8,7.8,7.8,7.8,7.8,7.8,7.8,7.8,7.8,7.8,7.8,7.8,7.8,7.8,7.8,7.8,7.8,7.8,7.8,7.8,7.8,7.8,7.8,7.8,7.8,7.8,7.8,7.8,7.8,7.8,7.8,7.8,7.8,7.8,7.8,7.8,7.8,7.8,7.8,7.8,7.8,7.8,7.8,7.8,7.8,7.8,7.8,7.8,7.8,7.8,7.8,7.8,7.8,7.7,7.7,7.7,7.7,7.7,7.7,7.7,7.7,7.7,7.7,7.7,7.7,7.7,7.7,7.7,7.7,7.7,7.7,7.7,7.7,7.7,7.7,7.7,7.7,7.7,7.7,7.7,7.7,7.7,7.7,7.7,7.7,7.7,7.7,7.7,7.7,7.7,7.7,7.7,7.7,7.7,7.7,7.7,7.7,7.7,7.7,7.7,7.7,7.7,7.7,7.7,7.7,7.7,7.7,7.7,7.7,7.7,7.7,7.7,7.7,7.7,7.7,7.7,7.7,7.7,7.7,7.7,7.7,7.7,7.7,7.7,7.7,7.7,7.7,7.7,7.7,7.7,7.7,7.7,7.7,7.7,7.7,7.7,7.7,7.7,7.7,7.7,7.7,7.7,7.7,7.7,7.7,7.7,7.7,7.7,7.7,7.7,7.7,7.7,7.7,7.7,7.7,7.7,7.7,7.7,7.7,7.7,7.7,7.7,7.7,7.7,7.7,7.7,7.7,7.7,7.7,7.7,7.7,7.7,7.7,7.7,7.7,7.7,7.7,7.7,7.7,7.7,7.6,7.6,7.6,7.6,7.6,7.6,7.6,7.6,7.6,7.6,7.6,7.6,7.6,7.6,7.6,7.6,7.6,7.6,7.6,7.6,7.6,7.6,7.6,7.6,7.6,7.6,7.6,7.6,7.6,7.6,7.6,7.6,7.6,7.6,7.6,7.6,7.6,7.6,7.6,7.6,7.6,7.6,7.6,7.6,7.6,7.6,7.6,7.6,7.6,7.6,7.6,7.6,7.6,7.6,7.6,7.6,7.6,7.6,7.6,7.6,7.6,7.6,7.6,7.6,7.6,7.6,7.6,7.6,7.6,7.6,7.6,7.6,7.6,7.6,7.6,7.6,7.6,7.6,7.6,7.6,7.6,7.6,7.6,7.6,7.6,7.6,7.6,7.6,7.6,7.6,7.6,7.6,7.6,7.6,7.6,7.6,7.6,7.6,7.6,7.6,7.6,7.6,7.6,7.6,7.6,7.6,7.6]},{\"axis\":{\"matches\":true},\"label\":\"Meta_score\",\"values\":[80.0,100.0,84.0,90.0,96.0,94.0,94.0,94.0,74.0,66.0,92.0,82.0,90.0,87.0,73.0,90.0,82.0,83.0,96.0,74.0,79.0,96.0,91.0,61.0,59.0,65.0,85.0,90.0,98.0,59.0,88.0,57.0,66.0,85.0,85.0,67.0,62.0,77.0,64.0,88.0,75.0,80.0,87.0,80.0,97.0,100.0,96.0,99.0,75.0,79.0,79.0,87.0,78.0,68.0,81.0,81.0,78.0,67.0,79.0,95.0,89.0,77.0,80.0,76.0,79.0,85.0,66.0,94.0,89.0,97.0,79.0,100.0,79.0,78.0,79.0,77.0,95.0,80.0,69.0,89.0,69.0,55.0,68.0,84.0,70.0,77.0,95.0,68.0,79.0,76.0,84.0,88.0,65.0,58.0,86.0,94.0,83.0,77.0,84.0,74.0,100.0,94.0,98.0,100.0,99.0,95.0,100.0,79.0,79.0,79.0,79.0,69.0,88.0,79.0,79.0,79.0,79.0,79.0,79.0,79.0,80.0,71.0,63.0,88.0,75.0,68.0,93.0,98.0,92.0,62.0,79.0,79.0,70.0,79.0,82.0,80.0,72.0,66.0,90.0,76.0,73.0,85.0,65.0,79.0,86.0,72.0,96.0,89.0,79.0,91.0,86.0,98.0,75.0,98.0,98.0,79.0,79.0,95.0,79.0,84.0,74.0,79.0,77.0,86.0,77.0,79.0,79.0,88.0,79.0,71.0,94.0,79.0,96.0,74.0,81.0,93.0,85.0,79.0,79.0,70.0,90.0,72.0,85.0,68.0,75.0,73.0,91.0,79.0,86.0,79.0,64.0,90.0,82.0,79.0,69.0,90.0,75.0,83.0,79.0,84.0,64.0,58.0,90.0,73.0,71.0,85.0,83.0,85.0,79.0,77.0,100.0,77.0,68.0,84.0,79.0,79.0,79.0,75.0,92.0,78.0,86.0,57.0,47.0,100.0,84.0,77.0,86.0,70.0,79.0,92.0,77.0,79.0,79.0,92.0,79.0,75.0,79.0,90.0,87.0,91.0,72.0,97.0,86.0,73.0,97.0,87.0,79.0,79.0,79.0,79.0,94.0,69.0,80.0,78.0,79.0,89.0,66.0,65.0,79.0,82.0,71.0,73.0,76.0,81.0,90.0,49.0,76.0,67.0,88.0,62.0,65.0,87.0,79.0,50.0,84.0,79.0,33.0,69.0,90.0,80.0,64.0,64.0,85.0,72.0,74.0,92.0,96.0,80.0,83.0,85.0,74.0,69.0,54.0,75.0,63.0,58.0,90.0,60.0,88.0,77.0,61.0,86.0,79.0,82.0,80.0,85.0,84.0,91.0,74.0,76.0,82.0,72.0,47.0,59.0,86.0,72.0,95.0,72.0,93.0,65.0,79.0,77.0,79.0,88.0,84.0,79.0,83.0,92.0,87.0,86.0,80.0,58.0,81.0,79.0,93.0,67.0,100.0,66.0,79.0,83.0,63.0,69.0,65.0,90.0,95.0,93.0,99.0,84.0,97.0,79.0,93.0,96.0,92.0,91.0,82.0,93.0,94.0,93.0,78.0,82.0,81.0,72.0,79.0,74.0,76.0,58.0,81.0,80.0,94.0,75.0,89.0,71.0,94.0,94.0,90.0,67.0,82.0,81.0,80.0,79.0,100.0,82.0,67.0,89.0,64.0,79.0,83.0,56.0,79.0,76.0,84.0,82.0,85.0,86.0,84.0,61.0,68.0,80.0,84.0,90.0,85.0,88.0,85.0,77.0,59.0,85.0,65.0,74.0,97.0,77.0,79.0,90.0,84.0,92.0,77.0,60.0,83.0,72.0,71.0,84.0,76.0,93.0,91.0,97.0,79.0,75.0,83.0,87.0,79.0,89.0,88.0,100.0,79.0,79.0,79.0,97.0,79.0,90.0,85.0,94.0,74.0,88.0,84.0,79.0,96.0,75.0,65.0,75.0,68.0,91.0,62.0,85.0,76.0,79.0,74.0,55.0,79.0,83.0,84.0,49.0,84.0,76.0,81.0,71.0,82.0,79.0,72.0,79.0,66.0,82.0,76.0,79.0,51.0,55.0,88.0,58.0,85.0,78.0,76.0,83.0,63.0,68.0,80.0,81.0,70.0,67.0,51.0,82.0,68.0,73.0,74.0,72.0,53.0,75.0,82.0,91.0,61.0,83.0,48.0,94.0,87.0,73.0,44.0,84.0,71.0,84.0,75.0,64.0,61.0,76.0,70.0,73.0,50.0,55.0,84.0,87.0,80.0,79.0,68.0,86.0,76.0,75.0,74.0,78.0,57.0,65.0,45.0,72.0,61.0,75.0,62.0,78.0,66.0,76.0,71.0,91.0,73.0,91.0,77.0,69.0,85.0,73.0,80.0,80.0,67.0,79.0,95.0,88.0,75.0,88.0,79.0,66.0,73.0,85.0,86.0,70.0,76.0,72.0,72.0,60.0,69.0,74.0,87.0,89.0,40.0,70.0,79.0,87.0,72.0,70.0,81.0,83.0,96.0,72.0,95.0,65.0,73.0,81.0,81.0,86.0,76.0,65.0,86.0,80.0,81.0,63.0,45.0,78.0,78.0,74.0,78.0,53.0,70.0,78.0,71.0,71.0,87.0,76.0,66.0,78.0,73.0,61.0,73.0,89.0,81.0,47.0,80.0,55.0,83.0,68.0,76.0,28.0,83.0,74.0,72.0,60.0,74.0,85.0,74.0,62.0,69.0,73.0,68.0,69.0,86.0,79.0,90.0,67.0,52.0,73.0,76.0,87.0,47.0,79.0,83.0,81.0,70.0,79.0,66.0,64.0,73.0,76.0,82.0,62.0,64.0,69.0,66.0,83.0,84.0,76.0,62.0,54.0,76.0,75.0,90.0,79.0,77.0,67.0,61.0,86.0,78.0,87.0,71.0,73.0,87.0,83.0,80.0,94.0,90.0,86.0,79.0,72.0,87.0,90.0,74.0,79.0,91.0,96.0,71.0,83.0,86.0,92.0,60.0,70.0,83.0,67.0,86.0,72.0,81.0,80.0,81.0,82.0,82.0,92.0,88.0,77.0,79.0,73.0,68.0,80.0,88.0,80.0,65.0,72.0,72.0,66.0,87.0,70.0,73.0,57.0,53.0,79.0,36.0,82.0,66.0,76.0,72.0,66.0,70.0,68.0,78.0,52.0,72.0,56.0,62.0,46.0,67.0,73.0,45.0,76.0,81.0,70.0,56.0,67.0,68.0,30.0,73.0,76.0,88.0,64.0,74.0,52.0,53.0,80.0,74.0,64.0,77.0,78.0,71.0,41.0,66.0,49.0,52.0,84.0,58.0,62.0,69.0,77.0,88.0,56.0,78.0,68.0,90.0,66.0,63.0,60.0,76.0,88.0,76.0,72.0,68.0,82.0,68.0,77.0,65.0,74.0,76.0,59.0,90.0,87.0,77.0,50.0,65.0,96.0,85.0]},{\"axis\":{\"matches\":true},\"label\":\"Gross\",\"values\":[28341469.0,134966411.0,534858444.0,57300000.0,4360000.0,377845905.0,107928762.0,96898818.0,292576195.0,37030102.0,315544750.0,330252182.0,6100000.0,342551365.0,171479930.0,46836394.0,290475067.0,112000000.0,53367844.0,188020017.0,7563397.0,10055859.0,216540909.0,136801374.0,57598247.0,100125643.0,130742922.0,322740140.0,269061.0,335451311.0,13092000.0,13182281.0,53089891.0,132384315.0,32572577.0,187705427.0,6719864.0,23341568.0,19501238.0,422783777.0,204843350.0,11990401.0,210609762.0,5321508.0,32000000.0,1024560.0,163245.0,19181.0,1661096.0,5017246.0,12391761.0,190241310.0,858373000.0,678815482.0,209726015.0,162805434.0,448139099.0,6532908.0,1223869.0,223808164.0,11286112.0,707481.0,25544867.0,2375308.0,5321508.0,248159971.0,44017374.0,83471511.0,78900000.0,275902.0,8175000.0,36764313.0,288475.0,159227644.0,1373943.0,687185.0,7098492.0,6857096.0,120540719.0,34400301.0,33225499.0,30328156.0,3635482.0,130096601.0,138433435.0,933933.0,191796233.0,75600000.0,2832029.0,46357676.0,85160248.0,51973029.0,45598982.0,309125409.0,11487676.0,28262574.0,159600000.0,6207725.0,56954992.0,15000000.0,44824144.0,18600000.0,13275000.0,3200000.0,8819028.0,5720000.0,1585634.0,28877.0,5450000.0,898575.0,4186168.0,85080171.0,54513740.0,342370.0,20186659.0,739478.0,1429534.0,1626289.0,7461.0,39567.0,6391436.0,13657115.0,128012934.0,293004164.0,116900694.0,1113541.0,40222514.0,37634615.0,415004880.0,70511035.0,2197331.0,733094.0,206852432.0,1223240.0,5509040.0,4711096.0,170742341.0,3897569.0,64616940.0,67436818.0,42438300.0,101157447.0,197171806.0,280015.0,1105564.0,83008852.0,4135750.0,23383987.0,234723.0,1229197.0,12100000.0,25000000.0,12562.0,10177.0,5014000.0,5450000.0,977375.0,3759854.0,1241223.0,2006788.0,3492754.0,901610.0,226277068.0,14677674.0,3107072.0,10616104.0,923221.0,59100318.0,167767189.0,67209615.0,356461711.0,2804874.0,56671993.0,26947624.0,117624028.0,45055776.0,857524.0,1035953.0,3108485.0,61002302.0,154058340.0,148095302.0,381011219.0,1498210.0,217581231.0,18354356.0,74283625.0,2217561.0,100492203.0,23530892.0,1111061.0,5820649.0,14131.0,300000.0,70099045.0,380843261.0,164615351.0,5383834.0,289916256.0,70147.0,293506292.0,259127.0,125618201.0,348660.0,17498804.0,2734044.0,16501785.0,24611975.0,309811.0,5535405.0,4043686.0,600200.0,402453882.0,25010410.0,5216888.0,2603061.0,95860116.0,52287414.0,138530565.0,2181987.0,495770.0,13782838.0,22244207.0,4971340.0,32868943.0,20045115.0,48979328.0,117235247.0,177345.0,29000000.0,30933743.0,1742348.0,39481.0,16217773.0,102021.0,4050000.0,1526000.0,74700000.0,44908000.0,9600000.0,3969893.0,449191.0,4360000.0,9600000.0,198676459.0,4360000.0,21877.0,539540.0,1033895.0,8178001.0,151101803.0,51739495.0,228433663.0,341268248.0,6738000.0,1506975.0,132422809.0,5566534.0,1079369.0,1010414.0,2625803.0,91125683.0,333176600.0,92054159.0,25568251.0,216428042.0,183637894.0,17738570.0,138797449.0,169708112.0,363070709.0,106662.0,10950.0,4018695.0,141319928.0,106954678.0,8060.0,623279547.0,4445756.0,27298285.0,163566459.0,57366262.0,227471070.0,238507.0,74103820.0,5990075.0,206445654.0,167445960.0,66208183.0,2380788.0,2086345.0,61649911.0,1787378.0,169659.0,305413918.0,66257002.0,261441092.0,1530386.0,1480006.0,22455976.0,4184036.0,6203044.0,776665.0,1647780.0,5595428.0,23159305.0,24475416.0,13417292.0,57141459.0,515905.0,75082668.0,70906973.0,4496583.0,63895607.0,217350219.0,70405498.0,218967620.0,184208848.0,27545445.0,178800000.0,553171.0,30857814.0,3333969.0,4542825.0,38400000.0,52767889.0,30177511.0,39200000.0,260000000.0,50000000.0,86300000.0,53267000.0,232906145.0,4081254.0,29133000.0,80500000.0,541940.0,102308889.0,33395426.0,104945305.0,163214286.0,111722000.0,14500000.0,8284000.0,19516000.0,12535000.0,2237659.0,17570324.0,8000000.0,4360000.0,23650000.0,55000.0,2076020.0,3270000.0,165359751.0,3313513.0,2000000.0,18095701.0,258168.0,32015231.0,5202582.0,5875006.0,3237118.0,315058289.0,32381218.0,349555.0,100546139.0,936662225.0,8114627.0,233921534.0,44671682.0,100206256.0,6739492.0,7000000.0,2084637.0,5009677.0,2122065.0,115646235.0,26236603.0,410800.0,25379975.0,257730019.0,7757130.0,13756082.0,2280348.0,124987023.0,21002919.0,3635164.0,318412101.0,13542874.0,90135191.0,249358727.0,53710019.0,9284265.0,1059830.0,1000045.0,121661683.0,1221261.0,35552383.0,32534850.0,7220243.0,245852179.0,26400640.0,2201126.0,12281500.0,1324974.0,36948322.0,56362352.0,14743391.0,18254702.0,76270454.0,40084041.0,9929135.0,188751.0,20605209.0,57229890.0,45700000.0,37823676.0,5100000.0,70600000.0,61001.0,198809.0,61700000.0,12064472.0,22276975.0,24379978.0,13474588.0,30000000.0,93740000.0,9450000.0,7630000.0,10464000.0,6540000.0,9460000.0,296000.0,3981000.0,2537520.0,10000000.0,2402067.0,188373161.0,169607287.0,40442052.0,48023088.0,1782795.0,47695120.0,435266.0,532177324.0,408084349.0,54117416.0,108101214.0,6735118.0,1330596.0,4231500.0,169209.0,222527828.0,15322921.0,1670773.0,5209580.0,434038008.0,85433.0,45512466.0,177002924.0,70259870.0,102515793.0,107100855.0,6460.0,161197785.0,547292.0,258366855.0,2222647.0,10095170.0,93617009.0,145000989.0,9030581.0,9439923.0,303003568.0,50927067.0,35061555.0,130164645.0,760507625.0,3600.0,50866635.0,59891098.0,23637265.0,127509326.0,2921738.0,1305.0,38405088.0,5128124.0,128985.0,25514517.0,119519402.0,81001787.0,16756372.0,181655.0,7002255.0,54234062.0,2892011.0,115654751.0,128078872.0,8264530.0,233632142.0,25812.0,28965197.0,32481825.0,267665011.0,659325379.0,12339633.0,48323648.0,4040691.0,5887457.0,9170214.0,56505065.0,32416586.0,22954968.0,183875760.0,17266971.0,5617391.0,2015810.0,1999955.0,57504069.0,61276872.0,52096475.0,26830000.0,118500000.0,34603943.0,59735548.0,5923044.0,70136369.0,1436000.0,61503218.0,98467863.0,45875171.0,34700291.0,238632124.0,21500000.0,2500000.0,435110554.0,106260000.0,31800000.0,4420000.0,193817.0,16056255.0,42765000.0,4000000.0,44785053.0,72000000.0,102272727.0,39100000.0,2616000.0,336705.0,324591735.0,33800859.0,176040665.0,220159104.0,3358518.0,3333000.0,765127.0,35893537.0,128261724.0,124872350.0,6743776.0,42340598.0,2199675.0,1122527.0,259766572.0,985912.0,17654912.0,189422889.0,1339152.0,56816662.0,257760692.0,274092705.0,228778661.0,96962694.0,146408305.0,277322503.0,304360277.0,132092958.0,136025503.0,32391374.0,295983305.0,15090400.0,18593156.0,881302.0,35739802.0,1752214.0,25442958.0,412544.0,17605861.0,33080084.0,22494487.0,1054361.0,871577.0,200821936.0,4398392.0,83043761.0,53606916.0,54580300.0,17108591.0,176241941.0,1082715.0,75331600.0,44585453.0,290013036.0,77911774.0,75286229.0,111110575.0,4890878.0,4064200.0,15539266.0,40311852.0,22245861.0,108638745.0,104454762.0,141072.0,21995263.0,3029081.0,183417150.0,151086.0,45512588.0,52037603.0,10824921.0,76631907.0,17105219.0,368234.0,22858926.0,148478011.0,63540020.0,4065116.0,41909762.0,35811509.0,56116183.0,4414535.0,10019307.0,21848932.0,3151130.0,6110979.0,77324422.0,27281507.0,48169908.0,75505856.0,10725228.0,141340178.0,82418501.0,6153939.0,5080409.0,156452370.0,1544889.0,43984230.0,22238696.0,7153487.0,8551228.0,10631333.0,10600000.0,11798616.0,54000000.0,78912963.0,47212904.0,54800000.0,83400000.0,47000000.0,1924733.0,119500000.0,29800000.0,25000000.0,7056013.0,15630710.0,35900000.0,44527234.0,26331.0,28350000.0,51081062.0,11403529.0,4905000.0,10550000.0,536118.0,76408097.0,26020957.0,142502728.0,566356.0,5904366.0,24801212.0,13122642.0,845464.0,389813101.0,107825862.0,18340051.0,72313754.0,608581744.0,248757044.0,46889293.0,109767581.0,1092800.0,26862450.0,37707719.0,208545589.0,4105123.0,41003371.0,19202743.0,215288866.0,171243005.0,1008098.0,251513985.0,35014192.0,48071303.0,75605492.0,3185812.0,75590286.0,209028679.0,255959475.0,9422422.0,69951824.0,17114882.0,38634938.0,88513495.0,20300218.0,10301706.0,24633730.0,39868642.0,301959197.0,210614939.0,23089926.0,107509799.0,24149632.0,56000369.0,3081925.0,697181.0,548707.0,6167817.0,5739376.0,16290476.0,45289.0,51680613.0,13060843.0,57938693.0,45064915.0,52364010.0,13622333.0,317575550.0,96522687.0,52990775.0,51401758.0,132072926.0,50668906.0,15070285.0,7267585.0,36400491.0,120620254.0,10680275.0,14378331.0,49100000.0,3796699.0,43182776.0,100012499.0,1037847.0,71516617.0,173837933.0,1464625.0,40903593.0,7993039.0,52929168.0,453243.0,1794187.0,285761243.0,66666062.0,92823600.0,111543479.0,78756177.0,49530280.0,65207127.0,2150000.0,119285432.0,12465371.0,22490039.0,76657000.0,43000000.0,35000000.0,132088635.0,959000.0,696690.0,1378435.0,141843612.0,13780024.0,30500000.0]},{\"axis\":{\"matches\":true},\"label\":\"No_of_Votes\",\"values\":[2343110,1620367,2303232,1129952,689845,1642758,1826188,1213505,2067042,1854740,1661481,1809221,688390,1485555,1676426,1020727,1159315,918088,552778,1512360,699256,651376,1235804,1147794,623629,1445096,1270197,1231473,315744,939252,717585,760360,1190259,1189773,729603,1341460,1034705,991208,1035236,942045,995506,230763,1058081,302844,604211,522093,217881,167839,62635,194838,156479,375110,809955,834477,384171,1357682,1516346,344445,168895,999790,358685,515451,1125712,343171,311365,884112,898237,606398,787806,450474,108862,444074,203150,425844,71875,281623,220002,150023,1267869,911664,703810,782001,766870,1069738,861606,65341,887429,959181,918562,675146,652719,369007,740911,950470,231855,724636,241513,757904,603517,232772,268085,164363,299198,364368,218957,143525,403351,143434,113314,33893,43444,377884,432610,31142,75348,70367,60701,61137,42341,33237,193217,435950,1129894,935507,1187498,74129,517359,618623,757032,1032749,111937,33354,1308302,83005,331308,333915,848920,535216,531967,577113,466276,375935,692366,26402,291180,793164,112505,321860,116945,500875,224730,243943,158335,120539,114304,101053,41985,63134,39216,113649,50700,50445,647884,371538,177059,163061,51739,707630,859695,435928,616228,75721,640533,432811,291289,420316,51679,57806,67927,601149,882316,720450,764493,48582,666773,572921,856916,43137,635975,334320,37820,236311,139558,66803,1000639,949565,832846,223741,815505,105036,911573,59020,939631,50862,732620,124383,634716,617444,150345,272291,90729,63122,867615,156842,25088,29662,425457,363401,381222,91188,150924,371271,76081,57784,693827,367250,311361,518546,40081,294230,42285,30206,45434,161984,46947,50058,26697,219466,203463,142107,31568,158731,123942,107017,290074,94016,47676,46865,81156,72245,505918,213970,760094,434143,102972,38746,141923,31886,51069,81770,114316,685201,1043455,461823,540772,450349,705589,462252,639603,428521,902669,45803,28749,98575,798882,699673,98097,1260806,88656,441614,448930,499439,604694,50610,738512,103284,641645,582239,683900,77520,77554,176151,63460,117857,1015122,415218,657047,137963,740086,289742,102285,82002,58192,78341,36419,172083,86838,37564,578443,129231,300208,577991,28825,263918,373845,142110,417178,240266,89429,473064,164918,393899,64722,31163,799795,217664,65625,251823,543388,235652,143359,121627,362393,44748,42456,39491,27067,201888,165167,253676,205425,69903,198219,75067,66621,56305,98431,45062,99182,42725,57259,85559,371379,57318,454203,62754,246644,212651,53818,139114,111483,189400,85109,587775,466134,297918,594181,860823,141457,659763,230624,600004,93090,324720,93560,335152,205609,638202,289415,47720,335533,577336,390334,154011,107290,580708,199696,57430,939644,512249,419420,552493,173999,104691,44618,42897,508771,49721,465113,252586,322031,527512,239473,31590,206918,89836,201000,447368,68076,54670,281842,67176,187567,128812,132947,183182,131436,28223,111512,103031,37183,38737,93741,77401,29003,67804,68689,124339,63560,97222,123341,92306,78796,33549,53667,47175,30580,78991,51240,555092,200876,61594,118035,40416,246963,35539,556608,663649,517059,143250,50778,45002,50523,39710,410983,303032,33618,73690,203177,108399,318789,305611,362942,423010,421244,62848,179264,52758,601408,68715,208994,340584,564791,190748,110656,757377,251370,571571,392449,1118998,216421,291018,439856,463466,589160,49050,45717,258924,51980,31658,283310,234207,520284,96703,42673,50622,129022,60684,198089,253228,89058,524235,227143,159886,82855,613941,1046089,280845,345096,62428,164937,215034,126871,78963,66065,267684,128171,43690,55362,42376,126082,184740,125276,122779,481918,88214,371387,148359,321382,47834,244430,78321,357026,51585,355413,56235,88511,372490,133351,65659,98611,25229,37445,48334,178731,101124,86525,158029,52141,27007,73251,478586,205444,492851,291257,47444,157498,32798,404182,590440,344312,123210,580291,138741,32628,736182,39501,112298,380195,56720,388089,323982,769145,463188,624982,645512,717559,630614,661871,572581,472242,479120,125317,103330,71379,239203,81446,474141,32001,175355,466080,299524,28003,61609,405922,72643,323103,288797,419483,127250,434841,358432,138356,415074,548619,329592,197761,400049,25938,137981,40403,142863,178565,364254,246840,90842,126770,31957,516372,29210,286742,192112,241575,390247,169229,64082,312542,275755,434125,37424,279318,51350,189716,35991,32236,33600,211450,42275,224169,50298,85819,150409,95826,235388,66941,113240,125822,182009,40396,94326,115677,102031,181285,47102,59635,39881,36096,112704,226541,47099,214882,233106,39889,125993,109941,96561,98740,110075,143292,31572,40274,31222,174119,171739,87719,34677,71481,88662,140840,551309,29765,95181,99643,66346,35785,569974,439406,58371,287659,250057,272784,371291,247666,49397,204175,94212,411599,190531,228132,80939,334312,311822,38491,500851,315426,524081,369529,138959,520041,583158,293266,41544,286770,227760,255036,339757,250590,82781,72863,354728,474827,732876,206294,500799,294140,379020,83158,65939,67360,70925,67370,224545,62659,198677,169708,451479,376853,266842,115827,658185,337651,240714,243729,508417,91557,490062,188317,172710,256906,259753,187927,186734,131101,102598,364420,90442,73172,269197,64390,171640,165465,107325,27071,80487,488817,359809,195663,237696,152871,124773,236894,87745,27650,166588,93878,32802,121731,73662,184966,26337,30144,45338,166409,40351,43374]}],\"hovertemplate\":\"%{xaxis.title.text}=%{x}<br>%{yaxis.title.text}=%{y}<extra></extra>\",\"legendgroup\":\"\",\"marker\":{\"color\":\"#636efa\",\"symbol\":\"circle\"},\"name\":\"\",\"showlegend\":false,\"type\":\"splom\"}],                        {\"template\":{\"data\":{\"histogram2dcontour\":[{\"type\":\"histogram2dcontour\",\"colorbar\":{\"outlinewidth\":0,\"ticks\":\"\"},\"colorscale\":[[0.0,\"#0d0887\"],[0.1111111111111111,\"#46039f\"],[0.2222222222222222,\"#7201a8\"],[0.3333333333333333,\"#9c179e\"],[0.4444444444444444,\"#bd3786\"],[0.5555555555555556,\"#d8576b\"],[0.6666666666666666,\"#ed7953\"],[0.7777777777777778,\"#fb9f3a\"],[0.8888888888888888,\"#fdca26\"],[1.0,\"#f0f921\"]]}],\"choropleth\":[{\"type\":\"choropleth\",\"colorbar\":{\"outlinewidth\":0,\"ticks\":\"\"}}],\"histogram2d\":[{\"type\":\"histogram2d\",\"colorbar\":{\"outlinewidth\":0,\"ticks\":\"\"},\"colorscale\":[[0.0,\"#0d0887\"],[0.1111111111111111,\"#46039f\"],[0.2222222222222222,\"#7201a8\"],[0.3333333333333333,\"#9c179e\"],[0.4444444444444444,\"#bd3786\"],[0.5555555555555556,\"#d8576b\"],[0.6666666666666666,\"#ed7953\"],[0.7777777777777778,\"#fb9f3a\"],[0.8888888888888888,\"#fdca26\"],[1.0,\"#f0f921\"]]}],\"heatmap\":[{\"type\":\"heatmap\",\"colorbar\":{\"outlinewidth\":0,\"ticks\":\"\"},\"colorscale\":[[0.0,\"#0d0887\"],[0.1111111111111111,\"#46039f\"],[0.2222222222222222,\"#7201a8\"],[0.3333333333333333,\"#9c179e\"],[0.4444444444444444,\"#bd3786\"],[0.5555555555555556,\"#d8576b\"],[0.6666666666666666,\"#ed7953\"],[0.7777777777777778,\"#fb9f3a\"],[0.8888888888888888,\"#fdca26\"],[1.0,\"#f0f921\"]]}],\"heatmapgl\":[{\"type\":\"heatmapgl\",\"colorbar\":{\"outlinewidth\":0,\"ticks\":\"\"},\"colorscale\":[[0.0,\"#0d0887\"],[0.1111111111111111,\"#46039f\"],[0.2222222222222222,\"#7201a8\"],[0.3333333333333333,\"#9c179e\"],[0.4444444444444444,\"#bd3786\"],[0.5555555555555556,\"#d8576b\"],[0.6666666666666666,\"#ed7953\"],[0.7777777777777778,\"#fb9f3a\"],[0.8888888888888888,\"#fdca26\"],[1.0,\"#f0f921\"]]}],\"contourcarpet\":[{\"type\":\"contourcarpet\",\"colorbar\":{\"outlinewidth\":0,\"ticks\":\"\"}}],\"contour\":[{\"type\":\"contour\",\"colorbar\":{\"outlinewidth\":0,\"ticks\":\"\"},\"colorscale\":[[0.0,\"#0d0887\"],[0.1111111111111111,\"#46039f\"],[0.2222222222222222,\"#7201a8\"],[0.3333333333333333,\"#9c179e\"],[0.4444444444444444,\"#bd3786\"],[0.5555555555555556,\"#d8576b\"],[0.6666666666666666,\"#ed7953\"],[0.7777777777777778,\"#fb9f3a\"],[0.8888888888888888,\"#fdca26\"],[1.0,\"#f0f921\"]]}],\"surface\":[{\"type\":\"surface\",\"colorbar\":{\"outlinewidth\":0,\"ticks\":\"\"},\"colorscale\":[[0.0,\"#0d0887\"],[0.1111111111111111,\"#46039f\"],[0.2222222222222222,\"#7201a8\"],[0.3333333333333333,\"#9c179e\"],[0.4444444444444444,\"#bd3786\"],[0.5555555555555556,\"#d8576b\"],[0.6666666666666666,\"#ed7953\"],[0.7777777777777778,\"#fb9f3a\"],[0.8888888888888888,\"#fdca26\"],[1.0,\"#f0f921\"]]}],\"mesh3d\":[{\"type\":\"mesh3d\",\"colorbar\":{\"outlinewidth\":0,\"ticks\":\"\"}}],\"scatter\":[{\"fillpattern\":{\"fillmode\":\"overlay\",\"size\":10,\"solidity\":0.2},\"type\":\"scatter\"}],\"parcoords\":[{\"type\":\"parcoords\",\"line\":{\"colorbar\":{\"outlinewidth\":0,\"ticks\":\"\"}}}],\"scatterpolargl\":[{\"type\":\"scatterpolargl\",\"marker\":{\"colorbar\":{\"outlinewidth\":0,\"ticks\":\"\"}}}],\"bar\":[{\"error_x\":{\"color\":\"#2a3f5f\"},\"error_y\":{\"color\":\"#2a3f5f\"},\"marker\":{\"line\":{\"color\":\"#E5ECF6\",\"width\":0.5},\"pattern\":{\"fillmode\":\"overlay\",\"size\":10,\"solidity\":0.2}},\"type\":\"bar\"}],\"scattergeo\":[{\"type\":\"scattergeo\",\"marker\":{\"colorbar\":{\"outlinewidth\":0,\"ticks\":\"\"}}}],\"scatterpolar\":[{\"type\":\"scatterpolar\",\"marker\":{\"colorbar\":{\"outlinewidth\":0,\"ticks\":\"\"}}}],\"histogram\":[{\"marker\":{\"pattern\":{\"fillmode\":\"overlay\",\"size\":10,\"solidity\":0.2}},\"type\":\"histogram\"}],\"scattergl\":[{\"type\":\"scattergl\",\"marker\":{\"colorbar\":{\"outlinewidth\":0,\"ticks\":\"\"}}}],\"scatter3d\":[{\"type\":\"scatter3d\",\"line\":{\"colorbar\":{\"outlinewidth\":0,\"ticks\":\"\"}},\"marker\":{\"colorbar\":{\"outlinewidth\":0,\"ticks\":\"\"}}}],\"scattermapbox\":[{\"type\":\"scattermapbox\",\"marker\":{\"colorbar\":{\"outlinewidth\":0,\"ticks\":\"\"}}}],\"scatterternary\":[{\"type\":\"scatterternary\",\"marker\":{\"colorbar\":{\"outlinewidth\":0,\"ticks\":\"\"}}}],\"scattercarpet\":[{\"type\":\"scattercarpet\",\"marker\":{\"colorbar\":{\"outlinewidth\":0,\"ticks\":\"\"}}}],\"carpet\":[{\"aaxis\":{\"endlinecolor\":\"#2a3f5f\",\"gridcolor\":\"white\",\"linecolor\":\"white\",\"minorgridcolor\":\"white\",\"startlinecolor\":\"#2a3f5f\"},\"baxis\":{\"endlinecolor\":\"#2a3f5f\",\"gridcolor\":\"white\",\"linecolor\":\"white\",\"minorgridcolor\":\"white\",\"startlinecolor\":\"#2a3f5f\"},\"type\":\"carpet\"}],\"table\":[{\"cells\":{\"fill\":{\"color\":\"#EBF0F8\"},\"line\":{\"color\":\"white\"}},\"header\":{\"fill\":{\"color\":\"#C8D4E3\"},\"line\":{\"color\":\"white\"}},\"type\":\"table\"}],\"barpolar\":[{\"marker\":{\"line\":{\"color\":\"#E5ECF6\",\"width\":0.5},\"pattern\":{\"fillmode\":\"overlay\",\"size\":10,\"solidity\":0.2}},\"type\":\"barpolar\"}],\"pie\":[{\"automargin\":true,\"type\":\"pie\"}]},\"layout\":{\"autotypenumbers\":\"strict\",\"colorway\":[\"#636efa\",\"#EF553B\",\"#00cc96\",\"#ab63fa\",\"#FFA15A\",\"#19d3f3\",\"#FF6692\",\"#B6E880\",\"#FF97FF\",\"#FECB52\"],\"font\":{\"color\":\"#2a3f5f\"},\"hovermode\":\"closest\",\"hoverlabel\":{\"align\":\"left\"},\"paper_bgcolor\":\"white\",\"plot_bgcolor\":\"#E5ECF6\",\"polar\":{\"bgcolor\":\"#E5ECF6\",\"angularaxis\":{\"gridcolor\":\"white\",\"linecolor\":\"white\",\"ticks\":\"\"},\"radialaxis\":{\"gridcolor\":\"white\",\"linecolor\":\"white\",\"ticks\":\"\"}},\"ternary\":{\"bgcolor\":\"#E5ECF6\",\"aaxis\":{\"gridcolor\":\"white\",\"linecolor\":\"white\",\"ticks\":\"\"},\"baxis\":{\"gridcolor\":\"white\",\"linecolor\":\"white\",\"ticks\":\"\"},\"caxis\":{\"gridcolor\":\"white\",\"linecolor\":\"white\",\"ticks\":\"\"}},\"coloraxis\":{\"colorbar\":{\"outlinewidth\":0,\"ticks\":\"\"}},\"colorscale\":{\"sequential\":[[0.0,\"#0d0887\"],[0.1111111111111111,\"#46039f\"],[0.2222222222222222,\"#7201a8\"],[0.3333333333333333,\"#9c179e\"],[0.4444444444444444,\"#bd3786\"],[0.5555555555555556,\"#d8576b\"],[0.6666666666666666,\"#ed7953\"],[0.7777777777777778,\"#fb9f3a\"],[0.8888888888888888,\"#fdca26\"],[1.0,\"#f0f921\"]],\"sequentialminus\":[[0.0,\"#0d0887\"],[0.1111111111111111,\"#46039f\"],[0.2222222222222222,\"#7201a8\"],[0.3333333333333333,\"#9c179e\"],[0.4444444444444444,\"#bd3786\"],[0.5555555555555556,\"#d8576b\"],[0.6666666666666666,\"#ed7953\"],[0.7777777777777778,\"#fb9f3a\"],[0.8888888888888888,\"#fdca26\"],[1.0,\"#f0f921\"]],\"diverging\":[[0,\"#8e0152\"],[0.1,\"#c51b7d\"],[0.2,\"#de77ae\"],[0.3,\"#f1b6da\"],[0.4,\"#fde0ef\"],[0.5,\"#f7f7f7\"],[0.6,\"#e6f5d0\"],[0.7,\"#b8e186\"],[0.8,\"#7fbc41\"],[0.9,\"#4d9221\"],[1,\"#276419\"]]},\"xaxis\":{\"gridcolor\":\"white\",\"linecolor\":\"white\",\"ticks\":\"\",\"title\":{\"standoff\":15},\"zerolinecolor\":\"white\",\"automargin\":true,\"zerolinewidth\":2},\"yaxis\":{\"gridcolor\":\"white\",\"linecolor\":\"white\",\"ticks\":\"\",\"title\":{\"standoff\":15},\"zerolinecolor\":\"white\",\"automargin\":true,\"zerolinewidth\":2},\"scene\":{\"xaxis\":{\"backgroundcolor\":\"#E5ECF6\",\"gridcolor\":\"white\",\"linecolor\":\"white\",\"showbackground\":true,\"ticks\":\"\",\"zerolinecolor\":\"white\",\"gridwidth\":2},\"yaxis\":{\"backgroundcolor\":\"#E5ECF6\",\"gridcolor\":\"white\",\"linecolor\":\"white\",\"showbackground\":true,\"ticks\":\"\",\"zerolinecolor\":\"white\",\"gridwidth\":2},\"zaxis\":{\"backgroundcolor\":\"#E5ECF6\",\"gridcolor\":\"white\",\"linecolor\":\"white\",\"showbackground\":true,\"ticks\":\"\",\"zerolinecolor\":\"white\",\"gridwidth\":2}},\"shapedefaults\":{\"line\":{\"color\":\"#2a3f5f\"}},\"annotationdefaults\":{\"arrowcolor\":\"#2a3f5f\",\"arrowhead\":0,\"arrowwidth\":1},\"geo\":{\"bgcolor\":\"white\",\"landcolor\":\"#E5ECF6\",\"subunitcolor\":\"white\",\"showland\":true,\"showlakes\":true,\"lakecolor\":\"white\"},\"title\":{\"x\":0.05},\"mapbox\":{\"style\":\"light\"}}},\"legend\":{\"tracegroupgap\":0},\"margin\":{\"t\":60},\"dragmode\":\"select\"},                        {\"responsive\": true}                    ).then(function(){\n",
       "                            \n",
       "var gd = document.getElementById('992fd796-81f0-484a-971d-63b104fe9069');\n",
       "var x = new MutationObserver(function (mutations, observer) {{\n",
       "        var display = window.getComputedStyle(gd).display;\n",
       "        if (!display || display === 'none') {{\n",
       "            console.log([gd, 'removed!']);\n",
       "            Plotly.purge(gd);\n",
       "            observer.disconnect();\n",
       "        }}\n",
       "}});\n",
       "\n",
       "// Listen for the removal of the full notebook cells\n",
       "var notebookContainer = gd.closest('#notebook-container');\n",
       "if (notebookContainer) {{\n",
       "    x.observe(notebookContainer, {childList: true});\n",
       "}}\n",
       "\n",
       "// Listen for the clearing of the current output cell\n",
       "var outputEl = gd.closest('.output');\n",
       "if (outputEl) {{\n",
       "    x.observe(outputEl, {childList: true});\n",
       "}}\n",
       "\n",
       "                        })                };                });            </script>        </div>"
      ]
     },
     "metadata": {},
     "output_type": "display_data"
    }
   ],
   "source": [
    "fig = px.scatter_matrix(df_variaveis_numericas)\n",
    "fig.show()"
   ]
  },
  {
   "cell_type": "markdown",
   "metadata": {},
   "source": [
    "**Correlação entre Gross e Meta_score**: Para a visualização, escolheu-se uma tabela (matriz de correlações).\n",
    "\n",
    "Pela tabela, percebe-se ausência de correlação entre as duas variáveis.\n"
   ]
  },
  {
   "cell_type": "code",
   "execution_count": 68,
   "metadata": {
    "scrolled": false
   },
   "outputs": [
    {
     "data": {
      "text/html": [
       "<div>\n",
       "<style scoped>\n",
       "    .dataframe tbody tr th:only-of-type {\n",
       "        vertical-align: middle;\n",
       "    }\n",
       "\n",
       "    .dataframe tbody tr th {\n",
       "        vertical-align: top;\n",
       "    }\n",
       "\n",
       "    .dataframe thead th {\n",
       "        text-align: right;\n",
       "    }\n",
       "</style>\n",
       "<table border=\"1\" class=\"dataframe\">\n",
       "  <thead>\n",
       "    <tr style=\"text-align: right;\">\n",
       "      <th></th>\n",
       "      <th>Gross</th>\n",
       "      <th>Meta_score</th>\n",
       "    </tr>\n",
       "  </thead>\n",
       "  <tbody>\n",
       "    <tr>\n",
       "      <th>Gross</th>\n",
       "      <td>1.000000</td>\n",
       "      <td>-0.023012</td>\n",
       "    </tr>\n",
       "    <tr>\n",
       "      <th>Meta_score</th>\n",
       "      <td>-0.023012</td>\n",
       "      <td>1.000000</td>\n",
       "    </tr>\n",
       "  </tbody>\n",
       "</table>\n",
       "</div>"
      ],
      "text/plain": [
       "               Gross  Meta_score\n",
       "Gross       1.000000   -0.023012\n",
       "Meta_score -0.023012    1.000000"
      ]
     },
     "execution_count": 68,
     "metadata": {},
     "output_type": "execute_result"
    }
   ],
   "source": [
    "df[[\"Gross\", \"Meta_score\"]].corr()"
   ]
  },
  {
   "cell_type": "markdown",
   "metadata": {},
   "source": [
    "**Radar plot**: A visualização multidimensional iterativa escolhia foi o radar plot. O objetivo é que se possa observar como algumas variáveis de interesse afetam os principais filmes (no nosso caso, restringimos para os 10 filmes melhores avaliados na métrica do IMDC). Por exemplo, pode-se observar como que que o tempo de duração do filme se comporta para este grupo selecionado. É entendido que o Radar Plot é uma técnica amplamente questionada, porém como as técnicas de redução de dimensionalidade não se encaixam no problema, este método acabou sendo o mais adequado para a exemplificação de técnicas multidimensionais."
   ]
  },
  {
   "cell_type": "code",
   "execution_count": 69,
   "metadata": {
    "scrolled": true
   },
   "outputs": [
    {
     "data": {
      "text/html": [
       "<div>\n",
       "<style scoped>\n",
       "    .dataframe tbody tr th:only-of-type {\n",
       "        vertical-align: middle;\n",
       "    }\n",
       "\n",
       "    .dataframe tbody tr th {\n",
       "        vertical-align: top;\n",
       "    }\n",
       "\n",
       "    .dataframe thead th {\n",
       "        text-align: right;\n",
       "    }\n",
       "</style>\n",
       "<table border=\"1\" class=\"dataframe\">\n",
       "  <thead>\n",
       "    <tr style=\"text-align: right;\">\n",
       "      <th></th>\n",
       "      <th>Series_Title</th>\n",
       "      <th>Released_Year</th>\n",
       "      <th>Certificate</th>\n",
       "      <th>Genre</th>\n",
       "      <th>IMDB_Rating</th>\n",
       "      <th>Overview</th>\n",
       "      <th>Meta_score</th>\n",
       "      <th>Director</th>\n",
       "      <th>Star1</th>\n",
       "      <th>Star2</th>\n",
       "      <th>Star3</th>\n",
       "      <th>Star4</th>\n",
       "      <th>No_of_Votes</th>\n",
       "      <th>Gross</th>\n",
       "      <th>difference</th>\n",
       "      <th>Runtime (min)</th>\n",
       "    </tr>\n",
       "  </thead>\n",
       "  <tbody>\n",
       "    <tr>\n",
       "      <th>0</th>\n",
       "      <td>The Shawshank Redemption</td>\n",
       "      <td>1994</td>\n",
       "      <td>A</td>\n",
       "      <td>Drama</td>\n",
       "      <td>9.3</td>\n",
       "      <td>Two imprisoned men bond over a number of years...</td>\n",
       "      <td>80.0</td>\n",
       "      <td>Frank Darabont</td>\n",
       "      <td>Tim Robbins</td>\n",
       "      <td>Morgan Freeman</td>\n",
       "      <td>Bob Gunton</td>\n",
       "      <td>William Sadler</td>\n",
       "      <td>2343110</td>\n",
       "      <td>28341469.0</td>\n",
       "      <td>-0.277778</td>\n",
       "      <td>142</td>\n",
       "    </tr>\n",
       "    <tr>\n",
       "      <th>1</th>\n",
       "      <td>The Godfather</td>\n",
       "      <td>1972</td>\n",
       "      <td>A</td>\n",
       "      <td>Crime, Drama</td>\n",
       "      <td>9.2</td>\n",
       "      <td>An organized crime dynasty's aging patriarch t...</td>\n",
       "      <td>100.0</td>\n",
       "      <td>Francis Ford Coppola</td>\n",
       "      <td>Marlon Brando</td>\n",
       "      <td>Al Pacino</td>\n",
       "      <td>James Caan</td>\n",
       "      <td>Diane Keaton</td>\n",
       "      <td>1620367</td>\n",
       "      <td>134966411.0</td>\n",
       "      <td>0.058824</td>\n",
       "      <td>175</td>\n",
       "    </tr>\n",
       "    <tr>\n",
       "      <th>2</th>\n",
       "      <td>The Dark Knight</td>\n",
       "      <td>2008</td>\n",
       "      <td>UA</td>\n",
       "      <td>Action, Crime, Drama</td>\n",
       "      <td>9.0</td>\n",
       "      <td>When the menace known as the Joker wreaks havo...</td>\n",
       "      <td>84.0</td>\n",
       "      <td>Christopher Nolan</td>\n",
       "      <td>Christian Bale</td>\n",
       "      <td>Heath Ledger</td>\n",
       "      <td>Aaron Eckhart</td>\n",
       "      <td>Michael Caine</td>\n",
       "      <td>2303232</td>\n",
       "      <td>534858444.0</td>\n",
       "      <td>-0.045752</td>\n",
       "      <td>152</td>\n",
       "    </tr>\n",
       "    <tr>\n",
       "      <th>3</th>\n",
       "      <td>The Godfather: Part II</td>\n",
       "      <td>1974</td>\n",
       "      <td>A</td>\n",
       "      <td>Crime, Drama</td>\n",
       "      <td>9.0</td>\n",
       "      <td>The early life and career of Vito Corleone in ...</td>\n",
       "      <td>90.0</td>\n",
       "      <td>Francis Ford Coppola</td>\n",
       "      <td>Al Pacino</td>\n",
       "      <td>Robert De Niro</td>\n",
       "      <td>Robert Duvall</td>\n",
       "      <td>Diane Keaton</td>\n",
       "      <td>1129952</td>\n",
       "      <td>57300000.0</td>\n",
       "      <td>0.037582</td>\n",
       "      <td>202</td>\n",
       "    </tr>\n",
       "    <tr>\n",
       "      <th>4</th>\n",
       "      <td>12 Angry Men</td>\n",
       "      <td>1957</td>\n",
       "      <td>U</td>\n",
       "      <td>Crime, Drama</td>\n",
       "      <td>9.0</td>\n",
       "      <td>A jury holdout attempts to prevent a miscarria...</td>\n",
       "      <td>96.0</td>\n",
       "      <td>Sidney Lumet</td>\n",
       "      <td>Henry Fonda</td>\n",
       "      <td>Lee J. Cobb</td>\n",
       "      <td>Martin Balsam</td>\n",
       "      <td>John Fiedler</td>\n",
       "      <td>689845</td>\n",
       "      <td>4360000.0</td>\n",
       "      <td>0.120915</td>\n",
       "      <td>96</td>\n",
       "    </tr>\n",
       "  </tbody>\n",
       "</table>\n",
       "</div>"
      ],
      "text/plain": [
       "               Series_Title  Released_Year Certificate                 Genre  \\\n",
       "0  The Shawshank Redemption           1994           A                 Drama   \n",
       "1             The Godfather           1972           A          Crime, Drama   \n",
       "2           The Dark Knight           2008          UA  Action, Crime, Drama   \n",
       "3    The Godfather: Part II           1974           A          Crime, Drama   \n",
       "4              12 Angry Men           1957           U          Crime, Drama   \n",
       "\n",
       "   IMDB_Rating                                           Overview  Meta_score  \\\n",
       "0          9.3  Two imprisoned men bond over a number of years...        80.0   \n",
       "1          9.2  An organized crime dynasty's aging patriarch t...       100.0   \n",
       "2          9.0  When the menace known as the Joker wreaks havo...        84.0   \n",
       "3          9.0  The early life and career of Vito Corleone in ...        90.0   \n",
       "4          9.0  A jury holdout attempts to prevent a miscarria...        96.0   \n",
       "\n",
       "               Director           Star1           Star2          Star3  \\\n",
       "0        Frank Darabont     Tim Robbins  Morgan Freeman     Bob Gunton   \n",
       "1  Francis Ford Coppola   Marlon Brando       Al Pacino     James Caan   \n",
       "2     Christopher Nolan  Christian Bale    Heath Ledger  Aaron Eckhart   \n",
       "3  Francis Ford Coppola       Al Pacino  Robert De Niro  Robert Duvall   \n",
       "4          Sidney Lumet     Henry Fonda     Lee J. Cobb  Martin Balsam   \n",
       "\n",
       "            Star4  No_of_Votes        Gross  difference  Runtime (min)  \n",
       "0  William Sadler      2343110   28341469.0   -0.277778            142  \n",
       "1    Diane Keaton      1620367  134966411.0    0.058824            175  \n",
       "2   Michael Caine      2303232  534858444.0   -0.045752            152  \n",
       "3    Diane Keaton      1129952   57300000.0    0.037582            202  \n",
       "4    John Fiedler       689845    4360000.0    0.120915             96  "
      ]
     },
     "execution_count": 69,
     "metadata": {},
     "output_type": "execute_result"
    }
   ],
   "source": [
    "# tratando a base de dados para que seja possivel aplicar o método (ordenando pelo IMDB_Rating e transformando a variável\n",
    "# Runtime em numérica)\n",
    "\n",
    "df_sorted = df.sort_values(by='IMDB_Rating', ascending = False)\n",
    "\n",
    "def extract_minutes(runtime):\n",
    "    return int(runtime.split(' ')[0])\n",
    "\n",
    "df_sorted['Runtime (min)'] = df_sorted['Runtime'].apply(extract_minutes)\n",
    "\n",
    "df_sorted.drop(columns=['Runtime'], inplace=True)\n",
    "df_sorted.head()"
   ]
  },
  {
   "cell_type": "code",
   "execution_count": null,
   "metadata": {},
   "outputs": [],
   "source": []
  },
  {
   "cell_type": "code",
   "execution_count": 70,
   "metadata": {},
   "outputs": [
    {
     "data": {
      "text/html": [
       "<div>\n",
       "<style scoped>\n",
       "    .dataframe tbody tr th:only-of-type {\n",
       "        vertical-align: middle;\n",
       "    }\n",
       "\n",
       "    .dataframe tbody tr th {\n",
       "        vertical-align: top;\n",
       "    }\n",
       "\n",
       "    .dataframe thead th {\n",
       "        text-align: right;\n",
       "    }\n",
       "</style>\n",
       "<table border=\"1\" class=\"dataframe\">\n",
       "  <thead>\n",
       "    <tr style=\"text-align: right;\">\n",
       "      <th></th>\n",
       "      <th>IMDB_Rating</th>\n",
       "      <th>Meta_score</th>\n",
       "      <th>No_of_Votes</th>\n",
       "      <th>Gross</th>\n",
       "      <th>Runtime (min)</th>\n",
       "      <th>Series_Title</th>\n",
       "    </tr>\n",
       "  </thead>\n",
       "  <tbody>\n",
       "    <tr>\n",
       "      <th>0</th>\n",
       "      <td>1.0</td>\n",
       "      <td>0.0</td>\n",
       "      <td>1.000000</td>\n",
       "      <td>0.045206</td>\n",
       "      <td>0.433962</td>\n",
       "      <td>The Shawshank Redemption</td>\n",
       "    </tr>\n",
       "    <tr>\n",
       "      <th>1</th>\n",
       "      <td>0.8</td>\n",
       "      <td>1.0</td>\n",
       "      <td>0.563223</td>\n",
       "      <td>0.246196</td>\n",
       "      <td>0.745283</td>\n",
       "      <td>The Godfather</td>\n",
       "    </tr>\n",
       "    <tr>\n",
       "      <th>2</th>\n",
       "      <td>0.4</td>\n",
       "      <td>0.2</td>\n",
       "      <td>0.975900</td>\n",
       "      <td>1.000000</td>\n",
       "      <td>0.528302</td>\n",
       "      <td>The Dark Knight</td>\n",
       "    </tr>\n",
       "    <tr>\n",
       "      <th>3</th>\n",
       "      <td>0.4</td>\n",
       "      <td>0.5</td>\n",
       "      <td>0.266850</td>\n",
       "      <td>0.099793</td>\n",
       "      <td>1.000000</td>\n",
       "      <td>The Godfather: Part II</td>\n",
       "    </tr>\n",
       "    <tr>\n",
       "      <th>4</th>\n",
       "      <td>0.4</td>\n",
       "      <td>0.8</td>\n",
       "      <td>0.000879</td>\n",
       "      <td>0.000000</td>\n",
       "      <td>0.000000</td>\n",
       "      <td>12 Angry Men</td>\n",
       "    </tr>\n",
       "  </tbody>\n",
       "</table>\n",
       "</div>"
      ],
      "text/plain": [
       "   IMDB_Rating  Meta_score  No_of_Votes     Gross  Runtime (min)  \\\n",
       "0          1.0         0.0     1.000000  0.045206       0.433962   \n",
       "1          0.8         1.0     0.563223  0.246196       0.745283   \n",
       "2          0.4         0.2     0.975900  1.000000       0.528302   \n",
       "3          0.4         0.5     0.266850  0.099793       1.000000   \n",
       "4          0.4         0.8     0.000879  0.000000       0.000000   \n",
       "\n",
       "               Series_Title  \n",
       "0  The Shawshank Redemption  \n",
       "1             The Godfather  \n",
       "2           The Dark Knight  \n",
       "3    The Godfather: Part II  \n",
       "4              12 Angry Men  "
      ]
     },
     "execution_count": 70,
     "metadata": {},
     "output_type": "execute_result"
    }
   ],
   "source": [
    "# normalizando as variáveis numéricas para a mesma escala, de forma que a visualização por Radar faça sentido\n",
    "\n",
    "from sklearn.preprocessing import StandardScaler\n",
    "\n",
    "top10movies = df_sorted[:10]\n",
    "\n",
    "# Select relevant Runtime (min)\n",
    "top10movies = top10movies[['IMDB_Rating','Meta_score','No_of_Votes','Gross','Runtime (min)']]\n",
    "categories = ['IMDB_Rating','Meta_score','No_of_Votes','Gross','Runtime (min)']\n",
    "\n",
    "scaler = MinMaxScaler()\n",
    "\n",
    "scaled_top10 = scaler.fit_transform(top10movies)\n",
    "\n",
    "scaled_top10 = pd.DataFrame(scaled_top10, columns=top10movies.columns)\n",
    "scaled_top10['Series_Title'] = df['Series_Title']\n",
    "scaled_top10.head()"
   ]
  },
  {
   "cell_type": "code",
   "execution_count": 71,
   "metadata": {},
   "outputs": [],
   "source": [
    "# definindo a sequência de cores do Radar Plot\n",
    "\n",
    "color_sequence = ['#0000FF', '#4DFF00', '#FFA500', '#FF00AA', '#00FFFF', '#800080', '#FFD700', '#00FF00', '#FF0000', '#4169E1']\n"
   ]
  },
  {
   "cell_type": "code",
   "execution_count": 72,
   "metadata": {},
   "outputs": [
    {
     "data": {
      "application/vnd.plotly.v1+json": {
       "config": {
        "plotlyServerURL": "https://plot.ly"
       },
       "data": [
        {
         "fill": "toself",
         "line": {
          "color": "#0000FF"
         },
         "name": "The Shawshank Redemption",
         "r": [
          1,
          0,
          1,
          0.04520554069711842,
          0.4339622641509433,
          "The Shawshank Redemption"
         ],
         "theta": [
          "IMDB_Rating",
          "Meta_score",
          "No_of_Votes",
          "Gross",
          "Runtime (min)"
         ],
         "type": "scatterpolar"
        },
        {
         "fill": "toself",
         "line": {
          "color": "#4DFF00"
         },
         "name": "The Godfather",
         "r": [
          0.7999999999999972,
          1,
          0.5632233852252948,
          0.2461956533090227,
          0.7452830188679245,
          "The Godfather"
         ],
         "theta": [
          "IMDB_Rating",
          "Meta_score",
          "No_of_Votes",
          "Gross",
          "Runtime (min)"
         ],
         "type": "scatterpolar"
        },
        {
         "fill": "toself",
         "line": {
          "color": "#FFA500"
         },
         "name": "The Dark Knight",
         "r": [
          0.3999999999999986,
          0.20000000000000018,
          0.9759004544575516,
          0.9999999999999998,
          0.5283018867924527,
          "The Dark Knight"
         ],
         "theta": [
          "IMDB_Rating",
          "Meta_score",
          "No_of_Votes",
          "Gross",
          "Runtime (min)"
         ],
         "type": "scatterpolar"
        },
        {
         "fill": "toself",
         "line": {
          "color": "#FF00AA"
         },
         "name": "The Godfather: Part II",
         "r": [
          0.3999999999999986,
          0.5,
          0.26684998066138077,
          0.09979294114574254,
          1,
          "The Godfather: Part II"
         ],
         "theta": [
          "IMDB_Rating",
          "Meta_score",
          "No_of_Votes",
          "Gross",
          "Runtime (min)"
         ],
         "type": "scatterpolar"
        },
        {
         "fill": "toself",
         "line": {
          "color": "#00FFFF"
         },
         "name": "12 Angry Men",
         "r": [
          0.3999999999999986,
          0.8000000000000007,
          0.0008793028427769856,
          0,
          0,
          "12 Angry Men"
         ],
         "theta": [
          "IMDB_Rating",
          "Meta_score",
          "No_of_Votes",
          "Gross",
          "Runtime (min)"
         ],
         "type": "scatterpolar"
        },
        {
         "fill": "toself",
         "line": {
          "color": "#800080"
         },
         "name": "The Lord of the Rings: The Return of the King",
         "r": [
          0.1999999999999993,
          0.7000000000000002,
          0.5767549796944498,
          0.7040282760942462,
          0.990566037735849,
          "The Lord of the Rings: The Return of the King"
         ],
         "theta": [
          "IMDB_Rating",
          "Meta_score",
          "No_of_Votes",
          "Gross",
          "Runtime (min)"
         ],
         "type": "scatterpolar"
        },
        {
         "fill": "toself",
         "line": {
          "color": "#FFD700"
         },
         "name": "Pulp Fiction",
         "r": [
          0.1999999999999993,
          0.7000000000000002,
          0.6876075710694256,
          0.19522915320746914,
          0.5471698113207546,
          "Pulp Fiction"
         ],
         "theta": [
          "IMDB_Rating",
          "Meta_score",
          "No_of_Votes",
          "Gross",
          "Runtime (min)"
         ],
         "type": "scatterpolar"
        },
        {
         "fill": "toself",
         "line": {
          "color": "#00FF00"
         },
         "name": "Schindler's List",
         "r": [
          0.1999999999999993,
          0.7000000000000002,
          0.31734371978340736,
          0.17443749184681867,
          0.9339622641509433,
          "Schindler's List"
         ],
         "theta": [
          "IMDB_Rating",
          "Meta_score",
          "No_of_Votes",
          "Gross",
          "Runtime (min)"
         ],
         "type": "scatterpolar"
        },
        {
         "fill": "toself",
         "line": {
          "color": "#FF0000"
         },
         "name": "Inception",
         "r": [
          0,
          0.6000000000000005,
          0.5880698849352155,
          0.5865893736721308,
          0.7735849056603772,
          "Inception"
         ],
         "theta": [
          "IMDB_Rating",
          "Meta_score",
          "No_of_Votes",
          "Gross",
          "Runtime (min)"
         ],
         "type": "scatterpolar"
        },
        {
         "fill": "toself",
         "line": {
          "color": "#4169E1"
         },
         "name": "Fight Club",
         "r": [
          0,
          0.5,
          0,
          0.0032799342197505094,
          0.6132075471698113,
          "Fight Club"
         ],
         "theta": [
          "IMDB_Rating",
          "Meta_score",
          "No_of_Votes",
          "Gross",
          "Runtime (min)"
         ],
         "type": "scatterpolar"
        }
       ],
       "layout": {
        "polar": {
         "radialaxis": {
          "range": [
           0,
           1
          ],
          "visible": true
         }
        },
        "showlegend": true,
        "template": {
         "data": {
          "bar": [
           {
            "error_x": {
             "color": "#2a3f5f"
            },
            "error_y": {
             "color": "#2a3f5f"
            },
            "marker": {
             "line": {
              "color": "#E5ECF6",
              "width": 0.5
             },
             "pattern": {
              "fillmode": "overlay",
              "size": 10,
              "solidity": 0.2
             }
            },
            "type": "bar"
           }
          ],
          "barpolar": [
           {
            "marker": {
             "line": {
              "color": "#E5ECF6",
              "width": 0.5
             },
             "pattern": {
              "fillmode": "overlay",
              "size": 10,
              "solidity": 0.2
             }
            },
            "type": "barpolar"
           }
          ],
          "carpet": [
           {
            "aaxis": {
             "endlinecolor": "#2a3f5f",
             "gridcolor": "white",
             "linecolor": "white",
             "minorgridcolor": "white",
             "startlinecolor": "#2a3f5f"
            },
            "baxis": {
             "endlinecolor": "#2a3f5f",
             "gridcolor": "white",
             "linecolor": "white",
             "minorgridcolor": "white",
             "startlinecolor": "#2a3f5f"
            },
            "type": "carpet"
           }
          ],
          "choropleth": [
           {
            "colorbar": {
             "outlinewidth": 0,
             "ticks": ""
            },
            "type": "choropleth"
           }
          ],
          "contour": [
           {
            "colorbar": {
             "outlinewidth": 0,
             "ticks": ""
            },
            "colorscale": [
             [
              0,
              "#0d0887"
             ],
             [
              0.1111111111111111,
              "#46039f"
             ],
             [
              0.2222222222222222,
              "#7201a8"
             ],
             [
              0.3333333333333333,
              "#9c179e"
             ],
             [
              0.4444444444444444,
              "#bd3786"
             ],
             [
              0.5555555555555556,
              "#d8576b"
             ],
             [
              0.6666666666666666,
              "#ed7953"
             ],
             [
              0.7777777777777778,
              "#fb9f3a"
             ],
             [
              0.8888888888888888,
              "#fdca26"
             ],
             [
              1,
              "#f0f921"
             ]
            ],
            "type": "contour"
           }
          ],
          "contourcarpet": [
           {
            "colorbar": {
             "outlinewidth": 0,
             "ticks": ""
            },
            "type": "contourcarpet"
           }
          ],
          "heatmap": [
           {
            "colorbar": {
             "outlinewidth": 0,
             "ticks": ""
            },
            "colorscale": [
             [
              0,
              "#0d0887"
             ],
             [
              0.1111111111111111,
              "#46039f"
             ],
             [
              0.2222222222222222,
              "#7201a8"
             ],
             [
              0.3333333333333333,
              "#9c179e"
             ],
             [
              0.4444444444444444,
              "#bd3786"
             ],
             [
              0.5555555555555556,
              "#d8576b"
             ],
             [
              0.6666666666666666,
              "#ed7953"
             ],
             [
              0.7777777777777778,
              "#fb9f3a"
             ],
             [
              0.8888888888888888,
              "#fdca26"
             ],
             [
              1,
              "#f0f921"
             ]
            ],
            "type": "heatmap"
           }
          ],
          "heatmapgl": [
           {
            "colorbar": {
             "outlinewidth": 0,
             "ticks": ""
            },
            "colorscale": [
             [
              0,
              "#0d0887"
             ],
             [
              0.1111111111111111,
              "#46039f"
             ],
             [
              0.2222222222222222,
              "#7201a8"
             ],
             [
              0.3333333333333333,
              "#9c179e"
             ],
             [
              0.4444444444444444,
              "#bd3786"
             ],
             [
              0.5555555555555556,
              "#d8576b"
             ],
             [
              0.6666666666666666,
              "#ed7953"
             ],
             [
              0.7777777777777778,
              "#fb9f3a"
             ],
             [
              0.8888888888888888,
              "#fdca26"
             ],
             [
              1,
              "#f0f921"
             ]
            ],
            "type": "heatmapgl"
           }
          ],
          "histogram": [
           {
            "marker": {
             "pattern": {
              "fillmode": "overlay",
              "size": 10,
              "solidity": 0.2
             }
            },
            "type": "histogram"
           }
          ],
          "histogram2d": [
           {
            "colorbar": {
             "outlinewidth": 0,
             "ticks": ""
            },
            "colorscale": [
             [
              0,
              "#0d0887"
             ],
             [
              0.1111111111111111,
              "#46039f"
             ],
             [
              0.2222222222222222,
              "#7201a8"
             ],
             [
              0.3333333333333333,
              "#9c179e"
             ],
             [
              0.4444444444444444,
              "#bd3786"
             ],
             [
              0.5555555555555556,
              "#d8576b"
             ],
             [
              0.6666666666666666,
              "#ed7953"
             ],
             [
              0.7777777777777778,
              "#fb9f3a"
             ],
             [
              0.8888888888888888,
              "#fdca26"
             ],
             [
              1,
              "#f0f921"
             ]
            ],
            "type": "histogram2d"
           }
          ],
          "histogram2dcontour": [
           {
            "colorbar": {
             "outlinewidth": 0,
             "ticks": ""
            },
            "colorscale": [
             [
              0,
              "#0d0887"
             ],
             [
              0.1111111111111111,
              "#46039f"
             ],
             [
              0.2222222222222222,
              "#7201a8"
             ],
             [
              0.3333333333333333,
              "#9c179e"
             ],
             [
              0.4444444444444444,
              "#bd3786"
             ],
             [
              0.5555555555555556,
              "#d8576b"
             ],
             [
              0.6666666666666666,
              "#ed7953"
             ],
             [
              0.7777777777777778,
              "#fb9f3a"
             ],
             [
              0.8888888888888888,
              "#fdca26"
             ],
             [
              1,
              "#f0f921"
             ]
            ],
            "type": "histogram2dcontour"
           }
          ],
          "mesh3d": [
           {
            "colorbar": {
             "outlinewidth": 0,
             "ticks": ""
            },
            "type": "mesh3d"
           }
          ],
          "parcoords": [
           {
            "line": {
             "colorbar": {
              "outlinewidth": 0,
              "ticks": ""
             }
            },
            "type": "parcoords"
           }
          ],
          "pie": [
           {
            "automargin": true,
            "type": "pie"
           }
          ],
          "scatter": [
           {
            "fillpattern": {
             "fillmode": "overlay",
             "size": 10,
             "solidity": 0.2
            },
            "type": "scatter"
           }
          ],
          "scatter3d": [
           {
            "line": {
             "colorbar": {
              "outlinewidth": 0,
              "ticks": ""
             }
            },
            "marker": {
             "colorbar": {
              "outlinewidth": 0,
              "ticks": ""
             }
            },
            "type": "scatter3d"
           }
          ],
          "scattercarpet": [
           {
            "marker": {
             "colorbar": {
              "outlinewidth": 0,
              "ticks": ""
             }
            },
            "type": "scattercarpet"
           }
          ],
          "scattergeo": [
           {
            "marker": {
             "colorbar": {
              "outlinewidth": 0,
              "ticks": ""
             }
            },
            "type": "scattergeo"
           }
          ],
          "scattergl": [
           {
            "marker": {
             "colorbar": {
              "outlinewidth": 0,
              "ticks": ""
             }
            },
            "type": "scattergl"
           }
          ],
          "scattermapbox": [
           {
            "marker": {
             "colorbar": {
              "outlinewidth": 0,
              "ticks": ""
             }
            },
            "type": "scattermapbox"
           }
          ],
          "scatterpolar": [
           {
            "marker": {
             "colorbar": {
              "outlinewidth": 0,
              "ticks": ""
             }
            },
            "type": "scatterpolar"
           }
          ],
          "scatterpolargl": [
           {
            "marker": {
             "colorbar": {
              "outlinewidth": 0,
              "ticks": ""
             }
            },
            "type": "scatterpolargl"
           }
          ],
          "scatterternary": [
           {
            "marker": {
             "colorbar": {
              "outlinewidth": 0,
              "ticks": ""
             }
            },
            "type": "scatterternary"
           }
          ],
          "surface": [
           {
            "colorbar": {
             "outlinewidth": 0,
             "ticks": ""
            },
            "colorscale": [
             [
              0,
              "#0d0887"
             ],
             [
              0.1111111111111111,
              "#46039f"
             ],
             [
              0.2222222222222222,
              "#7201a8"
             ],
             [
              0.3333333333333333,
              "#9c179e"
             ],
             [
              0.4444444444444444,
              "#bd3786"
             ],
             [
              0.5555555555555556,
              "#d8576b"
             ],
             [
              0.6666666666666666,
              "#ed7953"
             ],
             [
              0.7777777777777778,
              "#fb9f3a"
             ],
             [
              0.8888888888888888,
              "#fdca26"
             ],
             [
              1,
              "#f0f921"
             ]
            ],
            "type": "surface"
           }
          ],
          "table": [
           {
            "cells": {
             "fill": {
              "color": "#EBF0F8"
             },
             "line": {
              "color": "white"
             }
            },
            "header": {
             "fill": {
              "color": "#C8D4E3"
             },
             "line": {
              "color": "white"
             }
            },
            "type": "table"
           }
          ]
         },
         "layout": {
          "annotationdefaults": {
           "arrowcolor": "#2a3f5f",
           "arrowhead": 0,
           "arrowwidth": 1
          },
          "autotypenumbers": "strict",
          "coloraxis": {
           "colorbar": {
            "outlinewidth": 0,
            "ticks": ""
           }
          },
          "colorscale": {
           "diverging": [
            [
             0,
             "#8e0152"
            ],
            [
             0.1,
             "#c51b7d"
            ],
            [
             0.2,
             "#de77ae"
            ],
            [
             0.3,
             "#f1b6da"
            ],
            [
             0.4,
             "#fde0ef"
            ],
            [
             0.5,
             "#f7f7f7"
            ],
            [
             0.6,
             "#e6f5d0"
            ],
            [
             0.7,
             "#b8e186"
            ],
            [
             0.8,
             "#7fbc41"
            ],
            [
             0.9,
             "#4d9221"
            ],
            [
             1,
             "#276419"
            ]
           ],
           "sequential": [
            [
             0,
             "#0d0887"
            ],
            [
             0.1111111111111111,
             "#46039f"
            ],
            [
             0.2222222222222222,
             "#7201a8"
            ],
            [
             0.3333333333333333,
             "#9c179e"
            ],
            [
             0.4444444444444444,
             "#bd3786"
            ],
            [
             0.5555555555555556,
             "#d8576b"
            ],
            [
             0.6666666666666666,
             "#ed7953"
            ],
            [
             0.7777777777777778,
             "#fb9f3a"
            ],
            [
             0.8888888888888888,
             "#fdca26"
            ],
            [
             1,
             "#f0f921"
            ]
           ],
           "sequentialminus": [
            [
             0,
             "#0d0887"
            ],
            [
             0.1111111111111111,
             "#46039f"
            ],
            [
             0.2222222222222222,
             "#7201a8"
            ],
            [
             0.3333333333333333,
             "#9c179e"
            ],
            [
             0.4444444444444444,
             "#bd3786"
            ],
            [
             0.5555555555555556,
             "#d8576b"
            ],
            [
             0.6666666666666666,
             "#ed7953"
            ],
            [
             0.7777777777777778,
             "#fb9f3a"
            ],
            [
             0.8888888888888888,
             "#fdca26"
            ],
            [
             1,
             "#f0f921"
            ]
           ]
          },
          "colorway": [
           "#636efa",
           "#EF553B",
           "#00cc96",
           "#ab63fa",
           "#FFA15A",
           "#19d3f3",
           "#FF6692",
           "#B6E880",
           "#FF97FF",
           "#FECB52"
          ],
          "font": {
           "color": "#2a3f5f"
          },
          "geo": {
           "bgcolor": "white",
           "lakecolor": "white",
           "landcolor": "#E5ECF6",
           "showlakes": true,
           "showland": true,
           "subunitcolor": "white"
          },
          "hoverlabel": {
           "align": "left"
          },
          "hovermode": "closest",
          "mapbox": {
           "style": "light"
          },
          "paper_bgcolor": "white",
          "plot_bgcolor": "#E5ECF6",
          "polar": {
           "angularaxis": {
            "gridcolor": "white",
            "linecolor": "white",
            "ticks": ""
           },
           "bgcolor": "#E5ECF6",
           "radialaxis": {
            "gridcolor": "white",
            "linecolor": "white",
            "ticks": ""
           }
          },
          "scene": {
           "xaxis": {
            "backgroundcolor": "#E5ECF6",
            "gridcolor": "white",
            "gridwidth": 2,
            "linecolor": "white",
            "showbackground": true,
            "ticks": "",
            "zerolinecolor": "white"
           },
           "yaxis": {
            "backgroundcolor": "#E5ECF6",
            "gridcolor": "white",
            "gridwidth": 2,
            "linecolor": "white",
            "showbackground": true,
            "ticks": "",
            "zerolinecolor": "white"
           },
           "zaxis": {
            "backgroundcolor": "#E5ECF6",
            "gridcolor": "white",
            "gridwidth": 2,
            "linecolor": "white",
            "showbackground": true,
            "ticks": "",
            "zerolinecolor": "white"
           }
          },
          "shapedefaults": {
           "line": {
            "color": "#2a3f5f"
           }
          },
          "ternary": {
           "aaxis": {
            "gridcolor": "white",
            "linecolor": "white",
            "ticks": ""
           },
           "baxis": {
            "gridcolor": "white",
            "linecolor": "white",
            "ticks": ""
           },
           "bgcolor": "#E5ECF6",
           "caxis": {
            "gridcolor": "white",
            "linecolor": "white",
            "ticks": ""
           }
          },
          "title": {
           "x": 0.05
          },
          "xaxis": {
           "automargin": true,
           "gridcolor": "white",
           "linecolor": "white",
           "ticks": "",
           "title": {
            "standoff": 15
           },
           "zerolinecolor": "white",
           "zerolinewidth": 2
          },
          "yaxis": {
           "automargin": true,
           "gridcolor": "white",
           "linecolor": "white",
           "ticks": "",
           "title": {
            "standoff": 15
           },
           "zerolinecolor": "white",
           "zerolinewidth": 2
          }
         }
        }
       }
      },
      "text/html": [
       "<div>                            <div id=\"5c8b0437-e9a3-4cea-8e6b-04c5d843253f\" class=\"plotly-graph-div\" style=\"height:525px; width:100%;\"></div>            <script type=\"text/javascript\">                require([\"plotly\"], function(Plotly) {                    window.PLOTLYENV=window.PLOTLYENV || {};                                    if (document.getElementById(\"5c8b0437-e9a3-4cea-8e6b-04c5d843253f\")) {                    Plotly.newPlot(                        \"5c8b0437-e9a3-4cea-8e6b-04c5d843253f\",                        [{\"fill\":\"toself\",\"line\":{\"color\":\"#0000FF\"},\"name\":\"The Shawshank Redemption\",\"r\":[1.0,0.0,1.0,0.04520554069711842,0.4339622641509433,\"The Shawshank Redemption\"],\"theta\":[\"IMDB_Rating\",\"Meta_score\",\"No_of_Votes\",\"Gross\",\"Runtime (min)\"],\"type\":\"scatterpolar\"},{\"fill\":\"toself\",\"line\":{\"color\":\"#4DFF00\"},\"name\":\"The Godfather\",\"r\":[0.7999999999999972,1.0,0.5632233852252948,0.2461956533090227,0.7452830188679245,\"The Godfather\"],\"theta\":[\"IMDB_Rating\",\"Meta_score\",\"No_of_Votes\",\"Gross\",\"Runtime (min)\"],\"type\":\"scatterpolar\"},{\"fill\":\"toself\",\"line\":{\"color\":\"#FFA500\"},\"name\":\"The Dark Knight\",\"r\":[0.3999999999999986,0.20000000000000018,0.9759004544575516,0.9999999999999998,0.5283018867924527,\"The Dark Knight\"],\"theta\":[\"IMDB_Rating\",\"Meta_score\",\"No_of_Votes\",\"Gross\",\"Runtime (min)\"],\"type\":\"scatterpolar\"},{\"fill\":\"toself\",\"line\":{\"color\":\"#FF00AA\"},\"name\":\"The Godfather: Part II\",\"r\":[0.3999999999999986,0.5,0.26684998066138077,0.09979294114574254,1.0,\"The Godfather: Part II\"],\"theta\":[\"IMDB_Rating\",\"Meta_score\",\"No_of_Votes\",\"Gross\",\"Runtime (min)\"],\"type\":\"scatterpolar\"},{\"fill\":\"toself\",\"line\":{\"color\":\"#00FFFF\"},\"name\":\"12 Angry Men\",\"r\":[0.3999999999999986,0.8000000000000007,0.0008793028427769856,0.0,0.0,\"12 Angry Men\"],\"theta\":[\"IMDB_Rating\",\"Meta_score\",\"No_of_Votes\",\"Gross\",\"Runtime (min)\"],\"type\":\"scatterpolar\"},{\"fill\":\"toself\",\"line\":{\"color\":\"#800080\"},\"name\":\"The Lord of the Rings: The Return of the King\",\"r\":[0.1999999999999993,0.7000000000000002,0.5767549796944498,0.7040282760942462,0.990566037735849,\"The Lord of the Rings: The Return of the King\"],\"theta\":[\"IMDB_Rating\",\"Meta_score\",\"No_of_Votes\",\"Gross\",\"Runtime (min)\"],\"type\":\"scatterpolar\"},{\"fill\":\"toself\",\"line\":{\"color\":\"#FFD700\"},\"name\":\"Pulp Fiction\",\"r\":[0.1999999999999993,0.7000000000000002,0.6876075710694256,0.19522915320746914,0.5471698113207546,\"Pulp Fiction\"],\"theta\":[\"IMDB_Rating\",\"Meta_score\",\"No_of_Votes\",\"Gross\",\"Runtime (min)\"],\"type\":\"scatterpolar\"},{\"fill\":\"toself\",\"line\":{\"color\":\"#00FF00\"},\"name\":\"Schindler's List\",\"r\":[0.1999999999999993,0.7000000000000002,0.31734371978340736,0.17443749184681867,0.9339622641509433,\"Schindler's List\"],\"theta\":[\"IMDB_Rating\",\"Meta_score\",\"No_of_Votes\",\"Gross\",\"Runtime (min)\"],\"type\":\"scatterpolar\"},{\"fill\":\"toself\",\"line\":{\"color\":\"#FF0000\"},\"name\":\"Inception\",\"r\":[0.0,0.6000000000000005,0.5880698849352155,0.5865893736721308,0.7735849056603772,\"Inception\"],\"theta\":[\"IMDB_Rating\",\"Meta_score\",\"No_of_Votes\",\"Gross\",\"Runtime (min)\"],\"type\":\"scatterpolar\"},{\"fill\":\"toself\",\"line\":{\"color\":\"#4169E1\"},\"name\":\"Fight Club\",\"r\":[0.0,0.5,0.0,0.0032799342197505094,0.6132075471698113,\"Fight Club\"],\"theta\":[\"IMDB_Rating\",\"Meta_score\",\"No_of_Votes\",\"Gross\",\"Runtime (min)\"],\"type\":\"scatterpolar\"}],                        {\"template\":{\"data\":{\"histogram2dcontour\":[{\"type\":\"histogram2dcontour\",\"colorbar\":{\"outlinewidth\":0,\"ticks\":\"\"},\"colorscale\":[[0.0,\"#0d0887\"],[0.1111111111111111,\"#46039f\"],[0.2222222222222222,\"#7201a8\"],[0.3333333333333333,\"#9c179e\"],[0.4444444444444444,\"#bd3786\"],[0.5555555555555556,\"#d8576b\"],[0.6666666666666666,\"#ed7953\"],[0.7777777777777778,\"#fb9f3a\"],[0.8888888888888888,\"#fdca26\"],[1.0,\"#f0f921\"]]}],\"choropleth\":[{\"type\":\"choropleth\",\"colorbar\":{\"outlinewidth\":0,\"ticks\":\"\"}}],\"histogram2d\":[{\"type\":\"histogram2d\",\"colorbar\":{\"outlinewidth\":0,\"ticks\":\"\"},\"colorscale\":[[0.0,\"#0d0887\"],[0.1111111111111111,\"#46039f\"],[0.2222222222222222,\"#7201a8\"],[0.3333333333333333,\"#9c179e\"],[0.4444444444444444,\"#bd3786\"],[0.5555555555555556,\"#d8576b\"],[0.6666666666666666,\"#ed7953\"],[0.7777777777777778,\"#fb9f3a\"],[0.8888888888888888,\"#fdca26\"],[1.0,\"#f0f921\"]]}],\"heatmap\":[{\"type\":\"heatmap\",\"colorbar\":{\"outlinewidth\":0,\"ticks\":\"\"},\"colorscale\":[[0.0,\"#0d0887\"],[0.1111111111111111,\"#46039f\"],[0.2222222222222222,\"#7201a8\"],[0.3333333333333333,\"#9c179e\"],[0.4444444444444444,\"#bd3786\"],[0.5555555555555556,\"#d8576b\"],[0.6666666666666666,\"#ed7953\"],[0.7777777777777778,\"#fb9f3a\"],[0.8888888888888888,\"#fdca26\"],[1.0,\"#f0f921\"]]}],\"heatmapgl\":[{\"type\":\"heatmapgl\",\"colorbar\":{\"outlinewidth\":0,\"ticks\":\"\"},\"colorscale\":[[0.0,\"#0d0887\"],[0.1111111111111111,\"#46039f\"],[0.2222222222222222,\"#7201a8\"],[0.3333333333333333,\"#9c179e\"],[0.4444444444444444,\"#bd3786\"],[0.5555555555555556,\"#d8576b\"],[0.6666666666666666,\"#ed7953\"],[0.7777777777777778,\"#fb9f3a\"],[0.8888888888888888,\"#fdca26\"],[1.0,\"#f0f921\"]]}],\"contourcarpet\":[{\"type\":\"contourcarpet\",\"colorbar\":{\"outlinewidth\":0,\"ticks\":\"\"}}],\"contour\":[{\"type\":\"contour\",\"colorbar\":{\"outlinewidth\":0,\"ticks\":\"\"},\"colorscale\":[[0.0,\"#0d0887\"],[0.1111111111111111,\"#46039f\"],[0.2222222222222222,\"#7201a8\"],[0.3333333333333333,\"#9c179e\"],[0.4444444444444444,\"#bd3786\"],[0.5555555555555556,\"#d8576b\"],[0.6666666666666666,\"#ed7953\"],[0.7777777777777778,\"#fb9f3a\"],[0.8888888888888888,\"#fdca26\"],[1.0,\"#f0f921\"]]}],\"surface\":[{\"type\":\"surface\",\"colorbar\":{\"outlinewidth\":0,\"ticks\":\"\"},\"colorscale\":[[0.0,\"#0d0887\"],[0.1111111111111111,\"#46039f\"],[0.2222222222222222,\"#7201a8\"],[0.3333333333333333,\"#9c179e\"],[0.4444444444444444,\"#bd3786\"],[0.5555555555555556,\"#d8576b\"],[0.6666666666666666,\"#ed7953\"],[0.7777777777777778,\"#fb9f3a\"],[0.8888888888888888,\"#fdca26\"],[1.0,\"#f0f921\"]]}],\"mesh3d\":[{\"type\":\"mesh3d\",\"colorbar\":{\"outlinewidth\":0,\"ticks\":\"\"}}],\"scatter\":[{\"fillpattern\":{\"fillmode\":\"overlay\",\"size\":10,\"solidity\":0.2},\"type\":\"scatter\"}],\"parcoords\":[{\"type\":\"parcoords\",\"line\":{\"colorbar\":{\"outlinewidth\":0,\"ticks\":\"\"}}}],\"scatterpolargl\":[{\"type\":\"scatterpolargl\",\"marker\":{\"colorbar\":{\"outlinewidth\":0,\"ticks\":\"\"}}}],\"bar\":[{\"error_x\":{\"color\":\"#2a3f5f\"},\"error_y\":{\"color\":\"#2a3f5f\"},\"marker\":{\"line\":{\"color\":\"#E5ECF6\",\"width\":0.5},\"pattern\":{\"fillmode\":\"overlay\",\"size\":10,\"solidity\":0.2}},\"type\":\"bar\"}],\"scattergeo\":[{\"type\":\"scattergeo\",\"marker\":{\"colorbar\":{\"outlinewidth\":0,\"ticks\":\"\"}}}],\"scatterpolar\":[{\"type\":\"scatterpolar\",\"marker\":{\"colorbar\":{\"outlinewidth\":0,\"ticks\":\"\"}}}],\"histogram\":[{\"marker\":{\"pattern\":{\"fillmode\":\"overlay\",\"size\":10,\"solidity\":0.2}},\"type\":\"histogram\"}],\"scattergl\":[{\"type\":\"scattergl\",\"marker\":{\"colorbar\":{\"outlinewidth\":0,\"ticks\":\"\"}}}],\"scatter3d\":[{\"type\":\"scatter3d\",\"line\":{\"colorbar\":{\"outlinewidth\":0,\"ticks\":\"\"}},\"marker\":{\"colorbar\":{\"outlinewidth\":0,\"ticks\":\"\"}}}],\"scattermapbox\":[{\"type\":\"scattermapbox\",\"marker\":{\"colorbar\":{\"outlinewidth\":0,\"ticks\":\"\"}}}],\"scatterternary\":[{\"type\":\"scatterternary\",\"marker\":{\"colorbar\":{\"outlinewidth\":0,\"ticks\":\"\"}}}],\"scattercarpet\":[{\"type\":\"scattercarpet\",\"marker\":{\"colorbar\":{\"outlinewidth\":0,\"ticks\":\"\"}}}],\"carpet\":[{\"aaxis\":{\"endlinecolor\":\"#2a3f5f\",\"gridcolor\":\"white\",\"linecolor\":\"white\",\"minorgridcolor\":\"white\",\"startlinecolor\":\"#2a3f5f\"},\"baxis\":{\"endlinecolor\":\"#2a3f5f\",\"gridcolor\":\"white\",\"linecolor\":\"white\",\"minorgridcolor\":\"white\",\"startlinecolor\":\"#2a3f5f\"},\"type\":\"carpet\"}],\"table\":[{\"cells\":{\"fill\":{\"color\":\"#EBF0F8\"},\"line\":{\"color\":\"white\"}},\"header\":{\"fill\":{\"color\":\"#C8D4E3\"},\"line\":{\"color\":\"white\"}},\"type\":\"table\"}],\"barpolar\":[{\"marker\":{\"line\":{\"color\":\"#E5ECF6\",\"width\":0.5},\"pattern\":{\"fillmode\":\"overlay\",\"size\":10,\"solidity\":0.2}},\"type\":\"barpolar\"}],\"pie\":[{\"automargin\":true,\"type\":\"pie\"}]},\"layout\":{\"autotypenumbers\":\"strict\",\"colorway\":[\"#636efa\",\"#EF553B\",\"#00cc96\",\"#ab63fa\",\"#FFA15A\",\"#19d3f3\",\"#FF6692\",\"#B6E880\",\"#FF97FF\",\"#FECB52\"],\"font\":{\"color\":\"#2a3f5f\"},\"hovermode\":\"closest\",\"hoverlabel\":{\"align\":\"left\"},\"paper_bgcolor\":\"white\",\"plot_bgcolor\":\"#E5ECF6\",\"polar\":{\"bgcolor\":\"#E5ECF6\",\"angularaxis\":{\"gridcolor\":\"white\",\"linecolor\":\"white\",\"ticks\":\"\"},\"radialaxis\":{\"gridcolor\":\"white\",\"linecolor\":\"white\",\"ticks\":\"\"}},\"ternary\":{\"bgcolor\":\"#E5ECF6\",\"aaxis\":{\"gridcolor\":\"white\",\"linecolor\":\"white\",\"ticks\":\"\"},\"baxis\":{\"gridcolor\":\"white\",\"linecolor\":\"white\",\"ticks\":\"\"},\"caxis\":{\"gridcolor\":\"white\",\"linecolor\":\"white\",\"ticks\":\"\"}},\"coloraxis\":{\"colorbar\":{\"outlinewidth\":0,\"ticks\":\"\"}},\"colorscale\":{\"sequential\":[[0.0,\"#0d0887\"],[0.1111111111111111,\"#46039f\"],[0.2222222222222222,\"#7201a8\"],[0.3333333333333333,\"#9c179e\"],[0.4444444444444444,\"#bd3786\"],[0.5555555555555556,\"#d8576b\"],[0.6666666666666666,\"#ed7953\"],[0.7777777777777778,\"#fb9f3a\"],[0.8888888888888888,\"#fdca26\"],[1.0,\"#f0f921\"]],\"sequentialminus\":[[0.0,\"#0d0887\"],[0.1111111111111111,\"#46039f\"],[0.2222222222222222,\"#7201a8\"],[0.3333333333333333,\"#9c179e\"],[0.4444444444444444,\"#bd3786\"],[0.5555555555555556,\"#d8576b\"],[0.6666666666666666,\"#ed7953\"],[0.7777777777777778,\"#fb9f3a\"],[0.8888888888888888,\"#fdca26\"],[1.0,\"#f0f921\"]],\"diverging\":[[0,\"#8e0152\"],[0.1,\"#c51b7d\"],[0.2,\"#de77ae\"],[0.3,\"#f1b6da\"],[0.4,\"#fde0ef\"],[0.5,\"#f7f7f7\"],[0.6,\"#e6f5d0\"],[0.7,\"#b8e186\"],[0.8,\"#7fbc41\"],[0.9,\"#4d9221\"],[1,\"#276419\"]]},\"xaxis\":{\"gridcolor\":\"white\",\"linecolor\":\"white\",\"ticks\":\"\",\"title\":{\"standoff\":15},\"zerolinecolor\":\"white\",\"automargin\":true,\"zerolinewidth\":2},\"yaxis\":{\"gridcolor\":\"white\",\"linecolor\":\"white\",\"ticks\":\"\",\"title\":{\"standoff\":15},\"zerolinecolor\":\"white\",\"automargin\":true,\"zerolinewidth\":2},\"scene\":{\"xaxis\":{\"backgroundcolor\":\"#E5ECF6\",\"gridcolor\":\"white\",\"linecolor\":\"white\",\"showbackground\":true,\"ticks\":\"\",\"zerolinecolor\":\"white\",\"gridwidth\":2},\"yaxis\":{\"backgroundcolor\":\"#E5ECF6\",\"gridcolor\":\"white\",\"linecolor\":\"white\",\"showbackground\":true,\"ticks\":\"\",\"zerolinecolor\":\"white\",\"gridwidth\":2},\"zaxis\":{\"backgroundcolor\":\"#E5ECF6\",\"gridcolor\":\"white\",\"linecolor\":\"white\",\"showbackground\":true,\"ticks\":\"\",\"zerolinecolor\":\"white\",\"gridwidth\":2}},\"shapedefaults\":{\"line\":{\"color\":\"#2a3f5f\"}},\"annotationdefaults\":{\"arrowcolor\":\"#2a3f5f\",\"arrowhead\":0,\"arrowwidth\":1},\"geo\":{\"bgcolor\":\"white\",\"landcolor\":\"#E5ECF6\",\"subunitcolor\":\"white\",\"showland\":true,\"showlakes\":true,\"lakecolor\":\"white\"},\"title\":{\"x\":0.05},\"mapbox\":{\"style\":\"light\"}}},\"polar\":{\"radialaxis\":{\"visible\":true,\"range\":[0.0,1.0]}},\"showlegend\":true},                        {\"responsive\": true}                    ).then(function(){\n",
       "                            \n",
       "var gd = document.getElementById('5c8b0437-e9a3-4cea-8e6b-04c5d843253f');\n",
       "var x = new MutationObserver(function (mutations, observer) {{\n",
       "        var display = window.getComputedStyle(gd).display;\n",
       "        if (!display || display === 'none') {{\n",
       "            console.log([gd, 'removed!']);\n",
       "            Plotly.purge(gd);\n",
       "            observer.disconnect();\n",
       "        }}\n",
       "}});\n",
       "\n",
       "// Listen for the removal of the full notebook cells\n",
       "var notebookContainer = gd.closest('#notebook-container');\n",
       "if (notebookContainer) {{\n",
       "    x.observe(notebookContainer, {childList: true});\n",
       "}}\n",
       "\n",
       "// Listen for the clearing of the current output cell\n",
       "var outputEl = gd.closest('.output');\n",
       "if (outputEl) {{\n",
       "    x.observe(outputEl, {childList: true});\n",
       "}}\n",
       "\n",
       "                        })                };                });            </script>        </div>"
      ]
     },
     "metadata": {},
     "output_type": "display_data"
    }
   ],
   "source": [
    "# plot do gráfico interativo\n",
    "\n",
    "import plotly.graph_objects as go\n",
    "\n",
    "fig = go.Figure()\n",
    "\n",
    "n_samples = len(scaled_top10)\n",
    "\n",
    "colors = cm.jet(np.linspace(0, 1, n_samples))[::-1]\n",
    "\n",
    "for i in range(n_samples):\n",
    "    data_point = scaled_top10.iloc[i]\n",
    "    fig.add_trace(go.Scatterpolar(\n",
    "        r=list(data_point[:]),  \n",
    "        theta=categories,\n",
    "        fill='toself',\n",
    "        name=data_point['Series_Title'],\n",
    "        line=dict(color=color_sequence[i])\n",
    "    ))\n",
    "\n",
    "fig.update_layout(\n",
    "    polar=dict(\n",
    "        radialaxis=dict(\n",
    "            visible=True,\n",
    "            range=[scaled_top10.select_dtypes(include='number').min().min(), scaled_top10.select_dtypes(include='number').max().max()]\n",
    "        )),\n",
    "    showlegend=True\n",
    ")\n",
    "\n",
    "fig.show()"
   ]
  },
  {
   "cell_type": "markdown",
   "metadata": {},
   "source": [
    "Dessa forma, o usuário tem liberdade para interagir com os filmes e observar o comportamento das principais variáveis entre eles. Um exemplo de análise em conjunta com a interação pode ser observado ao tomar os dois principais filmes ('The Shawshank Redemption' e 'The Godfather'), por mais que o IMDB_Rating seja parecido, um obteve a maior nota do top 10 na categoria Meta_score enquanto o outro recebeu a menor, destacando a diferença entre os meios de avaliação."
   ]
  },
  {
   "cell_type": "markdown",
   "metadata": {},
   "source": [
    "---"
   ]
  },
  {
   "cell_type": "markdown",
   "metadata": {},
   "source": [
    "# 5. Interação com Dash"
   ]
  },
  {
   "cell_type": "code",
   "execution_count": 73,
   "metadata": {},
   "outputs": [],
   "source": [
    "import dash\n",
    "from dash import dcc, html\n",
    "import plotly.graph_objs as go"
   ]
  },
  {
   "cell_type": "code",
   "execution_count": 74,
   "metadata": {},
   "outputs": [],
   "source": [
    "app = dash.Dash(\"IMDB Analysis\")"
   ]
  },
  {
   "cell_type": "code",
   "execution_count": 75,
   "metadata": {},
   "outputs": [],
   "source": [
    "analise_univariada = [\n",
    "    html.H2(\n",
    "        \"Análise Univariada\",\n",
    "        style={\n",
    "            \"text-align\": \"center\",\n",
    "            \"color\": \"#AC3B61\",\n",
    "            \"font-size\": \"25px\",\n",
    "        },\n",
    "    ),\n",
    "    html.H3(\n",
    "        \"Variáveis Categóricas\",\n",
    "        style={\n",
    "            \"text-align\": \"left\",\n",
    "            \"color\": \"#AC3B61\",\n",
    "            \"text-decoration\": \"underline\",\n",
    "            \"margin-left\": \"5%\",\n",
    "            \"font-size\": \"20px\",\n",
    "        },\n",
    "    ),\n",
    "    # Pie Chart with Certificate\n",
    "    html.Div(\n",
    "        [dcc.Graph(figure=pie_certificate)],\n",
    "        style={\n",
    "            \"border-radius\": \"10px\",\n",
    "            \"background-color\": \"#123C69\",\n",
    "            \"margin-bottom\": \"20px\",\n",
    "            \"margin-right\": \"20px\",\n",
    "            \"margin-left\": \"20px\",\n",
    "            \"padding\": 10,\n",
    "            \"width\": \"45%\",\n",
    "            \"vertical-align\": \"middle\",\n",
    "            \"display\": \"inline-block\",\n",
    "        },\n",
    "    ),\n",
    "    # Pie Chart with Genre\n",
    "    html.Div(\n",
    "        [dcc.Graph(figure=pie_genre)],\n",
    "        style={\n",
    "            \"border-radius\": \"10px\",\n",
    "            \"background-color\": \"#123C69\",\n",
    "            \"margin-bottom\": \"20px\",\n",
    "            \"margin-left\": \"20px\",\n",
    "            \"padding\": 10,\n",
    "            \"width\": \"45%\",\n",
    "            \"vertical-align\": \"middle\",\n",
    "            \"display\": \"inline-block\",\n",
    "        },\n",
    "    ),\n",
    "    html.H3(\n",
    "        \"Variáveis Númericas\",\n",
    "        style={\n",
    "            \"text-align\": \"left\",\n",
    "            \"color\": \"#AC3B61\",\n",
    "            \"margin-left\": \"5%\",\n",
    "            \"text-decoration\": \"underline\",\n",
    "            \"font-size\": \"20px\",\n",
    "        },\n",
    "    ),\n",
    "    # Years Graph\n",
    "    html.Div(\n",
    "        [dcc.Graph(figure=years_graph)],\n",
    "        style={\n",
    "            \"border-radius\": \"10px\",\n",
    "            \"background-color\": \"#123C69\",\n",
    "            \"margin-bottom\": \"10%\",\n",
    "            \"margin-left\": \"1%\",\n",
    "            \"padding\": 10,\n",
    "            \"display\": \"inline-block\",\n",
    "            \"width\": \"45%\",\n",
    "            \"vertical-align\": \"middle\",\n",
    "        },\n",
    "    ),\n",
    "    # Choice of Distribution\n",
    "    html.Div(\n",
    "        [\n",
    "            dcc.Dropdown(\n",
    "                id=\"distributions-dropdown\",\n",
    "                options=[\n",
    "                    {\"label\": \"Notas do IMDB\", \"value\": \"IMDB_Rating\"},\n",
    "                    {\"label\": \"Notas do MetaCritic\", \"value\": \"Meta_score\"},\n",
    "                    {\"label\": \"Diferença entre IMDB e MetaCritic\", \"value\": \"Diff\"},\n",
    "                    {\"label\": \"Número de Votos\", \"value\": \"Votes\"},\n",
    "                    {\"label\": \"Arrecadação\", \"value\": \"Gross\"},\n",
    "                ],\n",
    "                value=\"IMDB_Rating\",\n",
    "                style={\n",
    "                    \"width\": \"50%\",\n",
    "                    \"margin-left\": \"25%\",\n",
    "                    \"margin-bottom\": \"1%\",\n",
    "                    \"vertical-align\": \"middle\",\n",
    "                    \"horizontal-align\": \"middle\",\n",
    "                },\n",
    "            ),\n",
    "            dcc.Graph(\n",
    "                id=\"distribution-graph\",\n",
    "            ),\n",
    "        ],\n",
    "        style={\n",
    "            \"border-radius\": \"10px\",\n",
    "            \"background-color\": \"#123C69\",\n",
    "            \"margin-bottom\": \"10%\",\n",
    "            \"margin-left\": \"4%\",\n",
    "            \"padding\": 10,\n",
    "            \"display\": \"inline-block\",\n",
    "            \"width\": \"45%\",\n",
    "            \"vertical-align\": \"middle\",\n",
    "        },\n",
    "    ),\n",
    "]"
   ]
  },
  {
   "cell_type": "code",
   "execution_count": 79,
   "metadata": {},
   "outputs": [
    {
     "name": "stderr",
     "output_type": "stream",
     "text": [
      "Address already in use\n",
      "Port 8050 is in use by another program. Either identify and stop that program, or start the server with a different port.\n"
     ]
    },
    {
     "ename": "AssertionError",
     "evalue": "",
     "output_type": "error",
     "traceback": [
      "\u001b[0;31m---------------------------------------------------------------------------\u001b[0m",
      "\u001b[0;31mOSError\u001b[0m                                   Traceback (most recent call last)",
      "File \u001b[0;32m~/miniconda3/lib/python3.9/site-packages/werkzeug/serving.py:710\u001b[0m, in \u001b[0;36mBaseWSGIServer.__init__\u001b[0;34m(self, host, port, app, handler, passthrough_errors, ssl_context, fd)\u001b[0m\n\u001b[1;32m    709\u001b[0m \u001b[38;5;28;01mtry\u001b[39;00m:\n\u001b[0;32m--> 710\u001b[0m     \u001b[38;5;28;43mself\u001b[39;49m\u001b[38;5;241;43m.\u001b[39;49m\u001b[43mserver_bind\u001b[49m\u001b[43m(\u001b[49m\u001b[43m)\u001b[49m\n\u001b[1;32m    711\u001b[0m     \u001b[38;5;28mself\u001b[39m\u001b[38;5;241m.\u001b[39mserver_activate()\n",
      "File \u001b[0;32m~/miniconda3/lib/python3.9/http/server.py:136\u001b[0m, in \u001b[0;36mHTTPServer.server_bind\u001b[0;34m(self)\u001b[0m\n\u001b[1;32m    135\u001b[0m \u001b[38;5;124;03m\"\"\"Override server_bind to store the server name.\"\"\"\u001b[39;00m\n\u001b[0;32m--> 136\u001b[0m \u001b[43msocketserver\u001b[49m\u001b[38;5;241;43m.\u001b[39;49m\u001b[43mTCPServer\u001b[49m\u001b[38;5;241;43m.\u001b[39;49m\u001b[43mserver_bind\u001b[49m\u001b[43m(\u001b[49m\u001b[38;5;28;43mself\u001b[39;49m\u001b[43m)\u001b[49m\n\u001b[1;32m    137\u001b[0m host, port \u001b[38;5;241m=\u001b[39m \u001b[38;5;28mself\u001b[39m\u001b[38;5;241m.\u001b[39mserver_address[:\u001b[38;5;241m2\u001b[39m]\n",
      "File \u001b[0;32m~/miniconda3/lib/python3.9/socketserver.py:466\u001b[0m, in \u001b[0;36mTCPServer.server_bind\u001b[0;34m(self)\u001b[0m\n\u001b[1;32m    465\u001b[0m     \u001b[38;5;28mself\u001b[39m\u001b[38;5;241m.\u001b[39msocket\u001b[38;5;241m.\u001b[39msetsockopt(socket\u001b[38;5;241m.\u001b[39mSOL_SOCKET, socket\u001b[38;5;241m.\u001b[39mSO_REUSEADDR, \u001b[38;5;241m1\u001b[39m)\n\u001b[0;32m--> 466\u001b[0m \u001b[38;5;28;43mself\u001b[39;49m\u001b[38;5;241;43m.\u001b[39;49m\u001b[43msocket\u001b[49m\u001b[38;5;241;43m.\u001b[39;49m\u001b[43mbind\u001b[49m\u001b[43m(\u001b[49m\u001b[38;5;28;43mself\u001b[39;49m\u001b[38;5;241;43m.\u001b[39;49m\u001b[43mserver_address\u001b[49m\u001b[43m)\u001b[49m\n\u001b[1;32m    467\u001b[0m \u001b[38;5;28mself\u001b[39m\u001b[38;5;241m.\u001b[39mserver_address \u001b[38;5;241m=\u001b[39m \u001b[38;5;28mself\u001b[39m\u001b[38;5;241m.\u001b[39msocket\u001b[38;5;241m.\u001b[39mgetsockname()\n",
      "\u001b[0;31mOSError\u001b[0m: [Errno 98] Address already in use",
      "\nDuring handling of the above exception, another exception occurred:\n",
      "\u001b[0;31mSystemExit\u001b[0m                                Traceback (most recent call last)",
      "    \u001b[0;31m[... skipping hidden 1 frame]\u001b[0m\n",
      "Input \u001b[0;32mIn [79]\u001b[0m, in \u001b[0;36m<cell line: 37>\u001b[0;34m()\u001b[0m\n\u001b[1;32m     35\u001b[0m         \u001b[38;5;28;01mreturn\u001b[39;00m imdb_hist\n\u001b[0;32m---> 37\u001b[0m \u001b[43mapp\u001b[49m\u001b[38;5;241;43m.\u001b[39;49m\u001b[43mrun\u001b[49m\u001b[43m(\u001b[49m\u001b[43mdebug\u001b[49m\u001b[38;5;241;43m=\u001b[39;49m\u001b[38;5;28;43;01mTrue\u001b[39;49;00m\u001b[43m,\u001b[49m\u001b[43m \u001b[49m\u001b[43mjupyter_mode\u001b[49m\u001b[38;5;241;43m=\u001b[39;49m\u001b[38;5;124;43m\"\u001b[39;49m\u001b[38;5;124;43mexternal\u001b[39;49m\u001b[38;5;124;43m\"\u001b[39;49m\u001b[43m)\u001b[49m\n",
      "File \u001b[0;32m~/miniconda3/lib/python3.9/site-packages/dash/dash.py:2053\u001b[0m, in \u001b[0;36mDash.run\u001b[0;34m(self, host, port, proxy, debug, jupyter_mode, jupyter_width, jupyter_height, jupyter_server_url, dev_tools_ui, dev_tools_props_check, dev_tools_serve_dev_bundles, dev_tools_hot_reload, dev_tools_hot_reload_interval, dev_tools_hot_reload_watch_interval, dev_tools_hot_reload_max_retry, dev_tools_silence_routes_logging, dev_tools_prune_errors, **flask_run_options)\u001b[0m\n\u001b[1;32m   2052\u001b[0m \u001b[38;5;28;01mif\u001b[39;00m jupyter_dash\u001b[38;5;241m.\u001b[39mactive:\n\u001b[0;32m-> 2053\u001b[0m     \u001b[43mjupyter_dash\u001b[49m\u001b[38;5;241;43m.\u001b[39;49m\u001b[43mrun_app\u001b[49m\u001b[43m(\u001b[49m\n\u001b[1;32m   2054\u001b[0m \u001b[43m        \u001b[49m\u001b[38;5;28;43mself\u001b[39;49m\u001b[43m,\u001b[49m\n\u001b[1;32m   2055\u001b[0m \u001b[43m        \u001b[49m\u001b[43mmode\u001b[49m\u001b[38;5;241;43m=\u001b[39;49m\u001b[43mjupyter_mode\u001b[49m\u001b[43m,\u001b[49m\n\u001b[1;32m   2056\u001b[0m \u001b[43m        \u001b[49m\u001b[43mwidth\u001b[49m\u001b[38;5;241;43m=\u001b[39;49m\u001b[43mjupyter_width\u001b[49m\u001b[43m,\u001b[49m\n\u001b[1;32m   2057\u001b[0m \u001b[43m        \u001b[49m\u001b[43mheight\u001b[49m\u001b[38;5;241;43m=\u001b[39;49m\u001b[43mjupyter_height\u001b[49m\u001b[43m,\u001b[49m\n\u001b[1;32m   2058\u001b[0m \u001b[43m        \u001b[49m\u001b[43mhost\u001b[49m\u001b[38;5;241;43m=\u001b[39;49m\u001b[43mhost\u001b[49m\u001b[43m,\u001b[49m\n\u001b[1;32m   2059\u001b[0m \u001b[43m        \u001b[49m\u001b[43mport\u001b[49m\u001b[38;5;241;43m=\u001b[39;49m\u001b[43mport\u001b[49m\u001b[43m,\u001b[49m\n\u001b[1;32m   2060\u001b[0m \u001b[43m        \u001b[49m\u001b[43mserver_url\u001b[49m\u001b[38;5;241;43m=\u001b[39;49m\u001b[43mjupyter_server_url\u001b[49m\u001b[43m,\u001b[49m\n\u001b[1;32m   2061\u001b[0m \u001b[43m    \u001b[49m\u001b[43m)\u001b[49m\n\u001b[1;32m   2062\u001b[0m \u001b[38;5;28;01melse\u001b[39;00m:\n",
      "File \u001b[0;32m~/miniconda3/lib/python3.9/site-packages/dash/_jupyter.py:329\u001b[0m, in \u001b[0;36mJupyterDash.run_app\u001b[0;34m(self, app, mode, width, height, host, port, server_url)\u001b[0m\n\u001b[1;32m    327\u001b[0m err_q \u001b[38;5;241m=\u001b[39m queue\u001b[38;5;241m.\u001b[39mQueue()\n\u001b[0;32m--> 329\u001b[0m server \u001b[38;5;241m=\u001b[39m \u001b[43mmake_server\u001b[49m\u001b[43m(\u001b[49m\u001b[43mhost\u001b[49m\u001b[43m,\u001b[49m\u001b[43m \u001b[49m\u001b[43mport\u001b[49m\u001b[43m,\u001b[49m\u001b[43m \u001b[49m\u001b[43mapp\u001b[49m\u001b[38;5;241;43m.\u001b[39;49m\u001b[43mserver\u001b[49m\u001b[43m,\u001b[49m\u001b[43m \u001b[49m\u001b[43mthreaded\u001b[49m\u001b[38;5;241;43m=\u001b[39;49m\u001b[38;5;28;43;01mTrue\u001b[39;49;00m\u001b[43m,\u001b[49m\u001b[43m \u001b[49m\u001b[43mprocesses\u001b[49m\u001b[38;5;241;43m=\u001b[39;49m\u001b[38;5;241;43m0\u001b[39;49m\u001b[43m)\u001b[49m\n\u001b[1;32m    330\u001b[0m logging\u001b[38;5;241m.\u001b[39mgetLogger(\u001b[38;5;124m\"\u001b[39m\u001b[38;5;124mwerkzeug\u001b[39m\u001b[38;5;124m\"\u001b[39m)\u001b[38;5;241m.\u001b[39msetLevel(logging\u001b[38;5;241m.\u001b[39mERROR)\n",
      "File \u001b[0;32m~/miniconda3/lib/python3.9/site-packages/werkzeug/serving.py:877\u001b[0m, in \u001b[0;36mmake_server\u001b[0;34m(host, port, app, threaded, processes, request_handler, passthrough_errors, ssl_context, fd)\u001b[0m\n\u001b[1;32m    876\u001b[0m \u001b[38;5;28;01mif\u001b[39;00m threaded:\n\u001b[0;32m--> 877\u001b[0m     \u001b[38;5;28;01mreturn\u001b[39;00m \u001b[43mThreadedWSGIServer\u001b[49m\u001b[43m(\u001b[49m\n\u001b[1;32m    878\u001b[0m \u001b[43m        \u001b[49m\u001b[43mhost\u001b[49m\u001b[43m,\u001b[49m\u001b[43m \u001b[49m\u001b[43mport\u001b[49m\u001b[43m,\u001b[49m\u001b[43m \u001b[49m\u001b[43mapp\u001b[49m\u001b[43m,\u001b[49m\u001b[43m \u001b[49m\u001b[43mrequest_handler\u001b[49m\u001b[43m,\u001b[49m\u001b[43m \u001b[49m\u001b[43mpassthrough_errors\u001b[49m\u001b[43m,\u001b[49m\u001b[43m \u001b[49m\u001b[43mssl_context\u001b[49m\u001b[43m,\u001b[49m\u001b[43m \u001b[49m\u001b[43mfd\u001b[49m\u001b[38;5;241;43m=\u001b[39;49m\u001b[43mfd\u001b[49m\n\u001b[1;32m    879\u001b[0m \u001b[43m    \u001b[49m\u001b[43m)\u001b[49m\n\u001b[1;32m    881\u001b[0m \u001b[38;5;28;01mif\u001b[39;00m processes \u001b[38;5;241m>\u001b[39m \u001b[38;5;241m1\u001b[39m:\n",
      "File \u001b[0;32m~/miniconda3/lib/python3.9/site-packages/werkzeug/serving.py:733\u001b[0m, in \u001b[0;36mBaseWSGIServer.__init__\u001b[0;34m(self, host, port, app, handler, passthrough_errors, ssl_context, fd)\u001b[0m\n\u001b[1;32m    727\u001b[0m             \u001b[38;5;28mprint\u001b[39m(\n\u001b[1;32m    728\u001b[0m                 \u001b[38;5;124m\"\u001b[39m\u001b[38;5;124mOn macOS, try disabling the \u001b[39m\u001b[38;5;124m'\u001b[39m\u001b[38;5;124mAirPlay Receiver\u001b[39m\u001b[38;5;124m'\u001b[39m\u001b[38;5;124m service\u001b[39m\u001b[38;5;124m\"\u001b[39m\n\u001b[1;32m    729\u001b[0m                 \u001b[38;5;124m\"\u001b[39m\u001b[38;5;124m from System Preferences -> Sharing.\u001b[39m\u001b[38;5;124m\"\u001b[39m,\n\u001b[1;32m    730\u001b[0m                 file\u001b[38;5;241m=\u001b[39msys\u001b[38;5;241m.\u001b[39mstderr,\n\u001b[1;32m    731\u001b[0m             )\n\u001b[0;32m--> 733\u001b[0m     \u001b[43msys\u001b[49m\u001b[38;5;241;43m.\u001b[39;49m\u001b[43mexit\u001b[49m\u001b[43m(\u001b[49m\u001b[38;5;241;43m1\u001b[39;49m\u001b[43m)\u001b[49m\n\u001b[1;32m    734\u001b[0m \u001b[38;5;28;01mexcept\u001b[39;00m \u001b[38;5;167;01mBaseException\u001b[39;00m:\n",
      "\u001b[0;31mSystemExit\u001b[0m: 1",
      "\nDuring handling of the above exception, another exception occurred:\n",
      "\u001b[0;31mAssertionError\u001b[0m                            Traceback (most recent call last)",
      "    \u001b[0;31m[... skipping hidden 1 frame]\u001b[0m\n",
      "File \u001b[0;32m~/miniconda3/lib/python3.9/site-packages/IPython/core/interactiveshell.py:1972\u001b[0m, in \u001b[0;36mInteractiveShell.showtraceback\u001b[0;34m(self, exc_tuple, filename, tb_offset, exception_only, running_compiled_code)\u001b[0m\n\u001b[1;32m   1969\u001b[0m \u001b[38;5;28;01mif\u001b[39;00m exception_only:\n\u001b[1;32m   1970\u001b[0m     stb \u001b[38;5;241m=\u001b[39m [\u001b[38;5;124m'\u001b[39m\u001b[38;5;124mAn exception has occurred, use \u001b[39m\u001b[38;5;124m%\u001b[39m\u001b[38;5;124mtb to see \u001b[39m\u001b[38;5;124m'\u001b[39m\n\u001b[1;32m   1971\u001b[0m            \u001b[38;5;124m'\u001b[39m\u001b[38;5;124mthe full traceback.\u001b[39m\u001b[38;5;130;01m\\n\u001b[39;00m\u001b[38;5;124m'\u001b[39m]\n\u001b[0;32m-> 1972\u001b[0m     stb\u001b[38;5;241m.\u001b[39mextend(\u001b[38;5;28;43mself\u001b[39;49m\u001b[38;5;241;43m.\u001b[39;49m\u001b[43mInteractiveTB\u001b[49m\u001b[38;5;241;43m.\u001b[39;49m\u001b[43mget_exception_only\u001b[49m\u001b[43m(\u001b[49m\u001b[43metype\u001b[49m\u001b[43m,\u001b[49m\n\u001b[1;32m   1973\u001b[0m \u001b[43m                                                     \u001b[49m\u001b[43mvalue\u001b[49m\u001b[43m)\u001b[49m)\n\u001b[1;32m   1974\u001b[0m \u001b[38;5;28;01melse\u001b[39;00m:\n\u001b[1;32m   1975\u001b[0m     \u001b[38;5;28;01mtry\u001b[39;00m:\n\u001b[1;32m   1976\u001b[0m         \u001b[38;5;66;03m# Exception classes can customise their traceback - we\u001b[39;00m\n\u001b[1;32m   1977\u001b[0m         \u001b[38;5;66;03m# use this in IPython.parallel for exceptions occurring\u001b[39;00m\n\u001b[1;32m   1978\u001b[0m         \u001b[38;5;66;03m# in the engines. This should return a list of strings.\u001b[39;00m\n",
      "File \u001b[0;32m~/miniconda3/lib/python3.9/site-packages/IPython/core/ultratb.py:585\u001b[0m, in \u001b[0;36mListTB.get_exception_only\u001b[0;34m(self, etype, value)\u001b[0m\n\u001b[1;32m    577\u001b[0m \u001b[38;5;28;01mdef\u001b[39;00m \u001b[38;5;21mget_exception_only\u001b[39m(\u001b[38;5;28mself\u001b[39m, etype, value):\n\u001b[1;32m    578\u001b[0m     \u001b[38;5;124;03m\"\"\"Only print the exception type and message, without a traceback.\u001b[39;00m\n\u001b[1;32m    579\u001b[0m \n\u001b[1;32m    580\u001b[0m \u001b[38;5;124;03m    Parameters\u001b[39;00m\n\u001b[0;32m   (...)\u001b[0m\n\u001b[1;32m    583\u001b[0m \u001b[38;5;124;03m    value : exception value\u001b[39;00m\n\u001b[1;32m    584\u001b[0m \u001b[38;5;124;03m    \"\"\"\u001b[39;00m\n\u001b[0;32m--> 585\u001b[0m     \u001b[38;5;28;01mreturn\u001b[39;00m \u001b[43mListTB\u001b[49m\u001b[38;5;241;43m.\u001b[39;49m\u001b[43mstructured_traceback\u001b[49m\u001b[43m(\u001b[49m\u001b[38;5;28;43mself\u001b[39;49m\u001b[43m,\u001b[49m\u001b[43m \u001b[49m\u001b[43metype\u001b[49m\u001b[43m,\u001b[49m\u001b[43m \u001b[49m\u001b[43mvalue\u001b[49m\u001b[43m)\u001b[49m\n",
      "File \u001b[0;32m~/miniconda3/lib/python3.9/site-packages/IPython/core/ultratb.py:443\u001b[0m, in \u001b[0;36mListTB.structured_traceback\u001b[0;34m(self, etype, evalue, etb, tb_offset, context)\u001b[0m\n\u001b[1;32m    440\u001b[0m     chained_exc_ids\u001b[38;5;241m.\u001b[39madd(\u001b[38;5;28mid\u001b[39m(exception[\u001b[38;5;241m1\u001b[39m]))\n\u001b[1;32m    441\u001b[0m     chained_exceptions_tb_offset \u001b[38;5;241m=\u001b[39m \u001b[38;5;241m0\u001b[39m\n\u001b[1;32m    442\u001b[0m     out_list \u001b[38;5;241m=\u001b[39m (\n\u001b[0;32m--> 443\u001b[0m         \u001b[38;5;28;43mself\u001b[39;49m\u001b[38;5;241;43m.\u001b[39;49m\u001b[43mstructured_traceback\u001b[49m\u001b[43m(\u001b[49m\n\u001b[1;32m    444\u001b[0m \u001b[43m            \u001b[49m\u001b[43metype\u001b[49m\u001b[43m,\u001b[49m\u001b[43m \u001b[49m\u001b[43mevalue\u001b[49m\u001b[43m,\u001b[49m\u001b[43m \u001b[49m\u001b[43m(\u001b[49m\u001b[43metb\u001b[49m\u001b[43m,\u001b[49m\u001b[43m \u001b[49m\u001b[43mchained_exc_ids\u001b[49m\u001b[43m)\u001b[49m\u001b[43m,\u001b[49m\n\u001b[1;32m    445\u001b[0m \u001b[43m            \u001b[49m\u001b[43mchained_exceptions_tb_offset\u001b[49m\u001b[43m,\u001b[49m\u001b[43m \u001b[49m\u001b[43mcontext\u001b[49m\u001b[43m)\u001b[49m\n\u001b[1;32m    446\u001b[0m         \u001b[38;5;241m+\u001b[39m chained_exception_message\n\u001b[1;32m    447\u001b[0m         \u001b[38;5;241m+\u001b[39m out_list)\n\u001b[1;32m    449\u001b[0m \u001b[38;5;28;01mreturn\u001b[39;00m out_list\n",
      "File \u001b[0;32m~/miniconda3/lib/python3.9/site-packages/IPython/core/ultratb.py:1118\u001b[0m, in \u001b[0;36mAutoFormattedTB.structured_traceback\u001b[0;34m(self, etype, value, tb, tb_offset, number_of_lines_of_context)\u001b[0m\n\u001b[1;32m   1116\u001b[0m \u001b[38;5;28;01melse\u001b[39;00m:\n\u001b[1;32m   1117\u001b[0m     \u001b[38;5;28mself\u001b[39m\u001b[38;5;241m.\u001b[39mtb \u001b[38;5;241m=\u001b[39m tb\n\u001b[0;32m-> 1118\u001b[0m \u001b[38;5;28;01mreturn\u001b[39;00m \u001b[43mFormattedTB\u001b[49m\u001b[38;5;241;43m.\u001b[39;49m\u001b[43mstructured_traceback\u001b[49m\u001b[43m(\u001b[49m\n\u001b[1;32m   1119\u001b[0m \u001b[43m    \u001b[49m\u001b[38;5;28;43mself\u001b[39;49m\u001b[43m,\u001b[49m\u001b[43m \u001b[49m\u001b[43metype\u001b[49m\u001b[43m,\u001b[49m\u001b[43m \u001b[49m\u001b[43mvalue\u001b[49m\u001b[43m,\u001b[49m\u001b[43m \u001b[49m\u001b[43mtb\u001b[49m\u001b[43m,\u001b[49m\u001b[43m \u001b[49m\u001b[43mtb_offset\u001b[49m\u001b[43m,\u001b[49m\u001b[43m \u001b[49m\u001b[43mnumber_of_lines_of_context\u001b[49m\u001b[43m)\u001b[49m\n",
      "File \u001b[0;32m~/miniconda3/lib/python3.9/site-packages/IPython/core/ultratb.py:1012\u001b[0m, in \u001b[0;36mFormattedTB.structured_traceback\u001b[0;34m(self, etype, value, tb, tb_offset, number_of_lines_of_context)\u001b[0m\n\u001b[1;32m   1009\u001b[0m mode \u001b[38;5;241m=\u001b[39m \u001b[38;5;28mself\u001b[39m\u001b[38;5;241m.\u001b[39mmode\n\u001b[1;32m   1010\u001b[0m \u001b[38;5;28;01mif\u001b[39;00m mode \u001b[38;5;129;01min\u001b[39;00m \u001b[38;5;28mself\u001b[39m\u001b[38;5;241m.\u001b[39mverbose_modes:\n\u001b[1;32m   1011\u001b[0m     \u001b[38;5;66;03m# Verbose modes need a full traceback\u001b[39;00m\n\u001b[0;32m-> 1012\u001b[0m     \u001b[38;5;28;01mreturn\u001b[39;00m \u001b[43mVerboseTB\u001b[49m\u001b[38;5;241;43m.\u001b[39;49m\u001b[43mstructured_traceback\u001b[49m\u001b[43m(\u001b[49m\n\u001b[1;32m   1013\u001b[0m \u001b[43m        \u001b[49m\u001b[38;5;28;43mself\u001b[39;49m\u001b[43m,\u001b[49m\u001b[43m \u001b[49m\u001b[43metype\u001b[49m\u001b[43m,\u001b[49m\u001b[43m \u001b[49m\u001b[43mvalue\u001b[49m\u001b[43m,\u001b[49m\u001b[43m \u001b[49m\u001b[43mtb\u001b[49m\u001b[43m,\u001b[49m\u001b[43m \u001b[49m\u001b[43mtb_offset\u001b[49m\u001b[43m,\u001b[49m\u001b[43m \u001b[49m\u001b[43mnumber_of_lines_of_context\u001b[49m\n\u001b[1;32m   1014\u001b[0m \u001b[43m    \u001b[49m\u001b[43m)\u001b[49m\n\u001b[1;32m   1015\u001b[0m \u001b[38;5;28;01melif\u001b[39;00m mode \u001b[38;5;241m==\u001b[39m \u001b[38;5;124m'\u001b[39m\u001b[38;5;124mMinimal\u001b[39m\u001b[38;5;124m'\u001b[39m:\n\u001b[1;32m   1016\u001b[0m     \u001b[38;5;28;01mreturn\u001b[39;00m ListTB\u001b[38;5;241m.\u001b[39mget_exception_only(\u001b[38;5;28mself\u001b[39m, etype, value)\n",
      "File \u001b[0;32m~/miniconda3/lib/python3.9/site-packages/IPython/core/ultratb.py:865\u001b[0m, in \u001b[0;36mVerboseTB.structured_traceback\u001b[0;34m(self, etype, evalue, etb, tb_offset, number_of_lines_of_context)\u001b[0m\n\u001b[1;32m    856\u001b[0m \u001b[38;5;28;01mdef\u001b[39;00m \u001b[38;5;21mstructured_traceback\u001b[39m(\n\u001b[1;32m    857\u001b[0m     \u001b[38;5;28mself\u001b[39m,\n\u001b[1;32m    858\u001b[0m     etype: \u001b[38;5;28mtype\u001b[39m,\n\u001b[0;32m   (...)\u001b[0m\n\u001b[1;32m    862\u001b[0m     number_of_lines_of_context: \u001b[38;5;28mint\u001b[39m \u001b[38;5;241m=\u001b[39m \u001b[38;5;241m5\u001b[39m,\n\u001b[1;32m    863\u001b[0m ):\n\u001b[1;32m    864\u001b[0m     \u001b[38;5;124;03m\"\"\"Return a nice text document describing the traceback.\"\"\"\u001b[39;00m\n\u001b[0;32m--> 865\u001b[0m     formatted_exception \u001b[38;5;241m=\u001b[39m \u001b[38;5;28;43mself\u001b[39;49m\u001b[38;5;241;43m.\u001b[39;49m\u001b[43mformat_exception_as_a_whole\u001b[49m\u001b[43m(\u001b[49m\u001b[43metype\u001b[49m\u001b[43m,\u001b[49m\u001b[43m \u001b[49m\u001b[43mevalue\u001b[49m\u001b[43m,\u001b[49m\u001b[43m \u001b[49m\u001b[43metb\u001b[49m\u001b[43m,\u001b[49m\u001b[43m \u001b[49m\u001b[43mnumber_of_lines_of_context\u001b[49m\u001b[43m,\u001b[49m\n\u001b[1;32m    866\u001b[0m \u001b[43m                                                           \u001b[49m\u001b[43mtb_offset\u001b[49m\u001b[43m)\u001b[49m\n\u001b[1;32m    868\u001b[0m     colors \u001b[38;5;241m=\u001b[39m \u001b[38;5;28mself\u001b[39m\u001b[38;5;241m.\u001b[39mColors  \u001b[38;5;66;03m# just a shorthand + quicker name lookup\u001b[39;00m\n\u001b[1;32m    869\u001b[0m     colorsnormal \u001b[38;5;241m=\u001b[39m colors\u001b[38;5;241m.\u001b[39mNormal  \u001b[38;5;66;03m# used a lot\u001b[39;00m\n",
      "File \u001b[0;32m~/miniconda3/lib/python3.9/site-packages/IPython/core/ultratb.py:799\u001b[0m, in \u001b[0;36mVerboseTB.format_exception_as_a_whole\u001b[0;34m(self, etype, evalue, etb, number_of_lines_of_context, tb_offset)\u001b[0m\n\u001b[1;32m    796\u001b[0m \u001b[38;5;28;01massert\u001b[39;00m \u001b[38;5;28misinstance\u001b[39m(tb_offset, \u001b[38;5;28mint\u001b[39m)\n\u001b[1;32m    797\u001b[0m head \u001b[38;5;241m=\u001b[39m \u001b[38;5;28mself\u001b[39m\u001b[38;5;241m.\u001b[39mprepare_header(etype, \u001b[38;5;28mself\u001b[39m\u001b[38;5;241m.\u001b[39mlong_header)\n\u001b[1;32m    798\u001b[0m records \u001b[38;5;241m=\u001b[39m (\n\u001b[0;32m--> 799\u001b[0m     \u001b[38;5;28;43mself\u001b[39;49m\u001b[38;5;241;43m.\u001b[39;49m\u001b[43mget_records\u001b[49m\u001b[43m(\u001b[49m\u001b[43metb\u001b[49m\u001b[43m,\u001b[49m\u001b[43m \u001b[49m\u001b[43mnumber_of_lines_of_context\u001b[49m\u001b[43m,\u001b[49m\u001b[43m \u001b[49m\u001b[43mtb_offset\u001b[49m\u001b[43m)\u001b[49m \u001b[38;5;28;01mif\u001b[39;00m etb \u001b[38;5;28;01melse\u001b[39;00m []\n\u001b[1;32m    800\u001b[0m )\n\u001b[1;32m    802\u001b[0m frames \u001b[38;5;241m=\u001b[39m []\n\u001b[1;32m    803\u001b[0m skipped \u001b[38;5;241m=\u001b[39m \u001b[38;5;241m0\u001b[39m\n",
      "File \u001b[0;32m~/miniconda3/lib/python3.9/site-packages/IPython/core/ultratb.py:854\u001b[0m, in \u001b[0;36mVerboseTB.get_records\u001b[0;34m(self, etb, number_of_lines_of_context, tb_offset)\u001b[0m\n\u001b[1;32m    848\u001b[0m     formatter \u001b[38;5;241m=\u001b[39m \u001b[38;5;28;01mNone\u001b[39;00m\n\u001b[1;32m    849\u001b[0m options \u001b[38;5;241m=\u001b[39m stack_data\u001b[38;5;241m.\u001b[39mOptions(\n\u001b[1;32m    850\u001b[0m     before\u001b[38;5;241m=\u001b[39mbefore,\n\u001b[1;32m    851\u001b[0m     after\u001b[38;5;241m=\u001b[39mafter,\n\u001b[1;32m    852\u001b[0m     pygments_formatter\u001b[38;5;241m=\u001b[39mformatter,\n\u001b[1;32m    853\u001b[0m )\n\u001b[0;32m--> 854\u001b[0m \u001b[38;5;28;01mreturn\u001b[39;00m \u001b[38;5;28;43mlist\u001b[39;49m\u001b[43m(\u001b[49m\u001b[43mstack_data\u001b[49m\u001b[38;5;241;43m.\u001b[39;49m\u001b[43mFrameInfo\u001b[49m\u001b[38;5;241;43m.\u001b[39;49m\u001b[43mstack_data\u001b[49m\u001b[43m(\u001b[49m\u001b[43metb\u001b[49m\u001b[43m,\u001b[49m\u001b[43m \u001b[49m\u001b[43moptions\u001b[49m\u001b[38;5;241;43m=\u001b[39;49m\u001b[43moptions\u001b[49m\u001b[43m)\u001b[49m\u001b[43m)\u001b[49m[tb_offset:]\n",
      "File \u001b[0;32m~/miniconda3/lib/python3.9/site-packages/stack_data/core.py:546\u001b[0m, in \u001b[0;36mFrameInfo.stack_data\u001b[0;34m(cls, frame_or_tb, options, collapse_repeated_frames)\u001b[0m\n\u001b[1;32m    530\u001b[0m \u001b[38;5;129m@classmethod\u001b[39m\n\u001b[1;32m    531\u001b[0m \u001b[38;5;28;01mdef\u001b[39;00m \u001b[38;5;21mstack_data\u001b[39m(\n\u001b[1;32m    532\u001b[0m         \u001b[38;5;28mcls\u001b[39m,\n\u001b[0;32m   (...)\u001b[0m\n\u001b[1;32m    536\u001b[0m         collapse_repeated_frames: \u001b[38;5;28mbool\u001b[39m \u001b[38;5;241m=\u001b[39m \u001b[38;5;28;01mTrue\u001b[39;00m\n\u001b[1;32m    537\u001b[0m ) \u001b[38;5;241m-\u001b[39m\u001b[38;5;241m>\u001b[39m Iterator[Union[\u001b[38;5;124m'\u001b[39m\u001b[38;5;124mFrameInfo\u001b[39m\u001b[38;5;124m'\u001b[39m, RepeatedFrames]]:\n\u001b[1;32m    538\u001b[0m     \u001b[38;5;124;03m\"\"\"\u001b[39;00m\n\u001b[1;32m    539\u001b[0m \u001b[38;5;124;03m    An iterator of FrameInfo and RepeatedFrames objects representing\u001b[39;00m\n\u001b[1;32m    540\u001b[0m \u001b[38;5;124;03m    a full traceback or stack. Similar consecutive frames are collapsed into RepeatedFrames\u001b[39;00m\n\u001b[0;32m   (...)\u001b[0m\n\u001b[1;32m    544\u001b[0m \u001b[38;5;124;03m    and optionally an Options object to configure.\u001b[39;00m\n\u001b[1;32m    545\u001b[0m \u001b[38;5;124;03m    \"\"\"\u001b[39;00m\n\u001b[0;32m--> 546\u001b[0m     stack \u001b[38;5;241m=\u001b[39m \u001b[38;5;28;43mlist\u001b[39;49m\u001b[43m(\u001b[49m\u001b[43miter_stack\u001b[49m\u001b[43m(\u001b[49m\u001b[43mframe_or_tb\u001b[49m\u001b[43m)\u001b[49m\u001b[43m)\u001b[49m\n\u001b[1;32m    548\u001b[0m     \u001b[38;5;66;03m# Reverse the stack from a frame so that it's in the same order\u001b[39;00m\n\u001b[1;32m    549\u001b[0m     \u001b[38;5;66;03m# as the order from a traceback, which is the order of a printed\u001b[39;00m\n\u001b[1;32m    550\u001b[0m     \u001b[38;5;66;03m# traceback when read top to bottom (most recent call last)\u001b[39;00m\n\u001b[1;32m    551\u001b[0m     \u001b[38;5;28;01mif\u001b[39;00m is_frame(frame_or_tb):\n",
      "File \u001b[0;32m~/miniconda3/lib/python3.9/site-packages/stack_data/utils.py:98\u001b[0m, in \u001b[0;36miter_stack\u001b[0;34m(frame_or_tb)\u001b[0m\n\u001b[1;32m     96\u001b[0m \u001b[38;5;28;01mwhile\u001b[39;00m frame_or_tb:\n\u001b[1;32m     97\u001b[0m     \u001b[38;5;28;01myield\u001b[39;00m frame_or_tb\n\u001b[0;32m---> 98\u001b[0m     \u001b[38;5;28;01mif\u001b[39;00m \u001b[43mis_frame\u001b[49m\u001b[43m(\u001b[49m\u001b[43mframe_or_tb\u001b[49m\u001b[43m)\u001b[49m:\n\u001b[1;32m     99\u001b[0m         frame_or_tb \u001b[38;5;241m=\u001b[39m frame_or_tb\u001b[38;5;241m.\u001b[39mf_back\n\u001b[1;32m    100\u001b[0m     \u001b[38;5;28;01melse\u001b[39;00m:\n",
      "File \u001b[0;32m~/miniconda3/lib/python3.9/site-packages/stack_data/utils.py:91\u001b[0m, in \u001b[0;36mis_frame\u001b[0;34m(frame_or_tb)\u001b[0m\n\u001b[1;32m     90\u001b[0m \u001b[38;5;28;01mdef\u001b[39;00m \u001b[38;5;21mis_frame\u001b[39m(frame_or_tb: Union[FrameType, TracebackType]) \u001b[38;5;241m-\u001b[39m\u001b[38;5;241m>\u001b[39m \u001b[38;5;28mbool\u001b[39m:\n\u001b[0;32m---> 91\u001b[0m     \u001b[43massert_\u001b[49m\u001b[43m(\u001b[49m\u001b[38;5;28;43misinstance\u001b[39;49m\u001b[43m(\u001b[49m\u001b[43mframe_or_tb\u001b[49m\u001b[43m,\u001b[49m\u001b[43m \u001b[49m\u001b[43m(\u001b[49m\u001b[43mtypes\u001b[49m\u001b[38;5;241;43m.\u001b[39;49m\u001b[43mFrameType\u001b[49m\u001b[43m,\u001b[49m\u001b[43m \u001b[49m\u001b[43mtypes\u001b[49m\u001b[38;5;241;43m.\u001b[39;49m\u001b[43mTracebackType\u001b[49m\u001b[43m)\u001b[49m\u001b[43m)\u001b[49m\u001b[43m)\u001b[49m\n\u001b[1;32m     92\u001b[0m     \u001b[38;5;28;01mreturn\u001b[39;00m \u001b[38;5;28misinstance\u001b[39m(frame_or_tb, (types\u001b[38;5;241m.\u001b[39mFrameType,))\n",
      "File \u001b[0;32m~/miniconda3/lib/python3.9/site-packages/stack_data/utils.py:172\u001b[0m, in \u001b[0;36massert_\u001b[0;34m(condition, error)\u001b[0m\n\u001b[1;32m    170\u001b[0m \u001b[38;5;28;01mif\u001b[39;00m \u001b[38;5;28misinstance\u001b[39m(error, \u001b[38;5;28mstr\u001b[39m):\n\u001b[1;32m    171\u001b[0m     error \u001b[38;5;241m=\u001b[39m \u001b[38;5;167;01mAssertionError\u001b[39;00m(error)\n\u001b[0;32m--> 172\u001b[0m \u001b[38;5;28;01mraise\u001b[39;00m error\n",
      "\u001b[0;31mAssertionError\u001b[0m: "
     ]
    }
   ],
   "source": [
    "app = dash.Dash(\"IMDB Analysis\")\n",
    "\n",
    "app.layout = html.Div(\n",
    "    children=[\n",
    "        html.H1(\n",
    "            \"Dashboard Filmes do IMDB\",\n",
    "            style={\n",
    "                \"text-align\": \"center\",\n",
    "                \"color\": \"#AC3B61\",\n",
    "                \"font-size\": \"50px\",\n",
    "                \"margin-top\": \"0%\",\n",
    "            },\n",
    "        ),\n",
    "        *analise_univariada,\n",
    "    ],\n",
    "    style={\n",
    "        \"backgroundColor\": \"#EDC7B7\",\n",
    "    },\n",
    ")\n",
    "\n",
    "@app.callback(\n",
    "    dash.dependencies.Output(\"distribution-graph\", \"figure\"),\n",
    "    [dash.dependencies.Input(\"distributions-dropdown\", \"value\")],\n",
    ")\n",
    "def update_graph_distributions(column):\n",
    "    if column == \"Meta_score\":\n",
    "        return metacritic_hist\n",
    "    elif column == \"Gross\":\n",
    "        return gross_hist\n",
    "    elif column == \"Diff\":\n",
    "        return diff_hist\n",
    "    elif column == \"Votes\":\n",
    "        return votes_hist\n",
    "    else:\n",
    "        return imdb_hist\n",
    "    \n",
    "app.run(debug=True, jupyter_mode=\"external\")"
   ]
  },
  {
   "cell_type": "code",
   "execution_count": null,
   "metadata": {},
   "outputs": [],
   "source": []
  }
 ],
 "metadata": {
  "kernelspec": {
   "display_name": "Python 3 (ipykernel)",
   "language": "python",
   "name": "python3"
  },
  "language_info": {
   "codemirror_mode": {
    "name": "ipython",
    "version": 3
   },
   "file_extension": ".py",
   "mimetype": "text/x-python",
   "name": "python",
   "nbconvert_exporter": "python",
   "pygments_lexer": "ipython3",
   "version": "3.9.12"
  }
 },
 "nbformat": 4,
 "nbformat_minor": 2
}
