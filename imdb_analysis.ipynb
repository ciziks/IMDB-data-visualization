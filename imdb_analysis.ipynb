{
 "cells": [
  {
   "cell_type": "markdown",
   "metadata": {},
   "source": [
    "# IMDB Data Visualization\n",
    "\n",
    "## Projeto da disciplina **SSC0252 - Visualização Computacional**\n",
    "\n",
    "* Lucas Ivars Cadima Ciziks - luciziks@usp.br - 125599472\n",
    "\n",
    "* Gustavo Silva de Oliveira - guspfc03@usp.br - 12567231\n",
    "\n",
    "---"
   ]
  },
  {
   "cell_type": "markdown",
   "metadata": {},
   "source": [
    "# 1. Introdução"
   ]
  },
  {
   "cell_type": "markdown",
   "metadata": {},
   "source": [
    "A base de dados  \"IMDB Movies Dataset\" é uma valiosa fonte de informações para cinéfilos e pesquisadores do mundo cinematográfico. Composta por uma cuidadosa seleção dos mil filmes mais bem avaliados pela plataforma IMDB, essa base oferece uma visão abrangente e imersiva das tendências cinematográficas. Cada entrada contém detalhes assertivos, como o título do filme, gênero, classificação do IMDB, ano de lançamento, proporcionando um conjunto de dados robusto que pode ser utilizado para análises, estudos de tendências e até mesmo para orientar fãs do cinema na busca por suas próximas obras-primas a assistir. A riqueza de informações contidas nessa base de dados a torna uma ferramenta indispensável para explorar e compreender a evolução do cinema ao longo das décadas."
   ]
  },
  {
   "cell_type": "markdown",
   "metadata": {},
   "source": [
    "---"
   ]
  },
  {
   "cell_type": "markdown",
   "metadata": {},
   "source": [
    "# 2. Compreensão dos Dados"
   ]
  },
  {
   "cell_type": "markdown",
   "metadata": {},
   "source": [
    "O projeto está armazenado no respositório disponível em [Github](https://github.com/ciziks/IMDB-data-visualization)."
   ]
  },
  {
   "cell_type": "markdown",
   "metadata": {},
   "source": [
    "## 2.1. Coleta dos Dados"
   ]
  },
  {
   "cell_type": "markdown",
   "metadata": {},
   "source": [
    "O conjunto de dados utilizado para a análise do projeto foi extraído da plataforma Kaggle, disponível em [IMDB Movies Dataset](https://www.kaggle.com/datasets/harshitshankhdhar/imdb-dataset-of-top-1000-movies-and-tv-shows). Os dados se referem às 1000 produções audiovisuais com maior nota no site [IMDB](https://www.imdb.com)."
   ]
  },
  {
   "cell_type": "markdown",
   "metadata": {},
   "source": [
    "## 2.2. Dicionário de Dados"
   ]
  },
  {
   "cell_type": "markdown",
   "metadata": {},
   "source": [
    "* **Series_Title**: Nome do Filme;\n",
    "\n",
    "* **Released_Year** - Ano de lançamento do Filme;\n",
    "\n",
    "* **Certificate** - Certificado do Filme;\n",
    "\n",
    "* **Runtime** - Duração total do Filme;\n",
    "\n",
    "* **Genre** - Gêneros do Filme;\n",
    "\n",
    "* **IMDB_Rating** - Nota do Filme no site do IMDB (0 - 10);\n",
    "\n",
    "* **Overview** - Sinopse do Filme;\n",
    "\n",
    "* **Meta_score** - Nota do Filme no site do MetaCritic (0 - 100);\n",
    "\n",
    "* **Director** - Nome do Diretor;\n",
    "\n",
    "* **Star1, Star2, Star3, Star4** - Nome dos atores que estrelaram o Filme;\n",
    "\n",
    "* **No_of_votes** - Número de votos do Filme;\n",
    "\n",
    "* **Gross** - Arrecadação do Filme;\n",
    "\n",
    "* **Poster_Link** - Link do poster do Filme no IMDB."
   ]
  },
  {
   "cell_type": "markdown",
   "metadata": {},
   "source": [
    "## 2.3. Tipo das Variáveis"
   ]
  },
  {
   "cell_type": "markdown",
   "metadata": {},
   "source": [
    "* **Variáveis Qualitativas**\n",
    "    * Ordinais\n",
    "        * Released_Year;\n",
    "        * Certificate.\n",
    "\n",
    "    * Nominais:\n",
    "        * Series_Title;\n",
    "        * Genre;\n",
    "        * Overview;\n",
    "        * Director;\n",
    "        * Star1, Star2, Star3, Star4.\n",
    "\n",
    "\n",
    "\n",
    "* **Variáveis Quantitativas**:\n",
    "    * Discretas:\n",
    "        * Runtime;\n",
    "        * Meta_score;\n",
    "        * No_of_Votes.\n",
    "\n",
    "    * Contínuas:\n",
    "        * IMDB_Rating;\n",
    "        * Gross."
   ]
  },
  {
   "cell_type": "markdown",
   "metadata": {},
   "source": [
    "---"
   ]
  },
  {
   "cell_type": "markdown",
   "metadata": {},
   "source": [
    "# 3. Tratamento dos Dados"
   ]
  },
  {
   "cell_type": "code",
   "execution_count": null,
   "metadata": {},
   "outputs": [],
   "source": []
  },
  {
   "cell_type": "markdown",
   "metadata": {},
   "source": [
    "---"
   ]
  },
  {
   "cell_type": "markdown",
   "metadata": {},
   "source": [
    "# 4. Análise Exploratória dos Dados"
   ]
  },
  {
   "cell_type": "code",
   "execution_count": null,
   "metadata": {},
   "outputs": [],
   "source": []
  }
 ],
 "metadata": {
  "kernelspec": {
   "display_name": "Python 3 (ipykernel)",
   "language": "python",
   "name": "python3"
  },
  "language_info": {
   "codemirror_mode": {
    "name": "ipython",
    "version": 3
   },
   "file_extension": ".py",
   "mimetype": "text/x-python",
   "name": "python",
   "nbconvert_exporter": "python",
   "pygments_lexer": "ipython3",
   "version": "3.9.12"
  }
 },
 "nbformat": 4,
 "nbformat_minor": 2
}
